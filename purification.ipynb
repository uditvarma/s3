{
 "cells": [
  {
   "cell_type": "code",
   "execution_count": null,
   "id": "a53dcc2c",
   "metadata": {},
   "outputs": [
    {
     "data": {
      "text/plain": [
       "neel_spin1_complex (generic function with 1 method)"
      ]
     },
     "metadata": {},
     "output_type": "display_data"
    }
   ],
   "source": [
    "using SparseArrays\n",
    "using LinearAlgebra\n",
    "using Arpack\n",
    "using Statistics\n",
    "using Random\n",
    "using DelimitedFiles\n",
    "using NPZ\n",
    "using ExpmV\n",
    "\n",
    "\"\"\"\n",
    "function von_neumann_entropy(ψ::Vector{<:Complex}, cut::Int, L::Int)\n",
    "    dimA = 3^cut\n",
    "    dimB = 3^(L - cut)\n",
    "    ψ_matrix = reshape(ψ, (dimA, dimB))\n",
    "    svals = svdvals(ψ_matrix)\n",
    "    S = 0.0\n",
    "    for s in svals\n",
    "        if s > 1e-15\n",
    "            p = abs2(s)\n",
    "            S -= p * log(p)\n",
    "        end\n",
    "    end\n",
    "    return S\n",
    "end\n",
    "\"\"\"\n",
    "function random_product_state(L::Int)\n",
    "    product_state = nothing\n",
    "\n",
    "    for i in 1:L\n",
    "        θ1 = rand() * π\n",
    "        θ2 = rand() * π\n",
    "        ϕ1 = rand() * 2π\n",
    "        ϕ2 = rand() * 2π\n",
    "\n",
    "        c1 = cos(θ1 / 2)\n",
    "        c2 = exp(im * ϕ1) * sin(θ1 / 2) * sin(θ2 / 2)\n",
    "        c3 = exp(im * ϕ2) * sin(θ1 / 2) * cos(θ2 / 2)\n",
    "\n",
    "        temp_state = [c1, c2, c3]\n",
    "\n",
    "        if i == 1\n",
    "            product_state = temp_state\n",
    "        else\n",
    "            product_state = kron(product_state, temp_state)\n",
    "        end\n",
    "    end\n",
    "\n",
    "    # Normalize the state\n",
    "    product_state /= norm(product_state)\n",
    "\n",
    "    return product_state\n",
    "end\n",
    "\n",
    "\"\"\"\n",
    "function time_evolution(ψ::Vector{ComplexF64}, dt::Float64, L)\n",
    "    ψ /= norm(ψ)\n",
    "    H, _, _ = Hamiltonian(L)\n",
    "    a = 2π * rand()\n",
    "    # Apply exp(-im * H * dt) directly to ψ\n",
    "    ψ_new = expmv(-im * a * dt, H, ψ)\n",
    "\n",
    "    # Normalize the state\n",
    "    ψ_new /= norm(ψ_new)\n",
    "    \n",
    "    return ψ_new\n",
    "end\n",
    "\n",
    "\n",
    "function I3(psi::Vector{ComplexF64})\n",
    "    log3(x) = log(x) / log(3)\n",
    "\n",
    "    L = Int(round(log3(length(psi))))\n",
    "    qL = L ÷ 4\n",
    "\n",
    "    SA   = von_neumann_entropy(psi, qL, L)\n",
    "    SB   = von_neumann_entropy(psi, 2qL, L)\n",
    "    SC   = von_neumann_entropy(psi, 3qL, L)\n",
    "    SABC = von_neumann_entropy(psi, L, L) ### seems quite sus\n",
    "    SAB  = von_neumann_entropy(psi, 2qL, L)\n",
    "    SAC  = von_neumann_entropy(psi, 3qL, L)\n",
    "    SBC  = von_neumann_entropy(psi, 3qL, L)\n",
    "    \n",
    "    return SA + SB + SC + SABC - SAB - SAC - SBC\n",
    "end\n",
    "\"\"\"\n",
    "\n",
    "function Hamiltonian(L)\n",
    "    # Define Pauli matrices as complex sparse matrices\n",
    "    id = sparse(ComplexF64[1 0 0; 0 1 0; 0 0 1])\n",
    "    sx = 1/sqrt(2) * sparse(ComplexF64[0 1 0; 1 0 1; 0 1 0])\n",
    "    sy = 1/sqrt(2) * sparse(ComplexF64[0 -im 0; im 0 -im; 0 im 0])\n",
    "    sz = sparse(ComplexF64[1 0 0; 0 0 0; 0 0 -1])\n",
    "\n",
    "    sp = 1/sqrt(2) * (sx + im * sy)\n",
    "    sm = 1/sqrt(2) * (sx - im * sy)\n",
    "\n",
    "    # Preallocate vectors of operators with correct type\n",
    "    #sx_list = Vector{SparseMatrixCSC{ComplexF64, Int}}(undef, L)\n",
    "    #sy_list = Vector{SparseMatrixCSC{ComplexF64, Int}}(undef, L)\n",
    "    szl = Vector{SparseMatrixCSC{ComplexF64, Int}}(undef, L) # List of sz operators\n",
    "    sz2l = Vector{SparseMatrixCSC{ComplexF64, Int}}(undef, L) # List of sz² operators\n",
    "    spl = Vector{SparseMatrixCSC{ComplexF64, Int}}(undef, L) # List of sp operators\n",
    "    sml = Vector{SparseMatrixCSC{ComplexF64, Int}}(undef, L) # List of sm operators\n",
    "\n",
    "    for i_site in 1:L\n",
    "        p_ops = fill(id, L)\n",
    "        m_ops = fill(id, L)\n",
    "        z_ops = fill(id, L)\n",
    "        z2_ops = fill(id, L)\n",
    "        p_ops[i_site] = sp\n",
    "        m_ops[i_site] = sm\n",
    "        z_ops[i_site] = sz\n",
    "        z2_ops[i_site] = sz^2\n",
    "\n",
    "        # Build the full operator by tensoring\n",
    "        P = p_ops[1]\n",
    "        M = m_ops[1]\n",
    "        Z = z_ops[1]\n",
    "        Z2 = z2_ops[1]\n",
    "        for j in 2:L\n",
    "            P = kron(P, p_ops[j])\n",
    "            M = kron(M, m_ops[j])\n",
    "            Z = kron(Z, z_ops[j])\n",
    "            Z2 = kron(Z2, z2_ops[j])\n",
    "        end\n",
    "\n",
    "        spl[i_site] = P\n",
    "        sml[i_site] = M\n",
    "        szl[i_site] = Z\n",
    "        sz2l[i_site] = Z2\n",
    "    end\n",
    "\n",
    "    dim = 3^L\n",
    "    Ha = spzeros(ComplexF64, dim, dim)\n",
    "\n",
    "    for i in 1:L\n",
    "        ip = (i % L) + 1  # Periodic boundary\n",
    "        Ha += ((spl[i]^2 * sml[ip]^2 + sml[i]^2 * spl[ip]^2) + adjoint((spl[i]^2 * sml[ip]^2 + sml[i]^2 * spl[ip]^2)))\n",
    "    end\n",
    "\n",
    "    Hb = spzeros(ComplexF64, dim, dim)\n",
    "\n",
    "    for i in 1:L\n",
    "        ip = (i % L) + 1  # Periodic boundary\n",
    "        Hb += (spl[i] * szl[i] * sml[ip] * szl[ip] + sml[i] * szl[i] * spl[ip] * szl[ip] + adjoint(spl[i] * szl[i] * sml[ip] * szl[ip]) + adjoint(sml[i] * szl[i] * spl[ip] * szl[ip]))\n",
    "    end\n",
    "\n",
    "    Hc = spzeros(ComplexF64, dim, dim)\n",
    "\n",
    "    for i in 1:L\n",
    "        ip = (i % L) + 1  # Periodic boundary\n",
    "        Hc += (spl[i]^2 * spl[ip] * szl[ip] + sml[i]^2 * sml[ip] * szl[ip] + adjoint(spl[i]^2 * spl[ip] * szl[ip]) + adjoint(sml[i]^2 * sml[ip] * szl[ip]))\n",
    "    end\n",
    "\n",
    "    return Ha, Hb, Hc, sz2l, szl \n",
    "end\n",
    "\n",
    "### This function is for Z measurements only\n",
    "\n",
    "function Entropy_t_z(L::Int, T::Float64, dt::Float64, p::Float64, shot::Int)\n",
    "    Random.seed!(shot)  # Set random seed\n",
    "    s_t = random_product_state(L)\n",
    "    #s_t = neel_spin1_complex(L)  # Use the Néel state as the initial state \n",
    "    S_list = Float64[]\n",
    "\n",
    "    # Define Hamiltonian and local observables\n",
    "    _, _, _, sz2l, szl = Hamiltonian(L)\n",
    "    sm_list = szl\n",
    "    steps = Int(floor(T / dt))\n",
    "\n",
    "    for _ in 1:steps\n",
    "        #push!(S_list, entropy_vn(s_t, L, 1:L÷2)) ## Half-chain entropy\n",
    "        push!(S_list, tmi(s_t))\n",
    "\n",
    "        # Time evolution\n",
    "        s_t = time_evolution(s_t, dt, L, shot)\n",
    "        s_t /= norm(s_t)\n",
    "\n",
    "        # Measurements\n",
    "        if p != 0\n",
    "            for l in 1:L\n",
    "                x = rand()\n",
    "                if x < p\n",
    "                    p_m_mone = 0.5 * real(s_t' * (sz2l[l] - sm_list[l]) * s_t)\n",
    "                    p_m_one = 0.5 * real(s_t' * (sz2l[l] + sm_list[l]) * s_t)\n",
    "                    x1 = rand()\n",
    "                    if x1 < p_m_mone\n",
    "                        s_t = 0.5 * ((sz2l[l]-sm_list[l]) * s_t) / sqrt(p_m_mone)\n",
    "                    elseif p_m_mone < x1 < p_m_one + p_m_mone\n",
    "                        s_t = 0.5 * ((sz2l[l]+sm_list[l]) * s_t) / sqrt(p_m_one)\n",
    "                    else\n",
    "                        s_t = (s_t - sz2l[l] * s_t) / sqrt(1 - p_m_mone - p_m_one)\n",
    "                    end\n",
    "                end\n",
    "            end\n",
    "        end\n",
    "    end\n",
    "\n",
    "    # Save result to disk\n",
    "    filename = \"L$(L),T$(T),dt$(dt),p$(p),dirZ,s$(shot).npy\"\n",
    "    npzwrite(filename, S_list)\n",
    "    \n",
    "\n",
    "    \"\"\"\n",
    "    folder = \"/Users/uditvarma/Documents/s3/data\"\n",
    "    filename = joinpath(folder, \"L$(L),T$(T),dt$(dt),p$(p),dirZ,s$(shot).npy\")\n",
    "    npzwrite(filename, S_list)\n",
    "    \"\"\"\n",
    "    \n",
    "    return S_list\n",
    "end\n",
    "\n",
    "\"\"\"\n",
    "function Hamiltonian(L)\n",
    "    # Define Pauli matrices as complex sparse matrices\n",
    "    id = sparse(ComplexF64[1 0 0; 0 1 0; 0 0 1])\n",
    "    sx = 1/sqrt(2) * sparse(ComplexF64[0 1 0; 1 0 1; 0 1 0])\n",
    "    sy = 1/sqrt(2) * sparse(ComplexF64[0 -im 0; im 0 -im; 0 im 0])\n",
    "    sz = sparse(ComplexF64[1 0 0; 0 0 0; 0 0 -1])\n",
    "\n",
    "    sp = 1/sqrt(2) * (sx + im * sy)\n",
    "    sm = 1/sqrt(2) * (sx - im * sy)\n",
    "\n",
    "    # Preallocate vectors of operators with correct type\n",
    "    #sx_list = Vector{SparseMatrixCSC{ComplexF64, Int}}(undef, L)\n",
    "    #sy_list = Vector{SparseMatrixCSC{ComplexF64, Int}}(undef, L)\n",
    "    szl = Vector{SparseMatrixCSC{ComplexF64, Int}}(undef, L) # List of sz operators\n",
    "    sz2l = Vector{SparseMatrixCSC{ComplexF64, Int}}(undef, L) # List of sz² operators\n",
    "    spl = Vector{SparseMatrixCSC{ComplexF64, Int}}(undef, L) # List of sp operators\n",
    "    sml = Vector{SparseMatrixCSC{ComplexF64, Int}}(undef, L) # List of sm operators\n",
    "\n",
    "    for i_site in 1:L\n",
    "        p_ops = fill(id, L)\n",
    "        m_ops = fill(id, L)\n",
    "        z_ops = fill(id, L)\n",
    "        z2_ops = fill(id, L)\n",
    "        p_ops[i_site] = sp\n",
    "        m_ops[i_site] = sm\n",
    "        z_ops[i_site] = sz\n",
    "        z2_ops[i_site] = sz^2\n",
    "\n",
    "        # Build the full operator by tensoring\n",
    "        P = p_ops[1]\n",
    "        M = m_ops[1]\n",
    "        Z = z_ops[1]\n",
    "        Z2 = z2_ops[1]\n",
    "        for j in 2:L\n",
    "            P = kron(P, p_ops[j])\n",
    "            M = kron(M, m_ops[j])\n",
    "            Z = kron(Z, z_ops[j])\n",
    "            Z2 = kron(Z2, z2_ops[j])\n",
    "        end\n",
    "\n",
    "        spl[i_site] = P\n",
    "        sml[i_site] = M\n",
    "        szl[i_site] = Z\n",
    "        sz2l[i_site] = Z2\n",
    "    end\n",
    "\n",
    "    dim = 3^L\n",
    "    H = spzeros(ComplexF64, dim, dim)\n",
    "\n",
    "    for i in 1:L\n",
    "        ip = (i % L) + 1  # Periodic boundary\n",
    "        H += ((spl[i]^2 * sml[ip]^2 + sml[i]^2 * spl[ip]^2) + adjoint((spl[i]^2 * sml[ip]^2 + sml[i]^2 * spl[ip]^2)))\n",
    "    end\n",
    "\n",
    "    return H, sz2l, szl \n",
    "end\n",
    "\"\"\"\n",
    "\n",
    "function tmi(ψ::Vector{ComplexF64})\n",
    "    log3(x) = log(x) / log(3)\n",
    "\n",
    "    L = Int(round(log3(length(ψ))))\n",
    "    qL = L ÷ 4\n",
    "\n",
    "    SA   = entropy_vn(ψ, L, 1:qL)\n",
    "    SB   = entropy_vn(ψ, L, (qL+1):(2qL))\n",
    "    SC   = entropy_vn(ψ, L, (2qL+1):(3qL))\n",
    "    SABC = entropy_vn(ψ, L, 1:3qL)\n",
    "    SAB  = entropy_vn(ψ, L, 1:(2qL))\n",
    "    SAC  = entropy_vn(ψ, L, (1:(qL)) ∪ ((2qL+1):3qL))\n",
    "    SBC  = entropy_vn(ψ, L, (2qL+1):L)\n",
    "\n",
    "    return SA + SB + SC - SAB - SAC - SBC + SABC\n",
    "\n",
    "end\n",
    "\n",
    "function entropy_vn(ψ::Vector{<:Complex}, L::Int, subsystem::AbstractArray{Int})\n",
    "    cut = length(subsystem)\n",
    "    dimA = 3^cut\n",
    "    dimB = 3^(L - cut)\n",
    "    ψ_matrix = reshape(ψ, (dimA, dimB))\n",
    "    svals = svdvals(ψ_matrix)\n",
    "    S = 0.0\n",
    "    for s in svals\n",
    "        if s > 1e-15\n",
    "            p = abs2(s)\n",
    "            S -= p * log(p)\n",
    "        end\n",
    "    end\n",
    "    return S\n",
    "end\n",
    "\n",
    "\n",
    "\n",
    "function time_evolution(ψ::Vector{ComplexF64}, dt::Float64, L, shot::Int)\n",
    "    Random.seed!(shot)  # Set random seed for reproducibility\n",
    "    ψ /= norm(ψ)\n",
    "    Ha, Hb, Hc, _, _ = Hamiltonian(L)\n",
    "    a = 2π * rand()\n",
    "    b = 2π * rand()\n",
    "    c = 2π * rand()\n",
    "    # Apply exp(-im * H * dt) directly to ψ\n",
    "    H = a * Ha + b * Hb + c * Hc\n",
    "    #H = Ha ## To test with Pradip's TDVP code\n",
    "    ψ_new = expmv(-im * dt, H, ψ)\n",
    "\n",
    "    # Normalize the state\n",
    "    ψ_new /= norm(ψ_new)\n",
    "    \n",
    "    return ψ_new\n",
    "end\n",
    "\n",
    "\n",
    "# Function to generate spin-1 Néel state vector of length N as complex numbers\n",
    "function neel_spin1_complex(N::Int)\n",
    "    # Construct the Néel pattern: Up, Dn, Up, Dn...\n",
    "    neel_state = [isodd(j) ? \"Up\" : \"Dn\" for j in 1:N]\n",
    "    \n",
    "    # Start with first spin\n",
    "    psi = spin1_vector(neel_state[1])\n",
    "    \n",
    "    # Build the full tensor product\n",
    "    for j in 2:N\n",
    "        psi = kron(psi, spin1_vector(neel_state[j]))\n",
    "    end\n",
    "    \n",
    "    # Convert to complex vector\n",
    "    psi_complex = ComplexF64.(psi)  # broadcast conversion\n",
    "    \n",
    "    return psi_complex\n",
    "end\n",
    "\n"
   ]
  },
  {
   "cell_type": "code",
   "execution_count": 21,
   "id": "8bef0f9c",
   "metadata": {},
   "outputs": [
    {
     "data": {
      "text/plain": [
       "Hamiltonian_an (generic function with 1 method)"
      ]
     },
     "metadata": {},
     "output_type": "display_data"
    }
   ],
   "source": [
    "### Add Lth spin to the Hamiltonian with the coupling as zeros\n",
    "\n",
    "function Hamiltonian_an(L)\n",
    "    # Define Pauli matrices as complex sparse matrices\n",
    "    id = sparse(ComplexF64[1 0 0; 0 1 0; 0 0 1])\n",
    "    sx = 1/sqrt(2) * sparse(ComplexF64[0 1 0; 1 0 1; 0 1 0])\n",
    "    sy = 1/sqrt(2) * sparse(ComplexF64[0 -im 0; im 0 -im; 0 im 0])\n",
    "    sz = sparse(ComplexF64[1 0 0; 0 0 0; 0 0 -1])\n",
    "\n",
    "    sp = 1/sqrt(2) * (sx + im * sy)\n",
    "    sm = 1/sqrt(2) * (sx - im * sy)\n",
    "\n",
    "    J_list = [i < L-1 ? 1.0 : 0.0 for i in 1:L-1]\n",
    "\n",
    "    # Preallocate vectors of operators with correct type\n",
    "    #sx_list = Vector{SparseMatrixCSC{ComplexF64, Int}}(undef, L)\n",
    "    #sy_list = Vector{SparseMatrixCSC{ComplexF64, Int}}(undef, L)\n",
    "    szl = Vector{SparseMatrixCSC{ComplexF64, Int}}(undef, L) # List of sz operators\n",
    "    sz2l = Vector{SparseMatrixCSC{ComplexF64, Int}}(undef, L) # List of sz² operators\n",
    "    spl = Vector{SparseMatrixCSC{ComplexF64, Int}}(undef, L) # List of sp operators\n",
    "    sml = Vector{SparseMatrixCSC{ComplexF64, Int}}(undef, L) # List of sm operators\n",
    "\n",
    "    for i_site in 1:L\n",
    "        p_ops = fill(id, L)\n",
    "        m_ops = fill(id, L)\n",
    "        z_ops = fill(id, L)\n",
    "        z2_ops = fill(id, L)\n",
    "        p_ops[i_site] = sp\n",
    "        m_ops[i_site] = sm\n",
    "        z_ops[i_site] = sz\n",
    "        z2_ops[i_site] = sz^2\n",
    "\n",
    "        # Build the full operator by tensoring\n",
    "        P = p_ops[1]\n",
    "        M = m_ops[1]\n",
    "        Z = z_ops[1]\n",
    "        Z2 = z2_ops[1]\n",
    "        for j in 2:L\n",
    "            P = kron(P, p_ops[j])\n",
    "            M = kron(M, m_ops[j])\n",
    "            Z = kron(Z, z_ops[j])\n",
    "            Z2 = kron(Z2, z2_ops[j])\n",
    "        end\n",
    "\n",
    "        spl[i_site] = P\n",
    "        sml[i_site] = M\n",
    "        szl[i_site] = Z\n",
    "        sz2l[i_site] = Z2\n",
    "    end\n",
    "\n",
    "    dim = 3^(L)\n",
    "    Ha = spzeros(ComplexF64, dim, dim)\n",
    "\n",
    "    for i in 1:L-1\n",
    "        ip = (i  + 1)  # Open boundary\n",
    "        Ha += J_list[i] * ((spl[i]^2 * sml[ip]^2 + sml[i]^2 * spl[ip]^2) + adjoint((spl[i]^2 * sml[ip]^2 + sml[i]^2 * spl[ip]^2)))\n",
    "    end\n",
    "\n",
    "    Hb = spzeros(ComplexF64, dim, dim)\n",
    "\n",
    "    for i in 1:L-1\n",
    "        ip = (i + 1) # Open boundary\n",
    "        Hb += J_list[i] * (spl[i] * szl[i] * sml[ip] * szl[ip] + sml[i] * szl[i] * spl[ip] * szl[ip] + adjoint(spl[i] * szl[i] * sml[ip] * szl[ip]) + adjoint(sml[i] * szl[i] * spl[ip] * szl[ip]))\n",
    "    end\n",
    "\n",
    "    Hc = spzeros(ComplexF64, dim, dim)\n",
    "\n",
    "    for i in 1:L-1\n",
    "        ip = (i + 1)  # Open boundary\n",
    "        Hc += J_list[i] * (spl[i]^2 * spl[ip] * szl[ip] + sml[i]^2 * sml[ip] * szl[ip] + adjoint(spl[i]^2 * spl[ip] * szl[ip]) + adjoint(sml[i]^2 * sml[ip] * szl[ip]))\n",
    "    end\n",
    "\n",
    "    return Ha, Hb, Hc, sz2l, szl \n",
    "end"
   ]
  },
  {
   "cell_type": "code",
   "execution_count": 51,
   "id": "68e1b19c",
   "metadata": {},
   "outputs": [
    {
     "data": {
      "text/plain": [
       "Entropy_z_an (generic function with 1 method)"
      ]
     },
     "metadata": {},
     "output_type": "display_data"
    }
   ],
   "source": [
    "function Entropy_z_an(L::Int, dt::Float64, p::Float64, shot::Int)\n",
    "    ## Change s_t to the Bell state as required\n",
    "    s_t = spin1_bell(L)\n",
    "    T   = 4 * L ## PRX paper\n",
    "    _, _, _, sz2l, szl = Hamiltonian(L)\n",
    "    sm_list = szl\n",
    "    Sanc_list = Float64[]\n",
    "\n",
    "    steps = Int(floor(T / dt))\n",
    "\n",
    "    for n in 1:steps\n",
    "        push!(Sanc_list, entropy_vn(s_t, L, 1:L-1)) ## Entropy of the ancilla spin\n",
    "\n",
    "        # Time evolution\n",
    "        s_t = time_evolution(s_t, dt, L, shot)\n",
    "\n",
    "        # Effective measurement probability:\n",
    "        #   = 0.0  for n ≤ steps/2\n",
    "        #   = p    for n > steps/2\n",
    "        p_eff = (n <= steps ÷ 2 ? 0.0 : p)\n",
    "\n",
    "        # Measurements\n",
    "        if p_eff != 0\n",
    "            for l in 1:L-1\n",
    "                x = rand()\n",
    "                if x < p_eff\n",
    "                    p_m_mone = 0.5 * real(s_t' * (sz2l[l] - sm_list[l]) * s_t)\n",
    "                    p_m_one  = 0.5 * real(s_t' * (sz2l[l] + sm_list[l]) * s_t)\n",
    "                    x1 = rand()\n",
    "                    if x1 < p_m_mone\n",
    "                        s_t = 0.5 * ((sz2l[l]-sm_list[l]) * s_t) / sqrt(p_m_mone)\n",
    "                    elseif x1 < (p_m_mone + p_m_one)\n",
    "                        s_t = 0.5 * ((sz2l[l]+sm_list[l]) * s_t) / sqrt(p_m_one)\n",
    "                    else\n",
    "                        s_t = (s_t - sz2l[l] * s_t) / sqrt(1 - p_m_mone - p_m_one)\n",
    "                    end\n",
    "                end\n",
    "            end\n",
    "        end\n",
    "    end\n",
    "\n",
    "    # Save result to disk\n",
    "    filename = \"L$(L),T$(T),dt$(dt),p$(p),dirZ,s$(shot)_anc.npy\"\n",
    "    npzwrite(filename, Sanc_list)\n",
    "    return Sanc_list\n",
    "end\n"
   ]
  },
  {
   "cell_type": "code",
   "execution_count": 52,
   "id": "45dc34b6",
   "metadata": {},
   "outputs": [
    {
     "data": {
      "text/plain": [
       "28-element Vector{Float64}:\n",
       " 0.6931471805599454\n",
       " 1.097289740263696\n",
       " 1.0972091381114282\n",
       " 1.0941855473198856\n",
       " 1.0975267838886824\n",
       " 1.097972536116584\n",
       " 1.0951135914148493\n",
       " 1.097869488992679\n",
       " 1.0969754151513662\n",
       " 1.09367277062537\n",
       " ⋮\n",
       " 1.0961220312771032\n",
       " 1.0974753165467996\n",
       " 1.0978810720810368\n",
       " 1.0981632870609084\n",
       " 1.09674657658484\n",
       " 1.0983124119277008\n",
       " 1.0931491685689103\n",
       " 1.097436636429826\n",
       " 1.0954680281131406"
      ]
     },
     "metadata": {},
     "output_type": "display_data"
    }
   ],
   "source": [
    "Entropy_z_an(7, 1.0, 0.0, 1)"
   ]
  },
  {
   "cell_type": "code",
   "execution_count": null,
   "id": "55368e30",
   "metadata": {},
   "outputs": [
    {
     "data": {
      "text/plain": [
       "spin1_bell (generic function with 1 method)"
      ]
     },
     "metadata": {},
     "output_type": "display_data"
    }
   ],
   "source": [
    "### This creates a Bell pair state |Up, Down, ...> \\kron |Up>_anc + |Down, Up, ...> \\kron |Down>_anc\n",
    "\n",
    "function spin1_bell(L::Int)\n",
    "    dim = 3^L\n",
    "    psi = zeros(ComplexF64, dim)\n",
    "\n",
    "    # Helper: convert spin pattern to basis index\n",
    "    # mapping: -1 -> 0, 0 -> 1, +1 -> 2\n",
    "    function pattern_to_index(pattern)\n",
    "        idx = 1\n",
    "        for i in 1:L\n",
    "            idx += (pattern[i]+1)*3^(L-i)\n",
    "        end\n",
    "        return idx\n",
    "    end\n",
    "\n",
    "    # Build the two patterns\n",
    "    pattern1 = [i%2==1 ? 1 : -1 for i in 1:L-1]  # alternating pattern except last\n",
    "    push!(pattern1, 1)  # enforce last spin = up\n",
    "\n",
    "    pattern2 = [i%2==1 ? -1 : 1 for i in 1:L-1] # alternating pattern except last\n",
    "    push!(pattern2, -1) # enforce last spin = down\n",
    "\n",
    "    # Get computational basis indices\n",
    "    idx1 = pattern_to_index(pattern1)\n",
    "    idx2 = pattern_to_index(pattern2)\n",
    "\n",
    "    # Set amplitudes\n",
    "    psi[idx1] = 1/sqrt(2)\n",
    "    psi[idx2] = 1/sqrt(2)\n",
    "\n",
    "    return psi\n",
    "end\n"
   ]
  },
  {
   "cell_type": "code",
   "execution_count": 44,
   "id": "6e24cb7f",
   "metadata": {},
   "outputs": [
    {
     "data": {
      "text/plain": [
       "27-element Vector{ComplexF64}:\n",
       "                0.0 + 0.0im\n",
       "                0.0 + 0.0im\n",
       "                0.0 + 0.0im\n",
       "                0.0 + 0.0im\n",
       "                0.0 + 0.0im\n",
       "                0.0 + 0.0im\n",
       " 0.7071067811865475 + 0.0im\n",
       "                0.0 + 0.0im\n",
       "                0.0 + 0.0im\n",
       "                0.0 + 0.0im\n",
       "                    ⋮\n",
       "                0.0 + 0.0im\n",
       "                0.0 + 0.0im\n",
       " 0.7071067811865475 + 0.0im\n",
       "                0.0 + 0.0im\n",
       "                0.0 + 0.0im\n",
       "                0.0 + 0.0im\n",
       "                0.0 + 0.0im\n",
       "                0.0 + 0.0im\n",
       "                0.0 + 0.0im"
      ]
     },
     "metadata": {},
     "output_type": "display_data"
    }
   ],
   "source": [
    "spin1_bell(3)"
   ]
  },
  {
   "cell_type": "code",
   "execution_count": 75,
   "id": "cabd7b32",
   "metadata": {},
   "outputs": [
    {
     "data": {
      "text/plain": [
       "neel_spin1_complex (generic function with 1 method)"
      ]
     },
     "metadata": {},
     "output_type": "display_data"
    }
   ],
   "source": [
    "include(\"s3_anc.jl\")"
   ]
  },
  {
   "cell_type": "code",
   "execution_count": 76,
   "id": "20620d49",
   "metadata": {},
   "outputs": [
    {
     "data": {
      "text/plain": [
       "20-element Vector{Float64}:\n",
       " 0.6931471805599454\n",
       " 0.9467040629359256\n",
       " 1.082006026494754\n",
       " 1.090581916929082\n",
       " 1.0768412233221376\n",
       " 1.0861366164921837\n",
       " 1.0931440309520037\n",
       " 1.0551087347742338\n",
       " 0.8999623349199521\n",
       " 0.9081461709755846\n",
       " 1.068878396120361\n",
       " 1.0978068704091397\n",
       " 1.0924723543651802\n",
       " 1.087486926110826\n",
       " 1.0957193029073138\n",
       " 1.0898385067462422\n",
       " 1.0419431301005928\n",
       " 1.0060870667779211\n",
       " 1.065176176545064\n",
       " 1.0973792075302087"
      ]
     },
     "metadata": {},
     "output_type": "display_data"
    }
   ],
   "source": [
    "Entropy_z_an(5, 1.0, 0.0, 900)"
   ]
  },
  {
   "cell_type": "markdown",
   "id": "d87fe60a",
   "metadata": {},
   "source": [
    "Running purification with initial state:\n",
    "\\begin{equation*}\n",
    "    |\\psi(t=0)\\rangle = |\\uparrow \\downarrow \\dots \\rangle |\\Uparrow\\rangle + |\\downarrow \\uparrow \\dots\\rangle |\\Downarrow\\rangle\n",
    "\\end{equation*} "
   ]
  },
  {
   "cell_type": "code",
   "execution_count": 69,
   "id": "44f801a0",
   "metadata": {},
   "outputs": [],
   "source": [
    "include(\"s3_anc.jl\")\n",
    "\n",
    "for L in [5, 6, 7, 8, 9]\n",
    "    for dt in [1.0]\n",
    "        for p in [0.1, 0.2, 0.3, 0.4, 0.5, 0.6, 0.7, 0.8, 0.9, 1.0]\n",
    "            for shot in 1:500\n",
    "                Entropy_z_an(L, dt, p, shot)\n",
    "            end\n",
    "        end\n",
    "    end\n",
    "end"
   ]
  },
  {
   "cell_type": "code",
   "execution_count": 77,
   "id": "24280d45",
   "metadata": {},
   "outputs": [
    {
     "data": {
      "text/plain": [
       "1.0986122886681098"
      ]
     },
     "metadata": {},
     "output_type": "display_data"
    }
   ],
   "source": [
    "log(3)"
   ]
  },
  {
   "cell_type": "code",
   "execution_count": 78,
   "id": "010e7eb0",
   "metadata": {},
   "outputs": [
    {
     "data": {
      "text/plain": [
       "spin1_ghz (generic function with 1 method)"
      ]
     },
     "metadata": {},
     "output_type": "display_data"
    }
   ],
   "source": [
    "function spin1_ghz(L::Int)\n",
    "    dim = 3^L\n",
    "    psi = zeros(ComplexF64, dim)\n",
    "\n",
    "    # Helper: convert spin pattern to basis index\n",
    "    # mapping: -1 -> 0, 0 -> 1, +1 -> 2\n",
    "    function pattern_to_index(pattern)\n",
    "        idx = 1\n",
    "        for i in 1:L\n",
    "            idx += (pattern[i]+1)*3^(L-i)\n",
    "        end\n",
    "        return idx\n",
    "    end\n",
    "\n",
    "    # Pattern 1: Up,Down,Up,... and last spin = +1 (Up)\n",
    "    pattern1 = [(i % 2 == 1 ? 1 : -1) for i in 1:L-1]\n",
    "    push!(pattern1, 1)\n",
    "\n",
    "    # Pattern 2: all zeros and last spin = 0\n",
    "    pattern2 = fill(0, L-1)\n",
    "    push!(pattern2, 0)\n",
    "\n",
    "    # Pattern 3: Down,Up,Down,... and last spin = -1 (Down)\n",
    "    pattern3 = [(i % 2 == 1 ? -1 : 1) for i in 1:L-1]\n",
    "    push!(pattern3, -1)\n",
    "\n",
    "    # Get computational basis indices\n",
    "    idx1 = pattern_to_index(pattern1)\n",
    "    idx2 = pattern_to_index(pattern2)\n",
    "    idx3 = pattern_to_index(pattern3)\n",
    "\n",
    "    # Set amplitudes (use 1 for an unnormalized sum, or divide by √3 to normalize)\n",
    "    psi[idx1] = 1\n",
    "    psi[idx2] = 1\n",
    "    psi[idx3] = 1\n",
    "\n",
    "    # Normalization:\n",
    "    psi ./= sqrt(3)\n",
    "\n",
    "    return psi\n",
    "end\n"
   ]
  },
  {
   "cell_type": "code",
   "execution_count": 79,
   "id": "5e2f2fcb",
   "metadata": {},
   "outputs": [
    {
     "data": {
      "text/plain": [
       "81-element Vector{ComplexF64}:\n",
       " 0.0 + 0.0im\n",
       " 0.0 + 0.0im\n",
       " 0.0 + 0.0im\n",
       " 0.0 + 0.0im\n",
       " 0.0 + 0.0im\n",
       " 0.0 + 0.0im\n",
       " 0.0 + 0.0im\n",
       " 0.0 + 0.0im\n",
       " 0.0 + 0.0im\n",
       " 0.0 + 0.0im\n",
       "     ⋮\n",
       " 0.0 + 0.0im\n",
       " 0.0 + 0.0im\n",
       " 0.0 + 0.0im\n",
       " 0.0 + 0.0im\n",
       " 0.0 + 0.0im\n",
       " 0.0 + 0.0im\n",
       " 0.0 + 0.0im\n",
       " 0.0 + 0.0im\n",
       " 0.0 + 0.0im"
      ]
     },
     "metadata": {},
     "output_type": "display_data"
    }
   ],
   "source": [
    "state = spin1_ghz(4)"
   ]
  },
  {
   "cell_type": "code",
   "execution_count": 81,
   "id": "b5cb82e2",
   "metadata": {},
   "outputs": [
    {
     "data": {
      "text/plain": [
       "1.0986122886681096"
      ]
     },
     "metadata": {},
     "output_type": "display_data"
    }
   ],
   "source": [
    "entropy_vn(state, 4, 1:3)"
   ]
  },
  {
   "cell_type": "code",
   "execution_count": 83,
   "id": "0bdcb658",
   "metadata": {},
   "outputs": [
    {
     "data": {
      "text/plain": [
       "1.0986122886681098"
      ]
     },
     "metadata": {},
     "output_type": "display_data"
    }
   ],
   "source": [
    "log(3)"
   ]
  },
  {
   "cell_type": "markdown",
   "id": "c3801c66",
   "metadata": {},
   "source": [
    "Running purification with initial state:\n",
    "\\begin{equation*}\n",
    "    |\\psi(t=0)\\rangle = |\\uparrow \\downarrow \\dots \\rangle |\\Uparrow\\rangle + |00 \\dots\\rangle |0\\rangle + |\\downarrow \\uparrow \\dots\\rangle |\\Downarrow\\rangle\n",
    "\\end{equation*} "
   ]
  },
  {
   "cell_type": "code",
   "execution_count": 110,
   "id": "b65ccd38",
   "metadata": {},
   "outputs": [],
   "source": [
    "include(\"s3_anc.jl\")\n",
    "\n",
    "for L in [5, 6, 7, 8, 9]\n",
    "    for dt in [1.0]\n",
    "        for p in [0.1, 0.2, 0.3, 0.4, 0.5, 0.6, 0.7, 0.8, 0.9, 1.0]\n",
    "            for shot in 1:500\n",
    "                Entropy_z_an(L, dt, p, shot)\n",
    "            end\n",
    "        end\n",
    "    end\n",
    "end"
   ]
  },
  {
   "cell_type": "markdown",
   "id": "0c1511bf",
   "metadata": {},
   "source": [
    "The following code block ran for two days"
   ]
  },
  {
   "cell_type": "code",
   "execution_count": null,
   "id": "d4d553ec",
   "metadata": {},
   "outputs": [],
   "source": [
    "include(\"s3_anc.jl\")\n",
    "\n",
    "for L in [5, 6, 7, 8, 9]\n",
    "    for dt in [1.0]\n",
    "        for p in [0.1, 0.2, 0.3, 0.4, 0.5, 0.6, 0.7, 0.8, 0.9, 1.0]\n",
    "            for shot in 1:500\n",
    "                Entropy_z_an(L, dt, p, shot)\n",
    "            end\n",
    "        end\n",
    "    end\n",
    "end"
   ]
  },
  {
   "cell_type": "markdown",
   "id": "9f5971d1",
   "metadata": {},
   "source": [
    "### Checking the level spacing statistics of $S_3$ Hamiltonain"
   ]
  },
  {
   "cell_type": "code",
   "execution_count": 1,
   "id": "91935a11",
   "metadata": {},
   "outputs": [],
   "source": [
    "using SparseArrays\n",
    "using LinearAlgebra\n",
    "using Arpack\n",
    "using Statistics\n",
    "using Random\n",
    "using DelimitedFiles\n",
    "using NPZ\n",
    "using ExpmV"
   ]
  },
  {
   "cell_type": "code",
   "execution_count": 4,
   "id": "dd458b31",
   "metadata": {},
   "outputs": [
    {
     "data": {
      "text/plain": [
       "(sparse([7, 4375, 4378, 3, 19, 20, 21, 4381, 16, 4384  …  2178, 6546, 2181, 6541, 6542, 6543, 6559, 2184, 2187, 6555], [3, 3, 6, 7, 7, 8, 9, 9, 12, 12  …  6550, 6550, 6553, 6553, 6554, 6555, 6555, 6556, 6559, 6559], ComplexF64[1.9999999999999982 + 0.0im, 1.9999999999999982 + 0.0im, 1.9999999999999982 + 0.0im, 1.9999999999999982 + 0.0im, 1.9999999999999982 + 0.0im, 1.9999999999999982 + 0.0im, 1.9999999999999982 + 0.0im, 1.9999999999999982 + 0.0im, 1.9999999999999982 + 0.0im, 1.9999999999999982 + 0.0im  …  1.9999999999999982 + 0.0im, 1.9999999999999982 + 0.0im, 1.9999999999999982 + 0.0im, 1.9999999999999982 + 0.0im, 1.9999999999999982 + 0.0im, 1.9999999999999982 + 0.0im, 1.9999999999999982 + 0.0im, 1.9999999999999982 + 0.0im, 1.9999999999999982 + 0.0im, 1.9999999999999982 + 0.0im], 6561, 6561), sparse([5, 2189, 3, 7, 2192, 5, 13, 14, 15, 2195  …  4367, 6547, 6548, 6549, 6557, 4370, 6555, 6559, 4373, 6557], [3, 3, 5, 5, 6, 7, 7, 8, 9, 9  …  6553, 6553, 6554, 6555, 6555, 6556, 6557, 6557, 6559, 6559], ComplexF64[-0.9999999999999996 + 0.0im, -0.9999999999999996 + 0.0im, -0.9999999999999996 + 0.0im, -0.9999999999999996 + 0.0im, -0.9999999999999996 + 0.0im, -0.9999999999999996 + 0.0im, -0.9999999999999996 + 0.0im, -0.9999999999999996 + 0.0im, -0.9999999999999996 + 0.0im, -0.9999999999999996 + 0.0im  …  -0.9999999999999996 + 0.0im, -0.9999999999999996 + 0.0im, -0.9999999999999996 + 0.0im, -0.9999999999999996 + 0.0im, -0.9999999999999996 + 0.0im, -0.9999999999999996 + 0.0im, -0.9999999999999996 + 0.0im, -0.9999999999999996 + 0.0im, -0.9999999999999996 + 0.0im, -0.9999999999999996 + 0.0im], 6561, 6561), sparse([8, 22, 64, 190, 568, 1702, 2190, 5104, 9, 23  …  6539, 6553, 1458, 4372, 4860, 5994, 6372, 6498, 6540, 6554], [1, 1, 1, 1, 1, 1, 1, 1, 2, 2  …  6560, 6560, 6561, 6561, 6561, 6561, 6561, 6561, 6561, 6561], ComplexF64[0.9999999999999993 + 0.0im, 0.9999999999999993 + 0.0im, 0.9999999999999993 + 0.0im, 0.9999999999999993 + 0.0im, 0.9999999999999993 + 0.0im, 0.9999999999999993 + 0.0im, 0.9999999999999993 + 0.0im, 0.9999999999999993 + 0.0im, -0.9999999999999993 + 0.0im, 0.9999999999999993 + 0.0im  …  -0.9999999999999993 + 0.0im, 0.9999999999999993 + 0.0im, -0.9999999999999993 + 0.0im, -0.9999999999999993 + 0.0im, -0.9999999999999993 + 0.0im, -0.9999999999999993 + 0.0im, -0.9999999999999993 + 0.0im, -0.9999999999999993 + 0.0im, -0.9999999999999993 + 0.0im, -0.9999999999999993 + 0.0im], 6561, 6561), SparseMatrixCSC{ComplexF64, Int64}[sparse([1, 2, 3, 4, 5, 6, 7, 8, 9, 10  …  6552, 6553, 6554, 6555, 6556, 6557, 6558, 6559, 6560, 6561], [1, 2, 3, 4, 5, 6, 7, 8, 9, 10  …  6552, 6553, 6554, 6555, 6556, 6557, 6558, 6559, 6560, 6561], ComplexF64[1.0 + 0.0im, 1.0 + 0.0im, 1.0 + 0.0im, 1.0 + 0.0im, 1.0 + 0.0im, 1.0 + 0.0im, 1.0 + 0.0im, 1.0 + 0.0im, 1.0 + 0.0im, 1.0 + 0.0im  …  1.0 + 0.0im, 1.0 + 0.0im, 1.0 + 0.0im, 1.0 + 0.0im, 1.0 + 0.0im, 1.0 + 0.0im, 1.0 + 0.0im, 1.0 + 0.0im, 1.0 + 0.0im, 1.0 + 0.0im], 6561, 6561), sparse([1, 2, 3, 4, 5, 6, 7, 8, 9, 10  …  6552, 6553, 6554, 6555, 6556, 6557, 6558, 6559, 6560, 6561], [1, 2, 3, 4, 5, 6, 7, 8, 9, 10  …  6552, 6553, 6554, 6555, 6556, 6557, 6558, 6559, 6560, 6561], ComplexF64[1.0 + 0.0im, 1.0 + 0.0im, 1.0 + 0.0im, 1.0 + 0.0im, 1.0 + 0.0im, 1.0 + 0.0im, 1.0 + 0.0im, 1.0 + 0.0im, 1.0 + 0.0im, 1.0 + 0.0im  …  1.0 + 0.0im, 1.0 + 0.0im, 1.0 + 0.0im, 1.0 + 0.0im, 1.0 + 0.0im, 1.0 + 0.0im, 1.0 + 0.0im, 1.0 + 0.0im, 1.0 + 0.0im, 1.0 + 0.0im], 6561, 6561), sparse([1, 2, 3, 4, 5, 6, 7, 8, 9, 10  …  6552, 6553, 6554, 6555, 6556, 6557, 6558, 6559, 6560, 6561], [1, 2, 3, 4, 5, 6, 7, 8, 9, 10  …  6552, 6553, 6554, 6555, 6556, 6557, 6558, 6559, 6560, 6561], ComplexF64[1.0 + 0.0im, 1.0 + 0.0im, 1.0 + 0.0im, 1.0 + 0.0im, 1.0 + 0.0im, 1.0 + 0.0im, 1.0 + 0.0im, 1.0 + 0.0im, 1.0 + 0.0im, 1.0 + 0.0im  …  1.0 + 0.0im, 1.0 + 0.0im, 1.0 + 0.0im, 1.0 + 0.0im, 1.0 + 0.0im, 1.0 + 0.0im, 1.0 + 0.0im, 1.0 + 0.0im, 1.0 + 0.0im, 1.0 + 0.0im], 6561, 6561), sparse([1, 2, 3, 4, 5, 6, 7, 8, 9, 10  …  6552, 6553, 6554, 6555, 6556, 6557, 6558, 6559, 6560, 6561], [1, 2, 3, 4, 5, 6, 7, 8, 9, 10  …  6552, 6553, 6554, 6555, 6556, 6557, 6558, 6559, 6560, 6561], ComplexF64[1.0 + 0.0im, 1.0 + 0.0im, 1.0 + 0.0im, 1.0 + 0.0im, 1.0 + 0.0im, 1.0 + 0.0im, 1.0 + 0.0im, 1.0 + 0.0im, 1.0 + 0.0im, 1.0 + 0.0im  …  1.0 + 0.0im, 1.0 + 0.0im, 1.0 + 0.0im, 1.0 + 0.0im, 1.0 + 0.0im, 1.0 + 0.0im, 1.0 + 0.0im, 1.0 + 0.0im, 1.0 + 0.0im, 1.0 + 0.0im], 6561, 6561), sparse([1, 2, 3, 4, 5, 6, 7, 8, 9, 10  …  6552, 6553, 6554, 6555, 6556, 6557, 6558, 6559, 6560, 6561], [1, 2, 3, 4, 5, 6, 7, 8, 9, 10  …  6552, 6553, 6554, 6555, 6556, 6557, 6558, 6559, 6560, 6561], ComplexF64[1.0 + 0.0im, 1.0 + 0.0im, 1.0 + 0.0im, 1.0 + 0.0im, 1.0 + 0.0im, 1.0 + 0.0im, 1.0 + 0.0im, 1.0 + 0.0im, 1.0 + 0.0im, 1.0 + 0.0im  …  1.0 + 0.0im, 1.0 + 0.0im, 1.0 + 0.0im, 1.0 + 0.0im, 1.0 + 0.0im, 1.0 + 0.0im, 1.0 + 0.0im, 1.0 + 0.0im, 1.0 + 0.0im, 1.0 + 0.0im], 6561, 6561), sparse([1, 2, 3, 4, 5, 6, 7, 8, 9, 19  …  6543, 6553, 6554, 6555, 6556, 6557, 6558, 6559, 6560, 6561], [1, 2, 3, 4, 5, 6, 7, 8, 9, 19  …  6543, 6553, 6554, 6555, 6556, 6557, 6558, 6559, 6560, 6561], ComplexF64[1.0 + 0.0im, 1.0 + 0.0im, 1.0 + 0.0im, 1.0 + 0.0im, 1.0 + 0.0im, 1.0 + 0.0im, 1.0 + 0.0im, 1.0 + 0.0im, 1.0 + 0.0im, 1.0 + 0.0im  …  1.0 + 0.0im, 1.0 + 0.0im, 1.0 + 0.0im, 1.0 + 0.0im, 1.0 + 0.0im, 1.0 + 0.0im, 1.0 + 0.0im, 1.0 + 0.0im, 1.0 + 0.0im, 1.0 + 0.0im], 6561, 6561), sparse([1, 2, 3, 7, 8, 9, 10, 11, 12, 16  …  6546, 6550, 6551, 6552, 6553, 6554, 6555, 6559, 6560, 6561], [1, 2, 3, 7, 8, 9, 10, 11, 12, 16  …  6546, 6550, 6551, 6552, 6553, 6554, 6555, 6559, 6560, 6561], ComplexF64[1.0 + 0.0im, 1.0 + 0.0im, 1.0 + 0.0im, 1.0 + 0.0im, 1.0 + 0.0im, 1.0 + 0.0im, 1.0 + 0.0im, 1.0 + 0.0im, 1.0 + 0.0im, 1.0 + 0.0im  …  1.0 + 0.0im, 1.0 + 0.0im, 1.0 + 0.0im, 1.0 + 0.0im, 1.0 + 0.0im, 1.0 + 0.0im, 1.0 + 0.0im, 1.0 + 0.0im, 1.0 + 0.0im, 1.0 + 0.0im], 6561, 6561), sparse([1, 3, 4, 6, 7, 9, 10, 12, 13, 15  …  6547, 6549, 6550, 6552, 6553, 6555, 6556, 6558, 6559, 6561], [1, 3, 4, 6, 7, 9, 10, 12, 13, 15  …  6547, 6549, 6550, 6552, 6553, 6555, 6556, 6558, 6559, 6561], ComplexF64[1.0 + 0.0im, 1.0 + 0.0im, 1.0 + 0.0im, 1.0 + 0.0im, 1.0 + 0.0im, 1.0 + 0.0im, 1.0 + 0.0im, 1.0 + 0.0im, 1.0 + 0.0im, 1.0 + 0.0im  …  1.0 + 0.0im, 1.0 + 0.0im, 1.0 + 0.0im, 1.0 + 0.0im, 1.0 + 0.0im, 1.0 + 0.0im, 1.0 + 0.0im, 1.0 + 0.0im, 1.0 + 0.0im, 1.0 + 0.0im], 6561, 6561)], SparseMatrixCSC{ComplexF64, Int64}[sparse([1, 2, 3, 4, 5, 6, 7, 8, 9, 10  …  6552, 6553, 6554, 6555, 6556, 6557, 6558, 6559, 6560, 6561], [1, 2, 3, 4, 5, 6, 7, 8, 9, 10  …  6552, 6553, 6554, 6555, 6556, 6557, 6558, 6559, 6560, 6561], ComplexF64[1.0 + 0.0im, 1.0 + 0.0im, 1.0 + 0.0im, 1.0 + 0.0im, 1.0 + 0.0im, 1.0 + 0.0im, 1.0 + 0.0im, 1.0 + 0.0im, 1.0 + 0.0im, 1.0 + 0.0im  …  -1.0 + 0.0im, -1.0 + 0.0im, -1.0 + 0.0im, -1.0 + 0.0im, -1.0 + 0.0im, -1.0 + 0.0im, -1.0 + 0.0im, -1.0 + 0.0im, -1.0 + 0.0im, -1.0 + 0.0im], 6561, 6561), sparse([1, 2, 3, 4, 5, 6, 7, 8, 9, 10  …  6552, 6553, 6554, 6555, 6556, 6557, 6558, 6559, 6560, 6561], [1, 2, 3, 4, 5, 6, 7, 8, 9, 10  …  6552, 6553, 6554, 6555, 6556, 6557, 6558, 6559, 6560, 6561], ComplexF64[1.0 + 0.0im, 1.0 + 0.0im, 1.0 + 0.0im, 1.0 + 0.0im, 1.0 + 0.0im, 1.0 + 0.0im, 1.0 + 0.0im, 1.0 + 0.0im, 1.0 + 0.0im, 1.0 + 0.0im  …  -1.0 + 0.0im, -1.0 + 0.0im, -1.0 + 0.0im, -1.0 + 0.0im, -1.0 + 0.0im, -1.0 + 0.0im, -1.0 + 0.0im, -1.0 + 0.0im, -1.0 + 0.0im, -1.0 + 0.0im], 6561, 6561), sparse([1, 2, 3, 4, 5, 6, 7, 8, 9, 10  …  6552, 6553, 6554, 6555, 6556, 6557, 6558, 6559, 6560, 6561], [1, 2, 3, 4, 5, 6, 7, 8, 9, 10  …  6552, 6553, 6554, 6555, 6556, 6557, 6558, 6559, 6560, 6561], ComplexF64[1.0 + 0.0im, 1.0 + 0.0im, 1.0 + 0.0im, 1.0 + 0.0im, 1.0 + 0.0im, 1.0 + 0.0im, 1.0 + 0.0im, 1.0 + 0.0im, 1.0 + 0.0im, 1.0 + 0.0im  …  -1.0 + 0.0im, -1.0 + 0.0im, -1.0 + 0.0im, -1.0 + 0.0im, -1.0 + 0.0im, -1.0 + 0.0im, -1.0 + 0.0im, -1.0 + 0.0im, -1.0 + 0.0im, -1.0 + 0.0im], 6561, 6561), sparse([1, 2, 3, 4, 5, 6, 7, 8, 9, 10  …  6552, 6553, 6554, 6555, 6556, 6557, 6558, 6559, 6560, 6561], [1, 2, 3, 4, 5, 6, 7, 8, 9, 10  …  6552, 6553, 6554, 6555, 6556, 6557, 6558, 6559, 6560, 6561], ComplexF64[1.0 + 0.0im, 1.0 + 0.0im, 1.0 + 0.0im, 1.0 + 0.0im, 1.0 + 0.0im, 1.0 + 0.0im, 1.0 + 0.0im, 1.0 + 0.0im, 1.0 + 0.0im, 1.0 + 0.0im  …  -1.0 + 0.0im, -1.0 + 0.0im, -1.0 + 0.0im, -1.0 + 0.0im, -1.0 + 0.0im, -1.0 + 0.0im, -1.0 + 0.0im, -1.0 + 0.0im, -1.0 + 0.0im, -1.0 + 0.0im], 6561, 6561), sparse([1, 2, 3, 4, 5, 6, 7, 8, 9, 10  …  6552, 6553, 6554, 6555, 6556, 6557, 6558, 6559, 6560, 6561], [1, 2, 3, 4, 5, 6, 7, 8, 9, 10  …  6552, 6553, 6554, 6555, 6556, 6557, 6558, 6559, 6560, 6561], ComplexF64[1.0 + 0.0im, 1.0 + 0.0im, 1.0 + 0.0im, 1.0 + 0.0im, 1.0 + 0.0im, 1.0 + 0.0im, 1.0 + 0.0im, 1.0 + 0.0im, 1.0 + 0.0im, 1.0 + 0.0im  …  -1.0 + 0.0im, -1.0 + 0.0im, -1.0 + 0.0im, -1.0 + 0.0im, -1.0 + 0.0im, -1.0 + 0.0im, -1.0 + 0.0im, -1.0 + 0.0im, -1.0 + 0.0im, -1.0 + 0.0im], 6561, 6561), sparse([1, 2, 3, 4, 5, 6, 7, 8, 9, 19  …  6543, 6553, 6554, 6555, 6556, 6557, 6558, 6559, 6560, 6561], [1, 2, 3, 4, 5, 6, 7, 8, 9, 19  …  6543, 6553, 6554, 6555, 6556, 6557, 6558, 6559, 6560, 6561], ComplexF64[1.0 + 0.0im, 1.0 + 0.0im, 1.0 + 0.0im, 1.0 + 0.0im, 1.0 + 0.0im, 1.0 + 0.0im, 1.0 + 0.0im, 1.0 + 0.0im, 1.0 + 0.0im, -1.0 + 0.0im  …  1.0 + 0.0im, -1.0 + 0.0im, -1.0 + 0.0im, -1.0 + 0.0im, -1.0 + 0.0im, -1.0 + 0.0im, -1.0 + 0.0im, -1.0 + 0.0im, -1.0 + 0.0im, -1.0 + 0.0im], 6561, 6561), sparse([1, 2, 3, 7, 8, 9, 10, 11, 12, 16  …  6546, 6550, 6551, 6552, 6553, 6554, 6555, 6559, 6560, 6561], [1, 2, 3, 7, 8, 9, 10, 11, 12, 16  …  6546, 6550, 6551, 6552, 6553, 6554, 6555, 6559, 6560, 6561], ComplexF64[1.0 + 0.0im, 1.0 + 0.0im, 1.0 + 0.0im, -1.0 + 0.0im, -1.0 + 0.0im, -1.0 + 0.0im, 1.0 + 0.0im, 1.0 + 0.0im, 1.0 + 0.0im, -1.0 + 0.0im  …  1.0 + 0.0im, -1.0 + 0.0im, -1.0 + 0.0im, -1.0 + 0.0im, 1.0 + 0.0im, 1.0 + 0.0im, 1.0 + 0.0im, -1.0 + 0.0im, -1.0 + 0.0im, -1.0 + 0.0im], 6561, 6561), sparse([1, 3, 4, 6, 7, 9, 10, 12, 13, 15  …  6547, 6549, 6550, 6552, 6553, 6555, 6556, 6558, 6559, 6561], [1, 3, 4, 6, 7, 9, 10, 12, 13, 15  …  6547, 6549, 6550, 6552, 6553, 6555, 6556, 6558, 6559, 6561], ComplexF64[1.0 + 0.0im, -1.0 + 0.0im, 1.0 + 0.0im, -1.0 + 0.0im, 1.0 + 0.0im, -1.0 + 0.0im, 1.0 + 0.0im, -1.0 + 0.0im, 1.0 + 0.0im, -1.0 + 0.0im  …  1.0 + 0.0im, -1.0 + 0.0im, 1.0 + 0.0im, -1.0 + 0.0im, 1.0 + 0.0im, -1.0 + 0.0im, 1.0 + 0.0im, -1.0 + 0.0im, 1.0 + 0.0im, -1.0 + 0.0im], 6561, 6561)])"
      ]
     },
     "metadata": {},
     "output_type": "display_data"
    }
   ],
   "source": [
    "function Hamiltonian(L)\n",
    "    # Define Pauli matrices as complex sparse matrices\n",
    "    id = sparse(ComplexF64[1 0 0; 0 1 0; 0 0 1])\n",
    "    sx = 1/sqrt(2) * sparse(ComplexF64[0 1 0; 1 0 1; 0 1 0])\n",
    "    sy = 1/sqrt(2) * sparse(ComplexF64[0 -im 0; im 0 -im; 0 im 0])\n",
    "    sz = sparse(ComplexF64[1 0 0; 0 0 0; 0 0 -1])\n",
    "\n",
    "    sp = 1/sqrt(2) * (sx + im * sy)\n",
    "    sm = 1/sqrt(2) * (sx - im * sy)\n",
    "\n",
    "    # Preallocate vectors of operators with correct type\n",
    "    #sx_list = Vector{SparseMatrixCSC{ComplexF64, Int}}(undef, L)\n",
    "    #sy_list = Vector{SparseMatrixCSC{ComplexF64, Int}}(undef, L)\n",
    "    szl = Vector{SparseMatrixCSC{ComplexF64, Int}}(undef, L) # List of sz operators\n",
    "    sz2l = Vector{SparseMatrixCSC{ComplexF64, Int}}(undef, L) # List of sz² operators\n",
    "    spl = Vector{SparseMatrixCSC{ComplexF64, Int}}(undef, L) # List of sp operators\n",
    "    sml = Vector{SparseMatrixCSC{ComplexF64, Int}}(undef, L) # List of sm operators\n",
    "\n",
    "    for i_site in 1:L\n",
    "        p_ops = fill(id, L)\n",
    "        m_ops = fill(id, L)\n",
    "        z_ops = fill(id, L)\n",
    "        z2_ops = fill(id, L)\n",
    "        p_ops[i_site] = sp\n",
    "        m_ops[i_site] = sm\n",
    "        z_ops[i_site] = sz\n",
    "        z2_ops[i_site] = sz^2\n",
    "\n",
    "        # Build the full operator by tensoring\n",
    "        P = p_ops[1]\n",
    "        M = m_ops[1]\n",
    "        Z = z_ops[1]\n",
    "        Z2 = z2_ops[1]\n",
    "        for j in 2:L\n",
    "            P = kron(P, p_ops[j])\n",
    "            M = kron(M, m_ops[j])\n",
    "            Z = kron(Z, z_ops[j])\n",
    "            Z2 = kron(Z2, z2_ops[j])\n",
    "        end\n",
    "\n",
    "        spl[i_site] = P\n",
    "        sml[i_site] = M\n",
    "        szl[i_site] = Z\n",
    "        sz2l[i_site] = Z2\n",
    "    end\n",
    "\n",
    "    dim = 3^L\n",
    "    Ha = spzeros(ComplexF64, dim, dim)\n",
    "\n",
    "    for i in 1:L\n",
    "        ip = (i % L) + 1  # Periodic boundary\n",
    "        Ha += ((spl[i]^2 * sml[ip]^2 + sml[i]^2 * spl[ip]^2) + adjoint((spl[i]^2 * sml[ip]^2 + sml[i]^2 * spl[ip]^2)))\n",
    "    end\n",
    "\n",
    "    Hb = spzeros(ComplexF64, dim, dim)\n",
    "\n",
    "    for i in 1:L\n",
    "        ip = (i % L) + 1  # Periodic boundary\n",
    "        Hb += (spl[i] * szl[i] * sml[ip] * szl[ip] + sml[i] * szl[i] * spl[ip] * szl[ip] + adjoint(spl[i] * szl[i] * sml[ip] * szl[ip]) + adjoint(sml[i] * szl[i] * spl[ip] * szl[ip]))\n",
    "    end\n",
    "\n",
    "    Hc = spzeros(ComplexF64, dim, dim)\n",
    "\n",
    "    for i in 1:L\n",
    "        ip = (i % L) + 1  # Periodic boundary\n",
    "        Hc += (spl[i]^2 * spl[ip] * szl[ip] + sml[i]^2 * sml[ip] * szl[ip] + adjoint(spl[i]^2 * spl[ip] * szl[ip]) + adjoint(sml[i]^2 * sml[ip] * szl[ip]))\n",
    "    end\n",
    "\n",
    "    return Ha, Hb, Hc, sz2l, szl \n",
    "end\n",
    "\n",
    "Ha,_ , _, _, _ = Hamiltonian(8)"
   ]
  },
  {
   "cell_type": "code",
   "execution_count": 6,
   "id": "9764c986",
   "metadata": {},
   "outputs": [
    {
     "data": {
      "text/plain": [
       "5-element Vector{Float64}:\n",
       " 1.0\n",
       " 1.0\n",
       " 1.0\n",
       " 1.0\n",
       " 0.0"
      ]
     },
     "metadata": {},
     "output_type": "display_data"
    }
   ],
   "source": [
    "L = 7\n",
    "J_list_nnn = [i < L-2 ? 1.0 : 0.0 for i in 1:L-2]"
   ]
  },
  {
   "cell_type": "markdown",
   "id": "0a6ac5a5",
   "metadata": {
    "vscode": {
     "languageId": "raw"
    }
   },
   "source": [
    "### Purification for charge sharpening"
   ]
  },
  {
   "cell_type": "code",
   "execution_count": 14,
   "id": "98d162e7",
   "metadata": {},
   "outputs": [
    {
     "data": {
      "text/plain": [
       "Entropy_z2_an (generic function with 1 method)"
      ]
     },
     "metadata": {},
     "output_type": "display_data"
    }
   ],
   "source": [
    "include(\"s3_anc.jl\")"
   ]
  },
  {
   "cell_type": "code",
   "execution_count": 12,
   "id": "3c854795",
   "metadata": {},
   "outputs": [
    {
     "data": {
      "text/plain": [
       "(sparse([19, 20, 21, 7, 55, 8, 56, 9, 57, 58  …  2130, 2131, 2179, 2132, 2180, 2133, 2181, 2167, 2168, 2169], [7, 8, 9, 19, 19, 20, 20, 21, 21, 22  …  2166, 2167, 2167, 2168, 2168, 2169, 2169, 2179, 2180, 2181], ComplexF64[1.9999999999999982 + 0.0im, 1.9999999999999982 + 0.0im, 1.9999999999999982 + 0.0im, 1.9999999999999982 + 0.0im, 1.9999999999999982 + 0.0im, 1.9999999999999982 + 0.0im, 1.9999999999999982 + 0.0im, 1.9999999999999982 + 0.0im, 1.9999999999999982 + 0.0im, 1.9999999999999982 + 0.0im  …  1.9999999999999982 + 0.0im, 1.9999999999999982 + 0.0im, 1.9999999999999982 + 0.0im, 1.9999999999999982 + 0.0im, 1.9999999999999982 + 0.0im, 1.9999999999999982 + 0.0im, 1.9999999999999982 + 0.0im, 1.9999999999999982 + 0.0im, 1.9999999999999982 + 0.0im, 1.9999999999999982 + 0.0im], 2187, 2187), sparse([13, 14, 15, 7, 19, 8, 20, 9, 21, 13  …  2175, 2167, 2179, 2168, 2180, 2169, 2181, 2173, 2174, 2175], [7, 8, 9, 13, 13, 14, 14, 15, 15, 19  …  2169, 2173, 2173, 2174, 2174, 2175, 2175, 2179, 2180, 2181], ComplexF64[-0.9999999999999996 + 0.0im, -0.9999999999999996 + 0.0im, -0.9999999999999996 + 0.0im, -0.9999999999999996 + 0.0im, -0.9999999999999996 + 0.0im, -0.9999999999999996 + 0.0im, -0.9999999999999996 + 0.0im, -0.9999999999999996 + 0.0im, -0.9999999999999996 + 0.0im, -0.9999999999999996 + 0.0im  …  -0.9999999999999996 + 0.0im, -0.9999999999999996 + 0.0im, -0.9999999999999996 + 0.0im, -0.9999999999999996 + 0.0im, -0.9999999999999996 + 0.0im, -0.9999999999999996 + 0.0im, -0.9999999999999996 + 0.0im, -0.9999999999999996 + 0.0im, -0.9999999999999996 + 0.0im, -0.9999999999999996 + 0.0im], 2187, 2187), sparse([22, 64, 190, 568, 1702, 23, 65, 191, 569, 1703  …  485, 1619, 1997, 2123, 2165, 486, 1620, 1998, 2124, 2166], [1, 1, 1, 1, 1, 2, 2, 2, 2, 2  …  2186, 2186, 2186, 2186, 2186, 2187, 2187, 2187, 2187, 2187], ComplexF64[0.9999999999999993 + 0.0im, 0.9999999999999993 + 0.0im, 0.9999999999999993 + 0.0im, 0.9999999999999993 + 0.0im, 0.9999999999999993 + 0.0im, 0.9999999999999993 + 0.0im, 0.9999999999999993 + 0.0im, 0.9999999999999993 + 0.0im, 0.9999999999999993 + 0.0im, 0.9999999999999993 + 0.0im  …  -0.9999999999999993 + 0.0im, -0.9999999999999993 + 0.0im, -0.9999999999999993 + 0.0im, -0.9999999999999993 + 0.0im, -0.9999999999999993 + 0.0im, -0.9999999999999993 + 0.0im, -0.9999999999999993 + 0.0im, -0.9999999999999993 + 0.0im, -0.9999999999999993 + 0.0im, -0.9999999999999993 + 0.0im], 2187, 2187), sparse([55, 56, 57, 64, 65, 66, 163, 164, 165, 166  …  2022, 2023, 2024, 2025, 2122, 2123, 2124, 2131, 2132, 2133], [7, 8, 9, 16, 17, 18, 19, 20, 21, 22  …  2166, 2167, 2168, 2169, 2170, 2171, 2172, 2179, 2180, 2181], ComplexF64[1.9999999999999982 + 0.0im, 1.9999999999999982 + 0.0im, 1.9999999999999982 + 0.0im, 1.9999999999999982 + 0.0im, 1.9999999999999982 + 0.0im, 1.9999999999999982 + 0.0im, 1.9999999999999982 + 0.0im, 1.9999999999999982 + 0.0im, 1.9999999999999982 + 0.0im, 1.9999999999999982 + 0.0im  …  1.9999999999999982 + 0.0im, 1.9999999999999982 + 0.0im, 1.9999999999999982 + 0.0im, 1.9999999999999982 + 0.0im, 1.9999999999999982 + 0.0im, 1.9999999999999982 + 0.0im, 1.9999999999999982 + 0.0im, 1.9999999999999982 + 0.0im, 1.9999999999999982 + 0.0im, 1.9999999999999982 + 0.0im], 2187, 2187), sparse([1, 2, 3, 4, 5, 6, 7, 8, 9, 10  …  2178, 2179, 2180, 2181, 2182, 2183, 2184, 2185, 2186, 2187], [1, 2, 3, 4, 5, 6, 7, 8, 9, 10  …  2178, 2179, 2180, 2181, 2182, 2183, 2184, 2185, 2186, 2187], ComplexF64[5.0 + 0.0im, 5.0 + 0.0im, 5.0 + 0.0im, 4.0 + 0.0im, 4.0 + 0.0im, 4.0 + 0.0im, 3.0 + 0.0im, 3.0 + 0.0im, 3.0 + 0.0im, 3.0 + 0.0im  …  3.0 + 0.0im, 3.0 + 0.0im, 3.0 + 0.0im, 3.0 + 0.0im, 4.0 + 0.0im, 4.0 + 0.0im, 4.0 + 0.0im, 5.0 + 0.0im, 5.0 + 0.0im, 5.0 + 0.0im], 2187, 2187), SparseMatrixCSC{ComplexF64, Int64}[sparse([1, 2, 3, 4, 5, 6, 7, 8, 9, 10  …  2178, 2179, 2180, 2181, 2182, 2183, 2184, 2185, 2186, 2187], [1, 2, 3, 4, 5, 6, 7, 8, 9, 10  …  2178, 2179, 2180, 2181, 2182, 2183, 2184, 2185, 2186, 2187], ComplexF64[1.0 + 0.0im, 1.0 + 0.0im, 1.0 + 0.0im, 1.0 + 0.0im, 1.0 + 0.0im, 1.0 + 0.0im, 1.0 + 0.0im, 1.0 + 0.0im, 1.0 + 0.0im, 1.0 + 0.0im  …  1.0 + 0.0im, 1.0 + 0.0im, 1.0 + 0.0im, 1.0 + 0.0im, 1.0 + 0.0im, 1.0 + 0.0im, 1.0 + 0.0im, 1.0 + 0.0im, 1.0 + 0.0im, 1.0 + 0.0im], 2187, 2187), sparse([1, 2, 3, 4, 5, 6, 7, 8, 9, 10  …  2178, 2179, 2180, 2181, 2182, 2183, 2184, 2185, 2186, 2187], [1, 2, 3, 4, 5, 6, 7, 8, 9, 10  …  2178, 2179, 2180, 2181, 2182, 2183, 2184, 2185, 2186, 2187], ComplexF64[1.0 + 0.0im, 1.0 + 0.0im, 1.0 + 0.0im, 1.0 + 0.0im, 1.0 + 0.0im, 1.0 + 0.0im, 1.0 + 0.0im, 1.0 + 0.0im, 1.0 + 0.0im, 1.0 + 0.0im  …  1.0 + 0.0im, 1.0 + 0.0im, 1.0 + 0.0im, 1.0 + 0.0im, 1.0 + 0.0im, 1.0 + 0.0im, 1.0 + 0.0im, 1.0 + 0.0im, 1.0 + 0.0im, 1.0 + 0.0im], 2187, 2187), sparse([1, 2, 3, 4, 5, 6, 7, 8, 9, 10  …  2178, 2179, 2180, 2181, 2182, 2183, 2184, 2185, 2186, 2187], [1, 2, 3, 4, 5, 6, 7, 8, 9, 10  …  2178, 2179, 2180, 2181, 2182, 2183, 2184, 2185, 2186, 2187], ComplexF64[1.0 + 0.0im, 1.0 + 0.0im, 1.0 + 0.0im, 1.0 + 0.0im, 1.0 + 0.0im, 1.0 + 0.0im, 1.0 + 0.0im, 1.0 + 0.0im, 1.0 + 0.0im, 1.0 + 0.0im  …  1.0 + 0.0im, 1.0 + 0.0im, 1.0 + 0.0im, 1.0 + 0.0im, 1.0 + 0.0im, 1.0 + 0.0im, 1.0 + 0.0im, 1.0 + 0.0im, 1.0 + 0.0im, 1.0 + 0.0im], 2187, 2187), sparse([1, 2, 3, 4, 5, 6, 7, 8, 9, 10  …  2178, 2179, 2180, 2181, 2182, 2183, 2184, 2185, 2186, 2187], [1, 2, 3, 4, 5, 6, 7, 8, 9, 10  …  2178, 2179, 2180, 2181, 2182, 2183, 2184, 2185, 2186, 2187], ComplexF64[1.0 + 0.0im, 1.0 + 0.0im, 1.0 + 0.0im, 1.0 + 0.0im, 1.0 + 0.0im, 1.0 + 0.0im, 1.0 + 0.0im, 1.0 + 0.0im, 1.0 + 0.0im, 1.0 + 0.0im  …  1.0 + 0.0im, 1.0 + 0.0im, 1.0 + 0.0im, 1.0 + 0.0im, 1.0 + 0.0im, 1.0 + 0.0im, 1.0 + 0.0im, 1.0 + 0.0im, 1.0 + 0.0im, 1.0 + 0.0im], 2187, 2187), sparse([1, 2, 3, 4, 5, 6, 7, 8, 9, 19  …  2169, 2179, 2180, 2181, 2182, 2183, 2184, 2185, 2186, 2187], [1, 2, 3, 4, 5, 6, 7, 8, 9, 19  …  2169, 2179, 2180, 2181, 2182, 2183, 2184, 2185, 2186, 2187], ComplexF64[1.0 + 0.0im, 1.0 + 0.0im, 1.0 + 0.0im, 1.0 + 0.0im, 1.0 + 0.0im, 1.0 + 0.0im, 1.0 + 0.0im, 1.0 + 0.0im, 1.0 + 0.0im, 1.0 + 0.0im  …  1.0 + 0.0im, 1.0 + 0.0im, 1.0 + 0.0im, 1.0 + 0.0im, 1.0 + 0.0im, 1.0 + 0.0im, 1.0 + 0.0im, 1.0 + 0.0im, 1.0 + 0.0im, 1.0 + 0.0im], 2187, 2187), sparse([1, 2, 3, 7, 8, 9, 10, 11, 12, 16  …  2172, 2176, 2177, 2178, 2179, 2180, 2181, 2185, 2186, 2187], [1, 2, 3, 7, 8, 9, 10, 11, 12, 16  …  2172, 2176, 2177, 2178, 2179, 2180, 2181, 2185, 2186, 2187], ComplexF64[1.0 + 0.0im, 1.0 + 0.0im, 1.0 + 0.0im, 1.0 + 0.0im, 1.0 + 0.0im, 1.0 + 0.0im, 1.0 + 0.0im, 1.0 + 0.0im, 1.0 + 0.0im, 1.0 + 0.0im  …  1.0 + 0.0im, 1.0 + 0.0im, 1.0 + 0.0im, 1.0 + 0.0im, 1.0 + 0.0im, 1.0 + 0.0im, 1.0 + 0.0im, 1.0 + 0.0im, 1.0 + 0.0im, 1.0 + 0.0im], 2187, 2187), sparse([1, 3, 4, 6, 7, 9, 10, 12, 13, 15  …  2173, 2175, 2176, 2178, 2179, 2181, 2182, 2184, 2185, 2187], [1, 3, 4, 6, 7, 9, 10, 12, 13, 15  …  2173, 2175, 2176, 2178, 2179, 2181, 2182, 2184, 2185, 2187], ComplexF64[1.0 + 0.0im, 1.0 + 0.0im, 1.0 + 0.0im, 1.0 + 0.0im, 1.0 + 0.0im, 1.0 + 0.0im, 1.0 + 0.0im, 1.0 + 0.0im, 1.0 + 0.0im, 1.0 + 0.0im  …  1.0 + 0.0im, 1.0 + 0.0im, 1.0 + 0.0im, 1.0 + 0.0im, 1.0 + 0.0im, 1.0 + 0.0im, 1.0 + 0.0im, 1.0 + 0.0im, 1.0 + 0.0im, 1.0 + 0.0im], 2187, 2187)], SparseMatrixCSC{ComplexF64, Int64}[sparse([1, 2, 3, 4, 5, 6, 7, 8, 9, 10  …  2178, 2179, 2180, 2181, 2182, 2183, 2184, 2185, 2186, 2187], [1, 2, 3, 4, 5, 6, 7, 8, 9, 10  …  2178, 2179, 2180, 2181, 2182, 2183, 2184, 2185, 2186, 2187], ComplexF64[1.0 + 0.0im, 1.0 + 0.0im, 1.0 + 0.0im, 1.0 + 0.0im, 1.0 + 0.0im, 1.0 + 0.0im, 1.0 + 0.0im, 1.0 + 0.0im, 1.0 + 0.0im, 1.0 + 0.0im  …  -1.0 + 0.0im, -1.0 + 0.0im, -1.0 + 0.0im, -1.0 + 0.0im, -1.0 + 0.0im, -1.0 + 0.0im, -1.0 + 0.0im, -1.0 + 0.0im, -1.0 + 0.0im, -1.0 + 0.0im], 2187, 2187), sparse([1, 2, 3, 4, 5, 6, 7, 8, 9, 10  …  2178, 2179, 2180, 2181, 2182, 2183, 2184, 2185, 2186, 2187], [1, 2, 3, 4, 5, 6, 7, 8, 9, 10  …  2178, 2179, 2180, 2181, 2182, 2183, 2184, 2185, 2186, 2187], ComplexF64[1.0 + 0.0im, 1.0 + 0.0im, 1.0 + 0.0im, 1.0 + 0.0im, 1.0 + 0.0im, 1.0 + 0.0im, 1.0 + 0.0im, 1.0 + 0.0im, 1.0 + 0.0im, 1.0 + 0.0im  …  -1.0 + 0.0im, -1.0 + 0.0im, -1.0 + 0.0im, -1.0 + 0.0im, -1.0 + 0.0im, -1.0 + 0.0im, -1.0 + 0.0im, -1.0 + 0.0im, -1.0 + 0.0im, -1.0 + 0.0im], 2187, 2187), sparse([1, 2, 3, 4, 5, 6, 7, 8, 9, 10  …  2178, 2179, 2180, 2181, 2182, 2183, 2184, 2185, 2186, 2187], [1, 2, 3, 4, 5, 6, 7, 8, 9, 10  …  2178, 2179, 2180, 2181, 2182, 2183, 2184, 2185, 2186, 2187], ComplexF64[1.0 + 0.0im, 1.0 + 0.0im, 1.0 + 0.0im, 1.0 + 0.0im, 1.0 + 0.0im, 1.0 + 0.0im, 1.0 + 0.0im, 1.0 + 0.0im, 1.0 + 0.0im, 1.0 + 0.0im  …  -1.0 + 0.0im, -1.0 + 0.0im, -1.0 + 0.0im, -1.0 + 0.0im, -1.0 + 0.0im, -1.0 + 0.0im, -1.0 + 0.0im, -1.0 + 0.0im, -1.0 + 0.0im, -1.0 + 0.0im], 2187, 2187), sparse([1, 2, 3, 4, 5, 6, 7, 8, 9, 10  …  2178, 2179, 2180, 2181, 2182, 2183, 2184, 2185, 2186, 2187], [1, 2, 3, 4, 5, 6, 7, 8, 9, 10  …  2178, 2179, 2180, 2181, 2182, 2183, 2184, 2185, 2186, 2187], ComplexF64[1.0 + 0.0im, 1.0 + 0.0im, 1.0 + 0.0im, 1.0 + 0.0im, 1.0 + 0.0im, 1.0 + 0.0im, 1.0 + 0.0im, 1.0 + 0.0im, 1.0 + 0.0im, 1.0 + 0.0im  …  -1.0 + 0.0im, -1.0 + 0.0im, -1.0 + 0.0im, -1.0 + 0.0im, -1.0 + 0.0im, -1.0 + 0.0im, -1.0 + 0.0im, -1.0 + 0.0im, -1.0 + 0.0im, -1.0 + 0.0im], 2187, 2187), sparse([1, 2, 3, 4, 5, 6, 7, 8, 9, 19  …  2169, 2179, 2180, 2181, 2182, 2183, 2184, 2185, 2186, 2187], [1, 2, 3, 4, 5, 6, 7, 8, 9, 19  …  2169, 2179, 2180, 2181, 2182, 2183, 2184, 2185, 2186, 2187], ComplexF64[1.0 + 0.0im, 1.0 + 0.0im, 1.0 + 0.0im, 1.0 + 0.0im, 1.0 + 0.0im, 1.0 + 0.0im, 1.0 + 0.0im, 1.0 + 0.0im, 1.0 + 0.0im, -1.0 + 0.0im  …  1.0 + 0.0im, -1.0 + 0.0im, -1.0 + 0.0im, -1.0 + 0.0im, -1.0 + 0.0im, -1.0 + 0.0im, -1.0 + 0.0im, -1.0 + 0.0im, -1.0 + 0.0im, -1.0 + 0.0im], 2187, 2187), sparse([1, 2, 3, 7, 8, 9, 10, 11, 12, 16  …  2172, 2176, 2177, 2178, 2179, 2180, 2181, 2185, 2186, 2187], [1, 2, 3, 7, 8, 9, 10, 11, 12, 16  …  2172, 2176, 2177, 2178, 2179, 2180, 2181, 2185, 2186, 2187], ComplexF64[1.0 + 0.0im, 1.0 + 0.0im, 1.0 + 0.0im, -1.0 + 0.0im, -1.0 + 0.0im, -1.0 + 0.0im, 1.0 + 0.0im, 1.0 + 0.0im, 1.0 + 0.0im, -1.0 + 0.0im  …  1.0 + 0.0im, -1.0 + 0.0im, -1.0 + 0.0im, -1.0 + 0.0im, 1.0 + 0.0im, 1.0 + 0.0im, 1.0 + 0.0im, -1.0 + 0.0im, -1.0 + 0.0im, -1.0 + 0.0im], 2187, 2187), sparse([1, 3, 4, 6, 7, 9, 10, 12, 13, 15  …  2173, 2175, 2176, 2178, 2179, 2181, 2182, 2184, 2185, 2187], [1, 3, 4, 6, 7, 9, 10, 12, 13, 15  …  2173, 2175, 2176, 2178, 2179, 2181, 2182, 2184, 2185, 2187], ComplexF64[1.0 + 0.0im, -1.0 + 0.0im, 1.0 + 0.0im, -1.0 + 0.0im, 1.0 + 0.0im, -1.0 + 0.0im, 1.0 + 0.0im, -1.0 + 0.0im, 1.0 + 0.0im, -1.0 + 0.0im  …  1.0 + 0.0im, -1.0 + 0.0im, 1.0 + 0.0im, -1.0 + 0.0im, 1.0 + 0.0im, -1.0 + 0.0im, 1.0 + 0.0im, -1.0 + 0.0im, 1.0 + 0.0im, -1.0 + 0.0im], 2187, 2187)])"
      ]
     },
     "metadata": {},
     "output_type": "display_data"
    }
   ],
   "source": [
    "Ha, _, _, Hd, He, _, _ = Hamiltonian_an(7)"
   ]
  },
  {
   "cell_type": "code",
   "execution_count": 15,
   "id": "36a691cb",
   "metadata": {},
   "outputs": [
    {
     "data": {
      "text/plain": [
       "2187×2187 SparseMatrixCSC{ComplexF64, Int64} with 0 stored entries:\n",
       "⎡⠀⠀⠀⠀⠀⠀⠀⠀⠀⠀⠀⠀⠀⠀⠀⠀⠀⠀⠀⠀⠀⠀⠀⠀⠀⠀⠀⠀⠀⠀⠀⠀⠀⠀⠀⠀⠀⠀⠀⠀⎤\n",
       "⎢⠀⠀⠀⠀⠀⠀⠀⠀⠀⠀⠀⠀⠀⠀⠀⠀⠀⠀⠀⠀⠀⠀⠀⠀⠀⠀⠀⠀⠀⠀⠀⠀⠀⠀⠀⠀⠀⠀⠀⠀⎥\n",
       "⎢⠀⠀⠀⠀⠀⠀⠀⠀⠀⠀⠀⠀⠀⠀⠀⠀⠀⠀⠀⠀⠀⠀⠀⠀⠀⠀⠀⠀⠀⠀⠀⠀⠀⠀⠀⠀⠀⠀⠀⠀⎥\n",
       "⎢⠀⠀⠀⠀⠀⠀⠀⠀⠀⠀⠀⠀⠀⠀⠀⠀⠀⠀⠀⠀⠀⠀⠀⠀⠀⠀⠀⠀⠀⠀⠀⠀⠀⠀⠀⠀⠀⠀⠀⠀⎥\n",
       "⎢⠀⠀⠀⠀⠀⠀⠀⠀⠀⠀⠀⠀⠀⠀⠀⠀⠀⠀⠀⠀⠀⠀⠀⠀⠀⠀⠀⠀⠀⠀⠀⠀⠀⠀⠀⠀⠀⠀⠀⠀⎥\n",
       "⎢⠀⠀⠀⠀⠀⠀⠀⠀⠀⠀⠀⠀⠀⠀⠀⠀⠀⠀⠀⠀⠀⠀⠀⠀⠀⠀⠀⠀⠀⠀⠀⠀⠀⠀⠀⠀⠀⠀⠀⠀⎥\n",
       "⎢⠀⠀⠀⠀⠀⠀⠀⠀⠀⠀⠀⠀⠀⠀⠀⠀⠀⠀⠀⠀⠀⠀⠀⠀⠀⠀⠀⠀⠀⠀⠀⠀⠀⠀⠀⠀⠀⠀⠀⠀⎥\n",
       "⎢⠀⠀⠀⠀⠀⠀⠀⠀⠀⠀⠀⠀⠀⠀⠀⠀⠀⠀⠀⠀⠀⠀⠀⠀⠀⠀⠀⠀⠀⠀⠀⠀⠀⠀⠀⠀⠀⠀⠀⠀⎥\n",
       "⎢⠀⠀⠀⠀⠀⠀⠀⠀⠀⠀⠀⠀⠀⠀⠀⠀⠀⠀⠀⠀⠀⠀⠀⠀⠀⠀⠀⠀⠀⠀⠀⠀⠀⠀⠀⠀⠀⠀⠀⠀⎥\n",
       "⎢⠀⠀⠀⠀⠀⠀⠀⠀⠀⠀⠀⠀⠀⠀⠀⠀⠀⠀⠀⠀⠀⠀⠀⠀⠀⠀⠀⠀⠀⠀⠀⠀⠀⠀⠀⠀⠀⠀⠀⠀⎥\n",
       "⎢⠀⠀⠀⠀⠀⠀⠀⠀⠀⠀⠀⠀⠀⠀⠀⠀⠀⠀⠀⠀⠀⠀⠀⠀⠀⠀⠀⠀⠀⠀⠀⠀⠀⠀⠀⠀⠀⠀⠀⠀⎥\n",
       "⎢⠀⠀⠀⠀⠀⠀⠀⠀⠀⠀⠀⠀⠀⠀⠀⠀⠀⠀⠀⠀⠀⠀⠀⠀⠀⠀⠀⠀⠀⠀⠀⠀⠀⠀⠀⠀⠀⠀⠀⠀⎥\n",
       "⎢⠀⠀⠀⠀⠀⠀⠀⠀⠀⠀⠀⠀⠀⠀⠀⠀⠀⠀⠀⠀⠀⠀⠀⠀⠀⠀⠀⠀⠀⠀⠀⠀⠀⠀⠀⠀⠀⠀⠀⠀⎥\n",
       "⎢⠀⠀⠀⠀⠀⠀⠀⠀⠀⠀⠀⠀⠀⠀⠀⠀⠀⠀⠀⠀⠀⠀⠀⠀⠀⠀⠀⠀⠀⠀⠀⠀⠀⠀⠀⠀⠀⠀⠀⠀⎥\n",
       "⎢⠀⠀⠀⠀⠀⠀⠀⠀⠀⠀⠀⠀⠀⠀⠀⠀⠀⠀⠀⠀⠀⠀⠀⠀⠀⠀⠀⠀⠀⠀⠀⠀⠀⠀⠀⠀⠀⠀⠀⠀⎥\n",
       "⎢⠀⠀⠀⠀⠀⠀⠀⠀⠀⠀⠀⠀⠀⠀⠀⠀⠀⠀⠀⠀⠀⠀⠀⠀⠀⠀⠀⠀⠀⠀⠀⠀⠀⠀⠀⠀⠀⠀⠀⠀⎥\n",
       "⎢⠀⠀⠀⠀⠀⠀⠀⠀⠀⠀⠀⠀⠀⠀⠀⠀⠀⠀⠀⠀⠀⠀⠀⠀⠀⠀⠀⠀⠀⠀⠀⠀⠀⠀⠀⠀⠀⠀⠀⠀⎥\n",
       "⎢⠀⠀⠀⠀⠀⠀⠀⠀⠀⠀⠀⠀⠀⠀⠀⠀⠀⠀⠀⠀⠀⠀⠀⠀⠀⠀⠀⠀⠀⠀⠀⠀⠀⠀⠀⠀⠀⠀⠀⠀⎥\n",
       "⎢⠀⠀⠀⠀⠀⠀⠀⠀⠀⠀⠀⠀⠀⠀⠀⠀⠀⠀⠀⠀⠀⠀⠀⠀⠀⠀⠀⠀⠀⠀⠀⠀⠀⠀⠀⠀⠀⠀⠀⠀⎥\n",
       "⎣⠀⠀⠀⠀⠀⠀⠀⠀⠀⠀⠀⠀⠀⠀⠀⠀⠀⠀⠀⠀⠀⠀⠀⠀⠀⠀⠀⠀⠀⠀⠀⠀⠀⠀⠀⠀⠀⠀⠀⠀⎦"
      ]
     },
     "metadata": {},
     "output_type": "display_data"
    }
   ],
   "source": [
    "(Ha + Hd + He) * total_Sz2(7) - total_Sz2(7) * (Ha + Hd + He)"
   ]
  },
  {
   "cell_type": "code",
   "execution_count": 33,
   "id": "88b8df3c",
   "metadata": {},
   "outputs": [
    {
     "data": {
      "text/plain": [
       "neel_spin1_complex (generic function with 1 method)"
      ]
     },
     "metadata": {},
     "output_type": "display_data"
    }
   ],
   "source": [
    "include(\"s3_anc.jl\")"
   ]
  },
  {
   "cell_type": "code",
   "execution_count": 34,
   "id": "13b0a9c1",
   "metadata": {},
   "outputs": [
    {
     "data": {
      "text/plain": [
       "70-element Vector{Float64}:\n",
       " 1.0986122886681096\n",
       " 1.0986122886681098\n",
       " 1.0986122886681098\n",
       " 1.0986122886681096\n",
       " 1.0986122886681098\n",
       " 1.0986122886681098\n",
       " 1.0986122886681098\n",
       " 1.0986122886681096\n",
       " 1.0986122886681096\n",
       " 1.0986122886681098\n",
       " ⋮\n",
       " 1.0986122886681096\n",
       " 1.0986122886681098\n",
       " 1.0986122886681098\n",
       " 1.0986122886681096\n",
       " 1.0986122886681098\n",
       " 1.0986122886681098\n",
       " 1.0986122886681096\n",
       " 1.0986122886681098\n",
       " 1.0986122886681096"
      ]
     },
     "metadata": {},
     "output_type": "display_data"
    }
   ],
   "source": [
    "Entropy_z2_an(7, 1.0, 0.0, 0)"
   ]
  },
  {
   "cell_type": "code",
   "execution_count": 1,
   "id": "2f263588",
   "metadata": {},
   "outputs": [
    {
     "data": {
      "text/plain": [
       "neel_spin1_complex (generic function with 1 method)"
      ]
     },
     "metadata": {},
     "output_type": "display_data"
    }
   ],
   "source": [
    "include(\"s3_anc.jl\")"
   ]
  },
  {
   "cell_type": "code",
   "execution_count": null,
   "id": "6fd11825",
   "metadata": {},
   "outputs": [],
   "source": []
  }
 ],
 "metadata": {
  "kernelspec": {
   "display_name": "Julia 1.11.5",
   "language": "julia",
   "name": "julia-1.11"
  },
  "language_info": {
   "file_extension": ".jl",
   "mimetype": "application/julia",
   "name": "julia",
   "version": "1.11.5"
  }
 },
 "nbformat": 4,
 "nbformat_minor": 5
}
