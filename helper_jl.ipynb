{
 "cells": [
  {
   "cell_type": "code",
   "execution_count": null,
   "id": "6d1a5567",
   "metadata": {},
   "outputs": [],
   "source": [
    "import Pkg\n",
    "\n",
    "Pkg.add(\"SparseArrays\")\n",
    "Pkg.add(\"LinearAlgebra\")\n",
    "Pkg.add(\"SpecialFunctions\")\n",
    "Pkg.add(\"Arpack\")   \n",
    "Pkg.add(\"DelimitedFiles\")\n",
    "Pkg.add(\"NPZ\")\n",
    "Pkg.add(\"Random\")\n",
    "Pkg.add(\"Statistics\")\n",
    "Pkg.add(\"ExpmV\")"
   ]
  },
  {
   "cell_type": "code",
   "execution_count": null,
   "id": "b58ea1d1",
   "metadata": {},
   "outputs": [],
   "source": [
    "using SparseArrays\n",
    "using LinearAlgebra\n",
    "using SpecialFunctions  # for besselj\n",
    "using Arpack  # for eigs on sparse matrices\n",
    "using Statistics\n",
    "using Random\n",
    "using DelimitedFiles\n",
    "using NPZ\n",
    "using ExpmV\n"
   ]
  },
  {
   "cell_type": "code",
   "execution_count": null,
   "id": "3cf74d9c",
   "metadata": {},
   "outputs": [],
   "source": [
    "function von_neumann_entropy(ψ::Vector{<:Complex}, cut::Int, L::Int)\n",
    "    dimA = 3^cut\n",
    "    dimB = 3^(L - cut)\n",
    "    ψ_matrix = reshape(ψ, (dimA, dimB))\n",
    "    svals = svdvals(ψ_matrix)\n",
    "    S = 0.0\n",
    "    for s in svals\n",
    "        p = abs2(s)\n",
    "        if p > 0 && p > 1e-15\n",
    "            S -= p * log(p)\n",
    "        end\n",
    "    end\n",
    "    return S\n",
    "end"
   ]
  },
  {
   "cell_type": "code",
   "execution_count": null,
   "id": "7d50f7a8",
   "metadata": {},
   "outputs": [],
   "source": [
    "using LinearAlgebra\n",
    "using Random\n",
    "\n",
    "function random_product_state(L::Int)\n",
    "    product_state = nothing\n",
    "\n",
    "    for i in 1:L\n",
    "        θ1 = rand() * π\n",
    "        θ2 = rand() * π\n",
    "        ϕ1 = rand() * 2π\n",
    "        ϕ2 = rand() * 2π\n",
    "\n",
    "        c1 = cos(θ1 / 2)\n",
    "        c2 = exp(im * ϕ1) * sin(θ1 / 2) * sin(θ2 / 2)\n",
    "        c3 = exp(im * ϕ2) * sin(θ1 / 2) * cos(θ2 / 2)\n",
    "\n",
    "        temp_state = [c1, c2, c3]\n",
    "\n",
    "        if i == 1\n",
    "            product_state = temp_state\n",
    "        else\n",
    "            product_state = kron(product_state, temp_state)\n",
    "        end\n",
    "    end\n",
    "\n",
    "    # Normalize the state\n",
    "    product_state /= norm(product_state)\n",
    "\n",
    "    return product_state\n",
    "end"
   ]
  },
  {
   "cell_type": "code",
   "execution_count": null,
   "id": "f85e509d",
   "metadata": {},
   "outputs": [],
   "source": [
    "function Hamiltonian(L)\n",
    "    # Define Pauli matrices as complex sparse matrices\n",
    "    id = sparse(ComplexF64[1 0 0; 0 1 0; 0 0 1])\n",
    "    sx = 1/sqrt(2) * sparse(ComplexF64[0 1 0; 1 0 1; 0 1 0])\n",
    "    sy = 1/sqrt(2) * sparse(ComplexF64[0 -im 0; im 0 -im; 0 im 0])\n",
    "    sz = sparse(ComplexF64[1 0 0; 0 0 0; 0 0 -1])\n",
    "\n",
    "    sp = 1/sqrt(2) * (sx + im * sy)\n",
    "    sm = 1/sqrt(2) * (sx - im * sy)\n",
    "\n",
    "    # Preallocate vectors of operators with correct type\n",
    "    #sx_list = Vector{SparseMatrixCSC{ComplexF64, Int}}(undef, L)\n",
    "    #sy_list = Vector{SparseMatrixCSC{ComplexF64, Int}}(undef, L)\n",
    "    szl = Vector{SparseMatrixCSC{ComplexF64, Int}}(undef, L) # List of sz operators\n",
    "    sz2l = Vector{SparseMatrixCSC{ComplexF64, Int}}(undef, L) # List of sz² operators\n",
    "    spl = Vector{SparseMatrixCSC{ComplexF64, Int}}(undef, L) # List of sp operators\n",
    "    sml = Vector{SparseMatrixCSC{ComplexF64, Int}}(undef, L) # List of sm operators\n",
    "\n",
    "    for i_site in 1:L\n",
    "        p_ops = fill(id, L)\n",
    "        m_ops = fill(id, L)\n",
    "        z_ops = fill(id, L)\n",
    "        z2_ops = fill(id, L)\n",
    "        p_ops[i_site] = sp\n",
    "        m_ops[i_site] = sm\n",
    "        z_ops[i_site] = sz\n",
    "        z2_ops[i_site] = sz^2\n",
    "\n",
    "        # Build the full operator by tensoring\n",
    "        P = p_ops[1]\n",
    "        M = m_ops[1]\n",
    "        Z = z_ops[1]\n",
    "        Z2 = z2_ops[1]\n",
    "        for j in 2:L\n",
    "            P = kron(P, p_ops[j])\n",
    "            M = kron(M, m_ops[j])\n",
    "            Z = kron(Z, z_ops[j])\n",
    "            Z2 = kron(Z2, z2_ops[j])\n",
    "        end\n",
    "\n",
    "        spl[i_site] = P\n",
    "        sml[i_site] = M\n",
    "        szl[i_site] = Z\n",
    "        sz2l[i_site] = Z2\n",
    "    end\n",
    "\n",
    "    dim = 3^L\n",
    "    H = spzeros(ComplexF64, dim, dim)\n",
    "\n",
    "    for i in 1:L\n",
    "        ip = (i % L) + 1  # Periodic boundary\n",
    "        H += ((spl[i]^2 * sml[ip]^2 + sml[i]^2 * spl[ip]^2) + adjoint((spl[i]^2 * sml[ip]^2 + sml[i]^2 * spl[ip]^2)))\n",
    "    end\n",
    "\n",
    "    return H, sz2l, szl \n",
    "end"
   ]
  },
  {
   "cell_type": "code",
   "execution_count": null,
   "id": "f9e0dcec",
   "metadata": {},
   "outputs": [],
   "source": [
    "using ExpmV\n",
    "\n",
    "function time_evolution(ψ::Vector{ComplexF64}, dt::Float64, L)\n",
    "    ψ /= norm(ψ)\n",
    "    H, _, _ = Hamiltonian(L)\n",
    "\n",
    "    # Apply exp(-im * H * dt) directly to ψ\n",
    "    ψ_new = expmv(-im * dt, H, ψ)\n",
    "\n",
    "    # Normalize the state\n",
    "    ψ_new /= norm(ψ_new)\n",
    "    \n",
    "    return ψ_new\n",
    "end\n"
   ]
  },
  {
   "cell_type": "code",
   "execution_count": null,
   "id": "e45e1982",
   "metadata": {},
   "outputs": [],
   "source": [
    "state = time_evolution(random_product_state(13), 1.0, 13)"
   ]
  },
  {
   "cell_type": "code",
   "execution_count": null,
   "id": "221c204f",
   "metadata": {},
   "outputs": [],
   "source": [
    "von_neumann_entropy(state, 6, 13)"
   ]
  },
  {
   "cell_type": "code",
   "execution_count": null,
   "id": "bc6007e8",
   "metadata": {},
   "outputs": [],
   "source": [
    "function Entropy_t(L::Int, T::Float64, dt::Float64, p::Float64, direction::String, shot::Int)\n",
    "    Random.seed!(shot)  # Set random seed\n",
    "    s_t = random_product_state(L)\n",
    "    S_list = Float64[]\n",
    "\n",
    "    # Define Hamiltonian and local observables\n",
    "    H, sz2l, szl = Hamiltonian(L)\n",
    "    \n",
    "    if direction == \"Z2\"\n",
    "        sm_list = sz2l\n",
    "    elseif direction == \"Z\"\n",
    "        sm_list = szl\n",
    "    else\n",
    "        error(\"Invalid direction: $direction. Choose \\\"Z2\\\" or \\\"Z\\\".\")\n",
    "    end\n",
    "\n",
    "\n",
    "    steps = Int(floor(T / dt))\n",
    "\n",
    "    for _ in 1:steps\n",
    "        push!(S_list, von_neumann_entropy(s_t, L÷2, L))\n",
    "        #push!(S_list, I3(s_t))\n",
    "\n",
    "        # Time evolution\n",
    "        s_t = time_evolution(s_t, dt)\n",
    "        s_t /= norm(s_t)\n",
    "\n",
    "        # Measurements\n",
    "        if p != 0\n",
    "            for l in 1:L\n",
    "                x = rand()\n",
    "                if x < p\n",
    "                    m_op = sm_list[l]\n",
    "                    p_m = real(s_t' * (m_op * s_t))\n",
    "                    if rand() < p_m\n",
    "                        s_t = (m_op * s_t) / sqrt(p_m)\n",
    "                    else\n",
    "                        s_t = (s_t - m_op * s_t) / sqrt(1 - p_m)\n",
    "                    end\n",
    "                end\n",
    "            end\n",
    "        end\n",
    "    end\n",
    "\n",
    "    # Save result to disk\n",
    "    filename = \"L$(L),T$(T),dt$(dt),p$(p),dir$(direction),s$(shot).npy\"\n",
    "    #npzwrite(filename, S_list)\n",
    "\n",
    "    return S_list\n",
    "end"
   ]
  },
  {
   "cell_type": "code",
   "execution_count": null,
   "id": "615e719c",
   "metadata": {},
   "outputs": [],
   "source": [
    "Entropy_t(8, 100.0, 1.0, 1.0, \"Z2\", 1)"
   ]
  },
  {
   "cell_type": "code",
   "execution_count": null,
   "id": "99304bca",
   "metadata": {},
   "outputs": [],
   "source": [
    "function I3(psi::Vector{ComplexF64})\n",
    "    log3(x) = log(x) / log(3)\n",
    "\n",
    "    L = Int(round(log3(length(psi))))\n",
    "    qL = L ÷ 4\n",
    "\n",
    "    SA   = von_neumann_entropy(psi, qL, L)\n",
    "    SB   = von_neumann_entropy(psi, 2qL, L)\n",
    "    SC   = von_neumann_entropy(psi, 3qL, L)\n",
    "    SABC = von_neumann_entropy(psi, L, L)\n",
    "    SAB  = von_neumann_entropy(psi, 2qL, L)\n",
    "    SAC  = von_neumann_entropy(psi, 3qL, L)\n",
    "    SBC  = von_neumann_entropy(psi, 3qL, L)\n",
    "    \n",
    "\n",
    "\n",
    "    return SA + SB + SC + SABC - SAB - SAC - SBC\n",
    "end"
   ]
  },
  {
   "cell_type": "code",
   "execution_count": null,
   "id": "98604b11",
   "metadata": {},
   "outputs": [],
   "source": [
    "function Entropy_t_z(L::Int, T::Float64, dt::Float64, p::Float64, shot::Int)\n",
    "    Random.seed!(shot)  # Set random seed\n",
    "    s_t = random_product_state(L)\n",
    "    S_list = Float64[]\n",
    "\n",
    "    # Define Hamiltonian and local observables\n",
    "    H, sz2l, szl = Hamiltonian(L)\n",
    "    sm_list = szl\n",
    "    steps = Int(floor(T / dt))\n",
    "\n",
    "    for _ in 1:steps\n",
    "        push!(S_list, von_neumann_entropy(s_t, L÷2, L))\n",
    "        #push!(S_list, I3(s_t))\n",
    "\n",
    "        # Time evolution\n",
    "        s_t = time_evolution(s_t, dt)\n",
    "        s_t /= norm(s_t)\n",
    "\n",
    "        # Measurements\n",
    "        if p != 0\n",
    "            for l in 1:L\n",
    "                x = rand()\n",
    "                if x < p\n",
    "                    m_op = sm_list[l]\n",
    "                    p_m_mone = 0.5 * real(s_t' * (sz2l[l]-sm_list[l]) * s_t)\n",
    "                    p_m_one = 0.5 * real(s_t' * (sz2l[l] + sm_list[l]) * s_t)\n",
    "                    x1 = rand()\n",
    "                    if x1 < p_m_mone\n",
    "                        s_t = 0.5 * ((sz2l[l]-sm_list[l]) * s_t) / sqrt(p_m_mone)\n",
    "                    elseif p_m_mone < x1 < p_m_one + p_m_mone\n",
    "                        s_t = 0.5 * ((sz2l[l]+sm_list[l]) * s_t) / sqrt(p_m_one)\n",
    "                    else\n",
    "                        s_t = (s_t - sz2l[l] * s_t) / sqrt(1 - p_m_mone - p_m_one)\n",
    "                    end\n",
    "                end\n",
    "            end\n",
    "        end\n",
    "    end\n",
    "\n",
    "    # Save result to disk\n",
    "    filename = \"L$(L),T$(T),dt$(dt),p$(p),dirZ,s$(shot).npy\"\n",
    "    npzwrite(filename, S_list)\n",
    "\n",
    "    return S_list\n",
    "end"
   ]
  },
  {
   "cell_type": "code",
   "execution_count": null,
   "id": "e693f479",
   "metadata": {},
   "outputs": [],
   "source": [
    "include(\"s3.jl\")"
   ]
  },
  {
   "cell_type": "code",
   "execution_count": null,
   "id": "931a67e1",
   "metadata": {},
   "outputs": [],
   "source": [
    "Entropy_t_z(8, 100.0, 1.0, 0.3, 398)"
   ]
  },
  {
   "cell_type": "markdown",
   "id": "ac2c198c",
   "metadata": {},
   "source": [
    "for L in [8]\n",
    "    for T in [100.0]\n",
    "        for dt in [1.0]\n",
    "            for p in [0.1, 0.2, 0.3, 0.4, 0.5, 0.6, 0.7, 0.8, 0.9, 1.0]\n",
    "                for shot in 1:500\n",
    "                    Entropy_t_z(L, T, dt, p, shot)\n",
    "                end\n",
    "            end\n",
    "        end\n",
    "    end\n",
    "end\n",
    "\n",
    "This took 320 minutes to run"
   ]
  },
  {
   "cell_type": "markdown",
   "id": "be50f86a",
   "metadata": {},
   "source": [
    "### Ancilla purification code"
   ]
  },
  {
   "cell_type": "code",
   "execution_count": null,
   "id": "aec4bd06",
   "metadata": {},
   "outputs": [],
   "source": [
    "using SparseArrays\n",
    "using LinearAlgebra\n",
    "using Arpack\n",
    "using Statistics\n",
    "using Random\n",
    "using DelimitedFiles\n",
    "using NPZ\n",
    "using ExpmV\n",
    "\n",
    "function von_neumann_entropy(ψ::Vector{<:Complex}, cut::Int, L::Int)\n",
    "    dimA = 3^cut\n",
    "    dimB = 3^(L - cut)\n",
    "    ψ_matrix = reshape(ψ, (dimA, dimB))\n",
    "    svals = svdvals(ψ_matrix)\n",
    "    S = 0.0\n",
    "    for s in svals\n",
    "        if s > 1e-15\n",
    "            p = abs2(s)\n",
    "            S -= p * log(p)\n",
    "        end\n",
    "    end\n",
    "    return S\n",
    "end\n",
    "\n",
    "function random_product_state(L::Int)\n",
    "    product_state = nothing\n",
    "\n",
    "    for i in 1:L\n",
    "        θ1 = rand() * π\n",
    "        θ2 = rand() * π\n",
    "        ϕ1 = rand() * 2π\n",
    "        ϕ2 = rand() * 2π\n",
    "\n",
    "        c1 = cos(θ1 / 2)\n",
    "        c2 = exp(im * ϕ1) * sin(θ1 / 2) * sin(θ2 / 2)\n",
    "        c3 = exp(im * ϕ2) * sin(θ1 / 2) * cos(θ2 / 2)\n",
    "\n",
    "        temp_state = [c1, c2, c3]\n",
    "\n",
    "        if i == 1\n",
    "            product_state = temp_state\n",
    "        else\n",
    "            product_state = kron(product_state, temp_state)\n",
    "        end\n",
    "    end\n",
    "\n",
    "    # Normalize the state\n",
    "    product_state /= norm(product_state)\n",
    "\n",
    "    return product_state\n",
    "end\n",
    "\n",
    "function time_evolution(ψ::Vector{ComplexF64}, dt::Float64, L)\n",
    "    ψ /= norm(ψ)\n",
    "    Ha, Hb, Hc, _, _ = Hamiltonian(L)\n",
    "    a = 2π * rand()\n",
    "    b = 2π * rand()\n",
    "    c = 2π * rand()\n",
    "    # Apply exp(-im * H * dt) directly to ψ\n",
    "    H = a * Ha + b * Hb + c * Hc\n",
    "    ψ_new = expmv(-im * dt, H, ψ)\n",
    "\n",
    "    # Normalize the state\n",
    "    ψ_new /= norm(ψ_new)\n",
    "    \n",
    "    return ψ_new\n",
    "end\n",
    "\n",
    "function I3(psi::Vector{ComplexF64})\n",
    "    log3(x) = log(x) / log(3)\n",
    "\n",
    "    L = Int(round(log3(length(psi))))\n",
    "    qL = L ÷ 4\n",
    "\n",
    "    SA   = von_neumann_entropy(psi, qL, L)\n",
    "    SB   = von_neumann_entropy(psi, 2qL, L)\n",
    "    SC   = von_neumann_entropy(psi, 3qL, L)\n",
    "    SABC = von_neumann_entropy(psi, L, L)\n",
    "    SAB  = von_neumann_entropy(psi, 2qL, L)\n",
    "    SAC  = von_neumann_entropy(psi, 3qL, L)\n",
    "    SBC  = von_neumann_entropy(psi, 3qL, L)\n",
    "    \n",
    "    return SA + SB + SC + SABC - SAB - SAC - SBC\n",
    "end\n",
    "\n",
    "### This function is for Z measurements only\n",
    "\n",
    "function Entropy_t_z(L::Int, T::Float64, dt::Float64, p::Float64, shot::Int)\n",
    "    Random.seed!(shot)  # Set random seed\n",
    "    s_t = random_product_state(L)\n",
    "    S_list = Float64[]\n",
    "\n",
    "    # Define Hamiltonian and local observables\n",
    "    _, _, _, sz2l, szl = Hamiltonian(L)\n",
    "    sm_list = szl\n",
    "    steps = Int(floor(T / dt))\n",
    "\n",
    "    for _ in 1:steps\n",
    "        #push!(S_list, von_neumann_entropy(s_t, L÷2, L))\n",
    "        push!(S_list, I3(s_t))\n",
    "\n",
    "        # Time evolution\n",
    "        s_t = time_evolution(s_t, dt, L)\n",
    "        s_t /= norm(s_t)\n",
    "\n",
    "        # Measurements\n",
    "        if p != 0\n",
    "            for l in 1:L\n",
    "                x = rand()\n",
    "                if x < p\n",
    "                    m_op = sm_list[l]\n",
    "                    p_m_mone = 0.5 * real(s_t' * (sz2l[l]-sm_list[l]) * s_t)\n",
    "                    p_m_one = 0.5 * real(s_t' * (sz2l[l] + sm_list[l]) * s_t)\n",
    "                    x1 = rand()\n",
    "                    if x1 < p_m_mone\n",
    "                        s_t = 0.5 * ((sz2l[l]-sm_list[l]) * s_t) / sqrt(p_m_mone)\n",
    "                    elseif p_m_mone < x1 < p_m_one + p_m_mone\n",
    "                        s_t = 0.5 * ((sz2l[l]+sm_list[l]) * s_t) / sqrt(p_m_one)\n",
    "                    else\n",
    "                        s_t = (s_t - sz2l[l] * s_t) / sqrt(1 - p_m_mone - p_m_one)\n",
    "                    end\n",
    "                end\n",
    "            end\n",
    "        end\n",
    "    end\n",
    "\n",
    "    # Save result to disk\n",
    "    filename = \"L$(L),T$(T),dt$(dt),p$(p),dirZ,s$(shot).npy\"\n",
    "    npzwrite(filename, S_list)\n",
    "\n",
    "    return S_list\n",
    "end\n",
    "\n",
    "function Hamiltonian(L)\n",
    "    # Define Pauli matrices as complex sparse matrices\n",
    "    id = sparse(ComplexF64[1 0 0; 0 1 0; 0 0 1])\n",
    "    sx = 1/sqrt(2) * sparse(ComplexF64[0 1 0; 1 0 1; 0 1 0])\n",
    "    sy = 1/sqrt(2) * sparse(ComplexF64[0 -im 0; im 0 -im; 0 im 0])\n",
    "    sz = sparse(ComplexF64[1 0 0; 0 0 0; 0 0 -1])\n",
    "\n",
    "    sp = 1/sqrt(2) * (sx + im * sy)\n",
    "    sm = 1/sqrt(2) * (sx - im * sy)\n",
    "\n",
    "    # Preallocate vectors of operators with correct type\n",
    "    #sx_list = Vector{SparseMatrixCSC{ComplexF64, Int}}(undef, L)\n",
    "    #sy_list = Vector{SparseMatrixCSC{ComplexF64, Int}}(undef, L)\n",
    "    szl = Vector{SparseMatrixCSC{ComplexF64, Int}}(undef, L) # List of sz operators\n",
    "    sz2l = Vector{SparseMatrixCSC{ComplexF64, Int}}(undef, L) # List of sz² operators\n",
    "    spl = Vector{SparseMatrixCSC{ComplexF64, Int}}(undef, L) # List of sp operators\n",
    "    sml = Vector{SparseMatrixCSC{ComplexF64, Int}}(undef, L) # List of sm operators\n",
    "\n",
    "    for i_site in 1:L\n",
    "        p_ops = fill(id, L)\n",
    "        m_ops = fill(id, L)\n",
    "        z_ops = fill(id, L)\n",
    "        z2_ops = fill(id, L)\n",
    "        p_ops[i_site] = sp\n",
    "        m_ops[i_site] = sm\n",
    "        z_ops[i_site] = sz\n",
    "        z2_ops[i_site] = sz^2\n",
    "\n",
    "        # Build the full operator by tensoring\n",
    "        P = p_ops[1]\n",
    "        M = m_ops[1]\n",
    "        Z = z_ops[1]\n",
    "        Z2 = z2_ops[1]\n",
    "        for j in 2:L\n",
    "            P = kron(P, p_ops[j])\n",
    "            M = kron(M, m_ops[j])\n",
    "            Z = kron(Z, z_ops[j])\n",
    "            Z2 = kron(Z2, z2_ops[j])\n",
    "        end\n",
    "\n",
    "        spl[i_site] = P\n",
    "        sml[i_site] = M\n",
    "        szl[i_site] = Z\n",
    "        sz2l[i_site] = Z2\n",
    "    end\n",
    "\n",
    "    dim = 3^L\n",
    "    Ha = spzeros(ComplexF64, dim, dim)\n",
    "\n",
    "    for i in 1:L\n",
    "        ip = (i % L) + 1  # Periodic boundary\n",
    "        Ha += ((spl[i]^2 * sml[ip]^2 + sml[i]^2 * spl[ip]^2) + adjoint((spl[i]^2 * sml[ip]^2 + sml[i]^2 * spl[ip]^2)))\n",
    "    end\n",
    "\n",
    "    Hb = spzeros(ComplexF64, dim, dim)\n",
    "\n",
    "    for i in 1:L\n",
    "        ip = (i % L) + 1  # Periodic boundary\n",
    "        Hb += (spl[i] * szl[i] * sml[ip] * szl[ip] + sml[i] * szl[i] * spl[ip] * szl[ip] + adjoint(spl[i] * szl[i] * sml[ip] * szl[ip]) + adjoint(sml[i] * szl[i] * spl[ip] * szl[ip]))\n",
    "    end\n",
    "\n",
    "    Hc = spzeros(ComplexF64, dim, dim)\n",
    "\n",
    "    for i in 1:L\n",
    "        ip = (i % L) + 1  # Periodic boundary\n",
    "        Hc += (spl[i]^2 * spl[ip] * szl[ip] + sml[i]^2 * sml[ip] * szl[ip] + adjoint(spl[i]^2 * spl[ip] * szl[ip]) + adjoint(sml[i]^2 * sml[ip] * szl[ip]))\n",
    "    end\n",
    "\n",
    "    return Ha, Hb, Hc, sz2l, szl \n",
    "end"
   ]
  },
  {
   "cell_type": "code",
   "execution_count": null,
   "id": "70dd9c9d",
   "metadata": {},
   "outputs": [],
   "source": [
    "function Hamiltonian(L)\n",
    "    # Define Pauli matrices as complex sparse matrices\n",
    "    id = sparse(ComplexF64[1 0 0; 0 1 0; 0 0 1])\n",
    "    sx = 1/sqrt(2) * sparse(ComplexF64[0 1 0; 1 0 1; 0 1 0])\n",
    "    sy = 1/sqrt(2) * sparse(ComplexF64[0 -im 0; im 0 -im; 0 im 0])\n",
    "    sz = sparse(ComplexF64[1 0 0; 0 0 0; 0 0 -1])\n",
    "\n",
    "    sp = 1/sqrt(2) * (sx + im * sy)\n",
    "    sm = 1/sqrt(2) * (sx - im * sy)\n",
    "\n",
    "    # Preallocate vectors of operators with correct type\n",
    "    #sx_list = Vector{SparseMatrixCSC{ComplexF64, Int}}(undef, L)\n",
    "    #sy_list = Vector{SparseMatrixCSC{ComplexF64, Int}}(undef, L)\n",
    "    szl = Vector{SparseMatrixCSC{ComplexF64, Int}}(undef, L) # List of sz operators\n",
    "    sz2l = Vector{SparseMatrixCSC{ComplexF64, Int}}(undef, L) # List of sz² operators\n",
    "    spl = Vector{SparseMatrixCSC{ComplexF64, Int}}(undef, L) # List of sp operators\n",
    "    sml = Vector{SparseMatrixCSC{ComplexF64, Int}}(undef, L) # List of sm operators\n",
    "\n",
    "    for i_site in 1:L\n",
    "        p_ops = fill(id, L)\n",
    "        m_ops = fill(id, L)\n",
    "        z_ops = fill(id, L)\n",
    "        z2_ops = fill(id, L)\n",
    "        p_ops[i_site] = sp\n",
    "        m_ops[i_site] = sm\n",
    "        z_ops[i_site] = sz\n",
    "        z2_ops[i_site] = sz^2\n",
    "\n",
    "        # Build the full operator by tensoring\n",
    "        P = p_ops[1]\n",
    "        M = m_ops[1]\n",
    "        Z = z_ops[1]\n",
    "        Z2 = z2_ops[1]\n",
    "        for j in 2:L\n",
    "            P = kron(P, p_ops[j])\n",
    "            M = kron(M, m_ops[j])\n",
    "            Z = kron(Z, z_ops[j])\n",
    "            Z2 = kron(Z2, z2_ops[j])\n",
    "        end\n",
    "\n",
    "        spl[i_site] = P\n",
    "        sml[i_site] = M\n",
    "        szl[i_site] = Z\n",
    "        sz2l[i_site] = Z2\n",
    "    end\n",
    "\n",
    "    dim = 3^L\n",
    "    Ha = spzeros(ComplexF64, dim, dim)\n",
    "\n",
    "    for i in 1:L\n",
    "        ip = (i % L) + 1  # Periodic boundary\n",
    "        Ha += ((spl[i]^2 * sml[ip]^2 + sml[i]^2 * spl[ip]^2) + adjoint((spl[i]^2 * sml[ip]^2 + sml[i]^2 * spl[ip]^2)))\n",
    "    end\n",
    "\n",
    "    Hb = spzeros(ComplexF64, dim, dim)\n",
    "\n",
    "    for i in 1:L\n",
    "        ip = (i % L) + 1  # Periodic boundary\n",
    "        Hb += (spl[i] * szl[i] * sml[ip] * szl[ip] + sml[i] * szl[i] * spl[ip] * szl[ip] + adjoint(spl[i] * szl[i] * sml[ip] * szl[ip]) + adjoint(sml[i] * szl[i] * spl[ip] * szl[ip]))\n",
    "    end\n",
    "\n",
    "    Hc = spzeros(ComplexF64, dim, dim)\n",
    "\n",
    "    for i in 1:L\n",
    "        ip = (i % L) + 1  # Periodic boundary\n",
    "        Hc += (spl[i]^2 * spl[ip] * szl[ip] + sml[i]^2 * sml[ip] * szl[ip] + adjoint(spl[i]^2 * spl[ip] * szl[ip]) + adjoint(sml[i]^2 * sml[ip] * szl[ip]))\n",
    "    end\n",
    "\n",
    "    return Ha, Hb, Hc, sz2l, szl \n",
    "end"
   ]
  },
  {
   "cell_type": "code",
   "execution_count": null,
   "id": "2d0e1ab5",
   "metadata": {},
   "outputs": [],
   "source": [
    "function entropy_vn(ψ::Vector{<:Complex}, L::Int, subsystem::AbstractArray{Int})\n",
    "    cut = length(subsystem)\n",
    "    dimA = 3^cut\n",
    "    dimB = 3^(L - cut)\n",
    "    ψ_matrix = reshape(ψ, (dimA, dimB))\n",
    "    svals = svdvals(ψ_matrix)\n",
    "    S = 0.0\n",
    "    for s in svals\n",
    "        if s > 1e-15\n",
    "            p = abs2(s)\n",
    "            S -= p * log(p)\n",
    "        end\n",
    "    end\n",
    "    return S\n",
    "end"
   ]
  },
  {
   "cell_type": "markdown",
   "id": "34475091",
   "metadata": {},
   "source": [
    "Code run"
   ]
  },
  {
   "cell_type": "code",
   "execution_count": null,
   "id": "08836592",
   "metadata": {},
   "outputs": [],
   "source": [
    "include(\"s3.jl\")"
   ]
  },
  {
   "cell_type": "code",
   "execution_count": null,
   "id": "0b6c62c8",
   "metadata": {},
   "outputs": [],
   "source": [
    "@time Entropy_t_z(8, 100.0, 1.0, 0.4, 3980)"
   ]
  },
  {
   "cell_type": "markdown",
   "id": "35eb707e",
   "metadata": {},
   "source": [
    "### ITensors benchmarking"
   ]
  },
  {
   "cell_type": "code",
   "execution_count": null,
   "id": "6570f80b",
   "metadata": {},
   "outputs": [],
   "source": [
    "function Hamiltonian(L)\n",
    "    # Define Pauli matrices as complex sparse matrices\n",
    "    id = sparse(ComplexF64[1 0 0; 0 1 0; 0 0 1])\n",
    "    sx = 1/sqrt(2) * sparse(ComplexF64[0 1 0; 1 0 1; 0 1 0])\n",
    "    sy = 1/sqrt(2) * sparse(ComplexF64[0 -im 0; im 0 -im; 0 im 0])\n",
    "    sz = sparse(ComplexF64[1 0 0; 0 0 0; 0 0 -1])\n",
    "\n",
    "    sp = 1/sqrt(2) * (sx + im * sy)\n",
    "    sm = 1/sqrt(2) * (sx - im * sy)\n",
    "\n",
    "    # Preallocate vectors of operators with correct type\n",
    "    #sx_list = Vector{SparseMatrixCSC{ComplexF64, Int}}(undef, L)\n",
    "    #sy_list = Vector{SparseMatrixCSC{ComplexF64, Int}}(undef, L)\n",
    "    szl = Vector{SparseMatrixCSC{ComplexF64, Int}}(undef, L) # List of sz operators\n",
    "    sz2l = Vector{SparseMatrixCSC{ComplexF64, Int}}(undef, L) # List of sz² operators\n",
    "    spl = Vector{SparseMatrixCSC{ComplexF64, Int}}(undef, L) # List of sp operators\n",
    "    sml = Vector{SparseMatrixCSC{ComplexF64, Int}}(undef, L) # List of sm operators\n",
    "\n",
    "    for i_site in 1:L\n",
    "        p_ops = fill(id, L)\n",
    "        m_ops = fill(id, L)\n",
    "        z_ops = fill(id, L)\n",
    "        z2_ops = fill(id, L)\n",
    "        p_ops[i_site] = sp\n",
    "        m_ops[i_site] = sm\n",
    "        z_ops[i_site] = sz\n",
    "        z2_ops[i_site] = sz^2\n",
    "\n",
    "        # Build the full operator by tensoring\n",
    "        P = p_ops[1]\n",
    "        M = m_ops[1]\n",
    "        Z = z_ops[1]\n",
    "        Z2 = z2_ops[1]\n",
    "        for j in 2:L\n",
    "            P = kron(P, p_ops[j])\n",
    "            M = kron(M, m_ops[j])\n",
    "            Z = kron(Z, z_ops[j])\n",
    "            Z2 = kron(Z2, z2_ops[j])\n",
    "        end\n",
    "\n",
    "        spl[i_site] = P\n",
    "        sml[i_site] = M\n",
    "        szl[i_site] = Z\n",
    "        sz2l[i_site] = Z2\n",
    "    end\n",
    "\n",
    "    dim = 3^L\n",
    "    Ha = spzeros(ComplexF64, dim, dim)\n",
    "\n",
    "    for i in 1:L\n",
    "        ip = (i % L) + 1  # Periodic boundary\n",
    "        Ha += ((spl[i]^2 * sml[ip]^2 + sml[i]^2 * spl[ip]^2) + adjoint((spl[i]^2 * sml[ip]^2 + sml[i]^2 * spl[ip]^2)))\n",
    "    end\n",
    "\n",
    "    Hb = spzeros(ComplexF64, dim, dim)\n",
    "\n",
    "    for i in 1:L\n",
    "        ip = (i % L) + 1  # Periodic boundary\n",
    "        Hb += (spl[i] * szl[i] * sml[ip] * szl[ip] + sml[i] * szl[i] * spl[ip] * szl[ip] + adjoint(spl[i] * szl[i] * sml[ip] * szl[ip]) + adjoint(sml[i] * szl[i] * spl[ip] * szl[ip]))\n",
    "    end\n",
    "\n",
    "    Hc = spzeros(ComplexF64, dim, dim)\n",
    "\n",
    "    for i in 1:L\n",
    "        ip = (i % L) + 1  # Periodic boundary\n",
    "        Hc += (spl[i]^2 * spl[ip] * szl[ip] + sml[i]^2 * sml[ip] * szl[ip] + adjoint(spl[i]^2 * spl[ip] * szl[ip]) + adjoint(sml[i]^2 * sml[ip] * szl[ip]))\n",
    "    end\n",
    "\n",
    "    return Ha\n",
    "end"
   ]
  },
  {
   "cell_type": "code",
   "execution_count": null,
   "id": "ef9bbb55",
   "metadata": {},
   "outputs": [],
   "source": [
    "Ha = Hamiltonian(8)"
   ]
  },
  {
   "cell_type": "code",
   "execution_count": null,
   "id": "1614fad0",
   "metadata": {},
   "outputs": [],
   "source": [
    "## Check if Ha is Hermitian\n",
    "ishermitian(Ha)"
   ]
  },
  {
   "cell_type": "code",
   "execution_count": null,
   "id": "f10f2d22",
   "metadata": {},
   "outputs": [],
   "source": [
    "using LinearAlgebra\n",
    "using SparseArrays\n",
    "using Arpack: eigs"
   ]
  },
  {
   "cell_type": "code",
   "execution_count": null,
   "id": "8d441973",
   "metadata": {},
   "outputs": [],
   "source": [
    "vals, vecs = eigs(Ha; nev=1, which=:SR)\n",
    "lowest_eig = vals[1]\n",
    "\n",
    "println(\"Lowest eigenvalue: \", lowest_eig)"
   ]
  },
  {
   "cell_type": "code",
   "execution_count": null,
   "id": "8154140c",
   "metadata": {},
   "outputs": [],
   "source": [
    "@show op(\"S+\", s)"
   ]
  },
  {
   "cell_type": "code",
   "execution_count": null,
   "id": "93893726",
   "metadata": {},
   "outputs": [],
   "source": [
    "id = [1 0 0; 0 1 0; 0 0 1];\n",
    "sx = 1/sqrt(2) * [0 1 0; 1 0 1; 0 1 0];\n",
    "sy = 1/sqrt(2) * [0 -im 0; im 0 -im; 0 im 0];"
   ]
  },
  {
   "cell_type": "code",
   "execution_count": null,
   "id": "1ff50dce",
   "metadata": {},
   "outputs": [],
   "source": [
    "sp = 1/sqrt(2) * (sx + im * sy)"
   ]
  },
  {
   "cell_type": "code",
   "execution_count": null,
   "id": "6a75cd92",
   "metadata": {},
   "outputs": [],
   "source": [
    "sm = 1/sqrt(2) * (sx - im * sy)"
   ]
  },
  {
   "cell_type": "code",
   "execution_count": null,
   "id": "c4f8aa23",
   "metadata": {},
   "outputs": [],
   "source": [
    "sp' == sm"
   ]
  },
  {
   "cell_type": "code",
   "execution_count": null,
   "id": "7c531b49",
   "metadata": {},
   "outputs": [],
   "source": [
    "using ITensorMPS\n",
    "\n",
    "N = 8  #number of sites\n",
    "sites = siteinds(\"S=1\",N; conserve_qns=true) #spin 1 in each sites\n",
    "\n",
    "  os = OpSum()\n",
    "  for j=1:N\n",
    "    os += 1.0 ,\"S+ * S+\",j,\"S- * S-\",mod(j,N)+1   #I think this is the Ham in Sriram's paper\n",
    "    os += 1.0 ,\"S- * S-\",j,\"S+ * S+\",mod(j,N)+1\n",
    "    os += 1.0 ,\"S+ * S+\",mod(j,N)+1,\"S- * S-\",j   # H.c. terms\n",
    "    os += 1.0 ,\"S- * S-\",mod(j,N)+1,\"S+ * S+\",j\n",
    "    #os += 1.0 ,\"S+ * S+\",j+1,\"S- * S-\",j\n",
    "    #os += 1.0 , \"S- * S-\", j+1, \"S+ * S+\",j\n",
    "  end\n",
    "  H = MPO(os,sites)\n",
    "\n",
    "  nsweeps = 15 # number of sweeps is 15\n",
    "  maxdim = [10,20,100,100,200,200,400,400,500] # gradually increase states kept\n",
    "  cutoff = [1E-10] # desired truncation error\n",
    "  \n",
    "  states = [isodd(n) ? \"Up\" : \"Dn\" for n in 1:N] #Neel state-- we know GS is in S^z=0 sector\n",
    "  psi0 = MPS(sites, states) #constructing the state as MPS which is taken as variational ansatz in next step\n",
    "\n",
    "  @time energy,psigs = dmrg(H,psi0;nsweeps,maxdim,cutoff);"
   ]
  },
  {
   "cell_type": "code",
   "execution_count": null,
   "id": "1b2024ee",
   "metadata": {},
   "outputs": [],
   "source": [
    "using ITensorMPS\n",
    "\n",
    "N = 8 #number of sites\n",
    "sites = siteinds(\"S=1\",N; conserve_qns=true) #spin 1 in each sites\n",
    "\n",
    "  os = OpSum()\n",
    "  for j=1:N\n",
    "    os += 1.0 ,\"S+ * S+\",j,\"S- * S-\",mod(j,N)+1   #I think this is the Ham in Sriram's paper\n",
    "    os += 1.0 ,\"S- * S-\",j,\"S+ * S+\",mod(j,N)+1\n",
    "    os += 1.0 ,\"S+ * S+\",j+1,\"S- * S-\",j\n",
    "    os += 1.0 , \"S- * S-\", j+1, \"S+ * S+\",j\n",
    "  end\n",
    "  H = MPO(os,sites)\n",
    "\n",
    "  nsweeps = 15 # number of sweeps is 15\n",
    "  maxdim = [10,20,100,100,200,200,400,400,500] # gradually increase states kept\n",
    "  cutoff = [1E-10] # desired truncation error\n",
    "  \n",
    "  states = [isodd(n) ? \"Up\" : \"Dn\" for n in 1:N] #Neel state-- we know GS is in S^z=0 sector\n",
    "  psi0 = MPS(sites, states) #constructing the state as MPS which is taken as variational ansatz in next step\n",
    "\n",
    "  energy,psigs = dmrg(H,psi0;nsweeps,maxdim,cutoff);"
   ]
  },
  {
   "cell_type": "code",
   "execution_count": null,
   "id": "53554065",
   "metadata": {},
   "outputs": [],
   "source": [
    "using ITensors, ITensorMPS, Random, HDF5, StatsBase\n",
    "#using Plots\n",
    "\n",
    "N = 8\n",
    "sites = siteinds(\"S=1\", N; conserve_qns=true)\n",
    "\n",
    "os = OpSum()\n",
    "for j = 1:N ####### change to N-1 if you're doing OBC\n",
    "  os += 1.0, \"S+ * S+\", j, \"S- * S-\", mod(j, N) + 1\n",
    "  os += 1.0, \"S- * S-\", j, \"S+ * S+\", mod(j, N) + 1\n",
    "  os += 1.0 ,\"S+ * S+\",mod(j,N)+1,\"S- * S-\",j   # H.c. terms\n",
    "  os += 1.0 ,\"S- * S-\",mod(j,N)+1,\"S+ * S+\",j\n",
    "end\n",
    "H = MPO(os, sites)\n",
    "\n",
    "# ----- initial product state \n",
    "state = [isodd(j) ? \"Up\" : \"Dn\" for j in 1:N]       # Néel: isodd(j) ? \"Up\" : \"Dn\"\n",
    "psi = productMPS(sites, state)\n",
    "\n",
    "#func to compute EE at any site\n",
    "function entropy_von_neumann(psi, b)\n",
    "  s = siteinds(psi)\n",
    "  orthogonalize!(psi, b)\n",
    "  if b == 1\n",
    "    U, S, V = svd(psi[b], (siteind(psi, b),))\n",
    "  else\n",
    "    U, S, V = svd(psi[b], (linkind(psi, b - 1), siteind(psi, b)))\n",
    "  end\n",
    "  SvN = 0.0\n",
    "  for n in 1:dim(S, 1)\n",
    "    p = S[n, n]^2\n",
    "    if p > 0\n",
    "      SvN -= p * log(p)\n",
    "    end\n",
    "  end\n",
    "  return SvN\n",
    "end\n",
    "\n",
    "# ----- TDVP evolution + half-chain entropy at every step -----\n",
    "tstep = 0.02\n",
    "tend = 5.0\n",
    "nsw = round(Int, tend / tstep)\n",
    "tdvp_maxdim = 500\n",
    "\n",
    "Time = Float64[]\n",
    "SvN_half = Float64[]\n",
    "\n",
    "push!(Time, 0.0)\n",
    "push!(SvN_half, entropy_von_neumann(psi, N ÷ 2))\n",
    "\n",
    "for n in 1:nsw\n",
    "  ncenter = 1\n",
    "  if maxlinkdim(psi) < tdvp_maxdim\n",
    "    ncenter = 2\n",
    "  end\n",
    "\n",
    "  psi = tdvp(H, -im * tstep, psi;\n",
    "             time_step = -im * tstep,\n",
    "             reverse_step = true,\n",
    "             normalize = false,\n",
    "             cutoff = 0.0,\n",
    "             maxdim = tdvp_maxdim,\n",
    "             nsite = ncenter,\n",
    "             updater_backend = \"exponentiate\",\n",
    "             outputlevel = 1)\n",
    "\n",
    "  tnow = n * tstep\n",
    "  push!(Time, tnow)\n",
    "  push!(SvN_half, entropy_von_neumann(psi, N ÷ 2))\n",
    "\n",
    "  GC.gc(true)\n",
    "end\n",
    "\n",
    "# ----- save results -----\n",
    "# fname = \"SvN_half_vs_time_S1_N$(N)_dt$(tstep)_T$(tend).h5\"\n",
    "# h5write(fname, \"time\", Time)\n",
    "# h5write(fname, \"SvN_half\", SvN_half)\n",
    "# println(\"Saved: \", fname)\n",
    "\n",
    "\n",
    "#plot(Time,SvN_half)\n",
    "#savefig(\"SvN_half_vs_time_S1_N$(N)_dt$(tstep)_T$(tend)_tdvp.png\")"
   ]
  },
  {
   "cell_type": "code",
   "execution_count": null,
   "id": "b3135d08",
   "metadata": {},
   "outputs": [],
   "source": [
    "1+1"
   ]
  },
  {
   "cell_type": "markdown",
   "id": "71f8478a",
   "metadata": {},
   "source": [
    "### $(S^{z})^2$ measurements"
   ]
  },
  {
   "cell_type": "markdown",
   "id": "002bd480",
   "metadata": {},
   "source": [
    "Using the Lagrange interpolation method, we can construct the following projectors for the operator $(S^{z})^2$:\n",
    "\\begin{equation}\n",
    "    \\mathbf{P}_{0} = (S^{z})^2\n",
    "\\end{equation}\n",
    "\n",
    "\\begin{equation}\n",
    "    \\mathbf{P}_{1 / -1} = \\mathbf{I}-(S^{z})^2\n",
    "\\end{equation}"
   ]
  },
  {
   "cell_type": "code",
   "execution_count": null,
   "id": "c607a615",
   "metadata": {},
   "outputs": [],
   "source": [
    "include(\"s3.jl\")"
   ]
  },
  {
   "cell_type": "code",
   "execution_count": null,
   "id": "f81f105c",
   "metadata": {},
   "outputs": [],
   "source": [
    "function Entropy_t_z2(L::Int, T::Float64, dt::Float64, p::Float64, shot::Int)\n",
    "    Random.seed!(shot)  # Set random seed\n",
    "    s_t = random_product_state(L)\n",
    "    #s_t = neel_spin1_complex(L)  # Use the Néel state as the initial state \n",
    "    S_list = Float64[]\n",
    "\n",
    "    # Define Hamiltonian and local observables\n",
    "    _, _, _, sz2l, szl = Hamiltonian(L)\n",
    "    sm_list = szl\n",
    "    steps = Int(floor(T / dt))\n",
    "\n",
    "    for _ in 1:steps\n",
    "        #push!(S_list, entropy_vn(s_t, L, 1:L÷2)) ## Half-chain entropy\n",
    "        push!(S_list, tmi(s_t))\n",
    "\n",
    "        # Time evolution\n",
    "        s_t = time_evolution(s_t, dt, L, shot)\n",
    "        #s_t /= norm(s_t)\n",
    "\n",
    "        # Measurements\n",
    "        if p != 0\n",
    "            for l in 1:L\n",
    "                x = rand()\n",
    "                if x < p\n",
    "                    p_m_zero = real(s_t' * (sz2l[l]) * s_t)\n",
    "                    x1 = rand()\n",
    "                    if x1 < p_m_zero\n",
    "                        s_t = (sz2l[l] * s_t) / sqrt(p_m_zero)\n",
    "                    else\n",
    "                        s_t = (s_t - sz2l[l] * s_t) / sqrt(1 - p_m_zero)\n",
    "                    end\n",
    "                end\n",
    "            end\n",
    "        end\n",
    "    end\n",
    "\n",
    "    \"\"\"\n",
    "    # Save result to disk\n",
    "    filename = \"L$(L),T$(T),dt$(dt),p$(p),dirZ2,s$(shot).npy\"\n",
    "    npzwrite(filename, S_list)\n",
    "    \n",
    "\n",
    "    \"\"\"\n",
    "    folder = \"/Users/uditvarma/Documents/s3_data/data_i3\"\n",
    "    filename = joinpath(folder, \"L$(L),T$(T),dt$(dt),p$(p),dirZ2,s$(shot)_i3.npy\")\n",
    "    npzwrite(filename, S_list)\n",
    "    #\"\"\"\n",
    "    \n",
    "    return S_list\n",
    "end"
   ]
  },
  {
   "cell_type": "code",
   "execution_count": null,
   "id": "054317b7",
   "metadata": {},
   "outputs": [],
   "source": [
    "for L in [5, 6]\n",
    "    T = 10.0 * L\n",
    "    for dt in [1.0]\n",
    "        for p in [0.0, 0.1, 0.2, 0.3, 0.4, 0.5, 0.6, 0.7, 0.8, 0.9, 1.0]\n",
    "            for shot in 1:50\n",
    "                Entropy_t_z2(L, T, dt, p, shot)\n",
    "            end\n",
    "        end\n",
    "    end\n",
    "end"
   ]
  },
  {
   "cell_type": "code",
   "execution_count": null,
   "id": "b81c11b2",
   "metadata": {},
   "outputs": [],
   "source": [
    "function total_Sz2(L)\n",
    "    _, _, _, Hd, sz2l, _ = Hamiltonian(L)  # get sz² list from your Hamiltonian builder\n",
    "    dim = 3^L\n",
    "    Sz2_tot = spzeros(ComplexF64, dim, dim)\n",
    "\n",
    "    for i in 1:L\n",
    "        Sz2_tot += sz2l[i]\n",
    "    end\n",
    "\n",
    "    return Sz2_tot\n",
    "end"
   ]
  },
  {
   "cell_type": "code",
   "execution_count": null,
   "id": "0d096b0a",
   "metadata": {},
   "outputs": [],
   "source": [
    "include(\"s3_anc.jl\")\n",
    "\n",
    "function total_Sz(L)\n",
    "    _, _, _, _, _, _, szl = Hamiltonian_an(L)  # get sz² list from your Hamiltonian builder\n",
    "    dim = 3^L\n",
    "    Sz_tot = spzeros(ComplexF64, dim, dim)\n",
    "\n",
    "    for i in 1:L\n",
    "        Sz_tot += szl[i]\n",
    "    end\n",
    "\n",
    "    return Sz_tot\n",
    "end"
   ]
  },
  {
   "cell_type": "code",
   "execution_count": null,
   "id": "7e05c981",
   "metadata": {},
   "outputs": [],
   "source": [
    "using LinearAlgebra\n",
    "\n",
    "\"\"\"\n",
    "    zero_state(N::Int)\n",
    "\n",
    "Construct the quantum state |000...0⟩ of N spin-1 sites,\n",
    "where each site is in the m=0 eigenstate of Sz.\n",
    "Returns a vector of length 3^N.\n",
    "\"\"\"\n",
    "function zero_state(N::Int)\n",
    "    # Local spin-1 basis states\n",
    "    m_pos1 = [1.0, 0.0, 0.0]  # |m=-1>\n",
    "    m_0    = [0.0, 1.0, 0.0]  # |m=0>\n",
    "    m_neg1 = [0.0, 0.0, 1.0]  # |m=+1>\n",
    "    \n",
    "    # Start with the first site\n",
    "    state = m_pos1\n",
    "    \n",
    "    # Tensor product across sites\n",
    "    for i in 2:N\n",
    "        state = kron(state, m_pos1)\n",
    "    end\n",
    "\n",
    "    state = ComplexF64.(state)  # Convert to complex type\n",
    "    \n",
    "    return state\n",
    "end\n",
    "\n",
    "# Example usage\n",
    "ψ = zero_state(7)"
   ]
  },
  {
   "cell_type": "code",
   "execution_count": null,
   "id": "0e976002",
   "metadata": {},
   "outputs": [],
   "source": [
    "ψ' * total_Sz2(7) * ψ"
   ]
  },
  {
   "cell_type": "code",
   "execution_count": null,
   "id": "e79ee484",
   "metadata": {},
   "outputs": [],
   "source": [
    "include(\"s3.jl\")"
   ]
  },
  {
   "cell_type": "code",
   "execution_count": null,
   "id": "dd0d1f2c",
   "metadata": {},
   "outputs": [],
   "source": [
    "include(\"s3.jl\")\n",
    "\n",
    "function total_Sz2_t(L::Int, T::Float64, dt::Float64, shot::Int)\n",
    "    Random.seed!(shot)  # Set random seed make this truly random\n",
    "    s_t = random_product_state(L)\n",
    "    #s_t = zero_state(L)\n",
    "    Sz2_list = Float64[]\n",
    "    #expec = Float64[]\n",
    "\n",
    "    Sz2_op = total_Sz2(L)\n",
    "\n",
    "    steps = Int(floor(T / dt))\n",
    "\n",
    "    for _ in 1:steps\n",
    "        #push!(S_list, entropy_vn(s_t, L, 1:L÷2)) ## Half-chain entropy\n",
    "        push!(Sz2_list, real(s_t' * Sz2_op * s_t))\n",
    "        #push!(expec, real(s_t' * (Hb * total_Sz2(L) - total_Sz2(L) * Hb) * s_t) / L)\n",
    "\n",
    "        # Time evolution\n",
    "        s_t = time_evolution(s_t, dt, L, shot)\n",
    "        #s_t /= norm(s_t)\n",
    "    end\n",
    "\n",
    "\n",
    "    return Sz2_list\n",
    "end"
   ]
  },
  {
   "cell_type": "code",
   "execution_count": null,
   "id": "0ebdb500",
   "metadata": {},
   "outputs": [],
   "source": [
    "include(\"s3.jl\")\n",
    "total_Sz2_t(7, 50.0, 1.0, 987)"
   ]
  },
  {
   "cell_type": "code",
   "execution_count": null,
   "id": "51b6eebf",
   "metadata": {},
   "outputs": [],
   "source": [
    "include(\"s3.jl\")\n",
    "\n",
    "function Entropy_t_z2(L::Int, T::Float64, dt::Float64, p::Float64, shot::Int)\n",
    "    Random.seed!(shot)  # Set random seed\n",
    "    s_t = random_product_state(L)\n",
    "    #s_t = neel_spin1_complex(L)  # Use the Néel state as the initial state \n",
    "    S_list = Float64[]\n",
    "\n",
    "    # Define Hamiltonian and local observables\n",
    "    _, _, _, _, He, sz2l, szl = Hamiltonian(L)\n",
    "    steps = Int(floor(T / dt))\n",
    "\n",
    "    for _ in 1:steps\n",
    "        push!(S_list, entropy_vn(s_t, L, 1:L÷2)) ## Half-chain entropy\n",
    "        #push!(S_list, tmi(s_t))\n",
    "\n",
    "        # Time evolution\n",
    "        s_t = time_evolution(s_t, dt, L, shot)\n",
    "        #s_t /= norm(s_t)\n",
    "\n",
    "        # Measurements\n",
    "        if p != 0\n",
    "            for l in 1:L\n",
    "                x = rand()\n",
    "                if x < p\n",
    "                    p_m_zero = real(s_t' * (sz2l[l]) * s_t)\n",
    "                    x1 = rand()\n",
    "                    if x1 < p_m_zero\n",
    "                        s_t = (sz2l[l] * s_t) / sqrt(p_m_zero)\n",
    "                    else\n",
    "                        s_t = (s_t - sz2l[l] * s_t) / sqrt(1 - p_m_zero)\n",
    "                    end\n",
    "                end\n",
    "            end\n",
    "        end\n",
    "    end\n",
    "\n",
    "    \"\"\"\n",
    "    # Save result to disk\n",
    "    filename = \"L$(L),T$(T),dt$(dt),p$(p),dirZ2,s$(shot).npy\"\n",
    "    npzwrite(filename, S_list)\n",
    "    \n",
    "\n",
    "    \"\"\"\n",
    "    folder = \"/Users/uditvarma/Documents/s3_data/data_hc\"\n",
    "    filename = joinpath(folder, \"L$(L),T$(T),dt$(dt),p$(p),dirZ2,s$(shot).npy\")\n",
    "    npzwrite(filename, S_list)\n",
    "    #\"\"\"\n",
    "    \n",
    "    return S_list\n",
    "end"
   ]
  },
  {
   "cell_type": "code",
   "execution_count": null,
   "id": "a8818871",
   "metadata": {},
   "outputs": [],
   "source": [
    "include(\"s3.jl\")"
   ]
  },
  {
   "cell_type": "code",
   "execution_count": null,
   "id": "6e4a804d",
   "metadata": {},
   "outputs": [],
   "source": [
    "for L in [5, 6, 7]\n",
    "    T = 10.0 * L\n",
    "    for dt in [1.0]\n",
    "        for p in [0.0]\n",
    "            for shot in 1:50\n",
    "                Entropy_t_z2(L, T, dt, p, shot)\n",
    "            end\n",
    "        end\n",
    "    end\n",
    "end"
   ]
  },
  {
   "cell_type": "code",
   "execution_count": null,
   "id": "5fa97ee0",
   "metadata": {},
   "outputs": [],
   "source": [
    "include(\"s3.jl\")\n",
    "Ha, Hb, Hc, Hd, He, _, _ = Hamiltonian_an(10)"
   ]
  },
  {
   "cell_type": "code",
   "execution_count": null,
   "id": "ddacf3ba",
   "metadata": {},
   "outputs": [],
   "source": [
    "(Ha + Hd + He) * total_Sz2(10) - total_Sz2(10) * (Ha + Hd + He)"
   ]
  },
  {
   "cell_type": "code",
   "execution_count": null,
   "id": "38dd9dfb",
   "metadata": {},
   "outputs": [],
   "source": [
    "using LinearAlgebra\n",
    "\n",
    "\"\"\"\n",
    "    superposition_state(N::Int)\n",
    "\n",
    "Construct the normalized superposition state (|000...0⟩ + |111...1⟩)/√2 \n",
    "for N spin-1 sites. \n",
    "Here |0⟩ is the m=0 eigenstate of Sz and |1⟩ is the m=+1 eigenstate.\n",
    "Returns a vector of length 3^N.\n",
    "\"\"\"\n",
    "function superposition_state(N::Int)\n",
    "    # Local spin-1 basis states\n",
    "    m_pos1 = [1.0, 0.0, 0.0]  # |m=-1>\n",
    "    m_0    = [0.0, 1.0, 0.0]  # |m=0>  (our \"0\" state)\n",
    "    m_neg1 = [0.0, 0.0, 1.0]  # |m=+1> (our \"1\" state)\n",
    "    \n",
    "    # Build |000...0⟩\n",
    "    state0 = m_0\n",
    "    for i in 2:N\n",
    "        state0 = kron(state0, m_0)\n",
    "    end\n",
    "    \n",
    "    # Build |111...1⟩\n",
    "    state1 = m_pos1\n",
    "    for i in 2:N\n",
    "        state1 = kron(state1, m_pos1)\n",
    "    end\n",
    "    \n",
    "    # Superposition (normalized)\n",
    "    state = (state0 .+ state1) ./ sqrt(2)\n",
    "    \n",
    "    return ComplexF64.(state)\n",
    "end\n",
    "# Example usage\n",
    "ψ = superposition_state(7)"
   ]
  },
  {
   "cell_type": "code",
   "execution_count": null,
   "id": "062471bf",
   "metadata": {},
   "outputs": [],
   "source": [
    "ψ' * total_Sz(7) * ψ"
   ]
  },
  {
   "cell_type": "code",
   "execution_count": null,
   "id": "c4ca76ce",
   "metadata": {},
   "outputs": [],
   "source": [
    "using LinearAlgebra\n",
    "\n",
    "\"\"\"\n",
    "    spin1_state(L)\n",
    "\n",
    "Constructs the spin-1 product state \n",
    "⊗_{i=1}^L (1/√3)(|1⟩ + |0⟩ + |-1⟩).\n",
    "Returns a normalized vector of length 3^L.\n",
    "\"\"\"\n",
    "function spin1_state(L::Int)\n",
    "    # single-site state (qutrit: |1>, |0>, |-1>)\n",
    "    site = (1/sqrt(3)) * [1.0, 1.0, 1.0]   # basis ordered as |1>,|0>,|-1>\n",
    "    \n",
    "    ψ = site\n",
    "    for _ in 2:L\n",
    "        ψ = kron(ψ, site)\n",
    "    end\n",
    "    \n",
    "    return normalize(ψ)\n",
    "end \n"
   ]
  },
  {
   "cell_type": "code",
   "execution_count": null,
   "id": "b8e86ce2",
   "metadata": {},
   "outputs": [],
   "source": [
    "psi = spin1_state(8)"
   ]
  },
  {
   "cell_type": "code",
   "execution_count": null,
   "id": "2aad69dd",
   "metadata": {},
   "outputs": [],
   "source": [
    "include(\"s3.jl\")"
   ]
  },
  {
   "cell_type": "code",
   "execution_count": null,
   "id": "beb637dd",
   "metadata": {},
   "outputs": [],
   "source": [
    "Entropy_t_z2(7, 70.0, 1.0, 0.0, 1234)"
   ]
  },
  {
   "cell_type": "code",
   "execution_count": null,
   "id": "2594752a",
   "metadata": {},
   "outputs": [],
   "source": [
    "L = 7;\n",
    "s_t = spin1_state(L)\n",
    "\n",
    "Q2_op = total_Sz2(L) * total_Sz2(L)\n",
    "Q_op = total_Sz2(L)\n",
    "\n",
    "s_t' * Q2_op * s_t - (s_t' * Q_op * s_t)^2"
   ]
  },
  {
   "cell_type": "code",
   "execution_count": null,
   "id": "56013c0e",
   "metadata": {},
   "outputs": [],
   "source": [
    "for L in [6, 7, 8]\n",
    "    T = 10.0 * L\n",
    "    for dt in [1.0]\n",
    "        for p in [0.0, 0.1, 0.2, 0.3, 0.4, 0.5, 0.6, 0.7, 0.8, 0.9, 1.0]\n",
    "            for shot in 1:500\n",
    "                Entropy_t_z2(L, T, dt, p, shot)\n",
    "            end\n",
    "        end\n",
    "    end\n",
    "end"
   ]
  },
  {
   "cell_type": "code",
   "execution_count": null,
   "id": "59a8df84",
   "metadata": {},
   "outputs": [],
   "source": [
    "include(\"s3.jl\")\n",
    "\n",
    "function Entropy_t_z2(L::Int, T::Float64, dt::Float64, p::Float64, shot::Int) \n",
    "    Random.seed!(shot)  # Set random seed\n",
    "    #s_t = random_product_state(L)\n",
    "    s_t = spin1_state(L)  # superposition over all Sz sectors\n",
    "    S_list = Float64[]\n",
    "    Q_qnv_list = Float64[]\n",
    "\n",
    "    Q2_op = total_Sz2(L) * total_Sz2(L)\n",
    "    Q_op = total_Sz2(L)\n",
    "\n",
    "    # Define Hamiltonian and local observables\n",
    "    _, _, _, _, _, sz2l, _ = Hamiltonian(L)\n",
    "\n",
    "    steps = Int(floor(T / dt))\n",
    "\n",
    "    for _ in 1:steps\n",
    "        push!(S_list, entropy_vn(s_t, L, 1:L÷2)) ## Half-chain entropy\n",
    "        push!(Q_qnv_list, real(s_t' * Q2_op * s_t) - real(s_t' * Q_op * s_t)^2) ## Quantum number variance in a trajectory\n",
    "        #push!(S_list, tmi(s_t))\n",
    "\n",
    "        # Time evolution\n",
    "        s_t = time_evolution(s_t, dt, L, shot)\n",
    "        #s_t /= norm(s_t)\n",
    "\n",
    "        # Measurements\n",
    "        if p != 0\n",
    "            for l in 1:L\n",
    "                x = rand()\n",
    "                if x < p\n",
    "                    p_m_zero = real(s_t' * (sz2l[l]) * s_t)\n",
    "                    x1 = rand()\n",
    "                    if x1 < p_m_zero\n",
    "                        s_t = (sz2l[l] * s_t) / sqrt(p_m_zero)\n",
    "                    else\n",
    "                        s_t = (s_t - sz2l[l] * s_t) / sqrt(1 - p_m_zero)\n",
    "                    end\n",
    "                end\n",
    "            end\n",
    "        end\n",
    "    end\n",
    "\n",
    "    #\"\"\"\n",
    "    # Save result to disk\n",
    "    filename = \"L$(L),T$(T),dt$(dt),p$(p),dirZ2,s$(shot)_hc.npy\" ## half-chain entropy\n",
    "    npzwrite(filename, S_list)\n",
    "    filenameq = \"L$(L),T$(T),dt$(dt),p$(p),dirZ,s$(shot)_qnv.npy\" ## QNV variance\n",
    "    npzwrite(filenameq, Q_qnv_list)\n",
    "\n",
    "    \"\"\"\n",
    "    folder = \"/Users/uditvarma/Documents/s3_data/data_hc\"\n",
    "    folderq = \"/Users/uditvarma/Documents/s3_data/data_qnv\"\n",
    "    filename = joinpath(folder, \"L$(L),T$(T),dt$(dt),p$(p),dirZ2,s$(shot)_hc.npy\")\n",
    "    filenameq = joinpath(folderq, \"L$(L),T$(T),dt$(dt),p$(p),dirZ2,s$(shot)_qnv.npy\")\n",
    "    npzwrite(filename, S_list)\n",
    "    npzwrite(filenameq, Q_qnv_list)\n",
    "    #\"\"\"\n",
    "    \n",
    "    return Q_qnv_list\n",
    "end"
   ]
  },
  {
   "cell_type": "code",
   "execution_count": null,
   "id": "66c260b4",
   "metadata": {},
   "outputs": [],
   "source": [
    "import Pkg; Pkg.add(\"BenchmarkTools\")"
   ]
  },
  {
   "cell_type": "code",
   "execution_count": null,
   "id": "a730f9ca",
   "metadata": {},
   "outputs": [],
   "source": [
    "using BenchmarkTools"
   ]
  },
  {
   "cell_type": "code",
   "execution_count": null,
   "id": "4111924c",
   "metadata": {},
   "outputs": [],
   "source": [
    "@btime Entropy_t_z2(10, 100.0, 1.0, 0.0, 1234)"
   ]
  },
  {
   "cell_type": "code",
   "execution_count": null,
   "id": "bf9e21b5",
   "metadata": {},
   "outputs": [],
   "source": [
    "@btime Entropy_t_z2(8, 80.0, 1.0, 0.0, 1234)"
   ]
  },
  {
   "cell_type": "code",
   "execution_count": null,
   "id": "48cc94d0",
   "metadata": {},
   "outputs": [],
   "source": [
    "@btime Entropy_t_z2(11, 100.0, 1.0, 0.0, 1234)"
   ]
  },
  {
   "cell_type": "code",
   "execution_count": null,
   "id": "32b30c43",
   "metadata": {},
   "outputs": [],
   "source": [
    "println(\"Hello, World!\")"
   ]
  },
  {
   "cell_type": "code",
   "execution_count": null,
   "id": "85f62d40",
   "metadata": {},
   "outputs": [],
   "source": [
    "Entropy_t_z2(8, 80.0, 1.0, 0.0, 1234)"
   ]
  },
  {
   "cell_type": "code",
   "execution_count": null,
   "id": "8e83d68a",
   "metadata": {},
   "outputs": [],
   "source": [
    "using Pkg\n",
    "Pkg.status()"
   ]
  },
  {
   "cell_type": "code",
   "execution_count": null,
   "id": "bc6b9157",
   "metadata": {},
   "outputs": [],
   "source": [
    "using Distributed\n",
    "using NPZ, SparseArrays, LinearAlgebra, Random, ExpmV\n",
    "using Base.Threads\n",
    "\n",
    "# ----------------------------\n",
    "# Launch workers\n",
    "# ----------------------------\n",
    "if nprocs() == 1\n",
    "    addprocs()  # add all available cores by default\n",
    "end\n",
    "\n",
    "@everywhere begin\n",
    "    using NPZ, SparseArrays, LinearAlgebra, Random, ExpmV\n",
    "    using Base.Threads\n",
    "    include(\"s3_eff.jl\")  # your Entropy_t_z2 function\n",
    "end\n",
    "\n",
    "# ----------------------------\n",
    "# Parameters\n",
    "# ----------------------------\n",
    "L_list = [8, 9]\n",
    "dt_list = [1.0]\n",
    "p_list = 0.0:0.1:1.0\n",
    "num_shots = 50\n",
    "\n",
    "# ----------------------------\n",
    "# Worker function: threaded execution\n",
    "# ----------------------------\n",
    "@everywhere function run_shot_batch_threads(L, T, dt, p, shot_batch)\n",
    "    # Pre-build Hamiltonians once per worker\n",
    "    Ha, Hd, He, sz2l, _ = Hamiltonian(L)\n",
    "    H = copy(Ha)\n",
    "\n",
    "    # Threads over shots\n",
    "    @threads for idx in 1:length(shot_batch)\n",
    "        shot = shot_batch[idx]\n",
    "        Entropy_t_z2(L, T, dt, p, shot)\n",
    "    end\n",
    "end\n",
    "\n",
    "# ----------------------------\n",
    "# Main distributed loop\n",
    "# ----------------------------\n",
    "for L in L_list\n",
    "    T = 10.0 * L\n",
    "    for dt in dt_list\n",
    "        for p in p_list\n",
    "            shots = 1:num_shots\n",
    "            num_workers = nprocs()\n",
    "            \n",
    "            # Split shots into round-robin chunks for workers\n",
    "            chunks = [shots[i:num_workers:end] for i in 1:num_workers]\n",
    "\n",
    "            @sync for (i, shot_chunk) in enumerate(chunks)\n",
    "                # Each worker uses all threads to process its chunk\n",
    "                @async remotecall_wait(run_shot_batch_threads, i, L, T, dt, p, shot_chunk)\n",
    "            end\n",
    "        end\n",
    "    end\n",
    "end"
   ]
  },
  {
   "cell_type": "code",
   "execution_count": null,
   "id": "f6d1e803",
   "metadata": {},
   "outputs": [],
   "source": [
    "include(\"s3.jl\")"
   ]
  },
  {
   "cell_type": "code",
   "execution_count": null,
   "id": "2a2e990f",
   "metadata": {},
   "outputs": [],
   "source": [
    "for L in [5, 6]\n",
    "    for T in [60.0]\n",
    "        for dt in [1.0]\n",
    "            for p in [0.3]\n",
    "                for shot in 1:50\n",
    "                    Entropy_t_z2(L, T, dt, p, shot)\n",
    "                end\n",
    "            end\n",
    "        end\n",
    "    end\n",
    "end"
   ]
  },
  {
   "cell_type": "markdown",
   "id": "e7a85cf1",
   "metadata": {},
   "source": [
    "New code trial"
   ]
  },
  {
   "cell_type": "code",
   "execution_count": null,
   "id": "1b9f28d1",
   "metadata": {},
   "outputs": [],
   "source": [
    "include(\"s3_new.jl\")"
   ]
  },
  {
   "cell_type": "code",
   "execution_count": null,
   "id": "f05f1750",
   "metadata": {},
   "outputs": [],
   "source": [
    "spin1_state(5)"
   ]
  },
  {
   "cell_type": "code",
   "execution_count": null,
   "id": "444ca972",
   "metadata": {},
   "outputs": [],
   "source": [
    "Ha, Hb, Hc, Hd, He = Hamiltoniann(8)"
   ]
  },
  {
   "cell_type": "code",
   "execution_count": null,
   "id": "5ae787b2",
   "metadata": {},
   "outputs": [],
   "source": [
    "using LinearAlgebra, SparseArrays\n",
    "\n",
    "A_dense = Matrix(Ha)        # convert sparse to dense\n",
    "vals = eigvals(A_dense)"
   ]
  },
  {
   "cell_type": "code",
   "execution_count": null,
   "id": "fc977d82",
   "metadata": {},
   "outputs": [],
   "source": [
    "include(\"s3.jl\")"
   ]
  },
  {
   "cell_type": "code",
   "execution_count": null,
   "id": "83b2d199",
   "metadata": {},
   "outputs": [],
   "source": [
    "for L in [5, 6]\n",
    "    for T in [60.0]\n",
    "        for dt in [1.0]\n",
    "            for p in [0.18]\n",
    "                for shot in 1:50\n",
    "                    Entropy_t_z2(L, T, dt, p, shot)\n",
    "                end\n",
    "            end\n",
    "        end\n",
    "    end\n",
    "end"
   ]
  },
  {
   "cell_type": "code",
   "execution_count": null,
   "id": "75ab77eb",
   "metadata": {},
   "outputs": [],
   "source": [
    "include(\"s3_new.jl\")"
   ]
  },
  {
   "cell_type": "code",
   "execution_count": null,
   "id": "bc26bc24",
   "metadata": {},
   "outputs": [],
   "source": [
    "for L in [5, 6]\n",
    "    for T in [60.0]\n",
    "        for dt in [1.0]\n",
    "            for p in [0.18]\n",
    "                for shot in 1:50\n",
    "                    Entropy_t_z2(L, T, dt, p, shot)\n",
    "                end\n",
    "            end\n",
    "        end\n",
    "    end\n",
    "end"
   ]
  },
  {
   "cell_type": "code",
   "execution_count": null,
   "id": "ec26a94f",
   "metadata": {},
   "outputs": [],
   "source": [
    "include(\"s3_new.jl\")"
   ]
  },
  {
   "cell_type": "code",
   "execution_count": null,
   "id": "837517d5",
   "metadata": {},
   "outputs": [],
   "source": [
    "for L in [7]\n",
    "    for T in [60.0]\n",
    "        for dt in [1.0]\n",
    "            for p in [0.0, 0.1, 0.3]\n",
    "                for shot in 1:50\n",
    "                    Entropy_t_z2(L, T, dt, p, shot)\n",
    "                end\n",
    "            end\n",
    "        end\n",
    "    end\n",
    "end"
   ]
  },
  {
   "cell_type": "code",
   "execution_count": 2,
   "id": "6d1c7811",
   "metadata": {},
   "outputs": [],
   "source": [
    "for L in [8]\n",
    "    for T in [80.0]\n",
    "        for dt in [1.0]\n",
    "            for p in [0.0, 0.01, 0.1]\n",
    "                for shot in 1:200\n",
    "                    Entropy_t_z2(L, T, dt, p, shot)\n",
    "                end\n",
    "            end\n",
    "        end\n",
    "    end\n",
    "end"
   ]
  },
  {
   "cell_type": "code",
   "execution_count": 1,
   "id": "a2a939c0",
   "metadata": {},
   "outputs": [
    {
     "data": {
      "text/plain": [
       "two_qubit_unitary (generic function with 1 method)"
      ]
     },
     "metadata": {},
     "output_type": "display_data"
    }
   ],
   "source": [
    "include(\"s3_circuit.jl\")"
   ]
  },
  {
   "cell_type": "code",
   "execution_count": null,
   "id": "a6ab9606",
   "metadata": {},
   "outputs": [],
   "source": [
    "include(\"s3_new.jl\")"
   ]
  },
  {
   "cell_type": "code",
   "execution_count": null,
   "id": "2395d33b",
   "metadata": {},
   "outputs": [],
   "source": [
    "using Pkg\n",
    "Pkg.status()"
   ]
  },
  {
   "cell_type": "code",
   "execution_count": null,
   "id": "a7075f5a",
   "metadata": {},
   "outputs": [],
   "source": [
    "include(\"s3_new.jl\")"
   ]
  },
  {
   "cell_type": "code",
   "execution_count": null,
   "id": "a839e4f0",
   "metadata": {},
   "outputs": [],
   "source": [
    "L = 8\n",
    "\n",
    "Ha, _, _, Hd, He = Hamiltonian(L)\n",
    "total_Sz2(L)"
   ]
  },
  {
   "cell_type": "code",
   "execution_count": null,
   "id": "4d004aa7",
   "metadata": {},
   "outputs": [],
   "source": [
    "(Ha + Hd + He) * total_Sz2(L) - total_Sz2(L) * (Ha + Hd + He)"
   ]
  },
  {
   "cell_type": "code",
   "execution_count": null,
   "id": "53310840",
   "metadata": {},
   "outputs": [],
   "source": [
    "Entropy_t_z2(8, 80.0, 1.0, 0.0, 7686)"
   ]
  },
  {
   "cell_type": "code",
   "execution_count": null,
   "id": "be8cfe4e",
   "metadata": {},
   "outputs": [],
   "source": [
    "for L in [6, 7, 8, 9]\n",
    "    for T in [10.0*L]\n",
    "        for dt in [1.0]\n",
    "            for p in [0.0, 0.1, 0.2, 0.3, 0.4, 0.5, 0.6, 0.7, 0.8, 0.9, 1.0]\n",
    "                for shot in 1:1000\n",
    "                    Entropy_t_z2(L, T, dt, p, shot)\n",
    "                end\n",
    "            end\n",
    "        end\n",
    "    end\n",
    "end"
   ]
  },
  {
   "cell_type": "code",
   "execution_count": null,
   "id": "889356a6",
   "metadata": {},
   "outputs": [],
   "source": [
    "using Distributed\n",
    "using Base.Threads\n",
    "\n",
    "# --- setup workers ---\n",
    "addprocs()   # or addprocs(N)\n",
    "@everywhere using SparseArrays, LinearAlgebra, Arpack, Statistics, Random, DelimitedFiles, NPZ, ExpmV, Dates\n",
    "\n",
    "# --- load your functions everywhere ---\n",
    "@everywhere begin\n",
    "    include(\"s3_new.jl\")\n",
    "end\n",
    "\n",
    "# --- parameters ---\n",
    "Ls = [6, 7, 8]\n",
    "dts = [1.0]\n",
    "ps = 0.0:0.1:1.0\n",
    "shots = 1:500\n",
    "\n",
    "jobs = [(L, float(10L), 1.0, p) for L in Ls for p in ps]  # each job = one (L,T,dt,p)\n",
    "\n",
    "@everywhere const SHOTS = 1:500   # broadcast shots to workers\n",
    "\n",
    "# --- hybrid run ---\n",
    "pmap(jobs) do (L, T, dt, p)\n",
    "    @threads for shot in SHOTS\n",
    "        Entropy_t_z2(L, T, dt, p, shot)\n",
    "    end\n",
    "end"
   ]
  },
  {
   "cell_type": "code",
   "execution_count": null,
   "id": "3277399d",
   "metadata": {},
   "outputs": [],
   "source": [
    "using Distributed\n",
    "using Base.Threads\n",
    "\n",
    "# --- setup workers ---\n",
    "addprocs()   # or addprocs(N)\n",
    "@everywhere using SparseArrays, LinearAlgebra, Arpack, Statistics, Random, DelimitedFiles, NPZ, ExpmV, Dates\n",
    "\n",
    "# --- load your functions everywhere ---\n",
    "@everywhere begin\n",
    "    include(\"s3_new.jl\")\n",
    "end\n",
    "\n",
    "# --- parameters ---\n",
    "Ls = [6, 7, 8, 9]\n",
    "dts = [1.0]\n",
    "ps = 0.0:0.1:1.0\n",
    "shots = 1:500\n",
    "\n",
    "jobs = [(L, float(10L), 1.0, p) for L in Ls for p in ps]  # each job = one (L,T,dt,p)\n",
    "\n",
    "@everywhere const SHOTS = 1:500   # broadcast shots to workers\n",
    "\n",
    "# --- hybrid run ---\n",
    "pmap(jobs) do (L, T, dt, p)\n",
    "    @threads for shot in SHOTS\n",
    "        Entropy_t_z2(L, T, dt, p, shot)\n",
    "    end\n",
    "end"
   ]
  },
  {
   "cell_type": "code",
   "execution_count": null,
   "id": "5d5d501e",
   "metadata": {},
   "outputs": [],
   "source": [
    "include(\"s3_circuit.jl\")"
   ]
  },
  {
   "cell_type": "code",
   "execution_count": null,
   "id": "0a27f956",
   "metadata": {},
   "outputs": [],
   "source": [
    "using Distributed\n",
    "using Base.Threads\n",
    "\n",
    "# --- setup workers ---\n",
    "addprocs(9)   # or addprocs(N)\n",
    "@everywhere using SparseArrays, LinearAlgebra, Arpack, Statistics, Random, DelimitedFiles, NPZ, ExpmV, Dates\n",
    "\n",
    "# --- load your functions everywhere ---\n",
    "@everywhere begin\n",
    "    include(\"s3_circuit.jl\")\n",
    "end\n",
    "\n",
    "# --- parameters ---\n",
    "Ls = [6, 7, 8, 9, 10, 11, 12]\n",
    "dts = [1.0]\n",
    "ps = 0.0:0.1:1.0\n",
    "shots = 1:2000\n",
    "\n",
    "jobs = [(L, float(10L), 1.0, p) for L in Ls for p in ps]  # each job = one (L,T,dt,p)\n",
    "\n",
    "@everywhere const SHOTS = 1:2000   # broadcast shots to workers\n",
    "\n",
    "# --- hybrid run ---\n",
    "pmap(jobs) do (L, T, dt, p)\n",
    "    @threads for shot in SHOTS\n",
    "        Entropy_t_z2(L, T, dt, p, shot)\n",
    "    end\n",
    "end"
   ]
  },
  {
   "cell_type": "code",
   "execution_count": 1,
   "id": "d44361a1",
   "metadata": {},
   "outputs": [
    {
     "data": {
      "text/plain": [
       "11-element Vector{Nothing}:\n",
       " nothing\n",
       " nothing\n",
       " nothing\n",
       " nothing\n",
       " nothing\n",
       " nothing\n",
       " nothing\n",
       " nothing\n",
       " nothing\n",
       " nothing\n",
       " nothing"
      ]
     },
     "metadata": {},
     "output_type": "display_data"
    }
   ],
   "source": [
    "using Distributed\n",
    "using Base.Threads\n",
    "\n",
    "# --- setup workers ---\n",
    "addprocs(11)   # or addprocs(N)\n",
    "@everywhere using SparseArrays, LinearAlgebra, Arpack, Statistics, Random, DelimitedFiles, NPZ, ExpmV, Dates\n",
    "\n",
    "# --- load your functions everywhere ---\n",
    "@everywhere begin\n",
    "    include(\"s3_circuit.jl\")\n",
    "end\n",
    "\n",
    "# --- parameters ---\n",
    "Ls = [8]\n",
    "dts = [1.0]\n",
    "ps = 0.0:0.1:1.0\n",
    "shots = 1:500\n",
    "\n",
    "jobs = [(L, float(10L), 1.0, p) for L in Ls for p in ps]  # each job = one (L,T,dt,p)\n",
    "\n",
    "@everywhere const SHOTS = 1:500   # broadcast shots to workers\n",
    "\n",
    "# --- hybrid run ---\n",
    "pmap(jobs) do (L, T, dt, p)\n",
    "    @threads for shot in SHOTS\n",
    "        Entropy_t_z2(L, T, dt, p, shot)\n",
    "    end\n",
    "end"
   ]
  },
  {
   "cell_type": "code",
   "execution_count": 4,
   "id": "e7ee879e",
   "metadata": {},
   "outputs": [
    {
     "data": {
      "text/plain": [
       "513-element Vector{Float64}:\n",
       " 1.0\n",
       " 0.9999999999999999\n",
       " 1.0\n",
       " 1.0\n",
       " 1.0000000000000004\n",
       " 1.0000000000000007\n",
       " 1.0000000000000002\n",
       " 1.0000000000000002\n",
       " 0.9999999999999999\n",
       " 0.9999999999999998\n",
       " ⋮\n",
       " 1.0\n",
       " 1.0\n",
       " 1.0\n",
       " 1.0\n",
       " 1.0000000000000002\n",
       " 0.9999999999999998\n",
       " 1.0\n",
       " 1.0\n",
       " 1.0"
      ]
     },
     "metadata": {},
     "output_type": "display_data"
    }
   ],
   "source": [
    "include(\"s3_circuit.jl\")\n",
    "\n",
    "Entropy_t_z2(8, 80.0, 1.0, 0.8, 9)"
   ]
  },
  {
   "cell_type": "code",
   "execution_count": null,
   "id": "eb695249",
   "metadata": {},
   "outputs": [
    {
     "data": {
      "text/plain": [
       "two_qubit_unitary (generic function with 1 method)"
      ]
     },
     "metadata": {},
     "output_type": "display_data"
    }
   ],
   "source": [
    "include(\"s3_circuit.jl\")"
   ]
  },
  {
   "cell_type": "code",
   "execution_count": null,
   "id": "6372ae8a",
   "metadata": {},
   "outputs": [
    {
     "data": {
      "text/plain": [
       "create_local_sz2_operator (generic function with 1 method)"
      ]
     },
     "metadata": {},
     "output_type": "display_data"
    }
   ],
   "source": [
    "function create_local_sz2_operator(L::Int, site::Int)\n",
    "    id, _, _, _, _, _, sz2 = get_spin1_operators()\n",
    "    ops = fill(id, L)\n",
    "    ops[site] = sz2\n",
    "    return build_term(ops)\n",
    "end"
   ]
  },
  {
   "cell_type": "code",
   "execution_count": null,
   "id": "a781b44b",
   "metadata": {},
   "outputs": [],
   "source": [
    "using LinearAlgebra\n",
    "\n",
    "function build_state(L::Int)\n",
    "    up, zero, down = [1,0,0], [0,1,0], [0,0,1]\n",
    "\n",
    "    # helper: tensor product of array of vectors\n",
    "    kron_list(vs) = reduce(kron, vs)\n",
    "\n",
    "    # alternating sequences\n",
    "    alt_up   = [ (isodd(i) ? up : down) for i in 1:L ]\n",
    "    alt_down = [ (isodd(i) ? down : up) for i in 1:L ]\n",
    "\n",
    "    # if L odd, replace last with zero\n",
    "    if isodd(L)\n",
    "        alt_up[end]   = zero\n",
    "        alt_down[end] = zero\n",
    "    end\n",
    "\n",
    "    ⊗(a,b) = kron(a,b)\n",
    "\n",
    "    state1 = kron_list(alt_up)   ⊗ up\n",
    "    state2 = kron_list(alt_down) ⊗ down\n",
    "    state3 = kron_list(fill(zero, L)) ⊗ zero\n",
    "\n",
    "    return state1 + state2 + state3\n",
    "end\n",
    "\n",
    "# define ⊗ for clarity\n",
    "\n",
    "\n",
    "# Example\n",
    "ψ4 = build_state(4)\n",
    "ψ5 = build_state(5)\n"
   ]
  },
  {
   "cell_type": "code",
   "execution_count": 20,
   "id": "d2053a8a",
   "metadata": {},
   "outputs": [
    {
     "data": {
      "text/plain": [
       "2187-element Vector{ComplexF64}:\n",
       " 0.0 + 0.0im\n",
       " 0.0 + 0.0im\n",
       " 0.0 + 0.0im\n",
       " 0.0 + 0.0im\n",
       " 0.0 + 0.0im\n",
       " 0.0 + 0.0im\n",
       " 0.0 + 0.0im\n",
       " 0.0 + 0.0im\n",
       " 0.0 + 0.0im\n",
       " 0.0 + 0.0im\n",
       "     ⋮\n",
       " 0.0 + 0.0im\n",
       " 0.0 + 0.0im\n",
       " 0.0 + 0.0im\n",
       " 0.0 + 0.0im\n",
       " 0.0 + 0.0im\n",
       " 0.0 + 0.0im\n",
       " 0.0 + 0.0im\n",
       " 0.0 + 0.0im\n",
       " 0.0 + 0.0im"
      ]
     },
     "metadata": {},
     "output_type": "display_data"
    }
   ],
   "source": [
    "using LinearAlgebra\n",
    "\n",
    "function build_state(L::Int; normalize::Bool=true)\n",
    "    up, zero, down = [1.0,0,0], [0,1.0,0], [0,0,1.0]\n",
    "\n",
    "    kron_list(vs) = reduce(kron, vs)\n",
    "\n",
    "    # alternating sequences\n",
    "    alt_up   = [ isodd(i) ? up   : down for i in 1:L ]\n",
    "    alt_down = [ isodd(i) ? down : up   for i in 1:L ]\n",
    "\n",
    "    # if L odd, replace last with |0>\n",
    "    if isodd(L)\n",
    "        alt_up[end]   = zero\n",
    "        alt_down[end] = zero\n",
    "    end\n",
    "\n",
    "    state1 = kron_list(alt_up)   |> x -> kron(x, up)\n",
    "    state2 = kron_list(alt_down) |> x -> kron(x, down)\n",
    "    state3 = kron_list(fill(zero, L)) |> x -> kron(x, zero)\n",
    "\n",
    "    ψ = state1 + state2 + state3\n",
    "    ψ = ComplexF64.(ψ)\n",
    "    return normalize ? ψ / norm(ψ) : ψ\n",
    "end\n",
    "\n",
    "# Example\n",
    "ψ = build_state(6)\n"
   ]
  },
  {
   "cell_type": "code",
   "execution_count": 6,
   "id": "3f0467dd",
   "metadata": {},
   "outputs": [
    {
     "data": {
      "text/plain": [
       "Entropy_an_z2 (generic function with 1 method)"
      ]
     },
     "metadata": {},
     "output_type": "display_data"
    }
   ],
   "source": [
    "include(\"s3_circuit.jl\")"
   ]
  },
  {
   "cell_type": "code",
   "execution_count": 23,
   "id": "13197f70",
   "metadata": {},
   "outputs": [
    {
     "data": {
      "text/plain": [
       "1.0986122886681096"
      ]
     },
     "metadata": {},
     "output_type": "display_data"
    }
   ],
   "source": [
    "entropy_vn(ψ, 7, 1:6)"
   ]
  },
  {
   "cell_type": "code",
   "execution_count": 24,
   "id": "4657283d",
   "metadata": {},
   "outputs": [
    {
     "data": {
      "text/plain": [
       "1.0986122886681098"
      ]
     },
     "metadata": {},
     "output_type": "display_data"
    }
   ],
   "source": [
    "log(3)"
   ]
  },
  {
   "cell_type": "code",
   "execution_count": 1,
   "id": "bf72f29f",
   "metadata": {},
   "outputs": [
    {
     "data": {
      "text/plain": [
       "Entropy_anc_z2 (generic function with 1 method)"
      ]
     },
     "metadata": {},
     "output_type": "display_data"
    }
   ],
   "source": [
    "include(\"s3_circuit_anc.jl\")"
   ]
  },
  {
   "cell_type": "code",
   "execution_count": 8,
   "id": "d2ac8670",
   "metadata": {},
   "outputs": [
    {
     "data": {
      "text/plain": [
       "80-element Vector{Float64}:\n",
       "  1.0986122886681096\n",
       "  1.0986122886681098\n",
       "  1.0986122886681098\n",
       "  1.0986122886681098\n",
       "  1.0986122886681098\n",
       "  1.0986122886681098\n",
       "  1.0986122886681096\n",
       "  1.0986122886681098\n",
       "  1.0986122886681096\n",
       "  1.0986122886681096\n",
       "  ⋮\n",
       "  0.0016633735280076373\n",
       "  2.904927297652957e-5\n",
       "  5.352292645303648e-7\n",
       "  0.0\n",
       "  2.2204460492503126e-16\n",
       "  0.0\n",
       " -4.440892098500627e-16\n",
       "  0.6151719626283265\n",
       "  2.2204460492503126e-16"
      ]
     },
     "metadata": {},
     "output_type": "display_data"
    }
   ],
   "source": [
    "Entropy_anc_z(8, 80.0, 1.0, 0.5, 0)"
   ]
  },
  {
   "cell_type": "code",
   "execution_count": 10,
   "id": "c0b42b48",
   "metadata": {},
   "outputs": [
    {
     "data": {
      "text/plain": [
       "80-element Vector{Float64}:\n",
       "  1.0986122886681096\n",
       "  1.0986122886681098\n",
       "  1.0986122886681098\n",
       "  1.0986122886681098\n",
       "  1.0986122886681098\n",
       "  1.0986122886681098\n",
       "  1.0986122886681096\n",
       "  1.0986122886681098\n",
       "  1.0986122886681096\n",
       "  1.0986122886681096\n",
       "  ⋮\n",
       "  0.0016633735280076373\n",
       "  2.904927297652957e-5\n",
       "  5.352292645303648e-7\n",
       "  0.0\n",
       "  2.2204460492503126e-16\n",
       "  0.0\n",
       " -4.440892098500627e-16\n",
       "  0.6151719626283265\n",
       "  2.2204460492503126e-16"
      ]
     },
     "metadata": {},
     "output_type": "display_data"
    }
   ],
   "source": [
    "data = npzread(\"/Users/uditvarma/Documents/s3_data/data_anc_c/L8,T80.0,dt1.0,p0.5,dirZ,s0_anc.npy\")"
   ]
  },
  {
   "cell_type": "code",
   "execution_count": 11,
   "id": "36914ecb",
   "metadata": {},
   "outputs": [
    {
     "data": {
      "image/png": "[encoded data removed]",
      "image/svg+xml": [
       "<?xml version=\"1.0\" encoding=\"utf-8\"?>\n",
       "<svg xmlns=\"http://www.w3.org/2000/svg\" xmlns:xlink=\"http://www.w3.org/1999/xlink\" width=\"600\" height=\"400\" viewBox=\"0 0 2400 1600\">\n",
       "<defs>\n",
       "  <clipPath id=\"clip790\">\n",
       "    <rect x=\"0\" y=\"0\" width=\"2400\" height=\"1600\"/>\n",
       "  </clipPath>\n",
       "</defs>\n",
       "<path clip-path=\"url(#clip790)\" d=\"M0 1600 L2400 1600 L2400 8.88178e-14 L0 8.88178e-14  Z\" fill=\"#ffffff\" fill-rule=\"evenodd\" fill-opacity=\"1\"/>\n",
       "<defs>\n",
       "  <clipPath id=\"clip791\">\n",
       "    <rect x=\"480\" y=\"0\" width=\"1681\" height=\"1600\"/>\n",
       "  </clipPath>\n",
       "</defs>\n",
       "<path clip-path=\"url(#clip790)\" d=\"M186.274 1486.45 L2352.76 1486.45 L2352.76 47.2441 L186.274 47.2441  Z\" fill=\"#ffffff\" fill-rule=\"evenodd\" fill-opacity=\"1\"/>\n",
       "<defs>\n",
       "  <clipPath id=\"clip792\">\n",
       "    <rect x=\"186\" y=\"47\" width=\"2167\" height=\"1440\"/>\n",
       "  </clipPath>\n",
       "</defs>\n",
       "<polyline clip-path=\"url(#clip792)\" style=\"stroke:#000000; stroke-linecap:round; stroke-linejoin:round; stroke-width:2; stroke-opacity:0.1; fill:none\" points=\"221.718,1486.45 221.718,47.2441 \"/>\n",
       "<polyline clip-path=\"url(#clip792)\" style=\"stroke:#000000; stroke-linecap:round; stroke-linejoin:round; stroke-width:2; stroke-opacity:0.1; fill:none\" points=\"739.149,1486.45 739.149,47.2441 \"/>\n",
       "<polyline clip-path=\"url(#clip792)\" style=\"stroke:#000000; stroke-linecap:round; stroke-linejoin:round; stroke-width:2; stroke-opacity:0.1; fill:none\" points=\"1256.58,1486.45 1256.58,47.2441 \"/>\n",
       "<polyline clip-path=\"url(#clip792)\" style=\"stroke:#000000; stroke-linecap:round; stroke-linejoin:round; stroke-width:2; stroke-opacity:0.1; fill:none\" points=\"1774.01,1486.45 1774.01,47.2441 \"/>\n",
       "<polyline clip-path=\"url(#clip792)\" style=\"stroke:#000000; stroke-linecap:round; stroke-linejoin:round; stroke-width:2; stroke-opacity:0.1; fill:none\" points=\"2291.44,1486.45 2291.44,47.2441 \"/>\n",
       "<polyline clip-path=\"url(#clip792)\" style=\"stroke:#000000; stroke-linecap:round; stroke-linejoin:round; stroke-width:2; stroke-opacity:0.1; fill:none\" points=\"186.274,1445.72 2352.76,1445.72 \"/>\n",
       "<polyline clip-path=\"url(#clip792)\" style=\"stroke:#000000; stroke-linecap:round; stroke-linejoin:round; stroke-width:2; stroke-opacity:0.1; fill:none\" points=\"186.274,1136.75 2352.76,1136.75 \"/>\n",
       "<polyline clip-path=\"url(#clip792)\" style=\"stroke:#000000; stroke-linecap:round; stroke-linejoin:round; stroke-width:2; stroke-opacity:0.1; fill:none\" points=\"186.274,827.782 2352.76,827.782 \"/>\n",
       "<polyline clip-path=\"url(#clip792)\" style=\"stroke:#000000; stroke-linecap:round; stroke-linejoin:round; stroke-width:2; stroke-opacity:0.1; fill:none\" points=\"186.274,518.815 2352.76,518.815 \"/>\n",
       "<polyline clip-path=\"url(#clip792)\" style=\"stroke:#000000; stroke-linecap:round; stroke-linejoin:round; stroke-width:2; stroke-opacity:0.1; fill:none\" points=\"186.274,209.848 2352.76,209.848 \"/>\n",
       "<polyline clip-path=\"url(#clip790)\" style=\"stroke:#000000; stroke-linecap:round; stroke-linejoin:round; stroke-width:4; stroke-opacity:1; fill:none\" points=\"186.274,1486.45 2352.76,1486.45 \"/>\n",
       "<polyline clip-path=\"url(#clip790)\" style=\"stroke:#000000; stroke-linecap:round; stroke-linejoin:round; stroke-width:4; stroke-opacity:1; fill:none\" points=\"221.718,1486.45 221.718,1467.55 \"/>\n",
       "<polyline clip-path=\"url(#clip790)\" style=\"stroke:#000000; stroke-linecap:round; stroke-linejoin:round; stroke-width:4; stroke-opacity:1; fill:none\" points=\"739.149,1486.45 739.149,1467.55 \"/>\n",
       "<polyline clip-path=\"url(#clip790)\" style=\"stroke:#000000; stroke-linecap:round; stroke-linejoin:round; stroke-width:4; stroke-opacity:1; fill:none\" points=\"1256.58,1486.45 1256.58,1467.55 \"/>\n",
       "<polyline clip-path=\"url(#clip790)\" style=\"stroke:#000000; stroke-linecap:round; stroke-linejoin:round; stroke-width:4; stroke-opacity:1; fill:none\" points=\"1774.01,1486.45 1774.01,1467.55 \"/>\n",
       "<polyline clip-path=\"url(#clip790)\" style=\"stroke:#000000; stroke-linecap:round; stroke-linejoin:round; stroke-width:4; stroke-opacity:1; fill:none\" points=\"2291.44,1486.45 2291.44,1467.55 \"/>\n",
       "<path clip-path=\"url(#clip790)\" d=\"M221.718 1517.37 Q218.107 1517.37 216.278 1520.93 Q214.473 1524.47 214.473 1531.6 Q214.473 1538.71 216.278 1542.27 Q218.107 1545.82 221.718 1545.82 Q225.352 1545.82 227.158 1542.27 Q228.986 1538.71 228.986 1531.6 Q228.986 1524.47 227.158 1520.93 Q225.352 1517.37 221.718 1517.37 M221.718 1513.66 Q227.528 1513.66 230.584 1518.27 Q233.662 1522.85 233.662 1531.6 Q233.662 1540.33 230.584 1544.94 Q227.528 1549.52 221.718 1549.52 Q215.908 1549.52 212.829 1544.94 Q209.774 1540.33 209.774 1531.6 Q209.774 1522.85 212.829 1518.27 Q215.908 1513.66 221.718 1513.66 Z\" fill=\"#000000\" fill-rule=\"nonzero\" fill-opacity=\"1\" /><path clip-path=\"url(#clip790)\" d=\"M717.922 1544.91 L734.241 1544.91 L734.241 1548.85 L712.297 1548.85 L712.297 1544.91 Q714.959 1542.16 719.542 1537.53 Q724.149 1532.88 725.329 1531.53 Q727.575 1529.01 728.454 1527.27 Q729.357 1525.51 729.357 1523.82 Q729.357 1521.07 727.413 1519.33 Q725.491 1517.6 722.389 1517.6 Q720.19 1517.6 717.737 1518.36 Q715.306 1519.13 712.528 1520.68 L712.528 1515.95 Q715.352 1514.82 717.806 1514.24 Q720.26 1513.66 722.297 1513.66 Q727.667 1513.66 730.862 1516.35 Q734.056 1519.03 734.056 1523.52 Q734.056 1525.65 733.246 1527.57 Q732.459 1529.47 730.352 1532.07 Q729.774 1532.74 726.672 1535.95 Q723.57 1539.15 717.922 1544.91 Z\" fill=\"#000000\" fill-rule=\"nonzero\" fill-opacity=\"1\" /><path clip-path=\"url(#clip790)\" d=\"M754.056 1517.37 Q750.445 1517.37 748.616 1520.93 Q746.811 1524.47 746.811 1531.6 Q746.811 1538.71 748.616 1542.27 Q750.445 1545.82 754.056 1545.82 Q757.69 1545.82 759.496 1542.27 Q761.324 1538.71 761.324 1531.6 Q761.324 1524.47 759.496 1520.93 Q757.69 1517.37 754.056 1517.37 M754.056 1513.66 Q759.866 1513.66 762.922 1518.27 Q766 1522.85 766 1531.6 Q766 1540.33 762.922 1544.94 Q759.866 1549.52 754.056 1549.52 Q748.246 1549.52 745.167 1544.94 Q742.112 1540.33 742.112 1531.6 Q742.112 1522.85 745.167 1518.27 Q748.246 1513.66 754.056 1513.66 Z\" fill=\"#000000\" fill-rule=\"nonzero\" fill-opacity=\"1\" /><path clip-path=\"url(#clip790)\" d=\"M1244.75 1518.36 L1232.95 1536.81 L1244.75 1536.81 L1244.75 1518.36 M1243.52 1514.29 L1249.4 1514.29 L1249.4 1536.81 L1254.33 1536.81 L1254.33 1540.7 L1249.4 1540.7 L1249.4 1548.85 L1244.75 1548.85 L1244.75 1540.7 L1229.15 1540.7 L1229.15 1536.19 L1243.52 1514.29 Z\" fill=\"#000000\" fill-rule=\"nonzero\" fill-opacity=\"1\" /><path clip-path=\"url(#clip790)\" d=\"M1272.07 1517.37 Q1268.45 1517.37 1266.63 1520.93 Q1264.82 1524.47 1264.82 1531.6 Q1264.82 1538.71 1266.63 1542.27 Q1268.45 1545.82 1272.07 1545.82 Q1275.7 1545.82 1277.51 1542.27 Q1279.33 1538.71 1279.33 1531.6 Q1279.33 1524.47 1277.51 1520.93 Q1275.7 1517.37 1272.07 1517.37 M1272.07 1513.66 Q1277.88 1513.66 1280.93 1518.27 Q1284.01 1522.85 1284.01 1531.6 Q1284.01 1540.33 1280.93 1544.94 Q1277.88 1549.52 1272.07 1549.52 Q1266.26 1549.52 1263.18 1544.94 Q1260.12 1540.33 1260.12 1531.6 Q1260.12 1522.85 1263.18 1518.27 Q1266.26 1513.66 1272.07 1513.66 Z\" fill=\"#000000\" fill-rule=\"nonzero\" fill-opacity=\"1\" /><path clip-path=\"url(#clip790)\" d=\"M1759.41 1529.7 Q1756.27 1529.7 1754.41 1531.86 Q1752.59 1534.01 1752.59 1537.76 Q1752.59 1541.49 1754.41 1543.66 Q1756.27 1545.82 1759.41 1545.82 Q1762.56 1545.82 1764.39 1543.66 Q1766.24 1541.49 1766.24 1537.76 Q1766.24 1534.01 1764.39 1531.86 Q1762.56 1529.7 1759.41 1529.7 M1768.7 1515.05 L1768.7 1519.31 Q1766.94 1518.48 1765.13 1518.04 Q1763.35 1517.6 1761.59 1517.6 Q1756.96 1517.6 1754.51 1520.72 Q1752.08 1523.85 1751.73 1530.17 Q1753.1 1528.15 1755.16 1527.09 Q1757.22 1526 1759.69 1526 Q1764.9 1526 1767.91 1529.17 Q1770.94 1532.32 1770.94 1537.76 Q1770.94 1543.08 1767.79 1546.3 Q1764.65 1549.52 1759.41 1549.52 Q1753.42 1549.52 1750.25 1544.94 Q1747.08 1540.33 1747.08 1531.6 Q1747.08 1523.41 1750.97 1518.55 Q1754.85 1513.66 1761.41 1513.66 Q1763.16 1513.66 1764.95 1514.01 Q1766.75 1514.36 1768.7 1515.05 Z\" fill=\"#000000\" fill-rule=\"nonzero\" fill-opacity=\"1\" /><path clip-path=\"url(#clip790)\" d=\"M1789 1517.37 Q1785.39 1517.37 1783.56 1520.93 Q1781.75 1524.47 1781.75 1531.6 Q1781.75 1538.71 1783.56 1542.27 Q1785.39 1545.82 1789 1545.82 Q1792.63 1545.82 1794.44 1542.27 Q1796.27 1538.71 1796.27 1531.6 Q1796.27 1524.47 1794.44 1520.93 Q1792.63 1517.37 1789 1517.37 M1789 1513.66 Q1794.81 1513.66 1797.86 1518.27 Q1800.94 1522.85 1800.94 1531.6 Q1800.94 1540.33 1797.86 1544.94 Q1794.81 1549.52 1789 1549.52 Q1783.19 1549.52 1780.11 1544.94 Q1777.05 1540.33 1777.05 1531.6 Q1777.05 1522.85 1780.11 1518.27 Q1783.19 1513.66 1789 1513.66 Z\" fill=\"#000000\" fill-rule=\"nonzero\" fill-opacity=\"1\" /><path clip-path=\"url(#clip790)\" d=\"M2276.31 1532.44 Q2272.98 1532.44 2271.06 1534.22 Q2269.16 1536 2269.16 1539.13 Q2269.16 1542.25 2271.06 1544.03 Q2272.98 1545.82 2276.31 1545.82 Q2279.65 1545.82 2281.57 1544.03 Q2283.49 1542.23 2283.49 1539.13 Q2283.49 1536 2281.57 1534.22 Q2279.67 1532.44 2276.31 1532.44 M2271.64 1530.45 Q2268.63 1529.7 2266.94 1527.64 Q2265.27 1525.58 2265.27 1522.62 Q2265.27 1518.48 2268.21 1516.07 Q2271.17 1513.66 2276.31 1513.66 Q2281.48 1513.66 2284.41 1516.07 Q2287.35 1518.48 2287.35 1522.62 Q2287.35 1525.58 2285.66 1527.64 Q2284 1529.7 2281.01 1530.45 Q2284.39 1531.23 2286.27 1533.52 Q2288.16 1535.82 2288.16 1539.13 Q2288.16 1544.15 2285.09 1546.83 Q2282.03 1549.52 2276.31 1549.52 Q2270.6 1549.52 2267.52 1546.83 Q2264.46 1544.15 2264.46 1539.13 Q2264.46 1535.82 2266.36 1533.52 Q2268.26 1531.23 2271.64 1530.45 M2269.92 1523.06 Q2269.92 1525.75 2271.59 1527.25 Q2273.28 1528.76 2276.31 1528.76 Q2279.32 1528.76 2281.01 1527.25 Q2282.73 1525.75 2282.73 1523.06 Q2282.73 1520.38 2281.01 1518.87 Q2279.32 1517.37 2276.31 1517.37 Q2273.28 1517.37 2271.59 1518.87 Q2269.92 1520.38 2269.92 1523.06 Z\" fill=\"#000000\" fill-rule=\"nonzero\" fill-opacity=\"1\" /><path clip-path=\"url(#clip790)\" d=\"M2306.48 1517.37 Q2302.86 1517.37 2301.04 1520.93 Q2299.23 1524.47 2299.23 1531.6 Q2299.23 1538.71 2301.04 1542.27 Q2302.86 1545.82 2306.48 1545.82 Q2310.11 1545.82 2311.91 1542.27 Q2313.74 1538.71 2313.74 1531.6 Q2313.74 1524.47 2311.91 1520.93 Q2310.11 1517.37 2306.48 1517.37 M2306.48 1513.66 Q2312.29 1513.66 2315.34 1518.27 Q2318.42 1522.85 2318.42 1531.6 Q2318.42 1540.33 2315.34 1544.94 Q2312.29 1549.52 2306.48 1549.52 Q2300.66 1549.52 2297.59 1544.94 Q2294.53 1540.33 2294.53 1531.6 Q2294.53 1522.85 2297.59 1518.27 Q2300.66 1513.66 2306.48 1513.66 Z\" fill=\"#000000\" fill-rule=\"nonzero\" fill-opacity=\"1\" /><polyline clip-path=\"url(#clip790)\" style=\"stroke:#000000; stroke-linecap:round; stroke-linejoin:round; stroke-width:4; stroke-opacity:1; fill:none\" points=\"186.274,1486.45 186.274,47.2441 \"/>\n",
       "<polyline clip-path=\"url(#clip790)\" style=\"stroke:#000000; stroke-linecap:round; stroke-linejoin:round; stroke-width:4; stroke-opacity:1; fill:none\" points=\"186.274,1445.72 205.172,1445.72 \"/>\n",
       "<polyline clip-path=\"url(#clip790)\" style=\"stroke:#000000; stroke-linecap:round; stroke-linejoin:round; stroke-width:4; stroke-opacity:1; fill:none\" points=\"186.274,1136.75 205.172,1136.75 \"/>\n",
       "<polyline clip-path=\"url(#clip790)\" style=\"stroke:#000000; stroke-linecap:round; stroke-linejoin:round; stroke-width:4; stroke-opacity:1; fill:none\" points=\"186.274,827.782 205.172,827.782 \"/>\n",
       "<polyline clip-path=\"url(#clip790)\" style=\"stroke:#000000; stroke-linecap:round; stroke-linejoin:round; stroke-width:4; stroke-opacity:1; fill:none\" points=\"186.274,518.815 205.172,518.815 \"/>\n",
       "<polyline clip-path=\"url(#clip790)\" style=\"stroke:#000000; stroke-linecap:round; stroke-linejoin:round; stroke-width:4; stroke-opacity:1; fill:none\" points=\"186.274,209.848 205.172,209.848 \"/>\n",
       "<path clip-path=\"url(#clip790)\" d=\"M62.9365 1431.51 Q59.3254 1431.51 57.4967 1435.08 Q55.6912 1438.62 55.6912 1445.75 Q55.6912 1452.86 57.4967 1456.42 Q59.3254 1459.96 62.9365 1459.96 Q66.5707 1459.96 68.3763 1456.42 Q70.205 1452.86 70.205 1445.75 Q70.205 1438.62 68.3763 1435.08 Q66.5707 1431.51 62.9365 1431.51 M62.9365 1427.81 Q68.7467 1427.81 71.8022 1432.42 Q74.8809 1437 74.8809 1445.75 Q74.8809 1454.48 71.8022 1459.08 Q68.7467 1463.67 62.9365 1463.67 Q57.1264 1463.67 54.0477 1459.08 Q50.9921 1454.48 50.9921 1445.75 Q50.9921 1437 54.0477 1432.42 Q57.1264 1427.81 62.9365 1427.81 Z\" fill=\"#000000\" fill-rule=\"nonzero\" fill-opacity=\"1\" /><path clip-path=\"url(#clip790)\" d=\"M83.0984 1457.12 L87.9827 1457.12 L87.9827 1463 L83.0984 1463 L83.0984 1457.12 Z\" fill=\"#000000\" fill-rule=\"nonzero\" fill-opacity=\"1\" /><path clip-path=\"url(#clip790)\" d=\"M108.168 1431.51 Q104.557 1431.51 102.728 1435.08 Q100.922 1438.62 100.922 1445.75 Q100.922 1452.86 102.728 1456.42 Q104.557 1459.96 108.168 1459.96 Q111.802 1459.96 113.608 1456.42 Q115.436 1452.86 115.436 1445.75 Q115.436 1438.62 113.608 1435.08 Q111.802 1431.51 108.168 1431.51 M108.168 1427.81 Q113.978 1427.81 117.033 1432.42 Q120.112 1437 120.112 1445.75 Q120.112 1454.48 117.033 1459.08 Q113.978 1463.67 108.168 1463.67 Q102.358 1463.67 99.2789 1459.08 Q96.2234 1454.48 96.2234 1445.75 Q96.2234 1437 99.2789 1432.42 Q102.358 1427.81 108.168 1427.81 Z\" fill=\"#000000\" fill-rule=\"nonzero\" fill-opacity=\"1\" /><path clip-path=\"url(#clip790)\" d=\"M138.33 1431.51 Q134.719 1431.51 132.89 1435.08 Q131.084 1438.62 131.084 1445.75 Q131.084 1452.86 132.89 1456.42 Q134.719 1459.96 138.33 1459.96 Q141.964 1459.96 143.769 1456.42 Q145.598 1452.86 145.598 1445.75 Q145.598 1438.62 143.769 1435.08 Q141.964 1431.51 138.33 1431.51 M138.33 1427.81 Q144.14 1427.81 147.195 1432.42 Q150.274 1437 150.274 1445.75 Q150.274 1454.48 147.195 1459.08 Q144.14 1463.67 138.33 1463.67 Q132.519 1463.67 129.441 1459.08 Q126.385 1454.48 126.385 1445.75 Q126.385 1437 129.441 1432.42 Q132.519 1427.81 138.33 1427.81 Z\" fill=\"#000000\" fill-rule=\"nonzero\" fill-opacity=\"1\" /><path clip-path=\"url(#clip790)\" d=\"M63.9319 1122.55 Q60.3208 1122.55 58.4921 1126.11 Q56.6865 1129.65 56.6865 1136.78 Q56.6865 1143.89 58.4921 1147.45 Q60.3208 1151 63.9319 1151 Q67.5661 1151 69.3717 1147.45 Q71.2004 1143.89 71.2004 1136.78 Q71.2004 1129.65 69.3717 1126.11 Q67.5661 1122.55 63.9319 1122.55 M63.9319 1118.84 Q69.742 1118.84 72.7976 1123.45 Q75.8763 1128.03 75.8763 1136.78 Q75.8763 1145.51 72.7976 1150.12 Q69.742 1154.7 63.9319 1154.7 Q58.1217 1154.7 55.043 1150.12 Q51.9875 1145.51 51.9875 1136.78 Q51.9875 1128.03 55.043 1123.45 Q58.1217 1118.84 63.9319 1118.84 Z\" fill=\"#000000\" fill-rule=\"nonzero\" fill-opacity=\"1\" /><path clip-path=\"url(#clip790)\" d=\"M84.0938 1148.15 L88.978 1148.15 L88.978 1154.03 L84.0938 1154.03 L84.0938 1148.15 Z\" fill=\"#000000\" fill-rule=\"nonzero\" fill-opacity=\"1\" /><path clip-path=\"url(#clip790)\" d=\"M103.191 1150.09 L119.51 1150.09 L119.51 1154.03 L97.566 1154.03 L97.566 1150.09 Q100.228 1147.34 104.811 1142.71 Q109.418 1138.06 110.598 1136.71 Q112.844 1134.19 113.723 1132.45 Q114.626 1130.7 114.626 1129.01 Q114.626 1126.25 112.682 1124.52 Q110.76 1122.78 107.658 1122.78 Q105.459 1122.78 103.006 1123.54 Q100.575 1124.31 97.7974 1125.86 L97.7974 1121.14 Q100.621 1120 103.075 1119.42 Q105.529 1118.84 107.566 1118.84 Q112.936 1118.84 116.131 1121.53 Q119.325 1124.21 119.325 1128.7 Q119.325 1130.83 118.515 1132.76 Q117.728 1134.65 115.621 1137.25 Q115.043 1137.92 111.941 1141.14 Q108.839 1144.33 103.191 1150.09 Z\" fill=\"#000000\" fill-rule=\"nonzero\" fill-opacity=\"1\" /><path clip-path=\"url(#clip790)\" d=\"M129.371 1119.47 L147.728 1119.47 L147.728 1123.4 L133.654 1123.4 L133.654 1131.88 Q134.672 1131.53 135.691 1131.37 Q136.709 1131.18 137.728 1131.18 Q143.515 1131.18 146.894 1134.35 Q150.274 1137.52 150.274 1142.94 Q150.274 1148.52 146.802 1151.62 Q143.33 1154.7 137.01 1154.7 Q134.834 1154.7 132.566 1154.33 Q130.32 1153.96 127.913 1153.22 L127.913 1148.52 Q129.996 1149.65 132.219 1150.21 Q134.441 1150.76 136.918 1150.76 Q140.922 1150.76 143.26 1148.66 Q145.598 1146.55 145.598 1142.94 Q145.598 1139.33 143.26 1137.22 Q140.922 1135.12 136.918 1135.12 Q135.043 1135.12 133.168 1135.53 Q131.316 1135.95 129.371 1136.83 L129.371 1119.47 Z\" fill=\"#000000\" fill-rule=\"nonzero\" fill-opacity=\"1\" /><path clip-path=\"url(#clip790)\" d=\"M62.9365 813.581 Q59.3254 813.581 57.4967 817.145 Q55.6912 820.687 55.6912 827.817 Q55.6912 834.923 57.4967 838.488 Q59.3254 842.029 62.9365 842.029 Q66.5707 842.029 68.3763 838.488 Q70.205 834.923 70.205 827.817 Q70.205 820.687 68.3763 817.145 Q66.5707 813.581 62.9365 813.581 M62.9365 809.877 Q68.7467 809.877 71.8022 814.483 Q74.8809 819.067 74.8809 827.817 Q74.8809 836.543 71.8022 841.15 Q68.7467 845.733 62.9365 845.733 Q57.1264 845.733 54.0477 841.15 Q50.9921 836.543 50.9921 827.817 Q50.9921 819.067 54.0477 814.483 Q57.1264 809.877 62.9365 809.877 Z\" fill=\"#000000\" fill-rule=\"nonzero\" fill-opacity=\"1\" /><path clip-path=\"url(#clip790)\" d=\"M83.0984 839.182 L87.9827 839.182 L87.9827 845.062 L83.0984 845.062 L83.0984 839.182 Z\" fill=\"#000000\" fill-rule=\"nonzero\" fill-opacity=\"1\" /><path clip-path=\"url(#clip790)\" d=\"M98.2141 810.502 L116.57 810.502 L116.57 814.437 L102.496 814.437 L102.496 822.909 Q103.515 822.562 104.534 822.4 Q105.552 822.215 106.571 822.215 Q112.358 822.215 115.737 825.386 Q119.117 828.557 119.117 833.974 Q119.117 839.553 115.645 842.654 Q112.172 845.733 105.853 845.733 Q103.677 845.733 101.409 845.363 Q99.1632 844.992 96.7558 844.252 L96.7558 839.553 Q98.8391 840.687 101.061 841.242 Q103.284 841.798 105.76 841.798 Q109.765 841.798 112.103 839.692 Q114.441 837.585 114.441 833.974 Q114.441 830.363 112.103 828.256 Q109.765 826.15 105.76 826.15 Q103.885 826.15 102.01 826.567 Q100.159 826.983 98.2141 827.863 L98.2141 810.502 Z\" fill=\"#000000\" fill-rule=\"nonzero\" fill-opacity=\"1\" /><path clip-path=\"url(#clip790)\" d=\"M138.33 813.581 Q134.719 813.581 132.89 817.145 Q131.084 820.687 131.084 827.817 Q131.084 834.923 132.89 838.488 Q134.719 842.029 138.33 842.029 Q141.964 842.029 143.769 838.488 Q145.598 834.923 145.598 827.817 Q145.598 820.687 143.769 817.145 Q141.964 813.581 138.33 813.581 M138.33 809.877 Q144.14 809.877 147.195 814.483 Q150.274 819.067 150.274 827.817 Q150.274 836.543 147.195 841.15 Q144.14 845.733 138.33 845.733 Q132.519 845.733 129.441 841.15 Q126.385 836.543 126.385 827.817 Q126.385 819.067 129.441 814.483 Q132.519 809.877 138.33 809.877 Z\" fill=\"#000000\" fill-rule=\"nonzero\" fill-opacity=\"1\" /><path clip-path=\"url(#clip790)\" d=\"M63.9319 504.614 Q60.3208 504.614 58.4921 508.178 Q56.6865 511.72 56.6865 518.85 Q56.6865 525.956 58.4921 529.521 Q60.3208 533.063 63.9319 533.063 Q67.5661 533.063 69.3717 529.521 Q71.2004 525.956 71.2004 518.85 Q71.2004 511.72 69.3717 508.178 Q67.5661 504.614 63.9319 504.614 M63.9319 500.91 Q69.742 500.91 72.7976 505.516 Q75.8763 510.1 75.8763 518.85 Q75.8763 527.576 72.7976 532.183 Q69.742 536.766 63.9319 536.766 Q58.1217 536.766 55.043 532.183 Q51.9875 527.576 51.9875 518.85 Q51.9875 510.1 55.043 505.516 Q58.1217 500.91 63.9319 500.91 Z\" fill=\"#000000\" fill-rule=\"nonzero\" fill-opacity=\"1\" /><path clip-path=\"url(#clip790)\" d=\"M84.0938 530.215 L88.978 530.215 L88.978 536.095 L84.0938 536.095 L84.0938 530.215 Z\" fill=\"#000000\" fill-rule=\"nonzero\" fill-opacity=\"1\" /><path clip-path=\"url(#clip790)\" d=\"M97.9826 501.535 L120.205 501.535 L120.205 503.526 L107.658 536.095 L102.774 536.095 L114.58 505.47 L97.9826 505.47 L97.9826 501.535 Z\" fill=\"#000000\" fill-rule=\"nonzero\" fill-opacity=\"1\" /><path clip-path=\"url(#clip790)\" d=\"M129.371 501.535 L147.728 501.535 L147.728 505.47 L133.654 505.47 L133.654 513.942 Q134.672 513.595 135.691 513.433 Q136.709 513.248 137.728 513.248 Q143.515 513.248 146.894 516.419 Q150.274 519.59 150.274 525.007 Q150.274 530.586 146.802 533.688 Q143.33 536.766 137.01 536.766 Q134.834 536.766 132.566 536.396 Q130.32 536.025 127.913 535.285 L127.913 530.586 Q129.996 531.72 132.219 532.276 Q134.441 532.831 136.918 532.831 Q140.922 532.831 143.26 530.725 Q145.598 528.618 145.598 525.007 Q145.598 521.396 143.26 519.289 Q140.922 517.183 136.918 517.183 Q135.043 517.183 133.168 517.6 Q131.316 518.016 129.371 518.896 L129.371 501.535 Z\" fill=\"#000000\" fill-rule=\"nonzero\" fill-opacity=\"1\" /><path clip-path=\"url(#clip790)\" d=\"M53.7467 223.193 L61.3856 223.193 L61.3856 196.827 L53.0754 198.494 L53.0754 194.235 L61.3393 192.568 L66.0152 192.568 L66.0152 223.193 L73.654 223.193 L73.654 227.128 L53.7467 227.128 L53.7467 223.193 Z\" fill=\"#000000\" fill-rule=\"nonzero\" fill-opacity=\"1\" /><path clip-path=\"url(#clip790)\" d=\"M83.0984 221.248 L87.9827 221.248 L87.9827 227.128 L83.0984 227.128 L83.0984 221.248 Z\" fill=\"#000000\" fill-rule=\"nonzero\" fill-opacity=\"1\" /><path clip-path=\"url(#clip790)\" d=\"M108.168 195.647 Q104.557 195.647 102.728 199.211 Q100.922 202.753 100.922 209.883 Q100.922 216.989 102.728 220.554 Q104.557 224.096 108.168 224.096 Q111.802 224.096 113.608 220.554 Q115.436 216.989 115.436 209.883 Q115.436 202.753 113.608 199.211 Q111.802 195.647 108.168 195.647 M108.168 191.943 Q113.978 191.943 117.033 196.549 Q120.112 201.133 120.112 209.883 Q120.112 218.61 117.033 223.216 Q113.978 227.799 108.168 227.799 Q102.358 227.799 99.2789 223.216 Q96.2234 218.61 96.2234 209.883 Q96.2234 201.133 99.2789 196.549 Q102.358 191.943 108.168 191.943 Z\" fill=\"#000000\" fill-rule=\"nonzero\" fill-opacity=\"1\" /><path clip-path=\"url(#clip790)\" d=\"M138.33 195.647 Q134.719 195.647 132.89 199.211 Q131.084 202.753 131.084 209.883 Q131.084 216.989 132.89 220.554 Q134.719 224.096 138.33 224.096 Q141.964 224.096 143.769 220.554 Q145.598 216.989 145.598 209.883 Q145.598 202.753 143.769 199.211 Q141.964 195.647 138.33 195.647 M138.33 191.943 Q144.14 191.943 147.195 196.549 Q150.274 201.133 150.274 209.883 Q150.274 218.61 147.195 223.216 Q144.14 227.799 138.33 227.799 Q132.519 227.799 129.441 223.216 Q126.385 218.61 126.385 209.883 Q126.385 201.133 129.441 196.549 Q132.519 191.943 138.33 191.943 Z\" fill=\"#000000\" fill-rule=\"nonzero\" fill-opacity=\"1\" /><polyline clip-path=\"url(#clip792)\" style=\"stroke:#009af9; stroke-linecap:round; stroke-linejoin:round; stroke-width:4; stroke-opacity:1; fill:none\" points=\"247.59,87.9763 273.461,87.9763 299.333,87.9763 325.204,87.9763 351.076,87.9763 376.947,87.9763 402.819,87.9763 428.69,87.9763 454.562,87.9763 480.433,87.9763 506.305,87.9763 532.176,87.9763 558.048,87.9763 583.919,87.9763 609.791,87.9763 635.662,87.9763 661.534,87.9763 687.406,1445.72 713.277,1445.72 739.149,1445.72 765.02,1445.72 790.892,1445.72 816.763,1445.72 842.635,1445.72 868.506,1445.63 894.378,1445.67 920.249,1445.7 946.121,1445.72 971.992,1445.72 997.864,1445.72 1023.74,1445.72 1049.61,1445.72 1075.48,741.408 1101.35,1445.72 1127.22,703.48 1153.09,592.336 1178.96,1442.21 1204.84,772.905 1230.71,1444.52 1256.58,1445.72 1282.45,1445.72 1308.32,1445.46 1334.19,1445.72 1360.07,1445.72 1385.94,1388.73 1411.81,1445.72 1437.68,804.441 1463.55,1363.1 1489.42,1445.72 1515.29,1261.42 1541.17,1151.1 1567.04,1445.72 1592.91,1445.72 1618.78,1445.72 1644.65,1445.72 1670.52,1445.72 1696.4,1445.72 1722.27,1445.72 1748.14,1443.78 1774.01,1434.1 1799.88,1442 1825.75,1425.06 1851.62,1445.72 1877.5,1180.88 1903.37,1445.72 1929.24,1445.72 1955.11,614.344 1980.98,1445.72 2006.85,1445.72 2032.73,1445.72 2058.6,1439.16 2084.47,1443.66 2110.34,1445.68 2136.21,1445.72 2162.08,1445.72 2187.95,1445.72 2213.83,1445.72 2239.7,1445.72 2265.57,685.445 2291.44,1445.72 \"/>\n",
       "<path clip-path=\"url(#clip790)\" d=\"M2011.46 198.898 L2280.54 198.898 L2280.54 95.2176 L2011.46 95.2176  Z\" fill=\"#ffffff\" fill-rule=\"evenodd\" fill-opacity=\"1\"/>\n",
       "<polyline clip-path=\"url(#clip790)\" style=\"stroke:#000000; stroke-linecap:round; stroke-linejoin:round; stroke-width:4; stroke-opacity:1; fill:none\" points=\"2011.46,198.898 2280.54,198.898 2280.54,95.2176 2011.46,95.2176 2011.46,198.898 \"/>\n",
       "<polyline clip-path=\"url(#clip790)\" style=\"stroke:#009af9; stroke-linecap:round; stroke-linejoin:round; stroke-width:4; stroke-opacity:1; fill:none\" points=\"2035.53,147.058 2179.97,147.058 \"/>\n",
       "<path clip-path=\"url(#clip790)\" d=\"M2217.88 166.745 Q2216.07 171.375 2214.36 172.787 Q2212.65 174.199 2209.78 174.199 L2206.38 174.199 L2206.38 170.634 L2208.88 170.634 Q2210.63 170.634 2211.61 169.8 Q2212.58 168.967 2213.76 165.865 L2214.52 163.921 L2204.04 138.412 L2208.55 138.412 L2216.65 158.689 L2224.76 138.412 L2229.27 138.412 L2217.88 166.745 Z\" fill=\"#000000\" fill-rule=\"nonzero\" fill-opacity=\"1\" /><path clip-path=\"url(#clip790)\" d=\"M2236.56 160.402 L2244.2 160.402 L2244.2 134.037 L2235.89 135.703 L2235.89 131.444 L2244.15 129.778 L2248.83 129.778 L2248.83 160.402 L2256.47 160.402 L2256.47 164.338 L2236.56 164.338 L2236.56 160.402 Z\" fill=\"#000000\" fill-rule=\"nonzero\" fill-opacity=\"1\" /></svg>\n"
      ],
      "text/html": [
       "<?xml version=\"1.0\" encoding=\"utf-8\"?>\n",
       "<svg xmlns=\"http://www.w3.org/2000/svg\" xmlns:xlink=\"http://www.w3.org/1999/xlink\" width=\"600\" height=\"400\" viewBox=\"0 0 2400 1600\">\n",
       "<defs>\n",
       "  <clipPath id=\"clip840\">\n",
       "    <rect x=\"0\" y=\"0\" width=\"2400\" height=\"1600\"/>\n",
       "  </clipPath>\n",
       "</defs>\n",
       "<path clip-path=\"url(#clip840)\" d=\"M0 1600 L2400 1600 L2400 8.88178e-14 L0 8.88178e-14  Z\" fill=\"#ffffff\" fill-rule=\"evenodd\" fill-opacity=\"1\"/>\n",
       "<defs>\n",
       "  <clipPath id=\"clip841\">\n",
       "    <rect x=\"480\" y=\"0\" width=\"1681\" height=\"1600\"/>\n",
       "  </clipPath>\n",
       "</defs>\n",
       "<path clip-path=\"url(#clip840)\" d=\"M186.274 1486.45 L2352.76 1486.45 L2352.76 47.2441 L186.274 47.2441  Z\" fill=\"#ffffff\" fill-rule=\"evenodd\" fill-opacity=\"1\"/>\n",
       "<defs>\n",
       "  <clipPath id=\"clip842\">\n",
       "    <rect x=\"186\" y=\"47\" width=\"2167\" height=\"1440\"/>\n",
       "  </clipPath>\n",
       "</defs>\n",
       "<polyline clip-path=\"url(#clip842)\" style=\"stroke:#000000; stroke-linecap:round; stroke-linejoin:round; stroke-width:2; stroke-opacity:0.1; fill:none\" points=\"221.718,1486.45 221.718,47.2441 \"/>\n",
       "<polyline clip-path=\"url(#clip842)\" style=\"stroke:#000000; stroke-linecap:round; stroke-linejoin:round; stroke-width:2; stroke-opacity:0.1; fill:none\" points=\"739.149,1486.45 739.149,47.2441 \"/>\n",
       "<polyline clip-path=\"url(#clip842)\" style=\"stroke:#000000; stroke-linecap:round; stroke-linejoin:round; stroke-width:2; stroke-opacity:0.1; fill:none\" points=\"1256.58,1486.45 1256.58,47.2441 \"/>\n",
       "<polyline clip-path=\"url(#clip842)\" style=\"stroke:#000000; stroke-linecap:round; stroke-linejoin:round; stroke-width:2; stroke-opacity:0.1; fill:none\" points=\"1774.01,1486.45 1774.01,47.2441 \"/>\n",
       "<polyline clip-path=\"url(#clip842)\" style=\"stroke:#000000; stroke-linecap:round; stroke-linejoin:round; stroke-width:2; stroke-opacity:0.1; fill:none\" points=\"2291.44,1486.45 2291.44,47.2441 \"/>\n",
       "<polyline clip-path=\"url(#clip842)\" style=\"stroke:#000000; stroke-linecap:round; stroke-linejoin:round; stroke-width:2; stroke-opacity:0.1; fill:none\" points=\"186.274,1445.72 2352.76,1445.72 \"/>\n",
       "<polyline clip-path=\"url(#clip842)\" style=\"stroke:#000000; stroke-linecap:round; stroke-linejoin:round; stroke-width:2; stroke-opacity:0.1; fill:none\" points=\"186.274,1136.75 2352.76,1136.75 \"/>\n",
       "<polyline clip-path=\"url(#clip842)\" style=\"stroke:#000000; stroke-linecap:round; stroke-linejoin:round; stroke-width:2; stroke-opacity:0.1; fill:none\" points=\"186.274,827.782 2352.76,827.782 \"/>\n",
       "<polyline clip-path=\"url(#clip842)\" style=\"stroke:#000000; stroke-linecap:round; stroke-linejoin:round; stroke-width:2; stroke-opacity:0.1; fill:none\" points=\"186.274,518.815 2352.76,518.815 \"/>\n",
       "<polyline clip-path=\"url(#clip842)\" style=\"stroke:#000000; stroke-linecap:round; stroke-linejoin:round; stroke-width:2; stroke-opacity:0.1; fill:none\" points=\"186.274,209.848 2352.76,209.848 \"/>\n",
       "<polyline clip-path=\"url(#clip840)\" style=\"stroke:#000000; stroke-linecap:round; stroke-linejoin:round; stroke-width:4; stroke-opacity:1; fill:none\" points=\"186.274,1486.45 2352.76,1486.45 \"/>\n",
       "<polyline clip-path=\"url(#clip840)\" style=\"stroke:#000000; stroke-linecap:round; stroke-linejoin:round; stroke-width:4; stroke-opacity:1; fill:none\" points=\"221.718,1486.45 221.718,1467.55 \"/>\n",
       "<polyline clip-path=\"url(#clip840)\" style=\"stroke:#000000; stroke-linecap:round; stroke-linejoin:round; stroke-width:4; stroke-opacity:1; fill:none\" points=\"739.149,1486.45 739.149,1467.55 \"/>\n",
       "<polyline clip-path=\"url(#clip840)\" style=\"stroke:#000000; stroke-linecap:round; stroke-linejoin:round; stroke-width:4; stroke-opacity:1; fill:none\" points=\"1256.58,1486.45 1256.58,1467.55 \"/>\n",
       "<polyline clip-path=\"url(#clip840)\" style=\"stroke:#000000; stroke-linecap:round; stroke-linejoin:round; stroke-width:4; stroke-opacity:1; fill:none\" points=\"1774.01,1486.45 1774.01,1467.55 \"/>\n",
       "<polyline clip-path=\"url(#clip840)\" style=\"stroke:#000000; stroke-linecap:round; stroke-linejoin:round; stroke-width:4; stroke-opacity:1; fill:none\" points=\"2291.44,1486.45 2291.44,1467.55 \"/>\n",
       "<path clip-path=\"url(#clip840)\" d=\"M221.718 1517.37 Q218.107 1517.37 216.278 1520.93 Q214.473 1524.47 214.473 1531.6 Q214.473 1538.71 216.278 1542.27 Q218.107 1545.82 221.718 1545.82 Q225.352 1545.82 227.158 1542.27 Q228.986 1538.71 228.986 1531.6 Q228.986 1524.47 227.158 1520.93 Q225.352 1517.37 221.718 1517.37 M221.718 1513.66 Q227.528 1513.66 230.584 1518.27 Q233.662 1522.85 233.662 1531.6 Q233.662 1540.33 230.584 1544.94 Q227.528 1549.52 221.718 1549.52 Q215.908 1549.52 212.829 1544.94 Q209.774 1540.33 209.774 1531.6 Q209.774 1522.85 212.829 1518.27 Q215.908 1513.66 221.718 1513.66 Z\" fill=\"#000000\" fill-rule=\"nonzero\" fill-opacity=\"1\" /><path clip-path=\"url(#clip840)\" d=\"M717.922 1544.91 L734.241 1544.91 L734.241 1548.85 L712.297 1548.85 L712.297 1544.91 Q714.959 1542.16 719.542 1537.53 Q724.149 1532.88 725.329 1531.53 Q727.575 1529.01 728.454 1527.27 Q729.357 1525.51 729.357 1523.82 Q729.357 1521.07 727.413 1519.33 Q725.491 1517.6 722.389 1517.6 Q720.19 1517.6 717.737 1518.36 Q715.306 1519.13 712.528 1520.68 L712.528 1515.95 Q715.352 1514.82 717.806 1514.24 Q720.26 1513.66 722.297 1513.66 Q727.667 1513.66 730.862 1516.35 Q734.056 1519.03 734.056 1523.52 Q734.056 1525.65 733.246 1527.57 Q732.459 1529.47 730.352 1532.07 Q729.774 1532.74 726.672 1535.95 Q723.57 1539.15 717.922 1544.91 Z\" fill=\"#000000\" fill-rule=\"nonzero\" fill-opacity=\"1\" /><path clip-path=\"url(#clip840)\" d=\"M754.056 1517.37 Q750.445 1517.37 748.616 1520.93 Q746.811 1524.47 746.811 1531.6 Q746.811 1538.71 748.616 1542.27 Q750.445 1545.82 754.056 1545.82 Q757.69 1545.82 759.496 1542.27 Q761.324 1538.71 761.324 1531.6 Q761.324 1524.47 759.496 1520.93 Q757.69 1517.37 754.056 1517.37 M754.056 1513.66 Q759.866 1513.66 762.922 1518.27 Q766 1522.85 766 1531.6 Q766 1540.33 762.922 1544.94 Q759.866 1549.52 754.056 1549.52 Q748.246 1549.52 745.167 1544.94 Q742.112 1540.33 742.112 1531.6 Q742.112 1522.85 745.167 1518.27 Q748.246 1513.66 754.056 1513.66 Z\" fill=\"#000000\" fill-rule=\"nonzero\" fill-opacity=\"1\" /><path clip-path=\"url(#clip840)\" d=\"M1244.75 1518.36 L1232.95 1536.81 L1244.75 1536.81 L1244.75 1518.36 M1243.52 1514.29 L1249.4 1514.29 L1249.4 1536.81 L1254.33 1536.81 L1254.33 1540.7 L1249.4 1540.7 L1249.4 1548.85 L1244.75 1548.85 L1244.75 1540.7 L1229.15 1540.7 L1229.15 1536.19 L1243.52 1514.29 Z\" fill=\"#000000\" fill-rule=\"nonzero\" fill-opacity=\"1\" /><path clip-path=\"url(#clip840)\" d=\"M1272.07 1517.37 Q1268.45 1517.37 1266.63 1520.93 Q1264.82 1524.47 1264.82 1531.6 Q1264.82 1538.71 1266.63 1542.27 Q1268.45 1545.82 1272.07 1545.82 Q1275.7 1545.82 1277.51 1542.27 Q1279.33 1538.71 1279.33 1531.6 Q1279.33 1524.47 1277.51 1520.93 Q1275.7 1517.37 1272.07 1517.37 M1272.07 1513.66 Q1277.88 1513.66 1280.93 1518.27 Q1284.01 1522.85 1284.01 1531.6 Q1284.01 1540.33 1280.93 1544.94 Q1277.88 1549.52 1272.07 1549.52 Q1266.26 1549.52 1263.18 1544.94 Q1260.12 1540.33 1260.12 1531.6 Q1260.12 1522.85 1263.18 1518.27 Q1266.26 1513.66 1272.07 1513.66 Z\" fill=\"#000000\" fill-rule=\"nonzero\" fill-opacity=\"1\" /><path clip-path=\"url(#clip840)\" d=\"M1759.41 1529.7 Q1756.27 1529.7 1754.41 1531.86 Q1752.59 1534.01 1752.59 1537.76 Q1752.59 1541.49 1754.41 1543.66 Q1756.27 1545.82 1759.41 1545.82 Q1762.56 1545.82 1764.39 1543.66 Q1766.24 1541.49 1766.24 1537.76 Q1766.24 1534.01 1764.39 1531.86 Q1762.56 1529.7 1759.41 1529.7 M1768.7 1515.05 L1768.7 1519.31 Q1766.94 1518.48 1765.13 1518.04 Q1763.35 1517.6 1761.59 1517.6 Q1756.96 1517.6 1754.51 1520.72 Q1752.08 1523.85 1751.73 1530.17 Q1753.1 1528.15 1755.16 1527.09 Q1757.22 1526 1759.69 1526 Q1764.9 1526 1767.91 1529.17 Q1770.94 1532.32 1770.94 1537.76 Q1770.94 1543.08 1767.79 1546.3 Q1764.65 1549.52 1759.41 1549.52 Q1753.42 1549.52 1750.25 1544.94 Q1747.08 1540.33 1747.08 1531.6 Q1747.08 1523.41 1750.97 1518.55 Q1754.85 1513.66 1761.41 1513.66 Q1763.16 1513.66 1764.95 1514.01 Q1766.75 1514.36 1768.7 1515.05 Z\" fill=\"#000000\" fill-rule=\"nonzero\" fill-opacity=\"1\" /><path clip-path=\"url(#clip840)\" d=\"M1789 1517.37 Q1785.39 1517.37 1783.56 1520.93 Q1781.75 1524.47 1781.75 1531.6 Q1781.75 1538.71 1783.56 1542.27 Q1785.39 1545.82 1789 1545.82 Q1792.63 1545.82 1794.44 1542.27 Q1796.27 1538.71 1796.27 1531.6 Q1796.27 1524.47 1794.44 1520.93 Q1792.63 1517.37 1789 1517.37 M1789 1513.66 Q1794.81 1513.66 1797.86 1518.27 Q1800.94 1522.85 1800.94 1531.6 Q1800.94 1540.33 1797.86 1544.94 Q1794.81 1549.52 1789 1549.52 Q1783.19 1549.52 1780.11 1544.94 Q1777.05 1540.33 1777.05 1531.6 Q1777.05 1522.85 1780.11 1518.27 Q1783.19 1513.66 1789 1513.66 Z\" fill=\"#000000\" fill-rule=\"nonzero\" fill-opacity=\"1\" /><path clip-path=\"url(#clip840)\" d=\"M2276.31 1532.44 Q2272.98 1532.44 2271.06 1534.22 Q2269.16 1536 2269.16 1539.13 Q2269.16 1542.25 2271.06 1544.03 Q2272.98 1545.82 2276.31 1545.82 Q2279.65 1545.82 2281.57 1544.03 Q2283.49 1542.23 2283.49 1539.13 Q2283.49 1536 2281.57 1534.22 Q2279.67 1532.44 2276.31 1532.44 M2271.64 1530.45 Q2268.63 1529.7 2266.94 1527.64 Q2265.27 1525.58 2265.27 1522.62 Q2265.27 1518.48 2268.21 1516.07 Q2271.17 1513.66 2276.31 1513.66 Q2281.48 1513.66 2284.41 1516.07 Q2287.35 1518.48 2287.35 1522.62 Q2287.35 1525.58 2285.66 1527.64 Q2284 1529.7 2281.01 1530.45 Q2284.39 1531.23 2286.27 1533.52 Q2288.16 1535.82 2288.16 1539.13 Q2288.16 1544.15 2285.09 1546.83 Q2282.03 1549.52 2276.31 1549.52 Q2270.6 1549.52 2267.52 1546.83 Q2264.46 1544.15 2264.46 1539.13 Q2264.46 1535.82 2266.36 1533.52 Q2268.26 1531.23 2271.64 1530.45 M2269.92 1523.06 Q2269.92 1525.75 2271.59 1527.25 Q2273.28 1528.76 2276.31 1528.76 Q2279.32 1528.76 2281.01 1527.25 Q2282.73 1525.75 2282.73 1523.06 Q2282.73 1520.38 2281.01 1518.87 Q2279.32 1517.37 2276.31 1517.37 Q2273.28 1517.37 2271.59 1518.87 Q2269.92 1520.38 2269.92 1523.06 Z\" fill=\"#000000\" fill-rule=\"nonzero\" fill-opacity=\"1\" /><path clip-path=\"url(#clip840)\" d=\"M2306.48 1517.37 Q2302.86 1517.37 2301.04 1520.93 Q2299.23 1524.47 2299.23 1531.6 Q2299.23 1538.71 2301.04 1542.27 Q2302.86 1545.82 2306.48 1545.82 Q2310.11 1545.82 2311.91 1542.27 Q2313.74 1538.71 2313.74 1531.6 Q2313.74 1524.47 2311.91 1520.93 Q2310.11 1517.37 2306.48 1517.37 M2306.48 1513.66 Q2312.29 1513.66 2315.34 1518.27 Q2318.42 1522.85 2318.42 1531.6 Q2318.42 1540.33 2315.34 1544.94 Q2312.29 1549.52 2306.48 1549.52 Q2300.66 1549.52 2297.59 1544.94 Q2294.53 1540.33 2294.53 1531.6 Q2294.53 1522.85 2297.59 1518.27 Q2300.66 1513.66 2306.48 1513.66 Z\" fill=\"#000000\" fill-rule=\"nonzero\" fill-opacity=\"1\" /><polyline clip-path=\"url(#clip840)\" style=\"stroke:#000000; stroke-linecap:round; stroke-linejoin:round; stroke-width:4; stroke-opacity:1; fill:none\" points=\"186.274,1486.45 186.274,47.2441 \"/>\n",
       "<polyline clip-path=\"url(#clip840)\" style=\"stroke:#000000; stroke-linecap:round; stroke-linejoin:round; stroke-width:4; stroke-opacity:1; fill:none\" points=\"186.274,1445.72 205.172,1445.72 \"/>\n",
       "<polyline clip-path=\"url(#clip840)\" style=\"stroke:#000000; stroke-linecap:round; stroke-linejoin:round; stroke-width:4; stroke-opacity:1; fill:none\" points=\"186.274,1136.75 205.172,1136.75 \"/>\n",
       "<polyline clip-path=\"url(#clip840)\" style=\"stroke:#000000; stroke-linecap:round; stroke-linejoin:round; stroke-width:4; stroke-opacity:1; fill:none\" points=\"186.274,827.782 205.172,827.782 \"/>\n",
       "<polyline clip-path=\"url(#clip840)\" style=\"stroke:#000000; stroke-linecap:round; stroke-linejoin:round; stroke-width:4; stroke-opacity:1; fill:none\" points=\"186.274,518.815 205.172,518.815 \"/>\n",
       "<polyline clip-path=\"url(#clip840)\" style=\"stroke:#000000; stroke-linecap:round; stroke-linejoin:round; stroke-width:4; stroke-opacity:1; fill:none\" points=\"186.274,209.848 205.172,209.848 \"/>\n",
       "<path clip-path=\"url(#clip840)\" d=\"M62.9365 1431.51 Q59.3254 1431.51 57.4967 1435.08 Q55.6912 1438.62 55.6912 1445.75 Q55.6912 1452.86 57.4967 1456.42 Q59.3254 1459.96 62.9365 1459.96 Q66.5707 1459.96 68.3763 1456.42 Q70.205 1452.86 70.205 1445.75 Q70.205 1438.62 68.3763 1435.08 Q66.5707 1431.51 62.9365 1431.51 M62.9365 1427.81 Q68.7467 1427.81 71.8022 1432.42 Q74.8809 1437 74.8809 1445.75 Q74.8809 1454.48 71.8022 1459.08 Q68.7467 1463.67 62.9365 1463.67 Q57.1264 1463.67 54.0477 1459.08 Q50.9921 1454.48 50.9921 1445.75 Q50.9921 1437 54.0477 1432.42 Q57.1264 1427.81 62.9365 1427.81 Z\" fill=\"#000000\" fill-rule=\"nonzero\" fill-opacity=\"1\" /><path clip-path=\"url(#clip840)\" d=\"M83.0984 1457.12 L87.9827 1457.12 L87.9827 1463 L83.0984 1463 L83.0984 1457.12 Z\" fill=\"#000000\" fill-rule=\"nonzero\" fill-opacity=\"1\" /><path clip-path=\"url(#clip840)\" d=\"M108.168 1431.51 Q104.557 1431.51 102.728 1435.08 Q100.922 1438.62 100.922 1445.75 Q100.922 1452.86 102.728 1456.42 Q104.557 1459.96 108.168 1459.96 Q111.802 1459.96 113.608 1456.42 Q115.436 1452.86 115.436 1445.75 Q115.436 1438.62 113.608 1435.08 Q111.802 1431.51 108.168 1431.51 M108.168 1427.81 Q113.978 1427.81 117.033 1432.42 Q120.112 1437 120.112 1445.75 Q120.112 1454.48 117.033 1459.08 Q113.978 1463.67 108.168 1463.67 Q102.358 1463.67 99.2789 1459.08 Q96.2234 1454.48 96.2234 1445.75 Q96.2234 1437 99.2789 1432.42 Q102.358 1427.81 108.168 1427.81 Z\" fill=\"#000000\" fill-rule=\"nonzero\" fill-opacity=\"1\" /><path clip-path=\"url(#clip840)\" d=\"M138.33 1431.51 Q134.719 1431.51 132.89 1435.08 Q131.084 1438.62 131.084 1445.75 Q131.084 1452.86 132.89 1456.42 Q134.719 1459.96 138.33 1459.96 Q141.964 1459.96 143.769 1456.42 Q145.598 1452.86 145.598 1445.75 Q145.598 1438.62 143.769 1435.08 Q141.964 1431.51 138.33 1431.51 M138.33 1427.81 Q144.14 1427.81 147.195 1432.42 Q150.274 1437 150.274 1445.75 Q150.274 1454.48 147.195 1459.08 Q144.14 1463.67 138.33 1463.67 Q132.519 1463.67 129.441 1459.08 Q126.385 1454.48 126.385 1445.75 Q126.385 1437 129.441 1432.42 Q132.519 1427.81 138.33 1427.81 Z\" fill=\"#000000\" fill-rule=\"nonzero\" fill-opacity=\"1\" /><path clip-path=\"url(#clip840)\" d=\"M63.9319 1122.55 Q60.3208 1122.55 58.4921 1126.11 Q56.6865 1129.65 56.6865 1136.78 Q56.6865 1143.89 58.4921 1147.45 Q60.3208 1151 63.9319 1151 Q67.5661 1151 69.3717 1147.45 Q71.2004 1143.89 71.2004 1136.78 Q71.2004 1129.65 69.3717 1126.11 Q67.5661 1122.55 63.9319 1122.55 M63.9319 1118.84 Q69.742 1118.84 72.7976 1123.45 Q75.8763 1128.03 75.8763 1136.78 Q75.8763 1145.51 72.7976 1150.12 Q69.742 1154.7 63.9319 1154.7 Q58.1217 1154.7 55.043 1150.12 Q51.9875 1145.51 51.9875 1136.78 Q51.9875 1128.03 55.043 1123.45 Q58.1217 1118.84 63.9319 1118.84 Z\" fill=\"#000000\" fill-rule=\"nonzero\" fill-opacity=\"1\" /><path clip-path=\"url(#clip840)\" d=\"M84.0938 1148.15 L88.978 1148.15 L88.978 1154.03 L84.0938 1154.03 L84.0938 1148.15 Z\" fill=\"#000000\" fill-rule=\"nonzero\" fill-opacity=\"1\" /><path clip-path=\"url(#clip840)\" d=\"M103.191 1150.09 L119.51 1150.09 L119.51 1154.03 L97.566 1154.03 L97.566 1150.09 Q100.228 1147.34 104.811 1142.71 Q109.418 1138.06 110.598 1136.71 Q112.844 1134.19 113.723 1132.45 Q114.626 1130.7 114.626 1129.01 Q114.626 1126.25 112.682 1124.52 Q110.76 1122.78 107.658 1122.78 Q105.459 1122.78 103.006 1123.54 Q100.575 1124.31 97.7974 1125.86 L97.7974 1121.14 Q100.621 1120 103.075 1119.42 Q105.529 1118.84 107.566 1118.84 Q112.936 1118.84 116.131 1121.53 Q119.325 1124.21 119.325 1128.7 Q119.325 1130.83 118.515 1132.76 Q117.728 1134.65 115.621 1137.25 Q115.043 1137.92 111.941 1141.14 Q108.839 1144.33 103.191 1150.09 Z\" fill=\"#000000\" fill-rule=\"nonzero\" fill-opacity=\"1\" /><path clip-path=\"url(#clip840)\" d=\"M129.371 1119.47 L147.728 1119.47 L147.728 1123.4 L133.654 1123.4 L133.654 1131.88 Q134.672 1131.53 135.691 1131.37 Q136.709 1131.18 137.728 1131.18 Q143.515 1131.18 146.894 1134.35 Q150.274 1137.52 150.274 1142.94 Q150.274 1148.52 146.802 1151.62 Q143.33 1154.7 137.01 1154.7 Q134.834 1154.7 132.566 1154.33 Q130.32 1153.96 127.913 1153.22 L127.913 1148.52 Q129.996 1149.65 132.219 1150.21 Q134.441 1150.76 136.918 1150.76 Q140.922 1150.76 143.26 1148.66 Q145.598 1146.55 145.598 1142.94 Q145.598 1139.33 143.26 1137.22 Q140.922 1135.12 136.918 1135.12 Q135.043 1135.12 133.168 1135.53 Q131.316 1135.95 129.371 1136.83 L129.371 1119.47 Z\" fill=\"#000000\" fill-rule=\"nonzero\" fill-opacity=\"1\" /><path clip-path=\"url(#clip840)\" d=\"M62.9365 813.581 Q59.3254 813.581 57.4967 817.145 Q55.6912 820.687 55.6912 827.817 Q55.6912 834.923 57.4967 838.488 Q59.3254 842.029 62.9365 842.029 Q66.5707 842.029 68.3763 838.488 Q70.205 834.923 70.205 827.817 Q70.205 820.687 68.3763 817.145 Q66.5707 813.581 62.9365 813.581 M62.9365 809.877 Q68.7467 809.877 71.8022 814.483 Q74.8809 819.067 74.8809 827.817 Q74.8809 836.543 71.8022 841.15 Q68.7467 845.733 62.9365 845.733 Q57.1264 845.733 54.0477 841.15 Q50.9921 836.543 50.9921 827.817 Q50.9921 819.067 54.0477 814.483 Q57.1264 809.877 62.9365 809.877 Z\" fill=\"#000000\" fill-rule=\"nonzero\" fill-opacity=\"1\" /><path clip-path=\"url(#clip840)\" d=\"M83.0984 839.182 L87.9827 839.182 L87.9827 845.062 L83.0984 845.062 L83.0984 839.182 Z\" fill=\"#000000\" fill-rule=\"nonzero\" fill-opacity=\"1\" /><path clip-path=\"url(#clip840)\" d=\"M98.2141 810.502 L116.57 810.502 L116.57 814.437 L102.496 814.437 L102.496 822.909 Q103.515 822.562 104.534 822.4 Q105.552 822.215 106.571 822.215 Q112.358 822.215 115.737 825.386 Q119.117 828.557 119.117 833.974 Q119.117 839.553 115.645 842.654 Q112.172 845.733 105.853 845.733 Q103.677 845.733 101.409 845.363 Q99.1632 844.992 96.7558 844.252 L96.7558 839.553 Q98.8391 840.687 101.061 841.242 Q103.284 841.798 105.76 841.798 Q109.765 841.798 112.103 839.692 Q114.441 837.585 114.441 833.974 Q114.441 830.363 112.103 828.256 Q109.765 826.15 105.76 826.15 Q103.885 826.15 102.01 826.567 Q100.159 826.983 98.2141 827.863 L98.2141 810.502 Z\" fill=\"#000000\" fill-rule=\"nonzero\" fill-opacity=\"1\" /><path clip-path=\"url(#clip840)\" d=\"M138.33 813.581 Q134.719 813.581 132.89 817.145 Q131.084 820.687 131.084 827.817 Q131.084 834.923 132.89 838.488 Q134.719 842.029 138.33 842.029 Q141.964 842.029 143.769 838.488 Q145.598 834.923 145.598 827.817 Q145.598 820.687 143.769 817.145 Q141.964 813.581 138.33 813.581 M138.33 809.877 Q144.14 809.877 147.195 814.483 Q150.274 819.067 150.274 827.817 Q150.274 836.543 147.195 841.15 Q144.14 845.733 138.33 845.733 Q132.519 845.733 129.441 841.15 Q126.385 836.543 126.385 827.817 Q126.385 819.067 129.441 814.483 Q132.519 809.877 138.33 809.877 Z\" fill=\"#000000\" fill-rule=\"nonzero\" fill-opacity=\"1\" /><path clip-path=\"url(#clip840)\" d=\"M63.9319 504.614 Q60.3208 504.614 58.4921 508.178 Q56.6865 511.72 56.6865 518.85 Q56.6865 525.956 58.4921 529.521 Q60.3208 533.063 63.9319 533.063 Q67.5661 533.063 69.3717 529.521 Q71.2004 525.956 71.2004 518.85 Q71.2004 511.72 69.3717 508.178 Q67.5661 504.614 63.9319 504.614 M63.9319 500.91 Q69.742 500.91 72.7976 505.516 Q75.8763 510.1 75.8763 518.85 Q75.8763 527.576 72.7976 532.183 Q69.742 536.766 63.9319 536.766 Q58.1217 536.766 55.043 532.183 Q51.9875 527.576 51.9875 518.85 Q51.9875 510.1 55.043 505.516 Q58.1217 500.91 63.9319 500.91 Z\" fill=\"#000000\" fill-rule=\"nonzero\" fill-opacity=\"1\" /><path clip-path=\"url(#clip840)\" d=\"M84.0938 530.215 L88.978 530.215 L88.978 536.095 L84.0938 536.095 L84.0938 530.215 Z\" fill=\"#000000\" fill-rule=\"nonzero\" fill-opacity=\"1\" /><path clip-path=\"url(#clip840)\" d=\"M97.9826 501.535 L120.205 501.535 L120.205 503.526 L107.658 536.095 L102.774 536.095 L114.58 505.47 L97.9826 505.47 L97.9826 501.535 Z\" fill=\"#000000\" fill-rule=\"nonzero\" fill-opacity=\"1\" /><path clip-path=\"url(#clip840)\" d=\"M129.371 501.535 L147.728 501.535 L147.728 505.47 L133.654 505.47 L133.654 513.942 Q134.672 513.595 135.691 513.433 Q136.709 513.248 137.728 513.248 Q143.515 513.248 146.894 516.419 Q150.274 519.59 150.274 525.007 Q150.274 530.586 146.802 533.688 Q143.33 536.766 137.01 536.766 Q134.834 536.766 132.566 536.396 Q130.32 536.025 127.913 535.285 L127.913 530.586 Q129.996 531.72 132.219 532.276 Q134.441 532.831 136.918 532.831 Q140.922 532.831 143.26 530.725 Q145.598 528.618 145.598 525.007 Q145.598 521.396 143.26 519.289 Q140.922 517.183 136.918 517.183 Q135.043 517.183 133.168 517.6 Q131.316 518.016 129.371 518.896 L129.371 501.535 Z\" fill=\"#000000\" fill-rule=\"nonzero\" fill-opacity=\"1\" /><path clip-path=\"url(#clip840)\" d=\"M53.7467 223.193 L61.3856 223.193 L61.3856 196.827 L53.0754 198.494 L53.0754 194.235 L61.3393 192.568 L66.0152 192.568 L66.0152 223.193 L73.654 223.193 L73.654 227.128 L53.7467 227.128 L53.7467 223.193 Z\" fill=\"#000000\" fill-rule=\"nonzero\" fill-opacity=\"1\" /><path clip-path=\"url(#clip840)\" d=\"M83.0984 221.248 L87.9827 221.248 L87.9827 227.128 L83.0984 227.128 L83.0984 221.248 Z\" fill=\"#000000\" fill-rule=\"nonzero\" fill-opacity=\"1\" /><path clip-path=\"url(#clip840)\" d=\"M108.168 195.647 Q104.557 195.647 102.728 199.211 Q100.922 202.753 100.922 209.883 Q100.922 216.989 102.728 220.554 Q104.557 224.096 108.168 224.096 Q111.802 224.096 113.608 220.554 Q115.436 216.989 115.436 209.883 Q115.436 202.753 113.608 199.211 Q111.802 195.647 108.168 195.647 M108.168 191.943 Q113.978 191.943 117.033 196.549 Q120.112 201.133 120.112 209.883 Q120.112 218.61 117.033 223.216 Q113.978 227.799 108.168 227.799 Q102.358 227.799 99.2789 223.216 Q96.2234 218.61 96.2234 209.883 Q96.2234 201.133 99.2789 196.549 Q102.358 191.943 108.168 191.943 Z\" fill=\"#000000\" fill-rule=\"nonzero\" fill-opacity=\"1\" /><path clip-path=\"url(#clip840)\" d=\"M138.33 195.647 Q134.719 195.647 132.89 199.211 Q131.084 202.753 131.084 209.883 Q131.084 216.989 132.89 220.554 Q134.719 224.096 138.33 224.096 Q141.964 224.096 143.769 220.554 Q145.598 216.989 145.598 209.883 Q145.598 202.753 143.769 199.211 Q141.964 195.647 138.33 195.647 M138.33 191.943 Q144.14 191.943 147.195 196.549 Q150.274 201.133 150.274 209.883 Q150.274 218.61 147.195 223.216 Q144.14 227.799 138.33 227.799 Q132.519 227.799 129.441 223.216 Q126.385 218.61 126.385 209.883 Q126.385 201.133 129.441 196.549 Q132.519 191.943 138.33 191.943 Z\" fill=\"#000000\" fill-rule=\"nonzero\" fill-opacity=\"1\" /><polyline clip-path=\"url(#clip842)\" style=\"stroke:#009af9; stroke-linecap:round; stroke-linejoin:round; stroke-width:4; stroke-opacity:1; fill:none\" points=\"247.59,87.9763 273.461,87.9763 299.333,87.9763 325.204,87.9763 351.076,87.9763 376.947,87.9763 402.819,87.9763 428.69,87.9763 454.562,87.9763 480.433,87.9763 506.305,87.9763 532.176,87.9763 558.048,87.9763 583.919,87.9763 609.791,87.9763 635.662,87.9763 661.534,87.9763 687.406,1445.72 713.277,1445.72 739.149,1445.72 765.02,1445.72 790.892,1445.72 816.763,1445.72 842.635,1445.72 868.506,1445.63 894.378,1445.67 920.249,1445.7 946.121,1445.72 971.992,1445.72 997.864,1445.72 1023.74,1445.72 1049.61,1445.72 1075.48,741.408 1101.35,1445.72 1127.22,703.48 1153.09,592.336 1178.96,1442.21 1204.84,772.905 1230.71,1444.52 1256.58,1445.72 1282.45,1445.72 1308.32,1445.46 1334.19,1445.72 1360.07,1445.72 1385.94,1388.73 1411.81,1445.72 1437.68,804.441 1463.55,1363.1 1489.42,1445.72 1515.29,1261.42 1541.17,1151.1 1567.04,1445.72 1592.91,1445.72 1618.78,1445.72 1644.65,1445.72 1670.52,1445.72 1696.4,1445.72 1722.27,1445.72 1748.14,1443.78 1774.01,1434.1 1799.88,1442 1825.75,1425.06 1851.62,1445.72 1877.5,1180.88 1903.37,1445.72 1929.24,1445.72 1955.11,614.344 1980.98,1445.72 2006.85,1445.72 2032.73,1445.72 2058.6,1439.16 2084.47,1443.66 2110.34,1445.68 2136.21,1445.72 2162.08,1445.72 2187.95,1445.72 2213.83,1445.72 2239.7,1445.72 2265.57,685.445 2291.44,1445.72 \"/>\n",
       "<path clip-path=\"url(#clip840)\" d=\"M2011.46 198.898 L2280.54 198.898 L2280.54 95.2176 L2011.46 95.2176  Z\" fill=\"#ffffff\" fill-rule=\"evenodd\" fill-opacity=\"1\"/>\n",
       "<polyline clip-path=\"url(#clip840)\" style=\"stroke:#000000; stroke-linecap:round; stroke-linejoin:round; stroke-width:4; stroke-opacity:1; fill:none\" points=\"2011.46,198.898 2280.54,198.898 2280.54,95.2176 2011.46,95.2176 2011.46,198.898 \"/>\n",
       "<polyline clip-path=\"url(#clip840)\" style=\"stroke:#009af9; stroke-linecap:round; stroke-linejoin:round; stroke-width:4; stroke-opacity:1; fill:none\" points=\"2035.53,147.058 2179.97,147.058 \"/>\n",
       "<path clip-path=\"url(#clip840)\" d=\"M2217.88 166.745 Q2216.07 171.375 2214.36 172.787 Q2212.65 174.199 2209.78 174.199 L2206.38 174.199 L2206.38 170.634 L2208.88 170.634 Q2210.63 170.634 2211.61 169.8 Q2212.58 168.967 2213.76 165.865 L2214.52 163.921 L2204.04 138.412 L2208.55 138.412 L2216.65 158.689 L2224.76 138.412 L2229.27 138.412 L2217.88 166.745 Z\" fill=\"#000000\" fill-rule=\"nonzero\" fill-opacity=\"1\" /><path clip-path=\"url(#clip840)\" d=\"M2236.56 160.402 L2244.2 160.402 L2244.2 134.037 L2235.89 135.703 L2235.89 131.444 L2244.15 129.778 L2248.83 129.778 L2248.83 160.402 L2256.47 160.402 L2256.47 164.338 L2236.56 164.338 L2236.56 160.402 Z\" fill=\"#000000\" fill-rule=\"nonzero\" fill-opacity=\"1\" /></svg>\n"
      ]
     },
     "metadata": {},
     "output_type": "display_data"
    }
   ],
   "source": [
    "using Plots\n",
    "plot(data)"
   ]
  },
  {
   "cell_type": "code",
   "execution_count": 1,
   "id": "a42baf67",
   "metadata": {},
   "outputs": [
    {
     "data": {
      "text/plain": [
       "10-element Vector{Nothing}:\n",
       " nothing\n",
       " nothing\n",
       " nothing\n",
       " nothing\n",
       " nothing\n",
       " nothing\n",
       " nothing\n",
       " nothing\n",
       " nothing\n",
       " nothing"
      ]
     },
     "metadata": {},
     "output_type": "display_data"
    }
   ],
   "source": [
    "using Distributed\n",
    "using Base.Threads\n",
    "\n",
    "# --- setup workers ---\n",
    "addprocs(10)   # or addprocs(N)\n",
    "@everywhere using SparseArrays, LinearAlgebra, Arpack, Statistics, Random, DelimitedFiles, NPZ, ExpmV, Dates\n",
    "\n",
    "# --- load your functions everywhere ---\n",
    "@everywhere begin\n",
    "    include(\"s3_circuit_anc.jl\")\n",
    "end\n",
    "\n",
    "# --- parameters ---\n",
    "Ls = [9]\n",
    "dts = [1.0]\n",
    "ps = 0.1:0.1:1.0\n",
    "shots = 1:500\n",
    "\n",
    "jobs = [(L, float(10L), 1.0, p) for L in Ls for p in ps]  # each job = one (L,T,dt,p)\n",
    "\n",
    "@everywhere const SHOTS = 1:500   # broadcast shots to workers\n",
    "\n",
    "# --- hybrid run ---\n",
    "pmap(jobs) do (L, T, dt, p)\n",
    "    @threads for shot in SHOTS\n",
    "        Entropy_anc_z2(L, T, dt, p, shot)\n",
    "    end\n",
    "end"
   ]
  },
  {
   "cell_type": "code",
   "execution_count": 4,
   "id": "ecea436e",
   "metadata": {},
   "outputs": [
    {
     "data": {
      "text/plain": [
       "Entropy_t_z2"
      ]
     },
     "metadata": {},
     "output_type": "display_data"
    }
   ],
   "source": [
    "include(\"s3_new.jl\")"
   ]
  },
  {
   "cell_type": "code",
   "execution_count": 5,
   "id": "d81d2f9c",
   "metadata": {},
   "outputs": [
    {
     "data": {
      "text/plain": [
       "60-element Vector{Float64}:\n",
       " 6.661338147750936e-16\n",
       " 0.11120580247152041\n",
       " 0.2894521364827184\n",
       " 0.20937012709095193\n",
       " 0.6902589564882227\n",
       " 0.6165429344108545\n",
       " 0.6860590379014516\n",
       " 0.45586547271675026\n",
       " 0.09576419689738683\n",
       " 0.1738460833590405\n",
       " ⋮\n",
       " 0.012980721169359102\n",
       " 0.6219816685427032\n",
       " 0.5168427964558502\n",
       " 0.6188005124289542\n",
       " 0.6930887351589321\n",
       " 0.49787869688437036\n",
       " 0.691350340900088\n",
       " 0.029017798743052492\n",
       " 0.00036600765897625"
      ]
     },
     "metadata": {},
     "output_type": "display_data"
    }
   ],
   "source": [
    "Entropy_t_z2(6, 60.0, 1.0, 1.0, 0)"
   ]
  },
  {
   "cell_type": "code",
   "execution_count": null,
   "id": "22e7b77b",
   "metadata": {},
   "outputs": [
    {
     "ename": "RemoteException",
     "evalue": "On worker 3:\nTaskFailedException\n\n    nested task error: UndefVarError: `szl` not defined in `Main`\n    Suggestion: check for spelling errors or missing imports.\n    Stacktrace:\n     [1] Entropy_t_z\n       @ ~/Documents/s3/s3_new_mipt.jl:316\n     [2] macro expansion\n       @ ~/Documents/s3/jl_notebook_cell_df34fa98e69747e1a8f8a730347b8e2f_Y222sZmlsZQ==.jl:26 [inlined]\n     [3] #81#threadsfor_fun#18\n       @ ./threadingconstructs.jl:253\n     [4] #81#threadsfor_fun\n       @ ./threadingconstructs.jl:220 [inlined]\n     [5] #1\n       @ ./threadingconstructs.jl:154\nStacktrace:\n  [1] threading_run\n    @ ./threadingconstructs.jl:173\n  [2] macro expansion\n    @ ./threadingconstructs.jl:190 [inlined]\n  [3] #17\n    @ ~/Documents/s3/jl_notebook_cell_df34fa98e69747e1a8f8a730347b8e2f_Y222sZmlsZQ==.jl:25 [inlined]\n  [4] #exec_from_cache#213\n    @ ~/.julia/juliaup/julia-1.11.5+0.aarch64.apple.darwin14/share/julia/stdlib/v1.11/Distributed/src/workerpool.jl:357\n  [5] exec_from_cache\n    @ ~/.julia/juliaup/julia-1.11.5+0.aarch64.apple.darwin14/share/julia/stdlib/v1.11/Distributed/src/workerpool.jl:355\n  [6] #invokelatest#2\n    @ ./essentials.jl:1055\n  [7] invokelatest\n    @ ./essentials.jl:1052\n  [8] #110\n    @ ~/.julia/juliaup/julia-1.11.5+0.aarch64.apple.darwin14/share/julia/stdlib/v1.11/Distributed/src/process_messages.jl:287\n  [9] run_work_thunk\n    @ ~/.julia/juliaup/julia-1.11.5+0.aarch64.apple.darwin14/share/julia/stdlib/v1.11/Distributed/src/process_messages.jl:70\n [10] #109\n    @ ~/.julia/juliaup/julia-1.11.5+0.aarch64.apple.darwin14/share/julia/stdlib/v1.11/Distributed/src/process_messages.jl:287",
     "output_type": "error",
     "traceback": [
      "On worker 3:\n",
      "TaskFailedException\n",
      "\n",
      "    nested task error: UndefVarError: `szl` not defined in `Main`\n",
      "    Suggestion: check for spelling errors or missing imports.\n",
      "    Stacktrace:\n",
      "     [1] Entropy_t_z\n",
      "       @ ~/Documents/s3/s3_new_mipt.jl:316\n",
      "     [2] macro expansion\n",
      "       @ ~/Documents/s3/jl_notebook_cell_df34fa98e69747e1a8f8a730347b8e2f_Y222sZmlsZQ==.jl:26 [inlined]\n",
      "     [3] #81#threadsfor_fun#18\n",
      "       @ ./threadingconstructs.jl:253\n",
      "     [4] #81#threadsfor_fun\n",
      "       @ ./threadingconstructs.jl:220 [inlined]\n",
      "     [5] #1\n",
      "       @ ./threadingconstructs.jl:154\n",
      "Stacktrace:\n",
      "  [1] threading_run\n",
      "    @ ./threadingconstructs.jl:173\n",
      "  [2] macro expansion\n",
      "    @ ./threadingconstructs.jl:190 [inlined]\n",
      "  [3] #17\n",
      "    @ ~/Documents/s3/jl_notebook_cell_df34fa98e69747e1a8f8a730347b8e2f_Y222sZmlsZQ==.jl:25 [inlined]\n",
      "  [4] #exec_from_cache#213\n",
      "    @ ~/.julia/juliaup/julia-1.11.5+0.aarch64.apple.darwin14/share/julia/stdlib/v1.11/Distributed/src/workerpool.jl:357\n",
      "  [5] exec_from_cache\n",
      "    @ ~/.julia/juliaup/julia-1.11.5+0.aarch64.apple.darwin14/share/julia/stdlib/v1.11/Distributed/src/workerpool.jl:355\n",
      "  [6] #invokelatest#2\n",
      "    @ ./essentials.jl:1055\n",
      "  [7] invokelatest\n",
      "    @ ./essentials.jl:1052\n",
      "  [8] #110\n",
      "    @ ~/.julia/juliaup/julia-1.11.5+0.aarch64.apple.darwin14/share/julia/stdlib/v1.11/Distributed/src/process_messages.jl:287\n",
      "  [9] run_work_thunk\n",
      "    @ ~/.julia/juliaup/julia-1.11.5+0.aarch64.apple.darwin14/share/julia/stdlib/v1.11/Distributed/src/process_messages.jl:70\n",
      " [10] #109\n",
      "    @ ~/.julia/juliaup/julia-1.11.5+0.aarch64.apple.darwin14/share/julia/stdlib/v1.11/Distributed/src/process_messages.jl:287\n",
      "\n",
      "Stacktrace:\n",
      "  [1] (::Base.var\"#1170#1172\")(x::Task)\n",
      "    @ Base ./asyncmap.jl:171\n",
      "  [2] foreach(f::Base.var\"#1170#1172\", itr::Vector{Any})\n",
      "    @ Base ./abstractarray.jl:3187\n",
      "  [3] maptwice(wrapped_f::Function, chnl::Channel{Any}, worker_tasks::Vector{Any}, c::Vector{Tuple{Int64, Float64, Float64, Float64}})\n",
      "    @ Base ./asyncmap.jl:171\n",
      "  [4] wrap_n_exec_twice\n",
      "    @ ./asyncmap.jl:147 [inlined]\n",
      "  [5] #async_usemap#1155\n",
      "    @ ./asyncmap.jl:97 [inlined]\n",
      "  [6] async_usemap\n",
      "    @ ./asyncmap.jl:78 [inlined]\n",
      "  [7] #asyncmap#1154\n",
      "    @ ./asyncmap.jl:75 [inlined]\n",
      "  [8] asyncmap\n",
      "    @ ./asyncmap.jl:74 [inlined]\n",
      "  [9] pmap(f::Function, p::CachingPool, c::Vector{Tuple{Int64, Float64, Float64, Float64}}; distributed::Bool, batch_size::Int64, on_error::Nothing, retry_delays::Vector{Any}, retry_check::Nothing)\n",
      "    @ Distributed ~/.julia/juliaup/julia-1.11.5+0.aarch64.apple.darwin14/share/julia/stdlib/v1.11/Distributed/src/pmap.jl:126\n",
      " [10] pmap\n",
      "    @ ~/.julia/juliaup/julia-1.11.5+0.aarch64.apple.darwin14/share/julia/stdlib/v1.11/Distributed/src/pmap.jl:99 [inlined]\n",
      " [11] pmap(f::Function, c::Vector{Tuple{Int64, Float64, Float64, Float64}}; kwargs::@Kwargs{})\n",
      "    @ Distributed ~/.julia/juliaup/julia-1.11.5+0.aarch64.apple.darwin14/share/julia/stdlib/v1.11/Distributed/src/pmap.jl:156\n",
      " [12] top-level scope\n",
      "    @ ~/Documents/s3/jl_notebook_cell_df34fa98e69747e1a8f8a730347b8e2f_Y222sZmlsZQ==.jl:24"
     ]
    }
   ],
   "source": [
    "using Distributed\n",
    "using Base.Threads\n",
    "\n",
    "# --- setup workers ---\n",
    "addprocs(11)   # or addprocs(N)\n",
    "@everywhere using SparseArrays, LinearAlgebra, Arpack, Statistics, Random, DelimitedFiles, NPZ, ExpmV, Dates\n",
    "\n",
    "# --- load your functions everywhere ---\n",
    "@everywhere begin\n",
    "    include(\"s3_new_mipt.jl\")\n",
    "end\n",
    "\n",
    "# --- parameters ---\n",
    "Ls = [6, 7, 8, 9]\n",
    "dts = [1.0]\n",
    "ps = 0.0:0.1:1.0\n",
    "shots = 1:500\n",
    "\n",
    "jobs = [(L, float(10L), 1.0, p) for L in Ls for p in ps]  # each job = one (L,T,dt,p)\n",
    "\n",
    "@everywhere const SHOTS = 1:500   # broadcast shots to workers\n",
    "\n",
    "# --- hybrid run ---\n",
    "pmap(jobs) do (L, T, dt, p)\n",
    "    @threads for shot in SHOTS\n",
    "        Entropy_t_z2(L, T, dt, p, shot)\n",
    "    end\n",
    "end"
   ]
  },
  {
   "cell_type": "code",
   "execution_count": 3,
   "id": "34359870",
   "metadata": {},
   "outputs": [
    {
     "data": {
      "text/plain": [
       "Entropy_t_z"
      ]
     },
     "metadata": {},
     "output_type": "display_data"
    }
   ],
   "source": [
    "include(\"s3_new_mipt.jl\")"
   ]
  },
  {
   "cell_type": "code",
   "execution_count": 4,
   "id": "d2469147",
   "metadata": {},
   "outputs": [
    {
     "data": {
      "text/plain": [
       "80-element Vector{Float64}:\n",
       " 4.440892098500625e-16\n",
       " 1.3352241165401437\n",
       " 2.2553801150128976\n",
       " 1.8058534279662113\n",
       " 0.9649598191685805\n",
       " 1.5748191523146935\n",
       " 0.9810497502815074\n",
       " 1.458732284535221\n",
       " 1.2157806403951952\n",
       " 0.9071937435210073\n",
       " ⋮\n",
       " 1.1158358705560145\n",
       " 1.1188714544651175\n",
       " 0.9257119142747761\n",
       " 1.1446968616654845\n",
       " 1.0608813139576019\n",
       " 1.184480319238886\n",
       " 0.6872192473234444\n",
       " 1.192252772179816\n",
       " 0.9583479513934038"
      ]
     },
     "metadata": {},
     "output_type": "display_data"
    }
   ],
   "source": [
    "Entropy_t_z(8, 80.0, 1.0, 0.1, 0)"
   ]
  },
  {
   "cell_type": "code",
   "execution_count": 6,
   "id": "f20a842d",
   "metadata": {},
   "outputs": [
    {
     "data": {
      "text/plain": [
       "80-element Vector{Float64}:\n",
       " 1.9984014443252798e-15\n",
       " 3.292053307907426\n",
       " 3.3172028981199753\n",
       " 3.353176808471797\n",
       " 3.370280264827912\n",
       " 3.397683533920965\n",
       " 3.447774503666124\n",
       " 3.400114016731034\n",
       " 3.4143974855157015\n",
       " 3.4193746918973633\n",
       " ⋮\n",
       " 3.4543947337976673\n",
       " 3.4063018296455128\n",
       " 3.4361708463252585\n",
       " 3.424278458507836\n",
       " 3.433537659227206\n",
       " 3.4357081960473708\n",
       " 3.435754369332191\n",
       " 3.452588854156108\n",
       " 3.4474581018223973"
      ]
     },
     "metadata": {},
     "output_type": "display_data"
    }
   ],
   "source": [
    "data = npzread(\"/Users/uditvarma/Documents/s3_data/data_hcn/L8,T80.0,dt1.0,p0.0,dirZ,s0_hc.npy\")"
   ]
  },
  {
   "cell_type": "code",
   "execution_count": 7,
   "id": "4fdd3c22",
   "metadata": {},
   "outputs": [
    {
     "data": {
      "image/png": "[encoded data removed]",
      "image/svg+xml": [
       "<?xml version=\"1.0\" encoding=\"utf-8\"?>\n",
       "<svg xmlns=\"http://www.w3.org/2000/svg\" xmlns:xlink=\"http://www.w3.org/1999/xlink\" width=\"600\" height=\"400\" viewBox=\"0 0 2400 1600\">\n",
       "<defs>\n",
       "  <clipPath id=\"clip000\">\n",
       "    <rect x=\"0\" y=\"0\" width=\"2400\" height=\"1600\"/>\n",
       "  </clipPath>\n",
       "</defs>\n",
       "<path clip-path=\"url(#clip000)\" d=\"M0 1600 L2400 1600 L2400 8.88178e-14 L0 8.88178e-14  Z\" fill=\"#ffffff\" fill-rule=\"evenodd\" fill-opacity=\"1\"/>\n",
       "<defs>\n",
       "  <clipPath id=\"clip001\">\n",
       "    <rect x=\"480\" y=\"0\" width=\"1681\" height=\"1600\"/>\n",
       "  </clipPath>\n",
       "</defs>\n",
       "<path clip-path=\"url(#clip000)\" d=\"M110.881 1486.45 L2352.76 1486.45 L2352.76 47.2441 L110.881 47.2441  Z\" fill=\"#ffffff\" fill-rule=\"evenodd\" fill-opacity=\"1\"/>\n",
       "<defs>\n",
       "  <clipPath id=\"clip002\">\n",
       "    <rect x=\"110\" y=\"47\" width=\"2243\" height=\"1440\"/>\n",
       "  </clipPath>\n",
       "</defs>\n",
       "<polyline clip-path=\"url(#clip002)\" style=\"stroke:#000000; stroke-linecap:round; stroke-linejoin:round; stroke-width:2; stroke-opacity:0.1; fill:none\" points=\"147.558,1486.45 147.558,47.2441 \"/>\n",
       "<polyline clip-path=\"url(#clip002)\" style=\"stroke:#000000; stroke-linecap:round; stroke-linejoin:round; stroke-width:2; stroke-opacity:0.1; fill:none\" points=\"682.995,1486.45 682.995,47.2441 \"/>\n",
       "<polyline clip-path=\"url(#clip002)\" style=\"stroke:#000000; stroke-linecap:round; stroke-linejoin:round; stroke-width:2; stroke-opacity:0.1; fill:none\" points=\"1218.43,1486.45 1218.43,47.2441 \"/>\n",
       "<polyline clip-path=\"url(#clip002)\" style=\"stroke:#000000; stroke-linecap:round; stroke-linejoin:round; stroke-width:2; stroke-opacity:0.1; fill:none\" points=\"1753.87,1486.45 1753.87,47.2441 \"/>\n",
       "<polyline clip-path=\"url(#clip002)\" style=\"stroke:#000000; stroke-linecap:round; stroke-linejoin:round; stroke-width:2; stroke-opacity:0.1; fill:none\" points=\"2289.31,1486.45 2289.31,47.2441 \"/>\n",
       "<polyline clip-path=\"url(#clip002)\" style=\"stroke:#000000; stroke-linecap:round; stroke-linejoin:round; stroke-width:2; stroke-opacity:0.1; fill:none\" points=\"110.881,1445.72 2352.76,1445.72 \"/>\n",
       "<polyline clip-path=\"url(#clip002)\" style=\"stroke:#000000; stroke-linecap:round; stroke-linejoin:round; stroke-width:2; stroke-opacity:0.1; fill:none\" points=\"110.881,1055.42 2352.76,1055.42 \"/>\n",
       "<polyline clip-path=\"url(#clip002)\" style=\"stroke:#000000; stroke-linecap:round; stroke-linejoin:round; stroke-width:2; stroke-opacity:0.1; fill:none\" points=\"110.881,665.134 2352.76,665.134 \"/>\n",
       "<polyline clip-path=\"url(#clip002)\" style=\"stroke:#000000; stroke-linecap:round; stroke-linejoin:round; stroke-width:2; stroke-opacity:0.1; fill:none\" points=\"110.881,274.843 2352.76,274.843 \"/>\n",
       "<polyline clip-path=\"url(#clip000)\" style=\"stroke:#000000; stroke-linecap:round; stroke-linejoin:round; stroke-width:4; stroke-opacity:1; fill:none\" points=\"110.881,1486.45 2352.76,1486.45 \"/>\n",
       "<polyline clip-path=\"url(#clip000)\" style=\"stroke:#000000; stroke-linecap:round; stroke-linejoin:round; stroke-width:4; stroke-opacity:1; fill:none\" points=\"147.558,1486.45 147.558,1467.55 \"/>\n",
       "<polyline clip-path=\"url(#clip000)\" style=\"stroke:#000000; stroke-linecap:round; stroke-linejoin:round; stroke-width:4; stroke-opacity:1; fill:none\" points=\"682.995,1486.45 682.995,1467.55 \"/>\n",
       "<polyline clip-path=\"url(#clip000)\" style=\"stroke:#000000; stroke-linecap:round; stroke-linejoin:round; stroke-width:4; stroke-opacity:1; fill:none\" points=\"1218.43,1486.45 1218.43,1467.55 \"/>\n",
       "<polyline clip-path=\"url(#clip000)\" style=\"stroke:#000000; stroke-linecap:round; stroke-linejoin:round; stroke-width:4; stroke-opacity:1; fill:none\" points=\"1753.87,1486.45 1753.87,1467.55 \"/>\n",
       "<polyline clip-path=\"url(#clip000)\" style=\"stroke:#000000; stroke-linecap:round; stroke-linejoin:round; stroke-width:4; stroke-opacity:1; fill:none\" points=\"2289.31,1486.45 2289.31,1467.55 \"/>\n",
       "<path clip-path=\"url(#clip000)\" d=\"M147.558 1517.37 Q143.947 1517.37 142.119 1520.93 Q140.313 1524.47 140.313 1531.6 Q140.313 1538.71 142.119 1542.27 Q143.947 1545.82 147.558 1545.82 Q151.193 1545.82 152.998 1542.27 Q154.827 1538.71 154.827 1531.6 Q154.827 1524.47 152.998 1520.93 Q151.193 1517.37 147.558 1517.37 M147.558 1513.66 Q153.368 1513.66 156.424 1518.27 Q159.503 1522.85 159.503 1531.6 Q159.503 1540.33 156.424 1544.94 Q153.368 1549.52 147.558 1549.52 Q141.748 1549.52 138.669 1544.94 Q135.614 1540.33 135.614 1531.6 Q135.614 1522.85 138.669 1518.27 Q141.748 1513.66 147.558 1513.66 Z\" fill=\"#000000\" fill-rule=\"nonzero\" fill-opacity=\"1\" /><path clip-path=\"url(#clip000)\" d=\"M661.769 1544.91 L678.088 1544.91 L678.088 1548.85 L656.144 1548.85 L656.144 1544.91 Q658.806 1542.16 663.389 1537.53 Q667.995 1532.88 669.176 1531.53 Q671.421 1529.01 672.301 1527.27 Q673.204 1525.51 673.204 1523.82 Q673.204 1521.07 671.259 1519.33 Q669.338 1517.6 666.236 1517.6 Q664.037 1517.6 661.583 1518.36 Q659.153 1519.13 656.375 1520.68 L656.375 1515.95 Q659.199 1514.82 661.653 1514.24 Q664.107 1513.66 666.144 1513.66 Q671.514 1513.66 674.708 1516.35 Q677.903 1519.03 677.903 1523.52 Q677.903 1525.65 677.093 1527.57 Q676.306 1529.47 674.199 1532.07 Q673.62 1532.74 670.519 1535.95 Q667.417 1539.15 661.769 1544.91 Z\" fill=\"#000000\" fill-rule=\"nonzero\" fill-opacity=\"1\" /><path clip-path=\"url(#clip000)\" d=\"M697.903 1517.37 Q694.292 1517.37 692.463 1520.93 Q690.657 1524.47 690.657 1531.6 Q690.657 1538.71 692.463 1542.27 Q694.292 1545.82 697.903 1545.82 Q701.537 1545.82 703.343 1542.27 Q705.171 1538.71 705.171 1531.6 Q705.171 1524.47 703.343 1520.93 Q701.537 1517.37 697.903 1517.37 M697.903 1513.66 Q703.713 1513.66 706.768 1518.27 Q709.847 1522.85 709.847 1531.6 Q709.847 1540.33 706.768 1544.94 Q703.713 1549.52 697.903 1549.52 Q692.093 1549.52 689.014 1544.94 Q685.958 1540.33 685.958 1531.6 Q685.958 1522.85 689.014 1518.27 Q692.093 1513.66 697.903 1513.66 Z\" fill=\"#000000\" fill-rule=\"nonzero\" fill-opacity=\"1\" /><path clip-path=\"url(#clip000)\" d=\"M1206.6 1518.36 L1194.8 1536.81 L1206.6 1536.81 L1206.6 1518.36 M1205.38 1514.29 L1211.26 1514.29 L1211.26 1536.81 L1216.19 1536.81 L1216.19 1540.7 L1211.26 1540.7 L1211.26 1548.85 L1206.6 1548.85 L1206.6 1540.7 L1191 1540.7 L1191 1536.19 L1205.38 1514.29 Z\" fill=\"#000000\" fill-rule=\"nonzero\" fill-opacity=\"1\" /><path clip-path=\"url(#clip000)\" d=\"M1233.92 1517.37 Q1230.31 1517.37 1228.48 1520.93 Q1226.67 1524.47 1226.67 1531.6 Q1226.67 1538.71 1228.48 1542.27 Q1230.31 1545.82 1233.92 1545.82 Q1237.55 1545.82 1239.36 1542.27 Q1241.19 1538.71 1241.19 1531.6 Q1241.19 1524.47 1239.36 1520.93 Q1237.55 1517.37 1233.92 1517.37 M1233.92 1513.66 Q1239.73 1513.66 1242.78 1518.27 Q1245.86 1522.85 1245.86 1531.6 Q1245.86 1540.33 1242.78 1544.94 Q1239.73 1549.52 1233.92 1549.52 Q1228.11 1549.52 1225.03 1544.94 Q1221.97 1540.33 1221.97 1531.6 Q1221.97 1522.85 1225.03 1518.27 Q1228.11 1513.66 1233.92 1513.66 Z\" fill=\"#000000\" fill-rule=\"nonzero\" fill-opacity=\"1\" /><path clip-path=\"url(#clip000)\" d=\"M1739.27 1529.7 Q1736.13 1529.7 1734.27 1531.86 Q1732.45 1534.01 1732.45 1537.76 Q1732.45 1541.49 1734.27 1543.66 Q1736.13 1545.82 1739.27 1545.82 Q1742.42 1545.82 1744.25 1543.66 Q1746.1 1541.49 1746.1 1537.76 Q1746.1 1534.01 1744.25 1531.86 Q1742.42 1529.7 1739.27 1529.7 M1748.56 1515.05 L1748.56 1519.31 Q1746.8 1518.48 1744.99 1518.04 Q1743.21 1517.6 1741.45 1517.6 Q1736.82 1517.6 1734.37 1520.72 Q1731.94 1523.85 1731.59 1530.17 Q1732.96 1528.15 1735.02 1527.09 Q1737.08 1526 1739.55 1526 Q1744.76 1526 1747.77 1529.17 Q1750.8 1532.32 1750.8 1537.76 Q1750.8 1543.08 1747.65 1546.3 Q1744.51 1549.52 1739.27 1549.52 Q1733.28 1549.52 1730.11 1544.94 Q1726.94 1540.33 1726.94 1531.6 Q1726.94 1523.41 1730.83 1518.55 Q1734.71 1513.66 1741.27 1513.66 Q1743.02 1513.66 1744.81 1514.01 Q1746.61 1514.36 1748.56 1515.05 Z\" fill=\"#000000\" fill-rule=\"nonzero\" fill-opacity=\"1\" /><path clip-path=\"url(#clip000)\" d=\"M1768.86 1517.37 Q1765.25 1517.37 1763.42 1520.93 Q1761.61 1524.47 1761.61 1531.6 Q1761.61 1538.71 1763.42 1542.27 Q1765.25 1545.82 1768.86 1545.82 Q1772.49 1545.82 1774.3 1542.27 Q1776.13 1538.71 1776.13 1531.6 Q1776.13 1524.47 1774.3 1520.93 Q1772.49 1517.37 1768.86 1517.37 M1768.86 1513.66 Q1774.67 1513.66 1777.72 1518.27 Q1780.8 1522.85 1780.8 1531.6 Q1780.8 1540.33 1777.72 1544.94 Q1774.67 1549.52 1768.86 1549.52 Q1763.05 1549.52 1759.97 1544.94 Q1756.91 1540.33 1756.91 1531.6 Q1756.91 1522.85 1759.97 1518.27 Q1763.05 1513.66 1768.86 1513.66 Z\" fill=\"#000000\" fill-rule=\"nonzero\" fill-opacity=\"1\" /><path clip-path=\"url(#clip000)\" d=\"M2274.18 1532.44 Q2270.85 1532.44 2268.92 1534.22 Q2267.03 1536 2267.03 1539.13 Q2267.03 1542.25 2268.92 1544.03 Q2270.85 1545.82 2274.18 1545.82 Q2277.51 1545.82 2279.43 1544.03 Q2281.36 1542.23 2281.36 1539.13 Q2281.36 1536 2279.43 1534.22 Q2277.54 1532.44 2274.18 1532.44 M2269.5 1530.45 Q2266.49 1529.7 2264.8 1527.64 Q2263.14 1525.58 2263.14 1522.62 Q2263.14 1518.48 2266.08 1516.07 Q2269.04 1513.66 2274.18 1513.66 Q2279.34 1513.66 2282.28 1516.07 Q2285.22 1518.48 2285.22 1522.62 Q2285.22 1525.58 2283.53 1527.64 Q2281.86 1529.7 2278.88 1530.45 Q2282.26 1531.23 2284.13 1533.52 Q2286.03 1535.82 2286.03 1539.13 Q2286.03 1544.15 2282.95 1546.83 Q2279.9 1549.52 2274.18 1549.52 Q2268.46 1549.52 2265.38 1546.83 Q2262.33 1544.15 2262.33 1539.13 Q2262.33 1535.82 2264.23 1533.52 Q2266.12 1531.23 2269.5 1530.45 M2267.79 1523.06 Q2267.79 1525.75 2269.46 1527.25 Q2271.15 1528.76 2274.18 1528.76 Q2277.19 1528.76 2278.88 1527.25 Q2280.59 1525.75 2280.59 1523.06 Q2280.59 1520.38 2278.88 1518.87 Q2277.19 1517.37 2274.18 1517.37 Q2271.15 1517.37 2269.46 1518.87 Q2267.79 1520.38 2267.79 1523.06 Z\" fill=\"#000000\" fill-rule=\"nonzero\" fill-opacity=\"1\" /><path clip-path=\"url(#clip000)\" d=\"M2304.34 1517.37 Q2300.73 1517.37 2298.9 1520.93 Q2297.1 1524.47 2297.1 1531.6 Q2297.1 1538.71 2298.9 1542.27 Q2300.73 1545.82 2304.34 1545.82 Q2307.98 1545.82 2309.78 1542.27 Q2311.61 1538.71 2311.61 1531.6 Q2311.61 1524.47 2309.78 1520.93 Q2307.98 1517.37 2304.34 1517.37 M2304.34 1513.66 Q2310.15 1513.66 2313.21 1518.27 Q2316.29 1522.85 2316.29 1531.6 Q2316.29 1540.33 2313.21 1544.94 Q2310.15 1549.52 2304.34 1549.52 Q2298.53 1549.52 2295.45 1544.94 Q2292.4 1540.33 2292.4 1531.6 Q2292.4 1522.85 2295.45 1518.27 Q2298.53 1513.66 2304.34 1513.66 Z\" fill=\"#000000\" fill-rule=\"nonzero\" fill-opacity=\"1\" /><polyline clip-path=\"url(#clip000)\" style=\"stroke:#000000; stroke-linecap:round; stroke-linejoin:round; stroke-width:4; stroke-opacity:1; fill:none\" points=\"110.881,1486.45 110.881,47.2441 \"/>\n",
       "<polyline clip-path=\"url(#clip000)\" style=\"stroke:#000000; stroke-linecap:round; stroke-linejoin:round; stroke-width:4; stroke-opacity:1; fill:none\" points=\"110.881,1445.72 129.779,1445.72 \"/>\n",
       "<polyline clip-path=\"url(#clip000)\" style=\"stroke:#000000; stroke-linecap:round; stroke-linejoin:round; stroke-width:4; stroke-opacity:1; fill:none\" points=\"110.881,1055.42 129.779,1055.42 \"/>\n",
       "<polyline clip-path=\"url(#clip000)\" style=\"stroke:#000000; stroke-linecap:round; stroke-linejoin:round; stroke-width:4; stroke-opacity:1; fill:none\" points=\"110.881,665.134 129.779,665.134 \"/>\n",
       "<polyline clip-path=\"url(#clip000)\" style=\"stroke:#000000; stroke-linecap:round; stroke-linejoin:round; stroke-width:4; stroke-opacity:1; fill:none\" points=\"110.881,274.843 129.779,274.843 \"/>\n",
       "<path clip-path=\"url(#clip000)\" d=\"M62.9365 1431.51 Q59.3254 1431.51 57.4967 1435.08 Q55.6912 1438.62 55.6912 1445.75 Q55.6912 1452.86 57.4967 1456.42 Q59.3254 1459.96 62.9365 1459.96 Q66.5707 1459.96 68.3763 1456.42 Q70.205 1452.86 70.205 1445.75 Q70.205 1438.62 68.3763 1435.08 Q66.5707 1431.51 62.9365 1431.51 M62.9365 1427.81 Q68.7467 1427.81 71.8022 1432.42 Q74.8809 1437 74.8809 1445.75 Q74.8809 1454.48 71.8022 1459.08 Q68.7467 1463.67 62.9365 1463.67 Q57.1264 1463.67 54.0477 1459.08 Q50.9921 1454.48 50.9921 1445.75 Q50.9921 1437 54.0477 1432.42 Q57.1264 1427.81 62.9365 1427.81 Z\" fill=\"#000000\" fill-rule=\"nonzero\" fill-opacity=\"1\" /><path clip-path=\"url(#clip000)\" d=\"M54.9736 1068.77 L62.6124 1068.77 L62.6124 1042.4 L54.3023 1044.07 L54.3023 1039.81 L62.5661 1038.14 L67.242 1038.14 L67.242 1068.77 L74.8809 1068.77 L74.8809 1072.7 L54.9736 1072.7 L54.9736 1068.77 Z\" fill=\"#000000\" fill-rule=\"nonzero\" fill-opacity=\"1\" /><path clip-path=\"url(#clip000)\" d=\"M58.5615 678.479 L74.8809 678.479 L74.8809 682.414 L52.9366 682.414 L52.9366 678.479 Q55.5986 675.724 60.1819 671.095 Q64.7883 666.442 65.9689 665.099 Q68.2143 662.576 69.0939 660.84 Q69.9967 659.081 69.9967 657.391 Q69.9967 654.636 68.0522 652.9 Q66.1309 651.164 63.0291 651.164 Q60.83 651.164 58.3763 651.928 Q55.9458 652.692 53.168 654.243 L53.168 649.521 Q55.9921 648.386 58.4458 647.808 Q60.8995 647.229 62.9365 647.229 Q68.3068 647.229 71.5013 649.914 Q74.6957 652.599 74.6957 657.09 Q74.6957 659.22 73.8855 661.141 Q73.0985 663.039 70.992 665.632 Q70.4133 666.303 67.3115 669.521 Q64.2096 672.715 58.5615 678.479 Z\" fill=\"#000000\" fill-rule=\"nonzero\" fill-opacity=\"1\" /><path clip-path=\"url(#clip000)\" d=\"M67.7513 273.489 Q71.1078 274.207 72.9827 276.475 Q74.8809 278.744 74.8809 282.077 Q74.8809 287.193 71.3624 289.994 Q67.8439 292.794 61.3624 292.794 Q59.1865 292.794 56.8717 292.355 Q54.5801 291.938 52.1264 291.082 L52.1264 286.568 Q54.0708 287.702 56.3856 288.281 Q58.7004 288.859 61.2236 288.859 Q65.6217 288.859 67.9133 287.123 Q70.2281 285.387 70.2281 282.077 Q70.2281 279.021 68.0754 277.308 Q65.9457 275.572 62.1263 275.572 L58.0986 275.572 L58.0986 271.73 L62.3115 271.73 Q65.7606 271.73 67.5893 270.364 Q69.418 268.975 69.418 266.383 Q69.418 263.721 67.5198 262.309 Q65.6448 260.873 62.1263 260.873 Q60.205 260.873 58.006 261.29 Q55.8069 261.707 53.168 262.586 L53.168 258.42 Q55.8301 257.679 58.1449 257.309 Q60.4828 256.938 62.543 256.938 Q67.867 256.938 70.9689 259.369 Q74.0707 261.776 74.0707 265.896 Q74.0707 268.767 72.4272 270.758 Q70.7837 272.725 67.7513 273.489 Z\" fill=\"#000000\" fill-rule=\"nonzero\" fill-opacity=\"1\" /><polyline clip-path=\"url(#clip002)\" style=\"stroke:#009af9; stroke-linecap:round; stroke-linejoin:round; stroke-width:4; stroke-opacity:1; fill:none\" points=\"174.33,1445.72 201.102,160.857 227.874,151.042 254.646,137.002 281.418,130.326 308.189,119.631 334.961,100.081 361.733,118.682 388.505,113.108 415.277,111.165 442.049,113.015 468.821,94.5061 495.592,105.37 522.364,115.274 549.136,111.524 575.908,108.516 602.68,101.449 629.452,96.2341 656.224,97.5091 682.995,95.0809 709.767,95.4329 736.539,96.8975 763.311,93.4993 790.083,92.4464 816.855,109.238 843.627,91.2091 870.398,99.9293 897.17,100.577 923.942,106.734 950.714,99.2326 977.486,108.953 1004.26,94.3531 1031.03,90.2673 1057.8,95.5227 1084.57,89.0634 1111.35,102.21 1138.12,102.302 1164.89,100.236 1191.66,96.3176 1218.43,91.0253 1245.2,97.4709 1271.98,106.736 1298.75,120.635 1325.52,96.3106 1352.29,91.6478 1379.06,100.167 1405.84,111.634 1432.61,100.834 1459.38,91.2621 1486.15,99.465 1512.92,100.633 1539.69,90.4651 1566.47,88.9118 1593.24,93.7617 1620.01,89.9135 1646.78,99.7538 1673.55,96.3945 1700.33,98.4496 1727.1,97.1317 1753.87,87.9763 1780.64,93.1222 1807.41,115.206 1834.19,109.924 1860.96,96.3883 1887.73,93.1311 1914.5,93.1922 1941.27,102.647 1968.04,93.1014 1994.82,124.922 2021.59,102.925 2048.36,112.219 2075.13,97.4971 2101.9,116.267 2128.68,104.61 2155.45,109.251 2182.22,105.637 2208.99,104.79 2235.76,104.772 2262.53,98.2019 2289.31,100.204 \"/>\n",
       "<path clip-path=\"url(#clip000)\" d=\"M2001.41 1438.47 L2278.03 1438.47 L2278.03 1334.79 L2001.41 1334.79  Z\" fill=\"#ffffff\" fill-rule=\"evenodd\" fill-opacity=\"1\"/>\n",
       "<polyline clip-path=\"url(#clip000)\" style=\"stroke:#000000; stroke-linecap:round; stroke-linejoin:round; stroke-width:4; stroke-opacity:1; fill:none\" points=\"2001.41,1438.47 2278.03,1438.47 2278.03,1334.79 2001.41,1334.79 2001.41,1438.47 \"/>\n",
       "<polyline clip-path=\"url(#clip000)\" style=\"stroke:#009af9; stroke-linecap:round; stroke-linejoin:round; stroke-width:4; stroke-opacity:1; fill:none\" points=\"2026.32,1386.63 2175.78,1386.63 \"/>\n",
       "<path clip-path=\"url(#clip000)\" d=\"M2214.53 1406.32 Q2212.72 1410.95 2211.01 1412.36 Q2209.3 1413.78 2206.43 1413.78 L2203.02 1413.78 L2203.02 1410.21 L2205.52 1410.21 Q2207.28 1410.21 2208.26 1409.38 Q2209.23 1408.54 2210.41 1405.44 L2211.17 1403.5 L2200.69 1377.99 L2205.2 1377.99 L2213.3 1398.27 L2221.4 1377.99 L2225.92 1377.99 L2214.53 1406.32 Z\" fill=\"#000000\" fill-rule=\"nonzero\" fill-opacity=\"1\" /><path clip-path=\"url(#clip000)\" d=\"M2233.21 1399.98 L2240.85 1399.98 L2240.85 1373.61 L2232.54 1375.28 L2232.54 1371.02 L2240.8 1369.35 L2245.48 1369.35 L2245.48 1399.98 L2253.12 1399.98 L2253.12 1403.91 L2233.21 1403.91 L2233.21 1399.98 Z\" fill=\"#000000\" fill-rule=\"nonzero\" fill-opacity=\"1\" /></svg>\n"
      ],
      "text/html": [
       "<?xml version=\"1.0\" encoding=\"utf-8\"?>\n",
       "<svg xmlns=\"http://www.w3.org/2000/svg\" xmlns:xlink=\"http://www.w3.org/1999/xlink\" width=\"600\" height=\"400\" viewBox=\"0 0 2400 1600\">\n",
       "<defs>\n",
       "  <clipPath id=\"clip050\">\n",
       "    <rect x=\"0\" y=\"0\" width=\"2400\" height=\"1600\"/>\n",
       "  </clipPath>\n",
       "</defs>\n",
       "<path clip-path=\"url(#clip050)\" d=\"M0 1600 L2400 1600 L2400 8.88178e-14 L0 8.88178e-14  Z\" fill=\"#ffffff\" fill-rule=\"evenodd\" fill-opacity=\"1\"/>\n",
       "<defs>\n",
       "  <clipPath id=\"clip051\">\n",
       "    <rect x=\"480\" y=\"0\" width=\"1681\" height=\"1600\"/>\n",
       "  </clipPath>\n",
       "</defs>\n",
       "<path clip-path=\"url(#clip050)\" d=\"M110.881 1486.45 L2352.76 1486.45 L2352.76 47.2441 L110.881 47.2441  Z\" fill=\"#ffffff\" fill-rule=\"evenodd\" fill-opacity=\"1\"/>\n",
       "<defs>\n",
       "  <clipPath id=\"clip052\">\n",
       "    <rect x=\"110\" y=\"47\" width=\"2243\" height=\"1440\"/>\n",
       "  </clipPath>\n",
       "</defs>\n",
       "<polyline clip-path=\"url(#clip052)\" style=\"stroke:#000000; stroke-linecap:round; stroke-linejoin:round; stroke-width:2; stroke-opacity:0.1; fill:none\" points=\"147.558,1486.45 147.558,47.2441 \"/>\n",
       "<polyline clip-path=\"url(#clip052)\" style=\"stroke:#000000; stroke-linecap:round; stroke-linejoin:round; stroke-width:2; stroke-opacity:0.1; fill:none\" points=\"682.995,1486.45 682.995,47.2441 \"/>\n",
       "<polyline clip-path=\"url(#clip052)\" style=\"stroke:#000000; stroke-linecap:round; stroke-linejoin:round; stroke-width:2; stroke-opacity:0.1; fill:none\" points=\"1218.43,1486.45 1218.43,47.2441 \"/>\n",
       "<polyline clip-path=\"url(#clip052)\" style=\"stroke:#000000; stroke-linecap:round; stroke-linejoin:round; stroke-width:2; stroke-opacity:0.1; fill:none\" points=\"1753.87,1486.45 1753.87,47.2441 \"/>\n",
       "<polyline clip-path=\"url(#clip052)\" style=\"stroke:#000000; stroke-linecap:round; stroke-linejoin:round; stroke-width:2; stroke-opacity:0.1; fill:none\" points=\"2289.31,1486.45 2289.31,47.2441 \"/>\n",
       "<polyline clip-path=\"url(#clip052)\" style=\"stroke:#000000; stroke-linecap:round; stroke-linejoin:round; stroke-width:2; stroke-opacity:0.1; fill:none\" points=\"110.881,1445.72 2352.76,1445.72 \"/>\n",
       "<polyline clip-path=\"url(#clip052)\" style=\"stroke:#000000; stroke-linecap:round; stroke-linejoin:round; stroke-width:2; stroke-opacity:0.1; fill:none\" points=\"110.881,1055.42 2352.76,1055.42 \"/>\n",
       "<polyline clip-path=\"url(#clip052)\" style=\"stroke:#000000; stroke-linecap:round; stroke-linejoin:round; stroke-width:2; stroke-opacity:0.1; fill:none\" points=\"110.881,665.134 2352.76,665.134 \"/>\n",
       "<polyline clip-path=\"url(#clip052)\" style=\"stroke:#000000; stroke-linecap:round; stroke-linejoin:round; stroke-width:2; stroke-opacity:0.1; fill:none\" points=\"110.881,274.843 2352.76,274.843 \"/>\n",
       "<polyline clip-path=\"url(#clip050)\" style=\"stroke:#000000; stroke-linecap:round; stroke-linejoin:round; stroke-width:4; stroke-opacity:1; fill:none\" points=\"110.881,1486.45 2352.76,1486.45 \"/>\n",
       "<polyline clip-path=\"url(#clip050)\" style=\"stroke:#000000; stroke-linecap:round; stroke-linejoin:round; stroke-width:4; stroke-opacity:1; fill:none\" points=\"147.558,1486.45 147.558,1467.55 \"/>\n",
       "<polyline clip-path=\"url(#clip050)\" style=\"stroke:#000000; stroke-linecap:round; stroke-linejoin:round; stroke-width:4; stroke-opacity:1; fill:none\" points=\"682.995,1486.45 682.995,1467.55 \"/>\n",
       "<polyline clip-path=\"url(#clip050)\" style=\"stroke:#000000; stroke-linecap:round; stroke-linejoin:round; stroke-width:4; stroke-opacity:1; fill:none\" points=\"1218.43,1486.45 1218.43,1467.55 \"/>\n",
       "<polyline clip-path=\"url(#clip050)\" style=\"stroke:#000000; stroke-linecap:round; stroke-linejoin:round; stroke-width:4; stroke-opacity:1; fill:none\" points=\"1753.87,1486.45 1753.87,1467.55 \"/>\n",
       "<polyline clip-path=\"url(#clip050)\" style=\"stroke:#000000; stroke-linecap:round; stroke-linejoin:round; stroke-width:4; stroke-opacity:1; fill:none\" points=\"2289.31,1486.45 2289.31,1467.55 \"/>\n",
       "<path clip-path=\"url(#clip050)\" d=\"M147.558 1517.37 Q143.947 1517.37 142.119 1520.93 Q140.313 1524.47 140.313 1531.6 Q140.313 1538.71 142.119 1542.27 Q143.947 1545.82 147.558 1545.82 Q151.193 1545.82 152.998 1542.27 Q154.827 1538.71 154.827 1531.6 Q154.827 1524.47 152.998 1520.93 Q151.193 1517.37 147.558 1517.37 M147.558 1513.66 Q153.368 1513.66 156.424 1518.27 Q159.503 1522.85 159.503 1531.6 Q159.503 1540.33 156.424 1544.94 Q153.368 1549.52 147.558 1549.52 Q141.748 1549.52 138.669 1544.94 Q135.614 1540.33 135.614 1531.6 Q135.614 1522.85 138.669 1518.27 Q141.748 1513.66 147.558 1513.66 Z\" fill=\"#000000\" fill-rule=\"nonzero\" fill-opacity=\"1\" /><path clip-path=\"url(#clip050)\" d=\"M661.769 1544.91 L678.088 1544.91 L678.088 1548.85 L656.144 1548.85 L656.144 1544.91 Q658.806 1542.16 663.389 1537.53 Q667.995 1532.88 669.176 1531.53 Q671.421 1529.01 672.301 1527.27 Q673.204 1525.51 673.204 1523.82 Q673.204 1521.07 671.259 1519.33 Q669.338 1517.6 666.236 1517.6 Q664.037 1517.6 661.583 1518.36 Q659.153 1519.13 656.375 1520.68 L656.375 1515.95 Q659.199 1514.82 661.653 1514.24 Q664.107 1513.66 666.144 1513.66 Q671.514 1513.66 674.708 1516.35 Q677.903 1519.03 677.903 1523.52 Q677.903 1525.65 677.093 1527.57 Q676.306 1529.47 674.199 1532.07 Q673.62 1532.74 670.519 1535.95 Q667.417 1539.15 661.769 1544.91 Z\" fill=\"#000000\" fill-rule=\"nonzero\" fill-opacity=\"1\" /><path clip-path=\"url(#clip050)\" d=\"M697.903 1517.37 Q694.292 1517.37 692.463 1520.93 Q690.657 1524.47 690.657 1531.6 Q690.657 1538.71 692.463 1542.27 Q694.292 1545.82 697.903 1545.82 Q701.537 1545.82 703.343 1542.27 Q705.171 1538.71 705.171 1531.6 Q705.171 1524.47 703.343 1520.93 Q701.537 1517.37 697.903 1517.37 M697.903 1513.66 Q703.713 1513.66 706.768 1518.27 Q709.847 1522.85 709.847 1531.6 Q709.847 1540.33 706.768 1544.94 Q703.713 1549.52 697.903 1549.52 Q692.093 1549.52 689.014 1544.94 Q685.958 1540.33 685.958 1531.6 Q685.958 1522.85 689.014 1518.27 Q692.093 1513.66 697.903 1513.66 Z\" fill=\"#000000\" fill-rule=\"nonzero\" fill-opacity=\"1\" /><path clip-path=\"url(#clip050)\" d=\"M1206.6 1518.36 L1194.8 1536.81 L1206.6 1536.81 L1206.6 1518.36 M1205.38 1514.29 L1211.26 1514.29 L1211.26 1536.81 L1216.19 1536.81 L1216.19 1540.7 L1211.26 1540.7 L1211.26 1548.85 L1206.6 1548.85 L1206.6 1540.7 L1191 1540.7 L1191 1536.19 L1205.38 1514.29 Z\" fill=\"#000000\" fill-rule=\"nonzero\" fill-opacity=\"1\" /><path clip-path=\"url(#clip050)\" d=\"M1233.92 1517.37 Q1230.31 1517.37 1228.48 1520.93 Q1226.67 1524.47 1226.67 1531.6 Q1226.67 1538.71 1228.48 1542.27 Q1230.31 1545.82 1233.92 1545.82 Q1237.55 1545.82 1239.36 1542.27 Q1241.19 1538.71 1241.19 1531.6 Q1241.19 1524.47 1239.36 1520.93 Q1237.55 1517.37 1233.92 1517.37 M1233.92 1513.66 Q1239.73 1513.66 1242.78 1518.27 Q1245.86 1522.85 1245.86 1531.6 Q1245.86 1540.33 1242.78 1544.94 Q1239.73 1549.52 1233.92 1549.52 Q1228.11 1549.52 1225.03 1544.94 Q1221.97 1540.33 1221.97 1531.6 Q1221.97 1522.85 1225.03 1518.27 Q1228.11 1513.66 1233.92 1513.66 Z\" fill=\"#000000\" fill-rule=\"nonzero\" fill-opacity=\"1\" /><path clip-path=\"url(#clip050)\" d=\"M1739.27 1529.7 Q1736.13 1529.7 1734.27 1531.86 Q1732.45 1534.01 1732.45 1537.76 Q1732.45 1541.49 1734.27 1543.66 Q1736.13 1545.82 1739.27 1545.82 Q1742.42 1545.82 1744.25 1543.66 Q1746.1 1541.49 1746.1 1537.76 Q1746.1 1534.01 1744.25 1531.86 Q1742.42 1529.7 1739.27 1529.7 M1748.56 1515.05 L1748.56 1519.31 Q1746.8 1518.48 1744.99 1518.04 Q1743.21 1517.6 1741.45 1517.6 Q1736.82 1517.6 1734.37 1520.72 Q1731.94 1523.85 1731.59 1530.17 Q1732.96 1528.15 1735.02 1527.09 Q1737.08 1526 1739.55 1526 Q1744.76 1526 1747.77 1529.17 Q1750.8 1532.32 1750.8 1537.76 Q1750.8 1543.08 1747.65 1546.3 Q1744.51 1549.52 1739.27 1549.52 Q1733.28 1549.52 1730.11 1544.94 Q1726.94 1540.33 1726.94 1531.6 Q1726.94 1523.41 1730.83 1518.55 Q1734.71 1513.66 1741.27 1513.66 Q1743.02 1513.66 1744.81 1514.01 Q1746.61 1514.36 1748.56 1515.05 Z\" fill=\"#000000\" fill-rule=\"nonzero\" fill-opacity=\"1\" /><path clip-path=\"url(#clip050)\" d=\"M1768.86 1517.37 Q1765.25 1517.37 1763.42 1520.93 Q1761.61 1524.47 1761.61 1531.6 Q1761.61 1538.71 1763.42 1542.27 Q1765.25 1545.82 1768.86 1545.82 Q1772.49 1545.82 1774.3 1542.27 Q1776.13 1538.71 1776.13 1531.6 Q1776.13 1524.47 1774.3 1520.93 Q1772.49 1517.37 1768.86 1517.37 M1768.86 1513.66 Q1774.67 1513.66 1777.72 1518.27 Q1780.8 1522.85 1780.8 1531.6 Q1780.8 1540.33 1777.72 1544.94 Q1774.67 1549.52 1768.86 1549.52 Q1763.05 1549.52 1759.97 1544.94 Q1756.91 1540.33 1756.91 1531.6 Q1756.91 1522.85 1759.97 1518.27 Q1763.05 1513.66 1768.86 1513.66 Z\" fill=\"#000000\" fill-rule=\"nonzero\" fill-opacity=\"1\" /><path clip-path=\"url(#clip050)\" d=\"M2274.18 1532.44 Q2270.85 1532.44 2268.92 1534.22 Q2267.03 1536 2267.03 1539.13 Q2267.03 1542.25 2268.92 1544.03 Q2270.85 1545.82 2274.18 1545.82 Q2277.51 1545.82 2279.43 1544.03 Q2281.36 1542.23 2281.36 1539.13 Q2281.36 1536 2279.43 1534.22 Q2277.54 1532.44 2274.18 1532.44 M2269.5 1530.45 Q2266.49 1529.7 2264.8 1527.64 Q2263.14 1525.58 2263.14 1522.62 Q2263.14 1518.48 2266.08 1516.07 Q2269.04 1513.66 2274.18 1513.66 Q2279.34 1513.66 2282.28 1516.07 Q2285.22 1518.48 2285.22 1522.62 Q2285.22 1525.58 2283.53 1527.64 Q2281.86 1529.7 2278.88 1530.45 Q2282.26 1531.23 2284.13 1533.52 Q2286.03 1535.82 2286.03 1539.13 Q2286.03 1544.15 2282.95 1546.83 Q2279.9 1549.52 2274.18 1549.52 Q2268.46 1549.52 2265.38 1546.83 Q2262.33 1544.15 2262.33 1539.13 Q2262.33 1535.82 2264.23 1533.52 Q2266.12 1531.23 2269.5 1530.45 M2267.79 1523.06 Q2267.79 1525.75 2269.46 1527.25 Q2271.15 1528.76 2274.18 1528.76 Q2277.19 1528.76 2278.88 1527.25 Q2280.59 1525.75 2280.59 1523.06 Q2280.59 1520.38 2278.88 1518.87 Q2277.19 1517.37 2274.18 1517.37 Q2271.15 1517.37 2269.46 1518.87 Q2267.79 1520.38 2267.79 1523.06 Z\" fill=\"#000000\" fill-rule=\"nonzero\" fill-opacity=\"1\" /><path clip-path=\"url(#clip050)\" d=\"M2304.34 1517.37 Q2300.73 1517.37 2298.9 1520.93 Q2297.1 1524.47 2297.1 1531.6 Q2297.1 1538.71 2298.9 1542.27 Q2300.73 1545.82 2304.34 1545.82 Q2307.98 1545.82 2309.78 1542.27 Q2311.61 1538.71 2311.61 1531.6 Q2311.61 1524.47 2309.78 1520.93 Q2307.98 1517.37 2304.34 1517.37 M2304.34 1513.66 Q2310.15 1513.66 2313.21 1518.27 Q2316.29 1522.85 2316.29 1531.6 Q2316.29 1540.33 2313.21 1544.94 Q2310.15 1549.52 2304.34 1549.52 Q2298.53 1549.52 2295.45 1544.94 Q2292.4 1540.33 2292.4 1531.6 Q2292.4 1522.85 2295.45 1518.27 Q2298.53 1513.66 2304.34 1513.66 Z\" fill=\"#000000\" fill-rule=\"nonzero\" fill-opacity=\"1\" /><polyline clip-path=\"url(#clip050)\" style=\"stroke:#000000; stroke-linecap:round; stroke-linejoin:round; stroke-width:4; stroke-opacity:1; fill:none\" points=\"110.881,1486.45 110.881,47.2441 \"/>\n",
       "<polyline clip-path=\"url(#clip050)\" style=\"stroke:#000000; stroke-linecap:round; stroke-linejoin:round; stroke-width:4; stroke-opacity:1; fill:none\" points=\"110.881,1445.72 129.779,1445.72 \"/>\n",
       "<polyline clip-path=\"url(#clip050)\" style=\"stroke:#000000; stroke-linecap:round; stroke-linejoin:round; stroke-width:4; stroke-opacity:1; fill:none\" points=\"110.881,1055.42 129.779,1055.42 \"/>\n",
       "<polyline clip-path=\"url(#clip050)\" style=\"stroke:#000000; stroke-linecap:round; stroke-linejoin:round; stroke-width:4; stroke-opacity:1; fill:none\" points=\"110.881,665.134 129.779,665.134 \"/>\n",
       "<polyline clip-path=\"url(#clip050)\" style=\"stroke:#000000; stroke-linecap:round; stroke-linejoin:round; stroke-width:4; stroke-opacity:1; fill:none\" points=\"110.881,274.843 129.779,274.843 \"/>\n",
       "<path clip-path=\"url(#clip050)\" d=\"M62.9365 1431.51 Q59.3254 1431.51 57.4967 1435.08 Q55.6912 1438.62 55.6912 1445.75 Q55.6912 1452.86 57.4967 1456.42 Q59.3254 1459.96 62.9365 1459.96 Q66.5707 1459.96 68.3763 1456.42 Q70.205 1452.86 70.205 1445.75 Q70.205 1438.62 68.3763 1435.08 Q66.5707 1431.51 62.9365 1431.51 M62.9365 1427.81 Q68.7467 1427.81 71.8022 1432.42 Q74.8809 1437 74.8809 1445.75 Q74.8809 1454.48 71.8022 1459.08 Q68.7467 1463.67 62.9365 1463.67 Q57.1264 1463.67 54.0477 1459.08 Q50.9921 1454.48 50.9921 1445.75 Q50.9921 1437 54.0477 1432.42 Q57.1264 1427.81 62.9365 1427.81 Z\" fill=\"#000000\" fill-rule=\"nonzero\" fill-opacity=\"1\" /><path clip-path=\"url(#clip050)\" d=\"M54.9736 1068.77 L62.6124 1068.77 L62.6124 1042.4 L54.3023 1044.07 L54.3023 1039.81 L62.5661 1038.14 L67.242 1038.14 L67.242 1068.77 L74.8809 1068.77 L74.8809 1072.7 L54.9736 1072.7 L54.9736 1068.77 Z\" fill=\"#000000\" fill-rule=\"nonzero\" fill-opacity=\"1\" /><path clip-path=\"url(#clip050)\" d=\"M58.5615 678.479 L74.8809 678.479 L74.8809 682.414 L52.9366 682.414 L52.9366 678.479 Q55.5986 675.724 60.1819 671.095 Q64.7883 666.442 65.9689 665.099 Q68.2143 662.576 69.0939 660.84 Q69.9967 659.081 69.9967 657.391 Q69.9967 654.636 68.0522 652.9 Q66.1309 651.164 63.0291 651.164 Q60.83 651.164 58.3763 651.928 Q55.9458 652.692 53.168 654.243 L53.168 649.521 Q55.9921 648.386 58.4458 647.808 Q60.8995 647.229 62.9365 647.229 Q68.3068 647.229 71.5013 649.914 Q74.6957 652.599 74.6957 657.09 Q74.6957 659.22 73.8855 661.141 Q73.0985 663.039 70.992 665.632 Q70.4133 666.303 67.3115 669.521 Q64.2096 672.715 58.5615 678.479 Z\" fill=\"#000000\" fill-rule=\"nonzero\" fill-opacity=\"1\" /><path clip-path=\"url(#clip050)\" d=\"M67.7513 273.489 Q71.1078 274.207 72.9827 276.475 Q74.8809 278.744 74.8809 282.077 Q74.8809 287.193 71.3624 289.994 Q67.8439 292.794 61.3624 292.794 Q59.1865 292.794 56.8717 292.355 Q54.5801 291.938 52.1264 291.082 L52.1264 286.568 Q54.0708 287.702 56.3856 288.281 Q58.7004 288.859 61.2236 288.859 Q65.6217 288.859 67.9133 287.123 Q70.2281 285.387 70.2281 282.077 Q70.2281 279.021 68.0754 277.308 Q65.9457 275.572 62.1263 275.572 L58.0986 275.572 L58.0986 271.73 L62.3115 271.73 Q65.7606 271.73 67.5893 270.364 Q69.418 268.975 69.418 266.383 Q69.418 263.721 67.5198 262.309 Q65.6448 260.873 62.1263 260.873 Q60.205 260.873 58.006 261.29 Q55.8069 261.707 53.168 262.586 L53.168 258.42 Q55.8301 257.679 58.1449 257.309 Q60.4828 256.938 62.543 256.938 Q67.867 256.938 70.9689 259.369 Q74.0707 261.776 74.0707 265.896 Q74.0707 268.767 72.4272 270.758 Q70.7837 272.725 67.7513 273.489 Z\" fill=\"#000000\" fill-rule=\"nonzero\" fill-opacity=\"1\" /><polyline clip-path=\"url(#clip052)\" style=\"stroke:#009af9; stroke-linecap:round; stroke-linejoin:round; stroke-width:4; stroke-opacity:1; fill:none\" points=\"174.33,1445.72 201.102,160.857 227.874,151.042 254.646,137.002 281.418,130.326 308.189,119.631 334.961,100.081 361.733,118.682 388.505,113.108 415.277,111.165 442.049,113.015 468.821,94.5061 495.592,105.37 522.364,115.274 549.136,111.524 575.908,108.516 602.68,101.449 629.452,96.2341 656.224,97.5091 682.995,95.0809 709.767,95.4329 736.539,96.8975 763.311,93.4993 790.083,92.4464 816.855,109.238 843.627,91.2091 870.398,99.9293 897.17,100.577 923.942,106.734 950.714,99.2326 977.486,108.953 1004.26,94.3531 1031.03,90.2673 1057.8,95.5227 1084.57,89.0634 1111.35,102.21 1138.12,102.302 1164.89,100.236 1191.66,96.3176 1218.43,91.0253 1245.2,97.4709 1271.98,106.736 1298.75,120.635 1325.52,96.3106 1352.29,91.6478 1379.06,100.167 1405.84,111.634 1432.61,100.834 1459.38,91.2621 1486.15,99.465 1512.92,100.633 1539.69,90.4651 1566.47,88.9118 1593.24,93.7617 1620.01,89.9135 1646.78,99.7538 1673.55,96.3945 1700.33,98.4496 1727.1,97.1317 1753.87,87.9763 1780.64,93.1222 1807.41,115.206 1834.19,109.924 1860.96,96.3883 1887.73,93.1311 1914.5,93.1922 1941.27,102.647 1968.04,93.1014 1994.82,124.922 2021.59,102.925 2048.36,112.219 2075.13,97.4971 2101.9,116.267 2128.68,104.61 2155.45,109.251 2182.22,105.637 2208.99,104.79 2235.76,104.772 2262.53,98.2019 2289.31,100.204 \"/>\n",
       "<path clip-path=\"url(#clip050)\" d=\"M2001.41 1438.47 L2278.03 1438.47 L2278.03 1334.79 L2001.41 1334.79  Z\" fill=\"#ffffff\" fill-rule=\"evenodd\" fill-opacity=\"1\"/>\n",
       "<polyline clip-path=\"url(#clip050)\" style=\"stroke:#000000; stroke-linecap:round; stroke-linejoin:round; stroke-width:4; stroke-opacity:1; fill:none\" points=\"2001.41,1438.47 2278.03,1438.47 2278.03,1334.79 2001.41,1334.79 2001.41,1438.47 \"/>\n",
       "<polyline clip-path=\"url(#clip050)\" style=\"stroke:#009af9; stroke-linecap:round; stroke-linejoin:round; stroke-width:4; stroke-opacity:1; fill:none\" points=\"2026.32,1386.63 2175.78,1386.63 \"/>\n",
       "<path clip-path=\"url(#clip050)\" d=\"M2214.53 1406.32 Q2212.72 1410.95 2211.01 1412.36 Q2209.3 1413.78 2206.43 1413.78 L2203.02 1413.78 L2203.02 1410.21 L2205.52 1410.21 Q2207.28 1410.21 2208.26 1409.38 Q2209.23 1408.54 2210.41 1405.44 L2211.17 1403.5 L2200.69 1377.99 L2205.2 1377.99 L2213.3 1398.27 L2221.4 1377.99 L2225.92 1377.99 L2214.53 1406.32 Z\" fill=\"#000000\" fill-rule=\"nonzero\" fill-opacity=\"1\" /><path clip-path=\"url(#clip050)\" d=\"M2233.21 1399.98 L2240.85 1399.98 L2240.85 1373.61 L2232.54 1375.28 L2232.54 1371.02 L2240.8 1369.35 L2245.48 1369.35 L2245.48 1399.98 L2253.12 1399.98 L2253.12 1403.91 L2233.21 1403.91 L2233.21 1399.98 Z\" fill=\"#000000\" fill-rule=\"nonzero\" fill-opacity=\"1\" /></svg>\n"
      ]
     },
     "metadata": {},
     "output_type": "display_data"
    }
   ],
   "source": [
    "using Plots\n",
    "plot(data)"
   ]
  },
  {
   "cell_type": "code",
   "execution_count": null,
   "id": "464f5bfb",
   "metadata": {},
   "outputs": [],
   "source": [
    "using Distributed\n",
    "using Base.Threads\n",
    "\n",
    "# --- setup workers ---\n",
    "addprocs(11)   # or addprocs(N)\n",
    "@everywhere using SparseArrays, LinearAlgebra, Arpack, Statistics, Random, DelimitedFiles, NPZ, ExpmV, Dates\n",
    "\n",
    "# --- load your functions everywhere ---\n",
    "@everywhere begin\n",
    "    include(\"s3_cs.jl\")\n",
    "end\n",
    "\n",
    "# --- parameters ---\n",
    "Ls = [6, 7, 8, 9]\n",
    "dts = [1.0]\n",
    "ps = 0.0:0.1:1.0\n",
    "shots = 1:500\n",
    "\n",
    "jobs = [(L, float(10L), 1.0, p) for L in Ls for p in ps]  # each job = one (L,T,dt,p)\n",
    "\n",
    "@everywhere const SHOTS = 1:500   # broadcast shots to workers\n",
    "\n",
    "# --- hybrid run ---\n",
    "pmap(jobs) do (L, T, dt, p)\n",
    "    @threads for shot in SHOTS\n",
    "        Entropy_t_z2(L, T, dt, p, shot)\n",
    "    end\n",
    "end"
   ]
  },
  {
   "cell_type": "code",
   "execution_count": 1,
   "id": "a88d6f65",
   "metadata": {},
   "outputs": [
    {
     "data": {
      "text/plain": [
       "0.0"
      ]
     },
     "metadata": {},
     "output_type": "display_data"
    }
   ],
   "source": [
    ".0"
   ]
  },
  {
   "cell_type": "code",
   "execution_count": null,
   "id": "6ca0d653",
   "metadata": {},
   "outputs": [],
   "source": []
  }
 ],
 "metadata": {
  "kernelspec": {
   "display_name": "Julia 1.11.5",
   "language": "julia",
   "name": "julia-1.11"
  },
  "language_info": {
   "file_extension": ".jl",
   "mimetype": "application/julia",
   "name": "julia",
   "version": "1.11.5"
  }
 },
 "nbformat": 4,
 "nbformat_minor": 5
}
