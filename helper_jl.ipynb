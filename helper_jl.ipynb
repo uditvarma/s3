{
 "cells": [
  {
   "cell_type": "code",
   "execution_count": 1,
   "id": "6d1a5567",
   "metadata": {},
   "outputs": [
    {
     "name": "stderr",
     "output_type": "stream",
     "text": [
      "\u001b[32m\u001b[1m    Updating\u001b[22m\u001b[39m registry at `~/.julia/registries/General.toml`\n",
      "\u001b[32m\u001b[1m   Resolving\u001b[22m\u001b[39m package versions...\n",
      "\u001b[32m\u001b[1m  No Changes\u001b[22m\u001b[39m to `~/.julia/environments/v1.11/Project.toml`\n",
      "\u001b[32m\u001b[1m  No Changes\u001b[22m\u001b[39m to `~/.julia/environments/v1.11/Manifest.toml`\n",
      "\u001b[32m\u001b[1m   Resolving\u001b[22m\u001b[39m package versions...\n",
      "\u001b[32m\u001b[1m  No Changes\u001b[22m\u001b[39m to `~/.julia/environments/v1.11/Project.toml`\n",
      "\u001b[32m\u001b[1m  No Changes\u001b[22m\u001b[39m to `~/.julia/environments/v1.11/Manifest.toml`\n",
      "\u001b[32m\u001b[1m   Resolving\u001b[22m\u001b[39m package versions...\n",
      "\u001b[32m\u001b[1m  No Changes\u001b[22m\u001b[39m to `~/.julia/environments/v1.11/Project.toml`\n",
      "\u001b[32m\u001b[1m  No Changes\u001b[22m\u001b[39m to `~/.julia/environments/v1.11/Manifest.toml`\n",
      "\u001b[32m\u001b[1m   Resolving\u001b[22m\u001b[39m package versions...\n",
      "\u001b[32m\u001b[1m  No Changes\u001b[22m\u001b[39m to `~/.julia/environments/v1.11/Project.toml`\n",
      "\u001b[32m\u001b[1m  No Changes\u001b[22m\u001b[39m to `~/.julia/environments/v1.11/Manifest.toml`\n",
      "\u001b[32m\u001b[1m   Resolving\u001b[22m\u001b[39m package versions...\n",
      "\u001b[32m\u001b[1m  No Changes\u001b[22m\u001b[39m to `~/.julia/environments/v1.11/Project.toml`\n",
      "\u001b[32m\u001b[1m  No Changes\u001b[22m\u001b[39m to `~/.julia/environments/v1.11/Manifest.toml`\n",
      "\u001b[32m\u001b[1m   Resolving\u001b[22m\u001b[39m package versions...\n",
      "\u001b[32m\u001b[1m  No Changes\u001b[22m\u001b[39m to `~/.julia/environments/v1.11/Project.toml`\n",
      "\u001b[32m\u001b[1m  No Changes\u001b[22m\u001b[39m to `~/.julia/environments/v1.11/Manifest.toml`\n",
      "\u001b[32m\u001b[1m   Resolving\u001b[22m\u001b[39m package versions...\n",
      "\u001b[32m\u001b[1m  No Changes\u001b[22m\u001b[39m to `~/.julia/environments/v1.11/Project.toml`\n",
      "\u001b[32m\u001b[1m  No Changes\u001b[22m\u001b[39m to `~/.julia/environments/v1.11/Manifest.toml`\n",
      "\u001b[32m\u001b[1m   Resolving\u001b[22m\u001b[39m package versions...\n",
      "\u001b[32m\u001b[1m  No Changes\u001b[22m\u001b[39m to `~/.julia/environments/v1.11/Project.toml`\n",
      "\u001b[32m\u001b[1m  No Changes\u001b[22m\u001b[39m to `~/.julia/environments/v1.11/Manifest.toml`\n",
      "\u001b[32m\u001b[1m   Resolving\u001b[22m\u001b[39m package versions...\n",
      "\u001b[32m\u001b[1m  No Changes\u001b[22m\u001b[39m to `~/.julia/environments/v1.11/Project.toml`\n",
      "\u001b[32m\u001b[1m  No Changes\u001b[22m\u001b[39m to `~/.julia/environments/v1.11/Manifest.toml`\n"
     ]
    }
   ],
   "source": [
    "import Pkg\n",
    "\n",
    "Pkg.add(\"SparseArrays\")\n",
    "Pkg.add(\"LinearAlgebra\")\n",
    "Pkg.add(\"SpecialFunctions\")\n",
    "Pkg.add(\"Arpack\")   \n",
    "Pkg.add(\"DelimitedFiles\")\n",
    "Pkg.add(\"NPZ\")\n",
    "Pkg.add(\"Random\")\n",
    "Pkg.add(\"Statistics\")\n",
    "Pkg.add(\"ExpmV\")"
   ]
  },
  {
   "cell_type": "code",
   "execution_count": 2,
   "id": "b58ea1d1",
   "metadata": {},
   "outputs": [],
   "source": [
    "using SparseArrays\n",
    "using LinearAlgebra\n",
    "using SpecialFunctions  # for besselj\n",
    "using Arpack  # for eigs on sparse matrices\n",
    "using Statistics\n",
    "using Random\n",
    "using DelimitedFiles\n",
    "using NPZ\n",
    "using ExpmV\n"
   ]
  },
  {
   "cell_type": "code",
   "execution_count": 3,
   "id": "3cf74d9c",
   "metadata": {},
   "outputs": [
    {
     "data": {
      "text/plain": [
       "von_neumann_entropy (generic function with 1 method)"
      ]
     },
     "metadata": {},
     "output_type": "display_data"
    }
   ],
   "source": [
    "function von_neumann_entropy(ψ::Vector{<:Complex}, cut::Int, L::Int)\n",
    "    dimA = 3^cut\n",
    "    dimB = 3^(L - cut)\n",
    "    ψ_matrix = reshape(ψ, (dimA, dimB))\n",
    "    svals = svdvals(ψ_matrix)\n",
    "    S = 0.0\n",
    "    for s in svals\n",
    "        p = abs2(s)\n",
    "        if p > 0 && p > 1e-15\n",
    "            S -= p * log(p)\n",
    "        end\n",
    "    end\n",
    "    return S\n",
    "end"
   ]
  },
  {
   "cell_type": "code",
   "execution_count": 4,
   "id": "7d50f7a8",
   "metadata": {},
   "outputs": [
    {
     "data": {
      "text/plain": [
       "random_product_state (generic function with 1 method)"
      ]
     },
     "metadata": {},
     "output_type": "display_data"
    }
   ],
   "source": [
    "using LinearAlgebra\n",
    "using Random\n",
    "\n",
    "function random_product_state(L::Int)\n",
    "    product_state = nothing\n",
    "\n",
    "    for i in 1:L\n",
    "        θ1 = rand() * π\n",
    "        θ2 = rand() * π\n",
    "        ϕ1 = rand() * 2π\n",
    "        ϕ2 = rand() * 2π\n",
    "\n",
    "        c1 = cos(θ1 / 2)\n",
    "        c2 = exp(im * ϕ1) * sin(θ1 / 2) * sin(θ2 / 2)\n",
    "        c3 = exp(im * ϕ2) * sin(θ1 / 2) * cos(θ2 / 2)\n",
    "\n",
    "        temp_state = [c1, c2, c3]\n",
    "\n",
    "        if i == 1\n",
    "            product_state = temp_state\n",
    "        else\n",
    "            product_state = kron(product_state, temp_state)\n",
    "        end\n",
    "    end\n",
    "\n",
    "    # Normalize the state\n",
    "    product_state /= norm(product_state)\n",
    "\n",
    "    return product_state\n",
    "end"
   ]
  },
  {
   "cell_type": "code",
   "execution_count": 5,
   "id": "f85e509d",
   "metadata": {},
   "outputs": [
    {
     "data": {
      "text/plain": [
       "Hamiltonian (generic function with 1 method)"
      ]
     },
     "metadata": {},
     "output_type": "display_data"
    }
   ],
   "source": [
    "function Hamiltonian(L)\n",
    "    # Define Pauli matrices as complex sparse matrices\n",
    "    id = sparse(ComplexF64[1 0 0; 0 1 0; 0 0 1])\n",
    "    sx = 1/sqrt(2) * sparse(ComplexF64[0 1 0; 1 0 1; 0 1 0])\n",
    "    sy = 1/sqrt(2) * sparse(ComplexF64[0 -im 0; im 0 -im; 0 im 0])\n",
    "    sz = sparse(ComplexF64[1 0 0; 0 0 0; 0 0 -1])\n",
    "\n",
    "    sp = 1/sqrt(2) * (sx + im * sy)\n",
    "    sm = 1/sqrt(2) * (sx - im * sy)\n",
    "\n",
    "    # Preallocate vectors of operators with correct type\n",
    "    #sx_list = Vector{SparseMatrixCSC{ComplexF64, Int}}(undef, L)\n",
    "    #sy_list = Vector{SparseMatrixCSC{ComplexF64, Int}}(undef, L)\n",
    "    szl = Vector{SparseMatrixCSC{ComplexF64, Int}}(undef, L) # List of sz operators\n",
    "    sz2l = Vector{SparseMatrixCSC{ComplexF64, Int}}(undef, L) # List of sz² operators\n",
    "    spl = Vector{SparseMatrixCSC{ComplexF64, Int}}(undef, L) # List of sp operators\n",
    "    sml = Vector{SparseMatrixCSC{ComplexF64, Int}}(undef, L) # List of sm operators\n",
    "\n",
    "    for i_site in 1:L\n",
    "        p_ops = fill(id, L)\n",
    "        m_ops = fill(id, L)\n",
    "        z_ops = fill(id, L)\n",
    "        z2_ops = fill(id, L)\n",
    "        p_ops[i_site] = sp\n",
    "        m_ops[i_site] = sm\n",
    "        z_ops[i_site] = sz\n",
    "        z2_ops[i_site] = sz^2\n",
    "\n",
    "        # Build the full operator by tensoring\n",
    "        P = p_ops[1]\n",
    "        M = m_ops[1]\n",
    "        Z = z_ops[1]\n",
    "        Z2 = z2_ops[1]\n",
    "        for j in 2:L\n",
    "            P = kron(P, p_ops[j])\n",
    "            M = kron(M, m_ops[j])\n",
    "            Z = kron(Z, z_ops[j])\n",
    "            Z2 = kron(Z2, z2_ops[j])\n",
    "        end\n",
    "\n",
    "        spl[i_site] = P\n",
    "        sml[i_site] = M\n",
    "        szl[i_site] = Z\n",
    "        sz2l[i_site] = Z2\n",
    "    end\n",
    "\n",
    "    dim = 3^L\n",
    "    H = spzeros(ComplexF64, dim, dim)\n",
    "\n",
    "    for i in 1:L\n",
    "        ip = (i % L) + 1  # Periodic boundary\n",
    "        H += ((spl[i]^2 * sml[ip]^2 + sml[i]^2 * spl[ip]^2) + adjoint((spl[i]^2 * sml[ip]^2 + sml[i]^2 * spl[ip]^2)))\n",
    "    end\n",
    "\n",
    "    return H, sz2l, szl \n",
    "end"
   ]
  },
  {
   "cell_type": "code",
   "execution_count": 6,
   "id": "f9e0dcec",
   "metadata": {},
   "outputs": [
    {
     "data": {
      "text/plain": [
       "time_evolution (generic function with 1 method)"
      ]
     },
     "metadata": {},
     "output_type": "display_data"
    }
   ],
   "source": [
    "using ExpmV\n",
    "\n",
    "function time_evolution(ψ::Vector{ComplexF64}, dt::Float64, L)\n",
    "    ψ /= norm(ψ)\n",
    "    H, _, _ = Hamiltonian(L)\n",
    "\n",
    "    # Apply exp(-im * H * dt) directly to ψ\n",
    "    ψ_new = expmv(-im * dt, H, ψ)\n",
    "\n",
    "    # Normalize the state\n",
    "    ψ_new /= norm(ψ_new)\n",
    "    \n",
    "    return ψ_new\n",
    "end\n"
   ]
  },
  {
   "cell_type": "code",
   "execution_count": null,
   "id": "e45e1982",
   "metadata": {},
   "outputs": [],
   "source": [
    "state = time_evolution(random_product_state(13), 1.0, 13)"
   ]
  },
  {
   "cell_type": "code",
   "execution_count": null,
   "id": "221c204f",
   "metadata": {},
   "outputs": [],
   "source": [
    "von_neumann_entropy(state, 6, 13)"
   ]
  },
  {
   "cell_type": "code",
   "execution_count": null,
   "id": "bc6007e8",
   "metadata": {},
   "outputs": [],
   "source": [
    "function Entropy_t(L::Int, T::Float64, dt::Float64, p::Float64, direction::String, shot::Int)\n",
    "    Random.seed!(shot)  # Set random seed\n",
    "    s_t = random_product_state(L)\n",
    "    S_list = Float64[]\n",
    "\n",
    "    # Define Hamiltonian and local observables\n",
    "    H, sz2l, szl = Hamiltonian(L)\n",
    "    \n",
    "    if direction == \"Z2\"\n",
    "        sm_list = sz2l\n",
    "    elseif direction == \"Z\"\n",
    "        sm_list = szl\n",
    "    else\n",
    "        error(\"Invalid direction: $direction. Choose \\\"Z2\\\" or \\\"Z\\\".\")\n",
    "    end\n",
    "\n",
    "\n",
    "    steps = Int(floor(T / dt))\n",
    "\n",
    "    for _ in 1:steps\n",
    "        push!(S_list, von_neumann_entropy(s_t, L÷2, L))\n",
    "        #push!(S_list, I3(s_t))\n",
    "\n",
    "        # Time evolution\n",
    "        s_t = time_evolution(s_t, dt)\n",
    "        s_t /= norm(s_t)\n",
    "\n",
    "        # Measurements\n",
    "        if p != 0\n",
    "            for l in 1:L\n",
    "                x = rand()\n",
    "                if x < p\n",
    "                    m_op = sm_list[l]\n",
    "                    p_m = real(s_t' * (m_op * s_t))\n",
    "                    if rand() < p_m\n",
    "                        s_t = (m_op * s_t) / sqrt(p_m)\n",
    "                    else\n",
    "                        s_t = (s_t - m_op * s_t) / sqrt(1 - p_m)\n",
    "                    end\n",
    "                end\n",
    "            end\n",
    "        end\n",
    "    end\n",
    "\n",
    "    # Save result to disk\n",
    "    filename = \"L$(L),T$(T),dt$(dt),p$(p),dir$(direction),s$(shot).npy\"\n",
    "    #npzwrite(filename, S_list)\n",
    "\n",
    "    return S_list\n",
    "end"
   ]
  },
  {
   "cell_type": "code",
   "execution_count": null,
   "id": "615e719c",
   "metadata": {},
   "outputs": [],
   "source": [
    "Entropy_t(8, 100.0, 1.0, 1.0, \"Z2\", 1)"
   ]
  },
  {
   "cell_type": "code",
   "execution_count": null,
   "id": "99304bca",
   "metadata": {},
   "outputs": [],
   "source": [
    "function I3(psi::Vector{ComplexF64})\n",
    "    log3(x) = log(x) / log(3)\n",
    "\n",
    "    L = Int(round(log3(length(psi))))\n",
    "    qL = L ÷ 4\n",
    "\n",
    "    SA   = von_neumann_entropy(psi, qL, L)\n",
    "    SB   = von_neumann_entropy(psi, 2qL, L)\n",
    "    SC   = von_neumann_entropy(psi, 3qL, L)\n",
    "    SABC = von_neumann_entropy(psi, L, L)\n",
    "    SAB  = von_neumann_entropy(psi, 2qL, L)\n",
    "    SAC  = von_neumann_entropy(psi, 3qL, L)\n",
    "    SBC  = von_neumann_entropy(psi, 3qL, L)\n",
    "    \n",
    "\n",
    "\n",
    "    return SA + SB + SC + SABC - SAB - SAC - SBC\n",
    "end"
   ]
  },
  {
   "cell_type": "code",
   "execution_count": null,
   "id": "98604b11",
   "metadata": {},
   "outputs": [],
   "source": [
    "function Entropy_t_z(L::Int, T::Float64, dt::Float64, p::Float64, shot::Int)\n",
    "    Random.seed!(shot)  # Set random seed\n",
    "    s_t = random_product_state(L)\n",
    "    S_list = Float64[]\n",
    "\n",
    "    # Define Hamiltonian and local observables\n",
    "    H, sz2l, szl = Hamiltonian(L)\n",
    "    sm_list = szl\n",
    "    steps = Int(floor(T / dt))\n",
    "\n",
    "    for _ in 1:steps\n",
    "        push!(S_list, von_neumann_entropy(s_t, L÷2, L))\n",
    "        #push!(S_list, I3(s_t))\n",
    "\n",
    "        # Time evolution\n",
    "        s_t = time_evolution(s_t, dt)\n",
    "        s_t /= norm(s_t)\n",
    "\n",
    "        # Measurements\n",
    "        if p != 0\n",
    "            for l in 1:L\n",
    "                x = rand()\n",
    "                if x < p\n",
    "                    m_op = sm_list[l]\n",
    "                    p_m_mone = 0.5 * real(s_t' * (sz2l[l]-sm_list[l]) * s_t)\n",
    "                    p_m_one = 0.5 * real(s_t' * (sz2l[l] + sm_list[l]) * s_t)\n",
    "                    x1 = rand()\n",
    "                    if x1 < p_m_mone\n",
    "                        s_t = 0.5 * ((sz2l[l]-sm_list[l]) * s_t) / sqrt(p_m_mone)\n",
    "                    elseif p_m_mone < x1 < p_m_one + p_m_mone\n",
    "                        s_t = 0.5 * ((sz2l[l]+sm_list[l]) * s_t) / sqrt(p_m_one)\n",
    "                    else\n",
    "                        s_t = (s_t - sz2l[l] * s_t) / sqrt(1 - p_m_mone - p_m_one)\n",
    "                    end\n",
    "                end\n",
    "            end\n",
    "        end\n",
    "    end\n",
    "\n",
    "    # Save result to disk\n",
    "    filename = \"L$(L),T$(T),dt$(dt),p$(p),dirZ,s$(shot).npy\"\n",
    "    npzwrite(filename, S_list)\n",
    "\n",
    "    return S_list\n",
    "end"
   ]
  },
  {
   "cell_type": "code",
   "execution_count": null,
   "id": "e693f479",
   "metadata": {},
   "outputs": [],
   "source": [
    "include(\"s3.jl\")"
   ]
  },
  {
   "cell_type": "code",
   "execution_count": null,
   "id": "931a67e1",
   "metadata": {},
   "outputs": [],
   "source": [
    "Entropy_t_z(8, 100.0, 1.0, 0.3, 398)"
   ]
  },
  {
   "cell_type": "markdown",
   "id": "ac2c198c",
   "metadata": {},
   "source": [
    "for L in [8]\n",
    "    for T in [100.0]\n",
    "        for dt in [1.0]\n",
    "            for p in [0.1, 0.2, 0.3, 0.4, 0.5, 0.6, 0.7, 0.8, 0.9, 1.0]\n",
    "                for shot in 1:500\n",
    "                    Entropy_t_z(L, T, dt, p, shot)\n",
    "                end\n",
    "            end\n",
    "        end\n",
    "    end\n",
    "end\n",
    "\n",
    "This took 320 minutes to run"
   ]
  },
  {
   "cell_type": "markdown",
   "id": "be50f86a",
   "metadata": {},
   "source": [
    "### Ancilla purification code"
   ]
  },
  {
   "cell_type": "code",
   "execution_count": null,
   "id": "aec4bd06",
   "metadata": {},
   "outputs": [],
   "source": [
    "using SparseArrays\n",
    "using LinearAlgebra\n",
    "using Arpack\n",
    "using Statistics\n",
    "using Random\n",
    "using DelimitedFiles\n",
    "using NPZ\n",
    "using ExpmV\n",
    "\n",
    "function von_neumann_entropy(ψ::Vector{<:Complex}, cut::Int, L::Int)\n",
    "    dimA = 3^cut\n",
    "    dimB = 3^(L - cut)\n",
    "    ψ_matrix = reshape(ψ, (dimA, dimB))\n",
    "    svals = svdvals(ψ_matrix)\n",
    "    S = 0.0\n",
    "    for s in svals\n",
    "        if s > 1e-15\n",
    "            p = abs2(s)\n",
    "            S -= p * log(p)\n",
    "        end\n",
    "    end\n",
    "    return S\n",
    "end\n",
    "\n",
    "function random_product_state(L::Int)\n",
    "    product_state = nothing\n",
    "\n",
    "    for i in 1:L\n",
    "        θ1 = rand() * π\n",
    "        θ2 = rand() * π\n",
    "        ϕ1 = rand() * 2π\n",
    "        ϕ2 = rand() * 2π\n",
    "\n",
    "        c1 = cos(θ1 / 2)\n",
    "        c2 = exp(im * ϕ1) * sin(θ1 / 2) * sin(θ2 / 2)\n",
    "        c3 = exp(im * ϕ2) * sin(θ1 / 2) * cos(θ2 / 2)\n",
    "\n",
    "        temp_state = [c1, c2, c3]\n",
    "\n",
    "        if i == 1\n",
    "            product_state = temp_state\n",
    "        else\n",
    "            product_state = kron(product_state, temp_state)\n",
    "        end\n",
    "    end\n",
    "\n",
    "    # Normalize the state\n",
    "    product_state /= norm(product_state)\n",
    "\n",
    "    return product_state\n",
    "end\n",
    "\n",
    "function time_evolution(ψ::Vector{ComplexF64}, dt::Float64, L)\n",
    "    ψ /= norm(ψ)\n",
    "    Ha, Hb, Hc, _, _ = Hamiltonian(L)\n",
    "    a = 2π * rand()\n",
    "    b = 2π * rand()\n",
    "    c = 2π * rand()\n",
    "    # Apply exp(-im * H * dt) directly to ψ\n",
    "    H = a * Ha + b * Hb + c * Hc\n",
    "    ψ_new = expmv(-im * dt, H, ψ)\n",
    "\n",
    "    # Normalize the state\n",
    "    ψ_new /= norm(ψ_new)\n",
    "    \n",
    "    return ψ_new\n",
    "end\n",
    "\n",
    "function I3(psi::Vector{ComplexF64})\n",
    "    log3(x) = log(x) / log(3)\n",
    "\n",
    "    L = Int(round(log3(length(psi))))\n",
    "    qL = L ÷ 4\n",
    "\n",
    "    SA   = von_neumann_entropy(psi, qL, L)\n",
    "    SB   = von_neumann_entropy(psi, 2qL, L)\n",
    "    SC   = von_neumann_entropy(psi, 3qL, L)\n",
    "    SABC = von_neumann_entropy(psi, L, L)\n",
    "    SAB  = von_neumann_entropy(psi, 2qL, L)\n",
    "    SAC  = von_neumann_entropy(psi, 3qL, L)\n",
    "    SBC  = von_neumann_entropy(psi, 3qL, L)\n",
    "    \n",
    "    return SA + SB + SC + SABC - SAB - SAC - SBC\n",
    "end\n",
    "\n",
    "### This function is for Z measurements only\n",
    "\n",
    "function Entropy_t_z(L::Int, T::Float64, dt::Float64, p::Float64, shot::Int)\n",
    "    Random.seed!(shot)  # Set random seed\n",
    "    s_t = random_product_state(L)\n",
    "    S_list = Float64[]\n",
    "\n",
    "    # Define Hamiltonian and local observables\n",
    "    _, _, _, sz2l, szl = Hamiltonian(L)\n",
    "    sm_list = szl\n",
    "    steps = Int(floor(T / dt))\n",
    "\n",
    "    for _ in 1:steps\n",
    "        #push!(S_list, von_neumann_entropy(s_t, L÷2, L))\n",
    "        push!(S_list, I3(s_t))\n",
    "\n",
    "        # Time evolution\n",
    "        s_t = time_evolution(s_t, dt, L)\n",
    "        s_t /= norm(s_t)\n",
    "\n",
    "        # Measurements\n",
    "        if p != 0\n",
    "            for l in 1:L\n",
    "                x = rand()\n",
    "                if x < p\n",
    "                    m_op = sm_list[l]\n",
    "                    p_m_mone = 0.5 * real(s_t' * (sz2l[l]-sm_list[l]) * s_t)\n",
    "                    p_m_one = 0.5 * real(s_t' * (sz2l[l] + sm_list[l]) * s_t)\n",
    "                    x1 = rand()\n",
    "                    if x1 < p_m_mone\n",
    "                        s_t = 0.5 * ((sz2l[l]-sm_list[l]) * s_t) / sqrt(p_m_mone)\n",
    "                    elseif p_m_mone < x1 < p_m_one + p_m_mone\n",
    "                        s_t = 0.5 * ((sz2l[l]+sm_list[l]) * s_t) / sqrt(p_m_one)\n",
    "                    else\n",
    "                        s_t = (s_t - sz2l[l] * s_t) / sqrt(1 - p_m_mone - p_m_one)\n",
    "                    end\n",
    "                end\n",
    "            end\n",
    "        end\n",
    "    end\n",
    "\n",
    "    # Save result to disk\n",
    "    filename = \"L$(L),T$(T),dt$(dt),p$(p),dirZ,s$(shot).npy\"\n",
    "    npzwrite(filename, S_list)\n",
    "\n",
    "    return S_list\n",
    "end\n",
    "\n",
    "function Hamiltonian(L)\n",
    "    # Define Pauli matrices as complex sparse matrices\n",
    "    id = sparse(ComplexF64[1 0 0; 0 1 0; 0 0 1])\n",
    "    sx = 1/sqrt(2) * sparse(ComplexF64[0 1 0; 1 0 1; 0 1 0])\n",
    "    sy = 1/sqrt(2) * sparse(ComplexF64[0 -im 0; im 0 -im; 0 im 0])\n",
    "    sz = sparse(ComplexF64[1 0 0; 0 0 0; 0 0 -1])\n",
    "\n",
    "    sp = 1/sqrt(2) * (sx + im * sy)\n",
    "    sm = 1/sqrt(2) * (sx - im * sy)\n",
    "\n",
    "    # Preallocate vectors of operators with correct type\n",
    "    #sx_list = Vector{SparseMatrixCSC{ComplexF64, Int}}(undef, L)\n",
    "    #sy_list = Vector{SparseMatrixCSC{ComplexF64, Int}}(undef, L)\n",
    "    szl = Vector{SparseMatrixCSC{ComplexF64, Int}}(undef, L) # List of sz operators\n",
    "    sz2l = Vector{SparseMatrixCSC{ComplexF64, Int}}(undef, L) # List of sz² operators\n",
    "    spl = Vector{SparseMatrixCSC{ComplexF64, Int}}(undef, L) # List of sp operators\n",
    "    sml = Vector{SparseMatrixCSC{ComplexF64, Int}}(undef, L) # List of sm operators\n",
    "\n",
    "    for i_site in 1:L\n",
    "        p_ops = fill(id, L)\n",
    "        m_ops = fill(id, L)\n",
    "        z_ops = fill(id, L)\n",
    "        z2_ops = fill(id, L)\n",
    "        p_ops[i_site] = sp\n",
    "        m_ops[i_site] = sm\n",
    "        z_ops[i_site] = sz\n",
    "        z2_ops[i_site] = sz^2\n",
    "\n",
    "        # Build the full operator by tensoring\n",
    "        P = p_ops[1]\n",
    "        M = m_ops[1]\n",
    "        Z = z_ops[1]\n",
    "        Z2 = z2_ops[1]\n",
    "        for j in 2:L\n",
    "            P = kron(P, p_ops[j])\n",
    "            M = kron(M, m_ops[j])\n",
    "            Z = kron(Z, z_ops[j])\n",
    "            Z2 = kron(Z2, z2_ops[j])\n",
    "        end\n",
    "\n",
    "        spl[i_site] = P\n",
    "        sml[i_site] = M\n",
    "        szl[i_site] = Z\n",
    "        sz2l[i_site] = Z2\n",
    "    end\n",
    "\n",
    "    dim = 3^L\n",
    "    Ha = spzeros(ComplexF64, dim, dim)\n",
    "\n",
    "    for i in 1:L\n",
    "        ip = (i % L) + 1  # Periodic boundary\n",
    "        Ha += ((spl[i]^2 * sml[ip]^2 + sml[i]^2 * spl[ip]^2) + adjoint((spl[i]^2 * sml[ip]^2 + sml[i]^2 * spl[ip]^2)))\n",
    "    end\n",
    "\n",
    "    Hb = spzeros(ComplexF64, dim, dim)\n",
    "\n",
    "    for i in 1:L\n",
    "        ip = (i % L) + 1  # Periodic boundary\n",
    "        Hb += (spl[i] * szl[i] * sml[ip] * szl[ip] + sml[i] * szl[i] * spl[ip] * szl[ip] + adjoint(spl[i] * szl[i] * sml[ip] * szl[ip]) + adjoint(sml[i] * szl[i] * spl[ip] * szl[ip]))\n",
    "    end\n",
    "\n",
    "    Hc = spzeros(ComplexF64, dim, dim)\n",
    "\n",
    "    for i in 1:L\n",
    "        ip = (i % L) + 1  # Periodic boundary\n",
    "        Hc += (spl[i]^2 * spl[ip] * szl[ip] + sml[i]^2 * sml[ip] * szl[ip] + adjoint(spl[i]^2 * spl[ip] * szl[ip]) + adjoint(sml[i]^2 * sml[ip] * szl[ip]))\n",
    "    end\n",
    "\n",
    "    return Ha, Hb, Hc, sz2l, szl \n",
    "end"
   ]
  },
  {
   "cell_type": "code",
   "execution_count": null,
   "id": "70dd9c9d",
   "metadata": {},
   "outputs": [],
   "source": [
    "function Hamiltonian(L)\n",
    "    # Define Pauli matrices as complex sparse matrices\n",
    "    id = sparse(ComplexF64[1 0 0; 0 1 0; 0 0 1])\n",
    "    sx = 1/sqrt(2) * sparse(ComplexF64[0 1 0; 1 0 1; 0 1 0])\n",
    "    sy = 1/sqrt(2) * sparse(ComplexF64[0 -im 0; im 0 -im; 0 im 0])\n",
    "    sz = sparse(ComplexF64[1 0 0; 0 0 0; 0 0 -1])\n",
    "\n",
    "    sp = 1/sqrt(2) * (sx + im * sy)\n",
    "    sm = 1/sqrt(2) * (sx - im * sy)\n",
    "\n",
    "    # Preallocate vectors of operators with correct type\n",
    "    #sx_list = Vector{SparseMatrixCSC{ComplexF64, Int}}(undef, L)\n",
    "    #sy_list = Vector{SparseMatrixCSC{ComplexF64, Int}}(undef, L)\n",
    "    szl = Vector{SparseMatrixCSC{ComplexF64, Int}}(undef, L) # List of sz operators\n",
    "    sz2l = Vector{SparseMatrixCSC{ComplexF64, Int}}(undef, L) # List of sz² operators\n",
    "    spl = Vector{SparseMatrixCSC{ComplexF64, Int}}(undef, L) # List of sp operators\n",
    "    sml = Vector{SparseMatrixCSC{ComplexF64, Int}}(undef, L) # List of sm operators\n",
    "\n",
    "    for i_site in 1:L\n",
    "        p_ops = fill(id, L)\n",
    "        m_ops = fill(id, L)\n",
    "        z_ops = fill(id, L)\n",
    "        z2_ops = fill(id, L)\n",
    "        p_ops[i_site] = sp\n",
    "        m_ops[i_site] = sm\n",
    "        z_ops[i_site] = sz\n",
    "        z2_ops[i_site] = sz^2\n",
    "\n",
    "        # Build the full operator by tensoring\n",
    "        P = p_ops[1]\n",
    "        M = m_ops[1]\n",
    "        Z = z_ops[1]\n",
    "        Z2 = z2_ops[1]\n",
    "        for j in 2:L\n",
    "            P = kron(P, p_ops[j])\n",
    "            M = kron(M, m_ops[j])\n",
    "            Z = kron(Z, z_ops[j])\n",
    "            Z2 = kron(Z2, z2_ops[j])\n",
    "        end\n",
    "\n",
    "        spl[i_site] = P\n",
    "        sml[i_site] = M\n",
    "        szl[i_site] = Z\n",
    "        sz2l[i_site] = Z2\n",
    "    end\n",
    "\n",
    "    dim = 3^L\n",
    "    Ha = spzeros(ComplexF64, dim, dim)\n",
    "\n",
    "    for i in 1:L\n",
    "        ip = (i % L) + 1  # Periodic boundary\n",
    "        Ha += ((spl[i]^2 * sml[ip]^2 + sml[i]^2 * spl[ip]^2) + adjoint((spl[i]^2 * sml[ip]^2 + sml[i]^2 * spl[ip]^2)))\n",
    "    end\n",
    "\n",
    "    Hb = spzeros(ComplexF64, dim, dim)\n",
    "\n",
    "    for i in 1:L\n",
    "        ip = (i % L) + 1  # Periodic boundary\n",
    "        Hb += (spl[i] * szl[i] * sml[ip] * szl[ip] + sml[i] * szl[i] * spl[ip] * szl[ip] + adjoint(spl[i] * szl[i] * sml[ip] * szl[ip]) + adjoint(sml[i] * szl[i] * spl[ip] * szl[ip]))\n",
    "    end\n",
    "\n",
    "    Hc = spzeros(ComplexF64, dim, dim)\n",
    "\n",
    "    for i in 1:L\n",
    "        ip = (i % L) + 1  # Periodic boundary\n",
    "        Hc += (spl[i]^2 * spl[ip] * szl[ip] + sml[i]^2 * sml[ip] * szl[ip] + adjoint(spl[i]^2 * spl[ip] * szl[ip]) + adjoint(sml[i]^2 * sml[ip] * szl[ip]))\n",
    "    end\n",
    "\n",
    "    return Ha, Hb, Hc, sz2l, szl \n",
    "end"
   ]
  },
  {
   "cell_type": "code",
   "execution_count": null,
   "id": "2d0e1ab5",
   "metadata": {},
   "outputs": [],
   "source": [
    "function entropy_vn(ψ::Vector{<:Complex}, L::Int, subsystem::AbstractArray{Int})\n",
    "    cut = length(subsystem)\n",
    "    dimA = 3^cut\n",
    "    dimB = 3^(L - cut)\n",
    "    ψ_matrix = reshape(ψ, (dimA, dimB))\n",
    "    svals = svdvals(ψ_matrix)\n",
    "    S = 0.0\n",
    "    for s in svals\n",
    "        if s > 1e-15\n",
    "            p = abs2(s)\n",
    "            S -= p * log(p)\n",
    "        end\n",
    "    end\n",
    "    return S\n",
    "end"
   ]
  },
  {
   "cell_type": "markdown",
   "id": "34475091",
   "metadata": {},
   "source": [
    "Code run"
   ]
  },
  {
   "cell_type": "code",
   "execution_count": null,
   "id": "08836592",
   "metadata": {},
   "outputs": [],
   "source": [
    "include(\"s3.jl\")"
   ]
  },
  {
   "cell_type": "code",
   "execution_count": null,
   "id": "0b6c62c8",
   "metadata": {},
   "outputs": [],
   "source": [
    "@time Entropy_t_z(8, 100.0, 1.0, 0.4, 3980)"
   ]
  },
  {
   "cell_type": "markdown",
   "id": "35eb707e",
   "metadata": {},
   "source": [
    "### ITensors benchmarking"
   ]
  },
  {
   "cell_type": "code",
   "execution_count": null,
   "id": "6570f80b",
   "metadata": {},
   "outputs": [],
   "source": [
    "function Hamiltonian(L)\n",
    "    # Define Pauli matrices as complex sparse matrices\n",
    "    id = sparse(ComplexF64[1 0 0; 0 1 0; 0 0 1])\n",
    "    sx = 1/sqrt(2) * sparse(ComplexF64[0 1 0; 1 0 1; 0 1 0])\n",
    "    sy = 1/sqrt(2) * sparse(ComplexF64[0 -im 0; im 0 -im; 0 im 0])\n",
    "    sz = sparse(ComplexF64[1 0 0; 0 0 0; 0 0 -1])\n",
    "\n",
    "    sp = 1/sqrt(2) * (sx + im * sy)\n",
    "    sm = 1/sqrt(2) * (sx - im * sy)\n",
    "\n",
    "    # Preallocate vectors of operators with correct type\n",
    "    #sx_list = Vector{SparseMatrixCSC{ComplexF64, Int}}(undef, L)\n",
    "    #sy_list = Vector{SparseMatrixCSC{ComplexF64, Int}}(undef, L)\n",
    "    szl = Vector{SparseMatrixCSC{ComplexF64, Int}}(undef, L) # List of sz operators\n",
    "    sz2l = Vector{SparseMatrixCSC{ComplexF64, Int}}(undef, L) # List of sz² operators\n",
    "    spl = Vector{SparseMatrixCSC{ComplexF64, Int}}(undef, L) # List of sp operators\n",
    "    sml = Vector{SparseMatrixCSC{ComplexF64, Int}}(undef, L) # List of sm operators\n",
    "\n",
    "    for i_site in 1:L\n",
    "        p_ops = fill(id, L)\n",
    "        m_ops = fill(id, L)\n",
    "        z_ops = fill(id, L)\n",
    "        z2_ops = fill(id, L)\n",
    "        p_ops[i_site] = sp\n",
    "        m_ops[i_site] = sm\n",
    "        z_ops[i_site] = sz\n",
    "        z2_ops[i_site] = sz^2\n",
    "\n",
    "        # Build the full operator by tensoring\n",
    "        P = p_ops[1]\n",
    "        M = m_ops[1]\n",
    "        Z = z_ops[1]\n",
    "        Z2 = z2_ops[1]\n",
    "        for j in 2:L\n",
    "            P = kron(P, p_ops[j])\n",
    "            M = kron(M, m_ops[j])\n",
    "            Z = kron(Z, z_ops[j])\n",
    "            Z2 = kron(Z2, z2_ops[j])\n",
    "        end\n",
    "\n",
    "        spl[i_site] = P\n",
    "        sml[i_site] = M\n",
    "        szl[i_site] = Z\n",
    "        sz2l[i_site] = Z2\n",
    "    end\n",
    "\n",
    "    dim = 3^L\n",
    "    Ha = spzeros(ComplexF64, dim, dim)\n",
    "\n",
    "    for i in 1:L\n",
    "        ip = (i % L) + 1  # Periodic boundary\n",
    "        Ha += ((spl[i]^2 * sml[ip]^2 + sml[i]^2 * spl[ip]^2) + adjoint((spl[i]^2 * sml[ip]^2 + sml[i]^2 * spl[ip]^2)))\n",
    "    end\n",
    "\n",
    "    Hb = spzeros(ComplexF64, dim, dim)\n",
    "\n",
    "    for i in 1:L\n",
    "        ip = (i % L) + 1  # Periodic boundary\n",
    "        Hb += (spl[i] * szl[i] * sml[ip] * szl[ip] + sml[i] * szl[i] * spl[ip] * szl[ip] + adjoint(spl[i] * szl[i] * sml[ip] * szl[ip]) + adjoint(sml[i] * szl[i] * spl[ip] * szl[ip]))\n",
    "    end\n",
    "\n",
    "    Hc = spzeros(ComplexF64, dim, dim)\n",
    "\n",
    "    for i in 1:L\n",
    "        ip = (i % L) + 1  # Periodic boundary\n",
    "        Hc += (spl[i]^2 * spl[ip] * szl[ip] + sml[i]^2 * sml[ip] * szl[ip] + adjoint(spl[i]^2 * spl[ip] * szl[ip]) + adjoint(sml[i]^2 * sml[ip] * szl[ip]))\n",
    "    end\n",
    "\n",
    "    return Ha\n",
    "end"
   ]
  },
  {
   "cell_type": "code",
   "execution_count": null,
   "id": "ef9bbb55",
   "metadata": {},
   "outputs": [],
   "source": [
    "Ha = Hamiltonian(8)"
   ]
  },
  {
   "cell_type": "code",
   "execution_count": null,
   "id": "1614fad0",
   "metadata": {},
   "outputs": [],
   "source": [
    "## Check if Ha is Hermitian\n",
    "ishermitian(Ha)"
   ]
  },
  {
   "cell_type": "code",
   "execution_count": null,
   "id": "f10f2d22",
   "metadata": {},
   "outputs": [],
   "source": [
    "using LinearAlgebra\n",
    "using SparseArrays\n",
    "using Arpack: eigs"
   ]
  },
  {
   "cell_type": "code",
   "execution_count": null,
   "id": "8d441973",
   "metadata": {},
   "outputs": [],
   "source": [
    "vals, vecs = eigs(Ha; nev=1, which=:SR)\n",
    "lowest_eig = vals[1]\n",
    "\n",
    "println(\"Lowest eigenvalue: \", lowest_eig)"
   ]
  },
  {
   "cell_type": "code",
   "execution_count": null,
   "id": "8154140c",
   "metadata": {},
   "outputs": [],
   "source": [
    "@show op(\"S+\", s)"
   ]
  },
  {
   "cell_type": "code",
   "execution_count": null,
   "id": "93893726",
   "metadata": {},
   "outputs": [],
   "source": [
    "id = [1 0 0; 0 1 0; 0 0 1];\n",
    "sx = 1/sqrt(2) * [0 1 0; 1 0 1; 0 1 0];\n",
    "sy = 1/sqrt(2) * [0 -im 0; im 0 -im; 0 im 0];"
   ]
  },
  {
   "cell_type": "code",
   "execution_count": null,
   "id": "1ff50dce",
   "metadata": {},
   "outputs": [],
   "source": [
    "sp = 1/sqrt(2) * (sx + im * sy)"
   ]
  },
  {
   "cell_type": "code",
   "execution_count": null,
   "id": "6a75cd92",
   "metadata": {},
   "outputs": [],
   "source": [
    "sm = 1/sqrt(2) * (sx - im * sy)"
   ]
  },
  {
   "cell_type": "code",
   "execution_count": null,
   "id": "c4f8aa23",
   "metadata": {},
   "outputs": [],
   "source": [
    "sp' == sm"
   ]
  },
  {
   "cell_type": "code",
   "execution_count": null,
   "id": "7c531b49",
   "metadata": {},
   "outputs": [],
   "source": [
    "using ITensorMPS\n",
    "\n",
    "N = 8  #number of sites\n",
    "sites = siteinds(\"S=1\",N; conserve_qns=true) #spin 1 in each sites\n",
    "\n",
    "  os = OpSum()\n",
    "  for j=1:N\n",
    "    os += 1.0 ,\"S+ * S+\",j,\"S- * S-\",mod(j,N)+1   #I think this is the Ham in Sriram's paper\n",
    "    os += 1.0 ,\"S- * S-\",j,\"S+ * S+\",mod(j,N)+1\n",
    "    os += 1.0 ,\"S+ * S+\",mod(j,N)+1,\"S- * S-\",j   # H.c. terms\n",
    "    os += 1.0 ,\"S- * S-\",mod(j,N)+1,\"S+ * S+\",j\n",
    "    #os += 1.0 ,\"S+ * S+\",j+1,\"S- * S-\",j\n",
    "    #os += 1.0 , \"S- * S-\", j+1, \"S+ * S+\",j\n",
    "  end\n",
    "  H = MPO(os,sites)\n",
    "\n",
    "  nsweeps = 15 # number of sweeps is 15\n",
    "  maxdim = [10,20,100,100,200,200,400,400,500] # gradually increase states kept\n",
    "  cutoff = [1E-10] # desired truncation error\n",
    "  \n",
    "  states = [isodd(n) ? \"Up\" : \"Dn\" for n in 1:N] #Neel state-- we know GS is in S^z=0 sector\n",
    "  psi0 = MPS(sites, states) #constructing the state as MPS which is taken as variational ansatz in next step\n",
    "\n",
    "  @time energy,psigs = dmrg(H,psi0;nsweeps,maxdim,cutoff);"
   ]
  },
  {
   "cell_type": "code",
   "execution_count": null,
   "id": "1b2024ee",
   "metadata": {},
   "outputs": [],
   "source": [
    "using ITensorMPS\n",
    "\n",
    "N = 8 #number of sites\n",
    "sites = siteinds(\"S=1\",N; conserve_qns=true) #spin 1 in each sites\n",
    "\n",
    "  os = OpSum()\n",
    "  for j=1:N\n",
    "    os += 1.0 ,\"S+ * S+\",j,\"S- * S-\",mod(j,N)+1   #I think this is the Ham in Sriram's paper\n",
    "    os += 1.0 ,\"S- * S-\",j,\"S+ * S+\",mod(j,N)+1\n",
    "    os += 1.0 ,\"S+ * S+\",j+1,\"S- * S-\",j\n",
    "    os += 1.0 , \"S- * S-\", j+1, \"S+ * S+\",j\n",
    "  end\n",
    "  H = MPO(os,sites)\n",
    "\n",
    "  nsweeps = 15 # number of sweeps is 15\n",
    "  maxdim = [10,20,100,100,200,200,400,400,500] # gradually increase states kept\n",
    "  cutoff = [1E-10] # desired truncation error\n",
    "  \n",
    "  states = [isodd(n) ? \"Up\" : \"Dn\" for n in 1:N] #Neel state-- we know GS is in S^z=0 sector\n",
    "  psi0 = MPS(sites, states) #constructing the state as MPS which is taken as variational ansatz in next step\n",
    "\n",
    "  energy,psigs = dmrg(H,psi0;nsweeps,maxdim,cutoff);"
   ]
  },
  {
   "cell_type": "code",
   "execution_count": null,
   "id": "53554065",
   "metadata": {},
   "outputs": [],
   "source": [
    "using ITensors, ITensorMPS, Random, HDF5, StatsBase\n",
    "#using Plots\n",
    "\n",
    "N = 8\n",
    "sites = siteinds(\"S=1\", N; conserve_qns=true)\n",
    "\n",
    "os = OpSum()\n",
    "for j = 1:N ####### change to N-1 if you're doing OBC\n",
    "  os += 1.0, \"S+ * S+\", j, \"S- * S-\", mod(j, N) + 1\n",
    "  os += 1.0, \"S- * S-\", j, \"S+ * S+\", mod(j, N) + 1\n",
    "  os += 1.0 ,\"S+ * S+\",mod(j,N)+1,\"S- * S-\",j   # H.c. terms\n",
    "  os += 1.0 ,\"S- * S-\",mod(j,N)+1,\"S+ * S+\",j\n",
    "end\n",
    "H = MPO(os, sites)\n",
    "\n",
    "# ----- initial product state \n",
    "state = [isodd(j) ? \"Up\" : \"Dn\" for j in 1:N]       # Néel: isodd(j) ? \"Up\" : \"Dn\"\n",
    "psi = productMPS(sites, state)\n",
    "\n",
    "#func to compute EE at any site\n",
    "function entropy_von_neumann(psi, b)\n",
    "  s = siteinds(psi)\n",
    "  orthogonalize!(psi, b)\n",
    "  if b == 1\n",
    "    U, S, V = svd(psi[b], (siteind(psi, b),))\n",
    "  else\n",
    "    U, S, V = svd(psi[b], (linkind(psi, b - 1), siteind(psi, b)))\n",
    "  end\n",
    "  SvN = 0.0\n",
    "  for n in 1:dim(S, 1)\n",
    "    p = S[n, n]^2\n",
    "    if p > 0\n",
    "      SvN -= p * log(p)\n",
    "    end\n",
    "  end\n",
    "  return SvN\n",
    "end\n",
    "\n",
    "# ----- TDVP evolution + half-chain entropy at every step -----\n",
    "tstep = 0.02\n",
    "tend = 5.0\n",
    "nsw = round(Int, tend / tstep)\n",
    "tdvp_maxdim = 500\n",
    "\n",
    "Time = Float64[]\n",
    "SvN_half = Float64[]\n",
    "\n",
    "push!(Time, 0.0)\n",
    "push!(SvN_half, entropy_von_neumann(psi, N ÷ 2))\n",
    "\n",
    "for n in 1:nsw\n",
    "  ncenter = 1\n",
    "  if maxlinkdim(psi) < tdvp_maxdim\n",
    "    ncenter = 2\n",
    "  end\n",
    "\n",
    "  psi = tdvp(H, -im * tstep, psi;\n",
    "             time_step = -im * tstep,\n",
    "             reverse_step = true,\n",
    "             normalize = false,\n",
    "             cutoff = 0.0,\n",
    "             maxdim = tdvp_maxdim,\n",
    "             nsite = ncenter,\n",
    "             updater_backend = \"exponentiate\",\n",
    "             outputlevel = 1)\n",
    "\n",
    "  tnow = n * tstep\n",
    "  push!(Time, tnow)\n",
    "  push!(SvN_half, entropy_von_neumann(psi, N ÷ 2))\n",
    "\n",
    "  GC.gc(true)\n",
    "end\n",
    "\n",
    "# ----- save results -----\n",
    "# fname = \"SvN_half_vs_time_S1_N$(N)_dt$(tstep)_T$(tend).h5\"\n",
    "# h5write(fname, \"time\", Time)\n",
    "# h5write(fname, \"SvN_half\", SvN_half)\n",
    "# println(\"Saved: \", fname)\n",
    "\n",
    "\n",
    "#plot(Time,SvN_half)\n",
    "#savefig(\"SvN_half_vs_time_S1_N$(N)_dt$(tstep)_T$(tend)_tdvp.png\")"
   ]
  },
  {
   "cell_type": "code",
   "execution_count": 1,
   "id": "b3135d08",
   "metadata": {},
   "outputs": [
    {
     "data": {
      "text/plain": [
       "2"
      ]
     },
     "metadata": {},
     "output_type": "display_data"
    }
   ],
   "source": [
    "1+1"
   ]
  },
  {
   "cell_type": "markdown",
   "id": "71f8478a",
   "metadata": {},
   "source": [
    "### $(S^{z})^2$ measurements"
   ]
  },
  {
   "cell_type": "markdown",
   "id": "002bd480",
   "metadata": {},
   "source": [
    "Using the Lagrange interpolation method, we can construct the following projectors for the operator $(S^{z})^2$:\n",
    "\\begin{equation}\n",
    "    \\mathbf{P}_{0} = (S^{z})^2\n",
    "\\end{equation}\n",
    "\n",
    "\\begin{equation}\n",
    "    \\mathbf{P}_{1 / -1} = \\mathbf{I}-(S^{z})^2\n",
    "\\end{equation}"
   ]
  },
  {
   "cell_type": "code",
   "execution_count": 3,
   "id": "c607a615",
   "metadata": {},
   "outputs": [
    {
     "data": {
      "text/plain": [
       "neel_spin1_complex (generic function with 1 method)"
      ]
     },
     "metadata": {},
     "output_type": "display_data"
    }
   ],
   "source": [
    "include(\"s3.jl\")"
   ]
  },
  {
   "cell_type": "code",
   "execution_count": null,
   "id": "f81f105c",
   "metadata": {},
   "outputs": [
    {
     "data": {
      "text/plain": [
       "Entropy_t_z2 (generic function with 1 method)"
      ]
     },
     "metadata": {},
     "output_type": "display_data"
    }
   ],
   "source": [
    "function Entropy_t_z2(L::Int, T::Float64, dt::Float64, p::Float64, shot::Int)\n",
    "    Random.seed!(shot)  # Set random seed\n",
    "    s_t = random_product_state(L)\n",
    "    #s_t = neel_spin1_complex(L)  # Use the Néel state as the initial state \n",
    "    S_list = Float64[]\n",
    "\n",
    "    # Define Hamiltonian and local observables\n",
    "    _, _, _, sz2l, szl = Hamiltonian(L)\n",
    "    sm_list = szl\n",
    "    steps = Int(floor(T / dt))\n",
    "\n",
    "    for _ in 1:steps\n",
    "        #push!(S_list, entropy_vn(s_t, L, 1:L÷2)) ## Half-chain entropy\n",
    "        push!(S_list, tmi(s_t))\n",
    "\n",
    "        # Time evolution\n",
    "        s_t = time_evolution(s_t, dt, L, shot)\n",
    "        #s_t /= norm(s_t)\n",
    "\n",
    "        # Measurements\n",
    "        if p != 0\n",
    "            for l in 1:L\n",
    "                x = rand()\n",
    "                if x < p\n",
    "                    p_m_zero = real(s_t' * (sz2l[l]) * s_t)\n",
    "                    x1 = rand()\n",
    "                    if x1 < p_m_zero\n",
    "                        s_t = (sz2l[l] * s_t) / sqrt(p_m_zero)\n",
    "                    else\n",
    "                        s_t = (s_t - sz2l[l] * s_t) / sqrt(1 - p_m_zero)\n",
    "                    end\n",
    "                end\n",
    "            end\n",
    "        end\n",
    "    end\n",
    "\n",
    "    \"\"\"\n",
    "    # Save result to disk\n",
    "    filename = \"L$(L),T$(T),dt$(dt),p$(p),dirZ2,s$(shot).npy\"\n",
    "    npzwrite(filename, S_list)\n",
    "    \n",
    "\n",
    "    \"\"\"\n",
    "    folder = \"/Users/uditvarma/Documents/s3_data/data_i3\"\n",
    "    filename = joinpath(folder, \"L$(L),T$(T),dt$(dt),p$(p),dirZ2,s$(shot)_i3.npy\")\n",
    "    npzwrite(filename, S_list)\n",
    "    #\"\"\"\n",
    "    \n",
    "    return S_list\n",
    "end"
   ]
  },
  {
   "cell_type": "code",
   "execution_count": 10,
   "id": "054317b7",
   "metadata": {},
   "outputs": [],
   "source": [
    "for L in [5, 6]\n",
    "    T = 10.0 * L\n",
    "    for dt in [1.0]\n",
    "        for p in [0.0, 0.1, 0.2, 0.3, 0.4, 0.5, 0.6, 0.7, 0.8, 0.9, 1.0]\n",
    "            for shot in 1:50\n",
    "                Entropy_t_z2(L, T, dt, p, shot)\n",
    "            end\n",
    "        end\n",
    "    end\n",
    "end"
   ]
  },
  {
   "cell_type": "code",
   "execution_count": 126,
   "id": "b81c11b2",
   "metadata": {},
   "outputs": [
    {
     "data": {
      "text/plain": [
       "total_Sz2 (generic function with 1 method)"
      ]
     },
     "metadata": {},
     "output_type": "display_data"
    }
   ],
   "source": [
    "function total_Sz2(L)\n",
    "    _, _, _, Hd, sz2l, _ = Hamiltonian(L)  # get sz² list from your Hamiltonian builder\n",
    "    dim = 3^L\n",
    "    Sz2_tot = spzeros(ComplexF64, dim, dim)\n",
    "\n",
    "    for i in 1:L\n",
    "        Sz2_tot += sz2l[i]\n",
    "    end\n",
    "\n",
    "    return Sz2_tot\n",
    "end"
   ]
  },
  {
   "cell_type": "code",
   "execution_count": 24,
   "id": "0d096b0a",
   "metadata": {},
   "outputs": [
    {
     "data": {
      "text/plain": [
       "total_Sz (generic function with 1 method)"
      ]
     },
     "metadata": {},
     "output_type": "display_data"
    }
   ],
   "source": [
    "include(\"s3_anc.jl\")\n",
    "\n",
    "function total_Sz(L)\n",
    "    _, _, _, _, _, _, szl = Hamiltonian_an(L)  # get sz² list from your Hamiltonian builder\n",
    "    dim = 3^L\n",
    "    Sz_tot = spzeros(ComplexF64, dim, dim)\n",
    "\n",
    "    for i in 1:L\n",
    "        Sz_tot += szl[i]\n",
    "    end\n",
    "\n",
    "    return Sz_tot\n",
    "end"
   ]
  },
  {
   "cell_type": "code",
   "execution_count": 134,
   "id": "7e05c981",
   "metadata": {},
   "outputs": [
    {
     "data": {
      "text/plain": [
       "2187-element Vector{ComplexF64}:\n",
       " 1.0 + 0.0im\n",
       " 0.0 + 0.0im\n",
       " 0.0 + 0.0im\n",
       " 0.0 + 0.0im\n",
       " 0.0 + 0.0im\n",
       " 0.0 + 0.0im\n",
       " 0.0 + 0.0im\n",
       " 0.0 + 0.0im\n",
       " 0.0 + 0.0im\n",
       " 0.0 + 0.0im\n",
       "     ⋮\n",
       " 0.0 + 0.0im\n",
       " 0.0 + 0.0im\n",
       " 0.0 + 0.0im\n",
       " 0.0 + 0.0im\n",
       " 0.0 + 0.0im\n",
       " 0.0 + 0.0im\n",
       " 0.0 + 0.0im\n",
       " 0.0 + 0.0im\n",
       " 0.0 + 0.0im"
      ]
     },
     "metadata": {},
     "output_type": "display_data"
    }
   ],
   "source": [
    "using LinearAlgebra\n",
    "\n",
    "\"\"\"\n",
    "    zero_state(N::Int)\n",
    "\n",
    "Construct the quantum state |000...0⟩ of N spin-1 sites,\n",
    "where each site is in the m=0 eigenstate of Sz.\n",
    "Returns a vector of length 3^N.\n",
    "\"\"\"\n",
    "function zero_state(N::Int)\n",
    "    # Local spin-1 basis states\n",
    "    m_pos1 = [1.0, 0.0, 0.0]  # |m=-1>\n",
    "    m_0    = [0.0, 1.0, 0.0]  # |m=0>\n",
    "    m_neg1 = [0.0, 0.0, 1.0]  # |m=+1>\n",
    "    \n",
    "    # Start with the first site\n",
    "    state = m_pos1\n",
    "    \n",
    "    # Tensor product across sites\n",
    "    for i in 2:N\n",
    "        state = kron(state, m_pos1)\n",
    "    end\n",
    "\n",
    "    state = ComplexF64.(state)  # Convert to complex type\n",
    "    \n",
    "    return state\n",
    "end\n",
    "\n",
    "# Example usage\n",
    "ψ = zero_state(7)"
   ]
  },
  {
   "cell_type": "code",
   "execution_count": 136,
   "id": "0e976002",
   "metadata": {},
   "outputs": [
    {
     "data": {
      "text/plain": [
       "7.0 + 0.0im"
      ]
     },
     "metadata": {},
     "output_type": "display_data"
    }
   ],
   "source": [
    "ψ' * total_Sz2(7) * ψ"
   ]
  },
  {
   "cell_type": "code",
   "execution_count": 116,
   "id": "e79ee484",
   "metadata": {},
   "outputs": [
    {
     "data": {
      "text/plain": [
       "total_Sz (generic function with 1 method)"
      ]
     },
     "metadata": {},
     "output_type": "display_data"
    }
   ],
   "source": [
    "include(\"s3.jl\")"
   ]
  },
  {
   "cell_type": "code",
   "execution_count": 35,
   "id": "dd0d1f2c",
   "metadata": {},
   "outputs": [
    {
     "data": {
      "text/plain": [
       "total_Sz2_t (generic function with 1 method)"
      ]
     },
     "metadata": {},
     "output_type": "display_data"
    }
   ],
   "source": [
    "include(\"s3.jl\")\n",
    "\n",
    "function total_Sz2_t(L::Int, T::Float64, dt::Float64, shot::Int)\n",
    "    Random.seed!(shot)  # Set random seed make this truly random\n",
    "    s_t = random_product_state(L)\n",
    "    #s_t = zero_state(L)\n",
    "    Sz2_list = Float64[]\n",
    "    #expec = Float64[]\n",
    "\n",
    "    Sz2_op = total_Sz2(L)\n",
    "\n",
    "    steps = Int(floor(T / dt))\n",
    "\n",
    "    for _ in 1:steps\n",
    "        #push!(S_list, entropy_vn(s_t, L, 1:L÷2)) ## Half-chain entropy\n",
    "        push!(Sz2_list, real(s_t' * Sz2_op * s_t))\n",
    "        #push!(expec, real(s_t' * (Hb * total_Sz2(L) - total_Sz2(L) * Hb) * s_t) / L)\n",
    "\n",
    "        # Time evolution\n",
    "        s_t = time_evolution(s_t, dt, L, shot)\n",
    "        #s_t /= norm(s_t)\n",
    "    end\n",
    "\n",
    "\n",
    "    return Sz2_list\n",
    "end"
   ]
  },
  {
   "cell_type": "code",
   "execution_count": 36,
   "id": "0ebdb500",
   "metadata": {},
   "outputs": [
    {
     "data": {
      "text/plain": [
       "50-element Vector{Float64}:\n",
       " 4.31581417837989\n",
       " 4.315814178379892\n",
       " 4.31581417837989\n",
       " 4.315814178379889\n",
       " 4.315814178379892\n",
       " 4.315814178379894\n",
       " 4.315814178379894\n",
       " 4.31581417837989\n",
       " 4.315814178379894\n",
       " 4.315814178379891\n",
       " ⋮\n",
       " 4.315814178379882\n",
       " 4.315814178379886\n",
       " 4.3158141783798865\n",
       " 4.3158141783798865\n",
       " 4.315814178379883\n",
       " 4.31581417837989\n",
       " 4.315814178379886\n",
       " 4.315814178379884\n",
       " 4.315814178379884"
      ]
     },
     "metadata": {},
     "output_type": "display_data"
    }
   ],
   "source": [
    "include(\"s3.jl\")\n",
    "total_Sz2_t(7, 50.0, 1.0, 987)"
   ]
  },
  {
   "cell_type": "code",
   "execution_count": null,
   "id": "51b6eebf",
   "metadata": {},
   "outputs": [
    {
     "data": {
      "text/plain": [
       "Entropy_t_z2 (generic function with 1 method)"
      ]
     },
     "metadata": {},
     "output_type": "display_data"
    }
   ],
   "source": [
    "include(\"s3.jl\")\n",
    "\n",
    "function Entropy_t_z2(L::Int, T::Float64, dt::Float64, p::Float64, shot::Int)\n",
    "    Random.seed!(shot)  # Set random seed\n",
    "    s_t = random_product_state(L)\n",
    "    #s_t = neel_spin1_complex(L)  # Use the Néel state as the initial state \n",
    "    S_list = Float64[]\n",
    "\n",
    "    # Define Hamiltonian and local observables\n",
    "    _, _, _, _, He, sz2l, szl = Hamiltonian(L)\n",
    "    steps = Int(floor(T / dt))\n",
    "\n",
    "    for _ in 1:steps\n",
    "        push!(S_list, entropy_vn(s_t, L, 1:L÷2)) ## Half-chain entropy\n",
    "        #push!(S_list, tmi(s_t))\n",
    "\n",
    "        # Time evolution\n",
    "        s_t = time_evolution(s_t, dt, L, shot)\n",
    "        #s_t /= norm(s_t)\n",
    "\n",
    "        # Measurements\n",
    "        if p != 0\n",
    "            for l in 1:L\n",
    "                x = rand()\n",
    "                if x < p\n",
    "                    p_m_zero = real(s_t' * (sz2l[l]) * s_t)\n",
    "                    x1 = rand()\n",
    "                    if x1 < p_m_zero\n",
    "                        s_t = (sz2l[l] * s_t) / sqrt(p_m_zero)\n",
    "                    else\n",
    "                        s_t = (s_t - sz2l[l] * s_t) / sqrt(1 - p_m_zero)\n",
    "                    end\n",
    "                end\n",
    "            end\n",
    "        end\n",
    "    end\n",
    "\n",
    "    \"\"\"\n",
    "    # Save result to disk\n",
    "    filename = \"L$(L),T$(T),dt$(dt),p$(p),dirZ2,s$(shot).npy\"\n",
    "    npzwrite(filename, S_list)\n",
    "    \n",
    "\n",
    "    \"\"\"\n",
    "    folder = \"/Users/uditvarma/Documents/s3_data/data_hc\"\n",
    "    filename = joinpath(folder, \"L$(L),T$(T),dt$(dt),p$(p),dirZ2,s$(shot).npy\")\n",
    "    npzwrite(filename, S_list)\n",
    "    #\"\"\"\n",
    "    \n",
    "    return S_list\n",
    "end"
   ]
  },
  {
   "cell_type": "code",
   "execution_count": 18,
   "id": "a8818871",
   "metadata": {},
   "outputs": [
    {
     "data": {
      "text/plain": [
       "total_Sz (generic function with 1 method)"
      ]
     },
     "metadata": {},
     "output_type": "display_data"
    }
   ],
   "source": [
    "include(\"s3.jl\")"
   ]
  },
  {
   "cell_type": "code",
   "execution_count": 19,
   "id": "6e4a804d",
   "metadata": {},
   "outputs": [],
   "source": [
    "for L in [5, 6, 7]\n",
    "    T = 10.0 * L\n",
    "    for dt in [1.0]\n",
    "        for p in [0.0]\n",
    "            for shot in 1:50\n",
    "                Entropy_t_z2(L, T, dt, p, shot)\n",
    "            end\n",
    "        end\n",
    "    end\n",
    "end"
   ]
  },
  {
   "cell_type": "code",
   "execution_count": 33,
   "id": "5fa97ee0",
   "metadata": {},
   "outputs": [
    {
     "data": {
      "text/plain": [
       "(sparse([19, 20, 21, 7, 55, 8, 56, 9, 57, 58  …  58992, 58993, 59041, 58994, 59042, 58995, 59043, 59029, 59030, 59031], [7, 8, 9, 19, 19, 20, 20, 21, 21, 22  …  59028, 59029, 59029, 59030, 59030, 59031, 59031, 59041, 59042, 59043], ComplexF64[1.9999999999999982 + 0.0im, 1.9999999999999982 + 0.0im, 1.9999999999999982 + 0.0im, 1.9999999999999982 + 0.0im, 1.9999999999999982 + 0.0im, 1.9999999999999982 + 0.0im, 1.9999999999999982 + 0.0im, 1.9999999999999982 + 0.0im, 1.9999999999999982 + 0.0im, 1.9999999999999982 + 0.0im  …  1.9999999999999982 + 0.0im, 1.9999999999999982 + 0.0im, 1.9999999999999982 + 0.0im, 1.9999999999999982 + 0.0im, 1.9999999999999982 + 0.0im, 1.9999999999999982 + 0.0im, 1.9999999999999982 + 0.0im, 1.9999999999999982 + 0.0im, 1.9999999999999982 + 0.0im, 1.9999999999999982 + 0.0im], 59049, 59049), sparse([13, 14, 15, 7, 19, 8, 20, 9, 21, 13  …  59037, 59029, 59041, 59030, 59042, 59031, 59043, 59035, 59036, 59037], [7, 8, 9, 13, 13, 14, 14, 15, 15, 19  …  59031, 59035, 59035, 59036, 59036, 59037, 59037, 59041, 59042, 59043], ComplexF64[-0.9999999999999996 + 0.0im, -0.9999999999999996 + 0.0im, -0.9999999999999996 + 0.0im, -0.9999999999999996 + 0.0im, -0.9999999999999996 + 0.0im, -0.9999999999999996 + 0.0im, -0.9999999999999996 + 0.0im, -0.9999999999999996 + 0.0im, -0.9999999999999996 + 0.0im, -0.9999999999999996 + 0.0im  …  -0.9999999999999996 + 0.0im, -0.9999999999999996 + 0.0im, -0.9999999999999996 + 0.0im, -0.9999999999999996 + 0.0im, -0.9999999999999996 + 0.0im, -0.9999999999999996 + 0.0im, -0.9999999999999996 + 0.0im, -0.9999999999999996 + 0.0im, -0.9999999999999996 + 0.0im, -0.9999999999999996 + 0.0im], 59049, 59049), sparse([22, 64, 190, 568, 1702, 5104, 15310, 45928, 23, 65  …  58985, 59027, 13122, 43740, 53946, 57348, 58482, 58860, 58986, 59028], [1, 1, 1, 1, 1, 1, 1, 1, 2, 2  …  59048, 59048, 59049, 59049, 59049, 59049, 59049, 59049, 59049, 59049], ComplexF64[0.9999999999999993 + 0.0im, 0.9999999999999993 + 0.0im, 0.9999999999999993 + 0.0im, 0.9999999999999993 + 0.0im, 0.9999999999999993 + 0.0im, 0.9999999999999993 + 0.0im, 0.9999999999999993 + 0.0im, 0.9999999999999993 + 0.0im, 0.9999999999999993 + 0.0im, 0.9999999999999993 + 0.0im  …  -0.9999999999999993 + 0.0im, -0.9999999999999993 + 0.0im, -0.9999999999999993 + 0.0im, -0.9999999999999993 + 0.0im, -0.9999999999999993 + 0.0im, -0.9999999999999993 + 0.0im, -0.9999999999999993 + 0.0im, -0.9999999999999993 + 0.0im, -0.9999999999999993 + 0.0im, -0.9999999999999993 + 0.0im], 59049, 59049), sparse([55, 56, 57, 64, 65, 66, 163, 164, 165, 166  …  58884, 58885, 58886, 58887, 58984, 58985, 58986, 58993, 58994, 58995], [7, 8, 9, 16, 17, 18, 19, 20, 21, 22  …  59028, 59029, 59030, 59031, 59032, 59033, 59034, 59041, 59042, 59043], ComplexF64[1.9999999999999982 + 0.0im, 1.9999999999999982 + 0.0im, 1.9999999999999982 + 0.0im, 1.9999999999999982 + 0.0im, 1.9999999999999982 + 0.0im, 1.9999999999999982 + 0.0im, 1.9999999999999982 + 0.0im, 1.9999999999999982 + 0.0im, 1.9999999999999982 + 0.0im, 1.9999999999999982 + 0.0im  …  1.9999999999999982 + 0.0im, 1.9999999999999982 + 0.0im, 1.9999999999999982 + 0.0im, 1.9999999999999982 + 0.0im, 1.9999999999999982 + 0.0im, 1.9999999999999982 + 0.0im, 1.9999999999999982 + 0.0im, 1.9999999999999982 + 0.0im, 1.9999999999999982 + 0.0im, 1.9999999999999982 + 0.0im], 59049, 59049), sparse([1, 2, 3, 4, 5, 6, 7, 8, 9, 10  …  59040, 59041, 59042, 59043, 59044, 59045, 59046, 59047, 59048, 59049], [1, 2, 3, 4, 5, 6, 7, 8, 9, 10  …  59040, 59041, 59042, 59043, 59044, 59045, 59046, 59047, 59048, 59049], ComplexF64[8.0 + 0.0im, 8.0 + 0.0im, 8.0 + 0.0im, 7.0 + 0.0im, 7.0 + 0.0im, 7.0 + 0.0im, 6.0 + 0.0im, 6.0 + 0.0im, 6.0 + 0.0im, 6.0 + 0.0im  …  6.0 + 0.0im, 6.0 + 0.0im, 6.0 + 0.0im, 6.0 + 0.0im, 7.0 + 0.0im, 7.0 + 0.0im, 7.0 + 0.0im, 8.0 + 0.0im, 8.0 + 0.0im, 8.0 + 0.0im], 59049, 59049), SparseMatrixCSC{ComplexF64, Int64}[sparse([1, 2, 3, 4, 5, 6, 7, 8, 9, 10  …  59040, 59041, 59042, 59043, 59044, 59045, 59046, 59047, 59048, 59049], [1, 2, 3, 4, 5, 6, 7, 8, 9, 10  …  59040, 59041, 59042, 59043, 59044, 59045, 59046, 59047, 59048, 59049], ComplexF64[1.0 + 0.0im, 1.0 + 0.0im, 1.0 + 0.0im, 1.0 + 0.0im, 1.0 + 0.0im, 1.0 + 0.0im, 1.0 + 0.0im, 1.0 + 0.0im, 1.0 + 0.0im, 1.0 + 0.0im  …  1.0 + 0.0im, 1.0 + 0.0im, 1.0 + 0.0im, 1.0 + 0.0im, 1.0 + 0.0im, 1.0 + 0.0im, 1.0 + 0.0im, 1.0 + 0.0im, 1.0 + 0.0im, 1.0 + 0.0im], 59049, 59049), sparse([1, 2, 3, 4, 5, 6, 7, 8, 9, 10  …  59040, 59041, 59042, 59043, 59044, 59045, 59046, 59047, 59048, 59049], [1, 2, 3, 4, 5, 6, 7, 8, 9, 10  …  59040, 59041, 59042, 59043, 59044, 59045, 59046, 59047, 59048, 59049], ComplexF64[1.0 + 0.0im, 1.0 + 0.0im, 1.0 + 0.0im, 1.0 + 0.0im, 1.0 + 0.0im, 1.0 + 0.0im, 1.0 + 0.0im, 1.0 + 0.0im, 1.0 + 0.0im, 1.0 + 0.0im  …  1.0 + 0.0im, 1.0 + 0.0im, 1.0 + 0.0im, 1.0 + 0.0im, 1.0 + 0.0im, 1.0 + 0.0im, 1.0 + 0.0im, 1.0 + 0.0im, 1.0 + 0.0im, 1.0 + 0.0im], 59049, 59049), sparse([1, 2, 3, 4, 5, 6, 7, 8, 9, 10  …  59040, 59041, 59042, 59043, 59044, 59045, 59046, 59047, 59048, 59049], [1, 2, 3, 4, 5, 6, 7, 8, 9, 10  …  59040, 59041, 59042, 59043, 59044, 59045, 59046, 59047, 59048, 59049], ComplexF64[1.0 + 0.0im, 1.0 + 0.0im, 1.0 + 0.0im, 1.0 + 0.0im, 1.0 + 0.0im, 1.0 + 0.0im, 1.0 + 0.0im, 1.0 + 0.0im, 1.0 + 0.0im, 1.0 + 0.0im  …  1.0 + 0.0im, 1.0 + 0.0im, 1.0 + 0.0im, 1.0 + 0.0im, 1.0 + 0.0im, 1.0 + 0.0im, 1.0 + 0.0im, 1.0 + 0.0im, 1.0 + 0.0im, 1.0 + 0.0im], 59049, 59049), sparse([1, 2, 3, 4, 5, 6, 7, 8, 9, 10  …  59040, 59041, 59042, 59043, 59044, 59045, 59046, 59047, 59048, 59049], [1, 2, 3, 4, 5, 6, 7, 8, 9, 10  …  59040, 59041, 59042, 59043, 59044, 59045, 59046, 59047, 59048, 59049], ComplexF64[1.0 + 0.0im, 1.0 + 0.0im, 1.0 + 0.0im, 1.0 + 0.0im, 1.0 + 0.0im, 1.0 + 0.0im, 1.0 + 0.0im, 1.0 + 0.0im, 1.0 + 0.0im, 1.0 + 0.0im  …  1.0 + 0.0im, 1.0 + 0.0im, 1.0 + 0.0im, 1.0 + 0.0im, 1.0 + 0.0im, 1.0 + 0.0im, 1.0 + 0.0im, 1.0 + 0.0im, 1.0 + 0.0im, 1.0 + 0.0im], 59049, 59049), sparse([1, 2, 3, 4, 5, 6, 7, 8, 9, 10  …  59040, 59041, 59042, 59043, 59044, 59045, 59046, 59047, 59048, 59049], [1, 2, 3, 4, 5, 6, 7, 8, 9, 10  …  59040, 59041, 59042, 59043, 59044, 59045, 59046, 59047, 59048, 59049], ComplexF64[1.0 + 0.0im, 1.0 + 0.0im, 1.0 + 0.0im, 1.0 + 0.0im, 1.0 + 0.0im, 1.0 + 0.0im, 1.0 + 0.0im, 1.0 + 0.0im, 1.0 + 0.0im, 1.0 + 0.0im  …  1.0 + 0.0im, 1.0 + 0.0im, 1.0 + 0.0im, 1.0 + 0.0im, 1.0 + 0.0im, 1.0 + 0.0im, 1.0 + 0.0im, 1.0 + 0.0im, 1.0 + 0.0im, 1.0 + 0.0im], 59049, 59049), sparse([1, 2, 3, 4, 5, 6, 7, 8, 9, 10  …  59040, 59041, 59042, 59043, 59044, 59045, 59046, 59047, 59048, 59049], [1, 2, 3, 4, 5, 6, 7, 8, 9, 10  …  59040, 59041, 59042, 59043, 59044, 59045, 59046, 59047, 59048, 59049], ComplexF64[1.0 + 0.0im, 1.0 + 0.0im, 1.0 + 0.0im, 1.0 + 0.0im, 1.0 + 0.0im, 1.0 + 0.0im, 1.0 + 0.0im, 1.0 + 0.0im, 1.0 + 0.0im, 1.0 + 0.0im  …  1.0 + 0.0im, 1.0 + 0.0im, 1.0 + 0.0im, 1.0 + 0.0im, 1.0 + 0.0im, 1.0 + 0.0im, 1.0 + 0.0im, 1.0 + 0.0im, 1.0 + 0.0im, 1.0 + 0.0im], 59049, 59049), sparse([1, 2, 3, 4, 5, 6, 7, 8, 9, 10  …  59040, 59041, 59042, 59043, 59044, 59045, 59046, 59047, 59048, 59049], [1, 2, 3, 4, 5, 6, 7, 8, 9, 10  …  59040, 59041, 59042, 59043, 59044, 59045, 59046, 59047, 59048, 59049], ComplexF64[1.0 + 0.0im, 1.0 + 0.0im, 1.0 + 0.0im, 1.0 + 0.0im, 1.0 + 0.0im, 1.0 + 0.0im, 1.0 + 0.0im, 1.0 + 0.0im, 1.0 + 0.0im, 1.0 + 0.0im  …  1.0 + 0.0im, 1.0 + 0.0im, 1.0 + 0.0im, 1.0 + 0.0im, 1.0 + 0.0im, 1.0 + 0.0im, 1.0 + 0.0im, 1.0 + 0.0im, 1.0 + 0.0im, 1.0 + 0.0im], 59049, 59049), sparse([1, 2, 3, 4, 5, 6, 7, 8, 9, 19  …  59031, 59041, 59042, 59043, 59044, 59045, 59046, 59047, 59048, 59049], [1, 2, 3, 4, 5, 6, 7, 8, 9, 19  …  59031, 59041, 59042, 59043, 59044, 59045, 59046, 59047, 59048, 59049], ComplexF64[1.0 + 0.0im, 1.0 + 0.0im, 1.0 + 0.0im, 1.0 + 0.0im, 1.0 + 0.0im, 1.0 + 0.0im, 1.0 + 0.0im, 1.0 + 0.0im, 1.0 + 0.0im, 1.0 + 0.0im  …  1.0 + 0.0im, 1.0 + 0.0im, 1.0 + 0.0im, 1.0 + 0.0im, 1.0 + 0.0im, 1.0 + 0.0im, 1.0 + 0.0im, 1.0 + 0.0im, 1.0 + 0.0im, 1.0 + 0.0im], 59049, 59049), sparse([1, 2, 3, 7, 8, 9, 10, 11, 12, 16  …  59034, 59038, 59039, 59040, 59041, 59042, 59043, 59047, 59048, 59049], [1, 2, 3, 7, 8, 9, 10, 11, 12, 16  …  59034, 59038, 59039, 59040, 59041, 59042, 59043, 59047, 59048, 59049], ComplexF64[1.0 + 0.0im, 1.0 + 0.0im, 1.0 + 0.0im, 1.0 + 0.0im, 1.0 + 0.0im, 1.0 + 0.0im, 1.0 + 0.0im, 1.0 + 0.0im, 1.0 + 0.0im, 1.0 + 0.0im  …  1.0 + 0.0im, 1.0 + 0.0im, 1.0 + 0.0im, 1.0 + 0.0im, 1.0 + 0.0im, 1.0 + 0.0im, 1.0 + 0.0im, 1.0 + 0.0im, 1.0 + 0.0im, 1.0 + 0.0im], 59049, 59049), sparse([1, 3, 4, 6, 7, 9, 10, 12, 13, 15  …  59035, 59037, 59038, 59040, 59041, 59043, 59044, 59046, 59047, 59049], [1, 3, 4, 6, 7, 9, 10, 12, 13, 15  …  59035, 59037, 59038, 59040, 59041, 59043, 59044, 59046, 59047, 59049], ComplexF64[1.0 + 0.0im, 1.0 + 0.0im, 1.0 + 0.0im, 1.0 + 0.0im, 1.0 + 0.0im, 1.0 + 0.0im, 1.0 + 0.0im, 1.0 + 0.0im, 1.0 + 0.0im, 1.0 + 0.0im  …  1.0 + 0.0im, 1.0 + 0.0im, 1.0 + 0.0im, 1.0 + 0.0im, 1.0 + 0.0im, 1.0 + 0.0im, 1.0 + 0.0im, 1.0 + 0.0im, 1.0 + 0.0im, 1.0 + 0.0im], 59049, 59049)], SparseMatrixCSC{ComplexF64, Int64}[sparse([1, 2, 3, 4, 5, 6, 7, 8, 9, 10  …  59040, 59041, 59042, 59043, 59044, 59045, 59046, 59047, 59048, 59049], [1, 2, 3, 4, 5, 6, 7, 8, 9, 10  …  59040, 59041, 59042, 59043, 59044, 59045, 59046, 59047, 59048, 59049], ComplexF64[1.0 + 0.0im, 1.0 + 0.0im, 1.0 + 0.0im, 1.0 + 0.0im, 1.0 + 0.0im, 1.0 + 0.0im, 1.0 + 0.0im, 1.0 + 0.0im, 1.0 + 0.0im, 1.0 + 0.0im  …  -1.0 + 0.0im, -1.0 + 0.0im, -1.0 + 0.0im, -1.0 + 0.0im, -1.0 + 0.0im, -1.0 + 0.0im, -1.0 + 0.0im, -1.0 + 0.0im, -1.0 + 0.0im, -1.0 + 0.0im], 59049, 59049), sparse([1, 2, 3, 4, 5, 6, 7, 8, 9, 10  …  59040, 59041, 59042, 59043, 59044, 59045, 59046, 59047, 59048, 59049], [1, 2, 3, 4, 5, 6, 7, 8, 9, 10  …  59040, 59041, 59042, 59043, 59044, 59045, 59046, 59047, 59048, 59049], ComplexF64[1.0 + 0.0im, 1.0 + 0.0im, 1.0 + 0.0im, 1.0 + 0.0im, 1.0 + 0.0im, 1.0 + 0.0im, 1.0 + 0.0im, 1.0 + 0.0im, 1.0 + 0.0im, 1.0 + 0.0im  …  -1.0 + 0.0im, -1.0 + 0.0im, -1.0 + 0.0im, -1.0 + 0.0im, -1.0 + 0.0im, -1.0 + 0.0im, -1.0 + 0.0im, -1.0 + 0.0im, -1.0 + 0.0im, -1.0 + 0.0im], 59049, 59049), sparse([1, 2, 3, 4, 5, 6, 7, 8, 9, 10  …  59040, 59041, 59042, 59043, 59044, 59045, 59046, 59047, 59048, 59049], [1, 2, 3, 4, 5, 6, 7, 8, 9, 10  …  59040, 59041, 59042, 59043, 59044, 59045, 59046, 59047, 59048, 59049], ComplexF64[1.0 + 0.0im, 1.0 + 0.0im, 1.0 + 0.0im, 1.0 + 0.0im, 1.0 + 0.0im, 1.0 + 0.0im, 1.0 + 0.0im, 1.0 + 0.0im, 1.0 + 0.0im, 1.0 + 0.0im  …  -1.0 + 0.0im, -1.0 + 0.0im, -1.0 + 0.0im, -1.0 + 0.0im, -1.0 + 0.0im, -1.0 + 0.0im, -1.0 + 0.0im, -1.0 + 0.0im, -1.0 + 0.0im, -1.0 + 0.0im], 59049, 59049), sparse([1, 2, 3, 4, 5, 6, 7, 8, 9, 10  …  59040, 59041, 59042, 59043, 59044, 59045, 59046, 59047, 59048, 59049], [1, 2, 3, 4, 5, 6, 7, 8, 9, 10  …  59040, 59041, 59042, 59043, 59044, 59045, 59046, 59047, 59048, 59049], ComplexF64[1.0 + 0.0im, 1.0 + 0.0im, 1.0 + 0.0im, 1.0 + 0.0im, 1.0 + 0.0im, 1.0 + 0.0im, 1.0 + 0.0im, 1.0 + 0.0im, 1.0 + 0.0im, 1.0 + 0.0im  …  -1.0 + 0.0im, -1.0 + 0.0im, -1.0 + 0.0im, -1.0 + 0.0im, -1.0 + 0.0im, -1.0 + 0.0im, -1.0 + 0.0im, -1.0 + 0.0im, -1.0 + 0.0im, -1.0 + 0.0im], 59049, 59049), sparse([1, 2, 3, 4, 5, 6, 7, 8, 9, 10  …  59040, 59041, 59042, 59043, 59044, 59045, 59046, 59047, 59048, 59049], [1, 2, 3, 4, 5, 6, 7, 8, 9, 10  …  59040, 59041, 59042, 59043, 59044, 59045, 59046, 59047, 59048, 59049], ComplexF64[1.0 + 0.0im, 1.0 + 0.0im, 1.0 + 0.0im, 1.0 + 0.0im, 1.0 + 0.0im, 1.0 + 0.0im, 1.0 + 0.0im, 1.0 + 0.0im, 1.0 + 0.0im, 1.0 + 0.0im  …  -1.0 + 0.0im, -1.0 + 0.0im, -1.0 + 0.0im, -1.0 + 0.0im, -1.0 + 0.0im, -1.0 + 0.0im, -1.0 + 0.0im, -1.0 + 0.0im, -1.0 + 0.0im, -1.0 + 0.0im], 59049, 59049), sparse([1, 2, 3, 4, 5, 6, 7, 8, 9, 10  …  59040, 59041, 59042, 59043, 59044, 59045, 59046, 59047, 59048, 59049], [1, 2, 3, 4, 5, 6, 7, 8, 9, 10  …  59040, 59041, 59042, 59043, 59044, 59045, 59046, 59047, 59048, 59049], ComplexF64[1.0 + 0.0im, 1.0 + 0.0im, 1.0 + 0.0im, 1.0 + 0.0im, 1.0 + 0.0im, 1.0 + 0.0im, 1.0 + 0.0im, 1.0 + 0.0im, 1.0 + 0.0im, 1.0 + 0.0im  …  -1.0 + 0.0im, -1.0 + 0.0im, -1.0 + 0.0im, -1.0 + 0.0im, -1.0 + 0.0im, -1.0 + 0.0im, -1.0 + 0.0im, -1.0 + 0.0im, -1.0 + 0.0im, -1.0 + 0.0im], 59049, 59049), sparse([1, 2, 3, 4, 5, 6, 7, 8, 9, 10  …  59040, 59041, 59042, 59043, 59044, 59045, 59046, 59047, 59048, 59049], [1, 2, 3, 4, 5, 6, 7, 8, 9, 10  …  59040, 59041, 59042, 59043, 59044, 59045, 59046, 59047, 59048, 59049], ComplexF64[1.0 + 0.0im, 1.0 + 0.0im, 1.0 + 0.0im, 1.0 + 0.0im, 1.0 + 0.0im, 1.0 + 0.0im, 1.0 + 0.0im, 1.0 + 0.0im, 1.0 + 0.0im, 1.0 + 0.0im  …  -1.0 + 0.0im, -1.0 + 0.0im, -1.0 + 0.0im, -1.0 + 0.0im, -1.0 + 0.0im, -1.0 + 0.0im, -1.0 + 0.0im, -1.0 + 0.0im, -1.0 + 0.0im, -1.0 + 0.0im], 59049, 59049), sparse([1, 2, 3, 4, 5, 6, 7, 8, 9, 19  …  59031, 59041, 59042, 59043, 59044, 59045, 59046, 59047, 59048, 59049], [1, 2, 3, 4, 5, 6, 7, 8, 9, 19  …  59031, 59041, 59042, 59043, 59044, 59045, 59046, 59047, 59048, 59049], ComplexF64[1.0 + 0.0im, 1.0 + 0.0im, 1.0 + 0.0im, 1.0 + 0.0im, 1.0 + 0.0im, 1.0 + 0.0im, 1.0 + 0.0im, 1.0 + 0.0im, 1.0 + 0.0im, -1.0 + 0.0im  …  1.0 + 0.0im, -1.0 + 0.0im, -1.0 + 0.0im, -1.0 + 0.0im, -1.0 + 0.0im, -1.0 + 0.0im, -1.0 + 0.0im, -1.0 + 0.0im, -1.0 + 0.0im, -1.0 + 0.0im], 59049, 59049), sparse([1, 2, 3, 7, 8, 9, 10, 11, 12, 16  …  59034, 59038, 59039, 59040, 59041, 59042, 59043, 59047, 59048, 59049], [1, 2, 3, 7, 8, 9, 10, 11, 12, 16  …  59034, 59038, 59039, 59040, 59041, 59042, 59043, 59047, 59048, 59049], ComplexF64[1.0 + 0.0im, 1.0 + 0.0im, 1.0 + 0.0im, -1.0 + 0.0im, -1.0 + 0.0im, -1.0 + 0.0im, 1.0 + 0.0im, 1.0 + 0.0im, 1.0 + 0.0im, -1.0 + 0.0im  …  1.0 + 0.0im, -1.0 + 0.0im, -1.0 + 0.0im, -1.0 + 0.0im, 1.0 + 0.0im, 1.0 + 0.0im, 1.0 + 0.0im, -1.0 + 0.0im, -1.0 + 0.0im, -1.0 + 0.0im], 59049, 59049), sparse([1, 3, 4, 6, 7, 9, 10, 12, 13, 15  …  59035, 59037, 59038, 59040, 59041, 59043, 59044, 59046, 59047, 59049], [1, 3, 4, 6, 7, 9, 10, 12, 13, 15  …  59035, 59037, 59038, 59040, 59041, 59043, 59044, 59046, 59047, 59049], ComplexF64[1.0 + 0.0im, -1.0 + 0.0im, 1.0 + 0.0im, -1.0 + 0.0im, 1.0 + 0.0im, -1.0 + 0.0im, 1.0 + 0.0im, -1.0 + 0.0im, 1.0 + 0.0im, -1.0 + 0.0im  …  1.0 + 0.0im, -1.0 + 0.0im, 1.0 + 0.0im, -1.0 + 0.0im, 1.0 + 0.0im, -1.0 + 0.0im, 1.0 + 0.0im, -1.0 + 0.0im, 1.0 + 0.0im, -1.0 + 0.0im], 59049, 59049)])"
      ]
     },
     "metadata": {},
     "output_type": "display_data"
    }
   ],
   "source": [
    "include(\"s3.jl\")\n",
    "Ha, Hb, Hc, Hd, He, _, _ = Hamiltonian_an(10)"
   ]
  },
  {
   "cell_type": "code",
   "execution_count": 34,
   "id": "ddacf3ba",
   "metadata": {},
   "outputs": [
    {
     "data": {
      "text/plain": [
       "59049×59049 SparseMatrixCSC{ComplexF64, Int64} with 0 stored entries:\n",
       "⎡⠀⠀⠀⠀⠀⠀⠀⠀⠀⠀⠀⠀⠀⠀⠀⠀⠀⠀⠀⠀⠀⠀⠀⠀⠀⠀⠀⠀⠀⠀⠀⠀⠀⠀⠀⠀⠀⠀⠀⠀⎤\n",
       "⎢⠀⠀⠀⠀⠀⠀⠀⠀⠀⠀⠀⠀⠀⠀⠀⠀⠀⠀⠀⠀⠀⠀⠀⠀⠀⠀⠀⠀⠀⠀⠀⠀⠀⠀⠀⠀⠀⠀⠀⠀⎥\n",
       "⎢⠀⠀⠀⠀⠀⠀⠀⠀⠀⠀⠀⠀⠀⠀⠀⠀⠀⠀⠀⠀⠀⠀⠀⠀⠀⠀⠀⠀⠀⠀⠀⠀⠀⠀⠀⠀⠀⠀⠀⠀⎥\n",
       "⎢⠀⠀⠀⠀⠀⠀⠀⠀⠀⠀⠀⠀⠀⠀⠀⠀⠀⠀⠀⠀⠀⠀⠀⠀⠀⠀⠀⠀⠀⠀⠀⠀⠀⠀⠀⠀⠀⠀⠀⠀⎥\n",
       "⎢⠀⠀⠀⠀⠀⠀⠀⠀⠀⠀⠀⠀⠀⠀⠀⠀⠀⠀⠀⠀⠀⠀⠀⠀⠀⠀⠀⠀⠀⠀⠀⠀⠀⠀⠀⠀⠀⠀⠀⠀⎥\n",
       "⎢⠀⠀⠀⠀⠀⠀⠀⠀⠀⠀⠀⠀⠀⠀⠀⠀⠀⠀⠀⠀⠀⠀⠀⠀⠀⠀⠀⠀⠀⠀⠀⠀⠀⠀⠀⠀⠀⠀⠀⠀⎥\n",
       "⎢⠀⠀⠀⠀⠀⠀⠀⠀⠀⠀⠀⠀⠀⠀⠀⠀⠀⠀⠀⠀⠀⠀⠀⠀⠀⠀⠀⠀⠀⠀⠀⠀⠀⠀⠀⠀⠀⠀⠀⠀⎥\n",
       "⎢⠀⠀⠀⠀⠀⠀⠀⠀⠀⠀⠀⠀⠀⠀⠀⠀⠀⠀⠀⠀⠀⠀⠀⠀⠀⠀⠀⠀⠀⠀⠀⠀⠀⠀⠀⠀⠀⠀⠀⠀⎥\n",
       "⎢⠀⠀⠀⠀⠀⠀⠀⠀⠀⠀⠀⠀⠀⠀⠀⠀⠀⠀⠀⠀⠀⠀⠀⠀⠀⠀⠀⠀⠀⠀⠀⠀⠀⠀⠀⠀⠀⠀⠀⠀⎥\n",
       "⎢⠀⠀⠀⠀⠀⠀⠀⠀⠀⠀⠀⠀⠀⠀⠀⠀⠀⠀⠀⠀⠀⠀⠀⠀⠀⠀⠀⠀⠀⠀⠀⠀⠀⠀⠀⠀⠀⠀⠀⠀⎥\n",
       "⎢⠀⠀⠀⠀⠀⠀⠀⠀⠀⠀⠀⠀⠀⠀⠀⠀⠀⠀⠀⠀⠀⠀⠀⠀⠀⠀⠀⠀⠀⠀⠀⠀⠀⠀⠀⠀⠀⠀⠀⠀⎥\n",
       "⎢⠀⠀⠀⠀⠀⠀⠀⠀⠀⠀⠀⠀⠀⠀⠀⠀⠀⠀⠀⠀⠀⠀⠀⠀⠀⠀⠀⠀⠀⠀⠀⠀⠀⠀⠀⠀⠀⠀⠀⠀⎥\n",
       "⎢⠀⠀⠀⠀⠀⠀⠀⠀⠀⠀⠀⠀⠀⠀⠀⠀⠀⠀⠀⠀⠀⠀⠀⠀⠀⠀⠀⠀⠀⠀⠀⠀⠀⠀⠀⠀⠀⠀⠀⠀⎥\n",
       "⎢⠀⠀⠀⠀⠀⠀⠀⠀⠀⠀⠀⠀⠀⠀⠀⠀⠀⠀⠀⠀⠀⠀⠀⠀⠀⠀⠀⠀⠀⠀⠀⠀⠀⠀⠀⠀⠀⠀⠀⠀⎥\n",
       "⎢⠀⠀⠀⠀⠀⠀⠀⠀⠀⠀⠀⠀⠀⠀⠀⠀⠀⠀⠀⠀⠀⠀⠀⠀⠀⠀⠀⠀⠀⠀⠀⠀⠀⠀⠀⠀⠀⠀⠀⠀⎥\n",
       "⎢⠀⠀⠀⠀⠀⠀⠀⠀⠀⠀⠀⠀⠀⠀⠀⠀⠀⠀⠀⠀⠀⠀⠀⠀⠀⠀⠀⠀⠀⠀⠀⠀⠀⠀⠀⠀⠀⠀⠀⠀⎥\n",
       "⎢⠀⠀⠀⠀⠀⠀⠀⠀⠀⠀⠀⠀⠀⠀⠀⠀⠀⠀⠀⠀⠀⠀⠀⠀⠀⠀⠀⠀⠀⠀⠀⠀⠀⠀⠀⠀⠀⠀⠀⠀⎥\n",
       "⎢⠀⠀⠀⠀⠀⠀⠀⠀⠀⠀⠀⠀⠀⠀⠀⠀⠀⠀⠀⠀⠀⠀⠀⠀⠀⠀⠀⠀⠀⠀⠀⠀⠀⠀⠀⠀⠀⠀⠀⠀⎥\n",
       "⎢⠀⠀⠀⠀⠀⠀⠀⠀⠀⠀⠀⠀⠀⠀⠀⠀⠀⠀⠀⠀⠀⠀⠀⠀⠀⠀⠀⠀⠀⠀⠀⠀⠀⠀⠀⠀⠀⠀⠀⠀⎥\n",
       "⎣⠀⠀⠀⠀⠀⠀⠀⠀⠀⠀⠀⠀⠀⠀⠀⠀⠀⠀⠀⠀⠀⠀⠀⠀⠀⠀⠀⠀⠀⠀⠀⠀⠀⠀⠀⠀⠀⠀⠀⠀⎦"
      ]
     },
     "metadata": {},
     "output_type": "display_data"
    }
   ],
   "source": [
    "(Ha + Hd + He) * total_Sz2(10) - total_Sz2(10) * (Ha + Hd + He)"
   ]
  },
  {
   "cell_type": "code",
   "execution_count": null,
   "id": "38dd9dfb",
   "metadata": {},
   "outputs": [
    {
     "data": {
      "text/plain": [
       "2187-element Vector{ComplexF64}:\n",
       " 1.0 + 0.0im\n",
       " 0.0 + 0.0im\n",
       " 0.0 + 0.0im\n",
       " 0.0 + 0.0im\n",
       " 0.0 + 0.0im\n",
       " 0.0 + 0.0im\n",
       " 0.0 + 0.0im\n",
       " 0.0 + 0.0im\n",
       " 0.0 + 0.0im\n",
       " 0.0 + 0.0im\n",
       "     ⋮\n",
       " 0.0 + 0.0im\n",
       " 0.0 + 0.0im\n",
       " 0.0 + 0.0im\n",
       " 0.0 + 0.0im\n",
       " 0.0 + 0.0im\n",
       " 0.0 + 0.0im\n",
       " 0.0 + 0.0im\n",
       " 0.0 + 0.0im\n",
       " 0.0 + 0.0im"
      ]
     },
     "metadata": {},
     "output_type": "display_data"
    }
   ],
   "source": [
    "using LinearAlgebra\n",
    "\n",
    "\"\"\"\n",
    "    superposition_state(N::Int)\n",
    "\n",
    "Construct the normalized superposition state (|000...0⟩ + |111...1⟩)/√2 \n",
    "for N spin-1 sites. \n",
    "Here |0⟩ is the m=0 eigenstate of Sz and |1⟩ is the m=+1 eigenstate.\n",
    "Returns a vector of length 3^N.\n",
    "\"\"\"\n",
    "function superposition_state(N::Int)\n",
    "    # Local spin-1 basis states\n",
    "    m_pos1 = [1.0, 0.0, 0.0]  # |m=-1>\n",
    "    m_0    = [0.0, 1.0, 0.0]  # |m=0>  (our \"0\" state)\n",
    "    m_neg1 = [0.0, 0.0, 1.0]  # |m=+1> (our \"1\" state)\n",
    "    \n",
    "    # Build |000...0⟩\n",
    "    state0 = m_0\n",
    "    for i in 2:N\n",
    "        state0 = kron(state0, m_0)\n",
    "    end\n",
    "    \n",
    "    # Build |111...1⟩\n",
    "    state1 = m_pos1\n",
    "    for i in 2:N\n",
    "        state1 = kron(state1, m_pos1)\n",
    "    end\n",
    "    \n",
    "    # Superposition (normalized)\n",
    "    state = (state0 .+ state1) ./ sqrt(2)\n",
    "    \n",
    "    return ComplexF64.(state)\n",
    "end\n",
    "# Example usage\n",
    "ψ = superposition_state(7)"
   ]
  },
  {
   "cell_type": "code",
   "execution_count": 29,
   "id": "062471bf",
   "metadata": {},
   "outputs": [
    {
     "data": {
      "text/plain": [
       "7.0 + 0.0im"
      ]
     },
     "metadata": {},
     "output_type": "display_data"
    }
   ],
   "source": [
    "ψ' * total_Sz(7) * ψ"
   ]
  },
  {
   "cell_type": "code",
   "execution_count": 3,
   "id": "c4ca76ce",
   "metadata": {},
   "outputs": [
    {
     "data": {
      "text/plain": [
       "spin1_state"
      ]
     },
     "metadata": {},
     "output_type": "display_data"
    }
   ],
   "source": [
    "using LinearAlgebra\n",
    "\n",
    "\"\"\"\n",
    "    spin1_state(L)\n",
    "\n",
    "Constructs the spin-1 product state \n",
    "⊗_{i=1}^L (1/√3)(|1⟩ + |0⟩ + |-1⟩).\n",
    "Returns a normalized vector of length 3^L.\n",
    "\"\"\"\n",
    "function spin1_state(L::Int)\n",
    "    # single-site state (qutrit: |1>, |0>, |-1>)\n",
    "    site = (1/sqrt(3)) * [1.0, 1.0, 1.0]   # basis ordered as |1>,|0>,|-1>\n",
    "    \n",
    "    ψ = site\n",
    "    for _ in 2:L\n",
    "        ψ = kron(ψ, site)\n",
    "    end\n",
    "    \n",
    "    return normalize(ψ)\n",
    "end \n"
   ]
  },
  {
   "cell_type": "code",
   "execution_count": 8,
   "id": "b8e86ce2",
   "metadata": {},
   "outputs": [
    {
     "data": {
      "text/plain": [
       "6561-element Vector{ComplexF64}:\n",
       " 0.012345679012345678 + 0.0im\n",
       " 0.012345679012345678 + 0.0im\n",
       " 0.012345679012345678 + 0.0im\n",
       " 0.012345679012345678 + 0.0im\n",
       " 0.012345679012345678 + 0.0im\n",
       " 0.012345679012345678 + 0.0im\n",
       " 0.012345679012345678 + 0.0im\n",
       " 0.012345679012345678 + 0.0im\n",
       " 0.012345679012345678 + 0.0im\n",
       " 0.012345679012345678 + 0.0im\n",
       "                      ⋮\n",
       " 0.012345679012345678 + 0.0im\n",
       " 0.012345679012345678 + 0.0im\n",
       " 0.012345679012345678 + 0.0im\n",
       " 0.012345679012345678 + 0.0im\n",
       " 0.012345679012345678 + 0.0im\n",
       " 0.012345679012345678 + 0.0im\n",
       " 0.012345679012345678 + 0.0im\n",
       " 0.012345679012345678 + 0.0im\n",
       " 0.012345679012345678 + 0.0im"
      ]
     },
     "metadata": {},
     "output_type": "display_data"
    }
   ],
   "source": [
    "psi = spin1_state(8)"
   ]
  },
  {
   "cell_type": "code",
   "execution_count": 8,
   "id": "2aad69dd",
   "metadata": {},
   "outputs": [
    {
     "data": {
      "text/plain": [
       "spin1_state (generic function with 1 method)"
      ]
     },
     "metadata": {},
     "output_type": "display_data"
    }
   ],
   "source": [
    "include(\"s3.jl\")"
   ]
  },
  {
   "cell_type": "code",
   "execution_count": 9,
   "id": "beb637dd",
   "metadata": {},
   "outputs": [
    {
     "data": {
      "text/plain": [
       "70-element Vector{Float64}:\n",
       " 1.5555555555555962\n",
       " 1.5555555555555785\n",
       " 1.5555555555555571\n",
       " 1.5555555555555252\n",
       " 1.5555555555554825\n",
       " 1.5555555555554967\n",
       " 1.55555555555544\n",
       " 1.555555555555415\n",
       " 1.55555555555544\n",
       " 1.5555555555554292\n",
       " ⋮\n",
       " 1.5555555555547507\n",
       " 1.5555555555547258\n",
       " 1.5555555555547365\n",
       " 1.5555555555547116\n",
       " 1.555555555554701\n",
       " 1.5555555555547436\n",
       " 1.5555555555546832\n",
       " 1.5555555555547045\n",
       " 1.555555555554669"
      ]
     },
     "metadata": {},
     "output_type": "display_data"
    }
   ],
   "source": [
    "Entropy_t_z2(7, 70.0, 1.0, 0.0, 1234)"
   ]
  },
  {
   "cell_type": "code",
   "execution_count": 3,
   "id": "2594752a",
   "metadata": {},
   "outputs": [
    {
     "data": {
      "text/plain": [
       "1.5555555555555962 + 0.0im"
      ]
     },
     "metadata": {},
     "output_type": "display_data"
    }
   ],
   "source": [
    "L = 7;\n",
    "s_t = spin1_state(L)\n",
    "\n",
    "Q2_op = total_Sz2(L) * total_Sz2(L)\n",
    "Q_op = total_Sz2(L)\n",
    "\n",
    "s_t' * Q2_op * s_t - (s_t' * Q_op * s_t)^2"
   ]
  },
  {
   "cell_type": "code",
   "execution_count": null,
   "id": "56013c0e",
   "metadata": {},
   "outputs": [],
   "source": [
    "for L in [6, 7, 8]\n",
    "    T = 10.0 * L\n",
    "    for dt in [1.0]\n",
    "        for p in [0.0, 0.1, 0.2, 0.3, 0.4, 0.5, 0.6, 0.7, 0.8, 0.9, 1.0]\n",
    "            for shot in 1:500\n",
    "                Entropy_t_z2(L, T, dt, p, shot)\n",
    "            end\n",
    "        end\n",
    "    end\n",
    "end"
   ]
  },
  {
   "cell_type": "code",
   "execution_count": 6,
   "id": "59a8df84",
   "metadata": {},
   "outputs": [
    {
     "data": {
      "text/plain": [
       "Entropy_t_z2 (generic function with 1 method)"
      ]
     },
     "metadata": {},
     "output_type": "display_data"
    }
   ],
   "source": [
    "include(\"s3.jl\")\n",
    "\n",
    "function Entropy_t_z2(L::Int, T::Float64, dt::Float64, p::Float64, shot::Int) \n",
    "    Random.seed!(shot)  # Set random seed\n",
    "    #s_t = random_product_state(L)\n",
    "    s_t = spin1_state(L)  # superposition over all Sz sectors\n",
    "    S_list = Float64[]\n",
    "    Q_qnv_list = Float64[]\n",
    "\n",
    "    Q2_op = total_Sz2(L) * total_Sz2(L)\n",
    "    Q_op = total_Sz2(L)\n",
    "\n",
    "    # Define Hamiltonian and local observables\n",
    "    _, _, _, _, _, sz2l, _ = Hamiltonian(L)\n",
    "\n",
    "    steps = Int(floor(T / dt))\n",
    "\n",
    "    for _ in 1:steps\n",
    "        push!(S_list, entropy_vn(s_t, L, 1:L÷2)) ## Half-chain entropy\n",
    "        push!(Q_qnv_list, real(s_t' * Q2_op * s_t) - real(s_t' * Q_op * s_t)^2) ## Quantum number variance in a trajectory\n",
    "        #push!(S_list, tmi(s_t))\n",
    "\n",
    "        # Time evolution\n",
    "        s_t = time_evolution(s_t, dt, L, shot)\n",
    "        #s_t /= norm(s_t)\n",
    "\n",
    "        # Measurements\n",
    "        if p != 0\n",
    "            for l in 1:L\n",
    "                x = rand()\n",
    "                if x < p\n",
    "                    p_m_zero = real(s_t' * (sz2l[l]) * s_t)\n",
    "                    x1 = rand()\n",
    "                    if x1 < p_m_zero\n",
    "                        s_t = (sz2l[l] * s_t) / sqrt(p_m_zero)\n",
    "                    else\n",
    "                        s_t = (s_t - sz2l[l] * s_t) / sqrt(1 - p_m_zero)\n",
    "                    end\n",
    "                end\n",
    "            end\n",
    "        end\n",
    "    end\n",
    "\n",
    "    #\"\"\"\n",
    "    # Save result to disk\n",
    "    filename = \"L$(L),T$(T),dt$(dt),p$(p),dirZ2,s$(shot)_hc.npy\" ## half-chain entropy\n",
    "    npzwrite(filename, S_list)\n",
    "    filenameq = \"L$(L),T$(T),dt$(dt),p$(p),dirZ,s$(shot)_qnv.npy\" ## QNV variance\n",
    "    npzwrite(filenameq, Q_qnv_list)\n",
    "\n",
    "    \"\"\"\n",
    "    folder = \"/Users/uditvarma/Documents/s3_data/data_hc\"\n",
    "    folderq = \"/Users/uditvarma/Documents/s3_data/data_qnv\"\n",
    "    filename = joinpath(folder, \"L$(L),T$(T),dt$(dt),p$(p),dirZ2,s$(shot)_hc.npy\")\n",
    "    filenameq = joinpath(folderq, \"L$(L),T$(T),dt$(dt),p$(p),dirZ2,s$(shot)_qnv.npy\")\n",
    "    npzwrite(filename, S_list)\n",
    "    npzwrite(filenameq, Q_qnv_list)\n",
    "    #\"\"\"\n",
    "    \n",
    "    return Q_qnv_list\n",
    "end"
   ]
  },
  {
   "cell_type": "code",
   "execution_count": 4,
   "id": "66c260b4",
   "metadata": {},
   "outputs": [
    {
     "name": "stderr",
     "output_type": "stream",
     "text": [
      "\u001b[32m\u001b[1m    Updating\u001b[22m\u001b[39m registry at `~/.julia/registries/General.toml`\n",
      "\u001b[32m\u001b[1m   Resolving\u001b[22m\u001b[39m package versions...\n",
      "\u001b[32m\u001b[1m   Installed\u001b[22m\u001b[39m BenchmarkTools ─ v1.6.0\n",
      "\u001b[32m\u001b[1m    Updating\u001b[22m\u001b[39m `~/.julia/environments/v1.11/Project.toml`\n",
      "  \u001b[90m[6e4b80f9] \u001b[39m\u001b[92m+ BenchmarkTools v1.6.0\u001b[39m\n",
      "\u001b[32m\u001b[1m    Updating\u001b[22m\u001b[39m `~/.julia/environments/v1.11/Manifest.toml`\n",
      "  \u001b[90m[6e4b80f9] \u001b[39m\u001b[92m+ BenchmarkTools v1.6.0\u001b[39m\n",
      "  \u001b[90m[9abbd945] \u001b[39m\u001b[92m+ Profile v1.11.0\u001b[39m\n",
      "\u001b[92m\u001b[1mPrecompiling\u001b[22m\u001b[39m project...\n",
      "   1063.3 ms\u001b[32m  ✓ \u001b[39mBenchmarkTools\n",
      "  1 dependency successfully precompiled in 2 seconds. 332 already precompiled.\n"
     ]
    }
   ],
   "source": [
    "import Pkg; Pkg.add(\"BenchmarkTools\")"
   ]
  },
  {
   "cell_type": "code",
   "execution_count": 5,
   "id": "a730f9ca",
   "metadata": {},
   "outputs": [],
   "source": [
    "using BenchmarkTools"
   ]
  },
  {
   "cell_type": "code",
   "execution_count": 7,
   "id": "4111924c",
   "metadata": {},
   "outputs": [
    {
     "name": "stdout",
     "output_type": "stream",
     "text": [
      "  134.012 s (565979576 allocations: 291.98 GiB)\n"
     ]
    },
    {
     "data": {
      "text/plain": [
       "100-element Vector{Float64}:\n",
       " 2.2222222222209\n",
       " 2.2222222222221646\n",
       " 2.222222222222179\n",
       " 2.2222222222221646\n",
       " 2.2222222222221006\n",
       " 2.222222222222129\n",
       " 2.2222222222220793\n",
       " 2.222222222222129\n",
       " 2.222222222222129\n",
       " 2.222222222221987\n",
       " ⋮\n",
       " 2.2222222222192727\n",
       " 2.2222222222194574\n",
       " 2.222222222219365\n",
       " 2.222222222219308\n",
       " 2.2222222222192016\n",
       " 2.2222222222192016\n",
       " 2.2222222222192514\n",
       " 2.222222222219216\n",
       " 2.2222222222194574"
      ]
     },
     "metadata": {},
     "output_type": "display_data"
    }
   ],
   "source": [
    "@btime Entropy_t_z2(10, 100.0, 1.0, 0.0, 1234)"
   ]
  },
  {
   "cell_type": "code",
   "execution_count": 8,
   "id": "bf9e21b5",
   "metadata": {},
   "outputs": [
    {
     "name": "stdout",
     "output_type": "stream",
     "text": [
      "  12.293 s (49410132 allocations: 25.09 GiB)\n"
     ]
    },
    {
     "data": {
      "text/plain": [
       "80-element Vector{Float64}:\n",
       " 1.7777777777775086\n",
       " 1.7777777777778105\n",
       " 1.7777777777777928\n",
       " 1.7777777777776436\n",
       " 1.7777777777776826\n",
       " 1.7777777777776222\n",
       " 1.7777777777776471\n",
       " 1.7777777777775476\n",
       " 1.7777777777775654\n",
       " 1.7777777777774482\n",
       " ⋮\n",
       " 1.7777777777754231\n",
       " 1.7777777777753982\n",
       " 1.7777777777753947\n",
       " 1.7777777777753911\n",
       " 1.7777777777753414\n",
       " 1.7777777777753307\n",
       " 1.7777777777751993\n",
       " 1.7777777777752348\n",
       " 1.7777777777751211"
      ]
     },
     "metadata": {},
     "output_type": "display_data"
    }
   ],
   "source": [
    "@btime Entropy_t_z2(8, 80.0, 1.0, 0.0, 1234)"
   ]
  },
  {
   "cell_type": "code",
   "execution_count": 10,
   "id": "48cc94d0",
   "metadata": {},
   "outputs": [
    {
     "name": "stdout",
     "output_type": "stream",
     "text": [
      "  398.290 s (1699914509 allocations: 954.17 GiB)\n"
     ]
    },
    {
     "data": {
      "text/plain": [
       "100-element Vector{Float64}:\n",
       " 2.444444444461972\n",
       " 2.4444444444444144\n",
       " 2.444444444444443\n",
       " 2.4444444444446987\n",
       " 2.4444444444446134\n",
       " 2.4444444444442226\n",
       " 2.4444444444436115\n",
       " 2.4444444444449047\n",
       " 2.444444444444329\n",
       " 2.4444444444447626\n",
       " ⋮\n",
       " 2.444444444444578\n",
       " 2.444444444444791\n",
       " 2.444444444445338\n",
       " 2.4444444444450966\n",
       " 2.444444444445196\n",
       " 2.44444444444499\n",
       " 2.4444444444447555\n",
       " 2.444444444444855\n",
       " 2.4444444444451534"
      ]
     },
     "metadata": {},
     "output_type": "display_data"
    }
   ],
   "source": [
    "@btime Entropy_t_z2(11, 100.0, 1.0, 0.0, 1234)"
   ]
  },
  {
   "cell_type": "code",
   "execution_count": 11,
   "id": "32b30c43",
   "metadata": {},
   "outputs": [
    {
     "name": "stdout",
     "output_type": "stream",
     "text": [
      "Hello, World!\n"
     ]
    }
   ],
   "source": [
    "println(\"Hello, World!\")"
   ]
  },
  {
   "cell_type": "code",
   "execution_count": 14,
   "id": "85f62d40",
   "metadata": {},
   "outputs": [
    {
     "data": {
      "text/plain": [
       "80-element Vector{Float64}:\n",
       " 1.7777777777775086\n",
       " 1.7777777777779313\n",
       " 1.7777777777779313\n",
       " 1.7777777777779562\n",
       " 1.7777777777780095\n",
       " 1.7777777777778887\n",
       " 1.7777777777779598\n",
       " 1.7777777777778248\n",
       " 1.7777777777779882\n",
       " 1.7777777777779384\n",
       " ⋮\n",
       " 1.7777777777780202\n",
       " 1.7777777777780024\n",
       " 1.7777777777780024\n",
       " 1.7777777777780308\n",
       " 1.7777777777779455\n",
       " 1.777777777778045\n",
       " 1.7777777777780237\n",
       " 1.7777777777779598\n",
       " 1.7777777777780095"
      ]
     },
     "metadata": {},
     "output_type": "display_data"
    }
   ],
   "source": [
    "Entropy_t_z2(8, 80.0, 1.0, 0.0, 1234)"
   ]
  },
  {
   "cell_type": "code",
   "execution_count": 1,
   "id": "8e83d68a",
   "metadata": {},
   "outputs": [
    {
     "name": "stdout",
     "output_type": "stream",
     "text": [
      "\u001b[32m\u001b[1mStatus\u001b[22m\u001b[39m `~/.julia/environments/v1.11/Project.toml`\n",
      "  \u001b[90m[7d9fca2a] \u001b[39mArpack v0.5.4\n",
      "  \u001b[90m[6e4b80f9] \u001b[39mBenchmarkTools v1.6.0\n",
      "  \u001b[90m[8bb1440f] \u001b[39mDelimitedFiles v1.9.1\n",
      "  \u001b[90m[31c24e10] \u001b[39mDistributions v0.25.120\n",
      "  \u001b[90m[a3781d3e] \u001b[39mExpmV v0.1.2\n",
      "  \u001b[90m[d4d017d3] \u001b[39mExponentialUtilities v1.27.0\n",
      "  \u001b[90m[c27321d9] \u001b[39mGlob v1.3.1\n",
      "  \u001b[90m[f67ccb44] \u001b[39mHDF5 v0.17.2\n",
      "\u001b[32m⌃\u001b[39m \u001b[90m[7073ff75] \u001b[39mIJulia v1.29.0\n",
      "\u001b[32m⌃\u001b[39m \u001b[90m[0d1a4710] \u001b[39mITensorMPS v0.3.19\n",
      "  \u001b[90m[9136182c] \u001b[39mITensors v0.9.9\n",
      "\u001b[32m⌃\u001b[39m \u001b[90m[0b1a1467] \u001b[39mKrylovKit v0.9.5\n",
      "  \u001b[90m[b964fa9f] \u001b[39mLaTeXStrings v1.4.0\n",
      "  \u001b[90m[15e1cf62] \u001b[39mNPZ v0.4.3\n",
      "\u001b[32m⌃\u001b[39m \u001b[90m[91a5bcdd] \u001b[39mPlots v1.40.16\n",
      "  \u001b[90m[276daf66] \u001b[39mSpecialFunctions v2.5.1\n",
      "  \u001b[90m[10745b16] \u001b[39mStatistics v1.11.1\n",
      "  \u001b[90m[2913bbd2] \u001b[39mStatsBase v0.34.6\n",
      "  \u001b[90m[ade2ca70] \u001b[39mDates v1.11.0\n",
      "  \u001b[90m[8ba89e20] \u001b[39mDistributed v1.11.0\n",
      "  \u001b[90m[37e2e46d] \u001b[39mLinearAlgebra v1.11.0\n",
      "  \u001b[90m[9a3f8284] \u001b[39mRandom v1.11.0\n",
      "  \u001b[90m[2f01184e] \u001b[39mSparseArrays v1.11.0\n",
      "\u001b[36m\u001b[1mInfo\u001b[22m\u001b[39m Packages marked with \u001b[32m⌃\u001b[39m have new versions available and may be upgradable.\n"
     ]
    }
   ],
   "source": [
    "using Pkg\n",
    "Pkg.status()"
   ]
  },
  {
   "cell_type": "code",
   "execution_count": 1,
   "id": "bc6b9157",
   "metadata": {},
   "outputs": [],
   "source": [
    "using Distributed\n",
    "using NPZ, SparseArrays, LinearAlgebra, Random, ExpmV\n",
    "using Base.Threads\n",
    "\n",
    "# ----------------------------\n",
    "# Launch workers\n",
    "# ----------------------------\n",
    "if nprocs() == 1\n",
    "    addprocs()  # add all available cores by default\n",
    "end\n",
    "\n",
    "@everywhere begin\n",
    "    using NPZ, SparseArrays, LinearAlgebra, Random, ExpmV\n",
    "    using Base.Threads\n",
    "    include(\"s3_eff.jl\")  # your Entropy_t_z2 function\n",
    "end\n",
    "\n",
    "# ----------------------------\n",
    "# Parameters\n",
    "# ----------------------------\n",
    "L_list = [8, 9]\n",
    "dt_list = [1.0]\n",
    "p_list = 0.0:0.1:1.0\n",
    "num_shots = 50\n",
    "\n",
    "# ----------------------------\n",
    "# Worker function: threaded execution\n",
    "# ----------------------------\n",
    "@everywhere function run_shot_batch_threads(L, T, dt, p, shot_batch)\n",
    "    # Pre-build Hamiltonians once per worker\n",
    "    Ha, Hd, He, sz2l, _ = Hamiltonian(L)\n",
    "    H = copy(Ha)\n",
    "\n",
    "    # Threads over shots\n",
    "    @threads for idx in 1:length(shot_batch)\n",
    "        shot = shot_batch[idx]\n",
    "        Entropy_t_z2(L, T, dt, p, shot)\n",
    "    end\n",
    "end\n",
    "\n",
    "# ----------------------------\n",
    "# Main distributed loop\n",
    "# ----------------------------\n",
    "for L in L_list\n",
    "    T = 10.0 * L\n",
    "    for dt in dt_list\n",
    "        for p in p_list\n",
    "            shots = 1:num_shots\n",
    "            num_workers = nprocs()\n",
    "            \n",
    "            # Split shots into round-robin chunks for workers\n",
    "            chunks = [shots[i:num_workers:end] for i in 1:num_workers]\n",
    "\n",
    "            @sync for (i, shot_chunk) in enumerate(chunks)\n",
    "                # Each worker uses all threads to process its chunk\n",
    "                @async remotecall_wait(run_shot_batch_threads, i, L, T, dt, p, shot_chunk)\n",
    "            end\n",
    "        end\n",
    "    end\n",
    "end"
   ]
  },
  {
   "cell_type": "code",
   "execution_count": 3,
   "id": "f6d1e803",
   "metadata": {},
   "outputs": [
    {
     "data": {
      "text/plain": [
       "total_Sz2 (generic function with 1 method)"
      ]
     },
     "metadata": {},
     "output_type": "display_data"
    }
   ],
   "source": [
    "include(\"s3.jl\")"
   ]
  },
  {
   "cell_type": "code",
   "execution_count": 4,
   "id": "2a2e990f",
   "metadata": {},
   "outputs": [],
   "source": [
    "for L in [5, 6]\n",
    "    for T in [60.0]\n",
    "        for dt in [1.0]\n",
    "            for p in [0.3]\n",
    "                for shot in 1:50\n",
    "                    Entropy_t_z2(L, T, dt, p, shot)\n",
    "                end\n",
    "            end\n",
    "        end\n",
    "    end\n",
    "end"
   ]
  },
  {
   "cell_type": "markdown",
   "id": "e7a85cf1",
   "metadata": {},
   "source": [
    "New code trial"
   ]
  },
  {
   "cell_type": "code",
   "execution_count": 1,
   "id": "1b9f28d1",
   "metadata": {},
   "outputs": [
    {
     "data": {
      "text/plain": [
       "Entropy_t_z2"
      ]
     },
     "metadata": {},
     "output_type": "display_data"
    }
   ],
   "source": [
    "include(\"s3_new.jl\")"
   ]
  },
  {
   "cell_type": "code",
   "execution_count": 2,
   "id": "f05f1750",
   "metadata": {},
   "outputs": [
    {
     "data": {
      "text/plain": [
       "243-element Vector{ComplexF64}:\n",
       " 0.06415002990995841 + 0.0im\n",
       " 0.06415002990995841 + 0.0im\n",
       " 0.06415002990995841 + 0.0im\n",
       " 0.06415002990995841 + 0.0im\n",
       " 0.06415002990995841 + 0.0im\n",
       " 0.06415002990995841 + 0.0im\n",
       " 0.06415002990995841 + 0.0im\n",
       " 0.06415002990995841 + 0.0im\n",
       " 0.06415002990995841 + 0.0im\n",
       " 0.06415002990995841 + 0.0im\n",
       "                     ⋮\n",
       " 0.06415002990995841 + 0.0im\n",
       " 0.06415002990995841 + 0.0im\n",
       " 0.06415002990995841 + 0.0im\n",
       " 0.06415002990995841 + 0.0im\n",
       " 0.06415002990995841 + 0.0im\n",
       " 0.06415002990995841 + 0.0im\n",
       " 0.06415002990995841 + 0.0im\n",
       " 0.06415002990995841 + 0.0im\n",
       " 0.06415002990995841 + 0.0im"
      ]
     },
     "metadata": {},
     "output_type": "display_data"
    }
   ],
   "source": [
    "spin1_state(5)"
   ]
  },
  {
   "cell_type": "code",
   "execution_count": 2,
   "id": "444ca972",
   "metadata": {},
   "outputs": [
    {
     "data": {
      "text/plain": [
       "(sparse([7, 4375, 4378, 3, 19, 20, 21, 4381, 16, 4384  …  2178, 6546, 2181, 6541, 6542, 6543, 6559, 2184, 2187, 6555], [3, 3, 6, 7, 7, 8, 9, 9, 12, 12  …  6550, 6550, 6553, 6553, 6554, 6555, 6555, 6556, 6559, 6559], ComplexF64[1.9999999999999982 + 0.0im, 1.9999999999999982 + 0.0im, 1.9999999999999982 + 0.0im, 1.9999999999999982 + 0.0im, 1.9999999999999982 + 0.0im, 1.9999999999999982 + 0.0im, 1.9999999999999982 + 0.0im, 1.9999999999999982 + 0.0im, 1.9999999999999982 + 0.0im, 1.9999999999999982 + 0.0im  …  1.9999999999999982 + 0.0im, 1.9999999999999982 + 0.0im, 1.9999999999999982 + 0.0im, 1.9999999999999982 + 0.0im, 1.9999999999999982 + 0.0im, 1.9999999999999982 + 0.0im, 1.9999999999999982 + 0.0im, 1.9999999999999982 + 0.0im, 1.9999999999999982 + 0.0im, 1.9999999999999982 + 0.0im], 6561, 6561), sparse([5, 2189, 3, 7, 2192, 5, 13, 14, 15, 2195  …  4367, 6547, 6548, 6549, 6557, 4370, 6555, 6559, 4373, 6557], [3, 3, 5, 5, 6, 7, 7, 8, 9, 9  …  6553, 6553, 6554, 6555, 6555, 6556, 6557, 6557, 6559, 6559], ComplexF64[-0.9999999999999996 + 0.0im, -0.9999999999999996 + 0.0im, -0.9999999999999996 + 0.0im, -0.9999999999999996 + 0.0im, -0.9999999999999996 + 0.0im, -0.9999999999999996 + 0.0im, -0.9999999999999996 + 0.0im, -0.9999999999999996 + 0.0im, -0.9999999999999996 + 0.0im, -0.9999999999999996 + 0.0im  …  -0.9999999999999996 + 0.0im, -0.9999999999999996 + 0.0im, -0.9999999999999996 + 0.0im, -0.9999999999999996 + 0.0im, -0.9999999999999996 + 0.0im, -0.9999999999999996 + 0.0im, -0.9999999999999996 + 0.0im, -0.9999999999999996 + 0.0im, -0.9999999999999996 + 0.0im, -0.9999999999999996 + 0.0im], 6561, 6561), sparse([8, 22, 64, 190, 568, 1702, 2190, 5104, 9, 23  …  6539, 6553, 1458, 4372, 4860, 5994, 6372, 6498, 6540, 6554], [1, 1, 1, 1, 1, 1, 1, 1, 2, 2  …  6560, 6560, 6561, 6561, 6561, 6561, 6561, 6561, 6561, 6561], ComplexF64[0.9999999999999993 + 0.0im, 0.9999999999999993 + 0.0im, 0.9999999999999993 + 0.0im, 0.9999999999999993 + 0.0im, 0.9999999999999993 + 0.0im, 0.9999999999999993 + 0.0im, 0.9999999999999993 + 0.0im, 0.9999999999999993 + 0.0im, -0.9999999999999993 + 0.0im, 0.9999999999999993 + 0.0im  …  -0.9999999999999993 + 0.0im, 0.9999999999999993 + 0.0im, -0.9999999999999993 + 0.0im, -0.9999999999999993 + 0.0im, -0.9999999999999993 + 0.0im, -0.9999999999999993 + 0.0im, -0.9999999999999993 + 0.0im, -0.9999999999999993 + 0.0im, -0.9999999999999993 + 0.0im, -0.9999999999999993 + 0.0im], 6561, 6561), sparse([19, 1459, 22, 1462, 55, 4375, 56, 4376, 25, 57  …  6505, 6537, 2186, 6506, 2187, 6507, 5100, 6540, 5103, 6543], [3, 3, 6, 6, 7, 7, 8, 8, 9, 9  …  6553, 6553, 6554, 6554, 6555, 6555, 6556, 6556, 6559, 6559], ComplexF64[1.9999999999999982 + 0.0im, 1.9999999999999982 + 0.0im, 1.9999999999999982 + 0.0im, 1.9999999999999982 + 0.0im, 1.9999999999999982 + 0.0im, 1.9999999999999982 + 0.0im, 1.9999999999999982 + 0.0im, 1.9999999999999982 + 0.0im, 1.9999999999999982 + 0.0im, 1.9999999999999982 + 0.0im  …  1.9999999999999982 + 0.0im, 1.9999999999999982 + 0.0im, 1.9999999999999982 + 0.0im, 1.9999999999999982 + 0.0im, 1.9999999999999982 + 0.0im, 1.9999999999999982 + 0.0im, 1.9999999999999982 + 0.0im, 1.9999999999999982 + 0.0im, 1.9999999999999982 + 0.0im, 1.9999999999999982 + 0.0im], 6561, 6561), sparse([1, 2, 3, 4, 5, 6, 7, 8, 9, 10  …  6552, 6553, 6554, 6555, 6556, 6557, 6558, 6559, 6560, 6561], [1, 2, 3, 4, 5, 6, 7, 8, 9, 10  …  6552, 6553, 6554, 6555, 6556, 6557, 6558, 6559, 6560, 6561], ComplexF64[8.0 + 0.0im, 6.0 + 0.0im, 4.0 + 0.0im, 6.0 + 0.0im, 5.0 + 0.0im, 4.0 + 0.0im, 4.0 + 0.0im, 4.0 + 0.0im, 4.0 + 0.0im, 6.0 + 0.0im  …  6.0 + 0.0im, 4.0 + 0.0im, 4.0 + 0.0im, 4.0 + 0.0im, 4.0 + 0.0im, 5.0 + 0.0im, 6.0 + 0.0im, 4.0 + 0.0im, 6.0 + 0.0im, 8.0 + 0.0im], 6561, 6561))"
      ]
     },
     "metadata": {},
     "output_type": "display_data"
    }
   ],
   "source": [
    "Ha, Hb, Hc, Hd, He = Hamiltoniann(8)"
   ]
  },
  {
   "cell_type": "code",
   "execution_count": 5,
   "id": "5ae787b2",
   "metadata": {},
   "outputs": [
    {
     "data": {
      "text/plain": [
       "6561-element Vector{Float64}:\n",
       " -10.452503719010982\n",
       "  -9.656854249492413\n",
       "  -9.656854249492376\n",
       "  -8.054678984251733\n",
       "  -8.05467898425173\n",
       "  -8.054678984251712\n",
       "  -8.05467898425171\n",
       "  -8.05467898425171\n",
       "  -8.054678984251701\n",
       "  -8.054678984251696\n",
       "   ⋮\n",
       "   8.054678984251701\n",
       "   8.054678984251703\n",
       "   8.05467898425171\n",
       "   8.054678984251712\n",
       "   8.054678984251717\n",
       "   8.054678984251723\n",
       "   9.656854249492346\n",
       "   9.656854249492396\n",
       "  10.452503719010998"
      ]
     },
     "metadata": {},
     "output_type": "display_data"
    }
   ],
   "source": [
    "using LinearAlgebra, SparseArrays\n",
    "\n",
    "A_dense = Matrix(Ha)        # convert sparse to dense\n",
    "vals = eigvals(A_dense)"
   ]
  },
  {
   "cell_type": "code",
   "execution_count": 1,
   "id": "fc977d82",
   "metadata": {},
   "outputs": [
    {
     "data": {
      "text/plain": [
       "total_Sz2 (generic function with 1 method)"
      ]
     },
     "metadata": {},
     "output_type": "display_data"
    }
   ],
   "source": [
    "include(\"s3.jl\")"
   ]
  },
  {
   "cell_type": "code",
   "execution_count": 2,
   "id": "83b2d199",
   "metadata": {},
   "outputs": [],
   "source": [
    "for L in [5, 6]\n",
    "    for T in [60.0]\n",
    "        for dt in [1.0]\n",
    "            for p in [0.3]\n",
    "                for shot in 1:50\n",
    "                    Entropy_t_z2(L, T, dt, p, shot)\n",
    "                end\n",
    "            end\n",
    "        end\n",
    "    end\n",
    "end"
   ]
  },
  {
   "cell_type": "code",
   "execution_count": 3,
   "id": "4c87d041",
   "metadata": {},
   "outputs": [
    {
     "data": {
      "text/plain": [
       "Entropy_t_z2"
      ]
     },
     "metadata": {},
     "output_type": "display_data"
    }
   ],
   "source": [
    "include(\"s3_new.jl\")"
   ]
  },
  {
   "cell_type": "code",
   "execution_count": 4,
   "id": "364ec9ac",
   "metadata": {},
   "outputs": [
    {
     "name": "stdout",
     "output_type": "stream",
     "text": [
      "m\n"
     ]
    },
    {
     "data": {
      "text/plain": [
       "70-element Vector{Float64}:\n",
       " -42.0\n",
       " -41.99999999999996\n",
       " -42.0\n",
       " -42.000000000000014\n",
       " -42.0\n",
       " -42.00000000000003\n",
       " -42.000000000000014\n",
       " -42.00000000000003\n",
       " -41.999999999999986\n",
       " -41.99999999999998\n",
       "   ⋮\n",
       " -42.0\n",
       " -42.00000000000003\n",
       " -41.99999999999998\n",
       " -42.0\n",
       " -42.000000000000014\n",
       " -42.0\n",
       " -41.999999999999986\n",
       " -41.99999999999998\n",
       " -41.999999999999986"
      ]
     },
     "metadata": {},
     "output_type": "display_data"
    }
   ],
   "source": [
    "Entropy_t_z2(7, 70.0, 1.0, 0.0, 1234)"
   ]
  },
  {
   "cell_type": "code",
   "execution_count": 1,
   "id": "8d318ff0",
   "metadata": {},
   "outputs": [
    {
     "data": {
      "text/plain": [
       "total_Sz2 (generic function with 1 method)"
      ]
     },
     "metadata": {},
     "output_type": "display_data"
    }
   ],
   "source": [
    "include(\"s3.jl\")"
   ]
  },
  {
   "cell_type": "code",
   "execution_count": 2,
   "id": "2886567b",
   "metadata": {},
   "outputs": [
    {
     "name": "stdout",
     "output_type": "stream",
     "text": [
      "n\n"
     ]
    },
    {
     "data": {
      "text/plain": [
       "70-element Vector{Float64}:\n",
       "  0.0\n",
       "  2.842170943040401e-14\n",
       " -1.4210854715202004e-14\n",
       " -1.4210854715202004e-14\n",
       "  7.105427357601002e-15\n",
       "  0.0\n",
       "  1.4210854715202004e-14\n",
       " -1.4210854715202004e-14\n",
       "  7.105427357601002e-15\n",
       "  0.0\n",
       "  ⋮\n",
       " -7.105427357601002e-15\n",
       "  1.4210854715202004e-14\n",
       " -2.1316282072803006e-14\n",
       "  7.105427357601002e-15\n",
       " -7.105427357601002e-15\n",
       "  1.4210854715202004e-14\n",
       " -2.1316282072803006e-14\n",
       " -1.4210854715202004e-14\n",
       "  1.4210854715202004e-14"
      ]
     },
     "metadata": {},
     "output_type": "display_data"
    }
   ],
   "source": [
    "Entropy_t_z2(7, 70.0, 1.0, 0.0, 1234)"
   ]
  },
  {
   "cell_type": "code",
   "execution_count": null,
   "id": "75ab77eb",
   "metadata": {},
   "outputs": [],
   "source": []
  }
 ],
 "metadata": {
  "kernelspec": {
   "display_name": "Julia 1.11.5",
   "language": "julia",
   "name": "julia-1.11"
  },
  "language_info": {
   "file_extension": ".jl",
   "mimetype": "application/julia",
   "name": "julia",
   "version": "1.11.5"
  }
 },
 "nbformat": 4,
 "nbformat_minor": 5
}
