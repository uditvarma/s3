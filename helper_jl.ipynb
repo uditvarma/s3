{
 "cells": [
  {
   "cell_type": "code",
   "execution_count": 103,
   "id": "6d1a5567",
   "metadata": {},
   "outputs": [
    {
     "name": "stderr",
     "output_type": "stream",
     "text": [
      "\u001b[32m\u001b[1m   Resolving\u001b[22m\u001b[39m package versions...\n",
      "\u001b[32m\u001b[1m  No Changes\u001b[22m\u001b[39m to `~/.julia/environments/v1.11/Project.toml`\n",
      "\u001b[32m\u001b[1m  No Changes\u001b[22m\u001b[39m to `~/.julia/environments/v1.11/Manifest.toml`\n",
      "\u001b[32m\u001b[1m   Resolving\u001b[22m\u001b[39m package versions...\n",
      "\u001b[32m\u001b[1m  No Changes\u001b[22m\u001b[39m to `~/.julia/environments/v1.11/Project.toml`\n",
      "\u001b[32m\u001b[1m  No Changes\u001b[22m\u001b[39m to `~/.julia/environments/v1.11/Manifest.toml`\n",
      "\u001b[32m\u001b[1m   Resolving\u001b[22m\u001b[39m package versions...\n",
      "\u001b[32m\u001b[1m  No Changes\u001b[22m\u001b[39m to `~/.julia/environments/v1.11/Project.toml`\n",
      "\u001b[32m\u001b[1m  No Changes\u001b[22m\u001b[39m to `~/.julia/environments/v1.11/Manifest.toml`\n",
      "\u001b[32m\u001b[1m   Resolving\u001b[22m\u001b[39m package versions...\n",
      "\u001b[32m\u001b[1m  No Changes\u001b[22m\u001b[39m to `~/.julia/environments/v1.11/Project.toml`\n",
      "\u001b[32m\u001b[1m  No Changes\u001b[22m\u001b[39m to `~/.julia/environments/v1.11/Manifest.toml`\n",
      "\u001b[32m\u001b[1m   Resolving\u001b[22m\u001b[39m package versions...\n",
      "\u001b[32m\u001b[1m  No Changes\u001b[22m\u001b[39m to `~/.julia/environments/v1.11/Project.toml`\n",
      "\u001b[32m\u001b[1m  No Changes\u001b[22m\u001b[39m to `~/.julia/environments/v1.11/Manifest.toml`\n",
      "\u001b[32m\u001b[1m   Resolving\u001b[22m\u001b[39m package versions...\n",
      "\u001b[32m\u001b[1m  No Changes\u001b[22m\u001b[39m to `~/.julia/environments/v1.11/Project.toml`\n",
      "\u001b[32m\u001b[1m  No Changes\u001b[22m\u001b[39m to `~/.julia/environments/v1.11/Manifest.toml`\n",
      "\u001b[32m\u001b[1m   Resolving\u001b[22m\u001b[39m package versions...\n",
      "\u001b[32m\u001b[1m  No Changes\u001b[22m\u001b[39m to `~/.julia/environments/v1.11/Project.toml`\n",
      "\u001b[32m\u001b[1m  No Changes\u001b[22m\u001b[39m to `~/.julia/environments/v1.11/Manifest.toml`\n",
      "\u001b[32m\u001b[1m   Resolving\u001b[22m\u001b[39m package versions...\n",
      "\u001b[32m\u001b[1m  No Changes\u001b[22m\u001b[39m to `~/.julia/environments/v1.11/Project.toml`\n",
      "\u001b[32m\u001b[1m  No Changes\u001b[22m\u001b[39m to `~/.julia/environments/v1.11/Manifest.toml`\n",
      "\u001b[32m\u001b[1m   Resolving\u001b[22m\u001b[39m package versions...\n",
      "\u001b[32m\u001b[1m   Installed\u001b[22m\u001b[39m ExpmV ─ v0.1.2\n",
      "\u001b[32m\u001b[1m    Updating\u001b[22m\u001b[39m `~/.julia/environments/v1.11/Project.toml`\n",
      "  \u001b[90m[a3781d3e] \u001b[39m\u001b[92m+ ExpmV v0.1.2\u001b[39m\n",
      "\u001b[32m\u001b[1m    Updating\u001b[22m\u001b[39m `~/.julia/environments/v1.11/Manifest.toml`\n",
      "  \u001b[90m[a3781d3e] \u001b[39m\u001b[92m+ ExpmV v0.1.2\u001b[39m\n",
      "\u001b[92m\u001b[1mPrecompiling\u001b[22m\u001b[39m project...\n",
      "   1041.8 ms\u001b[32m  ✓ \u001b[39mExpmV\n",
      "  1 dependency successfully precompiled in 1 seconds. 209 already precompiled.\n"
     ]
    }
   ],
   "source": [
    "import Pkg\n",
    "\n",
    "Pkg.add(\"SparseArrays\")\n",
    "Pkg.add(\"LinearAlgebra\")\n",
    "Pkg.add(\"SpecialFunctions\")\n",
    "Pkg.add(\"Arpack\")   \n",
    "Pkg.add(\"DelimitedFiles\")\n",
    "Pkg.add(\"NPZ\")\n",
    "Pkg.add(\"Random\")\n",
    "Pkg.add(\"Statistics\")\n",
    "Pkg.add(\"ExpmV\")"
   ]
  },
  {
   "cell_type": "code",
   "execution_count": 1,
   "id": "b58ea1d1",
   "metadata": {},
   "outputs": [],
   "source": [
    "using SparseArrays\n",
    "using LinearAlgebra\n",
    "using SpecialFunctions  # for besselj\n",
    "using Arpack  # for eigs on sparse matrices\n",
    "using Statistics\n",
    "using Random\n",
    "using DelimitedFiles\n",
    "using NPZ\n",
    "using ExpmV\n"
   ]
  },
  {
   "cell_type": "code",
   "execution_count": 15,
   "id": "3cf74d9c",
   "metadata": {},
   "outputs": [
    {
     "data": {
      "text/plain": [
       "von_neumann_entropy (generic function with 1 method)"
      ]
     },
     "metadata": {},
     "output_type": "display_data"
    }
   ],
   "source": [
    "function von_neumann_entropy(ψ::Vector{<:Complex}, cut::Int, L::Int)\n",
    "    dimA = 3^cut\n",
    "    dimB = 3^(L - cut)\n",
    "    ψ_matrix = reshape(ψ, (dimA, dimB))\n",
    "    svals = svdvals(ψ_matrix)\n",
    "    S = 0.0\n",
    "    for s in svals\n",
    "        p = abs2(s)\n",
    "        if p > 0 && p > 1e-15\n",
    "            S -= p * log(p)\n",
    "        end\n",
    "    end\n",
    "    return S\n",
    "end"
   ]
  },
  {
   "cell_type": "code",
   "execution_count": 2,
   "id": "7d50f7a8",
   "metadata": {},
   "outputs": [
    {
     "data": {
      "text/plain": [
       "random_product_state (generic function with 1 method)"
      ]
     },
     "metadata": {},
     "output_type": "display_data"
    }
   ],
   "source": [
    "using LinearAlgebra\n",
    "using Random\n",
    "\n",
    "function random_product_state(L::Int)\n",
    "    product_state = nothing\n",
    "\n",
    "    for i in 1:L\n",
    "        θ1 = rand() * π\n",
    "        θ2 = rand() * π\n",
    "        ϕ1 = rand() * 2π\n",
    "        ϕ2 = rand() * 2π\n",
    "\n",
    "        c1 = cos(θ1 / 2)\n",
    "        c2 = exp(im * ϕ1) * sin(θ1 / 2) * sin(θ2 / 2)\n",
    "        c3 = exp(im * ϕ2) * sin(θ1 / 2) * cos(θ2 / 2)\n",
    "\n",
    "        temp_state = [c1, c2, c3]\n",
    "\n",
    "        if i == 1\n",
    "            product_state = temp_state\n",
    "        else\n",
    "            product_state = kron(product_state, temp_state)\n",
    "        end\n",
    "    end\n",
    "\n",
    "    # Normalize the state\n",
    "    product_state /= norm(product_state)\n",
    "\n",
    "    return product_state\n",
    "end"
   ]
  },
  {
   "cell_type": "code",
   "execution_count": 3,
   "id": "f85e509d",
   "metadata": {},
   "outputs": [
    {
     "data": {
      "text/plain": [
       "Hamiltonian (generic function with 1 method)"
      ]
     },
     "metadata": {},
     "output_type": "display_data"
    }
   ],
   "source": [
    "function Hamiltonian(L)\n",
    "    # Define Pauli matrices as complex sparse matrices\n",
    "    id = sparse(ComplexF64[1 0 0; 0 1 0; 0 0 1])\n",
    "    sx = 1/sqrt(2) * sparse(ComplexF64[0 1 0; 1 0 1; 0 1 0])\n",
    "    sy = 1/sqrt(2) * sparse(ComplexF64[0 -im 0; im 0 -im; 0 im 0])\n",
    "    sz = sparse(ComplexF64[1 0 0; 0 0 0; 0 0 -1])\n",
    "\n",
    "    sp = 1/sqrt(2) * (sx + im * sy)\n",
    "    sm = 1/sqrt(2) * (sx - im * sy)\n",
    "\n",
    "    # Preallocate vectors of operators with correct type\n",
    "    #sx_list = Vector{SparseMatrixCSC{ComplexF64, Int}}(undef, L)\n",
    "    #sy_list = Vector{SparseMatrixCSC{ComplexF64, Int}}(undef, L)\n",
    "    szl = Vector{SparseMatrixCSC{ComplexF64, Int}}(undef, L) # List of sz operators\n",
    "    sz2l = Vector{SparseMatrixCSC{ComplexF64, Int}}(undef, L) # List of sz² operators\n",
    "    spl = Vector{SparseMatrixCSC{ComplexF64, Int}}(undef, L) # List of sp operators\n",
    "    sml = Vector{SparseMatrixCSC{ComplexF64, Int}}(undef, L) # List of sm operators\n",
    "\n",
    "    for i_site in 1:L\n",
    "        p_ops = fill(id, L)\n",
    "        m_ops = fill(id, L)\n",
    "        z_ops = fill(id, L)\n",
    "        z2_ops = fill(id, L)\n",
    "        p_ops[i_site] = sp\n",
    "        m_ops[i_site] = sm\n",
    "        z_ops[i_site] = sz\n",
    "        z2_ops[i_site] = sz^2\n",
    "\n",
    "        # Build the full operator by tensoring\n",
    "        P = p_ops[1]\n",
    "        M = m_ops[1]\n",
    "        Z = z_ops[1]\n",
    "        Z2 = z2_ops[1]\n",
    "        for j in 2:L\n",
    "            P = kron(P, p_ops[j])\n",
    "            M = kron(M, m_ops[j])\n",
    "            Z = kron(Z, z_ops[j])\n",
    "            Z2 = kron(Z2, z2_ops[j])\n",
    "        end\n",
    "\n",
    "        spl[i_site] = P\n",
    "        sml[i_site] = M\n",
    "        szl[i_site] = Z\n",
    "        sz2l[i_site] = Z2\n",
    "    end\n",
    "\n",
    "    dim = 3^L\n",
    "    H = spzeros(ComplexF64, dim, dim)\n",
    "\n",
    "    for i in 1:L\n",
    "        ip = (i % L) + 1  # Periodic boundary\n",
    "        H += ((spl[i]^2 * sml[ip]^2 + sml[i]^2 * spl[ip]^2) + adjoint((spl[i]^2 * sml[ip]^2 + sml[i]^2 * spl[ip]^2)))\n",
    "    end\n",
    "\n",
    "    return H, sz2l, szl \n",
    "end"
   ]
  },
  {
   "cell_type": "code",
   "execution_count": 9,
   "id": "f9e0dcec",
   "metadata": {},
   "outputs": [
    {
     "data": {
      "text/plain": [
       "time_evolution (generic function with 2 methods)"
      ]
     },
     "metadata": {},
     "output_type": "display_data"
    }
   ],
   "source": [
    "using ExpmV\n",
    "\n",
    "function time_evolution(ψ::Vector{ComplexF64}, dt::Float64, L)\n",
    "    ψ /= norm(ψ)\n",
    "    H, _, _ = Hamiltonian(L)\n",
    "\n",
    "    # Apply exp(-im * H * dt) directly to ψ\n",
    "    ψ_new = expmv(-im * dt, H, ψ)\n",
    "\n",
    "    # Normalize the state\n",
    "    ψ_new /= norm(ψ_new)\n",
    "    \n",
    "    return ψ_new\n",
    "end\n"
   ]
  },
  {
   "cell_type": "code",
   "execution_count": 13,
   "id": "e45e1982",
   "metadata": {},
   "outputs": [
    {
     "data": {
      "text/plain": [
       "1594323-element Vector{ComplexF64}:\n",
       " 0.00010211281636507455 + 0.0im\n",
       " 0.00014462754422347353 - 9.828925909981198e-5im\n",
       "   2.517974403378482e-5 + 0.00013901381711005156im\n",
       "  -6.108665609653795e-6 - 2.2684426829458057e-5im\n",
       "  -3.048703309335731e-5 - 2.6249170505858126e-5im\n",
       "  1.9319637667610964e-5 + 1.882361850158519e-5im\n",
       "  0.0001442860175218071 + 8.194309501865544e-5im\n",
       "   7.537084379209119e-5 + 0.00013600630603939262im\n",
       "   2.211323841559173e-5 + 1.8445781046150038e-5im\n",
       "   3.963480338393452e-5 - 0.00023094932675959626im\n",
       "                        ⋮\n",
       "  1.3962767982762509e-5 + 4.661021821705555e-5im\n",
       " -1.0883567121762958e-6 - 2.667217316047589e-6im\n",
       "  6.8036975363093366e-6 - 1.5725861554589464e-5im\n",
       "   -1.44010842907291e-6 + 2.5289639872052303e-6im\n",
       "  -2.098830909549493e-7 - 1.8383752999378518e-7im\n",
       "  -3.849986979109804e-7 + 4.7345028693136696e-8im\n",
       "  -6.614358293957353e-6 - 7.433878439857039e-7im\n",
       "  -9.742358117427006e-7 + 1.0258558821418575e-6im\n",
       "  1.6131308557871078e-7 + 1.960248442356031e-6im"
      ]
     },
     "metadata": {},
     "output_type": "display_data"
    }
   ],
   "source": [
    "state = time_evolution(random_product_state(13), 1.0, 13)"
   ]
  },
  {
   "cell_type": "code",
   "execution_count": 16,
   "id": "221c204f",
   "metadata": {},
   "outputs": [
    {
     "data": {
      "text/plain": [
       "1.0376024678276465"
      ]
     },
     "metadata": {},
     "output_type": "display_data"
    }
   ],
   "source": [
    "von_neumann_entropy(state, 6, 13)"
   ]
  },
  {
   "cell_type": "code",
   "execution_count": null,
   "id": "bc6007e8",
   "metadata": {},
   "outputs": [
    {
     "data": {
      "text/plain": [
       "Entropy_t (generic function with 2 methods)"
      ]
     },
     "metadata": {},
     "output_type": "display_data"
    }
   ],
   "source": [
    "function Entropy_t(L::Int, T::Float64, dt::Float64, p::Float64, direction::String, shot::Int)\n",
    "    Random.seed!(shot)  # Set random seed\n",
    "    s_t = random_product_state(L)\n",
    "    S_list = Float64[]\n",
    "\n",
    "    # Define Hamiltonian and local observables\n",
    "    H, sz2l, szl = Hamiltonian(L)\n",
    "    \n",
    "    if direction == \"Z2\"\n",
    "        sm_list = sz2l\n",
    "    elseif direction == \"Z\"\n",
    "        sm_list = szl\n",
    "    else\n",
    "        error(\"Invalid direction: $direction. Choose \\\"Z2\\\" or \\\"Z\\\".\")\n",
    "    end\n",
    "\n",
    "\n",
    "    steps = Int(floor(T / dt))\n",
    "\n",
    "    for _ in 1:steps\n",
    "        push!(S_list, von_neumann_entropy(s_t, L÷2, L))\n",
    "        #push!(S_list, I3(s_t))\n",
    "\n",
    "        # Time evolution\n",
    "        s_t = time_evolution(s_t, dt)\n",
    "        s_t /= norm(s_t)\n",
    "\n",
    "        # Measurements\n",
    "        if p != 0\n",
    "            for l in 1:L\n",
    "                x = rand()\n",
    "                if x < p\n",
    "                    m_op = sm_list[l]\n",
    "                    p_m = real(s_t' * (m_op * s_t))\n",
    "                    if rand() < p_m\n",
    "                        s_t = (m_op * s_t) / sqrt(p_m)\n",
    "                    else\n",
    "                        s_t = (s_t - m_op * s_t) / sqrt(1 - p_m)\n",
    "                    end\n",
    "                end\n",
    "            end\n",
    "        end\n",
    "    end\n",
    "\n",
    "    # Save result to disk\n",
    "    filename = \"L$(L),T$(T),dt$(dt),p$(p),dir$(direction),s$(shot).npy\"\n",
    "    #npzwrite(filename, S_list)\n",
    "\n",
    "    return S_list\n",
    "end"
   ]
  },
  {
   "cell_type": "code",
   "execution_count": 43,
   "id": "615e719c",
   "metadata": {},
   "outputs": [
    {
     "data": {
      "text/plain": [
       "100-element Vector{Float64}:\n",
       " -2.442490654175349e-15\n",
       " -0.29488101937856404\n",
       " -0.10971139284998044\n",
       " -0.3327657850498025\n",
       " -0.32936503573744114\n",
       " -0.4399987537940653\n",
       " -0.4755376084713212\n",
       " -0.09492770492534985\n",
       " -0.6946102017788871\n",
       " -0.5267667200171089\n",
       "  ⋮\n",
       " -0.3564001018127094\n",
       " -0.3027660910373713\n",
       " -0.8717254264415673\n",
       " -0.14151212240084665\n",
       " -0.17606351366724482\n",
       " -0.9818519095106251\n",
       " -0.41326309050713816\n",
       " -0.3106212877805765\n",
       " -0.32754592760356194"
      ]
     },
     "metadata": {},
     "output_type": "display_data"
    }
   ],
   "source": [
    "Entropy_t(8, 100.0, 1.0, 1.0, \"Z2\", 1)"
   ]
  },
  {
   "cell_type": "code",
   "execution_count": 42,
   "id": "99304bca",
   "metadata": {},
   "outputs": [
    {
     "data": {
      "text/plain": [
       "I3 (generic function with 1 method)"
      ]
     },
     "metadata": {},
     "output_type": "display_data"
    }
   ],
   "source": [
    "function I3(psi::Vector{ComplexF64})\n",
    "    log3(x) = log(x) / log(3)\n",
    "\n",
    "    L = Int(round(log3(length(psi))))\n",
    "    qL = L ÷ 4\n",
    "\n",
    "    SA   = von_neumann_entropy(psi, qL, L)\n",
    "    SB   = von_neumann_entropy(psi, 2qL, L)\n",
    "    SC   = von_neumann_entropy(psi, 3qL, L)\n",
    "    SABC = von_neumann_entropy(psi, L, L)\n",
    "    SAB  = von_neumann_entropy(psi, 2qL, L)\n",
    "    SAC  = von_neumann_entropy(psi, 3qL, L)\n",
    "    SBC  = von_neumann_entropy(psi, 3qL, L)\n",
    "    \n",
    "\n",
    "\n",
    "    return SA + SB + SC + SABC - SAB - SAC - SBC\n",
    "end"
   ]
  },
  {
   "cell_type": "code",
   "execution_count": null,
   "id": "98604b11",
   "metadata": {},
   "outputs": [
    {
     "data": {
      "text/plain": [
       "Entropy_t_z (generic function with 2 methods)"
      ]
     },
     "metadata": {},
     "output_type": "display_data"
    }
   ],
   "source": [
    "function Entropy_t_z(L::Int, T::Float64, dt::Float64, p::Float64, shot::Int)\n",
    "    Random.seed!(shot)  # Set random seed\n",
    "    s_t = random_product_state(L)\n",
    "    S_list = Float64[]\n",
    "\n",
    "    # Define Hamiltonian and local observables\n",
    "    H, sz2l, szl = Hamiltonian(L)\n",
    "    sm_list = szl\n",
    "    steps = Int(floor(T / dt))\n",
    "\n",
    "    for _ in 1:steps\n",
    "        push!(S_list, von_neumann_entropy(s_t, L÷2, L))\n",
    "        #push!(S_list, I3(s_t))\n",
    "\n",
    "        # Time evolution\n",
    "        s_t = time_evolution(s_t, dt)\n",
    "        s_t /= norm(s_t)\n",
    "\n",
    "        # Measurements\n",
    "        if p != 0\n",
    "            for l in 1:L\n",
    "                x = rand()\n",
    "                if x < p\n",
    "                    m_op = sm_list[l]\n",
    "                    p_m_mone = 0.5 * real(s_t' * (sz2l[l]-sm_list[l]) * s_t)\n",
    "                    p_m_one = 0.5 * real(s_t' * (sz2l[l] + sm_list[l]) * s_t)\n",
    "                    x1 = rand()\n",
    "                    if x1 < p_m_mone\n",
    "                        s_t = 0.5 * ((sz2l[l]-sm_list[l]) * s_t) / sqrt(p_m_mone)\n",
    "                    elseif p_m_mone < x1 < p_m_one + p_m_mone\n",
    "                        s_t = 0.5 * ((sz2l[l]+sm_list[l]) * s_t) / sqrt(p_m_one)\n",
    "                    else\n",
    "                        s_t = (s_t - sz2l[l] * s_t) / sqrt(1 - p_m_mone - p_m_one)\n",
    "                    end\n",
    "                end\n",
    "            end\n",
    "        end\n",
    "    end\n",
    "\n",
    "    # Save result to disk\n",
    "    filename = \"L$(L),T$(T),dt$(dt),p$(p),dirZ,s$(shot).npy\"\n",
    "    npzwrite(filename, S_list)\n",
    "\n",
    "    return S_list\n",
    "end"
   ]
  },
  {
   "cell_type": "code",
   "execution_count": 8,
   "id": "e693f479",
   "metadata": {},
   "outputs": [
    {
     "data": {
      "text/plain": [
       "Hamiltonian (generic function with 1 method)"
      ]
     },
     "metadata": {},
     "output_type": "display_data"
    }
   ],
   "source": [
    "include(\"s3.jl\")"
   ]
  },
  {
   "cell_type": "code",
   "execution_count": 10,
   "id": "931a67e1",
   "metadata": {},
   "outputs": [
    {
     "data": {
      "text/plain": [
       "100-element Vector{Float64}:\n",
       "  2.8865798640254035e-15\n",
       "  0.3632675500196728\n",
       "  0.6417750673048793\n",
       "  0.24375281922998004\n",
       " -0.09757885187994902\n",
       "  0.019680427386606414\n",
       "  0.11696451437975335\n",
       "  0.6725680799791564\n",
       "  0.4235830469305314\n",
       " -0.044589198460111\n",
       "  ⋮\n",
       "  0.44364228970813957\n",
       "  0.24521141249263445\n",
       " -0.07120718117375735\n",
       "  0.19959054060977222\n",
       "  1.925929944387236e-34\n",
       " -0.018967096499422187\n",
       "  0.4643897152328975\n",
       " -0.039535302335464505\n",
       " -0.2774209069115454"
      ]
     },
     "metadata": {},
     "output_type": "display_data"
    }
   ],
   "source": [
    "Entropy_t_z(8, 100.0, 1.0, 0.3, 398)"
   ]
  },
  {
   "cell_type": "markdown",
   "id": "ac2c198c",
   "metadata": {},
   "source": [
    "for L in [8]\n",
    "    for T in [100.0]\n",
    "        for dt in [1.0]\n",
    "            for p in [0.1, 0.2, 0.3, 0.4, 0.5, 0.6, 0.7, 0.8, 0.9, 1.0]\n",
    "                for shot in 1:500\n",
    "                    Entropy_t_z(L, T, dt, p, shot)\n",
    "                end\n",
    "            end\n",
    "        end\n",
    "    end\n",
    "end\n",
    "\n",
    "This took 320 minutes to run"
   ]
  },
  {
   "cell_type": "markdown",
   "id": "be50f86a",
   "metadata": {},
   "source": [
    "### Ancilla purification code"
   ]
  },
  {
   "cell_type": "code",
   "execution_count": 7,
   "id": "aec4bd06",
   "metadata": {},
   "outputs": [
    {
     "data": {
      "text/plain": [
       "Hamiltonian (generic function with 1 method)"
      ]
     },
     "metadata": {},
     "output_type": "display_data"
    }
   ],
   "source": [
    "using SparseArrays\n",
    "using LinearAlgebra\n",
    "using Arpack\n",
    "using Statistics\n",
    "using Random\n",
    "using DelimitedFiles\n",
    "using NPZ\n",
    "using ExpmV\n",
    "\n",
    "function von_neumann_entropy(ψ::Vector{<:Complex}, cut::Int, L::Int)\n",
    "    dimA = 3^cut\n",
    "    dimB = 3^(L - cut)\n",
    "    ψ_matrix = reshape(ψ, (dimA, dimB))\n",
    "    svals = svdvals(ψ_matrix)\n",
    "    S = 0.0\n",
    "    for s in svals\n",
    "        if s > 1e-15\n",
    "            p = abs2(s)\n",
    "            S -= p * log(p)\n",
    "        end\n",
    "    end\n",
    "    return S\n",
    "end\n",
    "\n",
    "function random_product_state(L::Int)\n",
    "    product_state = nothing\n",
    "\n",
    "    for i in 1:L\n",
    "        θ1 = rand() * π\n",
    "        θ2 = rand() * π\n",
    "        ϕ1 = rand() * 2π\n",
    "        ϕ2 = rand() * 2π\n",
    "\n",
    "        c1 = cos(θ1 / 2)\n",
    "        c2 = exp(im * ϕ1) * sin(θ1 / 2) * sin(θ2 / 2)\n",
    "        c3 = exp(im * ϕ2) * sin(θ1 / 2) * cos(θ2 / 2)\n",
    "\n",
    "        temp_state = [c1, c2, c3]\n",
    "\n",
    "        if i == 1\n",
    "            product_state = temp_state\n",
    "        else\n",
    "            product_state = kron(product_state, temp_state)\n",
    "        end\n",
    "    end\n",
    "\n",
    "    # Normalize the state\n",
    "    product_state /= norm(product_state)\n",
    "\n",
    "    return product_state\n",
    "end\n",
    "\n",
    "function time_evolution(ψ::Vector{ComplexF64}, dt::Float64, L)\n",
    "    ψ /= norm(ψ)\n",
    "    Ha, Hb, Hc, _, _ = Hamiltonian(L)\n",
    "    a = 2π * rand()\n",
    "    b = 2π * rand()\n",
    "    c = 2π * rand()\n",
    "    # Apply exp(-im * H * dt) directly to ψ\n",
    "    H = a * Ha + b * Hb + c * Hc\n",
    "    ψ_new = expmv(-im * dt, H, ψ)\n",
    "\n",
    "    # Normalize the state\n",
    "    ψ_new /= norm(ψ_new)\n",
    "    \n",
    "    return ψ_new\n",
    "end\n",
    "\n",
    "function I3(psi::Vector{ComplexF64})\n",
    "    log3(x) = log(x) / log(3)\n",
    "\n",
    "    L = Int(round(log3(length(psi))))\n",
    "    qL = L ÷ 4\n",
    "\n",
    "    SA   = von_neumann_entropy(psi, qL, L)\n",
    "    SB   = von_neumann_entropy(psi, 2qL, L)\n",
    "    SC   = von_neumann_entropy(psi, 3qL, L)\n",
    "    SABC = von_neumann_entropy(psi, L, L)\n",
    "    SAB  = von_neumann_entropy(psi, 2qL, L)\n",
    "    SAC  = von_neumann_entropy(psi, 3qL, L)\n",
    "    SBC  = von_neumann_entropy(psi, 3qL, L)\n",
    "    \n",
    "    return SA + SB + SC + SABC - SAB - SAC - SBC\n",
    "end\n",
    "\n",
    "### This function is for Z measurements only\n",
    "\n",
    "function Entropy_t_z(L::Int, T::Float64, dt::Float64, p::Float64, shot::Int)\n",
    "    Random.seed!(shot)  # Set random seed\n",
    "    s_t = random_product_state(L)\n",
    "    S_list = Float64[]\n",
    "\n",
    "    # Define Hamiltonian and local observables\n",
    "    _, _, _, sz2l, szl = Hamiltonian(L)\n",
    "    sm_list = szl\n",
    "    steps = Int(floor(T / dt))\n",
    "\n",
    "    for _ in 1:steps\n",
    "        #push!(S_list, von_neumann_entropy(s_t, L÷2, L))\n",
    "        push!(S_list, I3(s_t))\n",
    "\n",
    "        # Time evolution\n",
    "        s_t = time_evolution(s_t, dt, L)\n",
    "        s_t /= norm(s_t)\n",
    "\n",
    "        # Measurements\n",
    "        if p != 0\n",
    "            for l in 1:L\n",
    "                x = rand()\n",
    "                if x < p\n",
    "                    m_op = sm_list[l]\n",
    "                    p_m_mone = 0.5 * real(s_t' * (sz2l[l]-sm_list[l]) * s_t)\n",
    "                    p_m_one = 0.5 * real(s_t' * (sz2l[l] + sm_list[l]) * s_t)\n",
    "                    x1 = rand()\n",
    "                    if x1 < p_m_mone\n",
    "                        s_t = 0.5 * ((sz2l[l]-sm_list[l]) * s_t) / sqrt(p_m_mone)\n",
    "                    elseif p_m_mone < x1 < p_m_one + p_m_mone\n",
    "                        s_t = 0.5 * ((sz2l[l]+sm_list[l]) * s_t) / sqrt(p_m_one)\n",
    "                    else\n",
    "                        s_t = (s_t - sz2l[l] * s_t) / sqrt(1 - p_m_mone - p_m_one)\n",
    "                    end\n",
    "                end\n",
    "            end\n",
    "        end\n",
    "    end\n",
    "\n",
    "    # Save result to disk\n",
    "    filename = \"L$(L),T$(T),dt$(dt),p$(p),dirZ,s$(shot).npy\"\n",
    "    npzwrite(filename, S_list)\n",
    "\n",
    "    return S_list\n",
    "end\n",
    "\n",
    "function Hamiltonian(L)\n",
    "    # Define Pauli matrices as complex sparse matrices\n",
    "    id = sparse(ComplexF64[1 0 0; 0 1 0; 0 0 1])\n",
    "    sx = 1/sqrt(2) * sparse(ComplexF64[0 1 0; 1 0 1; 0 1 0])\n",
    "    sy = 1/sqrt(2) * sparse(ComplexF64[0 -im 0; im 0 -im; 0 im 0])\n",
    "    sz = sparse(ComplexF64[1 0 0; 0 0 0; 0 0 -1])\n",
    "\n",
    "    sp = 1/sqrt(2) * (sx + im * sy)\n",
    "    sm = 1/sqrt(2) * (sx - im * sy)\n",
    "\n",
    "    # Preallocate vectors of operators with correct type\n",
    "    #sx_list = Vector{SparseMatrixCSC{ComplexF64, Int}}(undef, L)\n",
    "    #sy_list = Vector{SparseMatrixCSC{ComplexF64, Int}}(undef, L)\n",
    "    szl = Vector{SparseMatrixCSC{ComplexF64, Int}}(undef, L) # List of sz operators\n",
    "    sz2l = Vector{SparseMatrixCSC{ComplexF64, Int}}(undef, L) # List of sz² operators\n",
    "    spl = Vector{SparseMatrixCSC{ComplexF64, Int}}(undef, L) # List of sp operators\n",
    "    sml = Vector{SparseMatrixCSC{ComplexF64, Int}}(undef, L) # List of sm operators\n",
    "\n",
    "    for i_site in 1:L\n",
    "        p_ops = fill(id, L)\n",
    "        m_ops = fill(id, L)\n",
    "        z_ops = fill(id, L)\n",
    "        z2_ops = fill(id, L)\n",
    "        p_ops[i_site] = sp\n",
    "        m_ops[i_site] = sm\n",
    "        z_ops[i_site] = sz\n",
    "        z2_ops[i_site] = sz^2\n",
    "\n",
    "        # Build the full operator by tensoring\n",
    "        P = p_ops[1]\n",
    "        M = m_ops[1]\n",
    "        Z = z_ops[1]\n",
    "        Z2 = z2_ops[1]\n",
    "        for j in 2:L\n",
    "            P = kron(P, p_ops[j])\n",
    "            M = kron(M, m_ops[j])\n",
    "            Z = kron(Z, z_ops[j])\n",
    "            Z2 = kron(Z2, z2_ops[j])\n",
    "        end\n",
    "\n",
    "        spl[i_site] = P\n",
    "        sml[i_site] = M\n",
    "        szl[i_site] = Z\n",
    "        sz2l[i_site] = Z2\n",
    "    end\n",
    "\n",
    "    dim = 3^L\n",
    "    Ha = spzeros(ComplexF64, dim, dim)\n",
    "\n",
    "    for i in 1:L\n",
    "        ip = (i % L) + 1  # Periodic boundary\n",
    "        Ha += ((spl[i]^2 * sml[ip]^2 + sml[i]^2 * spl[ip]^2) + adjoint((spl[i]^2 * sml[ip]^2 + sml[i]^2 * spl[ip]^2)))\n",
    "    end\n",
    "\n",
    "    Hb = spzeros(ComplexF64, dim, dim)\n",
    "\n",
    "    for i in 1:L\n",
    "        ip = (i % L) + 1  # Periodic boundary\n",
    "        Hb += (spl[i] * szl[i] * sml[ip] * szl[ip] + sml[i] * szl[i] * spl[ip] * szl[ip] + adjoint(spl[i] * szl[i] * sml[ip] * szl[ip]) + adjoint(sml[i] * szl[i] * spl[ip] * szl[ip]))\n",
    "    end\n",
    "\n",
    "    Hc = spzeros(ComplexF64, dim, dim)\n",
    "\n",
    "    for i in 1:L\n",
    "        ip = (i % L) + 1  # Periodic boundary\n",
    "        Hc += (spl[i]^2 * spl[ip] * szl[ip] + sml[i]^2 * sml[ip] * szl[ip] + adjoint(spl[i]^2 * spl[ip] * szl[ip]) + adjoint(sml[i]^2 * sml[ip] * szl[ip]))\n",
    "    end\n",
    "\n",
    "    return Ha, Hb, Hc, sz2l, szl \n",
    "end"
   ]
  },
  {
   "cell_type": "code",
   "execution_count": 1,
   "id": "70dd9c9d",
   "metadata": {},
   "outputs": [
    {
     "data": {
      "text/plain": [
       "Hamiltonian (generic function with 1 method)"
      ]
     },
     "metadata": {},
     "output_type": "display_data"
    }
   ],
   "source": [
    "function Hamiltonian(L)\n",
    "    # Define Pauli matrices as complex sparse matrices\n",
    "    id = sparse(ComplexF64[1 0 0; 0 1 0; 0 0 1])\n",
    "    sx = 1/sqrt(2) * sparse(ComplexF64[0 1 0; 1 0 1; 0 1 0])\n",
    "    sy = 1/sqrt(2) * sparse(ComplexF64[0 -im 0; im 0 -im; 0 im 0])\n",
    "    sz = sparse(ComplexF64[1 0 0; 0 0 0; 0 0 -1])\n",
    "\n",
    "    sp = 1/sqrt(2) * (sx + im * sy)\n",
    "    sm = 1/sqrt(2) * (sx - im * sy)\n",
    "\n",
    "    # Preallocate vectors of operators with correct type\n",
    "    #sx_list = Vector{SparseMatrixCSC{ComplexF64, Int}}(undef, L)\n",
    "    #sy_list = Vector{SparseMatrixCSC{ComplexF64, Int}}(undef, L)\n",
    "    szl = Vector{SparseMatrixCSC{ComplexF64, Int}}(undef, L) # List of sz operators\n",
    "    sz2l = Vector{SparseMatrixCSC{ComplexF64, Int}}(undef, L) # List of sz² operators\n",
    "    spl = Vector{SparseMatrixCSC{ComplexF64, Int}}(undef, L) # List of sp operators\n",
    "    sml = Vector{SparseMatrixCSC{ComplexF64, Int}}(undef, L) # List of sm operators\n",
    "\n",
    "    for i_site in 1:L\n",
    "        p_ops = fill(id, L)\n",
    "        m_ops = fill(id, L)\n",
    "        z_ops = fill(id, L)\n",
    "        z2_ops = fill(id, L)\n",
    "        p_ops[i_site] = sp\n",
    "        m_ops[i_site] = sm\n",
    "        z_ops[i_site] = sz\n",
    "        z2_ops[i_site] = sz^2\n",
    "\n",
    "        # Build the full operator by tensoring\n",
    "        P = p_ops[1]\n",
    "        M = m_ops[1]\n",
    "        Z = z_ops[1]\n",
    "        Z2 = z2_ops[1]\n",
    "        for j in 2:L\n",
    "            P = kron(P, p_ops[j])\n",
    "            M = kron(M, m_ops[j])\n",
    "            Z = kron(Z, z_ops[j])\n",
    "            Z2 = kron(Z2, z2_ops[j])\n",
    "        end\n",
    "\n",
    "        spl[i_site] = P\n",
    "        sml[i_site] = M\n",
    "        szl[i_site] = Z\n",
    "        sz2l[i_site] = Z2\n",
    "    end\n",
    "\n",
    "    dim = 3^L\n",
    "    Ha = spzeros(ComplexF64, dim, dim)\n",
    "\n",
    "    for i in 1:L\n",
    "        ip = (i % L) + 1  # Periodic boundary\n",
    "        Ha += ((spl[i]^2 * sml[ip]^2 + sml[i]^2 * spl[ip]^2) + adjoint((spl[i]^2 * sml[ip]^2 + sml[i]^2 * spl[ip]^2)))\n",
    "    end\n",
    "\n",
    "    Hb = spzeros(ComplexF64, dim, dim)\n",
    "\n",
    "    for i in 1:L\n",
    "        ip = (i % L) + 1  # Periodic boundary\n",
    "        Hb += (spl[i] * szl[i] * sml[ip] * szl[ip] + sml[i] * szl[i] * spl[ip] * szl[ip] + adjoint(spl[i] * szl[i] * sml[ip] * szl[ip]) + adjoint(sml[i] * szl[i] * spl[ip] * szl[ip]))\n",
    "    end\n",
    "\n",
    "    Hc = spzeros(ComplexF64, dim, dim)\n",
    "\n",
    "    for i in 1:L\n",
    "        ip = (i % L) + 1  # Periodic boundary\n",
    "        Hc += (spl[i]^2 * spl[ip] * szl[ip] + sml[i]^2 * sml[ip] * szl[ip] + adjoint(spl[i]^2 * spl[ip] * szl[ip]) + adjoint(sml[i]^2 * sml[ip] * szl[ip]))\n",
    "    end\n",
    "\n",
    "    return Ha, Hb, Hc, sz2l, szl \n",
    "end"
   ]
  },
  {
   "cell_type": "code",
   "execution_count": 13,
   "id": "2d0e1ab5",
   "metadata": {},
   "outputs": [
    {
     "data": {
      "text/plain": [
       "entropy_vn (generic function with 1 method)"
      ]
     },
     "metadata": {},
     "output_type": "display_data"
    }
   ],
   "source": [
    "function entropy_vn(ψ::Vector{<:Complex}, L::Int, subsystem::AbstractArray{Int})\n",
    "    cut = length(subsystem)\n",
    "    dimA = 3^cut\n",
    "    dimB = 3^(L - cut)\n",
    "    ψ_matrix = reshape(ψ, (dimA, dimB))\n",
    "    svals = svdvals(ψ_matrix)\n",
    "    S = 0.0\n",
    "    for s in svals\n",
    "        if s > 1e-15\n",
    "            p = abs2(s)\n",
    "            S -= p * log(p)\n",
    "        end\n",
    "    end\n",
    "    return S\n",
    "end"
   ]
  },
  {
   "cell_type": "markdown",
   "id": "34475091",
   "metadata": {},
   "source": [
    "Code run"
   ]
  },
  {
   "cell_type": "code",
   "execution_count": 4,
   "id": "08836592",
   "metadata": {},
   "outputs": [
    {
     "data": {
      "text/plain": [
       "time_evolution (generic function with 1 method)"
      ]
     },
     "metadata": {},
     "output_type": "display_data"
    }
   ],
   "source": [
    "include(\"s3.jl\")"
   ]
  },
  {
   "cell_type": "code",
   "execution_count": 6,
   "id": "0b6c62c8",
   "metadata": {},
   "outputs": [
    {
     "name": "stdout",
     "output_type": "stream",
     "text": [
      "  8.099042 seconds (866.58 k allocations: 18.854 GiB, 35.03% gc time)\n"
     ]
    },
    {
     "data": {
      "text/plain": [
       "100-element Vector{Float64}:\n",
       "  2.886579864025403e-15\n",
       " -0.8015475621045871\n",
       " -1.89590149229082\n",
       " -2.4124165469827057\n",
       " -2.5739457584677155\n",
       " -2.694335010511299\n",
       " -2.7781091544423626\n",
       " -2.7867754230430943\n",
       " -2.815526335454182\n",
       " -2.843352182646453\n",
       "  ⋮\n",
       " -2.8928928766145434\n",
       " -2.9446526907123074\n",
       " -2.9136591748474663\n",
       " -2.8947762851787795\n",
       " -2.9112843160398754\n",
       " -2.9413920429708353\n",
       " -2.9095577516682924\n",
       " -2.9025903345373596\n",
       " -2.9169584064808793"
      ]
     },
     "metadata": {},
     "output_type": "display_data"
    }
   ],
   "source": [
    "@time Entropy_t_z(8, 100.0, 1.0, 0.4, 3980)"
   ]
  },
  {
   "cell_type": "markdown",
   "id": "35eb707e",
   "metadata": {},
   "source": [
    "### ITensors benchmarking"
   ]
  },
  {
   "cell_type": "code",
   "execution_count": 30,
   "id": "6570f80b",
   "metadata": {},
   "outputs": [
    {
     "data": {
      "text/plain": [
       "Hamiltonian (generic function with 1 method)"
      ]
     },
     "metadata": {},
     "output_type": "display_data"
    }
   ],
   "source": [
    "function Hamiltonian(L)\n",
    "    # Define Pauli matrices as complex sparse matrices\n",
    "    id = sparse(ComplexF64[1 0 0; 0 1 0; 0 0 1])\n",
    "    sx = 1/sqrt(2) * sparse(ComplexF64[0 1 0; 1 0 1; 0 1 0])\n",
    "    sy = 1/sqrt(2) * sparse(ComplexF64[0 -im 0; im 0 -im; 0 im 0])\n",
    "    sz = sparse(ComplexF64[1 0 0; 0 0 0; 0 0 -1])\n",
    "\n",
    "    sp = 1/sqrt(2) * (sx + im * sy)\n",
    "    sm = 1/sqrt(2) * (sx - im * sy)\n",
    "\n",
    "    # Preallocate vectors of operators with correct type\n",
    "    #sx_list = Vector{SparseMatrixCSC{ComplexF64, Int}}(undef, L)\n",
    "    #sy_list = Vector{SparseMatrixCSC{ComplexF64, Int}}(undef, L)\n",
    "    szl = Vector{SparseMatrixCSC{ComplexF64, Int}}(undef, L) # List of sz operators\n",
    "    sz2l = Vector{SparseMatrixCSC{ComplexF64, Int}}(undef, L) # List of sz² operators\n",
    "    spl = Vector{SparseMatrixCSC{ComplexF64, Int}}(undef, L) # List of sp operators\n",
    "    sml = Vector{SparseMatrixCSC{ComplexF64, Int}}(undef, L) # List of sm operators\n",
    "\n",
    "    for i_site in 1:L\n",
    "        p_ops = fill(id, L)\n",
    "        m_ops = fill(id, L)\n",
    "        z_ops = fill(id, L)\n",
    "        z2_ops = fill(id, L)\n",
    "        p_ops[i_site] = sp\n",
    "        m_ops[i_site] = sm\n",
    "        z_ops[i_site] = sz\n",
    "        z2_ops[i_site] = sz^2\n",
    "\n",
    "        # Build the full operator by tensoring\n",
    "        P = p_ops[1]\n",
    "        M = m_ops[1]\n",
    "        Z = z_ops[1]\n",
    "        Z2 = z2_ops[1]\n",
    "        for j in 2:L\n",
    "            P = kron(P, p_ops[j])\n",
    "            M = kron(M, m_ops[j])\n",
    "            Z = kron(Z, z_ops[j])\n",
    "            Z2 = kron(Z2, z2_ops[j])\n",
    "        end\n",
    "\n",
    "        spl[i_site] = P\n",
    "        sml[i_site] = M\n",
    "        szl[i_site] = Z\n",
    "        sz2l[i_site] = Z2\n",
    "    end\n",
    "\n",
    "    dim = 3^L\n",
    "    Ha = spzeros(ComplexF64, dim, dim)\n",
    "\n",
    "    for i in 1:L\n",
    "        ip = (i % L) + 1  # Periodic boundary\n",
    "        Ha += ((spl[i]^2 * sml[ip]^2 + sml[i]^2 * spl[ip]^2) + adjoint((spl[i]^2 * sml[ip]^2 + sml[i]^2 * spl[ip]^2)))\n",
    "    end\n",
    "\n",
    "    Hb = spzeros(ComplexF64, dim, dim)\n",
    "\n",
    "    for i in 1:L\n",
    "        ip = (i % L) + 1  # Periodic boundary\n",
    "        Hb += (spl[i] * szl[i] * sml[ip] * szl[ip] + sml[i] * szl[i] * spl[ip] * szl[ip] + adjoint(spl[i] * szl[i] * sml[ip] * szl[ip]) + adjoint(sml[i] * szl[i] * spl[ip] * szl[ip]))\n",
    "    end\n",
    "\n",
    "    Hc = spzeros(ComplexF64, dim, dim)\n",
    "\n",
    "    for i in 1:L\n",
    "        ip = (i % L) + 1  # Periodic boundary\n",
    "        Hc += (spl[i]^2 * spl[ip] * szl[ip] + sml[i]^2 * sml[ip] * szl[ip] + adjoint(spl[i]^2 * spl[ip] * szl[ip]) + adjoint(sml[i]^2 * sml[ip] * szl[ip]))\n",
    "    end\n",
    "\n",
    "    return Ha\n",
    "end"
   ]
  },
  {
   "cell_type": "code",
   "execution_count": 31,
   "id": "ef9bbb55",
   "metadata": {},
   "outputs": [
    {
     "data": {
      "text/plain": [
       "6561×6561 SparseMatrixCSC{ComplexF64, Int64} with 11664 stored entries:\n",
       "⎡⠻⣦⡀⣄⠀⠀⠀⠀⠀⠀⠀⠀⠀⠀⠀⠀⠀⠀⠀⠀⠀⠀⠀⠀⠀⠀⠘⢦⡀⠀⠀⠀⠀⠀⠀⠀⠀⠀⠀⠀⎤\n",
       "⎢⠀⢬⠻⣦⡀⠀⠀⠀⠀⣄⠀⠀⠀⠀⠀⠀⠀⠀⠀⠀⠀⠀⠀⠀⠀⠀⠀⠀⠙⢦⡀⠀⠀⠀⠀⠀⠀⠀⠀⠀⎥\n",
       "⎢⠀⠀⠀⠈⢻⣶⡀⢀⠀⠈⠃⠀⠀⠀⠀⠀⠀⠀⠀⠀⠀⠀⠀⠀⠀⠀⠀⠀⠀⠀⠙⢦⡀⠀⠀⠀⠀⠀⠀⠀⎥\n",
       "⎢⠀⠀⠀⠀⠀⢈⡿⣯⣁⠀⠀⠀⠀⠀⠀⠀⠀⠀⠀⠀⠀⠀⠀⠀⠀⠀⠀⠀⠀⠀⠀⠀⠙⢦⡀⠀⠀⠀⠀⠀⎥\n",
       "⎢⠀⠀⠀⢤⡀⠀⠁⠘⠻⢆⡄⠀⠀⠀⠀⠀⠀⠀⠀⠀⠀⠀⠀⠀⠀⠀⠠⣄⠀⠀⠀⠀⠀⠀⠙⢦⡀⠀⠀⠀⎥\n",
       "⎢⠀⠀⠀⠀⠉⠀⠀⠀⠀⠉⣱⣾⡁⠀⠀⠀⠀⠀⠀⠀⠀⠀⠀⠀⠀⠀⠀⠈⠳⣄⠀⠀⠀⠀⠀⠀⠙⢦⡀⠀⎥\n",
       "⎢⠀⠀⠀⠀⠀⠀⠀⠀⠀⠀⠁⠈⠿⣧⣀⠀⠀⠀⠀⠀⠀⠀⠀⠀⠀⠀⠀⠀⠀⠈⠳⠀⠀⠀⠀⠀⠀⠀⠙⠦⎥\n",
       "⎢⠀⠀⠀⠀⠀⠀⠀⠀⠀⠀⠀⠀⠀⠘⠻⣦⡗⠀⠀⠀⠀⠀⠀⠀⠀⠀⠀⠀⠀⠀⠀⠀⠀⠀⠀⠀⠀⠀⠀⠀⎥\n",
       "⎢⠀⠀⠀⠀⠀⠀⠀⠀⠀⠀⠀⠀⠀⠀⠙⠉⠻⣦⡀⠀⠀⠀⠳⣄⠀⠀⠀⠀⠀⠀⠀⠀⠀⠀⠀⠀⠀⠀⠀⠀⎥\n",
       "⎢⠀⠀⠀⠀⠀⠀⠀⠀⠀⠀⠀⠀⠀⠀⠀⠀⠀⠈⠻⣦⡰⠄⠀⠀⠀⠀⠀⠀⠀⠀⠀⠀⠀⠀⠀⠀⠀⠀⠀⠀⎥\n",
       "⎢⠀⠀⠀⠀⠀⠀⠀⠀⠀⠀⠀⠀⠀⠀⠀⠀⠀⠀⠐⠎⠻⣦⡀⠀⠀⠀⠀⠀⠀⠀⠀⠀⠀⠀⠀⠀⠀⠀⠀⠀⎥\n",
       "⎢⠀⠀⠀⠀⠀⠀⠀⠀⠀⠀⠀⠀⠀⠀⠀⠀⠙⢦⠀⠀⠀⠈⠻⣦⣀⣄⠀⠀⠀⠀⠀⠀⠀⠀⠀⠀⠀⠀⠀⠀⎥\n",
       "⎢⠀⠀⠀⠀⠀⠀⠀⠀⠀⠀⠀⠀⠀⠀⠀⠀⠀⠀⠀⠀⠀⠀⠀⢼⠻⣦⡄⠀⠀⠀⠀⠀⠀⠀⠀⠀⠀⠀⠀⠀⎥\n",
       "⎢⠲⣄⠀⠀⠀⠀⠀⠀⠀⢦⡀⠀⠀⠀⠀⠀⠀⠀⠀⠀⠀⠀⠀⠀⠀⠉⢻⣶⡀⢀⠀⠀⠀⠀⠀⠀⠀⠀⠀⠀⎥\n",
       "⎢⠀⠈⠳⣄⠀⠀⠀⠀⠀⠀⠙⢦⡀⠀⠀⠀⠀⠀⠀⠀⠀⠀⠀⠀⠀⠀⠀⢈⡿⢏⣀⠀⠀⠀⠀⣀⠀⠀⠀⠀⎥\n",
       "⎢⠀⠀⠀⠈⠳⣄⠀⠀⠀⠀⠀⠀⠙⠂⠀⠀⠀⠀⠀⠀⠀⠀⠀⠀⠀⠀⠀⠀⠀⠘⠱⣦⡄⢀⠀⠈⠓⠀⠀⠀⎥\n",
       "⎢⠀⠀⠀⠀⠀⠈⠳⣄⠀⠀⠀⠀⠀⠀⠀⠀⠀⠀⠀⠀⠀⠀⠀⠀⠀⠀⠀⠀⠀⠀⠀⢉⣻⣾⡁⠀⠀⠀⠀⠀⎥\n",
       "⎢⠀⠀⠀⠀⠀⠀⠀⠈⠳⣄⠀⠀⠀⠀⠀⠀⠀⠀⠀⠀⠀⠀⠀⠀⠀⠀⠀⠀⠀⢠⡀⠀⠁⠈⠿⣧⡀⠀⠀⠀⎥\n",
       "⎢⠀⠀⠀⠀⠀⠀⠀⠀⠀⠈⠳⣄⠀⠀⠀⠀⠀⠀⠀⠀⠀⠀⠀⠀⠀⠀⠀⠀⠀⠀⠙⠀⠀⠀⠀⠈⠻⣦⡓⠀⎥\n",
       "⎣⠀⠀⠀⠀⠀⠀⠀⠀⠀⠀⠀⠈⠳⡄⠀⠀⠀⠀⠀⠀⠀⠀⠀⠀⠀⠀⠀⠀⠀⠀⠀⠀⠀⠀⠀⠀⠙⠈⠻⣦⎦"
      ]
     },
     "metadata": {},
     "output_type": "display_data"
    }
   ],
   "source": [
    "Ha = Hamiltonian(8)"
   ]
  },
  {
   "cell_type": "code",
   "execution_count": 32,
   "id": "1614fad0",
   "metadata": {},
   "outputs": [
    {
     "data": {
      "text/plain": [
       "true"
      ]
     },
     "metadata": {},
     "output_type": "display_data"
    }
   ],
   "source": [
    "## Check if Ha is Hermitian\n",
    "ishermitian(Ha)"
   ]
  },
  {
   "cell_type": "code",
   "execution_count": 33,
   "id": "f10f2d22",
   "metadata": {},
   "outputs": [],
   "source": [
    "using LinearAlgebra\n",
    "using SparseArrays\n",
    "using Arpack: eigs"
   ]
  },
  {
   "cell_type": "code",
   "execution_count": 36,
   "id": "8d441973",
   "metadata": {},
   "outputs": [
    {
     "name": "stdout",
     "output_type": "stream",
     "text": [
      "Lowest eigenvalue: -10.452503719011009 - 1.4459599210576632e-16im\n"
     ]
    }
   ],
   "source": [
    "vals, vecs = eigs(Ha; nev=1, which=:SR)\n",
    "lowest_eig = vals[1]\n",
    "\n",
    "println(\"Lowest eigenvalue: \", lowest_eig)"
   ]
  },
  {
   "cell_type": "code",
   "execution_count": 39,
   "id": "8154140c",
   "metadata": {},
   "outputs": [
    {
     "name": "stdout",
     "output_type": "stream",
     "text": [
      "op(\"S+\", s) = ITensor ord=2\n",
      "Dim 1: (dim=3|id=114|\"S=1,Site,n=1\")' <Out>\n",
      " 1: QN(\"Sz\",2) => 1\n",
      " 2: QN(\"Sz\",0) => 1\n",
      " 3: QN(\"Sz\",-2) => 1\n",
      "Dim 2: (dim=3|id=114|\"S=1,Site,n=1\") <In>\n",
      " 1: QN(\"Sz\",2) => 1\n",
      " 2: QN(\"Sz\",0) => 1\n",
      " 3: QN(\"Sz\",-2) => 1\n",
      "NDTensors.BlockSparse{Float64, Vector{Float64}, 2}\n",
      " 3×3\n",
      "Block(1, 2)\n",
      " [1:1, 2:2]\n",
      " 1.4142135623730951\n",
      "\n",
      "Block(2, 3)\n",
      " [2:2, 3:3]\n",
      " 1.4142135623730951\n"
     ]
    },
    {
     "data": {
      "text/plain": [
       "ITensor ord=2\n",
       "(dim=3|id=114|\"S=1,Site,n=1\")' <Out>\n",
       " 1: QN(\"Sz\",2) => 1\n",
       " 2: QN(\"Sz\",0) => 1\n",
       " 3: QN(\"Sz\",-2) => 1\n",
       "(dim=3|id=114|\"S=1,Site,n=1\") <In>\n",
       " 1: QN(\"Sz\",2) => 1\n",
       " 2: QN(\"Sz\",0) => 1\n",
       " 3: QN(\"Sz\",-2) => 1\n",
       "NDTensors.BlockSparse{Float64, Vector{Float64}, 2}"
      ]
     },
     "metadata": {},
     "output_type": "display_data"
    }
   ],
   "source": [
    "@show op(\"S+\", s)"
   ]
  },
  {
   "cell_type": "code",
   "execution_count": 4,
   "id": "93893726",
   "metadata": {},
   "outputs": [],
   "source": [
    "id = [1 0 0; 0 1 0; 0 0 1];\n",
    "sx = 1/sqrt(2) * [0 1 0; 1 0 1; 0 1 0];\n",
    "sy = 1/sqrt(2) * [0 -im 0; im 0 -im; 0 im 0];"
   ]
  },
  {
   "cell_type": "code",
   "execution_count": 5,
   "id": "1ff50dce",
   "metadata": {},
   "outputs": [
    {
     "data": {
      "text/plain": [
       "3×3 Matrix{ComplexF64}:\n",
       " 0.0+0.0im  1.0+0.0im  0.0+0.0im\n",
       " 0.0+0.0im  0.0+0.0im  1.0+0.0im\n",
       " 0.0+0.0im  0.0+0.0im  0.0+0.0im"
      ]
     },
     "metadata": {},
     "output_type": "display_data"
    }
   ],
   "source": [
    "sp = 1/sqrt(2) * (sx + im * sy)"
   ]
  },
  {
   "cell_type": "code",
   "execution_count": 6,
   "id": "6a75cd92",
   "metadata": {},
   "outputs": [
    {
     "data": {
      "text/plain": [
       "3×3 Matrix{ComplexF64}:\n",
       " 0.0-0.0im  0.0-0.0im  0.0-0.0im\n",
       " 1.0-0.0im  0.0-0.0im  0.0-0.0im\n",
       " 0.0-0.0im  1.0-0.0im  0.0-0.0im"
      ]
     },
     "metadata": {},
     "output_type": "display_data"
    }
   ],
   "source": [
    "sm = 1/sqrt(2) * (sx - im * sy)"
   ]
  },
  {
   "cell_type": "code",
   "execution_count": 7,
   "id": "c4f8aa23",
   "metadata": {},
   "outputs": [
    {
     "data": {
      "text/plain": [
       "true"
      ]
     },
     "metadata": {},
     "output_type": "display_data"
    }
   ],
   "source": [
    "sp' == sm"
   ]
  },
  {
   "cell_type": "code",
   "execution_count": 9,
   "id": "7c531b49",
   "metadata": {},
   "outputs": [
    {
     "name": "stdout",
     "output_type": "stream",
     "text": [
      "After sweep 1 energy=-39.790066814314734  maxlinkdim=4 maxerr=9.46E-16 time=0.008\n",
      "After sweep 2 energy=-41.809990086278304  maxlinkdim=16 maxerr=7.86E-16 time=0.022\n",
      "After sweep 3 energy=-41.81001487604296  maxlinkdim=16 maxerr=9.59E-16 time=0.021\n",
      "After sweep 4 energy=-41.81001487604405  maxlinkdim=16 maxerr=9.04E-16 time=0.019\n",
      "After sweep 5 energy=-41.81001487604406  maxlinkdim=16 maxerr=7.20E-16 time=0.016\n",
      "After sweep 6 energy=-41.810014876044065  maxlinkdim=16 maxerr=7.20E-16 time=0.018\n",
      "After sweep 7 energy=-41.81001487604406  maxlinkdim=16 maxerr=8.44E-16 time=0.018\n",
      "After sweep 8 energy=-41.81001487604407  maxlinkdim=16 maxerr=8.42E-16 time=0.017\n",
      "After sweep 9 energy=-41.81001487604406  maxlinkdim=16 maxerr=7.95E-16 time=0.018\n",
      "After sweep 10 energy=-41.810014876044036  maxlinkdim=16 maxerr=8.18E-16 time=0.015\n",
      "After sweep 11 energy=-41.81001487604406  maxlinkdim=16 maxerr=8.08E-16 time=0.019\n",
      "After sweep 12 energy=-41.81001487604405  maxlinkdim=16 maxerr=9.61E-16 time=0.017\n",
      "After sweep 13 energy=-41.81001487604403  maxlinkdim=16 maxerr=7.19E-16 time=0.019\n",
      "After sweep 14 energy=-41.81001487604407  maxlinkdim=16 maxerr=8.30E-16 time=0.018\n",
      "After sweep 15 energy=-41.810014876044065  maxlinkdim=16 maxerr=7.39E-16 time=0.016\n",
      "  0.264646 seconds (2.67 M allocations: 404.957 MiB, 12.09% gc time)\n"
     ]
    }
   ],
   "source": [
    "using ITensorMPS\n",
    "\n",
    "N = 8  #number of sites\n",
    "sites = siteinds(\"S=1\",N; conserve_qns=true) #spin 1 in each sites\n",
    "\n",
    "  os = OpSum()\n",
    "  for j=1:N\n",
    "    os += 1.0 ,\"S+ * S+\",j,\"S- * S-\",mod(j,N)+1   #I think this is the Ham in Sriram's paper\n",
    "    os += 1.0 ,\"S- * S-\",j,\"S+ * S+\",mod(j,N)+1\n",
    "    os += 1.0 ,\"S+ * S+\",mod(j,N)+1,\"S- * S-\",j   # H.c. terms\n",
    "    os += 1.0 ,\"S- * S-\",mod(j,N)+1,\"S+ * S+\",j\n",
    "    #os += 1.0 ,\"S+ * S+\",j+1,\"S- * S-\",j\n",
    "    #os += 1.0 , \"S- * S-\", j+1, \"S+ * S+\",j\n",
    "  end\n",
    "  H = MPO(os,sites)\n",
    "\n",
    "  nsweeps = 15 # number of sweeps is 15\n",
    "  maxdim = [10,20,100,100,200,200,400,400,500] # gradually increase states kept\n",
    "  cutoff = [1E-10] # desired truncation error\n",
    "  \n",
    "  states = [isodd(n) ? \"Up\" : \"Dn\" for n in 1:N] #Neel state-- we know GS is in S^z=0 sector\n",
    "  psi0 = MPS(sites, states) #constructing the state as MPS which is taken as variational ansatz in next step\n",
    "\n",
    "  @time energy,psigs = dmrg(H,psi0;nsweeps,maxdim,cutoff);"
   ]
  },
  {
   "cell_type": "code",
   "execution_count": 10,
   "id": "1b2024ee",
   "metadata": {},
   "outputs": [
    {
     "ename": "ErrorException",
     "evalue": "The OpSum contains a term 1.0 S+ * S+(9,) S- * S-(8,) that extends beyond the number of sites 8.",
     "output_type": "error",
     "traceback": [
      "The OpSum contains a term 1.0 S+ * S+(9,) S- * S-(8,) that extends beyond the number of sites 8.\n",
      "\n",
      "Stacktrace:\n",
      " [1] error(s::String)\n",
      "   @ Base ./error.jl:35\n",
      " [2] sorteachterm(os::Sum{Scaled{ComplexF64, Prod{Op}}}, sites::Vector{Index{Vector{Pair{QN, Int64}}}})\n",
      "   @ ITensorMPS ~/.julia/packages/ITensorMPS/fCfh9/src/opsum_to_mpo/opsum_to_mpo_generic.jl:171\n",
      " [3] MPO(os::Sum{Scaled{ComplexF64, Prod{Op}}}, sites::Vector{Index{Vector{Pair{QN, Int64}}}}; splitblocks::Bool, kwargs::@Kwargs{})\n",
      "   @ ITensorMPS ~/.julia/packages/ITensorMPS/fCfh9/src/opsum_to_mpo/opsum_to_mpo_generic.jl:294\n",
      " [4] MPO(os::Sum{Scaled{ComplexF64, Prod{Op}}}, sites::Vector{Index{Vector{Pair{QN, Int64}}}})\n",
      "   @ ITensorMPS ~/.julia/packages/ITensorMPS/fCfh9/src/opsum_to_mpo/opsum_to_mpo_generic.jl:290\n",
      " [5] top-level scope\n",
      "   @ ~/Documents/s3/jl_notebook_cell_df34fa98e69747e1a8f8a730347b8e2f_X56sZmlsZQ==.jl:13"
     ]
    }
   ],
   "source": [
    "using ITensorMPS\n",
    "\n",
    "N = 8 #number of sites\n",
    "sites = siteinds(\"S=1\",N; conserve_qns=true) #spin 1 in each sites\n",
    "\n",
    "  os = OpSum()\n",
    "  for j=1:N\n",
    "    os += 1.0 ,\"S+ * S+\",j,\"S- * S-\",mod(j,N)+1   #I think this is the Ham in Sriram's paper\n",
    "    os += 1.0 ,\"S- * S-\",j,\"S+ * S+\",mod(j,N)+1\n",
    "    os += 1.0 ,\"S+ * S+\",j+1,\"S- * S-\",j\n",
    "    os += 1.0 , \"S- * S-\", j+1, \"S+ * S+\",j\n",
    "  end\n",
    "  H = MPO(os,sites)\n",
    "\n",
    "  nsweeps = 15 # number of sweeps is 15\n",
    "  maxdim = [10,20,100,100,200,200,400,400,500] # gradually increase states kept\n",
    "  cutoff = [1E-10] # desired truncation error\n",
    "  \n",
    "  states = [isodd(n) ? \"Up\" : \"Dn\" for n in 1:N] #Neel state-- we know GS is in S^z=0 sector\n",
    "  psi0 = MPS(sites, states) #constructing the state as MPS which is taken as variational ansatz in next step\n",
    "\n",
    "  energy,psigs = dmrg(H,psi0;nsweeps,maxdim,cutoff);"
   ]
  },
  {
   "cell_type": "code",
   "execution_count": 17,
   "id": "53554065",
   "metadata": {},
   "outputs": [
    {
     "name": "stdout",
     "output_type": "stream",
     "text": [
      "After sweep 1: maxlinkdim=4 maxerr=9.73E-16 current_time=0.0 - 0.1im time=0.026\n",
      "After sweep 1: maxlinkdim=16 maxerr=6.73E-16 current_time=0.0 - 0.1im time=0.323\n",
      "After sweep 1: maxlinkdim=16 maxerr=3.17E-16 current_time=0.0 - 0.1im time=0.411\n",
      "After sweep 1: maxlinkdim=16 maxerr=8.93E-16 current_time=0.0 - 0.1im time=0.4\n",
      "After sweep 1: maxlinkdim=16 maxerr=8.66E-16 current_time=0.0 - 0.1im time=0.399\n",
      "After sweep 1: maxlinkdim=16 maxerr=3.28E-16 current_time=0.0 - 0.1im time=0.4\n",
      "After sweep 1: maxlinkdim=16 maxerr=8.62E-16 current_time=0.0 - 0.1im time=0.401\n",
      "After sweep 1: maxlinkdim=16 maxerr=7.41E-16 current_time=0.0 - 0.1im time=0.401\n",
      "After sweep 1: maxlinkdim=16 maxerr=7.24E-16 current_time=0.0 - 0.1im time=0.39\n",
      "After sweep 1: maxlinkdim=16 maxerr=9.91E-16 current_time=0.0 - 0.1im time=0.392\n",
      "After sweep 1: maxlinkdim=16 maxerr=9.06E-16 current_time=0.0 - 0.1im time=0.401\n",
      "After sweep 1: maxlinkdim=16 maxerr=8.34E-16 current_time=0.0 - 0.1im time=0.382\n",
      "After sweep 1: maxlinkdim=16 maxerr=7.30E-16 current_time=0.0 - 0.1im time=0.379\n",
      "After sweep 1: maxlinkdim=16 maxerr=4.86E-16 current_time=0.0 - 0.1im time=0.379\n",
      "After sweep 1: maxlinkdim=16 maxerr=5.60E-16 current_time=0.0 - 0.1im time=0.379\n",
      "After sweep 1: maxlinkdim=16 maxerr=6.78E-16 current_time=0.0 - 0.1im time=0.379\n",
      "After sweep 1: maxlinkdim=16 maxerr=7.52E-16 current_time=0.0 - 0.1im time=0.381\n",
      "After sweep 1: maxlinkdim=16 maxerr=1.65E-16 current_time=0.0 - 0.1im time=0.381\n",
      "After sweep 1: maxlinkdim=16 maxerr=8.98E-16 current_time=0.0 - 0.1im time=0.377\n",
      "After sweep 1: maxlinkdim=16 maxerr=5.20E-16 current_time=0.0 - 0.1im time=0.377\n",
      "After sweep 1: maxlinkdim=16 maxerr=6.58E-16 current_time=0.0 - 0.1im time=0.377\n",
      "After sweep 1: maxlinkdim=16 maxerr=7.70E-16 current_time=0.0 - 0.1im time=0.381\n",
      "After sweep 1: maxlinkdim=16 maxerr=8.43E-16 current_time=0.0 - 0.1im time=0.377\n",
      "After sweep 1: maxlinkdim=16 maxerr=6.44E-16 current_time=0.0 - 0.1im time=0.396\n",
      "After sweep 1: maxlinkdim=16 maxerr=7.91E-16 current_time=0.0 - 0.1im time=0.391\n",
      "After sweep 1: maxlinkdim=16 maxerr=8.81E-16 current_time=0.0 - 0.1im time=0.384\n",
      "After sweep 1: maxlinkdim=16 maxerr=6.55E-16 current_time=0.0 - 0.1im time=0.381\n",
      "After sweep 1: maxlinkdim=16 maxerr=7.85E-16 current_time=0.0 - 0.1im time=0.38\n",
      "After sweep 1: maxlinkdim=13 maxerr=5.36E-11 current_time=0.0 - 0.1im time=0.382\n",
      "After sweep 1: maxlinkdim=16 maxerr=7.25E-16 current_time=0.0 - 0.1im time=0.394\n",
      "After sweep 1: maxlinkdim=16 maxerr=6.90E-16 current_time=0.0 - 0.1im time=0.441\n",
      "After sweep 1: maxlinkdim=16 maxerr=9.00E-16 current_time=0.0 - 0.1im time=0.384\n",
      "After sweep 1: maxlinkdim=16 maxerr=9.55E-16 current_time=0.0 - 0.1im time=0.383\n",
      "After sweep 1: maxlinkdim=16 maxerr=8.73E-16 current_time=0.0 - 0.1im time=0.384\n",
      "After sweep 1: maxlinkdim=16 maxerr=5.17E-16 current_time=0.0 - 0.1im time=0.387\n",
      "After sweep 1: maxlinkdim=16 maxerr=4.44E-16 current_time=0.0 - 0.1im time=0.383\n",
      "After sweep 1: maxlinkdim=16 maxerr=7.71E-16 current_time=0.0 - 0.1im time=0.384\n",
      "After sweep 1: maxlinkdim=16 maxerr=7.14E-16 current_time=0.0 - 0.1im time=0.384\n",
      "After sweep 1: maxlinkdim=16 maxerr=7.87E-16 current_time=0.0 - 0.1im time=0.384\n",
      "After sweep 1: maxlinkdim=16 maxerr=9.04E-16 current_time=0.0 - 0.1im time=0.386\n",
      "After sweep 1: maxlinkdim=16 maxerr=8.19E-16 current_time=0.0 - 0.1im time=0.383\n",
      "After sweep 1: maxlinkdim=16 maxerr=8.24E-16 current_time=0.0 - 0.1im time=0.396\n",
      "After sweep 1: maxlinkdim=16 maxerr=8.86E-16 current_time=0.0 - 0.1im time=0.385\n",
      "After sweep 1: maxlinkdim=16 maxerr=5.83E-16 current_time=0.0 - 0.1im time=0.384\n",
      "After sweep 1: maxlinkdim=16 maxerr=7.46E-16 current_time=0.0 - 0.1im time=0.383\n",
      "After sweep 1: maxlinkdim=16 maxerr=1.03E-15 current_time=0.0 - 0.1im time=0.382\n",
      "After sweep 1: maxlinkdim=16 maxerr=8.39E-16 current_time=0.0 - 0.1im time=0.383\n",
      "After sweep 1: maxlinkdim=16 maxerr=2.45E-16 current_time=0.0 - 0.1im time=0.392\n",
      "After sweep 1: maxlinkdim=16 maxerr=8.87E-16 current_time=0.0 - 0.1im time=0.388\n",
      "After sweep 1: maxlinkdim=16 maxerr=7.36E-16 current_time=0.0 - 0.1im time=0.386\n"
     ]
    },
    {
     "data": {
      "image/png": "[encoded data removed]",
      "image/svg+xml": [
       "<?xml version=\"1.0\" encoding=\"utf-8\"?>\n",
       "<svg xmlns=\"http://www.w3.org/2000/svg\" xmlns:xlink=\"http://www.w3.org/1999/xlink\" width=\"600\" height=\"400\" viewBox=\"0 0 2400 1600\">\n",
       "<defs>\n",
       "  <clipPath id=\"clip960\">\n",
       "    <rect x=\"0\" y=\"0\" width=\"2400\" height=\"1600\"/>\n",
       "  </clipPath>\n",
       "</defs>\n",
       "<path clip-path=\"url(#clip960)\" d=\"M0 1600 L2400 1600 L2400 8.88178e-14 L0 8.88178e-14  Z\" fill=\"#ffffff\" fill-rule=\"evenodd\" fill-opacity=\"1\"/>\n",
       "<defs>\n",
       "  <clipPath id=\"clip961\">\n",
       "    <rect x=\"480\" y=\"0\" width=\"1681\" height=\"1600\"/>\n",
       "  </clipPath>\n",
       "</defs>\n",
       "<path clip-path=\"url(#clip960)\" d=\"M156.112 1486.45 L2352.76 1486.45 L2352.76 47.2441 L156.112 47.2441  Z\" fill=\"#ffffff\" fill-rule=\"evenodd\" fill-opacity=\"1\"/>\n",
       "<defs>\n",
       "  <clipPath id=\"clip962\">\n",
       "    <rect x=\"156\" y=\"47\" width=\"2198\" height=\"1440\"/>\n",
       "  </clipPath>\n",
       "</defs>\n",
       "<polyline clip-path=\"url(#clip962)\" style=\"stroke:#000000; stroke-linecap:round; stroke-linejoin:round; stroke-width:2; stroke-opacity:0.1; fill:none\" points=\"218.281,1486.45 218.281,47.2441 \"/>\n",
       "<polyline clip-path=\"url(#clip962)\" style=\"stroke:#000000; stroke-linecap:round; stroke-linejoin:round; stroke-width:2; stroke-opacity:0.1; fill:none\" points=\"632.742,1486.45 632.742,47.2441 \"/>\n",
       "<polyline clip-path=\"url(#clip962)\" style=\"stroke:#000000; stroke-linecap:round; stroke-linejoin:round; stroke-width:2; stroke-opacity:0.1; fill:none\" points=\"1047.2,1486.45 1047.2,47.2441 \"/>\n",
       "<polyline clip-path=\"url(#clip962)\" style=\"stroke:#000000; stroke-linecap:round; stroke-linejoin:round; stroke-width:2; stroke-opacity:0.1; fill:none\" points=\"1461.66,1486.45 1461.66,47.2441 \"/>\n",
       "<polyline clip-path=\"url(#clip962)\" style=\"stroke:#000000; stroke-linecap:round; stroke-linejoin:round; stroke-width:2; stroke-opacity:0.1; fill:none\" points=\"1876.13,1486.45 1876.13,47.2441 \"/>\n",
       "<polyline clip-path=\"url(#clip962)\" style=\"stroke:#000000; stroke-linecap:round; stroke-linejoin:round; stroke-width:2; stroke-opacity:0.1; fill:none\" points=\"2290.59,1486.45 2290.59,47.2441 \"/>\n",
       "<polyline clip-path=\"url(#clip962)\" style=\"stroke:#000000; stroke-linecap:round; stroke-linejoin:round; stroke-width:2; stroke-opacity:0.1; fill:none\" points=\"156.112,1445.72 2352.76,1445.72 \"/>\n",
       "<polyline clip-path=\"url(#clip962)\" style=\"stroke:#000000; stroke-linecap:round; stroke-linejoin:round; stroke-width:2; stroke-opacity:0.1; fill:none\" points=\"156.112,1123.67 2352.76,1123.67 \"/>\n",
       "<polyline clip-path=\"url(#clip962)\" style=\"stroke:#000000; stroke-linecap:round; stroke-linejoin:round; stroke-width:2; stroke-opacity:0.1; fill:none\" points=\"156.112,801.628 2352.76,801.628 \"/>\n",
       "<polyline clip-path=\"url(#clip962)\" style=\"stroke:#000000; stroke-linecap:round; stroke-linejoin:round; stroke-width:2; stroke-opacity:0.1; fill:none\" points=\"156.112,479.584 2352.76,479.584 \"/>\n",
       "<polyline clip-path=\"url(#clip962)\" style=\"stroke:#000000; stroke-linecap:round; stroke-linejoin:round; stroke-width:2; stroke-opacity:0.1; fill:none\" points=\"156.112,157.54 2352.76,157.54 \"/>\n",
       "<polyline clip-path=\"url(#clip960)\" style=\"stroke:#000000; stroke-linecap:round; stroke-linejoin:round; stroke-width:4; stroke-opacity:1; fill:none\" points=\"156.112,1486.45 2352.76,1486.45 \"/>\n",
       "<polyline clip-path=\"url(#clip960)\" style=\"stroke:#000000; stroke-linecap:round; stroke-linejoin:round; stroke-width:4; stroke-opacity:1; fill:none\" points=\"218.281,1486.45 218.281,1467.55 \"/>\n",
       "<polyline clip-path=\"url(#clip960)\" style=\"stroke:#000000; stroke-linecap:round; stroke-linejoin:round; stroke-width:4; stroke-opacity:1; fill:none\" points=\"632.742,1486.45 632.742,1467.55 \"/>\n",
       "<polyline clip-path=\"url(#clip960)\" style=\"stroke:#000000; stroke-linecap:round; stroke-linejoin:round; stroke-width:4; stroke-opacity:1; fill:none\" points=\"1047.2,1486.45 1047.2,1467.55 \"/>\n",
       "<polyline clip-path=\"url(#clip960)\" style=\"stroke:#000000; stroke-linecap:round; stroke-linejoin:round; stroke-width:4; stroke-opacity:1; fill:none\" points=\"1461.66,1486.45 1461.66,1467.55 \"/>\n",
       "<polyline clip-path=\"url(#clip960)\" style=\"stroke:#000000; stroke-linecap:round; stroke-linejoin:round; stroke-width:4; stroke-opacity:1; fill:none\" points=\"1876.13,1486.45 1876.13,1467.55 \"/>\n",
       "<polyline clip-path=\"url(#clip960)\" style=\"stroke:#000000; stroke-linecap:round; stroke-linejoin:round; stroke-width:4; stroke-opacity:1; fill:none\" points=\"2290.59,1486.45 2290.59,1467.55 \"/>\n",
       "<path clip-path=\"url(#clip960)\" d=\"M218.281 1517.37 Q214.67 1517.37 212.842 1520.93 Q211.036 1524.47 211.036 1531.6 Q211.036 1538.71 212.842 1542.27 Q214.67 1545.82 218.281 1545.82 Q221.916 1545.82 223.721 1542.27 Q225.55 1538.71 225.55 1531.6 Q225.55 1524.47 223.721 1520.93 Q221.916 1517.37 218.281 1517.37 M218.281 1513.66 Q224.091 1513.66 227.147 1518.27 Q230.226 1522.85 230.226 1531.6 Q230.226 1540.33 227.147 1544.94 Q224.091 1549.52 218.281 1549.52 Q212.471 1549.52 209.392 1544.94 Q206.337 1540.33 206.337 1531.6 Q206.337 1522.85 209.392 1518.27 Q212.471 1513.66 218.281 1513.66 Z\" fill=\"#000000\" fill-rule=\"nonzero\" fill-opacity=\"1\" /><path clip-path=\"url(#clip960)\" d=\"M623.124 1544.91 L630.763 1544.91 L630.763 1518.55 L622.453 1520.21 L622.453 1515.95 L630.717 1514.29 L635.393 1514.29 L635.393 1544.91 L643.032 1544.91 L643.032 1548.85 L623.124 1548.85 L623.124 1544.91 Z\" fill=\"#000000\" fill-rule=\"nonzero\" fill-opacity=\"1\" /><path clip-path=\"url(#clip960)\" d=\"M1041.86 1544.91 L1058.18 1544.91 L1058.18 1548.85 L1036.23 1548.85 L1036.23 1544.91 Q1038.89 1542.16 1043.48 1537.53 Q1048.08 1532.88 1049.26 1531.53 Q1051.51 1529.01 1052.39 1527.27 Q1053.29 1525.51 1053.29 1523.82 Q1053.29 1521.07 1051.35 1519.33 Q1049.43 1517.6 1046.32 1517.6 Q1044.12 1517.6 1041.67 1518.36 Q1039.24 1519.13 1036.46 1520.68 L1036.46 1515.95 Q1039.29 1514.82 1041.74 1514.24 Q1044.19 1513.66 1046.23 1513.66 Q1051.6 1513.66 1054.8 1516.35 Q1057.99 1519.03 1057.99 1523.52 Q1057.99 1525.65 1057.18 1527.57 Q1056.39 1529.47 1054.29 1532.07 Q1053.71 1532.74 1050.61 1535.95 Q1047.5 1539.15 1041.86 1544.91 Z\" fill=\"#000000\" fill-rule=\"nonzero\" fill-opacity=\"1\" /><path clip-path=\"url(#clip960)\" d=\"M1465.91 1530.21 Q1469.27 1530.93 1471.14 1533.2 Q1473.04 1535.47 1473.04 1538.8 Q1473.04 1543.92 1469.52 1546.72 Q1466 1549.52 1459.52 1549.52 Q1457.35 1549.52 1455.03 1549.08 Q1452.74 1548.66 1450.29 1547.81 L1450.29 1543.29 Q1452.23 1544.43 1454.55 1545.01 Q1456.86 1545.58 1459.38 1545.58 Q1463.78 1545.58 1466.07 1543.85 Q1468.39 1542.11 1468.39 1538.8 Q1468.39 1535.75 1466.24 1534.03 Q1464.11 1532.3 1460.29 1532.3 L1456.26 1532.3 L1456.26 1528.45 L1460.47 1528.45 Q1463.92 1528.45 1465.75 1527.09 Q1467.58 1525.7 1467.58 1523.11 Q1467.58 1520.45 1465.68 1519.03 Q1463.81 1517.6 1460.29 1517.6 Q1458.37 1517.6 1456.17 1518.01 Q1453.97 1518.43 1451.33 1519.31 L1451.33 1515.14 Q1453.99 1514.4 1456.31 1514.03 Q1458.64 1513.66 1460.7 1513.66 Q1466.03 1513.66 1469.13 1516.09 Q1472.23 1518.5 1472.23 1522.62 Q1472.23 1525.49 1470.59 1527.48 Q1468.94 1529.45 1465.91 1530.21 Z\" fill=\"#000000\" fill-rule=\"nonzero\" fill-opacity=\"1\" /><path clip-path=\"url(#clip960)\" d=\"M1879.13 1518.36 L1867.33 1536.81 L1879.13 1536.81 L1879.13 1518.36 M1877.91 1514.29 L1883.79 1514.29 L1883.79 1536.81 L1888.72 1536.81 L1888.72 1540.7 L1883.79 1540.7 L1883.79 1548.85 L1879.13 1548.85 L1879.13 1540.7 L1863.53 1540.7 L1863.53 1536.19 L1877.91 1514.29 Z\" fill=\"#000000\" fill-rule=\"nonzero\" fill-opacity=\"1\" /><path clip-path=\"url(#clip960)\" d=\"M2280.86 1514.29 L2299.22 1514.29 L2299.22 1518.22 L2285.15 1518.22 L2285.15 1526.7 Q2286.17 1526.35 2287.18 1526.19 Q2288.2 1526 2289.22 1526 Q2295.01 1526 2298.39 1529.17 Q2301.77 1532.34 2301.77 1537.76 Q2301.77 1543.34 2298.3 1546.44 Q2294.82 1549.52 2288.5 1549.52 Q2286.33 1549.52 2284.06 1549.15 Q2281.81 1548.78 2279.41 1548.04 L2279.41 1543.34 Q2281.49 1544.47 2283.71 1545.03 Q2285.93 1545.58 2288.41 1545.58 Q2292.42 1545.58 2294.75 1543.48 Q2297.09 1541.37 2297.09 1537.76 Q2297.09 1534.15 2294.75 1532.04 Q2292.42 1529.94 2288.41 1529.94 Q2286.54 1529.94 2284.66 1530.35 Q2282.81 1530.77 2280.86 1531.65 L2280.86 1514.29 Z\" fill=\"#000000\" fill-rule=\"nonzero\" fill-opacity=\"1\" /><polyline clip-path=\"url(#clip960)\" style=\"stroke:#000000; stroke-linecap:round; stroke-linejoin:round; stroke-width:4; stroke-opacity:1; fill:none\" points=\"156.112,1486.45 156.112,47.2441 \"/>\n",
       "<polyline clip-path=\"url(#clip960)\" style=\"stroke:#000000; stroke-linecap:round; stroke-linejoin:round; stroke-width:4; stroke-opacity:1; fill:none\" points=\"156.112,1445.72 175.01,1445.72 \"/>\n",
       "<polyline clip-path=\"url(#clip960)\" style=\"stroke:#000000; stroke-linecap:round; stroke-linejoin:round; stroke-width:4; stroke-opacity:1; fill:none\" points=\"156.112,1123.67 175.01,1123.67 \"/>\n",
       "<polyline clip-path=\"url(#clip960)\" style=\"stroke:#000000; stroke-linecap:round; stroke-linejoin:round; stroke-width:4; stroke-opacity:1; fill:none\" points=\"156.112,801.628 175.01,801.628 \"/>\n",
       "<polyline clip-path=\"url(#clip960)\" style=\"stroke:#000000; stroke-linecap:round; stroke-linejoin:round; stroke-width:4; stroke-opacity:1; fill:none\" points=\"156.112,479.584 175.01,479.584 \"/>\n",
       "<polyline clip-path=\"url(#clip960)\" style=\"stroke:#000000; stroke-linecap:round; stroke-linejoin:round; stroke-width:4; stroke-opacity:1; fill:none\" points=\"156.112,157.54 175.01,157.54 \"/>\n",
       "<path clip-path=\"url(#clip960)\" d=\"M62.9365 1431.51 Q59.3254 1431.51 57.4967 1435.08 Q55.6912 1438.62 55.6912 1445.75 Q55.6912 1452.86 57.4967 1456.42 Q59.3254 1459.96 62.9365 1459.96 Q66.5707 1459.96 68.3763 1456.42 Q70.205 1452.86 70.205 1445.75 Q70.205 1438.62 68.3763 1435.08 Q66.5707 1431.51 62.9365 1431.51 M62.9365 1427.81 Q68.7467 1427.81 71.8022 1432.42 Q74.8809 1437 74.8809 1445.75 Q74.8809 1454.48 71.8022 1459.08 Q68.7467 1463.67 62.9365 1463.67 Q57.1264 1463.67 54.0477 1459.08 Q50.9921 1454.48 50.9921 1445.75 Q50.9921 1437 54.0477 1432.42 Q57.1264 1427.81 62.9365 1427.81 Z\" fill=\"#000000\" fill-rule=\"nonzero\" fill-opacity=\"1\" /><path clip-path=\"url(#clip960)\" d=\"M83.0984 1457.12 L87.9827 1457.12 L87.9827 1463 L83.0984 1463 L83.0984 1457.12 Z\" fill=\"#000000\" fill-rule=\"nonzero\" fill-opacity=\"1\" /><path clip-path=\"url(#clip960)\" d=\"M108.168 1431.51 Q104.557 1431.51 102.728 1435.08 Q100.922 1438.62 100.922 1445.75 Q100.922 1452.86 102.728 1456.42 Q104.557 1459.96 108.168 1459.96 Q111.802 1459.96 113.608 1456.42 Q115.436 1452.86 115.436 1445.75 Q115.436 1438.62 113.608 1435.08 Q111.802 1431.51 108.168 1431.51 M108.168 1427.81 Q113.978 1427.81 117.033 1432.42 Q120.112 1437 120.112 1445.75 Q120.112 1454.48 117.033 1459.08 Q113.978 1463.67 108.168 1463.67 Q102.358 1463.67 99.2789 1459.08 Q96.2234 1454.48 96.2234 1445.75 Q96.2234 1437 99.2789 1432.42 Q102.358 1427.81 108.168 1427.81 Z\" fill=\"#000000\" fill-rule=\"nonzero\" fill-opacity=\"1\" /><path clip-path=\"url(#clip960)\" d=\"M63.9319 1109.47 Q60.3208 1109.47 58.4921 1113.04 Q56.6865 1116.58 56.6865 1123.71 Q56.6865 1130.81 58.4921 1134.38 Q60.3208 1137.92 63.9319 1137.92 Q67.5661 1137.92 69.3717 1134.38 Q71.2004 1130.81 71.2004 1123.71 Q71.2004 1116.58 69.3717 1113.04 Q67.5661 1109.47 63.9319 1109.47 M63.9319 1105.77 Q69.742 1105.77 72.7976 1110.37 Q75.8763 1114.96 75.8763 1123.71 Q75.8763 1132.43 72.7976 1137.04 Q69.742 1141.62 63.9319 1141.62 Q58.1217 1141.62 55.043 1137.04 Q51.9875 1132.43 51.9875 1123.71 Q51.9875 1114.96 55.043 1110.37 Q58.1217 1105.77 63.9319 1105.77 Z\" fill=\"#000000\" fill-rule=\"nonzero\" fill-opacity=\"1\" /><path clip-path=\"url(#clip960)\" d=\"M84.0938 1135.07 L88.978 1135.07 L88.978 1140.95 L84.0938 1140.95 L84.0938 1135.07 Z\" fill=\"#000000\" fill-rule=\"nonzero\" fill-opacity=\"1\" /><path clip-path=\"url(#clip960)\" d=\"M99.2095 1106.39 L117.566 1106.39 L117.566 1110.33 L103.492 1110.33 L103.492 1118.8 Q104.51 1118.45 105.529 1118.29 Q106.547 1118.1 107.566 1118.1 Q113.353 1118.1 116.733 1121.28 Q120.112 1124.45 120.112 1129.86 Q120.112 1135.44 116.64 1138.54 Q113.168 1141.62 106.848 1141.62 Q104.672 1141.62 102.404 1141.25 Q100.159 1140.88 97.7511 1140.14 L97.7511 1135.44 Q99.8345 1136.58 102.057 1137.13 Q104.279 1137.69 106.756 1137.69 Q110.76 1137.69 113.098 1135.58 Q115.436 1133.47 115.436 1129.86 Q115.436 1126.25 113.098 1124.15 Q110.76 1122.04 106.756 1122.04 Q104.881 1122.04 103.006 1122.46 Q101.154 1122.87 99.2095 1123.75 L99.2095 1106.39 Z\" fill=\"#000000\" fill-rule=\"nonzero\" fill-opacity=\"1\" /><path clip-path=\"url(#clip960)\" d=\"M53.7467 814.973 L61.3856 814.973 L61.3856 788.607 L53.0754 790.274 L53.0754 786.015 L61.3393 784.348 L66.0152 784.348 L66.0152 814.973 L73.654 814.973 L73.654 818.908 L53.7467 818.908 L53.7467 814.973 Z\" fill=\"#000000\" fill-rule=\"nonzero\" fill-opacity=\"1\" /><path clip-path=\"url(#clip960)\" d=\"M83.0984 813.028 L87.9827 813.028 L87.9827 818.908 L83.0984 818.908 L83.0984 813.028 Z\" fill=\"#000000\" fill-rule=\"nonzero\" fill-opacity=\"1\" /><path clip-path=\"url(#clip960)\" d=\"M108.168 787.427 Q104.557 787.427 102.728 790.991 Q100.922 794.533 100.922 801.663 Q100.922 808.769 102.728 812.334 Q104.557 815.875 108.168 815.875 Q111.802 815.875 113.608 812.334 Q115.436 808.769 115.436 801.663 Q115.436 794.533 113.608 790.991 Q111.802 787.427 108.168 787.427 M108.168 783.723 Q113.978 783.723 117.033 788.329 Q120.112 792.913 120.112 801.663 Q120.112 810.389 117.033 814.996 Q113.978 819.579 108.168 819.579 Q102.358 819.579 99.2789 814.996 Q96.2234 810.389 96.2234 801.663 Q96.2234 792.913 99.2789 788.329 Q102.358 783.723 108.168 783.723 Z\" fill=\"#000000\" fill-rule=\"nonzero\" fill-opacity=\"1\" /><path clip-path=\"url(#clip960)\" d=\"M54.7421 492.929 L62.381 492.929 L62.381 466.563 L54.0708 468.23 L54.0708 463.971 L62.3347 462.304 L67.0106 462.304 L67.0106 492.929 L74.6494 492.929 L74.6494 496.864 L54.7421 496.864 L54.7421 492.929 Z\" fill=\"#000000\" fill-rule=\"nonzero\" fill-opacity=\"1\" /><path clip-path=\"url(#clip960)\" d=\"M84.0938 490.984 L88.978 490.984 L88.978 496.864 L84.0938 496.864 L84.0938 490.984 Z\" fill=\"#000000\" fill-rule=\"nonzero\" fill-opacity=\"1\" /><path clip-path=\"url(#clip960)\" d=\"M99.2095 462.304 L117.566 462.304 L117.566 466.239 L103.492 466.239 L103.492 474.711 Q104.51 474.364 105.529 474.202 Q106.547 474.017 107.566 474.017 Q113.353 474.017 116.733 477.188 Q120.112 480.359 120.112 485.776 Q120.112 491.355 116.64 494.457 Q113.168 497.535 106.848 497.535 Q104.672 497.535 102.404 497.165 Q100.159 496.795 97.7511 496.054 L97.7511 491.355 Q99.8345 492.489 102.057 493.045 Q104.279 493.6 106.756 493.6 Q110.76 493.6 113.098 491.494 Q115.436 489.387 115.436 485.776 Q115.436 482.165 113.098 480.058 Q110.76 477.952 106.756 477.952 Q104.881 477.952 103.006 478.369 Q101.154 478.785 99.2095 479.665 L99.2095 462.304 Z\" fill=\"#000000\" fill-rule=\"nonzero\" fill-opacity=\"1\" /><path clip-path=\"url(#clip960)\" d=\"M56.9643 170.885 L73.2837 170.885 L73.2837 174.82 L51.3393 174.82 L51.3393 170.885 Q54.0014 168.13 58.5847 163.501 Q63.1911 158.848 64.3717 157.505 Q66.617 154.982 67.4967 153.246 Q68.3994 151.487 68.3994 149.797 Q68.3994 147.042 66.455 145.306 Q64.5337 143.57 61.4319 143.57 Q59.2328 143.57 56.7791 144.334 Q54.3486 145.098 51.5708 146.649 L51.5708 141.927 Q54.3949 140.792 56.8486 140.214 Q59.3023 139.635 61.3393 139.635 Q66.7096 139.635 69.9041 142.32 Q73.0985 145.005 73.0985 149.496 Q73.0985 151.626 72.2883 153.547 Q71.5013 155.445 69.3948 158.038 Q68.8161 158.709 65.7143 161.927 Q62.6124 165.121 56.9643 170.885 Z\" fill=\"#000000\" fill-rule=\"nonzero\" fill-opacity=\"1\" /><path clip-path=\"url(#clip960)\" d=\"M83.0984 168.94 L87.9827 168.94 L87.9827 174.82 L83.0984 174.82 L83.0984 168.94 Z\" fill=\"#000000\" fill-rule=\"nonzero\" fill-opacity=\"1\" /><path clip-path=\"url(#clip960)\" d=\"M108.168 143.339 Q104.557 143.339 102.728 146.904 Q100.922 150.445 100.922 157.575 Q100.922 164.681 102.728 168.246 Q104.557 171.788 108.168 171.788 Q111.802 171.788 113.608 168.246 Q115.436 164.681 115.436 157.575 Q115.436 150.445 113.608 146.904 Q111.802 143.339 108.168 143.339 M108.168 139.635 Q113.978 139.635 117.033 144.242 Q120.112 148.825 120.112 157.575 Q120.112 166.302 117.033 170.908 Q113.978 175.491 108.168 175.491 Q102.358 175.491 99.2789 170.908 Q96.2234 166.302 96.2234 157.575 Q96.2234 148.825 99.2789 144.242 Q102.358 139.635 108.168 139.635 Z\" fill=\"#000000\" fill-rule=\"nonzero\" fill-opacity=\"1\" /><polyline clip-path=\"url(#clip962)\" style=\"stroke:#009af9; stroke-linecap:round; stroke-linejoin:round; stroke-width:4; stroke-opacity:1; fill:none\" points=\"218.281,1445.72 259.727,985.266 301.174,780.266 342.62,707.365 384.066,528.221 425.512,351.41 466.958,147.959 508.404,565.313 549.85,805.215 591.296,363.209 632.742,429.108 674.188,622.381 715.635,326.173 757.081,207.763 798.527,833.913 839.973,882.801 881.419,791.537 922.865,846.084 964.311,892.323 1005.76,476.759 1047.2,403.646 1088.65,454.893 1130.1,783.426 1171.54,725.855 1212.99,428.596 1254.43,413.7 1295.88,463.798 1337.33,96.8672 1378.77,287.788 1420.22,971.87 1461.66,614.737 1503.11,585.244 1544.56,844.099 1586,812.298 1627.45,320.416 1668.9,495.835 1710.34,807.787 1751.79,944.369 1793.23,737.322 1834.68,652.709 1876.13,451.537 1917.57,387.396 1959.02,87.9763 2000.46,437.533 2041.91,897.915 2083.36,420.451 2124.8,419.344 2166.25,755.851 2207.69,503.674 2249.14,202.848 2290.59,687.871 \"/>\n",
       "<path clip-path=\"url(#clip960)\" d=\"M2007.44 1438.47 L2279.53 1438.47 L2279.53 1334.79 L2007.44 1334.79  Z\" fill=\"#ffffff\" fill-rule=\"evenodd\" fill-opacity=\"1\"/>\n",
       "<polyline clip-path=\"url(#clip960)\" style=\"stroke:#000000; stroke-linecap:round; stroke-linejoin:round; stroke-width:4; stroke-opacity:1; fill:none\" points=\"2007.44,1438.47 2279.53,1438.47 2279.53,1334.79 2007.44,1334.79 2007.44,1438.47 \"/>\n",
       "<polyline clip-path=\"url(#clip960)\" style=\"stroke:#009af9; stroke-linecap:round; stroke-linejoin:round; stroke-width:4; stroke-opacity:1; fill:none\" points=\"2031.85,1386.63 2178.29,1386.63 \"/>\n",
       "<path clip-path=\"url(#clip960)\" d=\"M2216.54 1406.32 Q2214.73 1410.95 2213.02 1412.36 Q2211.31 1413.78 2208.44 1413.78 L2205.03 1413.78 L2205.03 1410.21 L2207.53 1410.21 Q2209.29 1410.21 2210.27 1409.38 Q2211.24 1408.54 2212.42 1405.44 L2213.18 1403.5 L2202.7 1377.99 L2207.21 1377.99 L2215.31 1398.27 L2223.41 1377.99 L2227.93 1377.99 L2216.54 1406.32 Z\" fill=\"#000000\" fill-rule=\"nonzero\" fill-opacity=\"1\" /><path clip-path=\"url(#clip960)\" d=\"M2235.22 1399.98 L2242.86 1399.98 L2242.86 1373.61 L2234.55 1375.28 L2234.55 1371.02 L2242.81 1369.35 L2247.49 1369.35 L2247.49 1399.98 L2255.13 1399.98 L2255.13 1403.91 L2235.22 1403.91 L2235.22 1399.98 Z\" fill=\"#000000\" fill-rule=\"nonzero\" fill-opacity=\"1\" /></svg>\n"
      ],
      "text/html": [
       "<?xml version=\"1.0\" encoding=\"utf-8\"?>\n",
       "<svg xmlns=\"http://www.w3.org/2000/svg\" xmlns:xlink=\"http://www.w3.org/1999/xlink\" width=\"600\" height=\"400\" viewBox=\"0 0 2400 1600\">\n",
       "<defs>\n",
       "  <clipPath id=\"clip010\">\n",
       "    <rect x=\"0\" y=\"0\" width=\"2400\" height=\"1600\"/>\n",
       "  </clipPath>\n",
       "</defs>\n",
       "<path clip-path=\"url(#clip010)\" d=\"M0 1600 L2400 1600 L2400 8.88178e-14 L0 8.88178e-14  Z\" fill=\"#ffffff\" fill-rule=\"evenodd\" fill-opacity=\"1\"/>\n",
       "<defs>\n",
       "  <clipPath id=\"clip011\">\n",
       "    <rect x=\"480\" y=\"0\" width=\"1681\" height=\"1600\"/>\n",
       "  </clipPath>\n",
       "</defs>\n",
       "<path clip-path=\"url(#clip010)\" d=\"M156.112 1486.45 L2352.76 1486.45 L2352.76 47.2441 L156.112 47.2441  Z\" fill=\"#ffffff\" fill-rule=\"evenodd\" fill-opacity=\"1\"/>\n",
       "<defs>\n",
       "  <clipPath id=\"clip012\">\n",
       "    <rect x=\"156\" y=\"47\" width=\"2198\" height=\"1440\"/>\n",
       "  </clipPath>\n",
       "</defs>\n",
       "<polyline clip-path=\"url(#clip012)\" style=\"stroke:#000000; stroke-linecap:round; stroke-linejoin:round; stroke-width:2; stroke-opacity:0.1; fill:none\" points=\"218.281,1486.45 218.281,47.2441 \"/>\n",
       "<polyline clip-path=\"url(#clip012)\" style=\"stroke:#000000; stroke-linecap:round; stroke-linejoin:round; stroke-width:2; stroke-opacity:0.1; fill:none\" points=\"632.742,1486.45 632.742,47.2441 \"/>\n",
       "<polyline clip-path=\"url(#clip012)\" style=\"stroke:#000000; stroke-linecap:round; stroke-linejoin:round; stroke-width:2; stroke-opacity:0.1; fill:none\" points=\"1047.2,1486.45 1047.2,47.2441 \"/>\n",
       "<polyline clip-path=\"url(#clip012)\" style=\"stroke:#000000; stroke-linecap:round; stroke-linejoin:round; stroke-width:2; stroke-opacity:0.1; fill:none\" points=\"1461.66,1486.45 1461.66,47.2441 \"/>\n",
       "<polyline clip-path=\"url(#clip012)\" style=\"stroke:#000000; stroke-linecap:round; stroke-linejoin:round; stroke-width:2; stroke-opacity:0.1; fill:none\" points=\"1876.13,1486.45 1876.13,47.2441 \"/>\n",
       "<polyline clip-path=\"url(#clip012)\" style=\"stroke:#000000; stroke-linecap:round; stroke-linejoin:round; stroke-width:2; stroke-opacity:0.1; fill:none\" points=\"2290.59,1486.45 2290.59,47.2441 \"/>\n",
       "<polyline clip-path=\"url(#clip012)\" style=\"stroke:#000000; stroke-linecap:round; stroke-linejoin:round; stroke-width:2; stroke-opacity:0.1; fill:none\" points=\"156.112,1445.72 2352.76,1445.72 \"/>\n",
       "<polyline clip-path=\"url(#clip012)\" style=\"stroke:#000000; stroke-linecap:round; stroke-linejoin:round; stroke-width:2; stroke-opacity:0.1; fill:none\" points=\"156.112,1123.67 2352.76,1123.67 \"/>\n",
       "<polyline clip-path=\"url(#clip012)\" style=\"stroke:#000000; stroke-linecap:round; stroke-linejoin:round; stroke-width:2; stroke-opacity:0.1; fill:none\" points=\"156.112,801.628 2352.76,801.628 \"/>\n",
       "<polyline clip-path=\"url(#clip012)\" style=\"stroke:#000000; stroke-linecap:round; stroke-linejoin:round; stroke-width:2; stroke-opacity:0.1; fill:none\" points=\"156.112,479.584 2352.76,479.584 \"/>\n",
       "<polyline clip-path=\"url(#clip012)\" style=\"stroke:#000000; stroke-linecap:round; stroke-linejoin:round; stroke-width:2; stroke-opacity:0.1; fill:none\" points=\"156.112,157.54 2352.76,157.54 \"/>\n",
       "<polyline clip-path=\"url(#clip010)\" style=\"stroke:#000000; stroke-linecap:round; stroke-linejoin:round; stroke-width:4; stroke-opacity:1; fill:none\" points=\"156.112,1486.45 2352.76,1486.45 \"/>\n",
       "<polyline clip-path=\"url(#clip010)\" style=\"stroke:#000000; stroke-linecap:round; stroke-linejoin:round; stroke-width:4; stroke-opacity:1; fill:none\" points=\"218.281,1486.45 218.281,1467.55 \"/>\n",
       "<polyline clip-path=\"url(#clip010)\" style=\"stroke:#000000; stroke-linecap:round; stroke-linejoin:round; stroke-width:4; stroke-opacity:1; fill:none\" points=\"632.742,1486.45 632.742,1467.55 \"/>\n",
       "<polyline clip-path=\"url(#clip010)\" style=\"stroke:#000000; stroke-linecap:round; stroke-linejoin:round; stroke-width:4; stroke-opacity:1; fill:none\" points=\"1047.2,1486.45 1047.2,1467.55 \"/>\n",
       "<polyline clip-path=\"url(#clip010)\" style=\"stroke:#000000; stroke-linecap:round; stroke-linejoin:round; stroke-width:4; stroke-opacity:1; fill:none\" points=\"1461.66,1486.45 1461.66,1467.55 \"/>\n",
       "<polyline clip-path=\"url(#clip010)\" style=\"stroke:#000000; stroke-linecap:round; stroke-linejoin:round; stroke-width:4; stroke-opacity:1; fill:none\" points=\"1876.13,1486.45 1876.13,1467.55 \"/>\n",
       "<polyline clip-path=\"url(#clip010)\" style=\"stroke:#000000; stroke-linecap:round; stroke-linejoin:round; stroke-width:4; stroke-opacity:1; fill:none\" points=\"2290.59,1486.45 2290.59,1467.55 \"/>\n",
       "<path clip-path=\"url(#clip010)\" d=\"M218.281 1517.37 Q214.67 1517.37 212.842 1520.93 Q211.036 1524.47 211.036 1531.6 Q211.036 1538.71 212.842 1542.27 Q214.67 1545.82 218.281 1545.82 Q221.916 1545.82 223.721 1542.27 Q225.55 1538.71 225.55 1531.6 Q225.55 1524.47 223.721 1520.93 Q221.916 1517.37 218.281 1517.37 M218.281 1513.66 Q224.091 1513.66 227.147 1518.27 Q230.226 1522.85 230.226 1531.6 Q230.226 1540.33 227.147 1544.94 Q224.091 1549.52 218.281 1549.52 Q212.471 1549.52 209.392 1544.94 Q206.337 1540.33 206.337 1531.6 Q206.337 1522.85 209.392 1518.27 Q212.471 1513.66 218.281 1513.66 Z\" fill=\"#000000\" fill-rule=\"nonzero\" fill-opacity=\"1\" /><path clip-path=\"url(#clip010)\" d=\"M623.124 1544.91 L630.763 1544.91 L630.763 1518.55 L622.453 1520.21 L622.453 1515.95 L630.717 1514.29 L635.393 1514.29 L635.393 1544.91 L643.032 1544.91 L643.032 1548.85 L623.124 1548.85 L623.124 1544.91 Z\" fill=\"#000000\" fill-rule=\"nonzero\" fill-opacity=\"1\" /><path clip-path=\"url(#clip010)\" d=\"M1041.86 1544.91 L1058.18 1544.91 L1058.18 1548.85 L1036.23 1548.85 L1036.23 1544.91 Q1038.89 1542.16 1043.48 1537.53 Q1048.08 1532.88 1049.26 1531.53 Q1051.51 1529.01 1052.39 1527.27 Q1053.29 1525.51 1053.29 1523.82 Q1053.29 1521.07 1051.35 1519.33 Q1049.43 1517.6 1046.32 1517.6 Q1044.12 1517.6 1041.67 1518.36 Q1039.24 1519.13 1036.46 1520.68 L1036.46 1515.95 Q1039.29 1514.82 1041.74 1514.24 Q1044.19 1513.66 1046.23 1513.66 Q1051.6 1513.66 1054.8 1516.35 Q1057.99 1519.03 1057.99 1523.52 Q1057.99 1525.65 1057.18 1527.57 Q1056.39 1529.47 1054.29 1532.07 Q1053.71 1532.74 1050.61 1535.95 Q1047.5 1539.15 1041.86 1544.91 Z\" fill=\"#000000\" fill-rule=\"nonzero\" fill-opacity=\"1\" /><path clip-path=\"url(#clip010)\" d=\"M1465.91 1530.21 Q1469.27 1530.93 1471.14 1533.2 Q1473.04 1535.47 1473.04 1538.8 Q1473.04 1543.92 1469.52 1546.72 Q1466 1549.52 1459.52 1549.52 Q1457.35 1549.52 1455.03 1549.08 Q1452.74 1548.66 1450.29 1547.81 L1450.29 1543.29 Q1452.23 1544.43 1454.55 1545.01 Q1456.86 1545.58 1459.38 1545.58 Q1463.78 1545.58 1466.07 1543.85 Q1468.39 1542.11 1468.39 1538.8 Q1468.39 1535.75 1466.24 1534.03 Q1464.11 1532.3 1460.29 1532.3 L1456.26 1532.3 L1456.26 1528.45 L1460.47 1528.45 Q1463.92 1528.45 1465.75 1527.09 Q1467.58 1525.7 1467.58 1523.11 Q1467.58 1520.45 1465.68 1519.03 Q1463.81 1517.6 1460.29 1517.6 Q1458.37 1517.6 1456.17 1518.01 Q1453.97 1518.43 1451.33 1519.31 L1451.33 1515.14 Q1453.99 1514.4 1456.31 1514.03 Q1458.64 1513.66 1460.7 1513.66 Q1466.03 1513.66 1469.13 1516.09 Q1472.23 1518.5 1472.23 1522.62 Q1472.23 1525.49 1470.59 1527.48 Q1468.94 1529.45 1465.91 1530.21 Z\" fill=\"#000000\" fill-rule=\"nonzero\" fill-opacity=\"1\" /><path clip-path=\"url(#clip010)\" d=\"M1879.13 1518.36 L1867.33 1536.81 L1879.13 1536.81 L1879.13 1518.36 M1877.91 1514.29 L1883.79 1514.29 L1883.79 1536.81 L1888.72 1536.81 L1888.72 1540.7 L1883.79 1540.7 L1883.79 1548.85 L1879.13 1548.85 L1879.13 1540.7 L1863.53 1540.7 L1863.53 1536.19 L1877.91 1514.29 Z\" fill=\"#000000\" fill-rule=\"nonzero\" fill-opacity=\"1\" /><path clip-path=\"url(#clip010)\" d=\"M2280.86 1514.29 L2299.22 1514.29 L2299.22 1518.22 L2285.15 1518.22 L2285.15 1526.7 Q2286.17 1526.35 2287.18 1526.19 Q2288.2 1526 2289.22 1526 Q2295.01 1526 2298.39 1529.17 Q2301.77 1532.34 2301.77 1537.76 Q2301.77 1543.34 2298.3 1546.44 Q2294.82 1549.52 2288.5 1549.52 Q2286.33 1549.52 2284.06 1549.15 Q2281.81 1548.78 2279.41 1548.04 L2279.41 1543.34 Q2281.49 1544.47 2283.71 1545.03 Q2285.93 1545.58 2288.41 1545.58 Q2292.42 1545.58 2294.75 1543.48 Q2297.09 1541.37 2297.09 1537.76 Q2297.09 1534.15 2294.75 1532.04 Q2292.42 1529.94 2288.41 1529.94 Q2286.54 1529.94 2284.66 1530.35 Q2282.81 1530.77 2280.86 1531.65 L2280.86 1514.29 Z\" fill=\"#000000\" fill-rule=\"nonzero\" fill-opacity=\"1\" /><polyline clip-path=\"url(#clip010)\" style=\"stroke:#000000; stroke-linecap:round; stroke-linejoin:round; stroke-width:4; stroke-opacity:1; fill:none\" points=\"156.112,1486.45 156.112,47.2441 \"/>\n",
       "<polyline clip-path=\"url(#clip010)\" style=\"stroke:#000000; stroke-linecap:round; stroke-linejoin:round; stroke-width:4; stroke-opacity:1; fill:none\" points=\"156.112,1445.72 175.01,1445.72 \"/>\n",
       "<polyline clip-path=\"url(#clip010)\" style=\"stroke:#000000; stroke-linecap:round; stroke-linejoin:round; stroke-width:4; stroke-opacity:1; fill:none\" points=\"156.112,1123.67 175.01,1123.67 \"/>\n",
       "<polyline clip-path=\"url(#clip010)\" style=\"stroke:#000000; stroke-linecap:round; stroke-linejoin:round; stroke-width:4; stroke-opacity:1; fill:none\" points=\"156.112,801.628 175.01,801.628 \"/>\n",
       "<polyline clip-path=\"url(#clip010)\" style=\"stroke:#000000; stroke-linecap:round; stroke-linejoin:round; stroke-width:4; stroke-opacity:1; fill:none\" points=\"156.112,479.584 175.01,479.584 \"/>\n",
       "<polyline clip-path=\"url(#clip010)\" style=\"stroke:#000000; stroke-linecap:round; stroke-linejoin:round; stroke-width:4; stroke-opacity:1; fill:none\" points=\"156.112,157.54 175.01,157.54 \"/>\n",
       "<path clip-path=\"url(#clip010)\" d=\"M62.9365 1431.51 Q59.3254 1431.51 57.4967 1435.08 Q55.6912 1438.62 55.6912 1445.75 Q55.6912 1452.86 57.4967 1456.42 Q59.3254 1459.96 62.9365 1459.96 Q66.5707 1459.96 68.3763 1456.42 Q70.205 1452.86 70.205 1445.75 Q70.205 1438.62 68.3763 1435.08 Q66.5707 1431.51 62.9365 1431.51 M62.9365 1427.81 Q68.7467 1427.81 71.8022 1432.42 Q74.8809 1437 74.8809 1445.75 Q74.8809 1454.48 71.8022 1459.08 Q68.7467 1463.67 62.9365 1463.67 Q57.1264 1463.67 54.0477 1459.08 Q50.9921 1454.48 50.9921 1445.75 Q50.9921 1437 54.0477 1432.42 Q57.1264 1427.81 62.9365 1427.81 Z\" fill=\"#000000\" fill-rule=\"nonzero\" fill-opacity=\"1\" /><path clip-path=\"url(#clip010)\" d=\"M83.0984 1457.12 L87.9827 1457.12 L87.9827 1463 L83.0984 1463 L83.0984 1457.12 Z\" fill=\"#000000\" fill-rule=\"nonzero\" fill-opacity=\"1\" /><path clip-path=\"url(#clip010)\" d=\"M108.168 1431.51 Q104.557 1431.51 102.728 1435.08 Q100.922 1438.62 100.922 1445.75 Q100.922 1452.86 102.728 1456.42 Q104.557 1459.96 108.168 1459.96 Q111.802 1459.96 113.608 1456.42 Q115.436 1452.86 115.436 1445.75 Q115.436 1438.62 113.608 1435.08 Q111.802 1431.51 108.168 1431.51 M108.168 1427.81 Q113.978 1427.81 117.033 1432.42 Q120.112 1437 120.112 1445.75 Q120.112 1454.48 117.033 1459.08 Q113.978 1463.67 108.168 1463.67 Q102.358 1463.67 99.2789 1459.08 Q96.2234 1454.48 96.2234 1445.75 Q96.2234 1437 99.2789 1432.42 Q102.358 1427.81 108.168 1427.81 Z\" fill=\"#000000\" fill-rule=\"nonzero\" fill-opacity=\"1\" /><path clip-path=\"url(#clip010)\" d=\"M63.9319 1109.47 Q60.3208 1109.47 58.4921 1113.04 Q56.6865 1116.58 56.6865 1123.71 Q56.6865 1130.81 58.4921 1134.38 Q60.3208 1137.92 63.9319 1137.92 Q67.5661 1137.92 69.3717 1134.38 Q71.2004 1130.81 71.2004 1123.71 Q71.2004 1116.58 69.3717 1113.04 Q67.5661 1109.47 63.9319 1109.47 M63.9319 1105.77 Q69.742 1105.77 72.7976 1110.37 Q75.8763 1114.96 75.8763 1123.71 Q75.8763 1132.43 72.7976 1137.04 Q69.742 1141.62 63.9319 1141.62 Q58.1217 1141.62 55.043 1137.04 Q51.9875 1132.43 51.9875 1123.71 Q51.9875 1114.96 55.043 1110.37 Q58.1217 1105.77 63.9319 1105.77 Z\" fill=\"#000000\" fill-rule=\"nonzero\" fill-opacity=\"1\" /><path clip-path=\"url(#clip010)\" d=\"M84.0938 1135.07 L88.978 1135.07 L88.978 1140.95 L84.0938 1140.95 L84.0938 1135.07 Z\" fill=\"#000000\" fill-rule=\"nonzero\" fill-opacity=\"1\" /><path clip-path=\"url(#clip010)\" d=\"M99.2095 1106.39 L117.566 1106.39 L117.566 1110.33 L103.492 1110.33 L103.492 1118.8 Q104.51 1118.45 105.529 1118.29 Q106.547 1118.1 107.566 1118.1 Q113.353 1118.1 116.733 1121.28 Q120.112 1124.45 120.112 1129.86 Q120.112 1135.44 116.64 1138.54 Q113.168 1141.62 106.848 1141.62 Q104.672 1141.62 102.404 1141.25 Q100.159 1140.88 97.7511 1140.14 L97.7511 1135.44 Q99.8345 1136.58 102.057 1137.13 Q104.279 1137.69 106.756 1137.69 Q110.76 1137.69 113.098 1135.58 Q115.436 1133.47 115.436 1129.86 Q115.436 1126.25 113.098 1124.15 Q110.76 1122.04 106.756 1122.04 Q104.881 1122.04 103.006 1122.46 Q101.154 1122.87 99.2095 1123.75 L99.2095 1106.39 Z\" fill=\"#000000\" fill-rule=\"nonzero\" fill-opacity=\"1\" /><path clip-path=\"url(#clip010)\" d=\"M53.7467 814.973 L61.3856 814.973 L61.3856 788.607 L53.0754 790.274 L53.0754 786.015 L61.3393 784.348 L66.0152 784.348 L66.0152 814.973 L73.654 814.973 L73.654 818.908 L53.7467 818.908 L53.7467 814.973 Z\" fill=\"#000000\" fill-rule=\"nonzero\" fill-opacity=\"1\" /><path clip-path=\"url(#clip010)\" d=\"M83.0984 813.028 L87.9827 813.028 L87.9827 818.908 L83.0984 818.908 L83.0984 813.028 Z\" fill=\"#000000\" fill-rule=\"nonzero\" fill-opacity=\"1\" /><path clip-path=\"url(#clip010)\" d=\"M108.168 787.427 Q104.557 787.427 102.728 790.991 Q100.922 794.533 100.922 801.663 Q100.922 808.769 102.728 812.334 Q104.557 815.875 108.168 815.875 Q111.802 815.875 113.608 812.334 Q115.436 808.769 115.436 801.663 Q115.436 794.533 113.608 790.991 Q111.802 787.427 108.168 787.427 M108.168 783.723 Q113.978 783.723 117.033 788.329 Q120.112 792.913 120.112 801.663 Q120.112 810.389 117.033 814.996 Q113.978 819.579 108.168 819.579 Q102.358 819.579 99.2789 814.996 Q96.2234 810.389 96.2234 801.663 Q96.2234 792.913 99.2789 788.329 Q102.358 783.723 108.168 783.723 Z\" fill=\"#000000\" fill-rule=\"nonzero\" fill-opacity=\"1\" /><path clip-path=\"url(#clip010)\" d=\"M54.7421 492.929 L62.381 492.929 L62.381 466.563 L54.0708 468.23 L54.0708 463.971 L62.3347 462.304 L67.0106 462.304 L67.0106 492.929 L74.6494 492.929 L74.6494 496.864 L54.7421 496.864 L54.7421 492.929 Z\" fill=\"#000000\" fill-rule=\"nonzero\" fill-opacity=\"1\" /><path clip-path=\"url(#clip010)\" d=\"M84.0938 490.984 L88.978 490.984 L88.978 496.864 L84.0938 496.864 L84.0938 490.984 Z\" fill=\"#000000\" fill-rule=\"nonzero\" fill-opacity=\"1\" /><path clip-path=\"url(#clip010)\" d=\"M99.2095 462.304 L117.566 462.304 L117.566 466.239 L103.492 466.239 L103.492 474.711 Q104.51 474.364 105.529 474.202 Q106.547 474.017 107.566 474.017 Q113.353 474.017 116.733 477.188 Q120.112 480.359 120.112 485.776 Q120.112 491.355 116.64 494.457 Q113.168 497.535 106.848 497.535 Q104.672 497.535 102.404 497.165 Q100.159 496.795 97.7511 496.054 L97.7511 491.355 Q99.8345 492.489 102.057 493.045 Q104.279 493.6 106.756 493.6 Q110.76 493.6 113.098 491.494 Q115.436 489.387 115.436 485.776 Q115.436 482.165 113.098 480.058 Q110.76 477.952 106.756 477.952 Q104.881 477.952 103.006 478.369 Q101.154 478.785 99.2095 479.665 L99.2095 462.304 Z\" fill=\"#000000\" fill-rule=\"nonzero\" fill-opacity=\"1\" /><path clip-path=\"url(#clip010)\" d=\"M56.9643 170.885 L73.2837 170.885 L73.2837 174.82 L51.3393 174.82 L51.3393 170.885 Q54.0014 168.13 58.5847 163.501 Q63.1911 158.848 64.3717 157.505 Q66.617 154.982 67.4967 153.246 Q68.3994 151.487 68.3994 149.797 Q68.3994 147.042 66.455 145.306 Q64.5337 143.57 61.4319 143.57 Q59.2328 143.57 56.7791 144.334 Q54.3486 145.098 51.5708 146.649 L51.5708 141.927 Q54.3949 140.792 56.8486 140.214 Q59.3023 139.635 61.3393 139.635 Q66.7096 139.635 69.9041 142.32 Q73.0985 145.005 73.0985 149.496 Q73.0985 151.626 72.2883 153.547 Q71.5013 155.445 69.3948 158.038 Q68.8161 158.709 65.7143 161.927 Q62.6124 165.121 56.9643 170.885 Z\" fill=\"#000000\" fill-rule=\"nonzero\" fill-opacity=\"1\" /><path clip-path=\"url(#clip010)\" d=\"M83.0984 168.94 L87.9827 168.94 L87.9827 174.82 L83.0984 174.82 L83.0984 168.94 Z\" fill=\"#000000\" fill-rule=\"nonzero\" fill-opacity=\"1\" /><path clip-path=\"url(#clip010)\" d=\"M108.168 143.339 Q104.557 143.339 102.728 146.904 Q100.922 150.445 100.922 157.575 Q100.922 164.681 102.728 168.246 Q104.557 171.788 108.168 171.788 Q111.802 171.788 113.608 168.246 Q115.436 164.681 115.436 157.575 Q115.436 150.445 113.608 146.904 Q111.802 143.339 108.168 143.339 M108.168 139.635 Q113.978 139.635 117.033 144.242 Q120.112 148.825 120.112 157.575 Q120.112 166.302 117.033 170.908 Q113.978 175.491 108.168 175.491 Q102.358 175.491 99.2789 170.908 Q96.2234 166.302 96.2234 157.575 Q96.2234 148.825 99.2789 144.242 Q102.358 139.635 108.168 139.635 Z\" fill=\"#000000\" fill-rule=\"nonzero\" fill-opacity=\"1\" /><polyline clip-path=\"url(#clip012)\" style=\"stroke:#009af9; stroke-linecap:round; stroke-linejoin:round; stroke-width:4; stroke-opacity:1; fill:none\" points=\"218.281,1445.72 259.727,985.266 301.174,780.266 342.62,707.365 384.066,528.221 425.512,351.41 466.958,147.959 508.404,565.313 549.85,805.215 591.296,363.209 632.742,429.108 674.188,622.381 715.635,326.173 757.081,207.763 798.527,833.913 839.973,882.801 881.419,791.537 922.865,846.084 964.311,892.323 1005.76,476.759 1047.2,403.646 1088.65,454.893 1130.1,783.426 1171.54,725.855 1212.99,428.596 1254.43,413.7 1295.88,463.798 1337.33,96.8672 1378.77,287.788 1420.22,971.87 1461.66,614.737 1503.11,585.244 1544.56,844.099 1586,812.298 1627.45,320.416 1668.9,495.835 1710.34,807.787 1751.79,944.369 1793.23,737.322 1834.68,652.709 1876.13,451.537 1917.57,387.396 1959.02,87.9763 2000.46,437.533 2041.91,897.915 2083.36,420.451 2124.8,419.344 2166.25,755.851 2207.69,503.674 2249.14,202.848 2290.59,687.871 \"/>\n",
       "<path clip-path=\"url(#clip010)\" d=\"M2007.44 1438.47 L2279.53 1438.47 L2279.53 1334.79 L2007.44 1334.79  Z\" fill=\"#ffffff\" fill-rule=\"evenodd\" fill-opacity=\"1\"/>\n",
       "<polyline clip-path=\"url(#clip010)\" style=\"stroke:#000000; stroke-linecap:round; stroke-linejoin:round; stroke-width:4; stroke-opacity:1; fill:none\" points=\"2007.44,1438.47 2279.53,1438.47 2279.53,1334.79 2007.44,1334.79 2007.44,1438.47 \"/>\n",
       "<polyline clip-path=\"url(#clip010)\" style=\"stroke:#009af9; stroke-linecap:round; stroke-linejoin:round; stroke-width:4; stroke-opacity:1; fill:none\" points=\"2031.85,1386.63 2178.29,1386.63 \"/>\n",
       "<path clip-path=\"url(#clip010)\" d=\"M2216.54 1406.32 Q2214.73 1410.95 2213.02 1412.36 Q2211.31 1413.78 2208.44 1413.78 L2205.03 1413.78 L2205.03 1410.21 L2207.53 1410.21 Q2209.29 1410.21 2210.27 1409.38 Q2211.24 1408.54 2212.42 1405.44 L2213.18 1403.5 L2202.7 1377.99 L2207.21 1377.99 L2215.31 1398.27 L2223.41 1377.99 L2227.93 1377.99 L2216.54 1406.32 Z\" fill=\"#000000\" fill-rule=\"nonzero\" fill-opacity=\"1\" /><path clip-path=\"url(#clip010)\" d=\"M2235.22 1399.98 L2242.86 1399.98 L2242.86 1373.61 L2234.55 1375.28 L2234.55 1371.02 L2242.81 1369.35 L2247.49 1369.35 L2247.49 1399.98 L2255.13 1399.98 L2255.13 1403.91 L2235.22 1403.91 L2235.22 1399.98 Z\" fill=\"#000000\" fill-rule=\"nonzero\" fill-opacity=\"1\" /></svg>\n"
      ]
     },
     "metadata": {},
     "output_type": "display_data"
    }
   ],
   "source": [
    "using ITensors, ITensorMPS, Random, HDF5, StatsBase\n",
    "using Plots\n",
    "\n",
    "N = 8\n",
    "sites = siteinds(\"S=1\", N; conserve_qns=true)\n",
    "\n",
    "os = OpSum()\n",
    "for j = 1:N ####### change to N-1 if you're doing OBC\n",
    "  os += 1.0, \"S+ * S+\", j, \"S- * S-\", mod(j, N) + 1\n",
    "  os += 1.0, \"S- * S-\", j, \"S+ * S+\", mod(j, N) + 1\n",
    "  os += 1.0 ,\"S+ * S+\",mod(j,N)+1,\"S- * S-\",j   # H.c. terms\n",
    "  os += 1.0 ,\"S- * S-\",mod(j,N)+1,\"S+ * S+\",j\n",
    "end\n",
    "H = MPO(os, sites)\n",
    "\n",
    "# ----- initial product state \n",
    "state = [isodd(j) ? \"Up\" : \"Dn\" for j in 1:N]       # Néel: isodd(j) ? \"Up\" : \"Dn\"\n",
    "psi = productMPS(sites, state)\n",
    "\n",
    "#func to compute EE at any site\n",
    "function entropy_von_neumann(psi, b)\n",
    "  s = siteinds(psi)\n",
    "  orthogonalize!(psi, b)\n",
    "  if b == 1\n",
    "    U, S, V = svd(psi[b], (siteind(psi, b),))\n",
    "  else\n",
    "    U, S, V = svd(psi[b], (linkind(psi, b - 1), siteind(psi, b)))\n",
    "  end\n",
    "  SvN = 0.0\n",
    "  for n in 1:dim(S, 1)\n",
    "    p = S[n, n]^2\n",
    "    if p > 0\n",
    "      SvN -= p * log(p)\n",
    "    end\n",
    "  end\n",
    "  return SvN\n",
    "end\n",
    "\n",
    "# ----- TDVP evolution + half-chain entropy at every step -----\n",
    "tstep = 0.1\n",
    "tend = 5.0\n",
    "nsw = round(Int, tend / tstep)\n",
    "tdvp_maxdim = 500\n",
    "\n",
    "Time = Float64[]\n",
    "SvN_half = Float64[]\n",
    "\n",
    "push!(Time, 0.0)\n",
    "push!(SvN_half, entropy_von_neumann(psi, N ÷ 2))\n",
    "\n",
    "for n in 1:nsw\n",
    "  ncenter = 1\n",
    "  if maxlinkdim(psi) < tdvp_maxdim\n",
    "    ncenter = 2\n",
    "  end\n",
    "\n",
    "  psi = tdvp(H, -im * tstep, psi;\n",
    "             time_step = -im * tstep,\n",
    "             reverse_step = true,\n",
    "             normalize = false,\n",
    "             cutoff = 1e-10,\n",
    "             maxdim = tdvp_maxdim,\n",
    "             nsite = ncenter,\n",
    "             updater_backend = \"exponentiate\",\n",
    "             outputlevel = 1)\n",
    "\n",
    "  tnow = n * tstep\n",
    "  push!(Time, tnow)\n",
    "  push!(SvN_half, entropy_von_neumann(psi, N ÷ 2))\n",
    "\n",
    "  GC.gc(true)\n",
    "end\n",
    "\n",
    "# ----- save results -----\n",
    "# fname = \"SvN_half_vs_time_S1_N$(N)_dt$(tstep)_T$(tend).h5\"\n",
    "# h5write(fname, \"time\", Time)\n",
    "# h5write(fname, \"SvN_half\", SvN_half)\n",
    "# println(\"Saved: \", fname)\n",
    "\n",
    "\n",
    "plot(Time,SvN_half)"
   ]
  },
  {
   "cell_type": "code",
   "execution_count": 6,
   "id": "2b495669",
   "metadata": {},
   "outputs": [
    {
     "data": {
      "text/plain": [
       "neel_spin1 (generic function with 1 method)"
      ]
     },
     "metadata": {},
     "output_type": "display_data"
    }
   ],
   "source": [
    "include(\"s3.jl\")"
   ]
  },
  {
   "cell_type": "code",
   "execution_count": 1,
   "id": "75306112",
   "metadata": {},
   "outputs": [],
   "source": [
    "using LinearAlgebra\n",
    "\n",
    "N = 2\n",
    "function spin1_vector(s)\n",
    "    s == \"Up\"  ? [1.0, 0.0, 0.0] :\n",
    "    s == \"Dn\"  ? [0.0, 0.0, 1.0] : [0.0, 1.0, 0.0] # \"Zero\" state\n",
    "end\n",
    "neel_state = [isodd(j) ? \"Up\" : \"Dn\" for j in 1:N]\n",
    "psi = spin1_vector(neel_state[1])\n",
    "\n",
    "for j in 2:N\n",
    "    psi = kron(psi, spin1_vector(neel_state[j]))\n",
    "end"
   ]
  },
  {
   "cell_type": "code",
   "execution_count": 2,
   "id": "fcb9a3d7",
   "metadata": {},
   "outputs": [
    {
     "data": {
      "text/plain": [
       "9-element Vector{Float64}:\n",
       " 0.0\n",
       " 0.0\n",
       " 1.0\n",
       " 0.0\n",
       " 0.0\n",
       " 0.0\n",
       " 0.0\n",
       " 0.0\n",
       " 0.0"
      ]
     },
     "metadata": {},
     "output_type": "display_data"
    }
   ],
   "source": [
    "psi"
   ]
  },
  {
   "cell_type": "code",
   "execution_count": 22,
   "id": "e264774e",
   "metadata": {},
   "outputs": [
    {
     "name": "stdout",
     "output_type": "stream",
     "text": [
      "  8.368313 seconds (35.52 M allocations: 15.520 GiB, 38.11% gc time)\n"
     ]
    },
    {
     "data": {
      "text/plain": [
       "50-element Vector{Float64}:\n",
       "  6.661338147750935e-16\n",
       "  0.0\n",
       "  0.0\n",
       "  0.0\n",
       "  2.220446049250312e-16\n",
       "  2.220446049250312e-16\n",
       "  0.0\n",
       "  0.0\n",
       "  0.0\n",
       "  0.0\n",
       "  ⋮\n",
       " -4.440892098500629e-16\n",
       "  0.0\n",
       "  0.0\n",
       " -4.440892098500629e-16\n",
       "  0.0\n",
       "  0.0\n",
       "  0.0\n",
       "  0.0\n",
       "  2.220446049250312e-16"
      ]
     },
     "metadata": {},
     "output_type": "display_data"
    }
   ],
   "source": [
    "include(\"s3.jl\")\n",
    "@time entropy = Entropy_t_z(8, 50.0, 1.0, 1.0, 300)"
   ]
  },
  {
   "cell_type": "code",
   "execution_count": 18,
   "id": "eb10ad5b",
   "metadata": {},
   "outputs": [
    {
     "data": {
      "image/png": "[encoded data removed]",
      "image/svg+xml": [
       "<?xml version=\"1.0\" encoding=\"utf-8\"?>\n",
       "<svg xmlns=\"http://www.w3.org/2000/svg\" xmlns:xlink=\"http://www.w3.org/1999/xlink\" width=\"600\" height=\"400\" viewBox=\"0 0 2400 1600\">\n",
       "<defs>\n",
       "  <clipPath id=\"clip210\">\n",
       "    <rect x=\"0\" y=\"0\" width=\"2400\" height=\"1600\"/>\n",
       "  </clipPath>\n",
       "</defs>\n",
       "<path clip-path=\"url(#clip210)\" d=\"M0 1600 L2400 1600 L2400 8.88178e-14 L0 8.88178e-14  Z\" fill=\"#ffffff\" fill-rule=\"evenodd\" fill-opacity=\"1\"/>\n",
       "<defs>\n",
       "  <clipPath id=\"clip211\">\n",
       "    <rect x=\"480\" y=\"0\" width=\"1681\" height=\"1600\"/>\n",
       "  </clipPath>\n",
       "</defs>\n",
       "<path clip-path=\"url(#clip210)\" d=\"M156.112 1486.45 L2352.76 1486.45 L2352.76 47.2441 L156.112 47.2441  Z\" fill=\"#ffffff\" fill-rule=\"evenodd\" fill-opacity=\"1\"/>\n",
       "<defs>\n",
       "  <clipPath id=\"clip212\">\n",
       "    <rect x=\"156\" y=\"47\" width=\"2198\" height=\"1440\"/>\n",
       "  </clipPath>\n",
       "</defs>\n",
       "<polyline clip-path=\"url(#clip212)\" style=\"stroke:#000000; stroke-linecap:round; stroke-linejoin:round; stroke-width:2; stroke-opacity:0.1; fill:none\" points=\"218.281,1486.45 218.281,47.2441 \"/>\n",
       "<polyline clip-path=\"url(#clip212)\" style=\"stroke:#000000; stroke-linecap:round; stroke-linejoin:round; stroke-width:2; stroke-opacity:0.1; fill:none\" points=\"736.358,1486.45 736.358,47.2441 \"/>\n",
       "<polyline clip-path=\"url(#clip212)\" style=\"stroke:#000000; stroke-linecap:round; stroke-linejoin:round; stroke-width:2; stroke-opacity:0.1; fill:none\" points=\"1254.43,1486.45 1254.43,47.2441 \"/>\n",
       "<polyline clip-path=\"url(#clip212)\" style=\"stroke:#000000; stroke-linecap:round; stroke-linejoin:round; stroke-width:2; stroke-opacity:0.1; fill:none\" points=\"1772.51,1486.45 1772.51,47.2441 \"/>\n",
       "<polyline clip-path=\"url(#clip212)\" style=\"stroke:#000000; stroke-linecap:round; stroke-linejoin:round; stroke-width:2; stroke-opacity:0.1; fill:none\" points=\"2290.59,1486.45 2290.59,47.2441 \"/>\n",
       "<polyline clip-path=\"url(#clip212)\" style=\"stroke:#000000; stroke-linecap:round; stroke-linejoin:round; stroke-width:2; stroke-opacity:0.1; fill:none\" points=\"156.112,1445.72 2352.76,1445.72 \"/>\n",
       "<polyline clip-path=\"url(#clip212)\" style=\"stroke:#000000; stroke-linecap:round; stroke-linejoin:round; stroke-width:2; stroke-opacity:0.1; fill:none\" points=\"156.112,1003.12 2352.76,1003.12 \"/>\n",
       "<polyline clip-path=\"url(#clip212)\" style=\"stroke:#000000; stroke-linecap:round; stroke-linejoin:round; stroke-width:2; stroke-opacity:0.1; fill:none\" points=\"156.112,560.526 2352.76,560.526 \"/>\n",
       "<polyline clip-path=\"url(#clip212)\" style=\"stroke:#000000; stroke-linecap:round; stroke-linejoin:round; stroke-width:2; stroke-opacity:0.1; fill:none\" points=\"156.112,117.932 2352.76,117.932 \"/>\n",
       "<polyline clip-path=\"url(#clip210)\" style=\"stroke:#000000; stroke-linecap:round; stroke-linejoin:round; stroke-width:4; stroke-opacity:1; fill:none\" points=\"156.112,1486.45 2352.76,1486.45 \"/>\n",
       "<polyline clip-path=\"url(#clip210)\" style=\"stroke:#000000; stroke-linecap:round; stroke-linejoin:round; stroke-width:4; stroke-opacity:1; fill:none\" points=\"218.281,1486.45 218.281,1467.55 \"/>\n",
       "<polyline clip-path=\"url(#clip210)\" style=\"stroke:#000000; stroke-linecap:round; stroke-linejoin:round; stroke-width:4; stroke-opacity:1; fill:none\" points=\"736.358,1486.45 736.358,1467.55 \"/>\n",
       "<polyline clip-path=\"url(#clip210)\" style=\"stroke:#000000; stroke-linecap:round; stroke-linejoin:round; stroke-width:4; stroke-opacity:1; fill:none\" points=\"1254.43,1486.45 1254.43,1467.55 \"/>\n",
       "<polyline clip-path=\"url(#clip210)\" style=\"stroke:#000000; stroke-linecap:round; stroke-linejoin:round; stroke-width:4; stroke-opacity:1; fill:none\" points=\"1772.51,1486.45 1772.51,1467.55 \"/>\n",
       "<polyline clip-path=\"url(#clip210)\" style=\"stroke:#000000; stroke-linecap:round; stroke-linejoin:round; stroke-width:4; stroke-opacity:1; fill:none\" points=\"2290.59,1486.45 2290.59,1467.55 \"/>\n",
       "<path clip-path=\"url(#clip210)\" d=\"M208.663 1544.91 L216.302 1544.91 L216.302 1518.55 L207.992 1520.21 L207.992 1515.95 L216.256 1514.29 L220.932 1514.29 L220.932 1544.91 L228.571 1544.91 L228.571 1548.85 L208.663 1548.85 L208.663 1544.91 Z\" fill=\"#000000\" fill-rule=\"nonzero\" fill-opacity=\"1\" /><path clip-path=\"url(#clip210)\" d=\"M731.01 1544.91 L747.33 1544.91 L747.33 1548.85 L725.385 1548.85 L725.385 1544.91 Q728.048 1542.16 732.631 1537.53 Q737.237 1532.88 738.418 1531.53 Q740.663 1529.01 741.543 1527.27 Q742.446 1525.51 742.446 1523.82 Q742.446 1521.07 740.501 1519.33 Q738.58 1517.6 735.478 1517.6 Q733.279 1517.6 730.825 1518.36 Q728.395 1519.13 725.617 1520.68 L725.617 1515.95 Q728.441 1514.82 730.895 1514.24 Q733.348 1513.66 735.385 1513.66 Q740.756 1513.66 743.95 1516.35 Q747.145 1519.03 747.145 1523.52 Q747.145 1525.65 746.334 1527.57 Q745.547 1529.47 743.441 1532.07 Q742.862 1532.74 739.76 1535.95 Q736.659 1539.15 731.01 1544.91 Z\" fill=\"#000000\" fill-rule=\"nonzero\" fill-opacity=\"1\" /><path clip-path=\"url(#clip210)\" d=\"M1258.68 1530.21 Q1262.04 1530.93 1263.91 1533.2 Q1265.81 1535.47 1265.81 1538.8 Q1265.81 1543.92 1262.29 1546.72 Q1258.77 1549.52 1252.29 1549.52 Q1250.12 1549.52 1247.8 1549.08 Q1245.51 1548.66 1243.06 1547.81 L1243.06 1543.29 Q1245 1544.43 1247.32 1545.01 Q1249.63 1545.58 1252.15 1545.58 Q1256.55 1545.58 1258.84 1543.85 Q1261.16 1542.11 1261.16 1538.8 Q1261.16 1535.75 1259.01 1534.03 Q1256.88 1532.3 1253.06 1532.3 L1249.03 1532.3 L1249.03 1528.45 L1253.24 1528.45 Q1256.69 1528.45 1258.52 1527.09 Q1260.35 1525.7 1260.35 1523.11 Q1260.35 1520.45 1258.45 1519.03 Q1256.58 1517.6 1253.06 1517.6 Q1251.14 1517.6 1248.94 1518.01 Q1246.74 1518.43 1244.1 1519.31 L1244.1 1515.14 Q1246.76 1514.4 1249.08 1514.03 Q1251.41 1513.66 1253.47 1513.66 Q1258.8 1513.66 1261.9 1516.09 Q1265 1518.5 1265 1522.62 Q1265 1525.49 1263.36 1527.48 Q1261.71 1529.45 1258.68 1530.21 Z\" fill=\"#000000\" fill-rule=\"nonzero\" fill-opacity=\"1\" /><path clip-path=\"url(#clip210)\" d=\"M1775.52 1518.36 L1763.71 1536.81 L1775.52 1536.81 L1775.52 1518.36 M1774.29 1514.29 L1780.17 1514.29 L1780.17 1536.81 L1785.1 1536.81 L1785.1 1540.7 L1780.17 1540.7 L1780.17 1548.85 L1775.52 1548.85 L1775.52 1540.7 L1759.92 1540.7 L1759.92 1536.19 L1774.29 1514.29 Z\" fill=\"#000000\" fill-rule=\"nonzero\" fill-opacity=\"1\" /><path clip-path=\"url(#clip210)\" d=\"M2280.86 1514.29 L2299.22 1514.29 L2299.22 1518.22 L2285.15 1518.22 L2285.15 1526.7 Q2286.17 1526.35 2287.18 1526.19 Q2288.2 1526 2289.22 1526 Q2295.01 1526 2298.39 1529.17 Q2301.77 1532.34 2301.77 1537.76 Q2301.77 1543.34 2298.3 1546.44 Q2294.82 1549.52 2288.5 1549.52 Q2286.33 1549.52 2284.06 1549.15 Q2281.81 1548.78 2279.41 1548.04 L2279.41 1543.34 Q2281.49 1544.47 2283.71 1545.03 Q2285.93 1545.58 2288.41 1545.58 Q2292.42 1545.58 2294.75 1543.48 Q2297.09 1541.37 2297.09 1537.76 Q2297.09 1534.15 2294.75 1532.04 Q2292.42 1529.94 2288.41 1529.94 Q2286.54 1529.94 2284.66 1530.35 Q2282.81 1530.77 2280.86 1531.65 L2280.86 1514.29 Z\" fill=\"#000000\" fill-rule=\"nonzero\" fill-opacity=\"1\" /><polyline clip-path=\"url(#clip210)\" style=\"stroke:#000000; stroke-linecap:round; stroke-linejoin:round; stroke-width:4; stroke-opacity:1; fill:none\" points=\"156.112,1486.45 156.112,47.2441 \"/>\n",
       "<polyline clip-path=\"url(#clip210)\" style=\"stroke:#000000; stroke-linecap:round; stroke-linejoin:round; stroke-width:4; stroke-opacity:1; fill:none\" points=\"156.112,1445.72 175.01,1445.72 \"/>\n",
       "<polyline clip-path=\"url(#clip210)\" style=\"stroke:#000000; stroke-linecap:round; stroke-linejoin:round; stroke-width:4; stroke-opacity:1; fill:none\" points=\"156.112,1003.12 175.01,1003.12 \"/>\n",
       "<polyline clip-path=\"url(#clip210)\" style=\"stroke:#000000; stroke-linecap:round; stroke-linejoin:round; stroke-width:4; stroke-opacity:1; fill:none\" points=\"156.112,560.526 175.01,560.526 \"/>\n",
       "<polyline clip-path=\"url(#clip210)\" style=\"stroke:#000000; stroke-linecap:round; stroke-linejoin:round; stroke-width:4; stroke-opacity:1; fill:none\" points=\"156.112,117.932 175.01,117.932 \"/>\n",
       "<path clip-path=\"url(#clip210)\" d=\"M62.9365 1431.51 Q59.3254 1431.51 57.4967 1435.08 Q55.6912 1438.62 55.6912 1445.75 Q55.6912 1452.86 57.4967 1456.42 Q59.3254 1459.96 62.9365 1459.96 Q66.5707 1459.96 68.3763 1456.42 Q70.205 1452.86 70.205 1445.75 Q70.205 1438.62 68.3763 1435.08 Q66.5707 1431.51 62.9365 1431.51 M62.9365 1427.81 Q68.7467 1427.81 71.8022 1432.42 Q74.8809 1437 74.8809 1445.75 Q74.8809 1454.48 71.8022 1459.08 Q68.7467 1463.67 62.9365 1463.67 Q57.1264 1463.67 54.0477 1459.08 Q50.9921 1454.48 50.9921 1445.75 Q50.9921 1437 54.0477 1432.42 Q57.1264 1427.81 62.9365 1427.81 Z\" fill=\"#000000\" fill-rule=\"nonzero\" fill-opacity=\"1\" /><path clip-path=\"url(#clip210)\" d=\"M83.0984 1457.12 L87.9827 1457.12 L87.9827 1463 L83.0984 1463 L83.0984 1457.12 Z\" fill=\"#000000\" fill-rule=\"nonzero\" fill-opacity=\"1\" /><path clip-path=\"url(#clip210)\" d=\"M108.168 1431.51 Q104.557 1431.51 102.728 1435.08 Q100.922 1438.62 100.922 1445.75 Q100.922 1452.86 102.728 1456.42 Q104.557 1459.96 108.168 1459.96 Q111.802 1459.96 113.608 1456.42 Q115.436 1452.86 115.436 1445.75 Q115.436 1438.62 113.608 1435.08 Q111.802 1431.51 108.168 1431.51 M108.168 1427.81 Q113.978 1427.81 117.033 1432.42 Q120.112 1437 120.112 1445.75 Q120.112 1454.48 117.033 1459.08 Q113.978 1463.67 108.168 1463.67 Q102.358 1463.67 99.2789 1459.08 Q96.2234 1454.48 96.2234 1445.75 Q96.2234 1437 99.2789 1432.42 Q102.358 1427.81 108.168 1427.81 Z\" fill=\"#000000\" fill-rule=\"nonzero\" fill-opacity=\"1\" /><path clip-path=\"url(#clip210)\" d=\"M63.9319 988.92 Q60.3208 988.92 58.4921 992.485 Q56.6865 996.026 56.6865 1003.16 Q56.6865 1010.26 58.4921 1013.83 Q60.3208 1017.37 63.9319 1017.37 Q67.5661 1017.37 69.3717 1013.83 Q71.2004 1010.26 71.2004 1003.16 Q71.2004 996.026 69.3717 992.485 Q67.5661 988.92 63.9319 988.92 M63.9319 985.216 Q69.742 985.216 72.7976 989.822 Q75.8763 994.406 75.8763 1003.16 Q75.8763 1011.88 72.7976 1016.49 Q69.742 1021.07 63.9319 1021.07 Q58.1217 1021.07 55.043 1016.49 Q51.9875 1011.88 51.9875 1003.16 Q51.9875 994.406 55.043 989.822 Q58.1217 985.216 63.9319 985.216 Z\" fill=\"#000000\" fill-rule=\"nonzero\" fill-opacity=\"1\" /><path clip-path=\"url(#clip210)\" d=\"M84.0938 1014.52 L88.978 1014.52 L88.978 1020.4 L84.0938 1020.4 L84.0938 1014.52 Z\" fill=\"#000000\" fill-rule=\"nonzero\" fill-opacity=\"1\" /><path clip-path=\"url(#clip210)\" d=\"M99.2095 985.841 L117.566 985.841 L117.566 989.776 L103.492 989.776 L103.492 998.248 Q104.51 997.901 105.529 997.739 Q106.547 997.554 107.566 997.554 Q113.353 997.554 116.733 1000.73 Q120.112 1003.9 120.112 1009.31 Q120.112 1014.89 116.64 1017.99 Q113.168 1021.07 106.848 1021.07 Q104.672 1021.07 102.404 1020.7 Q100.159 1020.33 97.7511 1019.59 L97.7511 1014.89 Q99.8345 1016.03 102.057 1016.58 Q104.279 1017.14 106.756 1017.14 Q110.76 1017.14 113.098 1015.03 Q115.436 1012.92 115.436 1009.31 Q115.436 1005.7 113.098 1003.6 Q110.76 1001.49 106.756 1001.49 Q104.881 1001.49 103.006 1001.91 Q101.154 1002.32 99.2095 1003.2 L99.2095 985.841 Z\" fill=\"#000000\" fill-rule=\"nonzero\" fill-opacity=\"1\" /><path clip-path=\"url(#clip210)\" d=\"M53.7467 573.871 L61.3856 573.871 L61.3856 547.506 L53.0754 549.172 L53.0754 544.913 L61.3393 543.246 L66.0152 543.246 L66.0152 573.871 L73.654 573.871 L73.654 577.806 L53.7467 577.806 L53.7467 573.871 Z\" fill=\"#000000\" fill-rule=\"nonzero\" fill-opacity=\"1\" /><path clip-path=\"url(#clip210)\" d=\"M83.0984 571.927 L87.9827 571.927 L87.9827 577.806 L83.0984 577.806 L83.0984 571.927 Z\" fill=\"#000000\" fill-rule=\"nonzero\" fill-opacity=\"1\" /><path clip-path=\"url(#clip210)\" d=\"M108.168 546.325 Q104.557 546.325 102.728 549.89 Q100.922 553.431 100.922 560.561 Q100.922 567.668 102.728 571.232 Q104.557 574.774 108.168 574.774 Q111.802 574.774 113.608 571.232 Q115.436 567.668 115.436 560.561 Q115.436 553.431 113.608 549.89 Q111.802 546.325 108.168 546.325 M108.168 542.621 Q113.978 542.621 117.033 547.228 Q120.112 551.811 120.112 560.561 Q120.112 569.288 117.033 573.894 Q113.978 578.478 108.168 578.478 Q102.358 578.478 99.2789 573.894 Q96.2234 569.288 96.2234 560.561 Q96.2234 551.811 99.2789 547.228 Q102.358 542.621 108.168 542.621 Z\" fill=\"#000000\" fill-rule=\"nonzero\" fill-opacity=\"1\" /><path clip-path=\"url(#clip210)\" d=\"M54.7421 131.277 L62.381 131.277 L62.381 104.911 L54.0708 106.578 L54.0708 102.318 L62.3347 100.652 L67.0106 100.652 L67.0106 131.277 L74.6494 131.277 L74.6494 135.212 L54.7421 135.212 L54.7421 131.277 Z\" fill=\"#000000\" fill-rule=\"nonzero\" fill-opacity=\"1\" /><path clip-path=\"url(#clip210)\" d=\"M84.0938 129.332 L88.978 129.332 L88.978 135.212 L84.0938 135.212 L84.0938 129.332 Z\" fill=\"#000000\" fill-rule=\"nonzero\" fill-opacity=\"1\" /><path clip-path=\"url(#clip210)\" d=\"M99.2095 100.652 L117.566 100.652 L117.566 104.587 L103.492 104.587 L103.492 113.059 Q104.51 112.712 105.529 112.55 Q106.547 112.365 107.566 112.365 Q113.353 112.365 116.733 115.536 Q120.112 118.707 120.112 124.124 Q120.112 129.702 116.64 132.804 Q113.168 135.883 106.848 135.883 Q104.672 135.883 102.404 135.513 Q100.159 135.142 97.7511 134.402 L97.7511 129.702 Q99.8345 130.837 102.057 131.392 Q104.279 131.948 106.756 131.948 Q110.76 131.948 113.098 129.841 Q115.436 127.735 115.436 124.124 Q115.436 120.513 113.098 118.406 Q110.76 116.3 106.756 116.3 Q104.881 116.3 103.006 116.716 Q101.154 117.133 99.2095 118.013 L99.2095 100.652 Z\" fill=\"#000000\" fill-rule=\"nonzero\" fill-opacity=\"1\" /><polyline clip-path=\"url(#clip212)\" style=\"stroke:#009af9; stroke-linecap:round; stroke-linejoin:round; stroke-width:4; stroke-opacity:1; fill:none\" points=\"218.281,1445.72 736.358,277.799 1254.43,87.9763 1772.51,1283.82 2290.59,473.894 \"/>\n",
       "<path clip-path=\"url(#clip210)\" d=\"M2007.44 198.898 L2279.53 198.898 L2279.53 95.2176 L2007.44 95.2176  Z\" fill=\"#ffffff\" fill-rule=\"evenodd\" fill-opacity=\"1\"/>\n",
       "<polyline clip-path=\"url(#clip210)\" style=\"stroke:#000000; stroke-linecap:round; stroke-linejoin:round; stroke-width:4; stroke-opacity:1; fill:none\" points=\"2007.44,198.898 2279.53,198.898 2279.53,95.2176 2007.44,95.2176 2007.44,198.898 \"/>\n",
       "<polyline clip-path=\"url(#clip210)\" style=\"stroke:#009af9; stroke-linecap:round; stroke-linejoin:round; stroke-width:4; stroke-opacity:1; fill:none\" points=\"2031.85,147.058 2178.29,147.058 \"/>\n",
       "<path clip-path=\"url(#clip210)\" d=\"M2216.54 166.745 Q2214.73 171.375 2213.02 172.787 Q2211.31 174.199 2208.44 174.199 L2205.03 174.199 L2205.03 170.634 L2207.53 170.634 Q2209.29 170.634 2210.27 169.8 Q2211.24 168.967 2212.42 165.865 L2213.18 163.921 L2202.7 138.412 L2207.21 138.412 L2215.31 158.689 L2223.41 138.412 L2227.93 138.412 L2216.54 166.745 Z\" fill=\"#000000\" fill-rule=\"nonzero\" fill-opacity=\"1\" /><path clip-path=\"url(#clip210)\" d=\"M2235.22 160.402 L2242.86 160.402 L2242.86 134.037 L2234.55 135.703 L2234.55 131.444 L2242.81 129.778 L2247.49 129.778 L2247.49 160.402 L2255.13 160.402 L2255.13 164.338 L2235.22 164.338 L2235.22 160.402 Z\" fill=\"#000000\" fill-rule=\"nonzero\" fill-opacity=\"1\" /></svg>\n"
      ],
      "text/html": [
       "<?xml version=\"1.0\" encoding=\"utf-8\"?>\n",
       "<svg xmlns=\"http://www.w3.org/2000/svg\" xmlns:xlink=\"http://www.w3.org/1999/xlink\" width=\"600\" height=\"400\" viewBox=\"0 0 2400 1600\">\n",
       "<defs>\n",
       "  <clipPath id=\"clip260\">\n",
       "    <rect x=\"0\" y=\"0\" width=\"2400\" height=\"1600\"/>\n",
       "  </clipPath>\n",
       "</defs>\n",
       "<path clip-path=\"url(#clip260)\" d=\"M0 1600 L2400 1600 L2400 8.88178e-14 L0 8.88178e-14  Z\" fill=\"#ffffff\" fill-rule=\"evenodd\" fill-opacity=\"1\"/>\n",
       "<defs>\n",
       "  <clipPath id=\"clip261\">\n",
       "    <rect x=\"480\" y=\"0\" width=\"1681\" height=\"1600\"/>\n",
       "  </clipPath>\n",
       "</defs>\n",
       "<path clip-path=\"url(#clip260)\" d=\"M156.112 1486.45 L2352.76 1486.45 L2352.76 47.2441 L156.112 47.2441  Z\" fill=\"#ffffff\" fill-rule=\"evenodd\" fill-opacity=\"1\"/>\n",
       "<defs>\n",
       "  <clipPath id=\"clip262\">\n",
       "    <rect x=\"156\" y=\"47\" width=\"2198\" height=\"1440\"/>\n",
       "  </clipPath>\n",
       "</defs>\n",
       "<polyline clip-path=\"url(#clip262)\" style=\"stroke:#000000; stroke-linecap:round; stroke-linejoin:round; stroke-width:2; stroke-opacity:0.1; fill:none\" points=\"218.281,1486.45 218.281,47.2441 \"/>\n",
       "<polyline clip-path=\"url(#clip262)\" style=\"stroke:#000000; stroke-linecap:round; stroke-linejoin:round; stroke-width:2; stroke-opacity:0.1; fill:none\" points=\"736.358,1486.45 736.358,47.2441 \"/>\n",
       "<polyline clip-path=\"url(#clip262)\" style=\"stroke:#000000; stroke-linecap:round; stroke-linejoin:round; stroke-width:2; stroke-opacity:0.1; fill:none\" points=\"1254.43,1486.45 1254.43,47.2441 \"/>\n",
       "<polyline clip-path=\"url(#clip262)\" style=\"stroke:#000000; stroke-linecap:round; stroke-linejoin:round; stroke-width:2; stroke-opacity:0.1; fill:none\" points=\"1772.51,1486.45 1772.51,47.2441 \"/>\n",
       "<polyline clip-path=\"url(#clip262)\" style=\"stroke:#000000; stroke-linecap:round; stroke-linejoin:round; stroke-width:2; stroke-opacity:0.1; fill:none\" points=\"2290.59,1486.45 2290.59,47.2441 \"/>\n",
       "<polyline clip-path=\"url(#clip262)\" style=\"stroke:#000000; stroke-linecap:round; stroke-linejoin:round; stroke-width:2; stroke-opacity:0.1; fill:none\" points=\"156.112,1445.72 2352.76,1445.72 \"/>\n",
       "<polyline clip-path=\"url(#clip262)\" style=\"stroke:#000000; stroke-linecap:round; stroke-linejoin:round; stroke-width:2; stroke-opacity:0.1; fill:none\" points=\"156.112,1003.12 2352.76,1003.12 \"/>\n",
       "<polyline clip-path=\"url(#clip262)\" style=\"stroke:#000000; stroke-linecap:round; stroke-linejoin:round; stroke-width:2; stroke-opacity:0.1; fill:none\" points=\"156.112,560.526 2352.76,560.526 \"/>\n",
       "<polyline clip-path=\"url(#clip262)\" style=\"stroke:#000000; stroke-linecap:round; stroke-linejoin:round; stroke-width:2; stroke-opacity:0.1; fill:none\" points=\"156.112,117.932 2352.76,117.932 \"/>\n",
       "<polyline clip-path=\"url(#clip260)\" style=\"stroke:#000000; stroke-linecap:round; stroke-linejoin:round; stroke-width:4; stroke-opacity:1; fill:none\" points=\"156.112,1486.45 2352.76,1486.45 \"/>\n",
       "<polyline clip-path=\"url(#clip260)\" style=\"stroke:#000000; stroke-linecap:round; stroke-linejoin:round; stroke-width:4; stroke-opacity:1; fill:none\" points=\"218.281,1486.45 218.281,1467.55 \"/>\n",
       "<polyline clip-path=\"url(#clip260)\" style=\"stroke:#000000; stroke-linecap:round; stroke-linejoin:round; stroke-width:4; stroke-opacity:1; fill:none\" points=\"736.358,1486.45 736.358,1467.55 \"/>\n",
       "<polyline clip-path=\"url(#clip260)\" style=\"stroke:#000000; stroke-linecap:round; stroke-linejoin:round; stroke-width:4; stroke-opacity:1; fill:none\" points=\"1254.43,1486.45 1254.43,1467.55 \"/>\n",
       "<polyline clip-path=\"url(#clip260)\" style=\"stroke:#000000; stroke-linecap:round; stroke-linejoin:round; stroke-width:4; stroke-opacity:1; fill:none\" points=\"1772.51,1486.45 1772.51,1467.55 \"/>\n",
       "<polyline clip-path=\"url(#clip260)\" style=\"stroke:#000000; stroke-linecap:round; stroke-linejoin:round; stroke-width:4; stroke-opacity:1; fill:none\" points=\"2290.59,1486.45 2290.59,1467.55 \"/>\n",
       "<path clip-path=\"url(#clip260)\" d=\"M208.663 1544.91 L216.302 1544.91 L216.302 1518.55 L207.992 1520.21 L207.992 1515.95 L216.256 1514.29 L220.932 1514.29 L220.932 1544.91 L228.571 1544.91 L228.571 1548.85 L208.663 1548.85 L208.663 1544.91 Z\" fill=\"#000000\" fill-rule=\"nonzero\" fill-opacity=\"1\" /><path clip-path=\"url(#clip260)\" d=\"M731.01 1544.91 L747.33 1544.91 L747.33 1548.85 L725.385 1548.85 L725.385 1544.91 Q728.048 1542.16 732.631 1537.53 Q737.237 1532.88 738.418 1531.53 Q740.663 1529.01 741.543 1527.27 Q742.446 1525.51 742.446 1523.82 Q742.446 1521.07 740.501 1519.33 Q738.58 1517.6 735.478 1517.6 Q733.279 1517.6 730.825 1518.36 Q728.395 1519.13 725.617 1520.68 L725.617 1515.95 Q728.441 1514.82 730.895 1514.24 Q733.348 1513.66 735.385 1513.66 Q740.756 1513.66 743.95 1516.35 Q747.145 1519.03 747.145 1523.52 Q747.145 1525.65 746.334 1527.57 Q745.547 1529.47 743.441 1532.07 Q742.862 1532.74 739.76 1535.95 Q736.659 1539.15 731.01 1544.91 Z\" fill=\"#000000\" fill-rule=\"nonzero\" fill-opacity=\"1\" /><path clip-path=\"url(#clip260)\" d=\"M1258.68 1530.21 Q1262.04 1530.93 1263.91 1533.2 Q1265.81 1535.47 1265.81 1538.8 Q1265.81 1543.92 1262.29 1546.72 Q1258.77 1549.52 1252.29 1549.52 Q1250.12 1549.52 1247.8 1549.08 Q1245.51 1548.66 1243.06 1547.81 L1243.06 1543.29 Q1245 1544.43 1247.32 1545.01 Q1249.63 1545.58 1252.15 1545.58 Q1256.55 1545.58 1258.84 1543.85 Q1261.16 1542.11 1261.16 1538.8 Q1261.16 1535.75 1259.01 1534.03 Q1256.88 1532.3 1253.06 1532.3 L1249.03 1532.3 L1249.03 1528.45 L1253.24 1528.45 Q1256.69 1528.45 1258.52 1527.09 Q1260.35 1525.7 1260.35 1523.11 Q1260.35 1520.45 1258.45 1519.03 Q1256.58 1517.6 1253.06 1517.6 Q1251.14 1517.6 1248.94 1518.01 Q1246.74 1518.43 1244.1 1519.31 L1244.1 1515.14 Q1246.76 1514.4 1249.08 1514.03 Q1251.41 1513.66 1253.47 1513.66 Q1258.8 1513.66 1261.9 1516.09 Q1265 1518.5 1265 1522.62 Q1265 1525.49 1263.36 1527.48 Q1261.71 1529.45 1258.68 1530.21 Z\" fill=\"#000000\" fill-rule=\"nonzero\" fill-opacity=\"1\" /><path clip-path=\"url(#clip260)\" d=\"M1775.52 1518.36 L1763.71 1536.81 L1775.52 1536.81 L1775.52 1518.36 M1774.29 1514.29 L1780.17 1514.29 L1780.17 1536.81 L1785.1 1536.81 L1785.1 1540.7 L1780.17 1540.7 L1780.17 1548.85 L1775.52 1548.85 L1775.52 1540.7 L1759.92 1540.7 L1759.92 1536.19 L1774.29 1514.29 Z\" fill=\"#000000\" fill-rule=\"nonzero\" fill-opacity=\"1\" /><path clip-path=\"url(#clip260)\" d=\"M2280.86 1514.29 L2299.22 1514.29 L2299.22 1518.22 L2285.15 1518.22 L2285.15 1526.7 Q2286.17 1526.35 2287.18 1526.19 Q2288.2 1526 2289.22 1526 Q2295.01 1526 2298.39 1529.17 Q2301.77 1532.34 2301.77 1537.76 Q2301.77 1543.34 2298.3 1546.44 Q2294.82 1549.52 2288.5 1549.52 Q2286.33 1549.52 2284.06 1549.15 Q2281.81 1548.78 2279.41 1548.04 L2279.41 1543.34 Q2281.49 1544.47 2283.71 1545.03 Q2285.93 1545.58 2288.41 1545.58 Q2292.42 1545.58 2294.75 1543.48 Q2297.09 1541.37 2297.09 1537.76 Q2297.09 1534.15 2294.75 1532.04 Q2292.42 1529.94 2288.41 1529.94 Q2286.54 1529.94 2284.66 1530.35 Q2282.81 1530.77 2280.86 1531.65 L2280.86 1514.29 Z\" fill=\"#000000\" fill-rule=\"nonzero\" fill-opacity=\"1\" /><polyline clip-path=\"url(#clip260)\" style=\"stroke:#000000; stroke-linecap:round; stroke-linejoin:round; stroke-width:4; stroke-opacity:1; fill:none\" points=\"156.112,1486.45 156.112,47.2441 \"/>\n",
       "<polyline clip-path=\"url(#clip260)\" style=\"stroke:#000000; stroke-linecap:round; stroke-linejoin:round; stroke-width:4; stroke-opacity:1; fill:none\" points=\"156.112,1445.72 175.01,1445.72 \"/>\n",
       "<polyline clip-path=\"url(#clip260)\" style=\"stroke:#000000; stroke-linecap:round; stroke-linejoin:round; stroke-width:4; stroke-opacity:1; fill:none\" points=\"156.112,1003.12 175.01,1003.12 \"/>\n",
       "<polyline clip-path=\"url(#clip260)\" style=\"stroke:#000000; stroke-linecap:round; stroke-linejoin:round; stroke-width:4; stroke-opacity:1; fill:none\" points=\"156.112,560.526 175.01,560.526 \"/>\n",
       "<polyline clip-path=\"url(#clip260)\" style=\"stroke:#000000; stroke-linecap:round; stroke-linejoin:round; stroke-width:4; stroke-opacity:1; fill:none\" points=\"156.112,117.932 175.01,117.932 \"/>\n",
       "<path clip-path=\"url(#clip260)\" d=\"M62.9365 1431.51 Q59.3254 1431.51 57.4967 1435.08 Q55.6912 1438.62 55.6912 1445.75 Q55.6912 1452.86 57.4967 1456.42 Q59.3254 1459.96 62.9365 1459.96 Q66.5707 1459.96 68.3763 1456.42 Q70.205 1452.86 70.205 1445.75 Q70.205 1438.62 68.3763 1435.08 Q66.5707 1431.51 62.9365 1431.51 M62.9365 1427.81 Q68.7467 1427.81 71.8022 1432.42 Q74.8809 1437 74.8809 1445.75 Q74.8809 1454.48 71.8022 1459.08 Q68.7467 1463.67 62.9365 1463.67 Q57.1264 1463.67 54.0477 1459.08 Q50.9921 1454.48 50.9921 1445.75 Q50.9921 1437 54.0477 1432.42 Q57.1264 1427.81 62.9365 1427.81 Z\" fill=\"#000000\" fill-rule=\"nonzero\" fill-opacity=\"1\" /><path clip-path=\"url(#clip260)\" d=\"M83.0984 1457.12 L87.9827 1457.12 L87.9827 1463 L83.0984 1463 L83.0984 1457.12 Z\" fill=\"#000000\" fill-rule=\"nonzero\" fill-opacity=\"1\" /><path clip-path=\"url(#clip260)\" d=\"M108.168 1431.51 Q104.557 1431.51 102.728 1435.08 Q100.922 1438.62 100.922 1445.75 Q100.922 1452.86 102.728 1456.42 Q104.557 1459.96 108.168 1459.96 Q111.802 1459.96 113.608 1456.42 Q115.436 1452.86 115.436 1445.75 Q115.436 1438.62 113.608 1435.08 Q111.802 1431.51 108.168 1431.51 M108.168 1427.81 Q113.978 1427.81 117.033 1432.42 Q120.112 1437 120.112 1445.75 Q120.112 1454.48 117.033 1459.08 Q113.978 1463.67 108.168 1463.67 Q102.358 1463.67 99.2789 1459.08 Q96.2234 1454.48 96.2234 1445.75 Q96.2234 1437 99.2789 1432.42 Q102.358 1427.81 108.168 1427.81 Z\" fill=\"#000000\" fill-rule=\"nonzero\" fill-opacity=\"1\" /><path clip-path=\"url(#clip260)\" d=\"M63.9319 988.92 Q60.3208 988.92 58.4921 992.485 Q56.6865 996.026 56.6865 1003.16 Q56.6865 1010.26 58.4921 1013.83 Q60.3208 1017.37 63.9319 1017.37 Q67.5661 1017.37 69.3717 1013.83 Q71.2004 1010.26 71.2004 1003.16 Q71.2004 996.026 69.3717 992.485 Q67.5661 988.92 63.9319 988.92 M63.9319 985.216 Q69.742 985.216 72.7976 989.822 Q75.8763 994.406 75.8763 1003.16 Q75.8763 1011.88 72.7976 1016.49 Q69.742 1021.07 63.9319 1021.07 Q58.1217 1021.07 55.043 1016.49 Q51.9875 1011.88 51.9875 1003.16 Q51.9875 994.406 55.043 989.822 Q58.1217 985.216 63.9319 985.216 Z\" fill=\"#000000\" fill-rule=\"nonzero\" fill-opacity=\"1\" /><path clip-path=\"url(#clip260)\" d=\"M84.0938 1014.52 L88.978 1014.52 L88.978 1020.4 L84.0938 1020.4 L84.0938 1014.52 Z\" fill=\"#000000\" fill-rule=\"nonzero\" fill-opacity=\"1\" /><path clip-path=\"url(#clip260)\" d=\"M99.2095 985.841 L117.566 985.841 L117.566 989.776 L103.492 989.776 L103.492 998.248 Q104.51 997.901 105.529 997.739 Q106.547 997.554 107.566 997.554 Q113.353 997.554 116.733 1000.73 Q120.112 1003.9 120.112 1009.31 Q120.112 1014.89 116.64 1017.99 Q113.168 1021.07 106.848 1021.07 Q104.672 1021.07 102.404 1020.7 Q100.159 1020.33 97.7511 1019.59 L97.7511 1014.89 Q99.8345 1016.03 102.057 1016.58 Q104.279 1017.14 106.756 1017.14 Q110.76 1017.14 113.098 1015.03 Q115.436 1012.92 115.436 1009.31 Q115.436 1005.7 113.098 1003.6 Q110.76 1001.49 106.756 1001.49 Q104.881 1001.49 103.006 1001.91 Q101.154 1002.32 99.2095 1003.2 L99.2095 985.841 Z\" fill=\"#000000\" fill-rule=\"nonzero\" fill-opacity=\"1\" /><path clip-path=\"url(#clip260)\" d=\"M53.7467 573.871 L61.3856 573.871 L61.3856 547.506 L53.0754 549.172 L53.0754 544.913 L61.3393 543.246 L66.0152 543.246 L66.0152 573.871 L73.654 573.871 L73.654 577.806 L53.7467 577.806 L53.7467 573.871 Z\" fill=\"#000000\" fill-rule=\"nonzero\" fill-opacity=\"1\" /><path clip-path=\"url(#clip260)\" d=\"M83.0984 571.927 L87.9827 571.927 L87.9827 577.806 L83.0984 577.806 L83.0984 571.927 Z\" fill=\"#000000\" fill-rule=\"nonzero\" fill-opacity=\"1\" /><path clip-path=\"url(#clip260)\" d=\"M108.168 546.325 Q104.557 546.325 102.728 549.89 Q100.922 553.431 100.922 560.561 Q100.922 567.668 102.728 571.232 Q104.557 574.774 108.168 574.774 Q111.802 574.774 113.608 571.232 Q115.436 567.668 115.436 560.561 Q115.436 553.431 113.608 549.89 Q111.802 546.325 108.168 546.325 M108.168 542.621 Q113.978 542.621 117.033 547.228 Q120.112 551.811 120.112 560.561 Q120.112 569.288 117.033 573.894 Q113.978 578.478 108.168 578.478 Q102.358 578.478 99.2789 573.894 Q96.2234 569.288 96.2234 560.561 Q96.2234 551.811 99.2789 547.228 Q102.358 542.621 108.168 542.621 Z\" fill=\"#000000\" fill-rule=\"nonzero\" fill-opacity=\"1\" /><path clip-path=\"url(#clip260)\" d=\"M54.7421 131.277 L62.381 131.277 L62.381 104.911 L54.0708 106.578 L54.0708 102.318 L62.3347 100.652 L67.0106 100.652 L67.0106 131.277 L74.6494 131.277 L74.6494 135.212 L54.7421 135.212 L54.7421 131.277 Z\" fill=\"#000000\" fill-rule=\"nonzero\" fill-opacity=\"1\" /><path clip-path=\"url(#clip260)\" d=\"M84.0938 129.332 L88.978 129.332 L88.978 135.212 L84.0938 135.212 L84.0938 129.332 Z\" fill=\"#000000\" fill-rule=\"nonzero\" fill-opacity=\"1\" /><path clip-path=\"url(#clip260)\" d=\"M99.2095 100.652 L117.566 100.652 L117.566 104.587 L103.492 104.587 L103.492 113.059 Q104.51 112.712 105.529 112.55 Q106.547 112.365 107.566 112.365 Q113.353 112.365 116.733 115.536 Q120.112 118.707 120.112 124.124 Q120.112 129.702 116.64 132.804 Q113.168 135.883 106.848 135.883 Q104.672 135.883 102.404 135.513 Q100.159 135.142 97.7511 134.402 L97.7511 129.702 Q99.8345 130.837 102.057 131.392 Q104.279 131.948 106.756 131.948 Q110.76 131.948 113.098 129.841 Q115.436 127.735 115.436 124.124 Q115.436 120.513 113.098 118.406 Q110.76 116.3 106.756 116.3 Q104.881 116.3 103.006 116.716 Q101.154 117.133 99.2095 118.013 L99.2095 100.652 Z\" fill=\"#000000\" fill-rule=\"nonzero\" fill-opacity=\"1\" /><polyline clip-path=\"url(#clip262)\" style=\"stroke:#009af9; stroke-linecap:round; stroke-linejoin:round; stroke-width:4; stroke-opacity:1; fill:none\" points=\"218.281,1445.72 736.358,277.799 1254.43,87.9763 1772.51,1283.82 2290.59,473.894 \"/>\n",
       "<path clip-path=\"url(#clip260)\" d=\"M2007.44 198.898 L2279.53 198.898 L2279.53 95.2176 L2007.44 95.2176  Z\" fill=\"#ffffff\" fill-rule=\"evenodd\" fill-opacity=\"1\"/>\n",
       "<polyline clip-path=\"url(#clip260)\" style=\"stroke:#000000; stroke-linecap:round; stroke-linejoin:round; stroke-width:4; stroke-opacity:1; fill:none\" points=\"2007.44,198.898 2279.53,198.898 2279.53,95.2176 2007.44,95.2176 2007.44,198.898 \"/>\n",
       "<polyline clip-path=\"url(#clip260)\" style=\"stroke:#009af9; stroke-linecap:round; stroke-linejoin:round; stroke-width:4; stroke-opacity:1; fill:none\" points=\"2031.85,147.058 2178.29,147.058 \"/>\n",
       "<path clip-path=\"url(#clip260)\" d=\"M2216.54 166.745 Q2214.73 171.375 2213.02 172.787 Q2211.31 174.199 2208.44 174.199 L2205.03 174.199 L2205.03 170.634 L2207.53 170.634 Q2209.29 170.634 2210.27 169.8 Q2211.24 168.967 2212.42 165.865 L2213.18 163.921 L2202.7 138.412 L2207.21 138.412 L2215.31 158.689 L2223.41 138.412 L2227.93 138.412 L2216.54 166.745 Z\" fill=\"#000000\" fill-rule=\"nonzero\" fill-opacity=\"1\" /><path clip-path=\"url(#clip260)\" d=\"M2235.22 160.402 L2242.86 160.402 L2242.86 134.037 L2234.55 135.703 L2234.55 131.444 L2242.81 129.778 L2247.49 129.778 L2247.49 160.402 L2255.13 160.402 L2255.13 164.338 L2235.22 164.338 L2235.22 160.402 Z\" fill=\"#000000\" fill-rule=\"nonzero\" fill-opacity=\"1\" /></svg>\n"
      ]
     },
     "metadata": {},
     "output_type": "display_data"
    }
   ],
   "source": [
    "using Plots\n",
    "plot(entropy)"
   ]
  },
  {
   "cell_type": "code",
   "execution_count": 23,
   "id": "095ebd98",
   "metadata": {},
   "outputs": [
    {
     "name": "stdout",
     "output_type": "stream",
     "text": [
      "627.302886 seconds (2.43 G allocations: 1.284 TiB, 36.48% gc time)\n"
     ]
    }
   ],
   "source": [
    "include(\"s3.jl\")\n",
    "@time for shot in 1:100\n",
    "    Entropy_t_z(8, 50.0, 1.0, 1.0, shot)\n",
    "end"
   ]
  },
  {
   "cell_type": "code",
   "execution_count": null,
   "id": "19e227df",
   "metadata": {},
   "outputs": [],
   "source": []
  }
 ],
 "metadata": {
  "kernelspec": {
   "display_name": "Julia 1.11.5",
   "language": "julia",
   "name": "julia-1.11"
  },
  "language_info": {
   "file_extension": ".jl",
   "mimetype": "application/julia",
   "name": "julia",
   "version": "1.11.5"
  }
 },
 "nbformat": 4,
 "nbformat_minor": 5
}
