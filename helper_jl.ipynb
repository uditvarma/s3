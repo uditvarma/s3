{
 "cells": [
  {
   "cell_type": "code",
   "execution_count": 103,
   "id": "6d1a5567",
   "metadata": {},
   "outputs": [
    {
     "name": "stderr",
     "output_type": "stream",
     "text": [
      "\u001b[32m\u001b[1m   Resolving\u001b[22m\u001b[39m package versions...\n",
      "\u001b[32m\u001b[1m  No Changes\u001b[22m\u001b[39m to `~/.julia/environments/v1.11/Project.toml`\n",
      "\u001b[32m\u001b[1m  No Changes\u001b[22m\u001b[39m to `~/.julia/environments/v1.11/Manifest.toml`\n",
      "\u001b[32m\u001b[1m   Resolving\u001b[22m\u001b[39m package versions...\n",
      "\u001b[32m\u001b[1m  No Changes\u001b[22m\u001b[39m to `~/.julia/environments/v1.11/Project.toml`\n",
      "\u001b[32m\u001b[1m  No Changes\u001b[22m\u001b[39m to `~/.julia/environments/v1.11/Manifest.toml`\n",
      "\u001b[32m\u001b[1m   Resolving\u001b[22m\u001b[39m package versions...\n",
      "\u001b[32m\u001b[1m  No Changes\u001b[22m\u001b[39m to `~/.julia/environments/v1.11/Project.toml`\n",
      "\u001b[32m\u001b[1m  No Changes\u001b[22m\u001b[39m to `~/.julia/environments/v1.11/Manifest.toml`\n",
      "\u001b[32m\u001b[1m   Resolving\u001b[22m\u001b[39m package versions...\n",
      "\u001b[32m\u001b[1m  No Changes\u001b[22m\u001b[39m to `~/.julia/environments/v1.11/Project.toml`\n",
      "\u001b[32m\u001b[1m  No Changes\u001b[22m\u001b[39m to `~/.julia/environments/v1.11/Manifest.toml`\n",
      "\u001b[32m\u001b[1m   Resolving\u001b[22m\u001b[39m package versions...\n",
      "\u001b[32m\u001b[1m  No Changes\u001b[22m\u001b[39m to `~/.julia/environments/v1.11/Project.toml`\n",
      "\u001b[32m\u001b[1m  No Changes\u001b[22m\u001b[39m to `~/.julia/environments/v1.11/Manifest.toml`\n",
      "\u001b[32m\u001b[1m   Resolving\u001b[22m\u001b[39m package versions...\n",
      "\u001b[32m\u001b[1m  No Changes\u001b[22m\u001b[39m to `~/.julia/environments/v1.11/Project.toml`\n",
      "\u001b[32m\u001b[1m  No Changes\u001b[22m\u001b[39m to `~/.julia/environments/v1.11/Manifest.toml`\n",
      "\u001b[32m\u001b[1m   Resolving\u001b[22m\u001b[39m package versions...\n",
      "\u001b[32m\u001b[1m  No Changes\u001b[22m\u001b[39m to `~/.julia/environments/v1.11/Project.toml`\n",
      "\u001b[32m\u001b[1m  No Changes\u001b[22m\u001b[39m to `~/.julia/environments/v1.11/Manifest.toml`\n",
      "\u001b[32m\u001b[1m   Resolving\u001b[22m\u001b[39m package versions...\n",
      "\u001b[32m\u001b[1m  No Changes\u001b[22m\u001b[39m to `~/.julia/environments/v1.11/Project.toml`\n",
      "\u001b[32m\u001b[1m  No Changes\u001b[22m\u001b[39m to `~/.julia/environments/v1.11/Manifest.toml`\n",
      "\u001b[32m\u001b[1m   Resolving\u001b[22m\u001b[39m package versions...\n",
      "\u001b[32m\u001b[1m   Installed\u001b[22m\u001b[39m ExpmV ─ v0.1.2\n",
      "\u001b[32m\u001b[1m    Updating\u001b[22m\u001b[39m `~/.julia/environments/v1.11/Project.toml`\n",
      "  \u001b[90m[a3781d3e] \u001b[39m\u001b[92m+ ExpmV v0.1.2\u001b[39m\n",
      "\u001b[32m\u001b[1m    Updating\u001b[22m\u001b[39m `~/.julia/environments/v1.11/Manifest.toml`\n",
      "  \u001b[90m[a3781d3e] \u001b[39m\u001b[92m+ ExpmV v0.1.2\u001b[39m\n",
      "\u001b[92m\u001b[1mPrecompiling\u001b[22m\u001b[39m project...\n",
      "   1041.8 ms\u001b[32m  ✓ \u001b[39mExpmV\n",
      "  1 dependency successfully precompiled in 1 seconds. 209 already precompiled.\n"
     ]
    }
   ],
   "source": [
    "import Pkg\n",
    "\n",
    "Pkg.add(\"SparseArrays\")\n",
    "Pkg.add(\"LinearAlgebra\")\n",
    "Pkg.add(\"SpecialFunctions\")\n",
    "Pkg.add(\"Arpack\")   \n",
    "Pkg.add(\"DelimitedFiles\")\n",
    "Pkg.add(\"NPZ\")\n",
    "Pkg.add(\"Random\")\n",
    "Pkg.add(\"Statistics\")\n",
    "Pkg.add(\"ExpmV\")"
   ]
  },
  {
   "cell_type": "code",
   "execution_count": 1,
   "id": "b58ea1d1",
   "metadata": {},
   "outputs": [],
   "source": [
    "using SparseArrays\n",
    "using LinearAlgebra\n",
    "using SpecialFunctions  # for besselj\n",
    "using Arpack  # for eigs on sparse matrices\n",
    "using Statistics\n",
    "using Random\n",
    "using DelimitedFiles\n",
    "using NPZ\n",
    "using ExpmV\n"
   ]
  },
  {
   "cell_type": "code",
   "execution_count": 15,
   "id": "3cf74d9c",
   "metadata": {},
   "outputs": [
    {
     "data": {
      "text/plain": [
       "von_neumann_entropy (generic function with 1 method)"
      ]
     },
     "metadata": {},
     "output_type": "display_data"
    }
   ],
   "source": [
    "function von_neumann_entropy(ψ::Vector{<:Complex}, cut::Int, L::Int)\n",
    "    dimA = 3^cut\n",
    "    dimB = 3^(L - cut)\n",
    "    ψ_matrix = reshape(ψ, (dimA, dimB))\n",
    "    svals = svdvals(ψ_matrix)\n",
    "    S = 0.0\n",
    "    for s in svals\n",
    "        p = abs2(s)\n",
    "        if p > 0 && p > 1e-15\n",
    "            S -= p * log(p)\n",
    "        end\n",
    "    end\n",
    "    return S\n",
    "end"
   ]
  },
  {
   "cell_type": "code",
   "execution_count": 2,
   "id": "7d50f7a8",
   "metadata": {},
   "outputs": [
    {
     "data": {
      "text/plain": [
       "random_product_state (generic function with 1 method)"
      ]
     },
     "metadata": {},
     "output_type": "display_data"
    }
   ],
   "source": [
    "using LinearAlgebra\n",
    "using Random\n",
    "\n",
    "function random_product_state(L::Int)\n",
    "    product_state = nothing\n",
    "\n",
    "    for i in 1:L\n",
    "        θ1 = rand() * π\n",
    "        θ2 = rand() * π\n",
    "        ϕ1 = rand() * 2π\n",
    "        ϕ2 = rand() * 2π\n",
    "\n",
    "        c1 = cos(θ1 / 2)\n",
    "        c2 = exp(im * ϕ1) * sin(θ1 / 2) * sin(θ2 / 2)\n",
    "        c3 = exp(im * ϕ2) * sin(θ1 / 2) * cos(θ2 / 2)\n",
    "\n",
    "        temp_state = [c1, c2, c3]\n",
    "\n",
    "        if i == 1\n",
    "            product_state = temp_state\n",
    "        else\n",
    "            product_state = kron(product_state, temp_state)\n",
    "        end\n",
    "    end\n",
    "\n",
    "    # Normalize the state\n",
    "    product_state /= norm(product_state)\n",
    "\n",
    "    return product_state\n",
    "end"
   ]
  },
  {
   "cell_type": "code",
   "execution_count": 3,
   "id": "f85e509d",
   "metadata": {},
   "outputs": [
    {
     "data": {
      "text/plain": [
       "Hamiltonian (generic function with 1 method)"
      ]
     },
     "metadata": {},
     "output_type": "display_data"
    }
   ],
   "source": [
    "function Hamiltonian(L)\n",
    "    # Define Pauli matrices as complex sparse matrices\n",
    "    id = sparse(ComplexF64[1 0 0; 0 1 0; 0 0 1])\n",
    "    sx = 1/sqrt(2) * sparse(ComplexF64[0 1 0; 1 0 1; 0 1 0])\n",
    "    sy = 1/sqrt(2) * sparse(ComplexF64[0 -im 0; im 0 -im; 0 im 0])\n",
    "    sz = sparse(ComplexF64[1 0 0; 0 0 0; 0 0 -1])\n",
    "\n",
    "    sp = 1/sqrt(2) * (sx + im * sy)\n",
    "    sm = 1/sqrt(2) * (sx - im * sy)\n",
    "\n",
    "    # Preallocate vectors of operators with correct type\n",
    "    #sx_list = Vector{SparseMatrixCSC{ComplexF64, Int}}(undef, L)\n",
    "    #sy_list = Vector{SparseMatrixCSC{ComplexF64, Int}}(undef, L)\n",
    "    szl = Vector{SparseMatrixCSC{ComplexF64, Int}}(undef, L) # List of sz operators\n",
    "    sz2l = Vector{SparseMatrixCSC{ComplexF64, Int}}(undef, L) # List of sz² operators\n",
    "    spl = Vector{SparseMatrixCSC{ComplexF64, Int}}(undef, L) # List of sp operators\n",
    "    sml = Vector{SparseMatrixCSC{ComplexF64, Int}}(undef, L) # List of sm operators\n",
    "\n",
    "    for i_site in 1:L\n",
    "        p_ops = fill(id, L)\n",
    "        m_ops = fill(id, L)\n",
    "        z_ops = fill(id, L)\n",
    "        z2_ops = fill(id, L)\n",
    "        p_ops[i_site] = sp\n",
    "        m_ops[i_site] = sm\n",
    "        z_ops[i_site] = sz\n",
    "        z2_ops[i_site] = sz^2\n",
    "\n",
    "        # Build the full operator by tensoring\n",
    "        P = p_ops[1]\n",
    "        M = m_ops[1]\n",
    "        Z = z_ops[1]\n",
    "        Z2 = z2_ops[1]\n",
    "        for j in 2:L\n",
    "            P = kron(P, p_ops[j])\n",
    "            M = kron(M, m_ops[j])\n",
    "            Z = kron(Z, z_ops[j])\n",
    "            Z2 = kron(Z2, z2_ops[j])\n",
    "        end\n",
    "\n",
    "        spl[i_site] = P\n",
    "        sml[i_site] = M\n",
    "        szl[i_site] = Z\n",
    "        sz2l[i_site] = Z2\n",
    "    end\n",
    "\n",
    "    dim = 3^L\n",
    "    H = spzeros(ComplexF64, dim, dim)\n",
    "\n",
    "    for i in 1:L\n",
    "        ip = (i % L) + 1  # Periodic boundary\n",
    "        H += ((spl[i]^2 * sml[ip]^2 + sml[i]^2 * spl[ip]^2) + adjoint((spl[i]^2 * sml[ip]^2 + sml[i]^2 * spl[ip]^2)))\n",
    "    end\n",
    "\n",
    "    return H, sz2l, szl \n",
    "end"
   ]
  },
  {
   "cell_type": "code",
   "execution_count": 9,
   "id": "f9e0dcec",
   "metadata": {},
   "outputs": [
    {
     "data": {
      "text/plain": [
       "time_evolution (generic function with 2 methods)"
      ]
     },
     "metadata": {},
     "output_type": "display_data"
    }
   ],
   "source": [
    "using ExpmV\n",
    "\n",
    "function time_evolution(ψ::Vector{ComplexF64}, dt::Float64, L)\n",
    "    ψ /= norm(ψ)\n",
    "    H, _, _ = Hamiltonian(L)\n",
    "\n",
    "    # Apply exp(-im * H * dt) directly to ψ\n",
    "    ψ_new = expmv(-im * dt, H, ψ)\n",
    "\n",
    "    # Normalize the state\n",
    "    ψ_new /= norm(ψ_new)\n",
    "    \n",
    "    return ψ_new\n",
    "end\n"
   ]
  },
  {
   "cell_type": "code",
   "execution_count": 13,
   "id": "e45e1982",
   "metadata": {},
   "outputs": [
    {
     "data": {
      "text/plain": [
       "1594323-element Vector{ComplexF64}:\n",
       " 0.00010211281636507455 + 0.0im\n",
       " 0.00014462754422347353 - 9.828925909981198e-5im\n",
       "   2.517974403378482e-5 + 0.00013901381711005156im\n",
       "  -6.108665609653795e-6 - 2.2684426829458057e-5im\n",
       "  -3.048703309335731e-5 - 2.6249170505858126e-5im\n",
       "  1.9319637667610964e-5 + 1.882361850158519e-5im\n",
       "  0.0001442860175218071 + 8.194309501865544e-5im\n",
       "   7.537084379209119e-5 + 0.00013600630603939262im\n",
       "   2.211323841559173e-5 + 1.8445781046150038e-5im\n",
       "   3.963480338393452e-5 - 0.00023094932675959626im\n",
       "                        ⋮\n",
       "  1.3962767982762509e-5 + 4.661021821705555e-5im\n",
       " -1.0883567121762958e-6 - 2.667217316047589e-6im\n",
       "  6.8036975363093366e-6 - 1.5725861554589464e-5im\n",
       "   -1.44010842907291e-6 + 2.5289639872052303e-6im\n",
       "  -2.098830909549493e-7 - 1.8383752999378518e-7im\n",
       "  -3.849986979109804e-7 + 4.7345028693136696e-8im\n",
       "  -6.614358293957353e-6 - 7.433878439857039e-7im\n",
       "  -9.742358117427006e-7 + 1.0258558821418575e-6im\n",
       "  1.6131308557871078e-7 + 1.960248442356031e-6im"
      ]
     },
     "metadata": {},
     "output_type": "display_data"
    }
   ],
   "source": [
    "state = time_evolution(random_product_state(13), 1.0, 13)"
   ]
  },
  {
   "cell_type": "code",
   "execution_count": 16,
   "id": "221c204f",
   "metadata": {},
   "outputs": [
    {
     "data": {
      "text/plain": [
       "1.0376024678276465"
      ]
     },
     "metadata": {},
     "output_type": "display_data"
    }
   ],
   "source": [
    "von_neumann_entropy(state, 6, 13)"
   ]
  },
  {
   "cell_type": "code",
   "execution_count": null,
   "id": "bc6007e8",
   "metadata": {},
   "outputs": [
    {
     "data": {
      "text/plain": [
       "Entropy_t (generic function with 2 methods)"
      ]
     },
     "metadata": {},
     "output_type": "display_data"
    }
   ],
   "source": [
    "function Entropy_t(L::Int, T::Float64, dt::Float64, p::Float64, direction::String, shot::Int)\n",
    "    Random.seed!(shot)  # Set random seed\n",
    "    s_t = random_product_state(L)\n",
    "    S_list = Float64[]\n",
    "\n",
    "    # Define Hamiltonian and local observables\n",
    "    H, sz2l, szl = Hamiltonian(L)\n",
    "    \n",
    "    if direction == \"Z2\"\n",
    "        sm_list = sz2l\n",
    "    elseif direction == \"Z\"\n",
    "        sm_list = szl\n",
    "    else\n",
    "        error(\"Invalid direction: $direction. Choose \\\"Z2\\\" or \\\"Z\\\".\")\n",
    "    end\n",
    "\n",
    "\n",
    "    steps = Int(floor(T / dt))\n",
    "\n",
    "    for _ in 1:steps\n",
    "        push!(S_list, von_neumann_entropy(s_t, L÷2, L))\n",
    "        #push!(S_list, I3(s_t))\n",
    "\n",
    "        # Time evolution\n",
    "        s_t = time_evolution(s_t, dt)\n",
    "        s_t /= norm(s_t)\n",
    "\n",
    "        # Measurements\n",
    "        if p != 0\n",
    "            for l in 1:L\n",
    "                x = rand()\n",
    "                if x < p\n",
    "                    m_op = sm_list[l]\n",
    "                    p_m = real(s_t' * (m_op * s_t))\n",
    "                    if rand() < p_m\n",
    "                        s_t = (m_op * s_t) / sqrt(p_m)\n",
    "                    else\n",
    "                        s_t = (s_t - m_op * s_t) / sqrt(1 - p_m)\n",
    "                    end\n",
    "                end\n",
    "            end\n",
    "        end\n",
    "    end\n",
    "\n",
    "    # Save result to disk\n",
    "    filename = \"L$(L),T$(T),dt$(dt),p$(p),dir$(direction),s$(shot).npy\"\n",
    "    #npzwrite(filename, S_list)\n",
    "\n",
    "    return S_list\n",
    "end"
   ]
  },
  {
   "cell_type": "code",
   "execution_count": 43,
   "id": "615e719c",
   "metadata": {},
   "outputs": [
    {
     "data": {
      "text/plain": [
       "100-element Vector{Float64}:\n",
       " -2.442490654175349e-15\n",
       " -0.29488101937856404\n",
       " -0.10971139284998044\n",
       " -0.3327657850498025\n",
       " -0.32936503573744114\n",
       " -0.4399987537940653\n",
       " -0.4755376084713212\n",
       " -0.09492770492534985\n",
       " -0.6946102017788871\n",
       " -0.5267667200171089\n",
       "  ⋮\n",
       " -0.3564001018127094\n",
       " -0.3027660910373713\n",
       " -0.8717254264415673\n",
       " -0.14151212240084665\n",
       " -0.17606351366724482\n",
       " -0.9818519095106251\n",
       " -0.41326309050713816\n",
       " -0.3106212877805765\n",
       " -0.32754592760356194"
      ]
     },
     "metadata": {},
     "output_type": "display_data"
    }
   ],
   "source": [
    "Entropy_t(8, 100.0, 1.0, 1.0, \"Z2\", 1)"
   ]
  },
  {
   "cell_type": "code",
   "execution_count": 42,
   "id": "99304bca",
   "metadata": {},
   "outputs": [
    {
     "data": {
      "text/plain": [
       "I3 (generic function with 1 method)"
      ]
     },
     "metadata": {},
     "output_type": "display_data"
    }
   ],
   "source": [
    "function I3(psi::Vector{ComplexF64})\n",
    "    log3(x) = log(x) / log(3)\n",
    "\n",
    "    L = Int(round(log3(length(psi))))\n",
    "    qL = L ÷ 4\n",
    "\n",
    "    SA   = von_neumann_entropy(psi, qL, L)\n",
    "    SB   = von_neumann_entropy(psi, 2qL, L)\n",
    "    SC   = von_neumann_entropy(psi, 3qL, L)\n",
    "    SABC = von_neumann_entropy(psi, L, L)\n",
    "    SAB  = von_neumann_entropy(psi, 2qL, L)\n",
    "    SAC  = von_neumann_entropy(psi, 3qL, L)\n",
    "    SBC  = von_neumann_entropy(psi, 3qL, L)\n",
    "    \n",
    "\n",
    "\n",
    "    return SA + SB + SC + SABC - SAB - SAC - SBC\n",
    "end"
   ]
  },
  {
   "cell_type": "code",
   "execution_count": null,
   "id": "98604b11",
   "metadata": {},
   "outputs": [
    {
     "data": {
      "text/plain": [
       "Entropy_t_z (generic function with 2 methods)"
      ]
     },
     "metadata": {},
     "output_type": "display_data"
    }
   ],
   "source": [
    "function Entropy_t_z(L::Int, T::Float64, dt::Float64, p::Float64, shot::Int)\n",
    "    Random.seed!(shot)  # Set random seed\n",
    "    s_t = random_product_state(L)\n",
    "    S_list = Float64[]\n",
    "\n",
    "    # Define Hamiltonian and local observables\n",
    "    H, sz2l, szl = Hamiltonian(L)\n",
    "    sm_list = szl\n",
    "    steps = Int(floor(T / dt))\n",
    "\n",
    "    for _ in 1:steps\n",
    "        push!(S_list, von_neumann_entropy(s_t, L÷2, L))\n",
    "        #push!(S_list, I3(s_t))\n",
    "\n",
    "        # Time evolution\n",
    "        s_t = time_evolution(s_t, dt)\n",
    "        s_t /= norm(s_t)\n",
    "\n",
    "        # Measurements\n",
    "        if p != 0\n",
    "            for l in 1:L\n",
    "                x = rand()\n",
    "                if x < p\n",
    "                    m_op = sm_list[l]\n",
    "                    p_m_mone = 0.5 * real(s_t' * (sz2l[l]-sm_list[l]) * s_t)\n",
    "                    p_m_one = 0.5 * real(s_t' * (sz2l[l] + sm_list[l]) * s_t)\n",
    "                    x1 = rand()\n",
    "                    if x1 < p_m_mone\n",
    "                        s_t = 0.5 * ((sz2l[l]-sm_list[l]) * s_t) / sqrt(p_m_mone)\n",
    "                    elseif p_m_mone < x1 < p_m_one + p_m_mone\n",
    "                        s_t = 0.5 * ((sz2l[l]+sm_list[l]) * s_t) / sqrt(p_m_one)\n",
    "                    else\n",
    "                        s_t = (s_t - sz2l[l] * s_t) / sqrt(1 - p_m_mone - p_m_one)\n",
    "                    end\n",
    "                end\n",
    "            end\n",
    "        end\n",
    "    end\n",
    "\n",
    "    # Save result to disk\n",
    "    filename = \"L$(L),T$(T),dt$(dt),p$(p),dirZ,s$(shot).npy\"\n",
    "    npzwrite(filename, S_list)\n",
    "\n",
    "    return S_list\n",
    "end"
   ]
  },
  {
   "cell_type": "code",
   "execution_count": 8,
   "id": "e693f479",
   "metadata": {},
   "outputs": [
    {
     "data": {
      "text/plain": [
       "Hamiltonian (generic function with 1 method)"
      ]
     },
     "metadata": {},
     "output_type": "display_data"
    }
   ],
   "source": [
    "include(\"s3.jl\")"
   ]
  },
  {
   "cell_type": "code",
   "execution_count": 10,
   "id": "931a67e1",
   "metadata": {},
   "outputs": [
    {
     "data": {
      "text/plain": [
       "100-element Vector{Float64}:\n",
       "  2.8865798640254035e-15\n",
       "  0.3632675500196728\n",
       "  0.6417750673048793\n",
       "  0.24375281922998004\n",
       " -0.09757885187994902\n",
       "  0.019680427386606414\n",
       "  0.11696451437975335\n",
       "  0.6725680799791564\n",
       "  0.4235830469305314\n",
       " -0.044589198460111\n",
       "  ⋮\n",
       "  0.44364228970813957\n",
       "  0.24521141249263445\n",
       " -0.07120718117375735\n",
       "  0.19959054060977222\n",
       "  1.925929944387236e-34\n",
       " -0.018967096499422187\n",
       "  0.4643897152328975\n",
       " -0.039535302335464505\n",
       " -0.2774209069115454"
      ]
     },
     "metadata": {},
     "output_type": "display_data"
    }
   ],
   "source": [
    "Entropy_t_z(8, 100.0, 1.0, 0.3, 398)"
   ]
  },
  {
   "cell_type": "markdown",
   "id": "ac2c198c",
   "metadata": {},
   "source": [
    "for L in [8]\n",
    "    for T in [100.0]\n",
    "        for dt in [1.0]\n",
    "            for p in [0.1, 0.2, 0.3, 0.4, 0.5, 0.6, 0.7, 0.8, 0.9, 1.0]\n",
    "                for shot in 1:500\n",
    "                    Entropy_t_z(L, T, dt, p, shot)\n",
    "                end\n",
    "            end\n",
    "        end\n",
    "    end\n",
    "end\n",
    "\n",
    "This took 320 minutes to run"
   ]
  },
  {
   "cell_type": "markdown",
   "id": "be50f86a",
   "metadata": {},
   "source": [
    "### Ancilla purification code"
   ]
  },
  {
   "cell_type": "code",
   "execution_count": 7,
   "id": "aec4bd06",
   "metadata": {},
   "outputs": [
    {
     "data": {
      "text/plain": [
       "Hamiltonian (generic function with 1 method)"
      ]
     },
     "metadata": {},
     "output_type": "display_data"
    }
   ],
   "source": [
    "using SparseArrays\n",
    "using LinearAlgebra\n",
    "using Arpack\n",
    "using Statistics\n",
    "using Random\n",
    "using DelimitedFiles\n",
    "using NPZ\n",
    "using ExpmV\n",
    "\n",
    "function von_neumann_entropy(ψ::Vector{<:Complex}, cut::Int, L::Int)\n",
    "    dimA = 3^cut\n",
    "    dimB = 3^(L - cut)\n",
    "    ψ_matrix = reshape(ψ, (dimA, dimB))\n",
    "    svals = svdvals(ψ_matrix)\n",
    "    S = 0.0\n",
    "    for s in svals\n",
    "        if s > 1e-15\n",
    "            p = abs2(s)\n",
    "            S -= p * log(p)\n",
    "        end\n",
    "    end\n",
    "    return S\n",
    "end\n",
    "\n",
    "function random_product_state(L::Int)\n",
    "    product_state = nothing\n",
    "\n",
    "    for i in 1:L\n",
    "        θ1 = rand() * π\n",
    "        θ2 = rand() * π\n",
    "        ϕ1 = rand() * 2π\n",
    "        ϕ2 = rand() * 2π\n",
    "\n",
    "        c1 = cos(θ1 / 2)\n",
    "        c2 = exp(im * ϕ1) * sin(θ1 / 2) * sin(θ2 / 2)\n",
    "        c3 = exp(im * ϕ2) * sin(θ1 / 2) * cos(θ2 / 2)\n",
    "\n",
    "        temp_state = [c1, c2, c3]\n",
    "\n",
    "        if i == 1\n",
    "            product_state = temp_state\n",
    "        else\n",
    "            product_state = kron(product_state, temp_state)\n",
    "        end\n",
    "    end\n",
    "\n",
    "    # Normalize the state\n",
    "    product_state /= norm(product_state)\n",
    "\n",
    "    return product_state\n",
    "end\n",
    "\n",
    "function time_evolution(ψ::Vector{ComplexF64}, dt::Float64, L)\n",
    "    ψ /= norm(ψ)\n",
    "    Ha, Hb, Hc, _, _ = Hamiltonian(L)\n",
    "    a = 2π * rand()\n",
    "    b = 2π * rand()\n",
    "    c = 2π * rand()\n",
    "    # Apply exp(-im * H * dt) directly to ψ\n",
    "    H = a * Ha + b * Hb + c * Hc\n",
    "    ψ_new = expmv(-im * dt, H, ψ)\n",
    "\n",
    "    # Normalize the state\n",
    "    ψ_new /= norm(ψ_new)\n",
    "    \n",
    "    return ψ_new\n",
    "end\n",
    "\n",
    "function I3(psi::Vector{ComplexF64})\n",
    "    log3(x) = log(x) / log(3)\n",
    "\n",
    "    L = Int(round(log3(length(psi))))\n",
    "    qL = L ÷ 4\n",
    "\n",
    "    SA   = von_neumann_entropy(psi, qL, L)\n",
    "    SB   = von_neumann_entropy(psi, 2qL, L)\n",
    "    SC   = von_neumann_entropy(psi, 3qL, L)\n",
    "    SABC = von_neumann_entropy(psi, L, L)\n",
    "    SAB  = von_neumann_entropy(psi, 2qL, L)\n",
    "    SAC  = von_neumann_entropy(psi, 3qL, L)\n",
    "    SBC  = von_neumann_entropy(psi, 3qL, L)\n",
    "    \n",
    "    return SA + SB + SC + SABC - SAB - SAC - SBC\n",
    "end\n",
    "\n",
    "### This function is for Z measurements only\n",
    "\n",
    "function Entropy_t_z(L::Int, T::Float64, dt::Float64, p::Float64, shot::Int)\n",
    "    Random.seed!(shot)  # Set random seed\n",
    "    s_t = random_product_state(L)\n",
    "    S_list = Float64[]\n",
    "\n",
    "    # Define Hamiltonian and local observables\n",
    "    _, _, _, sz2l, szl = Hamiltonian(L)\n",
    "    sm_list = szl\n",
    "    steps = Int(floor(T / dt))\n",
    "\n",
    "    for _ in 1:steps\n",
    "        #push!(S_list, von_neumann_entropy(s_t, L÷2, L))\n",
    "        push!(S_list, I3(s_t))\n",
    "\n",
    "        # Time evolution\n",
    "        s_t = time_evolution(s_t, dt, L)\n",
    "        s_t /= norm(s_t)\n",
    "\n",
    "        # Measurements\n",
    "        if p != 0\n",
    "            for l in 1:L\n",
    "                x = rand()\n",
    "                if x < p\n",
    "                    m_op = sm_list[l]\n",
    "                    p_m_mone = 0.5 * real(s_t' * (sz2l[l]-sm_list[l]) * s_t)\n",
    "                    p_m_one = 0.5 * real(s_t' * (sz2l[l] + sm_list[l]) * s_t)\n",
    "                    x1 = rand()\n",
    "                    if x1 < p_m_mone\n",
    "                        s_t = 0.5 * ((sz2l[l]-sm_list[l]) * s_t) / sqrt(p_m_mone)\n",
    "                    elseif p_m_mone < x1 < p_m_one + p_m_mone\n",
    "                        s_t = 0.5 * ((sz2l[l]+sm_list[l]) * s_t) / sqrt(p_m_one)\n",
    "                    else\n",
    "                        s_t = (s_t - sz2l[l] * s_t) / sqrt(1 - p_m_mone - p_m_one)\n",
    "                    end\n",
    "                end\n",
    "            end\n",
    "        end\n",
    "    end\n",
    "\n",
    "    # Save result to disk\n",
    "    filename = \"L$(L),T$(T),dt$(dt),p$(p),dirZ,s$(shot).npy\"\n",
    "    npzwrite(filename, S_list)\n",
    "\n",
    "    return S_list\n",
    "end\n",
    "\n",
    "function Hamiltonian(L)\n",
    "    # Define Pauli matrices as complex sparse matrices\n",
    "    id = sparse(ComplexF64[1 0 0; 0 1 0; 0 0 1])\n",
    "    sx = 1/sqrt(2) * sparse(ComplexF64[0 1 0; 1 0 1; 0 1 0])\n",
    "    sy = 1/sqrt(2) * sparse(ComplexF64[0 -im 0; im 0 -im; 0 im 0])\n",
    "    sz = sparse(ComplexF64[1 0 0; 0 0 0; 0 0 -1])\n",
    "\n",
    "    sp = 1/sqrt(2) * (sx + im * sy)\n",
    "    sm = 1/sqrt(2) * (sx - im * sy)\n",
    "\n",
    "    # Preallocate vectors of operators with correct type\n",
    "    #sx_list = Vector{SparseMatrixCSC{ComplexF64, Int}}(undef, L)\n",
    "    #sy_list = Vector{SparseMatrixCSC{ComplexF64, Int}}(undef, L)\n",
    "    szl = Vector{SparseMatrixCSC{ComplexF64, Int}}(undef, L) # List of sz operators\n",
    "    sz2l = Vector{SparseMatrixCSC{ComplexF64, Int}}(undef, L) # List of sz² operators\n",
    "    spl = Vector{SparseMatrixCSC{ComplexF64, Int}}(undef, L) # List of sp operators\n",
    "    sml = Vector{SparseMatrixCSC{ComplexF64, Int}}(undef, L) # List of sm operators\n",
    "\n",
    "    for i_site in 1:L\n",
    "        p_ops = fill(id, L)\n",
    "        m_ops = fill(id, L)\n",
    "        z_ops = fill(id, L)\n",
    "        z2_ops = fill(id, L)\n",
    "        p_ops[i_site] = sp\n",
    "        m_ops[i_site] = sm\n",
    "        z_ops[i_site] = sz\n",
    "        z2_ops[i_site] = sz^2\n",
    "\n",
    "        # Build the full operator by tensoring\n",
    "        P = p_ops[1]\n",
    "        M = m_ops[1]\n",
    "        Z = z_ops[1]\n",
    "        Z2 = z2_ops[1]\n",
    "        for j in 2:L\n",
    "            P = kron(P, p_ops[j])\n",
    "            M = kron(M, m_ops[j])\n",
    "            Z = kron(Z, z_ops[j])\n",
    "            Z2 = kron(Z2, z2_ops[j])\n",
    "        end\n",
    "\n",
    "        spl[i_site] = P\n",
    "        sml[i_site] = M\n",
    "        szl[i_site] = Z\n",
    "        sz2l[i_site] = Z2\n",
    "    end\n",
    "\n",
    "    dim = 3^L\n",
    "    Ha = spzeros(ComplexF64, dim, dim)\n",
    "\n",
    "    for i in 1:L\n",
    "        ip = (i % L) + 1  # Periodic boundary\n",
    "        Ha += ((spl[i]^2 * sml[ip]^2 + sml[i]^2 * spl[ip]^2) + adjoint((spl[i]^2 * sml[ip]^2 + sml[i]^2 * spl[ip]^2)))\n",
    "    end\n",
    "\n",
    "    Hb = spzeros(ComplexF64, dim, dim)\n",
    "\n",
    "    for i in 1:L\n",
    "        ip = (i % L) + 1  # Periodic boundary\n",
    "        Hb += (spl[i] * szl[i] * sml[ip] * szl[ip] + sml[i] * szl[i] * spl[ip] * szl[ip] + adjoint(spl[i] * szl[i] * sml[ip] * szl[ip]) + adjoint(sml[i] * szl[i] * spl[ip] * szl[ip]))\n",
    "    end\n",
    "\n",
    "    Hc = spzeros(ComplexF64, dim, dim)\n",
    "\n",
    "    for i in 1:L\n",
    "        ip = (i % L) + 1  # Periodic boundary\n",
    "        Hc += (spl[i]^2 * spl[ip] * szl[ip] + sml[i]^2 * sml[ip] * szl[ip] + adjoint(spl[i]^2 * spl[ip] * szl[ip]) + adjoint(sml[i]^2 * sml[ip] * szl[ip]))\n",
    "    end\n",
    "\n",
    "    return Ha, Hb, Hc, sz2l, szl \n",
    "end"
   ]
  },
  {
   "cell_type": "code",
   "execution_count": 8,
   "id": "dd2babce",
   "metadata": {},
   "outputs": [
    {
     "data": {
      "text/plain": [
       "100-element Vector{Float64}:\n",
       "  2.8865798640254035e-15\n",
       " -0.6516365185666779\n",
       "  0.00834043312809829\n",
       "  0.03498834832215625\n",
       "  0.0\n",
       "  2.0543329510095405\n",
       "  0.7278149584366276\n",
       "  0.6986159502455731\n",
       "  1.0413180271338076\n",
       " -1.038170828989648\n",
       "  ⋮\n",
       "  0.12440524295296251\n",
       " -0.45763625920641493\n",
       "  1.0430718242458252\n",
       "  1.051988619409194\n",
       "  0.5481563952152568\n",
       "  0.2118969323766569\n",
       " -0.7916531356555527\n",
       " -0.0037315024048210077\n",
       " -0.1079046216520374"
      ]
     },
     "metadata": {},
     "output_type": "display_data"
    }
   ],
   "source": [
    "Entropy_t_z(8, 100.0, 1.0, 0.3, 398)"
   ]
  },
  {
   "cell_type": "code",
   "execution_count": 1,
   "id": "70dd9c9d",
   "metadata": {},
   "outputs": [
    {
     "data": {
      "text/plain": [
       "Hamiltonian (generic function with 1 method)"
      ]
     },
     "metadata": {},
     "output_type": "display_data"
    }
   ],
   "source": [
    "function Hamiltonian(L)\n",
    "    # Define Pauli matrices as complex sparse matrices\n",
    "    id = sparse(ComplexF64[1 0 0; 0 1 0; 0 0 1])\n",
    "    sx = 1/sqrt(2) * sparse(ComplexF64[0 1 0; 1 0 1; 0 1 0])\n",
    "    sy = 1/sqrt(2) * sparse(ComplexF64[0 -im 0; im 0 -im; 0 im 0])\n",
    "    sz = sparse(ComplexF64[1 0 0; 0 0 0; 0 0 -1])\n",
    "\n",
    "    sp = 1/sqrt(2) * (sx + im * sy)\n",
    "    sm = 1/sqrt(2) * (sx - im * sy)\n",
    "\n",
    "    # Preallocate vectors of operators with correct type\n",
    "    #sx_list = Vector{SparseMatrixCSC{ComplexF64, Int}}(undef, L)\n",
    "    #sy_list = Vector{SparseMatrixCSC{ComplexF64, Int}}(undef, L)\n",
    "    szl = Vector{SparseMatrixCSC{ComplexF64, Int}}(undef, L) # List of sz operators\n",
    "    sz2l = Vector{SparseMatrixCSC{ComplexF64, Int}}(undef, L) # List of sz² operators\n",
    "    spl = Vector{SparseMatrixCSC{ComplexF64, Int}}(undef, L) # List of sp operators\n",
    "    sml = Vector{SparseMatrixCSC{ComplexF64, Int}}(undef, L) # List of sm operators\n",
    "\n",
    "    for i_site in 1:L\n",
    "        p_ops = fill(id, L)\n",
    "        m_ops = fill(id, L)\n",
    "        z_ops = fill(id, L)\n",
    "        z2_ops = fill(id, L)\n",
    "        p_ops[i_site] = sp\n",
    "        m_ops[i_site] = sm\n",
    "        z_ops[i_site] = sz\n",
    "        z2_ops[i_site] = sz^2\n",
    "\n",
    "        # Build the full operator by tensoring\n",
    "        P = p_ops[1]\n",
    "        M = m_ops[1]\n",
    "        Z = z_ops[1]\n",
    "        Z2 = z2_ops[1]\n",
    "        for j in 2:L\n",
    "            P = kron(P, p_ops[j])\n",
    "            M = kron(M, m_ops[j])\n",
    "            Z = kron(Z, z_ops[j])\n",
    "            Z2 = kron(Z2, z2_ops[j])\n",
    "        end\n",
    "\n",
    "        spl[i_site] = P\n",
    "        sml[i_site] = M\n",
    "        szl[i_site] = Z\n",
    "        sz2l[i_site] = Z2\n",
    "    end\n",
    "\n",
    "    dim = 3^L\n",
    "    Ha = spzeros(ComplexF64, dim, dim)\n",
    "\n",
    "    for i in 1:L\n",
    "        ip = (i % L) + 1  # Periodic boundary\n",
    "        Ha += ((spl[i]^2 * sml[ip]^2 + sml[i]^2 * spl[ip]^2) + adjoint((spl[i]^2 * sml[ip]^2 + sml[i]^2 * spl[ip]^2)))\n",
    "    end\n",
    "\n",
    "    Hb = spzeros(ComplexF64, dim, dim)\n",
    "\n",
    "    for i in 1:L\n",
    "        ip = (i % L) + 1  # Periodic boundary\n",
    "        Hb += (spl[i] * szl[i] * sml[ip] * szl[ip] + sml[i] * szl[i] * spl[ip] * szl[ip] + adjoint(spl[i] * szl[i] * sml[ip] * szl[ip]) + adjoint(sml[i] * szl[i] * spl[ip] * szl[ip]))\n",
    "    end\n",
    "\n",
    "    Hc = spzeros(ComplexF64, dim, dim)\n",
    "\n",
    "    for i in 1:L\n",
    "        ip = (i % L) + 1  # Periodic boundary\n",
    "        Hc += (spl[i]^2 * spl[ip] * szl[ip] + sml[i]^2 * sml[ip] * szl[ip] + adjoint(spl[i]^2 * spl[ip] * szl[ip]) + adjoint(sml[i]^2 * sml[ip] * szl[ip]))\n",
    "    end\n",
    "\n",
    "    return Ha, Hb, Hc, sz2l, szl \n",
    "end"
   ]
  },
  {
   "cell_type": "code",
   "execution_count": 13,
   "id": "2d0e1ab5",
   "metadata": {},
   "outputs": [
    {
     "data": {
      "text/plain": [
       "entropy_vn (generic function with 1 method)"
      ]
     },
     "metadata": {},
     "output_type": "display_data"
    }
   ],
   "source": [
    "function entropy_vn(ψ::Vector{<:Complex}, L::Int, subsystem::AbstractArray{Int})\n",
    "    cut = length(subsystem)\n",
    "    dimA = 3^cut\n",
    "    dimB = 3^(L - cut)\n",
    "    ψ_matrix = reshape(ψ, (dimA, dimB))\n",
    "    svals = svdvals(ψ_matrix)\n",
    "    S = 0.0\n",
    "    for s in svals\n",
    "        if s > 1e-15\n",
    "            p = abs2(s)\n",
    "            S -= p * log(p)\n",
    "        end\n",
    "    end\n",
    "    return S\n",
    "end"
   ]
  },
  {
   "cell_type": "code",
   "execution_count": 24,
   "id": "c266f03b",
   "metadata": {},
   "outputs": [
    {
     "data": {
      "text/plain": [
       "4.440892098500625e-16"
      ]
     },
     "metadata": {},
     "output_type": "display_data"
    }
   ],
   "source": [
    "entropy_vn(random_product_state(8), 8, [1, 2, 3, 4])"
   ]
  },
  {
   "cell_type": "code",
   "execution_count": null,
   "id": "e9629091",
   "metadata": {},
   "outputs": [],
   "source": [
    "function tmi(ψ::Vector{ComplexF64})\n",
    "    log3(x) = log(x) / log(3)\n",
    "\n",
    "    L = Int(round(log3(length(ψ))))\n",
    "    qL = L ÷ 4\n",
    "\n",
    "    SA   = entropy_vn(ψ, L, 1:qL)\n",
    "    SB   = entropy_vn(ψ, L, (qL+1):(2qL))\n",
    "    SC   = entropy_vn(ψ, L, (2qL+1):(3qL))\n",
    "    SABC = entropy_vn(ψ, L, 1:3qL)\n",
    "    SAB  = entropy_vn(ψ, L, 1:(2qL))\n",
    "    SAC  = entropy_vn(ψ, L, (1:(qL)) ∪ ((2qL+1):3qL))\n",
    "    SBC  = entropy_vn(ψ, L, (2qL+1):L)\n",
    "\n",
    "    return SA + SB + SC + SABC - SAB - SAC - SBC\n",
    "\n",
    "end"
   ]
  }
 ],
 "metadata": {
  "kernelspec": {
   "display_name": "Julia 1.11.5",
   "language": "julia",
   "name": "julia-1.11"
  },
  "language_info": {
   "file_extension": ".jl",
   "mimetype": "application/julia",
   "name": "julia",
   "version": "1.11.5"
  }
 },
 "nbformat": 4,
 "nbformat_minor": 5
}
