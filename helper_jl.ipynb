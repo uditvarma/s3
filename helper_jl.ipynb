{
 "cells": [
  {
   "cell_type": "code",
   "execution_count": 103,
   "id": "6d1a5567",
   "metadata": {},
   "outputs": [
    {
     "name": "stderr",
     "output_type": "stream",
     "text": [
      "\u001b[32m\u001b[1m   Resolving\u001b[22m\u001b[39m package versions...\n",
      "\u001b[32m\u001b[1m  No Changes\u001b[22m\u001b[39m to `~/.julia/environments/v1.11/Project.toml`\n",
      "\u001b[32m\u001b[1m  No Changes\u001b[22m\u001b[39m to `~/.julia/environments/v1.11/Manifest.toml`\n",
      "\u001b[32m\u001b[1m   Resolving\u001b[22m\u001b[39m package versions...\n",
      "\u001b[32m\u001b[1m  No Changes\u001b[22m\u001b[39m to `~/.julia/environments/v1.11/Project.toml`\n",
      "\u001b[32m\u001b[1m  No Changes\u001b[22m\u001b[39m to `~/.julia/environments/v1.11/Manifest.toml`\n",
      "\u001b[32m\u001b[1m   Resolving\u001b[22m\u001b[39m package versions...\n",
      "\u001b[32m\u001b[1m  No Changes\u001b[22m\u001b[39m to `~/.julia/environments/v1.11/Project.toml`\n",
      "\u001b[32m\u001b[1m  No Changes\u001b[22m\u001b[39m to `~/.julia/environments/v1.11/Manifest.toml`\n",
      "\u001b[32m\u001b[1m   Resolving\u001b[22m\u001b[39m package versions...\n",
      "\u001b[32m\u001b[1m  No Changes\u001b[22m\u001b[39m to `~/.julia/environments/v1.11/Project.toml`\n",
      "\u001b[32m\u001b[1m  No Changes\u001b[22m\u001b[39m to `~/.julia/environments/v1.11/Manifest.toml`\n",
      "\u001b[32m\u001b[1m   Resolving\u001b[22m\u001b[39m package versions...\n",
      "\u001b[32m\u001b[1m  No Changes\u001b[22m\u001b[39m to `~/.julia/environments/v1.11/Project.toml`\n",
      "\u001b[32m\u001b[1m  No Changes\u001b[22m\u001b[39m to `~/.julia/environments/v1.11/Manifest.toml`\n",
      "\u001b[32m\u001b[1m   Resolving\u001b[22m\u001b[39m package versions...\n",
      "\u001b[32m\u001b[1m  No Changes\u001b[22m\u001b[39m to `~/.julia/environments/v1.11/Project.toml`\n",
      "\u001b[32m\u001b[1m  No Changes\u001b[22m\u001b[39m to `~/.julia/environments/v1.11/Manifest.toml`\n",
      "\u001b[32m\u001b[1m   Resolving\u001b[22m\u001b[39m package versions...\n",
      "\u001b[32m\u001b[1m  No Changes\u001b[22m\u001b[39m to `~/.julia/environments/v1.11/Project.toml`\n",
      "\u001b[32m\u001b[1m  No Changes\u001b[22m\u001b[39m to `~/.julia/environments/v1.11/Manifest.toml`\n",
      "\u001b[32m\u001b[1m   Resolving\u001b[22m\u001b[39m package versions...\n",
      "\u001b[32m\u001b[1m  No Changes\u001b[22m\u001b[39m to `~/.julia/environments/v1.11/Project.toml`\n",
      "\u001b[32m\u001b[1m  No Changes\u001b[22m\u001b[39m to `~/.julia/environments/v1.11/Manifest.toml`\n",
      "\u001b[32m\u001b[1m   Resolving\u001b[22m\u001b[39m package versions...\n",
      "\u001b[32m\u001b[1m   Installed\u001b[22m\u001b[39m ExpmV ─ v0.1.2\n",
      "\u001b[32m\u001b[1m    Updating\u001b[22m\u001b[39m `~/.julia/environments/v1.11/Project.toml`\n",
      "  \u001b[90m[a3781d3e] \u001b[39m\u001b[92m+ ExpmV v0.1.2\u001b[39m\n",
      "\u001b[32m\u001b[1m    Updating\u001b[22m\u001b[39m `~/.julia/environments/v1.11/Manifest.toml`\n",
      "  \u001b[90m[a3781d3e] \u001b[39m\u001b[92m+ ExpmV v0.1.2\u001b[39m\n",
      "\u001b[92m\u001b[1mPrecompiling\u001b[22m\u001b[39m project...\n",
      "   1041.8 ms\u001b[32m  ✓ \u001b[39mExpmV\n",
      "  1 dependency successfully precompiled in 1 seconds. 209 already precompiled.\n"
     ]
    }
   ],
   "source": [
    "import Pkg\n",
    "\n",
    "Pkg.add(\"SparseArrays\")\n",
    "Pkg.add(\"LinearAlgebra\")\n",
    "Pkg.add(\"SpecialFunctions\")\n",
    "Pkg.add(\"Arpack\")   \n",
    "Pkg.add(\"DelimitedFiles\")\n",
    "Pkg.add(\"NPZ\")\n",
    "Pkg.add(\"Random\")\n",
    "Pkg.add(\"Statistics\")\n",
    "Pkg.add(\"ExpmV\")"
   ]
  },
  {
   "cell_type": "code",
   "execution_count": 1,
   "id": "b58ea1d1",
   "metadata": {},
   "outputs": [],
   "source": [
    "using SparseArrays\n",
    "using LinearAlgebra\n",
    "using SpecialFunctions  # for besselj\n",
    "using Arpack  # for eigs on sparse matrices\n",
    "using Statistics\n",
    "using Random\n",
    "using DelimitedFiles\n",
    "using NPZ\n",
    "using ExpmV\n"
   ]
  },
  {
   "cell_type": "code",
   "execution_count": 15,
   "id": "3cf74d9c",
   "metadata": {},
   "outputs": [
    {
     "data": {
      "text/plain": [
       "von_neumann_entropy (generic function with 1 method)"
      ]
     },
     "metadata": {},
     "output_type": "display_data"
    }
   ],
   "source": [
    "function von_neumann_entropy(ψ::Vector{<:Complex}, cut::Int, L::Int)\n",
    "    dimA = 3^cut\n",
    "    dimB = 3^(L - cut)\n",
    "    ψ_matrix = reshape(ψ, (dimA, dimB))\n",
    "    svals = svdvals(ψ_matrix)\n",
    "    S = 0.0\n",
    "    for s in svals\n",
    "        p = abs2(s)\n",
    "        if p > 0 && p > 1e-15\n",
    "            S -= p * log(p)\n",
    "        end\n",
    "    end\n",
    "    return S\n",
    "end"
   ]
  },
  {
   "cell_type": "code",
   "execution_count": 2,
   "id": "7d50f7a8",
   "metadata": {},
   "outputs": [
    {
     "data": {
      "text/plain": [
       "random_product_state (generic function with 1 method)"
      ]
     },
     "metadata": {},
     "output_type": "display_data"
    }
   ],
   "source": [
    "using LinearAlgebra\n",
    "using Random\n",
    "\n",
    "function random_product_state(L::Int)\n",
    "    product_state = nothing\n",
    "\n",
    "    for i in 1:L\n",
    "        θ1 = rand() * π\n",
    "        θ2 = rand() * π\n",
    "        ϕ1 = rand() * 2π\n",
    "        ϕ2 = rand() * 2π\n",
    "\n",
    "        c1 = cos(θ1 / 2)\n",
    "        c2 = exp(im * ϕ1) * sin(θ1 / 2) * sin(θ2 / 2)\n",
    "        c3 = exp(im * ϕ2) * sin(θ1 / 2) * cos(θ2 / 2)\n",
    "\n",
    "        temp_state = [c1, c2, c3]\n",
    "\n",
    "        if i == 1\n",
    "            product_state = temp_state\n",
    "        else\n",
    "            product_state = kron(product_state, temp_state)\n",
    "        end\n",
    "    end\n",
    "\n",
    "    # Normalize the state\n",
    "    product_state /= norm(product_state)\n",
    "\n",
    "    return product_state\n",
    "end"
   ]
  },
  {
   "cell_type": "code",
   "execution_count": 3,
   "id": "f85e509d",
   "metadata": {},
   "outputs": [
    {
     "data": {
      "text/plain": [
       "Hamiltonian (generic function with 1 method)"
      ]
     },
     "metadata": {},
     "output_type": "display_data"
    }
   ],
   "source": [
    "function Hamiltonian(L)\n",
    "    # Define Pauli matrices as complex sparse matrices\n",
    "    id = sparse(ComplexF64[1 0 0; 0 1 0; 0 0 1])\n",
    "    sx = 1/sqrt(2) * sparse(ComplexF64[0 1 0; 1 0 1; 0 1 0])\n",
    "    sy = 1/sqrt(2) * sparse(ComplexF64[0 -im 0; im 0 -im; 0 im 0])\n",
    "    sz = sparse(ComplexF64[1 0 0; 0 0 0; 0 0 -1])\n",
    "\n",
    "    sp = 1/sqrt(2) * (sx + im * sy)\n",
    "    sm = 1/sqrt(2) * (sx - im * sy)\n",
    "\n",
    "    # Preallocate vectors of operators with correct type\n",
    "    #sx_list = Vector{SparseMatrixCSC{ComplexF64, Int}}(undef, L)\n",
    "    #sy_list = Vector{SparseMatrixCSC{ComplexF64, Int}}(undef, L)\n",
    "    szl = Vector{SparseMatrixCSC{ComplexF64, Int}}(undef, L) # List of sz operators\n",
    "    sz2l = Vector{SparseMatrixCSC{ComplexF64, Int}}(undef, L) # List of sz² operators\n",
    "    spl = Vector{SparseMatrixCSC{ComplexF64, Int}}(undef, L) # List of sp operators\n",
    "    sml = Vector{SparseMatrixCSC{ComplexF64, Int}}(undef, L) # List of sm operators\n",
    "\n",
    "    for i_site in 1:L\n",
    "        p_ops = fill(id, L)\n",
    "        m_ops = fill(id, L)\n",
    "        z_ops = fill(id, L)\n",
    "        z2_ops = fill(id, L)\n",
    "        p_ops[i_site] = sp\n",
    "        m_ops[i_site] = sm\n",
    "        z_ops[i_site] = sz\n",
    "        z2_ops[i_site] = sz^2\n",
    "\n",
    "        # Build the full operator by tensoring\n",
    "        P = p_ops[1]\n",
    "        M = m_ops[1]\n",
    "        Z = z_ops[1]\n",
    "        Z2 = z2_ops[1]\n",
    "        for j in 2:L\n",
    "            P = kron(P, p_ops[j])\n",
    "            M = kron(M, m_ops[j])\n",
    "            Z = kron(Z, z_ops[j])\n",
    "            Z2 = kron(Z2, z2_ops[j])\n",
    "        end\n",
    "\n",
    "        spl[i_site] = P\n",
    "        sml[i_site] = M\n",
    "        szl[i_site] = Z\n",
    "        sz2l[i_site] = Z2\n",
    "    end\n",
    "\n",
    "    dim = 3^L\n",
    "    H = spzeros(ComplexF64, dim, dim)\n",
    "\n",
    "    for i in 1:L\n",
    "        ip = (i % L) + 1  # Periodic boundary\n",
    "        H += ((spl[i]^2 * sml[ip]^2 + sml[i]^2 * spl[ip]^2) + adjoint((spl[i]^2 * sml[ip]^2 + sml[i]^2 * spl[ip]^2)))\n",
    "    end\n",
    "\n",
    "    return H, sz2l, szl \n",
    "end"
   ]
  },
  {
   "cell_type": "code",
   "execution_count": 9,
   "id": "f9e0dcec",
   "metadata": {},
   "outputs": [
    {
     "data": {
      "text/plain": [
       "time_evolution (generic function with 2 methods)"
      ]
     },
     "metadata": {},
     "output_type": "display_data"
    }
   ],
   "source": [
    "using ExpmV\n",
    "\n",
    "function time_evolution(ψ::Vector{ComplexF64}, dt::Float64, L)\n",
    "    ψ /= norm(ψ)\n",
    "    H, _, _ = Hamiltonian(L)\n",
    "\n",
    "    # Apply exp(-im * H * dt) directly to ψ\n",
    "    ψ_new = expmv(-im * dt, H, ψ)\n",
    "\n",
    "    # Normalize the state\n",
    "    ψ_new /= norm(ψ_new)\n",
    "    \n",
    "    return ψ_new\n",
    "end\n"
   ]
  },
  {
   "cell_type": "code",
   "execution_count": 13,
   "id": "e45e1982",
   "metadata": {},
   "outputs": [
    {
     "data": {
      "text/plain": [
       "1594323-element Vector{ComplexF64}:\n",
       " 0.00010211281636507455 + 0.0im\n",
       " 0.00014462754422347353 - 9.828925909981198e-5im\n",
       "   2.517974403378482e-5 + 0.00013901381711005156im\n",
       "  -6.108665609653795e-6 - 2.2684426829458057e-5im\n",
       "  -3.048703309335731e-5 - 2.6249170505858126e-5im\n",
       "  1.9319637667610964e-5 + 1.882361850158519e-5im\n",
       "  0.0001442860175218071 + 8.194309501865544e-5im\n",
       "   7.537084379209119e-5 + 0.00013600630603939262im\n",
       "   2.211323841559173e-5 + 1.8445781046150038e-5im\n",
       "   3.963480338393452e-5 - 0.00023094932675959626im\n",
       "                        ⋮\n",
       "  1.3962767982762509e-5 + 4.661021821705555e-5im\n",
       " -1.0883567121762958e-6 - 2.667217316047589e-6im\n",
       "  6.8036975363093366e-6 - 1.5725861554589464e-5im\n",
       "   -1.44010842907291e-6 + 2.5289639872052303e-6im\n",
       "  -2.098830909549493e-7 - 1.8383752999378518e-7im\n",
       "  -3.849986979109804e-7 + 4.7345028693136696e-8im\n",
       "  -6.614358293957353e-6 - 7.433878439857039e-7im\n",
       "  -9.742358117427006e-7 + 1.0258558821418575e-6im\n",
       "  1.6131308557871078e-7 + 1.960248442356031e-6im"
      ]
     },
     "metadata": {},
     "output_type": "display_data"
    }
   ],
   "source": [
    "state = time_evolution(random_product_state(13), 1.0, 13)"
   ]
  },
  {
   "cell_type": "code",
   "execution_count": 16,
   "id": "221c204f",
   "metadata": {},
   "outputs": [
    {
     "data": {
      "text/plain": [
       "1.0376024678276465"
      ]
     },
     "metadata": {},
     "output_type": "display_data"
    }
   ],
   "source": [
    "von_neumann_entropy(state, 6, 13)"
   ]
  },
  {
   "cell_type": "code",
   "execution_count": null,
   "id": "bc6007e8",
   "metadata": {},
   "outputs": [
    {
     "data": {
      "text/plain": [
       "Entropy_t (generic function with 2 methods)"
      ]
     },
     "metadata": {},
     "output_type": "display_data"
    }
   ],
   "source": [
    "function Entropy_t(L::Int, T::Float64, dt::Float64, p::Float64, direction::String, shot::Int)\n",
    "    Random.seed!(shot)  # Set random seed\n",
    "    s_t = random_product_state(L)\n",
    "    S_list = Float64[]\n",
    "\n",
    "    # Define Hamiltonian and local observables\n",
    "    H, sz2l, szl = Hamiltonian(L)\n",
    "    \n",
    "    if direction == \"Z2\"\n",
    "        sm_list = sz2l\n",
    "    elseif direction == \"Z\"\n",
    "        sm_list = szl\n",
    "    else\n",
    "        error(\"Invalid direction: $direction. Choose \\\"Z2\\\" or \\\"Z\\\".\")\n",
    "    end\n",
    "\n",
    "\n",
    "    steps = Int(floor(T / dt))\n",
    "\n",
    "    for _ in 1:steps\n",
    "        push!(S_list, von_neumann_entropy(s_t, L÷2, L))\n",
    "        #push!(S_list, I3(s_t))\n",
    "\n",
    "        # Time evolution\n",
    "        s_t = time_evolution(s_t, dt)\n",
    "        s_t /= norm(s_t)\n",
    "\n",
    "        # Measurements\n",
    "        if p != 0\n",
    "            for l in 1:L\n",
    "                x = rand()\n",
    "                if x < p\n",
    "                    m_op = sm_list[l]\n",
    "                    p_m = real(s_t' * (m_op * s_t))\n",
    "                    if rand() < p_m\n",
    "                        s_t = (m_op * s_t) / sqrt(p_m)\n",
    "                    else\n",
    "                        s_t = (s_t - m_op * s_t) / sqrt(1 - p_m)\n",
    "                    end\n",
    "                end\n",
    "            end\n",
    "        end\n",
    "    end\n",
    "\n",
    "    # Save result to disk\n",
    "    filename = \"L$(L),T$(T),dt$(dt),p$(p),dir$(direction),s$(shot).npy\"\n",
    "    #npzwrite(filename, S_list)\n",
    "\n",
    "    return S_list\n",
    "end"
   ]
  },
  {
   "cell_type": "code",
   "execution_count": 43,
   "id": "615e719c",
   "metadata": {},
   "outputs": [
    {
     "data": {
      "text/plain": [
       "100-element Vector{Float64}:\n",
       " -2.442490654175349e-15\n",
       " -0.29488101937856404\n",
       " -0.10971139284998044\n",
       " -0.3327657850498025\n",
       " -0.32936503573744114\n",
       " -0.4399987537940653\n",
       " -0.4755376084713212\n",
       " -0.09492770492534985\n",
       " -0.6946102017788871\n",
       " -0.5267667200171089\n",
       "  ⋮\n",
       " -0.3564001018127094\n",
       " -0.3027660910373713\n",
       " -0.8717254264415673\n",
       " -0.14151212240084665\n",
       " -0.17606351366724482\n",
       " -0.9818519095106251\n",
       " -0.41326309050713816\n",
       " -0.3106212877805765\n",
       " -0.32754592760356194"
      ]
     },
     "metadata": {},
     "output_type": "display_data"
    }
   ],
   "source": [
    "Entropy_t(8, 100.0, 1.0, 1.0, \"Z2\", 1)"
   ]
  },
  {
   "cell_type": "code",
   "execution_count": 42,
   "id": "99304bca",
   "metadata": {},
   "outputs": [
    {
     "data": {
      "text/plain": [
       "I3 (generic function with 1 method)"
      ]
     },
     "metadata": {},
     "output_type": "display_data"
    }
   ],
   "source": [
    "function I3(psi::Vector{ComplexF64})\n",
    "    log3(x) = log(x) / log(3)\n",
    "\n",
    "    L = Int(round(log3(length(psi))))\n",
    "    qL = L ÷ 4\n",
    "\n",
    "    SA   = von_neumann_entropy(psi, qL, L)\n",
    "    SB   = von_neumann_entropy(psi, 2qL, L)\n",
    "    SC   = von_neumann_entropy(psi, 3qL, L)\n",
    "    SABC = von_neumann_entropy(psi, L, L)\n",
    "    SAB  = von_neumann_entropy(psi, 2qL, L)\n",
    "    SAC  = von_neumann_entropy(psi, 3qL, L)\n",
    "    SBC  = von_neumann_entropy(psi, 3qL, L)\n",
    "    \n",
    "\n",
    "\n",
    "    return SA + SB + SC + SABC - SAB - SAC - SBC\n",
    "end"
   ]
  },
  {
   "cell_type": "code",
   "execution_count": null,
   "id": "98604b11",
   "metadata": {},
   "outputs": [
    {
     "data": {
      "text/plain": [
       "Entropy_t_z (generic function with 2 methods)"
      ]
     },
     "metadata": {},
     "output_type": "display_data"
    }
   ],
   "source": [
    "function Entropy_t_z(L::Int, T::Float64, dt::Float64, p::Float64, shot::Int)\n",
    "    Random.seed!(shot)  # Set random seed\n",
    "    s_t = random_product_state(L)\n",
    "    S_list = Float64[]\n",
    "\n",
    "    # Define Hamiltonian and local observables\n",
    "    H, sz2l, szl = Hamiltonian(L)\n",
    "    sm_list = szl\n",
    "    steps = Int(floor(T / dt))\n",
    "\n",
    "    for _ in 1:steps\n",
    "        push!(S_list, von_neumann_entropy(s_t, L÷2, L))\n",
    "        #push!(S_list, I3(s_t))\n",
    "\n",
    "        # Time evolution\n",
    "        s_t = time_evolution(s_t, dt)\n",
    "        s_t /= norm(s_t)\n",
    "\n",
    "        # Measurements\n",
    "        if p != 0\n",
    "            for l in 1:L\n",
    "                x = rand()\n",
    "                if x < p\n",
    "                    m_op = sm_list[l]\n",
    "                    p_m_mone = 0.5 * real(s_t' * (sz2l[l]-sm_list[l]) * s_t)\n",
    "                    p_m_one = 0.5 * real(s_t' * (sz2l[l] + sm_list[l]) * s_t)\n",
    "                    x1 = rand()\n",
    "                    if x1 < p_m_mone\n",
    "                        s_t = 0.5 * ((sz2l[l]-sm_list[l]) * s_t) / sqrt(p_m_mone)\n",
    "                    elseif p_m_mone < x1 < p_m_one + p_m_mone\n",
    "                        s_t = 0.5 * ((sz2l[l]+sm_list[l]) * s_t) / sqrt(p_m_one)\n",
    "                    else\n",
    "                        s_t = (s_t - sz2l[l] * s_t) / sqrt(1 - p_m_mone - p_m_one)\n",
    "                    end\n",
    "                end\n",
    "            end\n",
    "        end\n",
    "    end\n",
    "\n",
    "    # Save result to disk\n",
    "    filename = \"L$(L),T$(T),dt$(dt),p$(p),dirZ,s$(shot).npy\"\n",
    "    npzwrite(filename, S_list)\n",
    "\n",
    "    return S_list\n",
    "end"
   ]
  },
  {
   "cell_type": "code",
   "execution_count": 8,
   "id": "e693f479",
   "metadata": {},
   "outputs": [
    {
     "data": {
      "text/plain": [
       "Hamiltonian (generic function with 1 method)"
      ]
     },
     "metadata": {},
     "output_type": "display_data"
    }
   ],
   "source": [
    "include(\"s3.jl\")"
   ]
  },
  {
   "cell_type": "code",
   "execution_count": 10,
   "id": "931a67e1",
   "metadata": {},
   "outputs": [
    {
     "data": {
      "text/plain": [
       "100-element Vector{Float64}:\n",
       "  2.8865798640254035e-15\n",
       "  0.3632675500196728\n",
       "  0.6417750673048793\n",
       "  0.24375281922998004\n",
       " -0.09757885187994902\n",
       "  0.019680427386606414\n",
       "  0.11696451437975335\n",
       "  0.6725680799791564\n",
       "  0.4235830469305314\n",
       " -0.044589198460111\n",
       "  ⋮\n",
       "  0.44364228970813957\n",
       "  0.24521141249263445\n",
       " -0.07120718117375735\n",
       "  0.19959054060977222\n",
       "  1.925929944387236e-34\n",
       " -0.018967096499422187\n",
       "  0.4643897152328975\n",
       " -0.039535302335464505\n",
       " -0.2774209069115454"
      ]
     },
     "metadata": {},
     "output_type": "display_data"
    }
   ],
   "source": [
    "Entropy_t_z(8, 100.0, 1.0, 0.3, 398)"
   ]
  },
  {
   "cell_type": "markdown",
   "id": "ac2c198c",
   "metadata": {},
   "source": [
    "for L in [8]\n",
    "    for T in [100.0]\n",
    "        for dt in [1.0]\n",
    "            for p in [0.1, 0.2, 0.3, 0.4, 0.5, 0.6, 0.7, 0.8, 0.9, 1.0]\n",
    "                for shot in 1:500\n",
    "                    Entropy_t_z(L, T, dt, p, shot)\n",
    "                end\n",
    "            end\n",
    "        end\n",
    "    end\n",
    "end\n",
    "\n",
    "This took 320 minutes to run"
   ]
  },
  {
   "cell_type": "markdown",
   "id": "be50f86a",
   "metadata": {},
   "source": [
    "### Ancilla purification code"
   ]
  },
  {
   "cell_type": "code",
   "execution_count": 7,
   "id": "aec4bd06",
   "metadata": {},
   "outputs": [
    {
     "data": {
      "text/plain": [
       "Hamiltonian (generic function with 1 method)"
      ]
     },
     "metadata": {},
     "output_type": "display_data"
    }
   ],
   "source": [
    "using SparseArrays\n",
    "using LinearAlgebra\n",
    "using Arpack\n",
    "using Statistics\n",
    "using Random\n",
    "using DelimitedFiles\n",
    "using NPZ\n",
    "using ExpmV\n",
    "\n",
    "function von_neumann_entropy(ψ::Vector{<:Complex}, cut::Int, L::Int)\n",
    "    dimA = 3^cut\n",
    "    dimB = 3^(L - cut)\n",
    "    ψ_matrix = reshape(ψ, (dimA, dimB))\n",
    "    svals = svdvals(ψ_matrix)\n",
    "    S = 0.0\n",
    "    for s in svals\n",
    "        if s > 1e-15\n",
    "            p = abs2(s)\n",
    "            S -= p * log(p)\n",
    "        end\n",
    "    end\n",
    "    return S\n",
    "end\n",
    "\n",
    "function random_product_state(L::Int)\n",
    "    product_state = nothing\n",
    "\n",
    "    for i in 1:L\n",
    "        θ1 = rand() * π\n",
    "        θ2 = rand() * π\n",
    "        ϕ1 = rand() * 2π\n",
    "        ϕ2 = rand() * 2π\n",
    "\n",
    "        c1 = cos(θ1 / 2)\n",
    "        c2 = exp(im * ϕ1) * sin(θ1 / 2) * sin(θ2 / 2)\n",
    "        c3 = exp(im * ϕ2) * sin(θ1 / 2) * cos(θ2 / 2)\n",
    "\n",
    "        temp_state = [c1, c2, c3]\n",
    "\n",
    "        if i == 1\n",
    "            product_state = temp_state\n",
    "        else\n",
    "            product_state = kron(product_state, temp_state)\n",
    "        end\n",
    "    end\n",
    "\n",
    "    # Normalize the state\n",
    "    product_state /= norm(product_state)\n",
    "\n",
    "    return product_state\n",
    "end\n",
    "\n",
    "function time_evolution(ψ::Vector{ComplexF64}, dt::Float64, L)\n",
    "    ψ /= norm(ψ)\n",
    "    Ha, Hb, Hc, _, _ = Hamiltonian(L)\n",
    "    a = 2π * rand()\n",
    "    b = 2π * rand()\n",
    "    c = 2π * rand()\n",
    "    # Apply exp(-im * H * dt) directly to ψ\n",
    "    H = a * Ha + b * Hb + c * Hc\n",
    "    ψ_new = expmv(-im * dt, H, ψ)\n",
    "\n",
    "    # Normalize the state\n",
    "    ψ_new /= norm(ψ_new)\n",
    "    \n",
    "    return ψ_new\n",
    "end\n",
    "\n",
    "function I3(psi::Vector{ComplexF64})\n",
    "    log3(x) = log(x) / log(3)\n",
    "\n",
    "    L = Int(round(log3(length(psi))))\n",
    "    qL = L ÷ 4\n",
    "\n",
    "    SA   = von_neumann_entropy(psi, qL, L)\n",
    "    SB   = von_neumann_entropy(psi, 2qL, L)\n",
    "    SC   = von_neumann_entropy(psi, 3qL, L)\n",
    "    SABC = von_neumann_entropy(psi, L, L)\n",
    "    SAB  = von_neumann_entropy(psi, 2qL, L)\n",
    "    SAC  = von_neumann_entropy(psi, 3qL, L)\n",
    "    SBC  = von_neumann_entropy(psi, 3qL, L)\n",
    "    \n",
    "    return SA + SB + SC + SABC - SAB - SAC - SBC\n",
    "end\n",
    "\n",
    "### This function is for Z measurements only\n",
    "\n",
    "function Entropy_t_z(L::Int, T::Float64, dt::Float64, p::Float64, shot::Int)\n",
    "    Random.seed!(shot)  # Set random seed\n",
    "    s_t = random_product_state(L)\n",
    "    S_list = Float64[]\n",
    "\n",
    "    # Define Hamiltonian and local observables\n",
    "    _, _, _, sz2l, szl = Hamiltonian(L)\n",
    "    sm_list = szl\n",
    "    steps = Int(floor(T / dt))\n",
    "\n",
    "    for _ in 1:steps\n",
    "        #push!(S_list, von_neumann_entropy(s_t, L÷2, L))\n",
    "        push!(S_list, I3(s_t))\n",
    "\n",
    "        # Time evolution\n",
    "        s_t = time_evolution(s_t, dt, L)\n",
    "        s_t /= norm(s_t)\n",
    "\n",
    "        # Measurements\n",
    "        if p != 0\n",
    "            for l in 1:L\n",
    "                x = rand()\n",
    "                if x < p\n",
    "                    m_op = sm_list[l]\n",
    "                    p_m_mone = 0.5 * real(s_t' * (sz2l[l]-sm_list[l]) * s_t)\n",
    "                    p_m_one = 0.5 * real(s_t' * (sz2l[l] + sm_list[l]) * s_t)\n",
    "                    x1 = rand()\n",
    "                    if x1 < p_m_mone\n",
    "                        s_t = 0.5 * ((sz2l[l]-sm_list[l]) * s_t) / sqrt(p_m_mone)\n",
    "                    elseif p_m_mone < x1 < p_m_one + p_m_mone\n",
    "                        s_t = 0.5 * ((sz2l[l]+sm_list[l]) * s_t) / sqrt(p_m_one)\n",
    "                    else\n",
    "                        s_t = (s_t - sz2l[l] * s_t) / sqrt(1 - p_m_mone - p_m_one)\n",
    "                    end\n",
    "                end\n",
    "            end\n",
    "        end\n",
    "    end\n",
    "\n",
    "    # Save result to disk\n",
    "    filename = \"L$(L),T$(T),dt$(dt),p$(p),dirZ,s$(shot).npy\"\n",
    "    npzwrite(filename, S_list)\n",
    "\n",
    "    return S_list\n",
    "end\n",
    "\n",
    "function Hamiltonian(L)\n",
    "    # Define Pauli matrices as complex sparse matrices\n",
    "    id = sparse(ComplexF64[1 0 0; 0 1 0; 0 0 1])\n",
    "    sx = 1/sqrt(2) * sparse(ComplexF64[0 1 0; 1 0 1; 0 1 0])\n",
    "    sy = 1/sqrt(2) * sparse(ComplexF64[0 -im 0; im 0 -im; 0 im 0])\n",
    "    sz = sparse(ComplexF64[1 0 0; 0 0 0; 0 0 -1])\n",
    "\n",
    "    sp = 1/sqrt(2) * (sx + im * sy)\n",
    "    sm = 1/sqrt(2) * (sx - im * sy)\n",
    "\n",
    "    # Preallocate vectors of operators with correct type\n",
    "    #sx_list = Vector{SparseMatrixCSC{ComplexF64, Int}}(undef, L)\n",
    "    #sy_list = Vector{SparseMatrixCSC{ComplexF64, Int}}(undef, L)\n",
    "    szl = Vector{SparseMatrixCSC{ComplexF64, Int}}(undef, L) # List of sz operators\n",
    "    sz2l = Vector{SparseMatrixCSC{ComplexF64, Int}}(undef, L) # List of sz² operators\n",
    "    spl = Vector{SparseMatrixCSC{ComplexF64, Int}}(undef, L) # List of sp operators\n",
    "    sml = Vector{SparseMatrixCSC{ComplexF64, Int}}(undef, L) # List of sm operators\n",
    "\n",
    "    for i_site in 1:L\n",
    "        p_ops = fill(id, L)\n",
    "        m_ops = fill(id, L)\n",
    "        z_ops = fill(id, L)\n",
    "        z2_ops = fill(id, L)\n",
    "        p_ops[i_site] = sp\n",
    "        m_ops[i_site] = sm\n",
    "        z_ops[i_site] = sz\n",
    "        z2_ops[i_site] = sz^2\n",
    "\n",
    "        # Build the full operator by tensoring\n",
    "        P = p_ops[1]\n",
    "        M = m_ops[1]\n",
    "        Z = z_ops[1]\n",
    "        Z2 = z2_ops[1]\n",
    "        for j in 2:L\n",
    "            P = kron(P, p_ops[j])\n",
    "            M = kron(M, m_ops[j])\n",
    "            Z = kron(Z, z_ops[j])\n",
    "            Z2 = kron(Z2, z2_ops[j])\n",
    "        end\n",
    "\n",
    "        spl[i_site] = P\n",
    "        sml[i_site] = M\n",
    "        szl[i_site] = Z\n",
    "        sz2l[i_site] = Z2\n",
    "    end\n",
    "\n",
    "    dim = 3^L\n",
    "    Ha = spzeros(ComplexF64, dim, dim)\n",
    "\n",
    "    for i in 1:L\n",
    "        ip = (i % L) + 1  # Periodic boundary\n",
    "        Ha += ((spl[i]^2 * sml[ip]^2 + sml[i]^2 * spl[ip]^2) + adjoint((spl[i]^2 * sml[ip]^2 + sml[i]^2 * spl[ip]^2)))\n",
    "    end\n",
    "\n",
    "    Hb = spzeros(ComplexF64, dim, dim)\n",
    "\n",
    "    for i in 1:L\n",
    "        ip = (i % L) + 1  # Periodic boundary\n",
    "        Hb += (spl[i] * szl[i] * sml[ip] * szl[ip] + sml[i] * szl[i] * spl[ip] * szl[ip] + adjoint(spl[i] * szl[i] * sml[ip] * szl[ip]) + adjoint(sml[i] * szl[i] * spl[ip] * szl[ip]))\n",
    "    end\n",
    "\n",
    "    Hc = spzeros(ComplexF64, dim, dim)\n",
    "\n",
    "    for i in 1:L\n",
    "        ip = (i % L) + 1  # Periodic boundary\n",
    "        Hc += (spl[i]^2 * spl[ip] * szl[ip] + sml[i]^2 * sml[ip] * szl[ip] + adjoint(spl[i]^2 * spl[ip] * szl[ip]) + adjoint(sml[i]^2 * sml[ip] * szl[ip]))\n",
    "    end\n",
    "\n",
    "    return Ha, Hb, Hc, sz2l, szl \n",
    "end"
   ]
  },
  {
   "cell_type": "code",
   "execution_count": 1,
   "id": "70dd9c9d",
   "metadata": {},
   "outputs": [
    {
     "data": {
      "text/plain": [
       "Hamiltonian (generic function with 1 method)"
      ]
     },
     "metadata": {},
     "output_type": "display_data"
    }
   ],
   "source": [
    "function Hamiltonian(L)\n",
    "    # Define Pauli matrices as complex sparse matrices\n",
    "    id = sparse(ComplexF64[1 0 0; 0 1 0; 0 0 1])\n",
    "    sx = 1/sqrt(2) * sparse(ComplexF64[0 1 0; 1 0 1; 0 1 0])\n",
    "    sy = 1/sqrt(2) * sparse(ComplexF64[0 -im 0; im 0 -im; 0 im 0])\n",
    "    sz = sparse(ComplexF64[1 0 0; 0 0 0; 0 0 -1])\n",
    "\n",
    "    sp = 1/sqrt(2) * (sx + im * sy)\n",
    "    sm = 1/sqrt(2) * (sx - im * sy)\n",
    "\n",
    "    # Preallocate vectors of operators with correct type\n",
    "    #sx_list = Vector{SparseMatrixCSC{ComplexF64, Int}}(undef, L)\n",
    "    #sy_list = Vector{SparseMatrixCSC{ComplexF64, Int}}(undef, L)\n",
    "    szl = Vector{SparseMatrixCSC{ComplexF64, Int}}(undef, L) # List of sz operators\n",
    "    sz2l = Vector{SparseMatrixCSC{ComplexF64, Int}}(undef, L) # List of sz² operators\n",
    "    spl = Vector{SparseMatrixCSC{ComplexF64, Int}}(undef, L) # List of sp operators\n",
    "    sml = Vector{SparseMatrixCSC{ComplexF64, Int}}(undef, L) # List of sm operators\n",
    "\n",
    "    for i_site in 1:L\n",
    "        p_ops = fill(id, L)\n",
    "        m_ops = fill(id, L)\n",
    "        z_ops = fill(id, L)\n",
    "        z2_ops = fill(id, L)\n",
    "        p_ops[i_site] = sp\n",
    "        m_ops[i_site] = sm\n",
    "        z_ops[i_site] = sz\n",
    "        z2_ops[i_site] = sz^2\n",
    "\n",
    "        # Build the full operator by tensoring\n",
    "        P = p_ops[1]\n",
    "        M = m_ops[1]\n",
    "        Z = z_ops[1]\n",
    "        Z2 = z2_ops[1]\n",
    "        for j in 2:L\n",
    "            P = kron(P, p_ops[j])\n",
    "            M = kron(M, m_ops[j])\n",
    "            Z = kron(Z, z_ops[j])\n",
    "            Z2 = kron(Z2, z2_ops[j])\n",
    "        end\n",
    "\n",
    "        spl[i_site] = P\n",
    "        sml[i_site] = M\n",
    "        szl[i_site] = Z\n",
    "        sz2l[i_site] = Z2\n",
    "    end\n",
    "\n",
    "    dim = 3^L\n",
    "    Ha = spzeros(ComplexF64, dim, dim)\n",
    "\n",
    "    for i in 1:L\n",
    "        ip = (i % L) + 1  # Periodic boundary\n",
    "        Ha += ((spl[i]^2 * sml[ip]^2 + sml[i]^2 * spl[ip]^2) + adjoint((spl[i]^2 * sml[ip]^2 + sml[i]^2 * spl[ip]^2)))\n",
    "    end\n",
    "\n",
    "    Hb = spzeros(ComplexF64, dim, dim)\n",
    "\n",
    "    for i in 1:L\n",
    "        ip = (i % L) + 1  # Periodic boundary\n",
    "        Hb += (spl[i] * szl[i] * sml[ip] * szl[ip] + sml[i] * szl[i] * spl[ip] * szl[ip] + adjoint(spl[i] * szl[i] * sml[ip] * szl[ip]) + adjoint(sml[i] * szl[i] * spl[ip] * szl[ip]))\n",
    "    end\n",
    "\n",
    "    Hc = spzeros(ComplexF64, dim, dim)\n",
    "\n",
    "    for i in 1:L\n",
    "        ip = (i % L) + 1  # Periodic boundary\n",
    "        Hc += (spl[i]^2 * spl[ip] * szl[ip] + sml[i]^2 * sml[ip] * szl[ip] + adjoint(spl[i]^2 * spl[ip] * szl[ip]) + adjoint(sml[i]^2 * sml[ip] * szl[ip]))\n",
    "    end\n",
    "\n",
    "    return Ha, Hb, Hc, sz2l, szl \n",
    "end"
   ]
  },
  {
   "cell_type": "code",
   "execution_count": 13,
   "id": "2d0e1ab5",
   "metadata": {},
   "outputs": [
    {
     "data": {
      "text/plain": [
       "entropy_vn (generic function with 1 method)"
      ]
     },
     "metadata": {},
     "output_type": "display_data"
    }
   ],
   "source": [
    "function entropy_vn(ψ::Vector{<:Complex}, L::Int, subsystem::AbstractArray{Int})\n",
    "    cut = length(subsystem)\n",
    "    dimA = 3^cut\n",
    "    dimB = 3^(L - cut)\n",
    "    ψ_matrix = reshape(ψ, (dimA, dimB))\n",
    "    svals = svdvals(ψ_matrix)\n",
    "    S = 0.0\n",
    "    for s in svals\n",
    "        if s > 1e-15\n",
    "            p = abs2(s)\n",
    "            S -= p * log(p)\n",
    "        end\n",
    "    end\n",
    "    return S\n",
    "end"
   ]
  },
  {
   "cell_type": "markdown",
   "id": "34475091",
   "metadata": {},
   "source": [
    "Code run"
   ]
  },
  {
   "cell_type": "code",
   "execution_count": 4,
   "id": "08836592",
   "metadata": {},
   "outputs": [
    {
     "data": {
      "text/plain": [
       "time_evolution (generic function with 1 method)"
      ]
     },
     "metadata": {},
     "output_type": "display_data"
    }
   ],
   "source": [
    "include(\"s3.jl\")"
   ]
  },
  {
   "cell_type": "code",
   "execution_count": 6,
   "id": "0b6c62c8",
   "metadata": {},
   "outputs": [
    {
     "name": "stdout",
     "output_type": "stream",
     "text": [
      "  8.099042 seconds (866.58 k allocations: 18.854 GiB, 35.03% gc time)\n"
     ]
    },
    {
     "data": {
      "text/plain": [
       "100-element Vector{Float64}:\n",
       "  2.886579864025403e-15\n",
       " -0.8015475621045871\n",
       " -1.89590149229082\n",
       " -2.4124165469827057\n",
       " -2.5739457584677155\n",
       " -2.694335010511299\n",
       " -2.7781091544423626\n",
       " -2.7867754230430943\n",
       " -2.815526335454182\n",
       " -2.843352182646453\n",
       "  ⋮\n",
       " -2.8928928766145434\n",
       " -2.9446526907123074\n",
       " -2.9136591748474663\n",
       " -2.8947762851787795\n",
       " -2.9112843160398754\n",
       " -2.9413920429708353\n",
       " -2.9095577516682924\n",
       " -2.9025903345373596\n",
       " -2.9169584064808793"
      ]
     },
     "metadata": {},
     "output_type": "display_data"
    }
   ],
   "source": [
    "@time Entropy_t_z(8, 100.0, 1.0, 0.4, 3980)"
   ]
  },
  {
   "cell_type": "markdown",
   "id": "35eb707e",
   "metadata": {},
   "source": [
    "### ITensors benchmarking"
   ]
  },
  {
   "cell_type": "code",
   "execution_count": 30,
   "id": "6570f80b",
   "metadata": {},
   "outputs": [
    {
     "data": {
      "text/plain": [
       "Hamiltonian (generic function with 1 method)"
      ]
     },
     "metadata": {},
     "output_type": "display_data"
    }
   ],
   "source": [
    "function Hamiltonian(L)\n",
    "    # Define Pauli matrices as complex sparse matrices\n",
    "    id = sparse(ComplexF64[1 0 0; 0 1 0; 0 0 1])\n",
    "    sx = 1/sqrt(2) * sparse(ComplexF64[0 1 0; 1 0 1; 0 1 0])\n",
    "    sy = 1/sqrt(2) * sparse(ComplexF64[0 -im 0; im 0 -im; 0 im 0])\n",
    "    sz = sparse(ComplexF64[1 0 0; 0 0 0; 0 0 -1])\n",
    "\n",
    "    sp = 1/sqrt(2) * (sx + im * sy)\n",
    "    sm = 1/sqrt(2) * (sx - im * sy)\n",
    "\n",
    "    # Preallocate vectors of operators with correct type\n",
    "    #sx_list = Vector{SparseMatrixCSC{ComplexF64, Int}}(undef, L)\n",
    "    #sy_list = Vector{SparseMatrixCSC{ComplexF64, Int}}(undef, L)\n",
    "    szl = Vector{SparseMatrixCSC{ComplexF64, Int}}(undef, L) # List of sz operators\n",
    "    sz2l = Vector{SparseMatrixCSC{ComplexF64, Int}}(undef, L) # List of sz² operators\n",
    "    spl = Vector{SparseMatrixCSC{ComplexF64, Int}}(undef, L) # List of sp operators\n",
    "    sml = Vector{SparseMatrixCSC{ComplexF64, Int}}(undef, L) # List of sm operators\n",
    "\n",
    "    for i_site in 1:L\n",
    "        p_ops = fill(id, L)\n",
    "        m_ops = fill(id, L)\n",
    "        z_ops = fill(id, L)\n",
    "        z2_ops = fill(id, L)\n",
    "        p_ops[i_site] = sp\n",
    "        m_ops[i_site] = sm\n",
    "        z_ops[i_site] = sz\n",
    "        z2_ops[i_site] = sz^2\n",
    "\n",
    "        # Build the full operator by tensoring\n",
    "        P = p_ops[1]\n",
    "        M = m_ops[1]\n",
    "        Z = z_ops[1]\n",
    "        Z2 = z2_ops[1]\n",
    "        for j in 2:L\n",
    "            P = kron(P, p_ops[j])\n",
    "            M = kron(M, m_ops[j])\n",
    "            Z = kron(Z, z_ops[j])\n",
    "            Z2 = kron(Z2, z2_ops[j])\n",
    "        end\n",
    "\n",
    "        spl[i_site] = P\n",
    "        sml[i_site] = M\n",
    "        szl[i_site] = Z\n",
    "        sz2l[i_site] = Z2\n",
    "    end\n",
    "\n",
    "    dim = 3^L\n",
    "    Ha = spzeros(ComplexF64, dim, dim)\n",
    "\n",
    "    for i in 1:L\n",
    "        ip = (i % L) + 1  # Periodic boundary\n",
    "        Ha += ((spl[i]^2 * sml[ip]^2 + sml[i]^2 * spl[ip]^2) + adjoint((spl[i]^2 * sml[ip]^2 + sml[i]^2 * spl[ip]^2)))\n",
    "    end\n",
    "\n",
    "    Hb = spzeros(ComplexF64, dim, dim)\n",
    "\n",
    "    for i in 1:L\n",
    "        ip = (i % L) + 1  # Periodic boundary\n",
    "        Hb += (spl[i] * szl[i] * sml[ip] * szl[ip] + sml[i] * szl[i] * spl[ip] * szl[ip] + adjoint(spl[i] * szl[i] * sml[ip] * szl[ip]) + adjoint(sml[i] * szl[i] * spl[ip] * szl[ip]))\n",
    "    end\n",
    "\n",
    "    Hc = spzeros(ComplexF64, dim, dim)\n",
    "\n",
    "    for i in 1:L\n",
    "        ip = (i % L) + 1  # Periodic boundary\n",
    "        Hc += (spl[i]^2 * spl[ip] * szl[ip] + sml[i]^2 * sml[ip] * szl[ip] + adjoint(spl[i]^2 * spl[ip] * szl[ip]) + adjoint(sml[i]^2 * sml[ip] * szl[ip]))\n",
    "    end\n",
    "\n",
    "    return Ha\n",
    "end"
   ]
  },
  {
   "cell_type": "code",
   "execution_count": 31,
   "id": "ef9bbb55",
   "metadata": {},
   "outputs": [
    {
     "data": {
      "text/plain": [
       "6561×6561 SparseMatrixCSC{ComplexF64, Int64} with 11664 stored entries:\n",
       "⎡⠻⣦⡀⣄⠀⠀⠀⠀⠀⠀⠀⠀⠀⠀⠀⠀⠀⠀⠀⠀⠀⠀⠀⠀⠀⠀⠘⢦⡀⠀⠀⠀⠀⠀⠀⠀⠀⠀⠀⠀⎤\n",
       "⎢⠀⢬⠻⣦⡀⠀⠀⠀⠀⣄⠀⠀⠀⠀⠀⠀⠀⠀⠀⠀⠀⠀⠀⠀⠀⠀⠀⠀⠙⢦⡀⠀⠀⠀⠀⠀⠀⠀⠀⠀⎥\n",
       "⎢⠀⠀⠀⠈⢻⣶⡀⢀⠀⠈⠃⠀⠀⠀⠀⠀⠀⠀⠀⠀⠀⠀⠀⠀⠀⠀⠀⠀⠀⠀⠙⢦⡀⠀⠀⠀⠀⠀⠀⠀⎥\n",
       "⎢⠀⠀⠀⠀⠀⢈⡿⣯⣁⠀⠀⠀⠀⠀⠀⠀⠀⠀⠀⠀⠀⠀⠀⠀⠀⠀⠀⠀⠀⠀⠀⠀⠙⢦⡀⠀⠀⠀⠀⠀⎥\n",
       "⎢⠀⠀⠀⢤⡀⠀⠁⠘⠻⢆⡄⠀⠀⠀⠀⠀⠀⠀⠀⠀⠀⠀⠀⠀⠀⠀⠠⣄⠀⠀⠀⠀⠀⠀⠙⢦⡀⠀⠀⠀⎥\n",
       "⎢⠀⠀⠀⠀⠉⠀⠀⠀⠀⠉⣱⣾⡁⠀⠀⠀⠀⠀⠀⠀⠀⠀⠀⠀⠀⠀⠀⠈⠳⣄⠀⠀⠀⠀⠀⠀⠙⢦⡀⠀⎥\n",
       "⎢⠀⠀⠀⠀⠀⠀⠀⠀⠀⠀⠁⠈⠿⣧⣀⠀⠀⠀⠀⠀⠀⠀⠀⠀⠀⠀⠀⠀⠀⠈⠳⠀⠀⠀⠀⠀⠀⠀⠙⠦⎥\n",
       "⎢⠀⠀⠀⠀⠀⠀⠀⠀⠀⠀⠀⠀⠀⠘⠻⣦⡗⠀⠀⠀⠀⠀⠀⠀⠀⠀⠀⠀⠀⠀⠀⠀⠀⠀⠀⠀⠀⠀⠀⠀⎥\n",
       "⎢⠀⠀⠀⠀⠀⠀⠀⠀⠀⠀⠀⠀⠀⠀⠙⠉⠻⣦⡀⠀⠀⠀⠳⣄⠀⠀⠀⠀⠀⠀⠀⠀⠀⠀⠀⠀⠀⠀⠀⠀⎥\n",
       "⎢⠀⠀⠀⠀⠀⠀⠀⠀⠀⠀⠀⠀⠀⠀⠀⠀⠀⠈⠻⣦⡰⠄⠀⠀⠀⠀⠀⠀⠀⠀⠀⠀⠀⠀⠀⠀⠀⠀⠀⠀⎥\n",
       "⎢⠀⠀⠀⠀⠀⠀⠀⠀⠀⠀⠀⠀⠀⠀⠀⠀⠀⠀⠐⠎⠻⣦⡀⠀⠀⠀⠀⠀⠀⠀⠀⠀⠀⠀⠀⠀⠀⠀⠀⠀⎥\n",
       "⎢⠀⠀⠀⠀⠀⠀⠀⠀⠀⠀⠀⠀⠀⠀⠀⠀⠙⢦⠀⠀⠀⠈⠻⣦⣀⣄⠀⠀⠀⠀⠀⠀⠀⠀⠀⠀⠀⠀⠀⠀⎥\n",
       "⎢⠀⠀⠀⠀⠀⠀⠀⠀⠀⠀⠀⠀⠀⠀⠀⠀⠀⠀⠀⠀⠀⠀⠀⢼⠻⣦⡄⠀⠀⠀⠀⠀⠀⠀⠀⠀⠀⠀⠀⠀⎥\n",
       "⎢⠲⣄⠀⠀⠀⠀⠀⠀⠀⢦⡀⠀⠀⠀⠀⠀⠀⠀⠀⠀⠀⠀⠀⠀⠀⠉⢻⣶⡀⢀⠀⠀⠀⠀⠀⠀⠀⠀⠀⠀⎥\n",
       "⎢⠀⠈⠳⣄⠀⠀⠀⠀⠀⠀⠙⢦⡀⠀⠀⠀⠀⠀⠀⠀⠀⠀⠀⠀⠀⠀⠀⢈⡿⢏⣀⠀⠀⠀⠀⣀⠀⠀⠀⠀⎥\n",
       "⎢⠀⠀⠀⠈⠳⣄⠀⠀⠀⠀⠀⠀⠙⠂⠀⠀⠀⠀⠀⠀⠀⠀⠀⠀⠀⠀⠀⠀⠀⠘⠱⣦⡄⢀⠀⠈⠓⠀⠀⠀⎥\n",
       "⎢⠀⠀⠀⠀⠀⠈⠳⣄⠀⠀⠀⠀⠀⠀⠀⠀⠀⠀⠀⠀⠀⠀⠀⠀⠀⠀⠀⠀⠀⠀⠀⢉⣻⣾⡁⠀⠀⠀⠀⠀⎥\n",
       "⎢⠀⠀⠀⠀⠀⠀⠀⠈⠳⣄⠀⠀⠀⠀⠀⠀⠀⠀⠀⠀⠀⠀⠀⠀⠀⠀⠀⠀⠀⢠⡀⠀⠁⠈⠿⣧⡀⠀⠀⠀⎥\n",
       "⎢⠀⠀⠀⠀⠀⠀⠀⠀⠀⠈⠳⣄⠀⠀⠀⠀⠀⠀⠀⠀⠀⠀⠀⠀⠀⠀⠀⠀⠀⠀⠙⠀⠀⠀⠀⠈⠻⣦⡓⠀⎥\n",
       "⎣⠀⠀⠀⠀⠀⠀⠀⠀⠀⠀⠀⠈⠳⡄⠀⠀⠀⠀⠀⠀⠀⠀⠀⠀⠀⠀⠀⠀⠀⠀⠀⠀⠀⠀⠀⠀⠙⠈⠻⣦⎦"
      ]
     },
     "metadata": {},
     "output_type": "display_data"
    }
   ],
   "source": [
    "Ha = Hamiltonian(8)"
   ]
  },
  {
   "cell_type": "code",
   "execution_count": 32,
   "id": "1614fad0",
   "metadata": {},
   "outputs": [
    {
     "data": {
      "text/plain": [
       "true"
      ]
     },
     "metadata": {},
     "output_type": "display_data"
    }
   ],
   "source": [
    "## Check if Ha is Hermitian\n",
    "ishermitian(Ha)"
   ]
  },
  {
   "cell_type": "code",
   "execution_count": 33,
   "id": "f10f2d22",
   "metadata": {},
   "outputs": [],
   "source": [
    "using LinearAlgebra\n",
    "using SparseArrays\n",
    "using Arpack: eigs"
   ]
  },
  {
   "cell_type": "code",
   "execution_count": 36,
   "id": "8d441973",
   "metadata": {},
   "outputs": [
    {
     "name": "stdout",
     "output_type": "stream",
     "text": [
      "Lowest eigenvalue: -10.452503719011009 - 1.4459599210576632e-16im\n"
     ]
    }
   ],
   "source": [
    "vals, vecs = eigs(Ha; nev=1, which=:SR)\n",
    "lowest_eig = vals[1]\n",
    "\n",
    "println(\"Lowest eigenvalue: \", lowest_eig)"
   ]
  },
  {
   "cell_type": "code",
   "execution_count": 39,
   "id": "8154140c",
   "metadata": {},
   "outputs": [
    {
     "name": "stdout",
     "output_type": "stream",
     "text": [
      "op(\"S+\", s) = ITensor ord=2\n",
      "Dim 1: (dim=3|id=114|\"S=1,Site,n=1\")' <Out>\n",
      " 1: QN(\"Sz\",2) => 1\n",
      " 2: QN(\"Sz\",0) => 1\n",
      " 3: QN(\"Sz\",-2) => 1\n",
      "Dim 2: (dim=3|id=114|\"S=1,Site,n=1\") <In>\n",
      " 1: QN(\"Sz\",2) => 1\n",
      " 2: QN(\"Sz\",0) => 1\n",
      " 3: QN(\"Sz\",-2) => 1\n",
      "NDTensors.BlockSparse{Float64, Vector{Float64}, 2}\n",
      " 3×3\n",
      "Block(1, 2)\n",
      " [1:1, 2:2]\n",
      " 1.4142135623730951\n",
      "\n",
      "Block(2, 3)\n",
      " [2:2, 3:3]\n",
      " 1.4142135623730951\n"
     ]
    },
    {
     "data": {
      "text/plain": [
       "ITensor ord=2\n",
       "(dim=3|id=114|\"S=1,Site,n=1\")' <Out>\n",
       " 1: QN(\"Sz\",2) => 1\n",
       " 2: QN(\"Sz\",0) => 1\n",
       " 3: QN(\"Sz\",-2) => 1\n",
       "(dim=3|id=114|\"S=1,Site,n=1\") <In>\n",
       " 1: QN(\"Sz\",2) => 1\n",
       " 2: QN(\"Sz\",0) => 1\n",
       " 3: QN(\"Sz\",-2) => 1\n",
       "NDTensors.BlockSparse{Float64, Vector{Float64}, 2}"
      ]
     },
     "metadata": {},
     "output_type": "display_data"
    }
   ],
   "source": [
    "@show op(\"S+\", s)"
   ]
  },
  {
   "cell_type": "code",
   "execution_count": 4,
   "id": "93893726",
   "metadata": {},
   "outputs": [],
   "source": [
    "id = [1 0 0; 0 1 0; 0 0 1];\n",
    "sx = 1/sqrt(2) * [0 1 0; 1 0 1; 0 1 0];\n",
    "sy = 1/sqrt(2) * [0 -im 0; im 0 -im; 0 im 0];"
   ]
  },
  {
   "cell_type": "code",
   "execution_count": 5,
   "id": "1ff50dce",
   "metadata": {},
   "outputs": [
    {
     "data": {
      "text/plain": [
       "3×3 Matrix{ComplexF64}:\n",
       " 0.0+0.0im  1.0+0.0im  0.0+0.0im\n",
       " 0.0+0.0im  0.0+0.0im  1.0+0.0im\n",
       " 0.0+0.0im  0.0+0.0im  0.0+0.0im"
      ]
     },
     "metadata": {},
     "output_type": "display_data"
    }
   ],
   "source": [
    "sp = 1/sqrt(2) * (sx + im * sy)"
   ]
  },
  {
   "cell_type": "code",
   "execution_count": 6,
   "id": "6a75cd92",
   "metadata": {},
   "outputs": [
    {
     "data": {
      "text/plain": [
       "3×3 Matrix{ComplexF64}:\n",
       " 0.0-0.0im  0.0-0.0im  0.0-0.0im\n",
       " 1.0-0.0im  0.0-0.0im  0.0-0.0im\n",
       " 0.0-0.0im  1.0-0.0im  0.0-0.0im"
      ]
     },
     "metadata": {},
     "output_type": "display_data"
    }
   ],
   "source": [
    "sm = 1/sqrt(2) * (sx - im * sy)"
   ]
  },
  {
   "cell_type": "code",
   "execution_count": 7,
   "id": "c4f8aa23",
   "metadata": {},
   "outputs": [
    {
     "data": {
      "text/plain": [
       "true"
      ]
     },
     "metadata": {},
     "output_type": "display_data"
    }
   ],
   "source": [
    "sp' == sm"
   ]
  },
  {
   "cell_type": "code",
   "execution_count": 9,
   "id": "7c531b49",
   "metadata": {},
   "outputs": [
    {
     "name": "stdout",
     "output_type": "stream",
     "text": [
      "After sweep 1 energy=-39.790066814314734  maxlinkdim=4 maxerr=9.46E-16 time=0.008\n",
      "After sweep 2 energy=-41.809990086278304  maxlinkdim=16 maxerr=7.86E-16 time=0.022\n",
      "After sweep 3 energy=-41.81001487604296  maxlinkdim=16 maxerr=9.59E-16 time=0.021\n",
      "After sweep 4 energy=-41.81001487604405  maxlinkdim=16 maxerr=9.04E-16 time=0.019\n",
      "After sweep 5 energy=-41.81001487604406  maxlinkdim=16 maxerr=7.20E-16 time=0.016\n",
      "After sweep 6 energy=-41.810014876044065  maxlinkdim=16 maxerr=7.20E-16 time=0.018\n",
      "After sweep 7 energy=-41.81001487604406  maxlinkdim=16 maxerr=8.44E-16 time=0.018\n",
      "After sweep 8 energy=-41.81001487604407  maxlinkdim=16 maxerr=8.42E-16 time=0.017\n",
      "After sweep 9 energy=-41.81001487604406  maxlinkdim=16 maxerr=7.95E-16 time=0.018\n",
      "After sweep 10 energy=-41.810014876044036  maxlinkdim=16 maxerr=8.18E-16 time=0.015\n",
      "After sweep 11 energy=-41.81001487604406  maxlinkdim=16 maxerr=8.08E-16 time=0.019\n",
      "After sweep 12 energy=-41.81001487604405  maxlinkdim=16 maxerr=9.61E-16 time=0.017\n",
      "After sweep 13 energy=-41.81001487604403  maxlinkdim=16 maxerr=7.19E-16 time=0.019\n",
      "After sweep 14 energy=-41.81001487604407  maxlinkdim=16 maxerr=8.30E-16 time=0.018\n",
      "After sweep 15 energy=-41.810014876044065  maxlinkdim=16 maxerr=7.39E-16 time=0.016\n",
      "  0.264646 seconds (2.67 M allocations: 404.957 MiB, 12.09% gc time)\n"
     ]
    }
   ],
   "source": [
    "using ITensorMPS\n",
    "\n",
    "N = 8  #number of sites\n",
    "sites = siteinds(\"S=1\",N; conserve_qns=true) #spin 1 in each sites\n",
    "\n",
    "  os = OpSum()\n",
    "  for j=1:N\n",
    "    os += 1.0 ,\"S+ * S+\",j,\"S- * S-\",mod(j,N)+1   #I think this is the Ham in Sriram's paper\n",
    "    os += 1.0 ,\"S- * S-\",j,\"S+ * S+\",mod(j,N)+1\n",
    "    os += 1.0 ,\"S+ * S+\",mod(j,N)+1,\"S- * S-\",j   # H.c. terms\n",
    "    os += 1.0 ,\"S- * S-\",mod(j,N)+1,\"S+ * S+\",j\n",
    "    #os += 1.0 ,\"S+ * S+\",j+1,\"S- * S-\",j\n",
    "    #os += 1.0 , \"S- * S-\", j+1, \"S+ * S+\",j\n",
    "  end\n",
    "  H = MPO(os,sites)\n",
    "\n",
    "  nsweeps = 15 # number of sweeps is 15\n",
    "  maxdim = [10,20,100,100,200,200,400,400,500] # gradually increase states kept\n",
    "  cutoff = [1E-10] # desired truncation error\n",
    "  \n",
    "  states = [isodd(n) ? \"Up\" : \"Dn\" for n in 1:N] #Neel state-- we know GS is in S^z=0 sector\n",
    "  psi0 = MPS(sites, states) #constructing the state as MPS which is taken as variational ansatz in next step\n",
    "\n",
    "  @time energy,psigs = dmrg(H,psi0;nsweeps,maxdim,cutoff);"
   ]
  },
  {
   "cell_type": "code",
   "execution_count": 10,
   "id": "1b2024ee",
   "metadata": {},
   "outputs": [
    {
     "ename": "ErrorException",
     "evalue": "The OpSum contains a term 1.0 S+ * S+(9,) S- * S-(8,) that extends beyond the number of sites 8.",
     "output_type": "error",
     "traceback": [
      "The OpSum contains a term 1.0 S+ * S+(9,) S- * S-(8,) that extends beyond the number of sites 8.\n",
      "\n",
      "Stacktrace:\n",
      " [1] error(s::String)\n",
      "   @ Base ./error.jl:35\n",
      " [2] sorteachterm(os::Sum{Scaled{ComplexF64, Prod{Op}}}, sites::Vector{Index{Vector{Pair{QN, Int64}}}})\n",
      "   @ ITensorMPS ~/.julia/packages/ITensorMPS/fCfh9/src/opsum_to_mpo/opsum_to_mpo_generic.jl:171\n",
      " [3] MPO(os::Sum{Scaled{ComplexF64, Prod{Op}}}, sites::Vector{Index{Vector{Pair{QN, Int64}}}}; splitblocks::Bool, kwargs::@Kwargs{})\n",
      "   @ ITensorMPS ~/.julia/packages/ITensorMPS/fCfh9/src/opsum_to_mpo/opsum_to_mpo_generic.jl:294\n",
      " [4] MPO(os::Sum{Scaled{ComplexF64, Prod{Op}}}, sites::Vector{Index{Vector{Pair{QN, Int64}}}})\n",
      "   @ ITensorMPS ~/.julia/packages/ITensorMPS/fCfh9/src/opsum_to_mpo/opsum_to_mpo_generic.jl:290\n",
      " [5] top-level scope\n",
      "   @ ~/Documents/s3/jl_notebook_cell_df34fa98e69747e1a8f8a730347b8e2f_X56sZmlsZQ==.jl:13"
     ]
    }
   ],
   "source": [
    "using ITensorMPS\n",
    "\n",
    "N = 8 #number of sites\n",
    "sites = siteinds(\"S=1\",N; conserve_qns=true) #spin 1 in each sites\n",
    "\n",
    "  os = OpSum()\n",
    "  for j=1:N\n",
    "    os += 1.0 ,\"S+ * S+\",j,\"S- * S-\",mod(j,N)+1   #I think this is the Ham in Sriram's paper\n",
    "    os += 1.0 ,\"S- * S-\",j,\"S+ * S+\",mod(j,N)+1\n",
    "    os += 1.0 ,\"S+ * S+\",j+1,\"S- * S-\",j\n",
    "    os += 1.0 , \"S- * S-\", j+1, \"S+ * S+\",j\n",
    "  end\n",
    "  H = MPO(os,sites)\n",
    "\n",
    "  nsweeps = 15 # number of sweeps is 15\n",
    "  maxdim = [10,20,100,100,200,200,400,400,500] # gradually increase states kept\n",
    "  cutoff = [1E-10] # desired truncation error\n",
    "  \n",
    "  states = [isodd(n) ? \"Up\" : \"Dn\" for n in 1:N] #Neel state-- we know GS is in S^z=0 sector\n",
    "  psi0 = MPS(sites, states) #constructing the state as MPS which is taken as variational ansatz in next step\n",
    "\n",
    "  energy,psigs = dmrg(H,psi0;nsweeps,maxdim,cutoff);"
   ]
  },
  {
   "cell_type": "code",
   "execution_count": 1,
   "id": "53554065",
   "metadata": {},
   "outputs": [
    {
     "name": "stdout",
     "output_type": "stream",
     "text": [
      "After sweep 1: maxlinkdim=4 maxerr=9.73E-16 current_time=0.0 - 0.1im time=38.804\n",
      "After sweep 1: maxlinkdim=16 maxerr=6.73E-16 current_time=0.0 - 0.1im time=0.939\n",
      "After sweep 1: maxlinkdim=16 maxerr=3.17E-16 current_time=0.0 - 0.1im time=0.392\n",
      "After sweep 1: maxlinkdim=16 maxerr=8.93E-16 current_time=0.0 - 0.1im time=0.399\n",
      "After sweep 1: maxlinkdim=16 maxerr=8.66E-16 current_time=0.0 - 0.1im time=0.392\n",
      "After sweep 1: maxlinkdim=16 maxerr=3.28E-16 current_time=0.0 - 0.1im time=0.396\n",
      "After sweep 1: maxlinkdim=16 maxerr=8.62E-16 current_time=0.0 - 0.1im time=0.397\n",
      "After sweep 1: maxlinkdim=16 maxerr=7.41E-16 current_time=0.0 - 0.1im time=0.4\n",
      "After sweep 1: maxlinkdim=16 maxerr=7.24E-16 current_time=0.0 - 0.1im time=0.433\n",
      "After sweep 1: maxlinkdim=16 maxerr=9.91E-16 current_time=0.0 - 0.1im time=0.495\n",
      "After sweep 1: maxlinkdim=16 maxerr=9.06E-16 current_time=0.0 - 0.1im time=0.482\n",
      "After sweep 1: maxlinkdim=16 maxerr=8.34E-16 current_time=0.0 - 0.1im time=0.406\n",
      "After sweep 1: maxlinkdim=16 maxerr=7.30E-16 current_time=0.0 - 0.1im time=0.405\n",
      "After sweep 1: maxlinkdim=16 maxerr=4.86E-16 current_time=0.0 - 0.1im time=0.403\n",
      "After sweep 1: maxlinkdim=16 maxerr=5.60E-16 current_time=0.0 - 0.1im time=0.441\n",
      "After sweep 1: maxlinkdim=16 maxerr=6.78E-16 current_time=0.0 - 0.1im time=0.404\n",
      "After sweep 1: maxlinkdim=16 maxerr=7.52E-16 current_time=0.0 - 0.1im time=0.452\n",
      "After sweep 1: maxlinkdim=16 maxerr=1.65E-16 current_time=0.0 - 0.1im time=0.438\n",
      "After sweep 1: maxlinkdim=16 maxerr=8.98E-16 current_time=0.0 - 0.1im time=0.417\n",
      "After sweep 1: maxlinkdim=16 maxerr=5.20E-16 current_time=0.0 - 0.1im time=0.427\n",
      "After sweep 1: maxlinkdim=16 maxerr=6.58E-16 current_time=0.0 - 0.1im time=0.421\n",
      "After sweep 1: maxlinkdim=16 maxerr=7.70E-16 current_time=0.0 - 0.1im time=0.459\n",
      "After sweep 1: maxlinkdim=16 maxerr=8.43E-16 current_time=0.0 - 0.1im time=0.404\n",
      "After sweep 1: maxlinkdim=16 maxerr=6.44E-16 current_time=0.0 - 0.1im time=0.406\n",
      "After sweep 1: maxlinkdim=16 maxerr=7.91E-16 current_time=0.0 - 0.1im time=0.407\n",
      "After sweep 1: maxlinkdim=16 maxerr=8.81E-16 current_time=0.0 - 0.1im time=0.437\n",
      "After sweep 1: maxlinkdim=16 maxerr=6.55E-16 current_time=0.0 - 0.1im time=0.401\n",
      "After sweep 1: maxlinkdim=16 maxerr=7.85E-16 current_time=0.0 - 0.1im time=0.487\n",
      "After sweep 1: maxlinkdim=13 maxerr=5.36E-11 current_time=0.0 - 0.1im time=0.413\n",
      "After sweep 1: maxlinkdim=16 maxerr=7.25E-16 current_time=0.0 - 0.1im time=0.423\n",
      "After sweep 1: maxlinkdim=16 maxerr=6.90E-16 current_time=0.0 - 0.1im time=0.441\n",
      "After sweep 1: maxlinkdim=16 maxerr=9.00E-16 current_time=0.0 - 0.1im time=0.406\n",
      "After sweep 1: maxlinkdim=16 maxerr=9.55E-16 current_time=0.0 - 0.1im time=0.407\n",
      "After sweep 1: maxlinkdim=16 maxerr=8.73E-16 current_time=0.0 - 0.1im time=0.409\n",
      "After sweep 1: maxlinkdim=16 maxerr=5.17E-16 current_time=0.0 - 0.1im time=0.416\n",
      "After sweep 1: maxlinkdim=16 maxerr=4.44E-16 current_time=0.0 - 0.1im time=0.407\n",
      "After sweep 1: maxlinkdim=16 maxerr=7.71E-16 current_time=0.0 - 0.1im time=0.405\n",
      "After sweep 1: maxlinkdim=16 maxerr=7.14E-16 current_time=0.0 - 0.1im time=0.414\n",
      "After sweep 1: maxlinkdim=16 maxerr=7.87E-16 current_time=0.0 - 0.1im time=0.438\n",
      "After sweep 1: maxlinkdim=16 maxerr=9.04E-16 current_time=0.0 - 0.1im time=0.404\n",
      "After sweep 1: maxlinkdim=16 maxerr=8.19E-16 current_time=0.0 - 0.1im time=0.474\n",
      "After sweep 1: maxlinkdim=16 maxerr=8.24E-16 current_time=0.0 - 0.1im time=0.427\n",
      "After sweep 1: maxlinkdim=16 maxerr=8.86E-16 current_time=0.0 - 0.1im time=0.481\n",
      "After sweep 1: maxlinkdim=16 maxerr=5.83E-16 current_time=0.0 - 0.1im time=0.422\n",
      "After sweep 1: maxlinkdim=16 maxerr=7.46E-16 current_time=0.0 - 0.1im time=0.408\n",
      "After sweep 1: maxlinkdim=16 maxerr=1.03E-15 current_time=0.0 - 0.1im time=0.448\n",
      "After sweep 1: maxlinkdim=16 maxerr=8.39E-16 current_time=0.0 - 0.1im time=0.454\n",
      "After sweep 1: maxlinkdim=16 maxerr=2.45E-16 current_time=0.0 - 0.1im time=0.429\n",
      "After sweep 1: maxlinkdim=16 maxerr=8.87E-16 current_time=0.0 - 0.1im time=0.401\n",
      "After sweep 1: maxlinkdim=16 maxerr=7.36E-16 current_time=0.0 - 0.1im time=0.402\n",
      "After sweep 1: maxlinkdim=16 maxerr=5.55E-16 current_time=0.0 - 0.1im time=0.46\n",
      "After sweep 1: maxlinkdim=16 maxerr=1.11E-15 current_time=0.0 - 0.1im time=0.41\n",
      "After sweep 1: maxlinkdim=16 maxerr=7.73E-16 current_time=0.0 - 0.1im time=0.401\n",
      "After sweep 1: maxlinkdim=16 maxerr=7.33E-16 current_time=0.0 - 0.1im time=0.402\n",
      "After sweep 1: maxlinkdim=16 maxerr=6.91E-16 current_time=0.0 - 0.1im time=0.401\n",
      "After sweep 1: maxlinkdim=16 maxerr=1.02E-15 current_time=0.0 - 0.1im time=0.403\n",
      "After sweep 1: maxlinkdim=16 maxerr=6.23E-16 current_time=0.0 - 0.1im time=0.412\n",
      "After sweep 1: maxlinkdim=16 maxerr=7.57E-16 current_time=0.0 - 0.1im time=0.397\n",
      "After sweep 1: maxlinkdim=16 maxerr=6.46E-16 current_time=0.0 - 0.1im time=0.398\n",
      "After sweep 1: maxlinkdim=16 maxerr=1.22E-15 current_time=0.0 - 0.1im time=0.398\n",
      "After sweep 1: maxlinkdim=16 maxerr=6.12E-16 current_time=0.0 - 0.1im time=0.402\n",
      "After sweep 1: maxlinkdim=16 maxerr=9.52E-16 current_time=0.0 - 0.1im time=0.449\n",
      "After sweep 1: maxlinkdim=16 maxerr=1.03E-15 current_time=0.0 - 0.1im time=0.522\n",
      "After sweep 1: maxlinkdim=16 maxerr=7.15E-16 current_time=0.0 - 0.1im time=0.445\n",
      "After sweep 1: maxlinkdim=16 maxerr=9.75E-16 current_time=0.0 - 0.1im time=0.464\n",
      "After sweep 1: maxlinkdim=16 maxerr=5.03E-16 current_time=0.0 - 0.1im time=0.444\n",
      "After sweep 1: maxlinkdim=16 maxerr=1.11E-15 current_time=0.0 - 0.1im time=0.582\n",
      "After sweep 1: maxlinkdim=16 maxerr=9.06E-16 current_time=0.0 - 0.1im time=0.399\n",
      "After sweep 1: maxlinkdim=16 maxerr=8.52E-16 current_time=0.0 - 0.1im time=0.401\n",
      "After sweep 1: maxlinkdim=16 maxerr=9.39E-16 current_time=0.0 - 0.1im time=0.4\n",
      "After sweep 1: maxlinkdim=16 maxerr=5.56E-16 current_time=0.0 - 0.1im time=0.418\n",
      "After sweep 1: maxlinkdim=16 maxerr=7.67E-16 current_time=0.0 - 0.1im time=0.426\n",
      "After sweep 1: maxlinkdim=16 maxerr=1.02E-15 current_time=0.0 - 0.1im time=0.453\n",
      "After sweep 1: maxlinkdim=16 maxerr=7.00E-16 current_time=0.0 - 0.1im time=0.424\n",
      "After sweep 1: maxlinkdim=16 maxerr=6.75E-16 current_time=0.0 - 0.1im time=0.424\n",
      "After sweep 1: maxlinkdim=16 maxerr=3.93E-16 current_time=0.0 - 0.1im time=0.5\n",
      "After sweep 1: maxlinkdim=16 maxerr=8.80E-16 current_time=0.0 - 0.1im time=0.403\n",
      "After sweep 1: maxlinkdim=16 maxerr=7.70E-16 current_time=0.0 - 0.1im time=0.41\n",
      "After sweep 1: maxlinkdim=16 maxerr=1.04E-15 current_time=0.0 - 0.1im time=0.402\n",
      "After sweep 1: maxlinkdim=16 maxerr=6.91E-16 current_time=0.0 - 0.1im time=0.403\n",
      "After sweep 1: maxlinkdim=16 maxerr=6.25E-16 current_time=0.0 - 0.1im time=0.403\n",
      "After sweep 1: maxlinkdim=16 maxerr=8.38E-16 current_time=0.0 - 0.1im time=0.41\n",
      "After sweep 1: maxlinkdim=16 maxerr=7.49E-16 current_time=0.0 - 0.1im time=0.403\n",
      "After sweep 1: maxlinkdim=16 maxerr=2.02E-16 current_time=0.0 - 0.1im time=0.404\n",
      "After sweep 1: maxlinkdim=16 maxerr=3.65E-16 current_time=0.0 - 0.1im time=0.481\n",
      "After sweep 1: maxlinkdim=16 maxerr=5.98E-16 current_time=0.0 - 0.1im time=0.409\n",
      "After sweep 1: maxlinkdim=16 maxerr=8.18E-16 current_time=0.0 - 0.1im time=0.398\n",
      "After sweep 1: maxlinkdim=16 maxerr=1.01E-15 current_time=0.0 - 0.1im time=0.399\n",
      "After sweep 1: maxlinkdim=16 maxerr=6.24E-16 current_time=0.0 - 0.1im time=0.398\n",
      "After sweep 1: maxlinkdim=16 maxerr=9.76E-16 current_time=0.0 - 0.1im time=0.399\n",
      "After sweep 1: maxlinkdim=16 maxerr=1.08E-15 current_time=0.0 - 0.1im time=0.401\n",
      "After sweep 1: maxlinkdim=16 maxerr=8.90E-16 current_time=0.0 - 0.1im time=0.413\n",
      "After sweep 1: maxlinkdim=16 maxerr=8.28E-16 current_time=0.0 - 0.1im time=0.426\n",
      "After sweep 1: maxlinkdim=16 maxerr=9.00E-16 current_time=0.0 - 0.1im time=0.402\n",
      "After sweep 1: maxlinkdim=16 maxerr=8.42E-16 current_time=0.0 - 0.1im time=0.411\n",
      "After sweep 1: maxlinkdim=16 maxerr=6.28E-16 current_time=0.0 - 0.1im time=0.402\n",
      "After sweep 1: maxlinkdim=16 maxerr=7.00E-16 current_time=0.0 - 0.1im time=0.458\n",
      "After sweep 1: maxlinkdim=16 maxerr=8.72E-16 current_time=0.0 - 0.1im time=0.422\n",
      "After sweep 1: maxlinkdim=16 maxerr=7.38E-16 current_time=0.0 - 0.1im time=0.42\n",
      "After sweep 1: maxlinkdim=16 maxerr=9.59E-16 current_time=0.0 - 0.1im time=0.442\n",
      "After sweep 1: maxlinkdim=16 maxerr=9.56E-16 current_time=0.0 - 0.1im time=0.415\n",
      "After sweep 1: maxlinkdim=16 maxerr=5.02E-16 current_time=0.0 - 0.1im time=0.467\n",
      "After sweep 1: maxlinkdim=16 maxerr=3.02E-16 current_time=0.0 - 0.1im time=0.402\n",
      "After sweep 1: maxlinkdim=16 maxerr=8.44E-16 current_time=0.0 - 0.1im time=0.474\n",
      "After sweep 1: maxlinkdim=16 maxerr=9.43E-16 current_time=0.0 - 0.1im time=0.409\n",
      "After sweep 1: maxlinkdim=16 maxerr=9.49E-16 current_time=0.0 - 0.1im time=0.403\n",
      "After sweep 1: maxlinkdim=16 maxerr=7.35E-16 current_time=0.0 - 0.1im time=0.47\n",
      "After sweep 1: maxlinkdim=16 maxerr=5.02E-16 current_time=0.0 - 0.1im time=0.494\n",
      "After sweep 1: maxlinkdim=16 maxerr=1.00E-15 current_time=0.0 - 0.1im time=0.402\n",
      "After sweep 1: maxlinkdim=16 maxerr=8.17E-16 current_time=0.0 - 0.1im time=0.402\n",
      "After sweep 1: maxlinkdim=16 maxerr=5.97E-16 current_time=0.0 - 0.1im time=0.431\n",
      "After sweep 1: maxlinkdim=16 maxerr=6.91E-16 current_time=0.0 - 0.1im time=0.42\n",
      "After sweep 1: maxlinkdim=16 maxerr=1.09E-15 current_time=0.0 - 0.1im time=0.403\n",
      "After sweep 1: maxlinkdim=16 maxerr=6.60E-16 current_time=0.0 - 0.1im time=0.402\n",
      "After sweep 1: maxlinkdim=16 maxerr=7.20E-16 current_time=0.0 - 0.1im time=0.404\n",
      "After sweep 1: maxlinkdim=16 maxerr=5.33E-16 current_time=0.0 - 0.1im time=0.403\n",
      "After sweep 1: maxlinkdim=16 maxerr=5.07E-16 current_time=0.0 - 0.1im time=0.403\n",
      "After sweep 1: maxlinkdim=16 maxerr=7.84E-16 current_time=0.0 - 0.1im time=0.404\n",
      "After sweep 1: maxlinkdim=16 maxerr=8.35E-16 current_time=0.0 - 0.1im time=0.402\n",
      "After sweep 1: maxlinkdim=16 maxerr=1.16E-15 current_time=0.0 - 0.1im time=0.414\n",
      "After sweep 1: maxlinkdim=16 maxerr=8.82E-16 current_time=0.0 - 0.1im time=0.399\n",
      "After sweep 1: maxlinkdim=16 maxerr=5.14E-16 current_time=0.0 - 0.1im time=0.439\n",
      "After sweep 1: maxlinkdim=16 maxerr=5.03E-16 current_time=0.0 - 0.1im time=0.477\n",
      "After sweep 1: maxlinkdim=16 maxerr=8.53E-16 current_time=0.0 - 0.1im time=0.427\n",
      "After sweep 1: maxlinkdim=16 maxerr=8.45E-16 current_time=0.0 - 0.1im time=0.399\n",
      "After sweep 1: maxlinkdim=16 maxerr=1.03E-15 current_time=0.0 - 0.1im time=0.421\n",
      "After sweep 1: maxlinkdim=16 maxerr=8.99E-16 current_time=0.0 - 0.1im time=0.417\n",
      "After sweep 1: maxlinkdim=16 maxerr=9.52E-16 current_time=0.0 - 0.1im time=0.41\n",
      "After sweep 1: maxlinkdim=16 maxerr=5.38E-16 current_time=0.0 - 0.1im time=0.449\n",
      "After sweep 1: maxlinkdim=16 maxerr=8.00E-16 current_time=0.0 - 0.1im time=0.399\n",
      "After sweep 1: maxlinkdim=16 maxerr=8.23E-16 current_time=0.0 - 0.1im time=0.399\n",
      "After sweep 1: maxlinkdim=16 maxerr=6.64E-16 current_time=0.0 - 0.1im time=0.398\n",
      "After sweep 1: maxlinkdim=16 maxerr=9.01E-16 current_time=0.0 - 0.1im time=0.399\n",
      "After sweep 1: maxlinkdim=16 maxerr=9.80E-16 current_time=0.0 - 0.1im time=0.399\n",
      "After sweep 1: maxlinkdim=16 maxerr=7.50E-16 current_time=0.0 - 0.1im time=0.399\n",
      "After sweep 1: maxlinkdim=16 maxerr=8.25E-16 current_time=0.0 - 0.1im time=0.399\n",
      "After sweep 1: maxlinkdim=16 maxerr=8.01E-16 current_time=0.0 - 0.1im time=0.399\n",
      "After sweep 1: maxlinkdim=16 maxerr=4.69E-16 current_time=0.0 - 0.1im time=0.4\n",
      "After sweep 1: maxlinkdim=16 maxerr=8.47E-16 current_time=0.0 - 0.1im time=0.4\n",
      "After sweep 1: maxlinkdim=16 maxerr=7.08E-16 current_time=0.0 - 0.1im time=0.399\n",
      "After sweep 1: maxlinkdim=16 maxerr=9.12E-16 current_time=0.0 - 0.1im time=0.4\n",
      "After sweep 1: maxlinkdim=16 maxerr=1.01E-15 current_time=0.0 - 0.1im time=0.399\n",
      "After sweep 1: maxlinkdim=16 maxerr=6.71E-16 current_time=0.0 - 0.1im time=0.398\n",
      "After sweep 1: maxlinkdim=16 maxerr=4.68E-16 current_time=0.0 - 0.1im time=0.4\n",
      "After sweep 1: maxlinkdim=16 maxerr=8.62E-16 current_time=0.0 - 0.1im time=0.4\n",
      "After sweep 1: maxlinkdim=16 maxerr=7.71E-16 current_time=0.0 - 0.1im time=0.399\n",
      "After sweep 1: maxlinkdim=16 maxerr=7.26E-16 current_time=0.0 - 0.1im time=0.398\n",
      "After sweep 1: maxlinkdim=16 maxerr=1.02E-15 current_time=0.0 - 0.1im time=0.4\n",
      "After sweep 1: maxlinkdim=16 maxerr=9.85E-16 current_time=0.0 - 0.1im time=0.4\n",
      "After sweep 1: maxlinkdim=16 maxerr=8.67E-16 current_time=0.0 - 0.1im time=0.399\n",
      "After sweep 1: maxlinkdim=16 maxerr=7.95E-16 current_time=0.0 - 0.1im time=0.4\n",
      "After sweep 1: maxlinkdim=16 maxerr=7.56E-16 current_time=0.0 - 0.1im time=0.399\n",
      "After sweep 1: maxlinkdim=16 maxerr=6.18E-16 current_time=0.0 - 0.1im time=0.4\n",
      "After sweep 1: maxlinkdim=16 maxerr=8.16E-16 current_time=0.0 - 0.1im time=0.4\n",
      "After sweep 1: maxlinkdim=16 maxerr=6.91E-16 current_time=0.0 - 0.1im time=0.4\n",
      "After sweep 1: maxlinkdim=16 maxerr=1.02E-15 current_time=0.0 - 0.1im time=0.4\n",
      "After sweep 1: maxlinkdim=16 maxerr=9.91E-16 current_time=0.0 - 0.1im time=0.399\n",
      "After sweep 1: maxlinkdim=16 maxerr=8.17E-16 current_time=0.0 - 0.1im time=0.4\n",
      "After sweep 1: maxlinkdim=16 maxerr=5.69E-16 current_time=0.0 - 0.1im time=0.399\n",
      "After sweep 1: maxlinkdim=16 maxerr=9.46E-16 current_time=0.0 - 0.1im time=0.4\n",
      "After sweep 1: maxlinkdim=16 maxerr=5.00E-16 current_time=0.0 - 0.1im time=0.4\n",
      "After sweep 1: maxlinkdim=16 maxerr=6.51E-16 current_time=0.0 - 0.1im time=0.399\n",
      "After sweep 1: maxlinkdim=16 maxerr=8.38E-16 current_time=0.0 - 0.1im time=0.4\n",
      "After sweep 1: maxlinkdim=16 maxerr=8.64E-16 current_time=0.0 - 0.1im time=0.442\n",
      "After sweep 1: maxlinkdim=16 maxerr=9.25E-16 current_time=0.0 - 0.1im time=0.439\n",
      "After sweep 1: maxlinkdim=16 maxerr=8.56E-16 current_time=0.0 - 0.1im time=0.441\n",
      "After sweep 1: maxlinkdim=16 maxerr=8.68E-16 current_time=0.0 - 0.1im time=0.454\n",
      "After sweep 1: maxlinkdim=16 maxerr=1.07E-15 current_time=0.0 - 0.1im time=0.442\n",
      "After sweep 1: maxlinkdim=16 maxerr=1.05E-15 current_time=0.0 - 0.1im time=0.399\n",
      "After sweep 1: maxlinkdim=16 maxerr=7.30E-16 current_time=0.0 - 0.1im time=0.401\n",
      "After sweep 1: maxlinkdim=16 maxerr=7.66E-16 current_time=0.0 - 0.1im time=0.42\n",
      "After sweep 1: maxlinkdim=16 maxerr=7.48E-16 current_time=0.0 - 0.1im time=0.422\n",
      "After sweep 1: maxlinkdim=16 maxerr=6.28E-16 current_time=0.0 - 0.1im time=0.446\n",
      "After sweep 1: maxlinkdim=16 maxerr=4.48E-16 current_time=0.0 - 0.1im time=0.408\n",
      "After sweep 1: maxlinkdim=16 maxerr=8.07E-16 current_time=0.0 - 0.1im time=0.403\n",
      "After sweep 1: maxlinkdim=16 maxerr=5.27E-16 current_time=0.0 - 0.1im time=0.404\n",
      "After sweep 1: maxlinkdim=16 maxerr=9.02E-16 current_time=0.0 - 0.1im time=0.519\n",
      "After sweep 1: maxlinkdim=16 maxerr=5.68E-16 current_time=0.0 - 0.1im time=0.506\n",
      "After sweep 1: maxlinkdim=16 maxerr=7.70E-16 current_time=0.0 - 0.1im time=0.459\n",
      "After sweep 1: maxlinkdim=16 maxerr=1.06E-15 current_time=0.0 - 0.1im time=0.427\n",
      "After sweep 1: maxlinkdim=16 maxerr=7.83E-16 current_time=0.0 - 0.1im time=0.45\n",
      "After sweep 1: maxlinkdim=16 maxerr=8.82E-16 current_time=0.0 - 0.1im time=0.457\n",
      "After sweep 1: maxlinkdim=16 maxerr=6.37E-16 current_time=0.0 - 0.1im time=0.421\n",
      "After sweep 1: maxlinkdim=16 maxerr=9.82E-16 current_time=0.0 - 0.1im time=0.402\n",
      "After sweep 1: maxlinkdim=16 maxerr=1.19E-15 current_time=0.0 - 0.1im time=0.4\n",
      "After sweep 1: maxlinkdim=16 maxerr=4.25E-16 current_time=0.0 - 0.1im time=0.431\n",
      "After sweep 1: maxlinkdim=16 maxerr=9.40E-16 current_time=0.0 - 0.1im time=0.403\n",
      "After sweep 1: maxlinkdim=16 maxerr=7.79E-16 current_time=0.0 - 0.1im time=0.4\n",
      "After sweep 1: maxlinkdim=16 maxerr=5.61E-16 current_time=0.0 - 0.1im time=0.4\n",
      "After sweep 1: maxlinkdim=16 maxerr=8.71E-16 current_time=0.0 - 0.1im time=0.401\n",
      "After sweep 1: maxlinkdim=16 maxerr=8.93E-16 current_time=0.0 - 0.1im time=0.4\n",
      "After sweep 1: maxlinkdim=16 maxerr=3.35E-16 current_time=0.0 - 0.1im time=0.408\n",
      "After sweep 1: maxlinkdim=16 maxerr=6.38E-16 current_time=0.0 - 0.1im time=0.405\n",
      "After sweep 1: maxlinkdim=16 maxerr=7.56E-16 current_time=0.0 - 0.1im time=0.4\n",
      "After sweep 1: maxlinkdim=16 maxerr=3.86E-16 current_time=0.0 - 0.1im time=0.43\n",
      "After sweep 1: maxlinkdim=16 maxerr=8.52E-16 current_time=0.0 - 0.1im time=0.423\n",
      "After sweep 1: maxlinkdim=16 maxerr=7.56E-16 current_time=0.0 - 0.1im time=0.405\n",
      "After sweep 1: maxlinkdim=16 maxerr=9.54E-16 current_time=0.0 - 0.1im time=0.412\n",
      "After sweep 1: maxlinkdim=16 maxerr=8.12E-16 current_time=0.0 - 0.1im time=0.401\n",
      "After sweep 1: maxlinkdim=16 maxerr=7.27E-16 current_time=0.0 - 0.1im time=0.429\n",
      "After sweep 1: maxlinkdim=16 maxerr=8.33E-16 current_time=0.0 - 0.1im time=0.402\n",
      "After sweep 1: maxlinkdim=16 maxerr=8.58E-16 current_time=0.0 - 0.1im time=0.516\n",
      "After sweep 1: maxlinkdim=16 maxerr=1.06E-15 current_time=0.0 - 0.1im time=0.401\n",
      "After sweep 1: maxlinkdim=16 maxerr=4.45E-16 current_time=0.0 - 0.1im time=0.401\n",
      "After sweep 1: maxlinkdim=16 maxerr=6.89E-16 current_time=0.0 - 0.1im time=0.868\n",
      "After sweep 1: maxlinkdim=16 maxerr=9.27E-16 current_time=0.0 - 0.1im time=0.519\n",
      "After sweep 1: maxlinkdim=16 maxerr=6.18E-16 current_time=0.0 - 0.1im time=0.44\n",
      "After sweep 1: maxlinkdim=16 maxerr=1.08E-15 current_time=0.0 - 0.1im time=0.423\n",
      "After sweep 1: maxlinkdim=16 maxerr=7.62E-16 current_time=0.0 - 0.1im time=0.438\n",
      "After sweep 1: maxlinkdim=16 maxerr=8.89E-16 current_time=0.0 - 0.1im time=0.564\n",
      "After sweep 1: maxlinkdim=16 maxerr=6.42E-16 current_time=0.0 - 0.1im time=0.439\n",
      "After sweep 1: maxlinkdim=16 maxerr=8.04E-16 current_time=0.0 - 0.1im time=0.419\n",
      "After sweep 1: maxlinkdim=16 maxerr=8.61E-16 current_time=0.0 - 0.1im time=0.41\n",
      "After sweep 1: maxlinkdim=16 maxerr=1.07E-15 current_time=0.0 - 0.1im time=0.4\n",
      "After sweep 1: maxlinkdim=16 maxerr=7.38E-16 current_time=0.0 - 0.1im time=0.403\n",
      "After sweep 1: maxlinkdim=16 maxerr=5.63E-16 current_time=0.0 - 0.1im time=0.399\n",
      "After sweep 1: maxlinkdim=16 maxerr=1.06E-15 current_time=0.0 - 0.1im time=0.399\n",
      "After sweep 1: maxlinkdim=16 maxerr=8.54E-16 current_time=0.0 - 0.1im time=0.4\n",
      "After sweep 1: maxlinkdim=16 maxerr=7.34E-16 current_time=0.0 - 0.1im time=0.399\n",
      "After sweep 1: maxlinkdim=16 maxerr=7.08E-16 current_time=0.0 - 0.1im time=0.4\n",
      "After sweep 1: maxlinkdim=16 maxerr=1.04E-15 current_time=0.0 - 0.1im time=0.453\n",
      "After sweep 1: maxlinkdim=16 maxerr=1.17E-15 current_time=0.0 - 0.1im time=0.449\n",
      "After sweep 1: maxlinkdim=16 maxerr=8.06E-16 current_time=0.0 - 0.1im time=0.453\n",
      "After sweep 1: maxlinkdim=16 maxerr=8.41E-16 current_time=0.0 - 0.1im time=0.539\n",
      "After sweep 1: maxlinkdim=16 maxerr=7.35E-16 current_time=0.0 - 0.1im time=0.464\n",
      "After sweep 1: maxlinkdim=16 maxerr=9.73E-16 current_time=0.0 - 0.1im time=0.463\n",
      "After sweep 1: maxlinkdim=16 maxerr=5.87E-16 current_time=0.0 - 0.1im time=0.453\n",
      "After sweep 1: maxlinkdim=16 maxerr=6.88E-16 current_time=0.0 - 0.1im time=0.479\n",
      "After sweep 1: maxlinkdim=16 maxerr=7.90E-16 current_time=0.0 - 0.1im time=0.404\n",
      "After sweep 1: maxlinkdim=16 maxerr=8.04E-16 current_time=0.0 - 0.1im time=0.559\n",
      "After sweep 1: maxlinkdim=16 maxerr=3.93E-16 current_time=0.0 - 0.1im time=0.437\n",
      "After sweep 1: maxlinkdim=16 maxerr=7.51E-16 current_time=0.0 - 0.1im time=0.444\n",
      "After sweep 1: maxlinkdim=16 maxerr=6.31E-16 current_time=0.0 - 0.1im time=0.42\n",
      "After sweep 1: maxlinkdim=16 maxerr=5.39E-16 current_time=0.0 - 0.1im time=0.475\n",
      "After sweep 1: maxlinkdim=16 maxerr=9.57E-16 current_time=0.0 - 0.1im time=0.441\n",
      "After sweep 1: maxlinkdim=16 maxerr=7.94E-16 current_time=0.0 - 0.1im time=0.416\n",
      "After sweep 1: maxlinkdim=16 maxerr=6.50E-16 current_time=0.0 - 0.1im time=0.436\n",
      "After sweep 1: maxlinkdim=16 maxerr=5.44E-16 current_time=0.0 - 0.1im time=0.428\n",
      "After sweep 1: maxlinkdim=16 maxerr=6.69E-16 current_time=0.0 - 0.1im time=0.429\n",
      "After sweep 1: maxlinkdim=16 maxerr=1.23E-15 current_time=0.0 - 0.1im time=0.406\n",
      "After sweep 1: maxlinkdim=16 maxerr=7.12E-16 current_time=0.0 - 0.1im time=0.403\n",
      "After sweep 1: maxlinkdim=16 maxerr=9.26E-16 current_time=0.0 - 0.1im time=0.487\n",
      "After sweep 1: maxlinkdim=16 maxerr=1.00E-15 current_time=0.0 - 0.1im time=0.439\n",
      "After sweep 1: maxlinkdim=16 maxerr=9.71E-16 current_time=0.0 - 0.1im time=0.442\n",
      "After sweep 1: maxlinkdim=16 maxerr=7.85E-16 current_time=0.0 - 0.1im time=0.408\n",
      "After sweep 1: maxlinkdim=16 maxerr=3.43E-16 current_time=0.0 - 0.1im time=0.407\n",
      "After sweep 1: maxlinkdim=16 maxerr=8.52E-16 current_time=0.0 - 0.1im time=0.402\n",
      "After sweep 1: maxlinkdim=16 maxerr=8.55E-16 current_time=0.0 - 0.1im time=0.477\n",
      "After sweep 1: maxlinkdim=16 maxerr=7.41E-16 current_time=0.0 - 0.1im time=0.415\n",
      "After sweep 1: maxlinkdim=16 maxerr=4.81E-16 current_time=0.0 - 0.1im time=0.4\n",
      "After sweep 1: maxlinkdim=16 maxerr=9.54E-16 current_time=0.0 - 0.1im time=0.403\n",
      "After sweep 1: maxlinkdim=16 maxerr=8.12E-16 current_time=0.0 - 0.1im time=0.417\n",
      "After sweep 1: maxlinkdim=16 maxerr=7.80E-16 current_time=0.0 - 0.1im time=0.423\n",
      "After sweep 1: maxlinkdim=16 maxerr=9.24E-16 current_time=0.0 - 0.1im time=0.418\n",
      "After sweep 1: maxlinkdim=16 maxerr=4.92E-16 current_time=0.0 - 0.1im time=0.444\n",
      "After sweep 1: maxlinkdim=16 maxerr=6.97E-16 current_time=0.0 - 0.1im time=0.447\n",
      "After sweep 1: maxlinkdim=16 maxerr=1.06E-15 current_time=0.0 - 0.1im time=0.43\n",
      "After sweep 1: maxlinkdim=16 maxerr=8.41E-16 current_time=0.0 - 0.1im time=0.447\n",
      "After sweep 1: maxlinkdim=16 maxerr=7.89E-16 current_time=0.0 - 0.1im time=0.439\n",
      "After sweep 1: maxlinkdim=16 maxerr=8.13E-16 current_time=0.0 - 0.1im time=0.411\n",
      "After sweep 1: maxlinkdim=16 maxerr=8.74E-16 current_time=0.0 - 0.1im time=0.469\n",
      "After sweep 1: maxlinkdim=16 maxerr=8.76E-16 current_time=0.0 - 0.1im time=0.454\n",
      "After sweep 1: maxlinkdim=16 maxerr=9.34E-16 current_time=0.0 - 0.1im time=0.634\n",
      "After sweep 1: maxlinkdim=16 maxerr=8.59E-16 current_time=0.0 - 0.1im time=0.497\n",
      "After sweep 1: maxlinkdim=16 maxerr=9.05E-16 current_time=0.0 - 0.1im time=0.473\n",
      "After sweep 1: maxlinkdim=16 maxerr=8.74E-16 current_time=0.0 - 0.1im time=0.399\n",
      "After sweep 1: maxlinkdim=16 maxerr=6.36E-16 current_time=0.0 - 0.1im time=0.495\n",
      "After sweep 1: maxlinkdim=16 maxerr=8.60E-16 current_time=0.0 - 0.1im time=0.516\n",
      "After sweep 1: maxlinkdim=16 maxerr=8.22E-16 current_time=0.0 - 0.1im time=0.518\n",
      "After sweep 1: maxlinkdim=16 maxerr=4.58E-16 current_time=0.0 - 0.1im time=0.966\n",
      "After sweep 1: maxlinkdim=16 maxerr=6.96E-16 current_time=0.0 - 0.1im time=0.495\n",
      "After sweep 1: maxlinkdim=16 maxerr=9.03E-16 current_time=0.0 - 0.1im time=0.438\n",
      "After sweep 1: maxlinkdim=16 maxerr=1.01E-15 current_time=0.0 - 0.1im time=0.625\n",
      "After sweep 1: maxlinkdim=16 maxerr=8.23E-16 current_time=0.0 - 0.1im time=0.6\n",
      "After sweep 1: maxlinkdim=16 maxerr=8.93E-16 current_time=0.0 - 0.1im time=0.482\n",
      "After sweep 1: maxlinkdim=16 maxerr=7.37E-16 current_time=0.0 - 0.1im time=0.495\n",
      "After sweep 1: maxlinkdim=16 maxerr=6.73E-16 current_time=0.0 - 0.1im time=0.498\n",
      "After sweep 1: maxlinkdim=16 maxerr=9.61E-16 current_time=0.0 - 0.1im time=0.592\n",
      "After sweep 1: maxlinkdim=16 maxerr=9.02E-16 current_time=0.0 - 0.1im time=0.573\n",
      "After sweep 1: maxlinkdim=16 maxerr=9.25E-16 current_time=0.0 - 0.1im time=0.521\n",
      "After sweep 1: maxlinkdim=16 maxerr=7.32E-16 current_time=0.0 - 0.1im time=0.785\n",
      "After sweep 1: maxlinkdim=16 maxerr=8.37E-16 current_time=0.0 - 0.1im time=0.527\n",
      "After sweep 1: maxlinkdim=16 maxerr=8.66E-16 current_time=0.0 - 0.1im time=0.596\n",
      "After sweep 1: maxlinkdim=16 maxerr=9.80E-16 current_time=0.0 - 0.1im time=0.531\n",
      "After sweep 1: maxlinkdim=16 maxerr=1.13E-15 current_time=0.0 - 0.1im time=0.539\n",
      "After sweep 1: maxlinkdim=16 maxerr=6.81E-16 current_time=0.0 - 0.1im time=0.462\n",
      "After sweep 1: maxlinkdim=16 maxerr=1.03E-15 current_time=0.0 - 0.1im time=0.628\n",
      "After sweep 1: maxlinkdim=16 maxerr=7.20E-16 current_time=0.0 - 0.1im time=0.51\n",
      "After sweep 1: maxlinkdim=16 maxerr=5.79E-16 current_time=0.0 - 0.1im time=0.501\n",
      "After sweep 1: maxlinkdim=16 maxerr=7.99E-16 current_time=0.0 - 0.1im time=0.626\n",
      "After sweep 1: maxlinkdim=16 maxerr=5.18E-16 current_time=0.0 - 0.1im time=0.682\n",
      "After sweep 1: maxlinkdim=16 maxerr=8.40E-16 current_time=0.0 - 0.1im time=0.437\n",
      "After sweep 1: maxlinkdim=16 maxerr=8.90E-16 current_time=0.0 - 0.1im time=0.491\n",
      "After sweep 1: maxlinkdim=16 maxerr=1.06E-15 current_time=0.0 - 0.1im time=0.597\n",
      "After sweep 1: maxlinkdim=16 maxerr=5.55E-16 current_time=0.0 - 0.1im time=0.425\n",
      "After sweep 1: maxlinkdim=16 maxerr=8.79E-16 current_time=0.0 - 0.1im time=0.438\n",
      "After sweep 1: maxlinkdim=16 maxerr=8.21E-16 current_time=0.0 - 0.1im time=0.445\n",
      "After sweep 1: maxlinkdim=16 maxerr=1.06E-15 current_time=0.0 - 0.1im time=0.417\n",
      "After sweep 1: maxlinkdim=16 maxerr=8.40E-16 current_time=0.0 - 0.1im time=0.429\n",
      "After sweep 1: maxlinkdim=15 maxerr=9.68E-11 current_time=0.0 - 0.1im time=0.442\n",
      "After sweep 1: maxlinkdim=16 maxerr=3.74E-16 current_time=0.0 - 0.1im time=0.4\n",
      "After sweep 1: maxlinkdim=16 maxerr=9.48E-16 current_time=0.0 - 0.1im time=0.44\n",
      "After sweep 1: maxlinkdim=16 maxerr=7.12E-16 current_time=0.0 - 0.1im time=0.477\n",
      "After sweep 1: maxlinkdim=16 maxerr=7.51E-16 current_time=0.0 - 0.1im time=0.41\n",
      "After sweep 1: maxlinkdim=16 maxerr=8.12E-16 current_time=0.0 - 0.1im time=0.454\n",
      "After sweep 1: maxlinkdim=16 maxerr=5.31E-16 current_time=0.0 - 0.1im time=0.417\n",
      "After sweep 1: maxlinkdim=16 maxerr=1.08E-15 current_time=0.0 - 0.1im time=0.403\n",
      "After sweep 1: maxlinkdim=16 maxerr=6.41E-16 current_time=0.0 - 0.1im time=0.399\n",
      "After sweep 1: maxlinkdim=16 maxerr=1.00E-15 current_time=0.0 - 0.1im time=0.428\n",
      "After sweep 1: maxlinkdim=16 maxerr=6.27E-16 current_time=0.0 - 0.1im time=0.426\n",
      "After sweep 1: maxlinkdim=16 maxerr=7.21E-16 current_time=0.0 - 0.1im time=0.401\n",
      "After sweep 1: maxlinkdim=16 maxerr=8.55E-16 current_time=0.0 - 0.1im time=0.423\n",
      "After sweep 1: maxlinkdim=16 maxerr=7.92E-16 current_time=0.0 - 0.1im time=0.423\n",
      "After sweep 1: maxlinkdim=16 maxerr=8.02E-16 current_time=0.0 - 0.1im time=0.448\n",
      "After sweep 1: maxlinkdim=16 maxerr=8.46E-16 current_time=0.0 - 0.1im time=0.403\n",
      "After sweep 1: maxlinkdim=16 maxerr=1.11E-15 current_time=0.0 - 0.1im time=0.437\n",
      "After sweep 1: maxlinkdim=16 maxerr=8.06E-16 current_time=0.0 - 0.1im time=0.417\n",
      "After sweep 1: maxlinkdim=16 maxerr=4.20E-16 current_time=0.0 - 0.1im time=0.403\n",
      "After sweep 1: maxlinkdim=16 maxerr=5.96E-16 current_time=0.0 - 0.1im time=0.4\n",
      "After sweep 1: maxlinkdim=16 maxerr=1.13E-15 current_time=0.0 - 0.1im time=0.412\n",
      "After sweep 1: maxlinkdim=16 maxerr=6.18E-16 current_time=0.0 - 0.1im time=0.441\n",
      "After sweep 1: maxlinkdim=16 maxerr=9.94E-16 current_time=0.0 - 0.1im time=0.412\n",
      "After sweep 1: maxlinkdim=16 maxerr=8.12E-16 current_time=0.0 - 0.1im time=0.412\n",
      "After sweep 1: maxlinkdim=16 maxerr=7.50E-16 current_time=0.0 - 0.1im time=0.4\n",
      "After sweep 1: maxlinkdim=16 maxerr=8.14E-16 current_time=0.0 - 0.1im time=0.399\n",
      "After sweep 1: maxlinkdim=16 maxerr=8.70E-16 current_time=0.0 - 0.1im time=0.416\n",
      "After sweep 1: maxlinkdim=16 maxerr=7.10E-16 current_time=0.0 - 0.1im time=0.413\n",
      "After sweep 1: maxlinkdim=16 maxerr=8.50E-16 current_time=0.0 - 0.1im time=0.408\n",
      "After sweep 1: maxlinkdim=16 maxerr=3.35E-16 current_time=0.0 - 0.1im time=0.447\n",
      "After sweep 1: maxlinkdim=16 maxerr=8.87E-16 current_time=0.0 - 0.1im time=0.426\n",
      "After sweep 1: maxlinkdim=16 maxerr=3.40E-16 current_time=0.0 - 0.1im time=0.406\n",
      "After sweep 1: maxlinkdim=16 maxerr=7.90E-16 current_time=0.0 - 0.1im time=0.457\n",
      "After sweep 1: maxlinkdim=16 maxerr=1.05E-15 current_time=0.0 - 0.1im time=0.456\n",
      "After sweep 1: maxlinkdim=16 maxerr=7.50E-16 current_time=0.0 - 0.1im time=0.399\n",
      "After sweep 1: maxlinkdim=16 maxerr=6.46E-16 current_time=0.0 - 0.1im time=0.398\n",
      "After sweep 1: maxlinkdim=16 maxerr=7.35E-16 current_time=0.0 - 0.1im time=0.423\n",
      "After sweep 1: maxlinkdim=16 maxerr=7.58E-16 current_time=0.0 - 0.1im time=0.418\n",
      "After sweep 1: maxlinkdim=16 maxerr=9.29E-16 current_time=0.0 - 0.1im time=0.415\n",
      "After sweep 1: maxlinkdim=16 maxerr=8.57E-16 current_time=0.0 - 0.1im time=0.411\n",
      "After sweep 1: maxlinkdim=16 maxerr=6.38E-16 current_time=0.0 - 0.1im time=0.403\n",
      "After sweep 1: maxlinkdim=16 maxerr=5.52E-16 current_time=0.0 - 0.1im time=0.401\n",
      "After sweep 1: maxlinkdim=16 maxerr=1.34E-15 current_time=0.0 - 0.1im time=0.405\n",
      "After sweep 1: maxlinkdim=16 maxerr=7.92E-16 current_time=0.0 - 0.1im time=0.591\n",
      "After sweep 1: maxlinkdim=16 maxerr=8.36E-16 current_time=0.0 - 0.1im time=0.434\n",
      "After sweep 1: maxlinkdim=16 maxerr=1.08E-15 current_time=0.0 - 0.1im time=0.482\n",
      "After sweep 1: maxlinkdim=16 maxerr=7.58E-16 current_time=0.0 - 0.1im time=0.429\n",
      "After sweep 1: maxlinkdim=16 maxerr=8.70E-16 current_time=0.0 - 0.1im time=0.415\n",
      "After sweep 1: maxlinkdim=16 maxerr=6.11E-16 current_time=0.0 - 0.1im time=0.42\n",
      "After sweep 1: maxlinkdim=16 maxerr=7.35E-16 current_time=0.0 - 0.1im time=0.404\n",
      "After sweep 1: maxlinkdim=16 maxerr=9.26E-16 current_time=0.0 - 0.1im time=0.429\n",
      "After sweep 1: maxlinkdim=16 maxerr=8.75E-16 current_time=0.0 - 0.1im time=0.448\n",
      "After sweep 1: maxlinkdim=16 maxerr=1.07E-15 current_time=0.0 - 0.1im time=0.459\n",
      "After sweep 1: maxlinkdim=16 maxerr=9.93E-16 current_time=0.0 - 0.1im time=0.647\n",
      "After sweep 1: maxlinkdim=16 maxerr=5.40E-16 current_time=0.0 - 0.1im time=0.478\n",
      "After sweep 1: maxlinkdim=16 maxerr=7.32E-16 current_time=0.0 - 0.1im time=0.413\n",
      "After sweep 1: maxlinkdim=16 maxerr=8.43E-16 current_time=0.0 - 0.1im time=0.482\n",
      "After sweep 1: maxlinkdim=16 maxerr=6.69E-16 current_time=0.0 - 0.1im time=0.499\n",
      "After sweep 1: maxlinkdim=16 maxerr=6.60E-16 current_time=0.0 - 0.1im time=0.438\n",
      "After sweep 1: maxlinkdim=16 maxerr=8.50E-16 current_time=0.0 - 0.1im time=0.421\n",
      "After sweep 1: maxlinkdim=16 maxerr=7.44E-16 current_time=0.0 - 0.1im time=0.452\n",
      "After sweep 1: maxlinkdim=16 maxerr=7.20E-16 current_time=0.0 - 0.1im time=0.408\n",
      "After sweep 1: maxlinkdim=16 maxerr=8.29E-16 current_time=0.0 - 0.1im time=0.423\n",
      "After sweep 1: maxlinkdim=16 maxerr=6.27E-16 current_time=0.0 - 0.1im time=0.439\n",
      "After sweep 1: maxlinkdim=16 maxerr=7.35E-16 current_time=0.0 - 0.1im time=0.42\n",
      "After sweep 1: maxlinkdim=16 maxerr=7.75E-16 current_time=0.0 - 0.1im time=0.409\n",
      "After sweep 1: maxlinkdim=16 maxerr=7.52E-16 current_time=0.0 - 0.1im time=0.451\n",
      "After sweep 1: maxlinkdim=16 maxerr=9.16E-16 current_time=0.0 - 0.1im time=0.434\n",
      "After sweep 1: maxlinkdim=16 maxerr=9.46E-16 current_time=0.0 - 0.1im time=0.425\n",
      "After sweep 1: maxlinkdim=16 maxerr=6.66E-16 current_time=0.0 - 0.1im time=0.427\n",
      "After sweep 1: maxlinkdim=16 maxerr=9.47E-16 current_time=0.0 - 0.1im time=0.478\n",
      "After sweep 1: maxlinkdim=16 maxerr=5.11E-16 current_time=0.0 - 0.1im time=0.448\n",
      "After sweep 1: maxlinkdim=16 maxerr=4.69E-16 current_time=0.0 - 0.1im time=0.459\n",
      "After sweep 1: maxlinkdim=16 maxerr=4.99E-16 current_time=0.0 - 0.1im time=0.399\n",
      "After sweep 1: maxlinkdim=16 maxerr=8.32E-16 current_time=0.0 - 0.1im time=0.416\n",
      "After sweep 1: maxlinkdim=16 maxerr=8.00E-16 current_time=0.0 - 0.1im time=0.418\n",
      "After sweep 1: maxlinkdim=16 maxerr=7.26E-16 current_time=0.0 - 0.1im time=0.406\n",
      "After sweep 1: maxlinkdim=16 maxerr=8.02E-16 current_time=0.0 - 0.1im time=0.4\n",
      "After sweep 1: maxlinkdim=16 maxerr=6.60E-16 current_time=0.0 - 0.1im time=0.4\n",
      "After sweep 1: maxlinkdim=16 maxerr=1.13E-15 current_time=0.0 - 0.1im time=0.434\n",
      "After sweep 1: maxlinkdim=16 maxerr=9.85E-16 current_time=0.0 - 0.1im time=0.423\n",
      "After sweep 1: maxlinkdim=16 maxerr=8.05E-16 current_time=0.0 - 0.1im time=0.418\n",
      "After sweep 1: maxlinkdim=16 maxerr=8.22E-16 current_time=0.0 - 0.1im time=0.431\n",
      "After sweep 1: maxlinkdim=16 maxerr=8.38E-16 current_time=0.0 - 0.1im time=0.425\n",
      "After sweep 1: maxlinkdim=16 maxerr=4.77E-16 current_time=0.0 - 0.1im time=0.437\n",
      "After sweep 1: maxlinkdim=16 maxerr=9.02E-16 current_time=0.0 - 0.1im time=0.432\n",
      "After sweep 1: maxlinkdim=16 maxerr=9.63E-16 current_time=0.0 - 0.1im time=0.418\n",
      "After sweep 1: maxlinkdim=16 maxerr=8.51E-16 current_time=0.0 - 0.1im time=0.438\n",
      "After sweep 1: maxlinkdim=16 maxerr=1.02E-15 current_time=0.0 - 0.1im time=0.426\n",
      "After sweep 1: maxlinkdim=16 maxerr=1.14E-15 current_time=0.0 - 0.1im time=0.423\n",
      "After sweep 1: maxlinkdim=16 maxerr=5.50E-16 current_time=0.0 - 0.1im time=0.467\n",
      "After sweep 1: maxlinkdim=16 maxerr=6.67E-16 current_time=0.0 - 0.1im time=0.412\n",
      "After sweep 1: maxlinkdim=16 maxerr=8.31E-16 current_time=0.0 - 0.1im time=0.4\n",
      "After sweep 1: maxlinkdim=16 maxerr=6.45E-16 current_time=0.0 - 0.1im time=0.413\n",
      "After sweep 1: maxlinkdim=16 maxerr=8.03E-16 current_time=0.0 - 0.1im time=0.422\n",
      "After sweep 1: maxlinkdim=16 maxerr=9.47E-16 current_time=0.0 - 0.1im time=0.442\n",
      "After sweep 1: maxlinkdim=16 maxerr=8.30E-16 current_time=0.0 - 0.1im time=0.442\n",
      "After sweep 1: maxlinkdim=16 maxerr=7.74E-16 current_time=0.0 - 0.1im time=0.489\n",
      "After sweep 1: maxlinkdim=16 maxerr=9.88E-16 current_time=0.0 - 0.1im time=0.537\n",
      "After sweep 1: maxlinkdim=16 maxerr=6.52E-16 current_time=0.0 - 0.1im time=0.457\n",
      "After sweep 1: maxlinkdim=16 maxerr=8.60E-16 current_time=0.0 - 0.1im time=0.419\n",
      "After sweep 1: maxlinkdim=16 maxerr=8.91E-16 current_time=0.0 - 0.1im time=0.435\n",
      "After sweep 1: maxlinkdim=16 maxerr=7.60E-16 current_time=0.0 - 0.1im time=0.427\n",
      "After sweep 1: maxlinkdim=16 maxerr=9.76E-16 current_time=0.0 - 0.1im time=0.408\n",
      "After sweep 1: maxlinkdim=16 maxerr=9.17E-16 current_time=0.0 - 0.1im time=0.429\n",
      "After sweep 1: maxlinkdim=16 maxerr=7.47E-16 current_time=0.0 - 0.1im time=0.409\n",
      "After sweep 1: maxlinkdim=16 maxerr=5.59E-16 current_time=0.0 - 0.1im time=0.414\n",
      "After sweep 1: maxlinkdim=16 maxerr=9.61E-16 current_time=0.0 - 0.1im time=0.416\n",
      "After sweep 1: maxlinkdim=16 maxerr=5.84E-16 current_time=0.0 - 0.1im time=0.468\n",
      "After sweep 1: maxlinkdim=16 maxerr=4.66E-16 current_time=0.0 - 0.1im time=0.458\n",
      "After sweep 1: maxlinkdim=16 maxerr=8.61E-16 current_time=0.0 - 0.1im time=0.401\n",
      "After sweep 1: maxlinkdim=16 maxerr=8.11E-16 current_time=0.0 - 0.1im time=0.444\n",
      "After sweep 1: maxlinkdim=16 maxerr=6.71E-16 current_time=0.0 - 0.1im time=0.439\n",
      "After sweep 1: maxlinkdim=16 maxerr=6.75E-16 current_time=0.0 - 0.1im time=0.459\n",
      "After sweep 1: maxlinkdim=16 maxerr=7.00E-16 current_time=0.0 - 0.1im time=0.411\n",
      "After sweep 1: maxlinkdim=16 maxerr=7.03E-16 current_time=0.0 - 0.1im time=0.4\n",
      "After sweep 1: maxlinkdim=16 maxerr=5.44E-16 current_time=0.0 - 0.1im time=0.508\n",
      "After sweep 1: maxlinkdim=16 maxerr=9.26E-16 current_time=0.0 - 0.1im time=0.419\n",
      "After sweep 1: maxlinkdim=16 maxerr=9.12E-16 current_time=0.0 - 0.1im time=0.407\n",
      "After sweep 1: maxlinkdim=16 maxerr=1.21E-15 current_time=0.0 - 0.1im time=0.4\n",
      "After sweep 1: maxlinkdim=16 maxerr=5.75E-16 current_time=0.0 - 0.1im time=0.422\n",
      "After sweep 1: maxlinkdim=16 maxerr=7.88E-16 current_time=0.0 - 0.1im time=0.399\n",
      "After sweep 1: maxlinkdim=16 maxerr=9.53E-16 current_time=0.0 - 0.1im time=0.399\n",
      "After sweep 1: maxlinkdim=16 maxerr=6.30E-16 current_time=0.0 - 0.1im time=0.399\n",
      "After sweep 1: maxlinkdim=16 maxerr=4.63E-16 current_time=0.0 - 0.1im time=0.402\n",
      "After sweep 1: maxlinkdim=16 maxerr=1.07E-15 current_time=0.0 - 0.1im time=0.403\n",
      "After sweep 1: maxlinkdim=16 maxerr=9.27E-16 current_time=0.0 - 0.1im time=0.399\n",
      "After sweep 1: maxlinkdim=16 maxerr=6.45E-16 current_time=0.0 - 0.1im time=0.4\n",
      "After sweep 1: maxlinkdim=16 maxerr=7.66E-16 current_time=0.0 - 0.1im time=0.399\n",
      "After sweep 1: maxlinkdim=16 maxerr=7.00E-16 current_time=0.0 - 0.1im time=0.403\n",
      "After sweep 1: maxlinkdim=16 maxerr=7.46E-16 current_time=0.0 - 0.1im time=0.404\n",
      "After sweep 1: maxlinkdim=16 maxerr=9.81E-16 current_time=0.0 - 0.1im time=0.414\n",
      "After sweep 1: maxlinkdim=16 maxerr=6.56E-16 current_time=0.0 - 0.1im time=0.418\n",
      "After sweep 1: maxlinkdim=16 maxerr=8.76E-16 current_time=0.0 - 0.1im time=0.464\n",
      "After sweep 1: maxlinkdim=16 maxerr=6.37E-16 current_time=0.0 - 0.1im time=0.463\n",
      "After sweep 1: maxlinkdim=16 maxerr=4.90E-16 current_time=0.0 - 0.1im time=0.471\n",
      "After sweep 1: maxlinkdim=16 maxerr=6.70E-16 current_time=0.0 - 0.1im time=0.454\n",
      "After sweep 1: maxlinkdim=16 maxerr=9.53E-16 current_time=0.0 - 0.1im time=0.431\n",
      "After sweep 1: maxlinkdim=16 maxerr=7.29E-16 current_time=0.0 - 0.1im time=0.432\n",
      "After sweep 1: maxlinkdim=16 maxerr=1.04E-15 current_time=0.0 - 0.1im time=0.4\n",
      "After sweep 1: maxlinkdim=16 maxerr=6.33E-16 current_time=0.0 - 0.1im time=0.405\n",
      "After sweep 1: maxlinkdim=16 maxerr=7.87E-16 current_time=0.0 - 0.1im time=0.403\n",
      "After sweep 1: maxlinkdim=16 maxerr=7.24E-16 current_time=0.0 - 0.1im time=0.403\n",
      "After sweep 1: maxlinkdim=16 maxerr=9.01E-16 current_time=0.0 - 0.1im time=0.401\n",
      "After sweep 1: maxlinkdim=16 maxerr=5.28E-16 current_time=0.0 - 0.1im time=0.404\n",
      "After sweep 1: maxlinkdim=16 maxerr=5.36E-16 current_time=0.0 - 0.1im time=0.403\n",
      "After sweep 1: maxlinkdim=16 maxerr=8.02E-16 current_time=0.0 - 0.1im time=0.407\n",
      "After sweep 1: maxlinkdim=16 maxerr=8.26E-16 current_time=0.0 - 0.1im time=0.401\n",
      "After sweep 1: maxlinkdim=16 maxerr=7.62E-16 current_time=0.0 - 0.1im time=0.403\n",
      "After sweep 1: maxlinkdim=16 maxerr=7.33E-16 current_time=0.0 - 0.1im time=0.403\n",
      "After sweep 1: maxlinkdim=16 maxerr=4.82E-16 current_time=0.0 - 0.1im time=0.402\n",
      "After sweep 1: maxlinkdim=16 maxerr=6.14E-16 current_time=0.0 - 0.1im time=0.466\n",
      "After sweep 1: maxlinkdim=16 maxerr=7.41E-16 current_time=0.0 - 0.1im time=0.525\n",
      "After sweep 1: maxlinkdim=16 maxerr=7.82E-16 current_time=0.0 - 0.1im time=0.478\n",
      "After sweep 1: maxlinkdim=16 maxerr=2.04E-16 current_time=0.0 - 0.1im time=0.427\n",
      "After sweep 1: maxlinkdim=16 maxerr=8.55E-16 current_time=0.0 - 0.1im time=0.407\n",
      "After sweep 1: maxlinkdim=16 maxerr=4.58E-16 current_time=0.0 - 0.1im time=0.427\n",
      "After sweep 1: maxlinkdim=16 maxerr=7.36E-16 current_time=0.0 - 0.1im time=0.404\n",
      "After sweep 1: maxlinkdim=16 maxerr=1.26E-15 current_time=0.0 - 0.1im time=0.456\n",
      "After sweep 1: maxlinkdim=16 maxerr=6.94E-16 current_time=0.0 - 0.1im time=0.461\n",
      "After sweep 1: maxlinkdim=16 maxerr=8.63E-16 current_time=0.0 - 0.1im time=0.436\n",
      "After sweep 1: maxlinkdim=16 maxerr=7.65E-16 current_time=0.0 - 0.1im time=0.402\n",
      "After sweep 1: maxlinkdim=16 maxerr=7.33E-16 current_time=0.0 - 0.1im time=0.457\n",
      "After sweep 1: maxlinkdim=16 maxerr=7.55E-16 current_time=0.0 - 0.1im time=0.417\n",
      "After sweep 1: maxlinkdim=16 maxerr=5.56E-16 current_time=0.0 - 0.1im time=0.451\n",
      "After sweep 1: maxlinkdim=16 maxerr=7.97E-16 current_time=0.0 - 0.1im time=0.476\n",
      "After sweep 1: maxlinkdim=16 maxerr=7.45E-16 current_time=0.0 - 0.1im time=0.442\n",
      "After sweep 1: maxlinkdim=16 maxerr=8.06E-16 current_time=0.0 - 0.1im time=0.47\n",
      "After sweep 1: maxlinkdim=16 maxerr=9.96E-16 current_time=0.0 - 0.1im time=0.403\n",
      "After sweep 1: maxlinkdim=16 maxerr=4.72E-16 current_time=0.0 - 0.1im time=0.465\n",
      "After sweep 1: maxlinkdim=16 maxerr=1.01E-15 current_time=0.0 - 0.1im time=0.402\n",
      "After sweep 1: maxlinkdim=16 maxerr=4.33E-16 current_time=0.0 - 0.1im time=0.402\n",
      "After sweep 1: maxlinkdim=16 maxerr=5.02E-16 current_time=0.0 - 0.1im time=0.406\n",
      "After sweep 1: maxlinkdim=16 maxerr=8.93E-16 current_time=0.0 - 0.1im time=0.399\n",
      "After sweep 1: maxlinkdim=16 maxerr=7.73E-16 current_time=0.0 - 0.1im time=0.4\n",
      "After sweep 1: maxlinkdim=16 maxerr=9.49E-16 current_time=0.0 - 0.1im time=0.4\n",
      "After sweep 1: maxlinkdim=16 maxerr=1.01E-15 current_time=0.0 - 0.1im time=0.4\n",
      "After sweep 1: maxlinkdim=16 maxerr=4.60E-16 current_time=0.0 - 0.1im time=0.4\n",
      "After sweep 1: maxlinkdim=16 maxerr=6.13E-16 current_time=0.0 - 0.1im time=0.402\n",
      "After sweep 1: maxlinkdim=16 maxerr=6.85E-16 current_time=0.0 - 0.1im time=0.4\n",
      "After sweep 1: maxlinkdim=16 maxerr=6.58E-16 current_time=0.0 - 0.1im time=0.407\n",
      "After sweep 1: maxlinkdim=16 maxerr=7.20E-16 current_time=0.0 - 0.1im time=0.399\n",
      "After sweep 1: maxlinkdim=16 maxerr=7.83E-16 current_time=0.0 - 0.1im time=0.399\n",
      "After sweep 1: maxlinkdim=16 maxerr=7.17E-16 current_time=0.0 - 0.1im time=0.43\n",
      "After sweep 1: maxlinkdim=16 maxerr=9.47E-16 current_time=0.0 - 0.1im time=0.402\n",
      "After sweep 1: maxlinkdim=16 maxerr=7.75E-16 current_time=0.0 - 0.1im time=0.401\n",
      "After sweep 1: maxlinkdim=16 maxerr=5.78E-16 current_time=0.0 - 0.1im time=0.415\n",
      "After sweep 1: maxlinkdim=16 maxerr=7.42E-16 current_time=0.0 - 0.1im time=0.42\n",
      "After sweep 1: maxlinkdim=16 maxerr=9.66E-16 current_time=0.0 - 0.1im time=0.4\n",
      "After sweep 1: maxlinkdim=16 maxerr=9.41E-16 current_time=0.0 - 0.1im time=0.41\n",
      "After sweep 1: maxlinkdim=16 maxerr=2.77E-16 current_time=0.0 - 0.1im time=0.406\n",
      "After sweep 1: maxlinkdim=16 maxerr=7.54E-16 current_time=0.0 - 0.1im time=0.401\n",
      "After sweep 1: maxlinkdim=16 maxerr=4.01E-16 current_time=0.0 - 0.1im time=0.41\n",
      "After sweep 1: maxlinkdim=16 maxerr=5.62E-16 current_time=0.0 - 0.1im time=0.4\n",
      "After sweep 1: maxlinkdim=11 maxerr=9.56E-11 current_time=0.0 - 0.1im time=0.398\n",
      "After sweep 1: maxlinkdim=16 maxerr=5.82E-16 current_time=0.0 - 0.1im time=0.422\n",
      "After sweep 1: maxlinkdim=16 maxerr=1.05E-15 current_time=0.0 - 0.1im time=0.399\n",
      "After sweep 1: maxlinkdim=16 maxerr=9.67E-16 current_time=0.0 - 0.1im time=0.4\n",
      "After sweep 1: maxlinkdim=16 maxerr=8.49E-16 current_time=0.0 - 0.1im time=0.424\n",
      "After sweep 1: maxlinkdim=16 maxerr=5.96E-16 current_time=0.0 - 0.1im time=0.432\n",
      "After sweep 1: maxlinkdim=16 maxerr=7.37E-16 current_time=0.0 - 0.1im time=0.413\n"
     ]
    },
    {
     "data": {
      "text/plain": [
       "\"/Users/uditvarma/Documents/s3/SvN_half_vs_time_S1_N8_dt0.1_T50.0_tdvp.png\""
      ]
     },
     "metadata": {},
     "output_type": "display_data"
    }
   ],
   "source": [
    "using ITensors, ITensorMPS, Random, HDF5, StatsBase\n",
    "using Plots\n",
    "\n",
    "N = 8\n",
    "sites = siteinds(\"S=1\", N; conserve_qns=true)\n",
    "\n",
    "os = OpSum()\n",
    "for j = 1:N ####### change to N-1 if you're doing OBC\n",
    "  os += 1.0, \"S+ * S+\", j, \"S- * S-\", mod(j, N) + 1\n",
    "  os += 1.0, \"S- * S-\", j, \"S+ * S+\", mod(j, N) + 1\n",
    "  os += 1.0 ,\"S+ * S+\",mod(j,N)+1,\"S- * S-\",j   # H.c. terms\n",
    "  os += 1.0 ,\"S- * S-\",mod(j,N)+1,\"S+ * S+\",j\n",
    "end\n",
    "H = MPO(os, sites)\n",
    "\n",
    "# ----- initial product state \n",
    "state = [isodd(j) ? \"Up\" : \"Dn\" for j in 1:N]       # Néel: isodd(j) ? \"Up\" : \"Dn\"\n",
    "psi = productMPS(sites, state)\n",
    "\n",
    "#func to compute EE at any site\n",
    "function entropy_von_neumann(psi, b)\n",
    "  s = siteinds(psi)\n",
    "  orthogonalize!(psi, b)\n",
    "  if b == 1\n",
    "    U, S, V = svd(psi[b], (siteind(psi, b),))\n",
    "  else\n",
    "    U, S, V = svd(psi[b], (linkind(psi, b - 1), siteind(psi, b)))\n",
    "  end\n",
    "  SvN = 0.0\n",
    "  for n in 1:dim(S, 1)\n",
    "    p = S[n, n]^2\n",
    "    if p > 0\n",
    "      SvN -= p * log(p)\n",
    "    end\n",
    "  end\n",
    "  return SvN\n",
    "end\n",
    "\n",
    "# ----- TDVP evolution + half-chain entropy at every step -----\n",
    "tstep = 0.1\n",
    "tend = 50.0\n",
    "nsw = round(Int, tend / tstep)\n",
    "tdvp_maxdim = 500\n",
    "\n",
    "Time = Float64[]\n",
    "SvN_half = Float64[]\n",
    "\n",
    "push!(Time, 0.0)\n",
    "push!(SvN_half, entropy_von_neumann(psi, N ÷ 2))\n",
    "\n",
    "for n in 1:nsw\n",
    "  ncenter = 1\n",
    "  if maxlinkdim(psi) < tdvp_maxdim\n",
    "    ncenter = 2\n",
    "  end\n",
    "\n",
    "  psi = tdvp(H, -im * tstep, psi;\n",
    "             time_step = -im * tstep,\n",
    "             reverse_step = true,\n",
    "             normalize = false,\n",
    "             cutoff = 1e-10,\n",
    "             maxdim = tdvp_maxdim,\n",
    "             nsite = ncenter,\n",
    "             updater_backend = \"exponentiate\",\n",
    "             outputlevel = 1)\n",
    "\n",
    "  tnow = n * tstep\n",
    "  push!(Time, tnow)\n",
    "  push!(SvN_half, entropy_von_neumann(psi, N ÷ 2))\n",
    "\n",
    "  GC.gc(true)\n",
    "end\n",
    "\n",
    "# ----- save results -----\n",
    "# fname = \"SvN_half_vs_time_S1_N$(N)_dt$(tstep)_T$(tend).h5\"\n",
    "# h5write(fname, \"time\", Time)\n",
    "# h5write(fname, \"SvN_half\", SvN_half)\n",
    "# println(\"Saved: \", fname)\n",
    "\n",
    "\n",
    "plot(Time,SvN_half)\n",
    "savefig(\"SvN_half_vs_time_S1_N$(N)_dt$(tstep)_T$(tend)_tdvp.png\")"
   ]
  },
  {
   "cell_type": "code",
   "execution_count": 6,
   "id": "2b495669",
   "metadata": {},
   "outputs": [
    {
     "data": {
      "text/plain": [
       "neel_spin1 (generic function with 1 method)"
      ]
     },
     "metadata": {},
     "output_type": "display_data"
    }
   ],
   "source": [
    "include(\"s3.jl\")"
   ]
  },
  {
   "cell_type": "code",
   "execution_count": 1,
   "id": "75306112",
   "metadata": {},
   "outputs": [],
   "source": [
    "using LinearAlgebra\n",
    "\n",
    "N = 2\n",
    "function spin1_vector(s)\n",
    "    s == \"Up\"  ? [1.0, 0.0, 0.0] :\n",
    "    s == \"Dn\"  ? [0.0, 0.0, 1.0] : [0.0, 1.0, 0.0] # \"Zero\" state\n",
    "end\n",
    "neel_state = [isodd(j) ? \"Up\" : \"Dn\" for j in 1:N]\n",
    "psi = spin1_vector(neel_state[1])\n",
    "\n",
    "for j in 2:N\n",
    "    psi = kron(psi, spin1_vector(neel_state[j]))\n",
    "end"
   ]
  },
  {
   "cell_type": "code",
   "execution_count": 2,
   "id": "fcb9a3d7",
   "metadata": {},
   "outputs": [
    {
     "data": {
      "text/plain": [
       "9-element Vector{Float64}:\n",
       " 0.0\n",
       " 0.0\n",
       " 1.0\n",
       " 0.0\n",
       " 0.0\n",
       " 0.0\n",
       " 0.0\n",
       " 0.0\n",
       " 0.0"
      ]
     },
     "metadata": {},
     "output_type": "display_data"
    }
   ],
   "source": [
    "psi"
   ]
  },
  {
   "cell_type": "code",
   "execution_count": 30,
   "id": "e264774e",
   "metadata": {},
   "outputs": [
    {
     "name": "stdout",
     "output_type": "stream",
     "text": [
      "  2.591298 seconds (378.22 k allocations: 7.097 GiB, 45.06% gc time)\n"
     ]
    },
    {
     "data": {
      "text/plain": [
       "50-element Vector{Float64}:\n",
       " 0.0\n",
       " 1.3193976832100383\n",
       " 1.5338406801529674\n",
       " 0.18289686408599382\n",
       " 1.0978691067908706\n",
       " 1.702077059499458\n",
       " 0.5421253928293883\n",
       " 0.9201973356557533\n",
       " 1.796846256250215\n",
       " 0.9580673602428957\n",
       " ⋮\n",
       " 1.069531246400797\n",
       " 0.23164414046365495\n",
       " 1.5236532487817225\n",
       " 1.3931467245247533\n",
       " 0.29009357284130993\n",
       " 1.384691579381108\n",
       " 1.6728910077603474\n",
       " 0.5080631687432307\n",
       " 1.2365519407644137"
      ]
     },
     "metadata": {},
     "output_type": "display_data"
    }
   ],
   "source": [
    "include(\"s3_tdvp.jl\")\n",
    "@time entropy = Entropy_t_z(8, 50.0, 1.0, 0.0, 0)"
   ]
  },
  {
   "cell_type": "code",
   "execution_count": 33,
   "id": "eb10ad5b",
   "metadata": {},
   "outputs": [
    {
     "data": {
      "text/plain": [
       "\"/Users/uditvarma/Documents/s3/SvN_half_vs_time_U(t).png\""
      ]
     },
     "metadata": {},
     "output_type": "display_data"
    }
   ],
   "source": [
    "using Plots\n",
    "plot(entropy)\n",
    "savefig(\"SvN_half_vs_time_U(t).png\")"
   ]
  },
  {
   "cell_type": "code",
   "execution_count": 23,
   "id": "095ebd98",
   "metadata": {},
   "outputs": [
    {
     "name": "stdout",
     "output_type": "stream",
     "text": [
      "627.302886 seconds (2.43 G allocations: 1.284 TiB, 36.48% gc time)\n"
     ]
    }
   ],
   "source": [
    "include(\"s3.jl\")\n",
    "@time for shot in 1:100\n",
    "    Entropy_t_z(8, 50.0, 1.0, 1.0, shot)\n",
    "end"
   ]
  },
  {
   "cell_type": "code",
   "execution_count": 37,
   "id": "473d4158",
   "metadata": {},
   "outputs": [
    {
     "data": {
      "text/plain": [
       "\"/Users/uditvarma/Documents/s3/SvN_half_vs_time_U(t)_TDVP.png\""
      ]
     },
     "metadata": {},
     "output_type": "display_data"
    }
   ],
   "source": [
    "plot(Time,SvN_half, label=\"TDVP\")\n",
    "plot!(entropy, label=\"U(t)\")\n",
    "savefig(\"SvN_half_vs_time_U(t)_TDVP.png\")"
   ]
  },
  {
   "cell_type": "code",
   "execution_count": null,
   "id": "a59e6e80",
   "metadata": {},
   "outputs": [],
   "source": []
  }
 ],
 "metadata": {
  "kernelspec": {
   "display_name": "Julia 1.11.5",
   "language": "julia",
   "name": "julia-1.11"
  },
  "language_info": {
   "file_extension": ".jl",
   "mimetype": "application/julia",
   "name": "julia",
   "version": "1.11.5"
  }
 },
 "nbformat": 4,
 "nbformat_minor": 5
}
